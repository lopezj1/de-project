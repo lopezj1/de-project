{
 "cells": [
  {
   "attachments": {},
   "cell_type": "markdown",
   "metadata": {},
   "source": [
    "#### To Do\n",
    "- download each csv file to ../tmp folder\n",
    "- add ../tmp to strblob"
   ]
  },
  {
   "cell_type": "code",
   "execution_count": 75,
   "metadata": {},
   "outputs": [],
   "source": [
    "import pyspark\n",
    "from pyspark.sql import SparkSession\n",
    "from prefect import flow, task\n",
    "from google.cloud import storage\n",
    "import pandas as pd"
   ]
  },
  {
   "cell_type": "code",
   "execution_count": 76,
   "metadata": {},
   "outputs": [],
   "source": [
    "spark = SparkSession.builder \\\n",
    "    .master(\"local[*]\") \\\n",
    "    .appName('test') \\\n",
    "    .getOrCreate()"
   ]
  },
  {
   "cell_type": "code",
   "execution_count": 77,
   "metadata": {},
   "outputs": [],
   "source": [
    "catch_dtype = {'common': str, 'strat_id': str, 'psu_id': int, \n",
    "                'id_code': int, 'MODE_FX': int, 'AREA_X': int, \n",
    "                'ST': int, 'SUB_REG': int, 'WAVE': int, \n",
    "                'year': int, 'month': int, 'kod': str, \n",
    "                'SP_CODE': float, 'CLAIM': float, 'RELEASE': float, \n",
    "                'HARVEST': float, 'CLAIM_UNADJ': int, 'HARVEST_UNADJ': int, \n",
    "                'RELEASE_UNADJ': int, 'tot_len_a': float, 'wgt_a': float, \n",
    "                'tot_len_b1': float, 'wgt_b1': float, 'tot_cat': float, \n",
    "                'wgt_ab1': float, 'tot_len': float, 'Landing': float, \n",
    "                'VAR_ID': str, 'ARX_METHOD': float, 'ALT_FLAG': int, \n",
    "                'fl_reg': int, 'wp_catch_precal': float, 'wp_int': float, \n",
    "                'wp_catch': float, 'date_published': str}\n",
    "\n",
    "trip_dtype = {'prim2_common': str, 'prim1_common': str, 'strat_id': str, \n",
    "              'psu_id': int, 'ADD_HRS': float, 'AREA': int, \n",
    "              'AREA_X': int, 'BOAT_HRS': float, 'CATCH': int, \n",
    "              'CNTRBTRS': int, 'CNTY': int, 'CNTY_RES': int, \n",
    "              'COASTAL': str, 'FFDAYS2': int, 'FFDAYS12': int, \n",
    "              'FIRST': float, 'HRSF': float, 'ID_CODE': int, \n",
    "              'INTSITE': int, 'MODE_F': int, 'MODE_FX': int, \n",
    "              'NUM_TYP2': int, 'NUM_TYP3': int, 'NUM_TYP4': int, \n",
    "              'NUM_TYP6': float, 'ON_LIST': float, 'PARTY': float, \n",
    "              'REG_RES': float, 'ST': int, 'ST_RES': int, \n",
    "              'SUB_REG': int, 'TELEFON': int, 'WAVE': int, \n",
    "              'YEAR': int, 'ASG_CODE': int, 'month': int, \n",
    "              'kod': str, 'MODE_ASG': float, 'new_list': float, \n",
    "              'PRT_CODE': int, 'CELLTYPE': float, 'fshinsp_a': float, \n",
    "              'num_fish_a': float, 'fl_reg': int, 'ADD_PH': int, \n",
    "              'AREA_NC': float, 'COUNTY': str, 'DATE1': str, \n",
    "              'DIST': int, 'F_BY_P': int, 'GEAR': int, \n",
    "              'MODE2001': float, 'MUNI_RES': float, 'MUNI_TRP': float, \n",
    "              'PRIM1': float, 'PRIM2': float, 'PVT_RES': int, \n",
    "              'RIG': int, 'SEP_FISH': int, 'TIME': int, \n",
    "              'ZIP': float, 'AGE': float, 'wp_int': float, \n",
    "              'VAR_ID': str, 'ARX_METHOD': float, 'ALT_FLAG': int, \n",
    "              'LEADER': int, 'date_published': str}\n",
    "\n",
    "size_dtype = {'AREA_X': int, 'ID_CODE': int, 'MODE_FX': int, \n",
    "              'ST': int, 'SUB_REG': int, 'WAVE': int, \n",
    "              'YEAR': int, 'month': int, 'kod': str, \n",
    "              'SP_CODE': float, 'LNGTH': float, 'WGT': float, \n",
    "              'lngth_imp': int, 'wgt_imp': int, 'strat_id': str, \n",
    "              'psu_id': int, 'common': str, 'wgt_unadj': float, \n",
    "              'wp_size': float, 'l_in_bin': float, 'l_cm_bin': float, \n",
    "              'VAR_ID': str, 'ARX_METHOD': float, 'ALT_FLAG': int, \n",
    "              'date_published': str}"
   ]
  },
  {
   "cell_type": "code",
   "execution_count": 78,
   "metadata": {},
   "outputs": [
    {
     "name": "stderr",
     "output_type": "stream",
     "text": [
      "c:\\Users\\jlopez\\AppData\\Local\\Continuum\\anaconda3\\envs\\de_project\\Lib\\site-packages\\prefect\\tasks.py:275: UserWarning: A task named 'create_df' and defined at 'C:\\Users\\jlopez\\AppData\\Local\\Temp\\ipykernel_15792\\2333926177.py:1' conflicts with another task. Consider specifying a unique `name` parameter in the task definition:\n",
      "\n",
      " `@task(name='my_unique_name', ...)`\n",
      "  warnings.warn(\n"
     ]
    }
   ],
   "source": [
    "@task()\n",
    "def create_df(folder: str, bucket) -> list:\n",
    "    \"\"\"Get list of zip folders in GCS bucket\"\"\"\n",
    "    lsblob = list(bucket.list_blobs(prefix=f\"{folder}\"))  # get list of blobs in zip folder of bucket\n",
    "    lsblob = [l.name for l in lsblob]  # only return the filename from the blobs\n",
    "    # lsblob = [l.name.split('/')[1] for l in lsblob]  # only return the filename from the blobs\n",
    "    # strblob = ','.join(lsblob)\n",
    "    # print(strblob)\n",
    "\n",
    "    for blob in lsblob:\n",
    "        with bucket.blob(blob).open('rb') as file:\n",
    "            df = pd.read_csv(file)\n",
    "            break\n",
    "    return df"
   ]
  },
  {
   "cell_type": "code",
   "execution_count": 79,
   "metadata": {},
   "outputs": [
    {
     "name": "stderr",
     "output_type": "stream",
     "text": [
      "c:\\Users\\jlopez\\AppData\\Local\\Continuum\\anaconda3\\envs\\de_project\\Lib\\site-packages\\prefect\\flows.py:214: UserWarning: A flow named 'write-bq' and defined at 'C:\\Users\\jlopez\\AppData\\Local\\Temp\\ipykernel_15792\\1671885404.py:1' conflicts with another flow. Consider specifying a unique `name` parameter in the flow definition:\n",
      "\n",
      " `@flow(name='my_unique_name', ...)`\n",
      "  warnings.warn(\n"
     ]
    }
   ],
   "source": [
    "@flow(log_prints=False)\n",
    "def write_bq(folder: str = \"catch\", bucket_name: str = \"de_project_bucket\") -> None:\n",
    "    \"\"\"Process blob in gcs bucket\"\"\"\n",
    "    storage_client = storage.Client.from_service_account_json(\"../creds.json\")\n",
    "    # bucket_name = \"de_project_bucket\"  # parameterize this\n",
    "    bucket = storage_client.get_bucket(bucket_name)\n",
    "\n",
    "    df = create_df(folder, bucket)\n",
    "    print(df.head())"
   ]
  },
  {
   "cell_type": "code",
   "execution_count": 80,
   "metadata": {},
   "outputs": [
    {
     "data": {
      "text/html": [
       "<pre style=\"white-space:pre;overflow-x:auto;line-height:normal;font-family:Menlo,'DejaVu Sans Mono',consolas,'Courier New',monospace\">23:32:14.669 | <span style=\"color: #008080; text-decoration-color: #008080\">INFO</span>    | prefect.engine - Created flow run<span style=\"color: #800080; text-decoration-color: #800080\"> 'accomplished-ant'</span> for flow<span style=\"color: #800080; text-decoration-color: #800080; font-weight: bold\"> 'write-bq'</span>\n",
       "</pre>\n"
      ],
      "text/plain": [
       "23:32:14.669 | \u001b[36mINFO\u001b[0m    | prefect.engine - Created flow run\u001b[35m 'accomplished-ant'\u001b[0m for flow\u001b[1;35m 'write-bq'\u001b[0m\n"
      ]
     },
     "metadata": {},
     "output_type": "display_data"
    },
    {
     "data": {
      "text/html": [
       "<pre style=\"white-space:pre;overflow-x:auto;line-height:normal;font-family:Menlo,'DejaVu Sans Mono',consolas,'Courier New',monospace\">23:32:16.096 | <span style=\"color: #008080; text-decoration-color: #008080\">INFO</span>    | Flow run<span style=\"color: #800080; text-decoration-color: #800080\"> 'accomplished-ant'</span> - Created task run 'create_df-0' for task 'create_df'\n",
       "</pre>\n"
      ],
      "text/plain": [
       "23:32:16.096 | \u001b[36mINFO\u001b[0m    | Flow run\u001b[35m 'accomplished-ant'\u001b[0m - Created task run 'create_df-0' for task 'create_df'\n"
      ]
     },
     "metadata": {},
     "output_type": "display_data"
    },
    {
     "data": {
      "text/html": [
       "<pre style=\"white-space:pre;overflow-x:auto;line-height:normal;font-family:Menlo,'DejaVu Sans Mono',consolas,'Courier New',monospace\">23:32:16.106 | <span style=\"color: #008080; text-decoration-color: #008080\">INFO</span>    | Flow run<span style=\"color: #800080; text-decoration-color: #800080\"> 'accomplished-ant'</span> - Executing 'create_df-0' immediately...\n",
       "</pre>\n"
      ],
      "text/plain": [
       "23:32:16.106 | \u001b[36mINFO\u001b[0m    | Flow run\u001b[35m 'accomplished-ant'\u001b[0m - Executing 'create_df-0' immediately...\n"
      ]
     },
     "metadata": {},
     "output_type": "display_data"
    },
    {
     "data": {
      "text/html": [
       "<pre style=\"white-space:pre;overflow-x:auto;line-height:normal;font-family:Menlo,'DejaVu Sans Mono',consolas,'Courier New',monospace\">23:32:16.993 | <span style=\"color: #008080; text-decoration-color: #008080\">INFO</span>    | Task run 'create_df-0' - Finished in state <span style=\"color: #008000; text-decoration-color: #008000\">Completed</span>()\n",
       "</pre>\n"
      ],
      "text/plain": [
       "23:32:16.993 | \u001b[36mINFO\u001b[0m    | Task run 'create_df-0' - Finished in state \u001b[32mCompleted\u001b[0m()\n"
      ]
     },
     "metadata": {},
     "output_type": "display_data"
    },
    {
     "name": "stdout",
     "output_type": "stream",
     "text": [
      "Empty DataFrame\n",
      "Columns: [wave, year, st, mode_fx, sub_reg, sp_code, common, VAR_ID, ARX_METHOD, ALT_FLAG, STRAT_ID, date_published]\n",
      "Index: []\n"
     ]
    },
    {
     "data": {
      "text/html": [
       "<pre style=\"white-space:pre;overflow-x:auto;line-height:normal;font-family:Menlo,'DejaVu Sans Mono',consolas,'Courier New',monospace\">23:32:17.189 | <span style=\"color: #008080; text-decoration-color: #008080\">INFO</span>    | Flow run<span style=\"color: #800080; text-decoration-color: #800080\"> 'accomplished-ant'</span> - Finished in state <span style=\"color: #008000; text-decoration-color: #008000\">Completed</span>('All states completed.')\n",
       "</pre>\n"
      ],
      "text/plain": [
       "23:32:17.189 | \u001b[36mINFO\u001b[0m    | Flow run\u001b[35m 'accomplished-ant'\u001b[0m - Finished in state \u001b[32mCompleted\u001b[0m('All states completed.')\n"
      ]
     },
     "metadata": {},
     "output_type": "display_data"
    }
   ],
   "source": [
    "if __name__ == '__main__':\n",
    "    folder = \"size\"\n",
    "    bucket_name = \"de_project_bucket\"\n",
    "    write_bq(folder, bucket_name)  \n",
    "\n"
   ]
  },
  {
   "cell_type": "code",
   "execution_count": null,
   "metadata": {},
   "outputs": [],
   "source": []
  }
 ],
 "metadata": {
  "kernelspec": {
   "display_name": "de_project",
   "language": "python",
   "name": "python3"
  },
  "language_info": {
   "codemirror_mode": {
    "name": "ipython",
    "version": 3
   },
   "file_extension": ".py",
   "mimetype": "text/x-python",
   "name": "python",
   "nbconvert_exporter": "python",
   "pygments_lexer": "ipython3",
   "version": "3.11.2"
  },
  "orig_nbformat": 4,
  "vscode": {
   "interpreter": {
    "hash": "254721729ad41773dee351bfff8b617bf657a0a6ef8ca8070296dad6f2976db6"
   }
  }
 },
 "nbformat": 4,
 "nbformat_minor": 2
}
