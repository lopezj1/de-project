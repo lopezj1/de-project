{
 "cells": [
  {
   "attachments": {},
   "cell_type": "markdown",
   "metadata": {},
   "source": [
    "#### To Do\n",
    "- download each csv file to ../tmp folder\n",
    "- add ../tmp to strblob"
   ]
  },
  {
   "cell_type": "code",
   "execution_count": 11,
   "metadata": {},
   "outputs": [],
   "source": [
    "import pyspark\n",
    "from pyspark.sql import SparkSession\n",
    "from prefect import flow, task\n",
    "from google.cloud import storage"
   ]
  },
  {
   "cell_type": "code",
   "execution_count": 12,
   "metadata": {},
   "outputs": [],
   "source": [
    "spark = SparkSession.builder \\\n",
    "    .master(\"local[*]\") \\\n",
    "    .appName('test') \\\n",
    "    .getOrCreate()"
   ]
  },
  {
   "cell_type": "code",
   "execution_count": 13,
   "metadata": {},
   "outputs": [],
   "source": [
    "catch_dtype = {'common': str, 'strat_id': str, 'psu_id': int, \n",
    "                'id_code': int, 'MODE_FX': int, 'AREA_X': int, \n",
    "                'ST': int, 'SUB_REG': int, 'WAVE': int, \n",
    "                'year': int, 'month': int, 'kod': str, \n",
    "                'SP_CODE': float, 'CLAIM': float, 'RELEASE': float, \n",
    "                'HARVEST': float, 'CLAIM_UNADJ': int, 'HARVEST_UNADJ': int, \n",
    "                'RELEASE_UNADJ': int, 'tot_len_a': float, 'wgt_a': float, \n",
    "                'tot_len_b1': float, 'wgt_b1': float, 'tot_cat': float, \n",
    "                'wgt_ab1': float, 'tot_len': float, 'Landing': float, \n",
    "                'VAR_ID': str, 'ARX_METHOD': float, 'ALT_FLAG': int, \n",
    "                'fl_reg': int, 'wp_catch_precal': float, 'wp_int': float, \n",
    "                'wp_catch': float, 'date_published': str}\n",
    "\n",
    "trip_dtype = {'prim2_common': str, 'prim1_common': str, 'strat_id': str, \n",
    "              'psu_id': int, 'ADD_HRS': float, 'AREA': int, \n",
    "              'AREA_X': int, 'BOAT_HRS': float, 'CATCH': int, \n",
    "              'CNTRBTRS': int, 'CNTY': int, 'CNTY_RES': int, \n",
    "              'COASTAL': str, 'FFDAYS2': int, 'FFDAYS12': int, \n",
    "              'FIRST': float, 'HRSF': float, 'ID_CODE': int, \n",
    "              'INTSITE': int, 'MODE_F': int, 'MODE_FX': int, \n",
    "              'NUM_TYP2': int, 'NUM_TYP3': int, 'NUM_TYP4': int, \n",
    "              'NUM_TYP6': float, 'ON_LIST': float, 'PARTY': float, \n",
    "              'REG_RES': float, 'ST': int, 'ST_RES': int, \n",
    "              'SUB_REG': int, 'TELEFON': int, 'WAVE': int, \n",
    "              'YEAR': int, 'ASG_CODE': int, 'month': int, \n",
    "              'kod': str, 'MODE_ASG': float, 'new_list': float, \n",
    "              'PRT_CODE': int, 'CELLTYPE': float, 'fshinsp_a': float, \n",
    "              'num_fish_a': float, 'fl_reg': int, 'ADD_PH': int, \n",
    "              'AREA_NC': float, 'COUNTY': str, 'DATE1': str, \n",
    "              'DIST': int, 'F_BY_P': int, 'GEAR': int, \n",
    "              'MODE2001': float, 'MUNI_RES': float, 'MUNI_TRP': float, \n",
    "              'PRIM1': float, 'PRIM2': float, 'PVT_RES': int, \n",
    "              'RIG': int, 'SEP_FISH': int, 'TIME': int, \n",
    "              'ZIP': float, 'AGE': float, 'wp_int': float, \n",
    "              'VAR_ID': str, 'ARX_METHOD': float, 'ALT_FLAG': int, \n",
    "              'LEADER': int, 'date_published': str}\n",
    "\n",
    "size_dtype = {'AREA_X': int, 'ID_CODE': int, 'MODE_FX': int, \n",
    "              'ST': int, 'SUB_REG': int, 'WAVE': int, \n",
    "              'YEAR': int, 'month': int, 'kod': str, \n",
    "              'SP_CODE': float, 'LNGTH': float, 'WGT': float, \n",
    "              'lngth_imp': int, 'wgt_imp': int, 'strat_id': str, \n",
    "              'psu_id': int, 'common': str, 'wgt_unadj': float, \n",
    "              'wp_size': float, 'l_in_bin': float, 'l_cm_bin': float, \n",
    "              'VAR_ID': str, 'ARX_METHOD': float, 'ALT_FLAG': int, \n",
    "              'date_published': str}"
   ]
  },
  {
   "cell_type": "code",
   "execution_count": 14,
   "metadata": {},
   "outputs": [
    {
     "name": "stderr",
     "output_type": "stream",
     "text": [
      "c:\\Users\\jlopez\\AppData\\Local\\Continuum\\anaconda3\\envs\\de_project\\Lib\\site-packages\\prefect\\tasks.py:275: UserWarning: A task named 'create_df' and defined at 'C:\\Users\\jlopez\\AppData\\Local\\Temp\\ipykernel_23604\\1023419110.py:1' conflicts with another task. Consider specifying a unique `name` parameter in the task definition:\n",
      "\n",
      " `@task(name='my_unique_name', ...)`\n",
      "  warnings.warn(\n"
     ]
    }
   ],
   "source": [
    "@task()\n",
    "def create_df(folder: str, bucket) -> list:\n",
    "    \"\"\"Get list of zip folders in GCS bucket\"\"\"\n",
    "    lsblob = list(bucket.list_blobs(prefix=f\"{folder}\"))  # get list of blobs in zip folder of bucket\n",
    "    lsblob = [l.name for l in lsblob]  # only return the filename from the blobs\n",
    "    strblob = ','.join(lsblob)\n",
    "    print(strblob)\n",
    "\n",
    "    df = spark.read.csv(strblob)\n",
    "    return df"
   ]
  },
  {
   "cell_type": "code",
   "execution_count": 15,
   "metadata": {},
   "outputs": [
    {
     "name": "stderr",
     "output_type": "stream",
     "text": [
      "c:\\Users\\jlopez\\AppData\\Local\\Continuum\\anaconda3\\envs\\de_project\\Lib\\site-packages\\prefect\\flows.py:214: UserWarning: A flow named 'write-bq' and defined at 'C:\\Users\\jlopez\\AppData\\Local\\Temp\\ipykernel_23604\\1671885404.py:1' conflicts with another flow. Consider specifying a unique `name` parameter in the flow definition:\n",
      "\n",
      " `@flow(name='my_unique_name', ...)`\n",
      "  warnings.warn(\n"
     ]
    }
   ],
   "source": [
    "@flow(log_prints=False)\n",
    "def write_bq(folder: str = \"catch\", bucket_name: str = \"de_project_bucket\") -> None:\n",
    "    \"\"\"Process blob in gcs bucket\"\"\"\n",
    "    storage_client = storage.Client.from_service_account_json(\"../creds.json\")\n",
    "    # bucket_name = \"de_project_bucket\"  # parameterize this\n",
    "    bucket = storage_client.get_bucket(bucket_name)\n",
    "\n",
    "    df = create_df(folder, bucket)\n",
    "    print(df.head())"
   ]
  },
  {
   "cell_type": "code",
   "execution_count": 16,
   "metadata": {},
   "outputs": [
    {
     "data": {
      "text/html": [
       "<pre style=\"white-space:pre;overflow-x:auto;line-height:normal;font-family:Menlo,'DejaVu Sans Mono',consolas,'Courier New',monospace\">22:59:50.417 | <span style=\"color: #008080; text-decoration-color: #008080\">INFO</span>    | prefect.engine - Created flow run<span style=\"color: #800080; text-decoration-color: #800080\"> 'hot-mule'</span> for flow<span style=\"color: #800080; text-decoration-color: #800080; font-weight: bold\"> 'write-bq'</span>\n",
       "</pre>\n"
      ],
      "text/plain": [
       "22:59:50.417 | \u001b[36mINFO\u001b[0m    | prefect.engine - Created flow run\u001b[35m 'hot-mule'\u001b[0m for flow\u001b[1;35m 'write-bq'\u001b[0m\n"
      ]
     },
     "metadata": {},
     "output_type": "display_data"
    },
    {
     "data": {
      "text/html": [
       "<pre style=\"white-space:pre;overflow-x:auto;line-height:normal;font-family:Menlo,'DejaVu Sans Mono',consolas,'Courier New',monospace\">22:59:51.182 | <span style=\"color: #008080; text-decoration-color: #008080\">INFO</span>    | Flow run<span style=\"color: #800080; text-decoration-color: #800080\"> 'hot-mule'</span> - Created task run 'create_df-0' for task 'create_df'\n",
       "</pre>\n"
      ],
      "text/plain": [
       "22:59:51.182 | \u001b[36mINFO\u001b[0m    | Flow run\u001b[35m 'hot-mule'\u001b[0m - Created task run 'create_df-0' for task 'create_df'\n"
      ]
     },
     "metadata": {},
     "output_type": "display_data"
    },
    {
     "data": {
      "text/html": [
       "<pre style=\"white-space:pre;overflow-x:auto;line-height:normal;font-family:Menlo,'DejaVu Sans Mono',consolas,'Courier New',monospace\">22:59:51.186 | <span style=\"color: #008080; text-decoration-color: #008080\">INFO</span>    | Flow run<span style=\"color: #800080; text-decoration-color: #800080\"> 'hot-mule'</span> - Executing 'create_df-0' immediately...\n",
       "</pre>\n"
      ],
      "text/plain": [
       "22:59:51.186 | \u001b[36mINFO\u001b[0m    | Flow run\u001b[35m 'hot-mule'\u001b[0m - Executing 'create_df-0' immediately...\n"
      ]
     },
     "metadata": {},
     "output_type": "display_data"
    },
    {
     "name": "stdout",
     "output_type": "stream",
     "text": [
      "size/size_19811.csv,size/size_19812.csv,size/size_19813.csv,size/size_19814.csv,size/size_19815.csv,size/size_19816.csv,size/size_19821.csv,size/size_19822.csv,size/size_19823.csv,size/size_19824.csv,size/size_19825.csv,size/size_19826.csv,size/size_19831.csv,size/size_19832.csv,size/size_19833.csv,size/size_19834.csv,size/size_19835.csv,size/size_19836.csv,size/size_19841.csv,size/size_19842.csv,size/size_19843.csv,size/size_19844.csv,size/size_19845.csv,size/size_19846.csv,size/size_19851.csv,size/size_19852.csv,size/size_19853.csv,size/size_19854.csv,size/size_19855.csv,size/size_19856.csv,size/size_19861.csv,size/size_19862.csv,size/size_19863.csv,size/size_19864.csv,size/size_19865.csv,size/size_19866.csv,size/size_19871.csv,size/size_19872.csv,size/size_19873.csv,size/size_19874.csv,size/size_19875.csv,size/size_19876.csv,size/size_19881.csv,size/size_19882.csv,size/size_19883.csv,size/size_19884.csv,size/size_19885.csv,size/size_19886.csv,size/size_19891.csv,size/size_19892.csv,size/size_19893.csv,size/size_19894.csv,size/size_19895.csv,size/size_19896.csv\n"
     ]
    },
    {
     "data": {
      "text/html": [
       "<pre style=\"white-space:pre;overflow-x:auto;line-height:normal;font-family:Menlo,'DejaVu Sans Mono',consolas,'Courier New',monospace\">22:59:53.231 | <span style=\"color: #d70000; text-decoration-color: #d70000\">ERROR</span>   | Task run 'create_df-0' - Encountered exception during execution:\n",
       "Traceback (most recent call last):\n",
       "  File \"c:\\Users\\jlopez\\AppData\\Local\\Continuum\\anaconda3\\envs\\de_project\\Lib\\site-packages\\prefect\\engine.py\", line 1545, in orchestrate_task_run\n",
       "    result = await call.aresult()\n",
       "             ^^^^^^^^^^^^^^^^^^^^\n",
       "  File \"c:\\Users\\jlopez\\AppData\\Local\\Continuum\\anaconda3\\envs\\de_project\\Lib\\site-packages\\prefect\\_internal\\concurrency\\calls.py\", line 181, in aresult\n",
       "    return await asyncio.wrap_future(self.future)\n",
       "           ^^^^^^^^^^^^^^^^^^^^^^^^^^^^^^^^^^^^^^\n",
       "  File \"c:\\Users\\jlopez\\AppData\\Local\\Continuum\\anaconda3\\envs\\de_project\\Lib\\site-packages\\prefect\\_internal\\concurrency\\calls.py\", line 194, in _run_sync\n",
       "    result = self.fn(*self.args, **self.kwargs)\n",
       "             ^^^^^^^^^^^^^^^^^^^^^^^^^^^^^^^^^^\n",
       "  File \"C:\\Users\\jlopez\\AppData\\Local\\Temp\\ipykernel_23604\\1023419110.py\", line 9, in create_df\n",
       "    df = spark.read.csv(strblob)\n",
       "         ^^^^^^^^^^^^^^^^^^^^^^^\n",
       "  File \"c:\\Users\\jlopez\\AppData\\Local\\Continuum\\anaconda3\\envs\\de_project\\Lib\\site-packages\\pyspark\\sql\\readwriter.py\", line 535, in csv\n",
       "    return self._df(self._jreader.csv(self._spark._sc._jvm.PythonUtils.toSeq(path)))\n",
       "                    ^^^^^^^^^^^^^^^^^^^^^^^^^^^^^^^^^^^^^^^^^^^^^^^^^^^^^^^^^^^^^^^\n",
       "  File \"c:\\Users\\jlopez\\AppData\\Local\\Continuum\\anaconda3\\envs\\de_project\\Lib\\site-packages\\py4j\\java_gateway.py\", line 1321, in __call__\n",
       "    return_value = get_return_value(\n",
       "                   ^^^^^^^^^^^^^^^^^\n",
       "  File \"c:\\Users\\jlopez\\AppData\\Local\\Continuum\\anaconda3\\envs\\de_project\\Lib\\site-packages\\pyspark\\sql\\utils.py\", line 196, in deco\n",
       "    raise converted from None\n",
       "pyspark.sql.utils.AnalysisException: Path does not exist: file:/c:/Users/jlopez/Dropbox/de-project/notebooks/size/size_19811.csv,size/size_19812.csv,size/size_19813.csv,size/size_19814.csv,size/size_19815.csv,size/size_19816.csv,size/size_19821.csv,size/size_19822.csv,size/size_19823.csv,size/size_19824.csv,size/size_19825.csv,size/size_19826.csv,size/size_19831.csv,size/size_19832.csv,size/size_19833.csv,size/size_19834.csv,size/size_19835.csv,size/size_19836.csv,size/size_19841.csv,size/size_19842.csv,size/size_19843.csv,size/size_19844.csv,size/size_19845.csv,size/size_19846.csv,size/size_19851.csv,size/size_19852.csv,size/size_19853.csv,size/size_19854.csv,size/size_19855.csv,size/size_19856.csv,size/size_19861.csv,size/size_19862.csv,size/size_19863.csv,size/size_19864.csv,size/size_19865.csv,size/size_19866.csv,size/size_19871.csv,size/size_19872.csv,size/size_19873.csv,size/size_19874.csv,size/size_19875.csv,size/size_19876.csv,size/size_19881.csv,size/size_19882.csv,size/size_19883.csv,size/size_19884.csv,size/size_19885.csv,size/size_19886.csv,size/size_19891.csv,size/size_19892.csv,size/size_19893.csv,size/size_19894.csv,size/size_19895.csv,size/size_19896.csv\n",
       "</pre>\n"
      ],
      "text/plain": [
       "22:59:53.231 | \u001b[38;5;160mERROR\u001b[0m   | Task run 'create_df-0' - Encountered exception during execution:\n",
       "Traceback (most recent call last):\n",
       "  File \"c:\\Users\\jlopez\\AppData\\Local\\Continuum\\anaconda3\\envs\\de_project\\Lib\\site-packages\\prefect\\engine.py\", line 1545, in orchestrate_task_run\n",
       "    result = await call.aresult()\n",
       "             ^^^^^^^^^^^^^^^^^^^^\n",
       "  File \"c:\\Users\\jlopez\\AppData\\Local\\Continuum\\anaconda3\\envs\\de_project\\Lib\\site-packages\\prefect\\_internal\\concurrency\\calls.py\", line 181, in aresult\n",
       "    return await asyncio.wrap_future(self.future)\n",
       "           ^^^^^^^^^^^^^^^^^^^^^^^^^^^^^^^^^^^^^^\n",
       "  File \"c:\\Users\\jlopez\\AppData\\Local\\Continuum\\anaconda3\\envs\\de_project\\Lib\\site-packages\\prefect\\_internal\\concurrency\\calls.py\", line 194, in _run_sync\n",
       "    result = self.fn(*self.args, **self.kwargs)\n",
       "             ^^^^^^^^^^^^^^^^^^^^^^^^^^^^^^^^^^\n",
       "  File \"C:\\Users\\jlopez\\AppData\\Local\\Temp\\ipykernel_23604\\1023419110.py\", line 9, in create_df\n",
       "    df = spark.read.csv(strblob)\n",
       "         ^^^^^^^^^^^^^^^^^^^^^^^\n",
       "  File \"c:\\Users\\jlopez\\AppData\\Local\\Continuum\\anaconda3\\envs\\de_project\\Lib\\site-packages\\pyspark\\sql\\readwriter.py\", line 535, in csv\n",
       "    return self._df(self._jreader.csv(self._spark._sc._jvm.PythonUtils.toSeq(path)))\n",
       "                    ^^^^^^^^^^^^^^^^^^^^^^^^^^^^^^^^^^^^^^^^^^^^^^^^^^^^^^^^^^^^^^^\n",
       "  File \"c:\\Users\\jlopez\\AppData\\Local\\Continuum\\anaconda3\\envs\\de_project\\Lib\\site-packages\\py4j\\java_gateway.py\", line 1321, in __call__\n",
       "    return_value = get_return_value(\n",
       "                   ^^^^^^^^^^^^^^^^^\n",
       "  File \"c:\\Users\\jlopez\\AppData\\Local\\Continuum\\anaconda3\\envs\\de_project\\Lib\\site-packages\\pyspark\\sql\\utils.py\", line 196, in deco\n",
       "    raise converted from None\n",
       "pyspark.sql.utils.AnalysisException: Path does not exist: file:/c:/Users/jlopez/Dropbox/de-project/notebooks/size/size_19811.csv,size/size_19812.csv,size/size_19813.csv,size/size_19814.csv,size/size_19815.csv,size/size_19816.csv,size/size_19821.csv,size/size_19822.csv,size/size_19823.csv,size/size_19824.csv,size/size_19825.csv,size/size_19826.csv,size/size_19831.csv,size/size_19832.csv,size/size_19833.csv,size/size_19834.csv,size/size_19835.csv,size/size_19836.csv,size/size_19841.csv,size/size_19842.csv,size/size_19843.csv,size/size_19844.csv,size/size_19845.csv,size/size_19846.csv,size/size_19851.csv,size/size_19852.csv,size/size_19853.csv,size/size_19854.csv,size/size_19855.csv,size/size_19856.csv,size/size_19861.csv,size/size_19862.csv,size/size_19863.csv,size/size_19864.csv,size/size_19865.csv,size/size_19866.csv,size/size_19871.csv,size/size_19872.csv,size/size_19873.csv,size/size_19874.csv,size/size_19875.csv,size/size_19876.csv,size/size_19881.csv,size/size_19882.csv,size/size_19883.csv,size/size_19884.csv,size/size_19885.csv,size/size_19886.csv,size/size_19891.csv,size/size_19892.csv,size/size_19893.csv,size/size_19894.csv,size/size_19895.csv,size/size_19896.csv\n"
      ]
     },
     "metadata": {},
     "output_type": "display_data"
    },
    {
     "data": {
      "text/html": [
       "<pre style=\"white-space:pre;overflow-x:auto;line-height:normal;font-family:Menlo,'DejaVu Sans Mono',consolas,'Courier New',monospace\">22:59:53.359 | <span style=\"color: #d70000; text-decoration-color: #d70000\">ERROR</span>   | Task run 'create_df-0' - Finished in state <span style=\"color: #d70000; text-decoration-color: #d70000\">Failed</span>('Task run encountered an exception: pyspark.sql.utils.AnalysisException: Path does not exist: file:/c:/Users/jlopez/Dropbox/de-project/notebooks/size/size_19811.csv,size/size_19812.csv,size/size_19813.csv,size/size_19814.csv,size/size_19815.csv,size/size_19816.csv,size/size_19821.csv,size/size_19822.csv,size/size_19823.csv,size/size_19824.csv,size/size_19825.csv,size/size_19826.csv,size/size_19831.csv,size/size_19832.csv,size/size_19833.csv,size/size_19834.csv,size/size_19835.csv,size/size_19836.csv,size/size_19841.csv,size/size_19842.csv,size/size_19843.csv,size/size_19844.csv,size/size_19845.csv,size/size_19846.csv,size/size_19851.csv,size/size_19852.csv,size/size_19853.csv,size/size_19854.csv,size/size_19855.csv,size/size_19856.csv,size/size_19861.csv,size/size_19862.csv,size/size_19863.csv,size/size_19864.csv,size/size_19865.csv,size/size_19866.csv,size/size_19871.csv,size/size_19872.csv,size/size_19873.csv,size/size_19874.csv,size/size_19875.csv,size/size_19876.csv,size/size_19881.csv,size/size_19882.csv,size/size_19883.csv,size/size_19884.csv,size/size_19885.csv,size/size_19886.csv,size/size_19891.csv,size/size_19892.csv,size/size_19893.csv,size/size_19894.csv,size/size_19895.csv,size/size_19896.csv\\n')\n",
       "</pre>\n"
      ],
      "text/plain": [
       "22:59:53.359 | \u001b[38;5;160mERROR\u001b[0m   | Task run 'create_df-0' - Finished in state \u001b[38;5;160mFailed\u001b[0m('Task run encountered an exception: pyspark.sql.utils.AnalysisException: Path does not exist: file:/c:/Users/jlopez/Dropbox/de-project/notebooks/size/size_19811.csv,size/size_19812.csv,size/size_19813.csv,size/size_19814.csv,size/size_19815.csv,size/size_19816.csv,size/size_19821.csv,size/size_19822.csv,size/size_19823.csv,size/size_19824.csv,size/size_19825.csv,size/size_19826.csv,size/size_19831.csv,size/size_19832.csv,size/size_19833.csv,size/size_19834.csv,size/size_19835.csv,size/size_19836.csv,size/size_19841.csv,size/size_19842.csv,size/size_19843.csv,size/size_19844.csv,size/size_19845.csv,size/size_19846.csv,size/size_19851.csv,size/size_19852.csv,size/size_19853.csv,size/size_19854.csv,size/size_19855.csv,size/size_19856.csv,size/size_19861.csv,size/size_19862.csv,size/size_19863.csv,size/size_19864.csv,size/size_19865.csv,size/size_19866.csv,size/size_19871.csv,size/size_19872.csv,size/size_19873.csv,size/size_19874.csv,size/size_19875.csv,size/size_19876.csv,size/size_19881.csv,size/size_19882.csv,size/size_19883.csv,size/size_19884.csv,size/size_19885.csv,size/size_19886.csv,size/size_19891.csv,size/size_19892.csv,size/size_19893.csv,size/size_19894.csv,size/size_19895.csv,size/size_19896.csv\\n')\n"
      ]
     },
     "metadata": {},
     "output_type": "display_data"
    },
    {
     "data": {
      "text/html": [
       "<pre style=\"white-space:pre;overflow-x:auto;line-height:normal;font-family:Menlo,'DejaVu Sans Mono',consolas,'Courier New',monospace\">22:59:53.365 | <span style=\"color: #d70000; text-decoration-color: #d70000\">ERROR</span>   | Flow run<span style=\"color: #800080; text-decoration-color: #800080\"> 'hot-mule'</span> - Encountered exception during execution:\n",
       "Traceback (most recent call last):\n",
       "  File \"c:\\Users\\jlopez\\AppData\\Local\\Continuum\\anaconda3\\envs\\de_project\\Lib\\site-packages\\prefect\\engine.py\", line 673, in orchestrate_flow_run\n",
       "    result = await flow_call.aresult()\n",
       "             ^^^^^^^^^^^^^^^^^^^^^^^^^\n",
       "  File \"c:\\Users\\jlopez\\AppData\\Local\\Continuum\\anaconda3\\envs\\de_project\\Lib\\site-packages\\prefect\\_internal\\concurrency\\calls.py\", line 181, in aresult\n",
       "    return await asyncio.wrap_future(self.future)\n",
       "           ^^^^^^^^^^^^^^^^^^^^^^^^^^^^^^^^^^^^^^\n",
       "  File \"c:\\Users\\jlopez\\AppData\\Local\\Continuum\\anaconda3\\envs\\de_project\\Lib\\site-packages\\prefect\\_internal\\concurrency\\calls.py\", line 194, in _run_sync\n",
       "    result = self.fn(*self.args, **self.kwargs)\n",
       "             ^^^^^^^^^^^^^^^^^^^^^^^^^^^^^^^^^^\n",
       "  File \"C:\\Users\\jlopez\\AppData\\Local\\Temp\\ipykernel_23604\\1671885404.py\", line 8, in write_bq\n",
       "    df = create_df(folder, bucket)\n",
       "         ^^^^^^^^^^^^^^^^^^^^^^^^^\n",
       "  File \"c:\\Users\\jlopez\\AppData\\Local\\Continuum\\anaconda3\\envs\\de_project\\Lib\\site-packages\\prefect\\tasks.py\", line 474, in __call__\n",
       "    return enter_task_run_engine(\n",
       "           ^^^^^^^^^^^^^^^^^^^^^^\n",
       "  File \"c:\\Users\\jlopez\\AppData\\Local\\Continuum\\anaconda3\\envs\\de_project\\Lib\\site-packages\\prefect\\engine.py\", line 976, in enter_task_run_engine\n",
       "    return from_sync.wait_for_call_in_loop_thread(begin_run)\n",
       "           ^^^^^^^^^^^^^^^^^^^^^^^^^^^^^^^^^^^^^^^^^^^^^^^^^\n",
       "  File \"c:\\Users\\jlopez\\AppData\\Local\\Continuum\\anaconda3\\envs\\de_project\\Lib\\site-packages\\prefect\\_internal\\concurrency\\api.py\", line 137, in wait_for_call_in_loop_thread\n",
       "    return call.result()\n",
       "           ^^^^^^^^^^^^^\n",
       "  File \"c:\\Users\\jlopez\\AppData\\Local\\Continuum\\anaconda3\\envs\\de_project\\Lib\\site-packages\\prefect\\_internal\\concurrency\\calls.py\", line 173, in result\n",
       "    return self.future.result(timeout=timeout)\n",
       "           ^^^^^^^^^^^^^^^^^^^^^^^^^^^^^^^^^^^\n",
       "  File \"c:\\Users\\jlopez\\AppData\\Local\\Continuum\\anaconda3\\envs\\de_project\\Lib\\concurrent\\futures\\_base.py\", line 449, in result\n",
       "    return self.__get_result()\n",
       "           ^^^^^^^^^^^^^^^^^^^\n",
       "  File \"c:\\Users\\jlopez\\AppData\\Local\\Continuum\\anaconda3\\envs\\de_project\\Lib\\concurrent\\futures\\_base.py\", line 401, in __get_result\n",
       "    raise self._exception\n",
       "  File \"c:\\Users\\jlopez\\AppData\\Local\\Continuum\\anaconda3\\envs\\de_project\\Lib\\site-packages\\prefect\\_internal\\concurrency\\calls.py\", line 218, in _run_async\n",
       "    result = await coro\n",
       "             ^^^^^^^^^^\n",
       "  File \"c:\\Users\\jlopez\\AppData\\Local\\Continuum\\anaconda3\\envs\\de_project\\Lib\\site-packages\\prefect\\engine.py\", line 1131, in get_task_call_return_value\n",
       "    return await future._result()\n",
       "           ^^^^^^^^^^^^^^^^^^^^^^\n",
       "  File \"c:\\Users\\jlopez\\AppData\\Local\\Continuum\\anaconda3\\envs\\de_project\\Lib\\site-packages\\prefect\\futures.py\", line 240, in _result\n",
       "    return await final_state.result(raise_on_failure=raise_on_failure, fetch=True)\n",
       "           ^^^^^^^^^^^^^^^^^^^^^^^^^^^^^^^^^^^^^^^^^^^^^^^^^^^^^^^^^^^^^^^^^^^^^^^\n",
       "  File \"c:\\Users\\jlopez\\AppData\\Local\\Continuum\\anaconda3\\envs\\de_project\\Lib\\site-packages\\prefect\\states.py\", line 91, in _get_state_result\n",
       "    raise await get_state_exception(state)\n",
       "  File \"c:\\Users\\jlopez\\AppData\\Local\\Continuum\\anaconda3\\envs\\de_project\\Lib\\site-packages\\prefect\\engine.py\", line 1545, in orchestrate_task_run\n",
       "    result = await call.aresult()\n",
       "             ^^^^^^^^^^^^^^^^^^^^\n",
       "  File \"c:\\Users\\jlopez\\AppData\\Local\\Continuum\\anaconda3\\envs\\de_project\\Lib\\site-packages\\prefect\\_internal\\concurrency\\calls.py\", line 181, in aresult\n",
       "    return await asyncio.wrap_future(self.future)\n",
       "           ^^^^^^^^^^^^^^^^^^^^^^^^^^^^^^^^^^^^^^\n",
       "  File \"c:\\Users\\jlopez\\AppData\\Local\\Continuum\\anaconda3\\envs\\de_project\\Lib\\site-packages\\prefect\\_internal\\concurrency\\calls.py\", line 194, in _run_sync\n",
       "    result = self.fn(*self.args, **self.kwargs)\n",
       "             ^^^^^^^^^^^^^^^^^^^^^^^^^^^^^^^^^^\n",
       "  File \"C:\\Users\\jlopez\\AppData\\Local\\Temp\\ipykernel_23604\\1023419110.py\", line 9, in create_df\n",
       "    df = spark.read.csv(strblob)\n",
       "         ^^^^^^^^^^^^^^^^^^^^^^^\n",
       "  File \"c:\\Users\\jlopez\\AppData\\Local\\Continuum\\anaconda3\\envs\\de_project\\Lib\\site-packages\\pyspark\\sql\\readwriter.py\", line 535, in csv\n",
       "    return self._df(self._jreader.csv(self._spark._sc._jvm.PythonUtils.toSeq(path)))\n",
       "                    ^^^^^^^^^^^^^^^^^^^^^^^^^^^^^^^^^^^^^^^^^^^^^^^^^^^^^^^^^^^^^^^\n",
       "  File \"c:\\Users\\jlopez\\AppData\\Local\\Continuum\\anaconda3\\envs\\de_project\\Lib\\site-packages\\py4j\\java_gateway.py\", line 1321, in __call__\n",
       "    return_value = get_return_value(\n",
       "                   ^^^^^^^^^^^^^^^^^\n",
       "  File \"c:\\Users\\jlopez\\AppData\\Local\\Continuum\\anaconda3\\envs\\de_project\\Lib\\site-packages\\pyspark\\sql\\utils.py\", line 196, in deco\n",
       "    raise converted from None\n",
       "pyspark.sql.utils.AnalysisException: Path does not exist: file:/c:/Users/jlopez/Dropbox/de-project/notebooks/size/size_19811.csv,size/size_19812.csv,size/size_19813.csv,size/size_19814.csv,size/size_19815.csv,size/size_19816.csv,size/size_19821.csv,size/size_19822.csv,size/size_19823.csv,size/size_19824.csv,size/size_19825.csv,size/size_19826.csv,size/size_19831.csv,size/size_19832.csv,size/size_19833.csv,size/size_19834.csv,size/size_19835.csv,size/size_19836.csv,size/size_19841.csv,size/size_19842.csv,size/size_19843.csv,size/size_19844.csv,size/size_19845.csv,size/size_19846.csv,size/size_19851.csv,size/size_19852.csv,size/size_19853.csv,size/size_19854.csv,size/size_19855.csv,size/size_19856.csv,size/size_19861.csv,size/size_19862.csv,size/size_19863.csv,size/size_19864.csv,size/size_19865.csv,size/size_19866.csv,size/size_19871.csv,size/size_19872.csv,size/size_19873.csv,size/size_19874.csv,size/size_19875.csv,size/size_19876.csv,size/size_19881.csv,size/size_19882.csv,size/size_19883.csv,size/size_19884.csv,size/size_19885.csv,size/size_19886.csv,size/size_19891.csv,size/size_19892.csv,size/size_19893.csv,size/size_19894.csv,size/size_19895.csv,size/size_19896.csv\n",
       "</pre>\n"
      ],
      "text/plain": [
       "22:59:53.365 | \u001b[38;5;160mERROR\u001b[0m   | Flow run\u001b[35m 'hot-mule'\u001b[0m - Encountered exception during execution:\n",
       "Traceback (most recent call last):\n",
       "  File \"c:\\Users\\jlopez\\AppData\\Local\\Continuum\\anaconda3\\envs\\de_project\\Lib\\site-packages\\prefect\\engine.py\", line 673, in orchestrate_flow_run\n",
       "    result = await flow_call.aresult()\n",
       "             ^^^^^^^^^^^^^^^^^^^^^^^^^\n",
       "  File \"c:\\Users\\jlopez\\AppData\\Local\\Continuum\\anaconda3\\envs\\de_project\\Lib\\site-packages\\prefect\\_internal\\concurrency\\calls.py\", line 181, in aresult\n",
       "    return await asyncio.wrap_future(self.future)\n",
       "           ^^^^^^^^^^^^^^^^^^^^^^^^^^^^^^^^^^^^^^\n",
       "  File \"c:\\Users\\jlopez\\AppData\\Local\\Continuum\\anaconda3\\envs\\de_project\\Lib\\site-packages\\prefect\\_internal\\concurrency\\calls.py\", line 194, in _run_sync\n",
       "    result = self.fn(*self.args, **self.kwargs)\n",
       "             ^^^^^^^^^^^^^^^^^^^^^^^^^^^^^^^^^^\n",
       "  File \"C:\\Users\\jlopez\\AppData\\Local\\Temp\\ipykernel_23604\\1671885404.py\", line 8, in write_bq\n",
       "    df = create_df(folder, bucket)\n",
       "         ^^^^^^^^^^^^^^^^^^^^^^^^^\n",
       "  File \"c:\\Users\\jlopez\\AppData\\Local\\Continuum\\anaconda3\\envs\\de_project\\Lib\\site-packages\\prefect\\tasks.py\", line 474, in __call__\n",
       "    return enter_task_run_engine(\n",
       "           ^^^^^^^^^^^^^^^^^^^^^^\n",
       "  File \"c:\\Users\\jlopez\\AppData\\Local\\Continuum\\anaconda3\\envs\\de_project\\Lib\\site-packages\\prefect\\engine.py\", line 976, in enter_task_run_engine\n",
       "    return from_sync.wait_for_call_in_loop_thread(begin_run)\n",
       "           ^^^^^^^^^^^^^^^^^^^^^^^^^^^^^^^^^^^^^^^^^^^^^^^^^\n",
       "  File \"c:\\Users\\jlopez\\AppData\\Local\\Continuum\\anaconda3\\envs\\de_project\\Lib\\site-packages\\prefect\\_internal\\concurrency\\api.py\", line 137, in wait_for_call_in_loop_thread\n",
       "    return call.result()\n",
       "           ^^^^^^^^^^^^^\n",
       "  File \"c:\\Users\\jlopez\\AppData\\Local\\Continuum\\anaconda3\\envs\\de_project\\Lib\\site-packages\\prefect\\_internal\\concurrency\\calls.py\", line 173, in result\n",
       "    return self.future.result(timeout=timeout)\n",
       "           ^^^^^^^^^^^^^^^^^^^^^^^^^^^^^^^^^^^\n",
       "  File \"c:\\Users\\jlopez\\AppData\\Local\\Continuum\\anaconda3\\envs\\de_project\\Lib\\concurrent\\futures\\_base.py\", line 449, in result\n",
       "    return self.__get_result()\n",
       "           ^^^^^^^^^^^^^^^^^^^\n",
       "  File \"c:\\Users\\jlopez\\AppData\\Local\\Continuum\\anaconda3\\envs\\de_project\\Lib\\concurrent\\futures\\_base.py\", line 401, in __get_result\n",
       "    raise self._exception\n",
       "  File \"c:\\Users\\jlopez\\AppData\\Local\\Continuum\\anaconda3\\envs\\de_project\\Lib\\site-packages\\prefect\\_internal\\concurrency\\calls.py\", line 218, in _run_async\n",
       "    result = await coro\n",
       "             ^^^^^^^^^^\n",
       "  File \"c:\\Users\\jlopez\\AppData\\Local\\Continuum\\anaconda3\\envs\\de_project\\Lib\\site-packages\\prefect\\engine.py\", line 1131, in get_task_call_return_value\n",
       "    return await future._result()\n",
       "           ^^^^^^^^^^^^^^^^^^^^^^\n",
       "  File \"c:\\Users\\jlopez\\AppData\\Local\\Continuum\\anaconda3\\envs\\de_project\\Lib\\site-packages\\prefect\\futures.py\", line 240, in _result\n",
       "    return await final_state.result(raise_on_failure=raise_on_failure, fetch=True)\n",
       "           ^^^^^^^^^^^^^^^^^^^^^^^^^^^^^^^^^^^^^^^^^^^^^^^^^^^^^^^^^^^^^^^^^^^^^^^\n",
       "  File \"c:\\Users\\jlopez\\AppData\\Local\\Continuum\\anaconda3\\envs\\de_project\\Lib\\site-packages\\prefect\\states.py\", line 91, in _get_state_result\n",
       "    raise await get_state_exception(state)\n",
       "  File \"c:\\Users\\jlopez\\AppData\\Local\\Continuum\\anaconda3\\envs\\de_project\\Lib\\site-packages\\prefect\\engine.py\", line 1545, in orchestrate_task_run\n",
       "    result = await call.aresult()\n",
       "             ^^^^^^^^^^^^^^^^^^^^\n",
       "  File \"c:\\Users\\jlopez\\AppData\\Local\\Continuum\\anaconda3\\envs\\de_project\\Lib\\site-packages\\prefect\\_internal\\concurrency\\calls.py\", line 181, in aresult\n",
       "    return await asyncio.wrap_future(self.future)\n",
       "           ^^^^^^^^^^^^^^^^^^^^^^^^^^^^^^^^^^^^^^\n",
       "  File \"c:\\Users\\jlopez\\AppData\\Local\\Continuum\\anaconda3\\envs\\de_project\\Lib\\site-packages\\prefect\\_internal\\concurrency\\calls.py\", line 194, in _run_sync\n",
       "    result = self.fn(*self.args, **self.kwargs)\n",
       "             ^^^^^^^^^^^^^^^^^^^^^^^^^^^^^^^^^^\n",
       "  File \"C:\\Users\\jlopez\\AppData\\Local\\Temp\\ipykernel_23604\\1023419110.py\", line 9, in create_df\n",
       "    df = spark.read.csv(strblob)\n",
       "         ^^^^^^^^^^^^^^^^^^^^^^^\n",
       "  File \"c:\\Users\\jlopez\\AppData\\Local\\Continuum\\anaconda3\\envs\\de_project\\Lib\\site-packages\\pyspark\\sql\\readwriter.py\", line 535, in csv\n",
       "    return self._df(self._jreader.csv(self._spark._sc._jvm.PythonUtils.toSeq(path)))\n",
       "                    ^^^^^^^^^^^^^^^^^^^^^^^^^^^^^^^^^^^^^^^^^^^^^^^^^^^^^^^^^^^^^^^\n",
       "  File \"c:\\Users\\jlopez\\AppData\\Local\\Continuum\\anaconda3\\envs\\de_project\\Lib\\site-packages\\py4j\\java_gateway.py\", line 1321, in __call__\n",
       "    return_value = get_return_value(\n",
       "                   ^^^^^^^^^^^^^^^^^\n",
       "  File \"c:\\Users\\jlopez\\AppData\\Local\\Continuum\\anaconda3\\envs\\de_project\\Lib\\site-packages\\pyspark\\sql\\utils.py\", line 196, in deco\n",
       "    raise converted from None\n",
       "pyspark.sql.utils.AnalysisException: Path does not exist: file:/c:/Users/jlopez/Dropbox/de-project/notebooks/size/size_19811.csv,size/size_19812.csv,size/size_19813.csv,size/size_19814.csv,size/size_19815.csv,size/size_19816.csv,size/size_19821.csv,size/size_19822.csv,size/size_19823.csv,size/size_19824.csv,size/size_19825.csv,size/size_19826.csv,size/size_19831.csv,size/size_19832.csv,size/size_19833.csv,size/size_19834.csv,size/size_19835.csv,size/size_19836.csv,size/size_19841.csv,size/size_19842.csv,size/size_19843.csv,size/size_19844.csv,size/size_19845.csv,size/size_19846.csv,size/size_19851.csv,size/size_19852.csv,size/size_19853.csv,size/size_19854.csv,size/size_19855.csv,size/size_19856.csv,size/size_19861.csv,size/size_19862.csv,size/size_19863.csv,size/size_19864.csv,size/size_19865.csv,size/size_19866.csv,size/size_19871.csv,size/size_19872.csv,size/size_19873.csv,size/size_19874.csv,size/size_19875.csv,size/size_19876.csv,size/size_19881.csv,size/size_19882.csv,size/size_19883.csv,size/size_19884.csv,size/size_19885.csv,size/size_19886.csv,size/size_19891.csv,size/size_19892.csv,size/size_19893.csv,size/size_19894.csv,size/size_19895.csv,size/size_19896.csv\n"
      ]
     },
     "metadata": {},
     "output_type": "display_data"
    },
    {
     "data": {
      "text/html": [
       "<pre style=\"white-space:pre;overflow-x:auto;line-height:normal;font-family:Menlo,'DejaVu Sans Mono',consolas,'Courier New',monospace\">22:59:53.481 | <span style=\"color: #d70000; text-decoration-color: #d70000\">ERROR</span>   | Flow run<span style=\"color: #800080; text-decoration-color: #800080\"> 'hot-mule'</span> - Finished in state <span style=\"color: #d70000; text-decoration-color: #d70000\">Failed</span>('Flow run encountered an exception. pyspark.sql.utils.AnalysisException: Path does not exist: file:/c:/Users/jlopez/Dropbox/de-project/notebooks/size/size_19811.csv,size/size_19812.csv,size/size_19813.csv,size/size_19814.csv,size/size_19815.csv,size/size_19816.csv,size/size_19821.csv,size/size_19822.csv,size/size_19823.csv,size/size_19824.csv,size/size_19825.csv,size/size_19826.csv,size/size_19831.csv,size/size_19832.csv,size/size_19833.csv,size/size_19834.csv,size/size_19835.csv,size/size_19836.csv,size/size_19841.csv,size/size_19842.csv,size/size_19843.csv,size/size_19844.csv,size/size_19845.csv,size/size_19846.csv,size/size_19851.csv,size/size_19852.csv,size/size_19853.csv,size/size_19854.csv,size/size_19855.csv,size/size_19856.csv,size/size_19861.csv,size/size_19862.csv,size/size_19863.csv,size/size_19864.csv,size/size_19865.csv,size/size_19866.csv,size/size_19871.csv,size/size_19872.csv,size/size_19873.csv,size/size_19874.csv,size/size_19875.csv,size/size_19876.csv,size/size_19881.csv,size/size_19882.csv,size/size_19883.csv,size/size_19884.csv,size/size_19885.csv,size/size_19886.csv,size/size_19891.csv,size/size_19892.csv,size/size_19893.csv,size/size_19894.csv,size/size_19895.csv,size/size_19896.csv\\n')\n",
       "</pre>\n"
      ],
      "text/plain": [
       "22:59:53.481 | \u001b[38;5;160mERROR\u001b[0m   | Flow run\u001b[35m 'hot-mule'\u001b[0m - Finished in state \u001b[38;5;160mFailed\u001b[0m('Flow run encountered an exception. pyspark.sql.utils.AnalysisException: Path does not exist: file:/c:/Users/jlopez/Dropbox/de-project/notebooks/size/size_19811.csv,size/size_19812.csv,size/size_19813.csv,size/size_19814.csv,size/size_19815.csv,size/size_19816.csv,size/size_19821.csv,size/size_19822.csv,size/size_19823.csv,size/size_19824.csv,size/size_19825.csv,size/size_19826.csv,size/size_19831.csv,size/size_19832.csv,size/size_19833.csv,size/size_19834.csv,size/size_19835.csv,size/size_19836.csv,size/size_19841.csv,size/size_19842.csv,size/size_19843.csv,size/size_19844.csv,size/size_19845.csv,size/size_19846.csv,size/size_19851.csv,size/size_19852.csv,size/size_19853.csv,size/size_19854.csv,size/size_19855.csv,size/size_19856.csv,size/size_19861.csv,size/size_19862.csv,size/size_19863.csv,size/size_19864.csv,size/size_19865.csv,size/size_19866.csv,size/size_19871.csv,size/size_19872.csv,size/size_19873.csv,size/size_19874.csv,size/size_19875.csv,size/size_19876.csv,size/size_19881.csv,size/size_19882.csv,size/size_19883.csv,size/size_19884.csv,size/size_19885.csv,size/size_19886.csv,size/size_19891.csv,size/size_19892.csv,size/size_19893.csv,size/size_19894.csv,size/size_19895.csv,size/size_19896.csv\\n')\n"
      ]
     },
     "metadata": {},
     "output_type": "display_data"
    },
    {
     "ename": "AnalysisException",
     "evalue": "Path does not exist: file:/c:/Users/jlopez/Dropbox/de-project/notebooks/size/size_19811.csv,size/size_19812.csv,size/size_19813.csv,size/size_19814.csv,size/size_19815.csv,size/size_19816.csv,size/size_19821.csv,size/size_19822.csv,size/size_19823.csv,size/size_19824.csv,size/size_19825.csv,size/size_19826.csv,size/size_19831.csv,size/size_19832.csv,size/size_19833.csv,size/size_19834.csv,size/size_19835.csv,size/size_19836.csv,size/size_19841.csv,size/size_19842.csv,size/size_19843.csv,size/size_19844.csv,size/size_19845.csv,size/size_19846.csv,size/size_19851.csv,size/size_19852.csv,size/size_19853.csv,size/size_19854.csv,size/size_19855.csv,size/size_19856.csv,size/size_19861.csv,size/size_19862.csv,size/size_19863.csv,size/size_19864.csv,size/size_19865.csv,size/size_19866.csv,size/size_19871.csv,size/size_19872.csv,size/size_19873.csv,size/size_19874.csv,size/size_19875.csv,size/size_19876.csv,size/size_19881.csv,size/size_19882.csv,size/size_19883.csv,size/size_19884.csv,size/size_19885.csv,size/size_19886.csv,size/size_19891.csv,size/size_19892.csv,size/size_19893.csv,size/size_19894.csv,size/size_19895.csv,size/size_19896.csv",
     "output_type": "error",
     "traceback": [
      "\u001b[1;31m---------------------------------------------------------------------------\u001b[0m",
      "\u001b[1;31mAnalysisException\u001b[0m                         Traceback (most recent call last)",
      "Cell \u001b[1;32mIn[16], line 4\u001b[0m\n\u001b[0;32m      2\u001b[0m folder \u001b[39m=\u001b[39m \u001b[39m\"\u001b[39m\u001b[39msize\u001b[39m\u001b[39m\"\u001b[39m\n\u001b[0;32m      3\u001b[0m bucket_name \u001b[39m=\u001b[39m \u001b[39m\"\u001b[39m\u001b[39mde_project_bucket\u001b[39m\u001b[39m\"\u001b[39m\n\u001b[1;32m----> 4\u001b[0m write_bq(folder, bucket_name)  \n",
      "File \u001b[1;32mc:\\Users\\jlopez\\AppData\\Local\\Continuum\\anaconda3\\envs\\de_project\\Lib\\site-packages\\prefect\\flows.py:468\u001b[0m, in \u001b[0;36mFlow.__call__\u001b[1;34m(self, return_state, wait_for, *args, **kwargs)\u001b[0m\n\u001b[0;32m    464\u001b[0m parameters \u001b[39m=\u001b[39m get_call_parameters(\u001b[39mself\u001b[39m\u001b[39m.\u001b[39mfn, args, kwargs)\n\u001b[0;32m    466\u001b[0m return_type \u001b[39m=\u001b[39m \u001b[39m\"\u001b[39m\u001b[39mstate\u001b[39m\u001b[39m\"\u001b[39m \u001b[39mif\u001b[39;00m return_state \u001b[39melse\u001b[39;00m \u001b[39m\"\u001b[39m\u001b[39mresult\u001b[39m\u001b[39m\"\u001b[39m\n\u001b[1;32m--> 468\u001b[0m \u001b[39mreturn\u001b[39;00m enter_flow_run_engine_from_flow_call(\n\u001b[0;32m    469\u001b[0m     \u001b[39mself\u001b[39;49m,\n\u001b[0;32m    470\u001b[0m     parameters,\n\u001b[0;32m    471\u001b[0m     wait_for\u001b[39m=\u001b[39;49mwait_for,\n\u001b[0;32m    472\u001b[0m     return_type\u001b[39m=\u001b[39;49mreturn_type,\n\u001b[0;32m    473\u001b[0m )\n",
      "File \u001b[1;32mc:\\Users\\jlopez\\AppData\\Local\\Continuum\\anaconda3\\envs\\de_project\\Lib\\site-packages\\prefect\\engine.py:182\u001b[0m, in \u001b[0;36menter_flow_run_engine_from_flow_call\u001b[1;34m(flow, parameters, wait_for, return_type)\u001b[0m\n\u001b[0;32m    177\u001b[0m     retval \u001b[39m=\u001b[39m from_async\u001b[39m.\u001b[39mwait_for_call_in_loop_thread(\n\u001b[0;32m    178\u001b[0m         begin_run, done_callbacks\u001b[39m=\u001b[39mdone_callbacks\n\u001b[0;32m    179\u001b[0m     )\n\u001b[0;32m    181\u001b[0m \u001b[39melse\u001b[39;00m:\n\u001b[1;32m--> 182\u001b[0m     retval \u001b[39m=\u001b[39m from_sync\u001b[39m.\u001b[39;49mwait_for_call_in_loop_thread(\n\u001b[0;32m    183\u001b[0m         begin_run, done_callbacks\u001b[39m=\u001b[39;49mdone_callbacks\n\u001b[0;32m    184\u001b[0m     )\n\u001b[0;32m    186\u001b[0m \u001b[39mreturn\u001b[39;00m retval\n",
      "File \u001b[1;32mc:\\Users\\jlopez\\AppData\\Local\\Continuum\\anaconda3\\envs\\de_project\\Lib\\site-packages\\prefect\\_internal\\concurrency\\api.py:137\u001b[0m, in \u001b[0;36mfrom_sync.wait_for_call_in_loop_thread\u001b[1;34m(call, timeout, done_callbacks)\u001b[0m\n\u001b[0;32m    135\u001b[0m     waiter\u001b[39m.\u001b[39madd_done_callback(callback)\n\u001b[0;32m    136\u001b[0m waiter\u001b[39m.\u001b[39mwait()\n\u001b[1;32m--> 137\u001b[0m \u001b[39mreturn\u001b[39;00m call\u001b[39m.\u001b[39;49mresult()\n",
      "File \u001b[1;32mc:\\Users\\jlopez\\AppData\\Local\\Continuum\\anaconda3\\envs\\de_project\\Lib\\site-packages\\prefect\\_internal\\concurrency\\calls.py:173\u001b[0m, in \u001b[0;36mCall.result\u001b[1;34m(self, timeout)\u001b[0m\n\u001b[0;32m    167\u001b[0m \u001b[39mdef\u001b[39;00m \u001b[39mresult\u001b[39m(\u001b[39mself\u001b[39m, timeout: Optional[\u001b[39mfloat\u001b[39m] \u001b[39m=\u001b[39m \u001b[39mNone\u001b[39;00m) \u001b[39m-\u001b[39m\u001b[39m>\u001b[39m T:\n\u001b[0;32m    168\u001b[0m \u001b[39m    \u001b[39m\u001b[39m\"\"\"\u001b[39;00m\n\u001b[0;32m    169\u001b[0m \u001b[39m    Wait for the result of the call.\u001b[39;00m\n\u001b[0;32m    170\u001b[0m \n\u001b[0;32m    171\u001b[0m \u001b[39m    Not safe for use from asynchronous contexts.\u001b[39;00m\n\u001b[0;32m    172\u001b[0m \u001b[39m    \"\"\"\u001b[39;00m\n\u001b[1;32m--> 173\u001b[0m     \u001b[39mreturn\u001b[39;00m \u001b[39mself\u001b[39;49m\u001b[39m.\u001b[39;49mfuture\u001b[39m.\u001b[39;49mresult(timeout\u001b[39m=\u001b[39;49mtimeout)\n",
      "File \u001b[1;32mc:\\Users\\jlopez\\AppData\\Local\\Continuum\\anaconda3\\envs\\de_project\\Lib\\concurrent\\futures\\_base.py:449\u001b[0m, in \u001b[0;36mFuture.result\u001b[1;34m(self, timeout)\u001b[0m\n\u001b[0;32m    447\u001b[0m     \u001b[39mraise\u001b[39;00m CancelledError()\n\u001b[0;32m    448\u001b[0m \u001b[39melif\u001b[39;00m \u001b[39mself\u001b[39m\u001b[39m.\u001b[39m_state \u001b[39m==\u001b[39m FINISHED:\n\u001b[1;32m--> 449\u001b[0m     \u001b[39mreturn\u001b[39;00m \u001b[39mself\u001b[39;49m\u001b[39m.\u001b[39;49m__get_result()\n\u001b[0;32m    451\u001b[0m \u001b[39mself\u001b[39m\u001b[39m.\u001b[39m_condition\u001b[39m.\u001b[39mwait(timeout)\n\u001b[0;32m    453\u001b[0m \u001b[39mif\u001b[39;00m \u001b[39mself\u001b[39m\u001b[39m.\u001b[39m_state \u001b[39min\u001b[39;00m [CANCELLED, CANCELLED_AND_NOTIFIED]:\n",
      "File \u001b[1;32mc:\\Users\\jlopez\\AppData\\Local\\Continuum\\anaconda3\\envs\\de_project\\Lib\\concurrent\\futures\\_base.py:401\u001b[0m, in \u001b[0;36mFuture.__get_result\u001b[1;34m(self)\u001b[0m\n\u001b[0;32m    399\u001b[0m \u001b[39mif\u001b[39;00m \u001b[39mself\u001b[39m\u001b[39m.\u001b[39m_exception:\n\u001b[0;32m    400\u001b[0m     \u001b[39mtry\u001b[39;00m:\n\u001b[1;32m--> 401\u001b[0m         \u001b[39mraise\u001b[39;00m \u001b[39mself\u001b[39m\u001b[39m.\u001b[39m_exception\n\u001b[0;32m    402\u001b[0m     \u001b[39mfinally\u001b[39;00m:\n\u001b[0;32m    403\u001b[0m         \u001b[39m# Break a reference cycle with the exception in self._exception\u001b[39;00m\n\u001b[0;32m    404\u001b[0m         \u001b[39mself\u001b[39m \u001b[39m=\u001b[39m \u001b[39mNone\u001b[39;00m\n",
      "File \u001b[1;32mc:\\Users\\jlopez\\AppData\\Local\\Continuum\\anaconda3\\envs\\de_project\\Lib\\site-packages\\prefect\\_internal\\concurrency\\calls.py:218\u001b[0m, in \u001b[0;36mCall._run_async\u001b[1;34m(***failed resolving arguments***)\u001b[0m\n\u001b[0;32m    216\u001b[0m                 logger\u001b[39m.\u001b[39mdebug(\u001b[39m\"\u001b[39m\u001b[39m%r\u001b[39;00m\u001b[39m using async cancel scope \u001b[39m\u001b[39m%r\u001b[39;00m\u001b[39m\"\u001b[39m, \u001b[39mself\u001b[39m, ctx)\n\u001b[0;32m    217\u001b[0m                 ctx\u001b[39m.\u001b[39mchain(\u001b[39mself\u001b[39m\u001b[39m.\u001b[39mcancel_context, bidirectional\u001b[39m=\u001b[39m\u001b[39mTrue\u001b[39;00m)\n\u001b[1;32m--> 218\u001b[0m                 result \u001b[39m=\u001b[39m \u001b[39mawait\u001b[39;00m coro\n\u001b[0;32m    219\u001b[0m \u001b[39mexcept\u001b[39;00m \u001b[39mBaseException\u001b[39;00m \u001b[39mas\u001b[39;00m exc:\n\u001b[0;32m    220\u001b[0m     logger\u001b[39m.\u001b[39mdebug(\u001b[39m\"\u001b[39m\u001b[39mEncountered exception in async call \u001b[39m\u001b[39m%r\u001b[39;00m\u001b[39m\"\u001b[39m, \u001b[39mself\u001b[39m, exc_info\u001b[39m=\u001b[39m\u001b[39mTrue\u001b[39;00m)\n",
      "File \u001b[1;32mc:\\Users\\jlopez\\AppData\\Local\\Continuum\\anaconda3\\envs\\de_project\\Lib\\site-packages\\prefect\\client\\utilities.py:40\u001b[0m, in \u001b[0;36minject_client.<locals>.with_injected_client\u001b[1;34m(*args, **kwargs)\u001b[0m\n\u001b[0;32m     38\u001b[0m \u001b[39masync\u001b[39;00m \u001b[39mwith\u001b[39;00m client_context \u001b[39mas\u001b[39;00m new_client:\n\u001b[0;32m     39\u001b[0m     kwargs\u001b[39m.\u001b[39msetdefault(\u001b[39m\"\u001b[39m\u001b[39mclient\u001b[39m\u001b[39m\"\u001b[39m, new_client \u001b[39mor\u001b[39;00m client)\n\u001b[1;32m---> 40\u001b[0m     \u001b[39mreturn\u001b[39;00m \u001b[39mawait\u001b[39;00m fn(\u001b[39m*\u001b[39margs, \u001b[39m*\u001b[39m\u001b[39m*\u001b[39mkwargs)\n",
      "File \u001b[1;32mc:\\Users\\jlopez\\AppData\\Local\\Continuum\\anaconda3\\envs\\de_project\\Lib\\site-packages\\prefect\\engine.py:259\u001b[0m, in \u001b[0;36mcreate_then_begin_flow_run\u001b[1;34m(flow, parameters, wait_for, return_type, client)\u001b[0m\n\u001b[0;32m    257\u001b[0m     \u001b[39mreturn\u001b[39;00m state\n\u001b[0;32m    258\u001b[0m \u001b[39melif\u001b[39;00m return_type \u001b[39m==\u001b[39m \u001b[39m\"\u001b[39m\u001b[39mresult\u001b[39m\u001b[39m\"\u001b[39m:\n\u001b[1;32m--> 259\u001b[0m     \u001b[39mreturn\u001b[39;00m \u001b[39mawait\u001b[39;00m state\u001b[39m.\u001b[39mresult(fetch\u001b[39m=\u001b[39m\u001b[39mTrue\u001b[39;00m)\n\u001b[0;32m    260\u001b[0m \u001b[39melse\u001b[39;00m:\n\u001b[0;32m    261\u001b[0m     \u001b[39mraise\u001b[39;00m \u001b[39mValueError\u001b[39;00m(\u001b[39mf\u001b[39m\u001b[39m\"\u001b[39m\u001b[39mInvalid return type for flow engine \u001b[39m\u001b[39m{\u001b[39;00mreturn_type\u001b[39m!r}\u001b[39;00m\u001b[39m.\u001b[39m\u001b[39m\"\u001b[39m)\n",
      "File \u001b[1;32mc:\\Users\\jlopez\\AppData\\Local\\Continuum\\anaconda3\\envs\\de_project\\Lib\\site-packages\\prefect\\states.py:91\u001b[0m, in \u001b[0;36m_get_state_result\u001b[1;34m(state, raise_on_failure)\u001b[0m\n\u001b[0;32m     86\u001b[0m     \u001b[39mraise\u001b[39;00m PausedRun(\u001b[39m\"\u001b[39m\u001b[39mRun paused.\u001b[39m\u001b[39m\"\u001b[39m)\n\u001b[0;32m     88\u001b[0m \u001b[39mif\u001b[39;00m raise_on_failure \u001b[39mand\u001b[39;00m (\n\u001b[0;32m     89\u001b[0m     state\u001b[39m.\u001b[39mis_crashed() \u001b[39mor\u001b[39;00m state\u001b[39m.\u001b[39mis_failed() \u001b[39mor\u001b[39;00m state\u001b[39m.\u001b[39mis_cancelled()\n\u001b[0;32m     90\u001b[0m ):\n\u001b[1;32m---> 91\u001b[0m     \u001b[39mraise\u001b[39;00m \u001b[39mawait\u001b[39;00m get_state_exception(state)\n\u001b[0;32m     93\u001b[0m \u001b[39mif\u001b[39;00m \u001b[39misinstance\u001b[39m(state\u001b[39m.\u001b[39mdata, DataDocument):\n\u001b[0;32m     94\u001b[0m     result \u001b[39m=\u001b[39m result_from_state_with_data_document(\n\u001b[0;32m     95\u001b[0m         state, raise_on_failure\u001b[39m=\u001b[39mraise_on_failure\n\u001b[0;32m     96\u001b[0m     )\n",
      "File \u001b[1;32mc:\\Users\\jlopez\\AppData\\Local\\Continuum\\anaconda3\\envs\\de_project\\Lib\\site-packages\\prefect\\engine.py:673\u001b[0m, in \u001b[0;36morchestrate_flow_run\u001b[1;34m(flow, flow_run, parameters, wait_for, interruptible, client, partial_flow_run_context)\u001b[0m\n\u001b[0;32m    668\u001b[0m         \u001b[39melse\u001b[39;00m:\n\u001b[0;32m    669\u001b[0m             from_async\u001b[39m.\u001b[39mcall_soon_in_new_thread(\n\u001b[0;32m    670\u001b[0m                 flow_call, timeout\u001b[39m=\u001b[39mflow\u001b[39m.\u001b[39mtimeout_seconds\n\u001b[0;32m    671\u001b[0m             )\n\u001b[1;32m--> 673\u001b[0m         result \u001b[39m=\u001b[39m \u001b[39mawait\u001b[39;00m flow_call\u001b[39m.\u001b[39maresult()\n\u001b[0;32m    675\u001b[0m         waited_for_task_runs \u001b[39m=\u001b[39m \u001b[39mawait\u001b[39;00m wait_for_task_runs_and_report_crashes(\n\u001b[0;32m    676\u001b[0m             flow_run_context\u001b[39m.\u001b[39mtask_run_futures, client\u001b[39m=\u001b[39mclient\n\u001b[0;32m    677\u001b[0m         )\n\u001b[0;32m    678\u001b[0m \u001b[39mexcept\u001b[39;00m PausedRun:\n",
      "File \u001b[1;32mc:\\Users\\jlopez\\AppData\\Local\\Continuum\\anaconda3\\envs\\de_project\\Lib\\site-packages\\prefect\\_internal\\concurrency\\calls.py:181\u001b[0m, in \u001b[0;36mCall.aresult\u001b[1;34m(self)\u001b[0m\n\u001b[0;32m    175\u001b[0m \u001b[39masync\u001b[39;00m \u001b[39mdef\u001b[39;00m \u001b[39maresult\u001b[39m(\u001b[39mself\u001b[39m):\n\u001b[0;32m    176\u001b[0m \u001b[39m    \u001b[39m\u001b[39m\"\"\"\u001b[39;00m\n\u001b[0;32m    177\u001b[0m \u001b[39m    Wait for the result of the call.\u001b[39;00m\n\u001b[0;32m    178\u001b[0m \n\u001b[0;32m    179\u001b[0m \u001b[39m    For use from asynchronous contexts.\u001b[39;00m\n\u001b[0;32m    180\u001b[0m \u001b[39m    \"\"\"\u001b[39;00m\n\u001b[1;32m--> 181\u001b[0m     \u001b[39mreturn\u001b[39;00m \u001b[39mawait\u001b[39;00m asyncio\u001b[39m.\u001b[39mwrap_future(\u001b[39mself\u001b[39m\u001b[39m.\u001b[39mfuture)\n",
      "File \u001b[1;32mc:\\Users\\jlopez\\AppData\\Local\\Continuum\\anaconda3\\envs\\de_project\\Lib\\site-packages\\prefect\\_internal\\concurrency\\calls.py:194\u001b[0m, in \u001b[0;36mCall._run_sync\u001b[1;34m(***failed resolving arguments***)\u001b[0m\n\u001b[0;32m    192\u001b[0m     \u001b[39mwith\u001b[39;00m cancel_sync_at(\u001b[39mself\u001b[39m\u001b[39m.\u001b[39mcancel_context\u001b[39m.\u001b[39mdeadline) \u001b[39mas\u001b[39;00m ctx:\n\u001b[0;32m    193\u001b[0m         ctx\u001b[39m.\u001b[39mchain(\u001b[39mself\u001b[39m\u001b[39m.\u001b[39mcancel_context, bidirectional\u001b[39m=\u001b[39m\u001b[39mTrue\u001b[39;00m)\n\u001b[1;32m--> 194\u001b[0m         result \u001b[39m=\u001b[39m \u001b[39mself\u001b[39;49m\u001b[39m.\u001b[39;49mfn(\u001b[39m*\u001b[39;49m\u001b[39mself\u001b[39;49m\u001b[39m.\u001b[39;49margs, \u001b[39m*\u001b[39;49m\u001b[39m*\u001b[39;49m\u001b[39mself\u001b[39;49m\u001b[39m.\u001b[39;49mkwargs)\n\u001b[0;32m    196\u001b[0m \u001b[39m# Return the coroutine for async execution\u001b[39;00m\n\u001b[0;32m    197\u001b[0m \u001b[39mif\u001b[39;00m inspect\u001b[39m.\u001b[39misawaitable(result):\n",
      "Cell \u001b[1;32mIn[15], line 8\u001b[0m, in \u001b[0;36mwrite_bq\u001b[1;34m(folder, bucket_name)\u001b[0m\n\u001b[0;32m      5\u001b[0m \u001b[39m# bucket_name = \"de_project_bucket\"  # parameterize this\u001b[39;00m\n\u001b[0;32m      6\u001b[0m bucket \u001b[39m=\u001b[39m storage_client\u001b[39m.\u001b[39mget_bucket(bucket_name)\n\u001b[1;32m----> 8\u001b[0m df \u001b[39m=\u001b[39m create_df(folder, bucket)\n\u001b[0;32m      9\u001b[0m \u001b[39mprint\u001b[39m(df\u001b[39m.\u001b[39mhead())\n",
      "File \u001b[1;32mc:\\Users\\jlopez\\AppData\\Local\\Continuum\\anaconda3\\envs\\de_project\\Lib\\site-packages\\prefect\\tasks.py:474\u001b[0m, in \u001b[0;36mTask.__call__\u001b[1;34m(self, return_state, wait_for, *args, **kwargs)\u001b[0m\n\u001b[0;32m    470\u001b[0m parameters \u001b[39m=\u001b[39m get_call_parameters(\u001b[39mself\u001b[39m\u001b[39m.\u001b[39mfn, args, kwargs)\n\u001b[0;32m    472\u001b[0m return_type \u001b[39m=\u001b[39m \u001b[39m\"\u001b[39m\u001b[39mstate\u001b[39m\u001b[39m\"\u001b[39m \u001b[39mif\u001b[39;00m return_state \u001b[39melse\u001b[39;00m \u001b[39m\"\u001b[39m\u001b[39mresult\u001b[39m\u001b[39m\"\u001b[39m\n\u001b[1;32m--> 474\u001b[0m \u001b[39mreturn\u001b[39;00m enter_task_run_engine(\n\u001b[0;32m    475\u001b[0m     \u001b[39mself\u001b[39;49m,\n\u001b[0;32m    476\u001b[0m     parameters\u001b[39m=\u001b[39;49mparameters,\n\u001b[0;32m    477\u001b[0m     wait_for\u001b[39m=\u001b[39;49mwait_for,\n\u001b[0;32m    478\u001b[0m     task_runner\u001b[39m=\u001b[39;49mSequentialTaskRunner(),\n\u001b[0;32m    479\u001b[0m     return_type\u001b[39m=\u001b[39;49mreturn_type,\n\u001b[0;32m    480\u001b[0m     mapped\u001b[39m=\u001b[39;49m\u001b[39mFalse\u001b[39;49;00m,\n\u001b[0;32m    481\u001b[0m )\n",
      "File \u001b[1;32mc:\\Users\\jlopez\\AppData\\Local\\Continuum\\anaconda3\\envs\\de_project\\Lib\\site-packages\\prefect\\engine.py:976\u001b[0m, in \u001b[0;36menter_task_run_engine\u001b[1;34m(task, parameters, wait_for, return_type, task_runner, mapped)\u001b[0m\n\u001b[0;32m    974\u001b[0m     \u001b[39mreturn\u001b[39;00m from_async\u001b[39m.\u001b[39mwait_for_call_in_loop_thread(begin_run)\n\u001b[0;32m    975\u001b[0m \u001b[39melse\u001b[39;00m:\n\u001b[1;32m--> 976\u001b[0m     \u001b[39mreturn\u001b[39;00m from_sync\u001b[39m.\u001b[39;49mwait_for_call_in_loop_thread(begin_run)\n",
      "File \u001b[1;32mc:\\Users\\jlopez\\AppData\\Local\\Continuum\\anaconda3\\envs\\de_project\\Lib\\site-packages\\prefect\\_internal\\concurrency\\api.py:137\u001b[0m, in \u001b[0;36mfrom_sync.wait_for_call_in_loop_thread\u001b[1;34m(call, timeout, done_callbacks)\u001b[0m\n\u001b[0;32m    135\u001b[0m     waiter\u001b[39m.\u001b[39madd_done_callback(callback)\n\u001b[0;32m    136\u001b[0m waiter\u001b[39m.\u001b[39mwait()\n\u001b[1;32m--> 137\u001b[0m \u001b[39mreturn\u001b[39;00m call\u001b[39m.\u001b[39;49mresult()\n",
      "File \u001b[1;32mc:\\Users\\jlopez\\AppData\\Local\\Continuum\\anaconda3\\envs\\de_project\\Lib\\site-packages\\prefect\\_internal\\concurrency\\calls.py:173\u001b[0m, in \u001b[0;36mCall.result\u001b[1;34m(self, timeout)\u001b[0m\n\u001b[0;32m    167\u001b[0m \u001b[39mdef\u001b[39;00m \u001b[39mresult\u001b[39m(\u001b[39mself\u001b[39m, timeout: Optional[\u001b[39mfloat\u001b[39m] \u001b[39m=\u001b[39m \u001b[39mNone\u001b[39;00m) \u001b[39m-\u001b[39m\u001b[39m>\u001b[39m T:\n\u001b[0;32m    168\u001b[0m \u001b[39m    \u001b[39m\u001b[39m\"\"\"\u001b[39;00m\n\u001b[0;32m    169\u001b[0m \u001b[39m    Wait for the result of the call.\u001b[39;00m\n\u001b[0;32m    170\u001b[0m \n\u001b[0;32m    171\u001b[0m \u001b[39m    Not safe for use from asynchronous contexts.\u001b[39;00m\n\u001b[0;32m    172\u001b[0m \u001b[39m    \"\"\"\u001b[39;00m\n\u001b[1;32m--> 173\u001b[0m     \u001b[39mreturn\u001b[39;00m \u001b[39mself\u001b[39;49m\u001b[39m.\u001b[39;49mfuture\u001b[39m.\u001b[39;49mresult(timeout\u001b[39m=\u001b[39;49mtimeout)\n",
      "File \u001b[1;32mc:\\Users\\jlopez\\AppData\\Local\\Continuum\\anaconda3\\envs\\de_project\\Lib\\concurrent\\futures\\_base.py:449\u001b[0m, in \u001b[0;36mFuture.result\u001b[1;34m(self, timeout)\u001b[0m\n\u001b[0;32m    447\u001b[0m     \u001b[39mraise\u001b[39;00m CancelledError()\n\u001b[0;32m    448\u001b[0m \u001b[39melif\u001b[39;00m \u001b[39mself\u001b[39m\u001b[39m.\u001b[39m_state \u001b[39m==\u001b[39m FINISHED:\n\u001b[1;32m--> 449\u001b[0m     \u001b[39mreturn\u001b[39;00m \u001b[39mself\u001b[39;49m\u001b[39m.\u001b[39;49m__get_result()\n\u001b[0;32m    451\u001b[0m \u001b[39mself\u001b[39m\u001b[39m.\u001b[39m_condition\u001b[39m.\u001b[39mwait(timeout)\n\u001b[0;32m    453\u001b[0m \u001b[39mif\u001b[39;00m \u001b[39mself\u001b[39m\u001b[39m.\u001b[39m_state \u001b[39min\u001b[39;00m [CANCELLED, CANCELLED_AND_NOTIFIED]:\n",
      "File \u001b[1;32mc:\\Users\\jlopez\\AppData\\Local\\Continuum\\anaconda3\\envs\\de_project\\Lib\\concurrent\\futures\\_base.py:401\u001b[0m, in \u001b[0;36mFuture.__get_result\u001b[1;34m(self)\u001b[0m\n\u001b[0;32m    399\u001b[0m \u001b[39mif\u001b[39;00m \u001b[39mself\u001b[39m\u001b[39m.\u001b[39m_exception:\n\u001b[0;32m    400\u001b[0m     \u001b[39mtry\u001b[39;00m:\n\u001b[1;32m--> 401\u001b[0m         \u001b[39mraise\u001b[39;00m \u001b[39mself\u001b[39m\u001b[39m.\u001b[39m_exception\n\u001b[0;32m    402\u001b[0m     \u001b[39mfinally\u001b[39;00m:\n\u001b[0;32m    403\u001b[0m         \u001b[39m# Break a reference cycle with the exception in self._exception\u001b[39;00m\n\u001b[0;32m    404\u001b[0m         \u001b[39mself\u001b[39m \u001b[39m=\u001b[39m \u001b[39mNone\u001b[39;00m\n",
      "File \u001b[1;32mc:\\Users\\jlopez\\AppData\\Local\\Continuum\\anaconda3\\envs\\de_project\\Lib\\site-packages\\prefect\\_internal\\concurrency\\calls.py:218\u001b[0m, in \u001b[0;36mCall._run_async\u001b[1;34m(***failed resolving arguments***)\u001b[0m\n\u001b[0;32m    216\u001b[0m                 logger\u001b[39m.\u001b[39mdebug(\u001b[39m\"\u001b[39m\u001b[39m%r\u001b[39;00m\u001b[39m using async cancel scope \u001b[39m\u001b[39m%r\u001b[39;00m\u001b[39m\"\u001b[39m, \u001b[39mself\u001b[39m, ctx)\n\u001b[0;32m    217\u001b[0m                 ctx\u001b[39m.\u001b[39mchain(\u001b[39mself\u001b[39m\u001b[39m.\u001b[39mcancel_context, bidirectional\u001b[39m=\u001b[39m\u001b[39mTrue\u001b[39;00m)\n\u001b[1;32m--> 218\u001b[0m                 result \u001b[39m=\u001b[39m \u001b[39mawait\u001b[39;00m coro\n\u001b[0;32m    219\u001b[0m \u001b[39mexcept\u001b[39;00m \u001b[39mBaseException\u001b[39;00m \u001b[39mas\u001b[39;00m exc:\n\u001b[0;32m    220\u001b[0m     logger\u001b[39m.\u001b[39mdebug(\u001b[39m\"\u001b[39m\u001b[39mEncountered exception in async call \u001b[39m\u001b[39m%r\u001b[39;00m\u001b[39m\"\u001b[39m, \u001b[39mself\u001b[39m, exc_info\u001b[39m=\u001b[39m\u001b[39mTrue\u001b[39;00m)\n",
      "File \u001b[1;32mc:\\Users\\jlopez\\AppData\\Local\\Continuum\\anaconda3\\envs\\de_project\\Lib\\site-packages\\prefect\\engine.py:1131\u001b[0m, in \u001b[0;36mget_task_call_return_value\u001b[1;34m(task, flow_run_context, parameters, wait_for, return_type, task_runner, extra_task_inputs)\u001b[0m\n\u001b[0;32m   1129\u001b[0m     \u001b[39mreturn\u001b[39;00m \u001b[39mawait\u001b[39;00m future\u001b[39m.\u001b[39m_wait()\n\u001b[0;32m   1130\u001b[0m \u001b[39melif\u001b[39;00m return_type \u001b[39m==\u001b[39m \u001b[39m\"\u001b[39m\u001b[39mresult\u001b[39m\u001b[39m\"\u001b[39m:\n\u001b[1;32m-> 1131\u001b[0m     \u001b[39mreturn\u001b[39;00m \u001b[39mawait\u001b[39;00m future\u001b[39m.\u001b[39m_result()\n\u001b[0;32m   1132\u001b[0m \u001b[39melse\u001b[39;00m:\n\u001b[0;32m   1133\u001b[0m     \u001b[39mraise\u001b[39;00m \u001b[39mValueError\u001b[39;00m(\u001b[39mf\u001b[39m\u001b[39m\"\u001b[39m\u001b[39mInvalid return type for task engine \u001b[39m\u001b[39m{\u001b[39;00mreturn_type\u001b[39m!r}\u001b[39;00m\u001b[39m.\u001b[39m\u001b[39m\"\u001b[39m)\n",
      "File \u001b[1;32mc:\\Users\\jlopez\\AppData\\Local\\Continuum\\anaconda3\\envs\\de_project\\Lib\\site-packages\\prefect\\futures.py:240\u001b[0m, in \u001b[0;36mPrefectFuture._result\u001b[1;34m(self, timeout, raise_on_failure)\u001b[0m\n\u001b[0;32m    238\u001b[0m \u001b[39mif\u001b[39;00m \u001b[39mnot\u001b[39;00m final_state:\n\u001b[0;32m    239\u001b[0m     \u001b[39mraise\u001b[39;00m \u001b[39mTimeoutError\u001b[39;00m(\u001b[39m\"\u001b[39m\u001b[39mCall timed out before task finished.\u001b[39m\u001b[39m\"\u001b[39m)\n\u001b[1;32m--> 240\u001b[0m \u001b[39mreturn\u001b[39;00m \u001b[39mawait\u001b[39;00m final_state\u001b[39m.\u001b[39mresult(raise_on_failure\u001b[39m=\u001b[39mraise_on_failure, fetch\u001b[39m=\u001b[39m\u001b[39mTrue\u001b[39;00m)\n",
      "File \u001b[1;32mc:\\Users\\jlopez\\AppData\\Local\\Continuum\\anaconda3\\envs\\de_project\\Lib\\site-packages\\prefect\\states.py:91\u001b[0m, in \u001b[0;36m_get_state_result\u001b[1;34m(state, raise_on_failure)\u001b[0m\n\u001b[0;32m     86\u001b[0m     \u001b[39mraise\u001b[39;00m PausedRun(\u001b[39m\"\u001b[39m\u001b[39mRun paused.\u001b[39m\u001b[39m\"\u001b[39m)\n\u001b[0;32m     88\u001b[0m \u001b[39mif\u001b[39;00m raise_on_failure \u001b[39mand\u001b[39;00m (\n\u001b[0;32m     89\u001b[0m     state\u001b[39m.\u001b[39mis_crashed() \u001b[39mor\u001b[39;00m state\u001b[39m.\u001b[39mis_failed() \u001b[39mor\u001b[39;00m state\u001b[39m.\u001b[39mis_cancelled()\n\u001b[0;32m     90\u001b[0m ):\n\u001b[1;32m---> 91\u001b[0m     \u001b[39mraise\u001b[39;00m \u001b[39mawait\u001b[39;00m get_state_exception(state)\n\u001b[0;32m     93\u001b[0m \u001b[39mif\u001b[39;00m \u001b[39misinstance\u001b[39m(state\u001b[39m.\u001b[39mdata, DataDocument):\n\u001b[0;32m     94\u001b[0m     result \u001b[39m=\u001b[39m result_from_state_with_data_document(\n\u001b[0;32m     95\u001b[0m         state, raise_on_failure\u001b[39m=\u001b[39mraise_on_failure\n\u001b[0;32m     96\u001b[0m     )\n",
      "File \u001b[1;32mc:\\Users\\jlopez\\AppData\\Local\\Continuum\\anaconda3\\envs\\de_project\\Lib\\site-packages\\prefect\\engine.py:1545\u001b[0m, in \u001b[0;36morchestrate_task_run\u001b[1;34m(task, task_run, parameters, wait_for, result_factory, log_prints, interruptible, client)\u001b[0m\n\u001b[0;32m   1539\u001b[0m         \u001b[39mwith\u001b[39;00m task_run_context\u001b[39m.\u001b[39mcopy(\n\u001b[0;32m   1540\u001b[0m             update\u001b[39m=\u001b[39m{\u001b[39m\"\u001b[39m\u001b[39mtask_run\u001b[39m\u001b[39m\"\u001b[39m: task_run, \u001b[39m\"\u001b[39m\u001b[39mstart_time\u001b[39m\u001b[39m\"\u001b[39m: pendulum\u001b[39m.\u001b[39mnow(\u001b[39m\"\u001b[39m\u001b[39mUTC\u001b[39m\u001b[39m\"\u001b[39m)}\n\u001b[0;32m   1541\u001b[0m         ):\n\u001b[0;32m   1542\u001b[0m             call \u001b[39m=\u001b[39m from_async\u001b[39m.\u001b[39mcall_soon_in_new_thread(\n\u001b[0;32m   1543\u001b[0m                 create_call(task\u001b[39m.\u001b[39mfn, \u001b[39m*\u001b[39margs, \u001b[39m*\u001b[39m\u001b[39m*\u001b[39mkwargs)\n\u001b[0;32m   1544\u001b[0m             )\n\u001b[1;32m-> 1545\u001b[0m             result \u001b[39m=\u001b[39m \u001b[39mawait\u001b[39;00m call\u001b[39m.\u001b[39maresult()\n\u001b[0;32m   1547\u001b[0m \u001b[39mexcept\u001b[39;00m \u001b[39mException\u001b[39;00m \u001b[39mas\u001b[39;00m exc:\n\u001b[0;32m   1548\u001b[0m     name \u001b[39m=\u001b[39m message \u001b[39m=\u001b[39m \u001b[39mNone\u001b[39;00m\n",
      "File \u001b[1;32mc:\\Users\\jlopez\\AppData\\Local\\Continuum\\anaconda3\\envs\\de_project\\Lib\\site-packages\\prefect\\_internal\\concurrency\\calls.py:181\u001b[0m, in \u001b[0;36mCall.aresult\u001b[1;34m(self)\u001b[0m\n\u001b[0;32m    175\u001b[0m \u001b[39masync\u001b[39;00m \u001b[39mdef\u001b[39;00m \u001b[39maresult\u001b[39m(\u001b[39mself\u001b[39m):\n\u001b[0;32m    176\u001b[0m \u001b[39m    \u001b[39m\u001b[39m\"\"\"\u001b[39;00m\n\u001b[0;32m    177\u001b[0m \u001b[39m    Wait for the result of the call.\u001b[39;00m\n\u001b[0;32m    178\u001b[0m \n\u001b[0;32m    179\u001b[0m \u001b[39m    For use from asynchronous contexts.\u001b[39;00m\n\u001b[0;32m    180\u001b[0m \u001b[39m    \"\"\"\u001b[39;00m\n\u001b[1;32m--> 181\u001b[0m     \u001b[39mreturn\u001b[39;00m \u001b[39mawait\u001b[39;00m asyncio\u001b[39m.\u001b[39mwrap_future(\u001b[39mself\u001b[39m\u001b[39m.\u001b[39mfuture)\n",
      "File \u001b[1;32mc:\\Users\\jlopez\\AppData\\Local\\Continuum\\anaconda3\\envs\\de_project\\Lib\\site-packages\\prefect\\_internal\\concurrency\\calls.py:194\u001b[0m, in \u001b[0;36mCall._run_sync\u001b[1;34m(***failed resolving arguments***)\u001b[0m\n\u001b[0;32m    192\u001b[0m     \u001b[39mwith\u001b[39;00m cancel_sync_at(\u001b[39mself\u001b[39m\u001b[39m.\u001b[39mcancel_context\u001b[39m.\u001b[39mdeadline) \u001b[39mas\u001b[39;00m ctx:\n\u001b[0;32m    193\u001b[0m         ctx\u001b[39m.\u001b[39mchain(\u001b[39mself\u001b[39m\u001b[39m.\u001b[39mcancel_context, bidirectional\u001b[39m=\u001b[39m\u001b[39mTrue\u001b[39;00m)\n\u001b[1;32m--> 194\u001b[0m         result \u001b[39m=\u001b[39m \u001b[39mself\u001b[39;49m\u001b[39m.\u001b[39;49mfn(\u001b[39m*\u001b[39;49m\u001b[39mself\u001b[39;49m\u001b[39m.\u001b[39;49margs, \u001b[39m*\u001b[39;49m\u001b[39m*\u001b[39;49m\u001b[39mself\u001b[39;49m\u001b[39m.\u001b[39;49mkwargs)\n\u001b[0;32m    196\u001b[0m \u001b[39m# Return the coroutine for async execution\u001b[39;00m\n\u001b[0;32m    197\u001b[0m \u001b[39mif\u001b[39;00m inspect\u001b[39m.\u001b[39misawaitable(result):\n",
      "Cell \u001b[1;32mIn[14], line 9\u001b[0m, in \u001b[0;36mcreate_df\u001b[1;34m(folder, bucket)\u001b[0m\n\u001b[0;32m      6\u001b[0m strblob \u001b[39m=\u001b[39m \u001b[39m'\u001b[39m\u001b[39m,\u001b[39m\u001b[39m'\u001b[39m\u001b[39m.\u001b[39mjoin(lsblob)\n\u001b[0;32m      7\u001b[0m \u001b[39mprint\u001b[39m(strblob)\n\u001b[1;32m----> 9\u001b[0m df \u001b[39m=\u001b[39m spark\u001b[39m.\u001b[39;49mread\u001b[39m.\u001b[39;49mcsv(strblob)\n\u001b[0;32m     10\u001b[0m \u001b[39mreturn\u001b[39;00m df\n",
      "File \u001b[1;32mc:\\Users\\jlopez\\AppData\\Local\\Continuum\\anaconda3\\envs\\de_project\\Lib\\site-packages\\pyspark\\sql\\readwriter.py:535\u001b[0m, in \u001b[0;36mDataFrameReader.csv\u001b[1;34m(self, path, schema, sep, encoding, quote, escape, comment, header, inferSchema, ignoreLeadingWhiteSpace, ignoreTrailingWhiteSpace, nullValue, nanValue, positiveInf, negativeInf, dateFormat, timestampFormat, maxColumns, maxCharsPerColumn, maxMalformedLogPerPartition, mode, columnNameOfCorruptRecord, multiLine, charToEscapeQuoteEscaping, samplingRatio, enforceSchema, emptyValue, locale, lineSep, pathGlobFilter, recursiveFileLookup, modifiedBefore, modifiedAfter, unescapedQuoteHandling)\u001b[0m\n\u001b[0;32m    533\u001b[0m \u001b[39mif\u001b[39;00m \u001b[39mtype\u001b[39m(path) \u001b[39m==\u001b[39m \u001b[39mlist\u001b[39m:\n\u001b[0;32m    534\u001b[0m     \u001b[39massert\u001b[39;00m \u001b[39mself\u001b[39m\u001b[39m.\u001b[39m_spark\u001b[39m.\u001b[39m_sc\u001b[39m.\u001b[39m_jvm \u001b[39mis\u001b[39;00m \u001b[39mnot\u001b[39;00m \u001b[39mNone\u001b[39;00m\n\u001b[1;32m--> 535\u001b[0m     \u001b[39mreturn\u001b[39;00m \u001b[39mself\u001b[39m\u001b[39m.\u001b[39m_df(\u001b[39mself\u001b[39;49m\u001b[39m.\u001b[39;49m_jreader\u001b[39m.\u001b[39;49mcsv(\u001b[39mself\u001b[39;49m\u001b[39m.\u001b[39;49m_spark\u001b[39m.\u001b[39;49m_sc\u001b[39m.\u001b[39;49m_jvm\u001b[39m.\u001b[39;49mPythonUtils\u001b[39m.\u001b[39;49mtoSeq(path)))\n\u001b[0;32m    536\u001b[0m \u001b[39melif\u001b[39;00m \u001b[39misinstance\u001b[39m(path, RDD):\n\u001b[0;32m    538\u001b[0m     \u001b[39mdef\u001b[39;00m \u001b[39mfunc\u001b[39m(iterator):\n",
      "File \u001b[1;32mc:\\Users\\jlopez\\AppData\\Local\\Continuum\\anaconda3\\envs\\de_project\\Lib\\site-packages\\py4j\\java_gateway.py:1321\u001b[0m, in \u001b[0;36mJavaMember.__call__\u001b[1;34m(self, *args)\u001b[0m\n\u001b[0;32m   1315\u001b[0m command \u001b[39m=\u001b[39m proto\u001b[39m.\u001b[39mCALL_COMMAND_NAME \u001b[39m+\u001b[39m\\\n\u001b[0;32m   1316\u001b[0m     \u001b[39mself\u001b[39m\u001b[39m.\u001b[39mcommand_header \u001b[39m+\u001b[39m\\\n\u001b[0;32m   1317\u001b[0m     args_command \u001b[39m+\u001b[39m\\\n\u001b[0;32m   1318\u001b[0m     proto\u001b[39m.\u001b[39mEND_COMMAND_PART\n\u001b[0;32m   1320\u001b[0m answer \u001b[39m=\u001b[39m \u001b[39mself\u001b[39m\u001b[39m.\u001b[39mgateway_client\u001b[39m.\u001b[39msend_command(command)\n\u001b[1;32m-> 1321\u001b[0m return_value \u001b[39m=\u001b[39m get_return_value(\n\u001b[0;32m   1322\u001b[0m     answer, \u001b[39mself\u001b[39;49m\u001b[39m.\u001b[39;49mgateway_client, \u001b[39mself\u001b[39;49m\u001b[39m.\u001b[39;49mtarget_id, \u001b[39mself\u001b[39;49m\u001b[39m.\u001b[39;49mname)\n\u001b[0;32m   1324\u001b[0m \u001b[39mfor\u001b[39;00m temp_arg \u001b[39min\u001b[39;00m temp_args:\n\u001b[0;32m   1325\u001b[0m     temp_arg\u001b[39m.\u001b[39m_detach()\n",
      "File \u001b[1;32mc:\\Users\\jlopez\\AppData\\Local\\Continuum\\anaconda3\\envs\\de_project\\Lib\\site-packages\\pyspark\\sql\\utils.py:196\u001b[0m, in \u001b[0;36mcapture_sql_exception.<locals>.deco\u001b[1;34m(*a, **kw)\u001b[0m\n\u001b[0;32m    192\u001b[0m converted \u001b[39m=\u001b[39m convert_exception(e\u001b[39m.\u001b[39mjava_exception)\n\u001b[0;32m    193\u001b[0m \u001b[39mif\u001b[39;00m \u001b[39mnot\u001b[39;00m \u001b[39misinstance\u001b[39m(converted, UnknownException):\n\u001b[0;32m    194\u001b[0m     \u001b[39m# Hide where the exception came from that shows a non-Pythonic\u001b[39;00m\n\u001b[0;32m    195\u001b[0m     \u001b[39m# JVM exception message.\u001b[39;00m\n\u001b[1;32m--> 196\u001b[0m     \u001b[39mraise\u001b[39;00m converted \u001b[39mfrom\u001b[39;00m \u001b[39mNone\u001b[39m\n\u001b[0;32m    197\u001b[0m \u001b[39melse\u001b[39;00m:\n\u001b[0;32m    198\u001b[0m     \u001b[39mraise\u001b[39;00m\n",
      "\u001b[1;31mAnalysisException\u001b[0m: Path does not exist: file:/c:/Users/jlopez/Dropbox/de-project/notebooks/size/size_19811.csv,size/size_19812.csv,size/size_19813.csv,size/size_19814.csv,size/size_19815.csv,size/size_19816.csv,size/size_19821.csv,size/size_19822.csv,size/size_19823.csv,size/size_19824.csv,size/size_19825.csv,size/size_19826.csv,size/size_19831.csv,size/size_19832.csv,size/size_19833.csv,size/size_19834.csv,size/size_19835.csv,size/size_19836.csv,size/size_19841.csv,size/size_19842.csv,size/size_19843.csv,size/size_19844.csv,size/size_19845.csv,size/size_19846.csv,size/size_19851.csv,size/size_19852.csv,size/size_19853.csv,size/size_19854.csv,size/size_19855.csv,size/size_19856.csv,size/size_19861.csv,size/size_19862.csv,size/size_19863.csv,size/size_19864.csv,size/size_19865.csv,size/size_19866.csv,size/size_19871.csv,size/size_19872.csv,size/size_19873.csv,size/size_19874.csv,size/size_19875.csv,size/size_19876.csv,size/size_19881.csv,size/size_19882.csv,size/size_19883.csv,size/size_19884.csv,size/size_19885.csv,size/size_19886.csv,size/size_19891.csv,size/size_19892.csv,size/size_19893.csv,size/size_19894.csv,size/size_19895.csv,size/size_19896.csv"
     ]
    }
   ],
   "source": [
    "if __name__ == '__main__':\n",
    "    folder = \"size\"\n",
    "    bucket_name = \"de_project_bucket\"\n",
    "    write_bq(folder, bucket_name)  \n",
    "\n"
   ]
  },
  {
   "cell_type": "code",
   "execution_count": null,
   "metadata": {},
   "outputs": [],
   "source": []
  }
 ],
 "metadata": {
  "kernelspec": {
   "display_name": "de_project",
   "language": "python",
   "name": "python3"
  },
  "language_info": {
   "codemirror_mode": {
    "name": "ipython",
    "version": 3
   },
   "file_extension": ".py",
   "mimetype": "text/x-python",
   "name": "python",
   "nbconvert_exporter": "python",
   "pygments_lexer": "ipython3",
   "version": "3.11.2"
  },
  "orig_nbformat": 4,
  "vscode": {
   "interpreter": {
    "hash": "254721729ad41773dee351bfff8b617bf657a0a6ef8ca8070296dad6f2976db6"
   }
  }
 },
 "nbformat": 4,
 "nbformat_minor": 2
}
