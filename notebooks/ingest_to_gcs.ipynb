{
 "cells": [
  {
   "cell_type": "code",
   "execution_count": null,
   "metadata": {},
   "outputs": [],
   "source": [
    "from io import BytesIO\n",
    "from zipfile import ZipFile\n",
    "from urllib.request import urlopen\n",
    "from pathlib import Path\n",
    "import pandas as pd\n",
    "import requests\n",
    "from prefect import flow, task\n",
    "from prefect_gcp.cloud_storage import GcsBucket\n",
    "from google.cloud import storage"
   ]
  },
  {
   "cell_type": "code",
   "execution_count": null,
   "metadata": {},
   "outputs": [],
   "source": [
    "@task(retries=3)\n",
    "def fetch_folders(base_url: str) -> list:\n",
    "    \"\"\"Get list of zip folders containing NOAA data\"\"\"\n",
    "\n",
    "    html = requests.get(base_url).content\n",
    "    df_list = pd.read_html(html)\n",
    "    df = df_list[-1]\n",
    "    lszip = df[df.Name.str.endswith(\".zip\", na=False)]['Name'].tolist()\n",
    "    \n",
    "    return lszip"
   ]
  },
  {
   "cell_type": "code",
   "execution_count": null,
   "metadata": {},
   "outputs": [],
   "source": [
    "@task()\n",
    "def write_gcs(base_url: str, folder: str) -> None:\n",
    "    \"\"\"Upload local parquet file to GCS\"\"\"\n",
    "    # gcp_cloud_storage_bucket_block = GcsBucket.load(\"noaa-gcs\")\n",
    "    # gcp_cloud_storage_bucket_block.upload_from_folder(folder)\n",
    "\n",
    "    # Set Google Cloud Storage credentials\n",
    "    storage_client = storage.Client.from_service_account_json('../creds.json')\n",
    "    bucket_name = 'de_project_bucket'\n",
    "    bucket = storage_client.get_bucket(bucket_name)\n",
    "\n",
    "    folder_url = f'{base_url[:-1]}/{folder}'\n",
    "    r = requests.get(folder_url)\n",
    "    blob = bucket.blob(f'raw/{folder}')\n",
    "    blob.upload_from_string(r.content)"
   ]
  },
  {
   "cell_type": "code",
   "execution_count": null,
   "metadata": {},
   "outputs": [],
   "source": [
    "@flow(log_prints=True)\n",
    "def noaa_to_gcs() -> None:\n",
    "    \"\"\"Get zip folders from noaa site and save to gcs bucket\"\"\"    \n",
    "    base_url = 'https://www.st.nmfs.noaa.gov/st1/recreational/MRIP_Survey_Data/CSV/'\n",
    "    lszip = fetch_folders(base_url)\n",
    "\n",
    "    for folder in lszip:\n",
    "        write_gcs(base_url, folder)"
   ]
  },
  {
   "cell_type": "code",
   "execution_count": null,
   "metadata": {},
   "outputs": [],
   "source": [
    "# if __name__ == '__main__':\n",
    "noaa_to_gcs()"
   ]
  },
  {
   "cell_type": "code",
   "execution_count": null,
   "metadata": {},
   "outputs": [],
   "source": []
  }
 ],
 "metadata": {
  "kernelspec": {
   "display_name": "de_project",
   "language": "python",
   "name": "python3"
  },
  "language_info": {
   "codemirror_mode": {
    "name": "ipython",
    "version": 3
   },
   "file_extension": ".py",
   "mimetype": "text/x-python",
   "name": "python",
   "nbconvert_exporter": "python",
   "pygments_lexer": "ipython3",
   "version": "3.11.2"
  },
  "orig_nbformat": 4
 },
 "nbformat": 4,
 "nbformat_minor": 2
}
