{
 "cells": [
  {
   "cell_type": "code",
   "execution_count": null,
   "metadata": {},
   "outputs": [],
   "source": [
    "from io import BytesIO\n",
    "from zipfile import ZipFile\n",
    "from urllib.request import urlopen\n",
    "from pathlib import Path\n",
    "import pandas as pd\n",
    "import requests\n",
    "from prefect import flow, task\n",
    "from prefect_gcp.cloud_storage import GcsBucket\n",
    "from google.cloud import storage"
   ]
  },
  {
   "cell_type": "code",
   "execution_count": null,
   "metadata": {},
   "outputs": [],
   "source": [
    "def fetch_files(folder_url: str) -> list:\n",
    "    \"\"\"Get list of csvs within zip folder\"\"\"\n",
    "    dataset_url = folder_url\n",
    "    resp = urlopen(dataset_url)\n",
    "    myzip = ZipFile(BytesIO(resp.read()))\n",
    "    lscsv = myzip.namelist()\n",
    "\n",
    "    return lscsv"
   ]
  },
  {
   "cell_type": "code",
   "execution_count": null,
   "metadata": {},
   "outputs": [],
   "source": [
    "def read_file(file_url: str) -> pd.DataFrame:\n",
    "    \"\"\"Read csv into pandas dataframe\"\"\"\n",
    "    df = pd.read_csv(file_url)\n",
    "    return df"
   ]
  },
  {
   "cell_type": "code",
   "execution_count": null,
   "metadata": {},
   "outputs": [],
   "source": [
    "base_url = 'https://www.st.nmfs.noaa.gov/st1/recreational/MRIP_Survey_Data/CSV/'\n",
    "lszip = fetch_folders(base_url)"
   ]
  },
  {
   "cell_type": "code",
   "execution_count": null,
   "metadata": {},
   "outputs": [],
   "source": [
    "folder_url = f'{base_url[:-1]}/{lszip[0]}'\n",
    "lscsv = fetch_files(folder_url)"
   ]
  },
  {
   "cell_type": "code",
   "execution_count": null,
   "metadata": {},
   "outputs": [],
   "source": [
    "file_url = f'{folder_url}/{lscsv[0]}'\n",
    "print(file_url)"
   ]
  },
  {
   "cell_type": "code",
   "execution_count": null,
   "metadata": {},
   "outputs": [],
   "source": [
    "df = read_file(file_url)\n",
    "df.head()"
   ]
  }
 ],
 "metadata": {
  "language_info": {
   "name": "python"
  },
  "orig_nbformat": 4
 },
 "nbformat": 4,
 "nbformat_minor": 2
}
