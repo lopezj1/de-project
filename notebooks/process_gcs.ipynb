{
 "cells": [
  {
   "attachments": {},
   "cell_type": "markdown",
   "metadata": {},
   "source": [
    "#### To Do\n",
    "- Don't upload if already exists in bucket folder\n",
    "- Make unzip_blob a subflow?\n",
    "- Delete zip blob, once unzip complete\n",
    "- Use pyspark or dbt to get into BQ?"
   ]
  },
  {
   "cell_type": "code",
   "execution_count": 81,
   "metadata": {},
   "outputs": [],
   "source": [
    "from io import BytesIO\n",
    "from pathlib import Path\n",
    "from zipfile import ZipFile, is_zipfile\n",
    "import pandas as pd\n",
    "from prefect import flow, task\n",
    "from google.cloud import storage\n",
    "import os"
   ]
  },
  {
   "cell_type": "code",
   "execution_count": 82,
   "metadata": {},
   "outputs": [],
   "source": [
    "# catch = pd.read_csv('../tmp/catch_19814.csv')\n",
    "# size = pd.read_csv('../tmp/size_19826.csv')\n",
    "# trip = pd.read_csv('../tmp/trip_19842.csv')\n",
    "\n",
    "# catch_dtype = catch.dtypes.to_dict()\n",
    "# size_dtype = size.dtypes.to_dict()\n",
    "# trip_dtype = trip.dtypes.to_dict()\n",
    "\n",
    "# print(size_dtype)"
   ]
  },
  {
   "cell_type": "code",
   "execution_count": 83,
   "metadata": {},
   "outputs": [],
   "source": [
    "catch_dtype = {'common': str, 'strat_id': str, 'psu_id': int, \n",
    "                'id_code': int, 'MODE_FX': int, 'AREA_X': int, \n",
    "                'ST': int, 'SUB_REG': int, 'WAVE': int, \n",
    "                'year': int, 'month': int, 'kod': str, \n",
    "                'SP_CODE': float, 'CLAIM': float, 'RELEASE': float, \n",
    "                'HARVEST': float, 'CLAIM_UNADJ': int, 'HARVEST_UNADJ': int, \n",
    "                'RELEASE_UNADJ': int, 'tot_len_a': float, 'wgt_a': float, \n",
    "                'tot_len_b1': float, 'wgt_b1': float, 'tot_cat': float, \n",
    "                'wgt_ab1': float, 'tot_len': float, 'Landing': float, \n",
    "                'VAR_ID': str, 'ARX_METHOD': float, 'ALT_FLAG': int, \n",
    "                'fl_reg': int, 'wp_catch_precal': float, 'wp_int': float, \n",
    "                'wp_catch': float, 'date_published': str}\n",
    "\n",
    "trip_dtype = {'prim2_common': str, 'prim1_common': str, 'strat_id': str, \n",
    "              'psu_id': int, 'ADD_HRS': float, 'AREA': int, \n",
    "              'AREA_X': int, 'BOAT_HRS': float, 'CATCH': int, \n",
    "              'CNTRBTRS': int, 'CNTY': int, 'CNTY_RES': int, \n",
    "              'COASTAL': str, 'FFDAYS2': int, 'FFDAYS12': int, \n",
    "              'FIRST': float, 'HRSF': float, 'ID_CODE': int, \n",
    "              'INTSITE': int, 'MODE_F': int, 'MODE_FX': int, \n",
    "              'NUM_TYP2': int, 'NUM_TYP3': int, 'NUM_TYP4': int, \n",
    "              'NUM_TYP6': float, 'ON_LIST': float, 'PARTY': float, \n",
    "              'REG_RES': float, 'ST': int, 'ST_RES': int, \n",
    "              'SUB_REG': int, 'TELEFON': int, 'WAVE': int, \n",
    "              'YEAR': int, 'ASG_CODE': int, 'month': int, \n",
    "              'kod': str, 'MODE_ASG': float, 'new_list': float, \n",
    "              'PRT_CODE': int, 'CELLTYPE': float, 'fshinsp_a': float, \n",
    "              'num_fish_a': float, 'fl_reg': int, 'ADD_PH': int, \n",
    "              'AREA_NC': float, 'COUNTY': str, 'DATE1': str, \n",
    "              'DIST': int, 'F_BY_P': int, 'GEAR': int, \n",
    "              'MODE2001': float, 'MUNI_RES': float, 'MUNI_TRP': float, \n",
    "              'PRIM1': float, 'PRIM2': float, 'PVT_RES': int, \n",
    "              'RIG': int, 'SEP_FISH': int, 'TIME': int, \n",
    "              'ZIP': float, 'AGE': float, 'wp_int': float, \n",
    "              'VAR_ID': str, 'ARX_METHOD': float, 'ALT_FLAG': int, \n",
    "              'LEADER': int, 'date_published': str}\n",
    "\n",
    "size_dtype = {'AREA_X': int, 'ID_CODE': int, 'MODE_FX': int, \n",
    "              'ST': int, 'SUB_REG': int, 'WAVE': int, \n",
    "              'YEAR': int, 'month': int, 'kod': str, \n",
    "              'SP_CODE': float, 'LNGTH': float, 'WGT': float, \n",
    "              'lngth_imp': int, 'wgt_imp': int, 'strat_id': str, \n",
    "              'psu_id': int, 'common': str, 'wgt_unadj': float, \n",
    "              'wp_size': float, 'l_in_bin': float, 'l_cm_bin': float, \n",
    "              'VAR_ID': str, 'ARX_METHOD': float, 'ALT_FLAG': int, \n",
    "              'date_published': str}"
   ]
  },
  {
   "cell_type": "code",
   "execution_count": 84,
   "metadata": {},
   "outputs": [
    {
     "name": "stderr",
     "output_type": "stream",
     "text": [
      "c:\\Users\\jlopez\\AppData\\Local\\Continuum\\anaconda3\\envs\\de_project\\Lib\\site-packages\\prefect\\tasks.py:275: UserWarning: A task named 'read_gcs_bucket' and defined at 'C:\\Users\\jlopez\\AppData\\Local\\Temp\\ipykernel_13524\\561035817.py:1' conflicts with another task. Consider specifying a unique `name` parameter in the task definition:\n",
      "\n",
      " `@task(name='my_unique_name', ...)`\n",
      "  warnings.warn(\n"
     ]
    }
   ],
   "source": [
    "@task()\n",
    "def read_gcs_bucket(bucket) -> list:\n",
    "    \"\"\"Get list of zip folders in GCS bucket\"\"\"\n",
    "    lsblob = list(bucket.list_blobs(prefix=\"zip\"))  # get list of blobs in zip folder of bucket\n",
    "    lsblob = [l.name for l in lsblob]  # only return the filename from the blobs\n",
    "    print(lsblob)\n",
    "\n",
    "    return lsblob"
   ]
  },
  {
   "cell_type": "code",
   "execution_count": 85,
   "metadata": {},
   "outputs": [
    {
     "name": "stderr",
     "output_type": "stream",
     "text": [
      "c:\\Users\\jlopez\\AppData\\Local\\Continuum\\anaconda3\\envs\\de_project\\Lib\\site-packages\\prefect\\tasks.py:275: UserWarning: A task named 'process_file' and defined at 'C:\\Users\\jlopez\\AppData\\Local\\Temp\\ipykernel_13524\\2116000842.py:1' conflicts with another task. Consider specifying a unique `name` parameter in the task definition:\n",
      "\n",
      " `@task(name='my_unique_name', ...)`\n",
      "  warnings.warn(\n"
     ]
    }
   ],
   "source": [
    "@task()\n",
    "def process_file(filename: str, file: str, bucket) -> pd.DataFrame:\n",
    "    \"\"\"Convert csv file to parquet file\n",
    "    (csv) -> parquet\"\"\"\n",
    "    tmp_dir = \"../tmp\"\n",
    "    Path(tmp_dir).mkdir(parents=True, exist_ok=True)\n",
    "\n",
    "    folder = filename.split(\"_\")[0]\n",
    "    trunc_fn = filename.split(\".\")[0]\n",
    "    output_file = f\"../tmp/{trunc_fn}.csv\"\n",
    "    outfile = open(output_file, \"wb\")\n",
    "    outfile.write(file)\n",
    "    outfile.close()\n",
    "\n",
    "    file_extension = 'csv'\n",
    "    if folder == \"catch\":\n",
    "        dtype = catch_dtype\n",
    "        blob = bucket.blob(f\"catch/{trunc_fn}.{file_extension}\")\n",
    "    elif folder == \"trip\":\n",
    "        dtype = trip_dtype\n",
    "        blob = bucket.blob(f\"trip/{trunc_fn}.{file_extension}\")\n",
    "    elif folder == \"size\":\n",
    "        dtype = size_dtype\n",
    "        blob = bucket.blob(f\"size/{trunc_fn}.{file_extension}\")\n",
    "\n",
    "    # df = pd.read_csv(output_file\n",
    "    #                  #, dtype=dtype\n",
    "    #                  , low_memory=False\n",
    "    #                  )\n",
    "    # df.to_parquet(output_file.replace(\"csv\", \"parquet\"))\n",
    "\n",
    "    return trunc_fn, output_file, blob"
   ]
  },
  {
   "cell_type": "code",
   "execution_count": 86,
   "metadata": {},
   "outputs": [
    {
     "name": "stderr",
     "output_type": "stream",
     "text": [
      "c:\\Users\\jlopez\\AppData\\Local\\Continuum\\anaconda3\\envs\\de_project\\Lib\\site-packages\\prefect\\tasks.py:275: UserWarning: A task named 'write_gcs' and defined at 'C:\\Users\\jlopez\\AppData\\Local\\Temp\\ipykernel_13524\\1476261933.py:1' conflicts with another task. Consider specifying a unique `name` parameter in the task definition:\n",
      "\n",
      " `@task(name='my_unique_name', ...)`\n",
      "  warnings.warn(\n"
     ]
    }
   ],
   "source": [
    "@task()\n",
    "def write_gcs(filename: str, file, blob) -> None:\n",
    "    \"\"\"Write parquet file to GCS\n",
    "    (Dataframe) -> None\"\"\"\n",
    "    \n",
    "    with open(file, \"rb\") as myfile:\n",
    "        blob.upload_from_file(myfile)\n",
    "\n",
    "    print(f'Csv file size is {os.stat(f\"../tmp/{filename}.csv\").st_size}')\n",
    "    os.remove(f\"../tmp/{filename}.csv\")  # delete/remove outfile\n",
    "\n",
    "    # print(f'Parquet file size is {os.stat(f\"../tmp/{filename}.parquet\").st_size}')\n",
    "    # os.remove(f\"../tmp/{filename}.parquet\")  # delete/remove outfile"
   ]
  },
  {
   "cell_type": "code",
   "execution_count": 87,
   "metadata": {},
   "outputs": [],
   "source": [
    "# def unzip_blob_csv(source_path: str, bucket) -> list:\n",
    "#     \"\"\"Unzip folder\"\"\"\n",
    "#     blob = bucket.blob(source_path)\n",
    "\n",
    "#     zipbytes = BytesIO(blob.download_as_string())\n",
    "\n",
    "#     if is_zipfile(zipbytes):\n",
    "#         with ZipFile(zipbytes, \"r\") as myzip:\n",
    "#             for contentfilename in myzip.namelist():\n",
    "#                 folder = contentfilename.split(\"_\")[0]\n",
    "#                 contentfile = myzip.read(contentfilename)\n",
    "\n",
    "#                 tmp_dir = \"../tmp\"\n",
    "#                 Path(tmp_dir).mkdir(parents=True, exist_ok=True)\n",
    "\n",
    "#                 trunc_fn = contentfilename.split(\"_\")[1]\n",
    "#                 output_file = f\"../tmp/{trunc_fn}\"\n",
    "#                 outfile = open(output_file, \"wb\")\n",
    "#                 outfile.write(contentfile)\n",
    "#                 outfile.close()\n",
    "\n",
    "#                 if folder == \"catch\":\n",
    "#                     blob = bucket.blob(f\"catch/{trunc_fn}\")\n",
    "#                 elif folder == \"trip\":\n",
    "#                     blob = bucket.blob(f\"trip/{trunc_fn}\")\n",
    "#                 elif folder == \"size\":\n",
    "#                     blob = bucket.blob(f\"size/{trunc_fn}\")\n",
    "\n",
    "#                 with open(output_file, \"rb\") as mycsv:\n",
    "#                     blob.upload_from_file(mycsv)\n",
    "\n",
    "#                 os.remove(f\"../tmp/{trunc_fn}\")  # delete/remove outfile\n"
   ]
  },
  {
   "cell_type": "code",
   "execution_count": 88,
   "metadata": {},
   "outputs": [],
   "source": [
    "@task()\n",
    "def unzip_blob(source_path: str, bucket) -> dict:\n",
    "    \"\"\"Unzip folder\"\"\"\n",
    "    blob = bucket.blob(source_path)\n",
    "\n",
    "    zipbytes = BytesIO(blob.download_as_string())\n",
    "\n",
    "    lsfilename = []\n",
    "    lsfile = []\n",
    "\n",
    "    if is_zipfile(zipbytes):\n",
    "        with ZipFile(zipbytes, \"r\") as myzip:\n",
    "            for contentfilename in myzip.namelist():\n",
    "                contentfile = myzip.read(contentfilename)\n",
    "\n",
    "                lsfilename.append(contentfilename)\n",
    "                lsfile.append(contentfile)\n",
    "    \n",
    "    dictfile = dict(zip(lsfilename, lsfile))\n",
    "    return dictfile"
   ]
  },
  {
   "cell_type": "code",
   "execution_count": 89,
   "metadata": {},
   "outputs": [
    {
     "name": "stderr",
     "output_type": "stream",
     "text": [
      "c:\\Users\\jlopez\\AppData\\Local\\Continuum\\anaconda3\\envs\\de_project\\Lib\\site-packages\\prefect\\flows.py:214: UserWarning: A flow named 'process-gcs-blob' and defined at 'C:\\Users\\jlopez\\AppData\\Local\\Temp\\ipykernel_13524\\747118278.py:1' conflicts with another flow. Consider specifying a unique `name` parameter in the flow definition:\n",
      "\n",
      " `@flow(name='my_unique_name', ...)`\n",
      "  warnings.warn(\n"
     ]
    }
   ],
   "source": [
    "@flow(log_prints=False)\n",
    "def process_gcs_blob(blob: str = \"ps_2021_csv.zip\"\n",
    "                     , bucket_name: str = \"de_project_bucket\") -> None:\n",
    "    \"\"\"Process blob in gcs bucket\"\"\"\n",
    "    storage_client = storage.Client.from_service_account_json(\"../creds.json\")\n",
    "    # bucket_name = \"de_project_bucket\"  # parameterize this\n",
    "    bucket = storage_client.get_bucket(bucket_name)\n",
    "\n",
    "    # unzip_blob(blob, bucket)\n",
    "    csvs = unzip_blob(f'zip/{blob}', bucket)\n",
    "    for k, v in csvs.items():\n",
    "        print(k)\n",
    "        pf = process_file(k, v, bucket)\n",
    "        filename = pf[0] #get file name without extension\n",
    "        file = pf[1]\n",
    "        blob = pf[2]\n",
    "        write_gcs(filename, file, blob)\n",
    "\n",
    "    # lsblob = read_gcs_bucket(bucket)\n",
    "\n",
    "    # for blob in lsblob:\n",
    "    #     csvs = unzip_blob(blob, bucket)\n",
    "    #     for k, v in csvs.items():\n",
    "    #         print(k)\n",
    "    #         parquet = process_file(k, v, bucket)\n",
    "    #         filename = parquet[0] #get file name without extension\n",
    "    #         file = parquet[1]\n",
    "    #         blob = parquet[2]\n",
    "    #         write_gcs(filename, file, blob)"
   ]
  },
  {
   "cell_type": "code",
   "execution_count": 90,
   "metadata": {},
   "outputs": [
    {
     "data": {
      "text/html": [
       "<pre style=\"white-space:pre;overflow-x:auto;line-height:normal;font-family:Menlo,'DejaVu Sans Mono',consolas,'Courier New',monospace\">22:26:44.278 | <span style=\"color: #008080; text-decoration-color: #008080\">INFO</span>    | prefect.engine - Created flow run<span style=\"color: #800080; text-decoration-color: #800080\"> 'khaki-bat'</span> for flow<span style=\"color: #800080; text-decoration-color: #800080; font-weight: bold\"> 'process-gcs-blob'</span>\n",
       "</pre>\n"
      ],
      "text/plain": [
       "22:26:44.278 | \u001b[36mINFO\u001b[0m    | prefect.engine - Created flow run\u001b[35m 'khaki-bat'\u001b[0m for flow\u001b[1;35m 'process-gcs-blob'\u001b[0m\n"
      ]
     },
     "metadata": {},
     "output_type": "display_data"
    },
    {
     "data": {
      "text/html": [
       "<pre style=\"white-space:pre;overflow-x:auto;line-height:normal;font-family:Menlo,'DejaVu Sans Mono',consolas,'Courier New',monospace\">22:26:44.988 | <span style=\"color: #008080; text-decoration-color: #008080\">INFO</span>    | Flow run<span style=\"color: #800080; text-decoration-color: #800080\"> 'khaki-bat'</span> - Created task run 'unzip_blob-0' for task 'unzip_blob'\n",
       "</pre>\n"
      ],
      "text/plain": [
       "22:26:44.988 | \u001b[36mINFO\u001b[0m    | Flow run\u001b[35m 'khaki-bat'\u001b[0m - Created task run 'unzip_blob-0' for task 'unzip_blob'\n"
      ]
     },
     "metadata": {},
     "output_type": "display_data"
    },
    {
     "data": {
      "text/html": [
       "<pre style=\"white-space:pre;overflow-x:auto;line-height:normal;font-family:Menlo,'DejaVu Sans Mono',consolas,'Courier New',monospace\">22:26:44.992 | <span style=\"color: #008080; text-decoration-color: #008080\">INFO</span>    | Flow run<span style=\"color: #800080; text-decoration-color: #800080\"> 'khaki-bat'</span> - Executing 'unzip_blob-0' immediately...\n",
       "</pre>\n"
      ],
      "text/plain": [
       "22:26:44.992 | \u001b[36mINFO\u001b[0m    | Flow run\u001b[35m 'khaki-bat'\u001b[0m - Executing 'unzip_blob-0' immediately...\n"
      ]
     },
     "metadata": {},
     "output_type": "display_data"
    },
    {
     "data": {
      "text/html": [
       "<pre style=\"white-space:pre;overflow-x:auto;line-height:normal;font-family:Menlo,'DejaVu Sans Mono',consolas,'Courier New',monospace\">22:26:49.124 | <span style=\"color: #008080; text-decoration-color: #008080\">INFO</span>    | Task run 'unzip_blob-0' - Finished in state <span style=\"color: #008000; text-decoration-color: #008000\">Completed</span>()\n",
       "</pre>\n"
      ],
      "text/plain": [
       "22:26:49.124 | \u001b[36mINFO\u001b[0m    | Task run 'unzip_blob-0' - Finished in state \u001b[32mCompleted\u001b[0m()\n"
      ]
     },
     "metadata": {},
     "output_type": "display_data"
    },
    {
     "name": "stdout",
     "output_type": "stream",
     "text": [
      "catch_19811.csv\n"
     ]
    },
    {
     "data": {
      "text/html": [
       "<pre style=\"white-space:pre;overflow-x:auto;line-height:normal;font-family:Menlo,'DejaVu Sans Mono',consolas,'Courier New',monospace\">22:26:49.206 | <span style=\"color: #008080; text-decoration-color: #008080\">INFO</span>    | Flow run<span style=\"color: #800080; text-decoration-color: #800080\"> 'khaki-bat'</span> - Created task run 'process_file-0' for task 'process_file'\n",
       "</pre>\n"
      ],
      "text/plain": [
       "22:26:49.206 | \u001b[36mINFO\u001b[0m    | Flow run\u001b[35m 'khaki-bat'\u001b[0m - Created task run 'process_file-0' for task 'process_file'\n"
      ]
     },
     "metadata": {},
     "output_type": "display_data"
    },
    {
     "data": {
      "text/html": [
       "<pre style=\"white-space:pre;overflow-x:auto;line-height:normal;font-family:Menlo,'DejaVu Sans Mono',consolas,'Courier New',monospace\">22:26:49.211 | <span style=\"color: #008080; text-decoration-color: #008080\">INFO</span>    | Flow run<span style=\"color: #800080; text-decoration-color: #800080\"> 'khaki-bat'</span> - Executing 'process_file-0' immediately...\n",
       "</pre>\n"
      ],
      "text/plain": [
       "22:26:49.211 | \u001b[36mINFO\u001b[0m    | Flow run\u001b[35m 'khaki-bat'\u001b[0m - Executing 'process_file-0' immediately...\n"
      ]
     },
     "metadata": {},
     "output_type": "display_data"
    },
    {
     "data": {
      "text/html": [
       "<pre style=\"white-space:pre;overflow-x:auto;line-height:normal;font-family:Menlo,'DejaVu Sans Mono',consolas,'Courier New',monospace\">22:26:49.419 | <span style=\"color: #008080; text-decoration-color: #008080\">INFO</span>    | Task run 'process_file-0' - Finished in state <span style=\"color: #008000; text-decoration-color: #008000\">Completed</span>()\n",
       "</pre>\n"
      ],
      "text/plain": [
       "22:26:49.419 | \u001b[36mINFO\u001b[0m    | Task run 'process_file-0' - Finished in state \u001b[32mCompleted\u001b[0m()\n"
      ]
     },
     "metadata": {},
     "output_type": "display_data"
    },
    {
     "data": {
      "text/html": [
       "<pre style=\"white-space:pre;overflow-x:auto;line-height:normal;font-family:Menlo,'DejaVu Sans Mono',consolas,'Courier New',monospace\">22:26:49.491 | <span style=\"color: #008080; text-decoration-color: #008080\">INFO</span>    | Flow run<span style=\"color: #800080; text-decoration-color: #800080\"> 'khaki-bat'</span> - Created task run 'write_gcs-0' for task 'write_gcs'\n",
       "</pre>\n"
      ],
      "text/plain": [
       "22:26:49.491 | \u001b[36mINFO\u001b[0m    | Flow run\u001b[35m 'khaki-bat'\u001b[0m - Created task run 'write_gcs-0' for task 'write_gcs'\n"
      ]
     },
     "metadata": {},
     "output_type": "display_data"
    },
    {
     "data": {
      "text/html": [
       "<pre style=\"white-space:pre;overflow-x:auto;line-height:normal;font-family:Menlo,'DejaVu Sans Mono',consolas,'Courier New',monospace\">22:26:49.495 | <span style=\"color: #008080; text-decoration-color: #008080\">INFO</span>    | Flow run<span style=\"color: #800080; text-decoration-color: #800080\"> 'khaki-bat'</span> - Executing 'write_gcs-0' immediately...\n",
       "</pre>\n"
      ],
      "text/plain": [
       "22:26:49.495 | \u001b[36mINFO\u001b[0m    | Flow run\u001b[35m 'khaki-bat'\u001b[0m - Executing 'write_gcs-0' immediately...\n"
      ]
     },
     "metadata": {},
     "output_type": "display_data"
    },
    {
     "name": "stdout",
     "output_type": "stream",
     "text": [
      "Csv file size is 16\n"
     ]
    },
    {
     "data": {
      "text/html": [
       "<pre style=\"white-space:pre;overflow-x:auto;line-height:normal;font-family:Menlo,'DejaVu Sans Mono',consolas,'Courier New',monospace\">22:26:50.301 | <span style=\"color: #008080; text-decoration-color: #008080\">INFO</span>    | Task run 'write_gcs-0' - Finished in state <span style=\"color: #008000; text-decoration-color: #008000\">Completed</span>()\n",
       "</pre>\n"
      ],
      "text/plain": [
       "22:26:50.301 | \u001b[36mINFO\u001b[0m    | Task run 'write_gcs-0' - Finished in state \u001b[32mCompleted\u001b[0m()\n"
      ]
     },
     "metadata": {},
     "output_type": "display_data"
    },
    {
     "name": "stdout",
     "output_type": "stream",
     "text": [
      "trip_19811.csv\n"
     ]
    },
    {
     "data": {
      "text/html": [
       "<pre style=\"white-space:pre;overflow-x:auto;line-height:normal;font-family:Menlo,'DejaVu Sans Mono',consolas,'Courier New',monospace\">22:26:50.389 | <span style=\"color: #008080; text-decoration-color: #008080\">INFO</span>    | Flow run<span style=\"color: #800080; text-decoration-color: #800080\"> 'khaki-bat'</span> - Created task run 'process_file-1' for task 'process_file'\n",
       "</pre>\n"
      ],
      "text/plain": [
       "22:26:50.389 | \u001b[36mINFO\u001b[0m    | Flow run\u001b[35m 'khaki-bat'\u001b[0m - Created task run 'process_file-1' for task 'process_file'\n"
      ]
     },
     "metadata": {},
     "output_type": "display_data"
    },
    {
     "data": {
      "text/html": [
       "<pre style=\"white-space:pre;overflow-x:auto;line-height:normal;font-family:Menlo,'DejaVu Sans Mono',consolas,'Courier New',monospace\">22:26:50.392 | <span style=\"color: #008080; text-decoration-color: #008080\">INFO</span>    | Flow run<span style=\"color: #800080; text-decoration-color: #800080\"> 'khaki-bat'</span> - Executing 'process_file-1' immediately...\n",
       "</pre>\n"
      ],
      "text/plain": [
       "22:26:50.392 | \u001b[36mINFO\u001b[0m    | Flow run\u001b[35m 'khaki-bat'\u001b[0m - Executing 'process_file-1' immediately...\n"
      ]
     },
     "metadata": {},
     "output_type": "display_data"
    },
    {
     "data": {
      "text/html": [
       "<pre style=\"white-space:pre;overflow-x:auto;line-height:normal;font-family:Menlo,'DejaVu Sans Mono',consolas,'Courier New',monospace\">22:26:50.612 | <span style=\"color: #008080; text-decoration-color: #008080\">INFO</span>    | Task run 'process_file-1' - Finished in state <span style=\"color: #008000; text-decoration-color: #008000\">Completed</span>()\n",
       "</pre>\n"
      ],
      "text/plain": [
       "22:26:50.612 | \u001b[36mINFO\u001b[0m    | Task run 'process_file-1' - Finished in state \u001b[32mCompleted\u001b[0m()\n"
      ]
     },
     "metadata": {},
     "output_type": "display_data"
    },
    {
     "data": {
      "text/html": [
       "<pre style=\"white-space:pre;overflow-x:auto;line-height:normal;font-family:Menlo,'DejaVu Sans Mono',consolas,'Courier New',monospace\">22:26:50.705 | <span style=\"color: #008080; text-decoration-color: #008080\">INFO</span>    | Flow run<span style=\"color: #800080; text-decoration-color: #800080\"> 'khaki-bat'</span> - Created task run 'write_gcs-1' for task 'write_gcs'\n",
       "</pre>\n"
      ],
      "text/plain": [
       "22:26:50.705 | \u001b[36mINFO\u001b[0m    | Flow run\u001b[35m 'khaki-bat'\u001b[0m - Created task run 'write_gcs-1' for task 'write_gcs'\n"
      ]
     },
     "metadata": {},
     "output_type": "display_data"
    },
    {
     "data": {
      "text/html": [
       "<pre style=\"white-space:pre;overflow-x:auto;line-height:normal;font-family:Menlo,'DejaVu Sans Mono',consolas,'Courier New',monospace\">22:26:50.708 | <span style=\"color: #008080; text-decoration-color: #008080\">INFO</span>    | Flow run<span style=\"color: #800080; text-decoration-color: #800080\"> 'khaki-bat'</span> - Executing 'write_gcs-1' immediately...\n",
       "</pre>\n"
      ],
      "text/plain": [
       "22:26:50.708 | \u001b[36mINFO\u001b[0m    | Flow run\u001b[35m 'khaki-bat'\u001b[0m - Executing 'write_gcs-1' immediately...\n"
      ]
     },
     "metadata": {},
     "output_type": "display_data"
    },
    {
     "name": "stdout",
     "output_type": "stream",
     "text": [
      "Csv file size is 16\n"
     ]
    },
    {
     "data": {
      "text/html": [
       "<pre style=\"white-space:pre;overflow-x:auto;line-height:normal;font-family:Menlo,'DejaVu Sans Mono',consolas,'Courier New',monospace\">22:26:51.519 | <span style=\"color: #008080; text-decoration-color: #008080\">INFO</span>    | Task run 'write_gcs-1' - Finished in state <span style=\"color: #008000; text-decoration-color: #008000\">Completed</span>()\n",
       "</pre>\n"
      ],
      "text/plain": [
       "22:26:51.519 | \u001b[36mINFO\u001b[0m    | Task run 'write_gcs-1' - Finished in state \u001b[32mCompleted\u001b[0m()\n"
      ]
     },
     "metadata": {},
     "output_type": "display_data"
    },
    {
     "name": "stdout",
     "output_type": "stream",
     "text": [
      "size_19811.csv\n"
     ]
    },
    {
     "data": {
      "text/html": [
       "<pre style=\"white-space:pre;overflow-x:auto;line-height:normal;font-family:Menlo,'DejaVu Sans Mono',consolas,'Courier New',monospace\">22:26:51.608 | <span style=\"color: #008080; text-decoration-color: #008080\">INFO</span>    | Flow run<span style=\"color: #800080; text-decoration-color: #800080\"> 'khaki-bat'</span> - Created task run 'process_file-2' for task 'process_file'\n",
       "</pre>\n"
      ],
      "text/plain": [
       "22:26:51.608 | \u001b[36mINFO\u001b[0m    | Flow run\u001b[35m 'khaki-bat'\u001b[0m - Created task run 'process_file-2' for task 'process_file'\n"
      ]
     },
     "metadata": {},
     "output_type": "display_data"
    },
    {
     "data": {
      "text/html": [
       "<pre style=\"white-space:pre;overflow-x:auto;line-height:normal;font-family:Menlo,'DejaVu Sans Mono',consolas,'Courier New',monospace\">22:26:51.611 | <span style=\"color: #008080; text-decoration-color: #008080\">INFO</span>    | Flow run<span style=\"color: #800080; text-decoration-color: #800080\"> 'khaki-bat'</span> - Executing 'process_file-2' immediately...\n",
       "</pre>\n"
      ],
      "text/plain": [
       "22:26:51.611 | \u001b[36mINFO\u001b[0m    | Flow run\u001b[35m 'khaki-bat'\u001b[0m - Executing 'process_file-2' immediately...\n"
      ]
     },
     "metadata": {},
     "output_type": "display_data"
    },
    {
     "data": {
      "text/html": [
       "<pre style=\"white-space:pre;overflow-x:auto;line-height:normal;font-family:Menlo,'DejaVu Sans Mono',consolas,'Courier New',monospace\">22:26:51.885 | <span style=\"color: #008080; text-decoration-color: #008080\">INFO</span>    | Task run 'process_file-2' - Finished in state <span style=\"color: #008000; text-decoration-color: #008000\">Completed</span>()\n",
       "</pre>\n"
      ],
      "text/plain": [
       "22:26:51.885 | \u001b[36mINFO\u001b[0m    | Task run 'process_file-2' - Finished in state \u001b[32mCompleted\u001b[0m()\n"
      ]
     },
     "metadata": {},
     "output_type": "display_data"
    },
    {
     "data": {
      "text/html": [
       "<pre style=\"white-space:pre;overflow-x:auto;line-height:normal;font-family:Menlo,'DejaVu Sans Mono',consolas,'Courier New',monospace\">22:26:51.957 | <span style=\"color: #008080; text-decoration-color: #008080\">INFO</span>    | Flow run<span style=\"color: #800080; text-decoration-color: #800080\"> 'khaki-bat'</span> - Created task run 'write_gcs-2' for task 'write_gcs'\n",
       "</pre>\n"
      ],
      "text/plain": [
       "22:26:51.957 | \u001b[36mINFO\u001b[0m    | Flow run\u001b[35m 'khaki-bat'\u001b[0m - Created task run 'write_gcs-2' for task 'write_gcs'\n"
      ]
     },
     "metadata": {},
     "output_type": "display_data"
    },
    {
     "data": {
      "text/html": [
       "<pre style=\"white-space:pre;overflow-x:auto;line-height:normal;font-family:Menlo,'DejaVu Sans Mono',consolas,'Courier New',monospace\">22:26:51.961 | <span style=\"color: #008080; text-decoration-color: #008080\">INFO</span>    | Flow run<span style=\"color: #800080; text-decoration-color: #800080\"> 'khaki-bat'</span> - Executing 'write_gcs-2' immediately...\n",
       "</pre>\n"
      ],
      "text/plain": [
       "22:26:51.961 | \u001b[36mINFO\u001b[0m    | Flow run\u001b[35m 'khaki-bat'\u001b[0m - Executing 'write_gcs-2' immediately...\n"
      ]
     },
     "metadata": {},
     "output_type": "display_data"
    },
    {
     "name": "stdout",
     "output_type": "stream",
     "text": [
      "Csv file size is 96\n"
     ]
    },
    {
     "data": {
      "text/html": [
       "<pre style=\"white-space:pre;overflow-x:auto;line-height:normal;font-family:Menlo,'DejaVu Sans Mono',consolas,'Courier New',monospace\">22:26:52.661 | <span style=\"color: #008080; text-decoration-color: #008080\">INFO</span>    | Task run 'write_gcs-2' - Finished in state <span style=\"color: #008000; text-decoration-color: #008000\">Completed</span>()\n",
       "</pre>\n"
      ],
      "text/plain": [
       "22:26:52.661 | \u001b[36mINFO\u001b[0m    | Task run 'write_gcs-2' - Finished in state \u001b[32mCompleted\u001b[0m()\n"
      ]
     },
     "metadata": {},
     "output_type": "display_data"
    },
    {
     "name": "stdout",
     "output_type": "stream",
     "text": [
      "catch_19812.csv\n"
     ]
    },
    {
     "data": {
      "text/html": [
       "<pre style=\"white-space:pre;overflow-x:auto;line-height:normal;font-family:Menlo,'DejaVu Sans Mono',consolas,'Courier New',monospace\">22:26:52.743 | <span style=\"color: #008080; text-decoration-color: #008080\">INFO</span>    | Flow run<span style=\"color: #800080; text-decoration-color: #800080\"> 'khaki-bat'</span> - Created task run 'process_file-3' for task 'process_file'\n",
       "</pre>\n"
      ],
      "text/plain": [
       "22:26:52.743 | \u001b[36mINFO\u001b[0m    | Flow run\u001b[35m 'khaki-bat'\u001b[0m - Created task run 'process_file-3' for task 'process_file'\n"
      ]
     },
     "metadata": {},
     "output_type": "display_data"
    },
    {
     "data": {
      "text/html": [
       "<pre style=\"white-space:pre;overflow-x:auto;line-height:normal;font-family:Menlo,'DejaVu Sans Mono',consolas,'Courier New',monospace\">22:26:52.746 | <span style=\"color: #008080; text-decoration-color: #008080\">INFO</span>    | Flow run<span style=\"color: #800080; text-decoration-color: #800080\"> 'khaki-bat'</span> - Executing 'process_file-3' immediately...\n",
       "</pre>\n"
      ],
      "text/plain": [
       "22:26:52.746 | \u001b[36mINFO\u001b[0m    | Flow run\u001b[35m 'khaki-bat'\u001b[0m - Executing 'process_file-3' immediately...\n"
      ]
     },
     "metadata": {},
     "output_type": "display_data"
    },
    {
     "data": {
      "text/html": [
       "<pre style=\"white-space:pre;overflow-x:auto;line-height:normal;font-family:Menlo,'DejaVu Sans Mono',consolas,'Courier New',monospace\">22:26:52.935 | <span style=\"color: #008080; text-decoration-color: #008080\">INFO</span>    | Task run 'process_file-3' - Finished in state <span style=\"color: #008000; text-decoration-color: #008000\">Completed</span>()\n",
       "</pre>\n"
      ],
      "text/plain": [
       "22:26:52.935 | \u001b[36mINFO\u001b[0m    | Task run 'process_file-3' - Finished in state \u001b[32mCompleted\u001b[0m()\n"
      ]
     },
     "metadata": {},
     "output_type": "display_data"
    },
    {
     "data": {
      "text/html": [
       "<pre style=\"white-space:pre;overflow-x:auto;line-height:normal;font-family:Menlo,'DejaVu Sans Mono',consolas,'Courier New',monospace\">22:26:53.014 | <span style=\"color: #008080; text-decoration-color: #008080\">INFO</span>    | Flow run<span style=\"color: #800080; text-decoration-color: #800080\"> 'khaki-bat'</span> - Created task run 'write_gcs-3' for task 'write_gcs'\n",
       "</pre>\n"
      ],
      "text/plain": [
       "22:26:53.014 | \u001b[36mINFO\u001b[0m    | Flow run\u001b[35m 'khaki-bat'\u001b[0m - Created task run 'write_gcs-3' for task 'write_gcs'\n"
      ]
     },
     "metadata": {},
     "output_type": "display_data"
    },
    {
     "data": {
      "text/html": [
       "<pre style=\"white-space:pre;overflow-x:auto;line-height:normal;font-family:Menlo,'DejaVu Sans Mono',consolas,'Courier New',monospace\">22:26:53.019 | <span style=\"color: #008080; text-decoration-color: #008080\">INFO</span>    | Flow run<span style=\"color: #800080; text-decoration-color: #800080\"> 'khaki-bat'</span> - Executing 'write_gcs-3' immediately...\n",
       "</pre>\n"
      ],
      "text/plain": [
       "22:26:53.019 | \u001b[36mINFO\u001b[0m    | Flow run\u001b[35m 'khaki-bat'\u001b[0m - Executing 'write_gcs-3' immediately...\n"
      ]
     },
     "metadata": {},
     "output_type": "display_data"
    },
    {
     "name": "stdout",
     "output_type": "stream",
     "text": [
      "Csv file size is 214679\n"
     ]
    },
    {
     "data": {
      "text/html": [
       "<pre style=\"white-space:pre;overflow-x:auto;line-height:normal;font-family:Menlo,'DejaVu Sans Mono',consolas,'Courier New',monospace\">22:26:54.241 | <span style=\"color: #008080; text-decoration-color: #008080\">INFO</span>    | Task run 'write_gcs-3' - Finished in state <span style=\"color: #008000; text-decoration-color: #008000\">Completed</span>()\n",
       "</pre>\n"
      ],
      "text/plain": [
       "22:26:54.241 | \u001b[36mINFO\u001b[0m    | Task run 'write_gcs-3' - Finished in state \u001b[32mCompleted\u001b[0m()\n"
      ]
     },
     "metadata": {},
     "output_type": "display_data"
    },
    {
     "name": "stdout",
     "output_type": "stream",
     "text": [
      "trip_19812.csv\n"
     ]
    },
    {
     "data": {
      "text/html": [
       "<pre style=\"white-space:pre;overflow-x:auto;line-height:normal;font-family:Menlo,'DejaVu Sans Mono',consolas,'Courier New',monospace\">22:26:54.324 | <span style=\"color: #008080; text-decoration-color: #008080\">INFO</span>    | Flow run<span style=\"color: #800080; text-decoration-color: #800080\"> 'khaki-bat'</span> - Created task run 'process_file-4' for task 'process_file'\n",
       "</pre>\n"
      ],
      "text/plain": [
       "22:26:54.324 | \u001b[36mINFO\u001b[0m    | Flow run\u001b[35m 'khaki-bat'\u001b[0m - Created task run 'process_file-4' for task 'process_file'\n"
      ]
     },
     "metadata": {},
     "output_type": "display_data"
    },
    {
     "data": {
      "text/html": [
       "<pre style=\"white-space:pre;overflow-x:auto;line-height:normal;font-family:Menlo,'DejaVu Sans Mono',consolas,'Courier New',monospace\">22:26:54.328 | <span style=\"color: #008080; text-decoration-color: #008080\">INFO</span>    | Flow run<span style=\"color: #800080; text-decoration-color: #800080\"> 'khaki-bat'</span> - Executing 'process_file-4' immediately...\n",
       "</pre>\n"
      ],
      "text/plain": [
       "22:26:54.328 | \u001b[36mINFO\u001b[0m    | Flow run\u001b[35m 'khaki-bat'\u001b[0m - Executing 'process_file-4' immediately...\n"
      ]
     },
     "metadata": {},
     "output_type": "display_data"
    },
    {
     "data": {
      "text/html": [
       "<pre style=\"white-space:pre;overflow-x:auto;line-height:normal;font-family:Menlo,'DejaVu Sans Mono',consolas,'Courier New',monospace\">22:26:54.522 | <span style=\"color: #008080; text-decoration-color: #008080\">INFO</span>    | Task run 'process_file-4' - Finished in state <span style=\"color: #008000; text-decoration-color: #008000\">Completed</span>()\n",
       "</pre>\n"
      ],
      "text/plain": [
       "22:26:54.522 | \u001b[36mINFO\u001b[0m    | Task run 'process_file-4' - Finished in state \u001b[32mCompleted\u001b[0m()\n"
      ]
     },
     "metadata": {},
     "output_type": "display_data"
    },
    {
     "data": {
      "text/html": [
       "<pre style=\"white-space:pre;overflow-x:auto;line-height:normal;font-family:Menlo,'DejaVu Sans Mono',consolas,'Courier New',monospace\">22:26:54.596 | <span style=\"color: #008080; text-decoration-color: #008080\">INFO</span>    | Flow run<span style=\"color: #800080; text-decoration-color: #800080\"> 'khaki-bat'</span> - Created task run 'write_gcs-4' for task 'write_gcs'\n",
       "</pre>\n"
      ],
      "text/plain": [
       "22:26:54.596 | \u001b[36mINFO\u001b[0m    | Flow run\u001b[35m 'khaki-bat'\u001b[0m - Created task run 'write_gcs-4' for task 'write_gcs'\n"
      ]
     },
     "metadata": {},
     "output_type": "display_data"
    },
    {
     "data": {
      "text/html": [
       "<pre style=\"white-space:pre;overflow-x:auto;line-height:normal;font-family:Menlo,'DejaVu Sans Mono',consolas,'Courier New',monospace\">22:26:54.599 | <span style=\"color: #008080; text-decoration-color: #008080\">INFO</span>    | Flow run<span style=\"color: #800080; text-decoration-color: #800080\"> 'khaki-bat'</span> - Executing 'write_gcs-4' immediately...\n",
       "</pre>\n"
      ],
      "text/plain": [
       "22:26:54.599 | \u001b[36mINFO\u001b[0m    | Flow run\u001b[35m 'khaki-bat'\u001b[0m - Executing 'write_gcs-4' immediately...\n"
      ]
     },
     "metadata": {},
     "output_type": "display_data"
    },
    {
     "name": "stdout",
     "output_type": "stream",
     "text": [
      "Csv file size is 221693\n"
     ]
    },
    {
     "data": {
      "text/html": [
       "<pre style=\"white-space:pre;overflow-x:auto;line-height:normal;font-family:Menlo,'DejaVu Sans Mono',consolas,'Courier New',monospace\">22:26:55.376 | <span style=\"color: #008080; text-decoration-color: #008080\">INFO</span>    | Task run 'write_gcs-4' - Finished in state <span style=\"color: #008000; text-decoration-color: #008000\">Completed</span>()\n",
       "</pre>\n"
      ],
      "text/plain": [
       "22:26:55.376 | \u001b[36mINFO\u001b[0m    | Task run 'write_gcs-4' - Finished in state \u001b[32mCompleted\u001b[0m()\n"
      ]
     },
     "metadata": {},
     "output_type": "display_data"
    },
    {
     "name": "stdout",
     "output_type": "stream",
     "text": [
      "size_19812.csv\n"
     ]
    },
    {
     "data": {
      "text/html": [
       "<pre style=\"white-space:pre;overflow-x:auto;line-height:normal;font-family:Menlo,'DejaVu Sans Mono',consolas,'Courier New',monospace\">22:26:55.449 | <span style=\"color: #008080; text-decoration-color: #008080\">INFO</span>    | Flow run<span style=\"color: #800080; text-decoration-color: #800080\"> 'khaki-bat'</span> - Created task run 'process_file-5' for task 'process_file'\n",
       "</pre>\n"
      ],
      "text/plain": [
       "22:26:55.449 | \u001b[36mINFO\u001b[0m    | Flow run\u001b[35m 'khaki-bat'\u001b[0m - Created task run 'process_file-5' for task 'process_file'\n"
      ]
     },
     "metadata": {},
     "output_type": "display_data"
    },
    {
     "data": {
      "text/html": [
       "<pre style=\"white-space:pre;overflow-x:auto;line-height:normal;font-family:Menlo,'DejaVu Sans Mono',consolas,'Courier New',monospace\">22:26:55.454 | <span style=\"color: #008080; text-decoration-color: #008080\">INFO</span>    | Flow run<span style=\"color: #800080; text-decoration-color: #800080\"> 'khaki-bat'</span> - Executing 'process_file-5' immediately...\n",
       "</pre>\n"
      ],
      "text/plain": [
       "22:26:55.454 | \u001b[36mINFO\u001b[0m    | Flow run\u001b[35m 'khaki-bat'\u001b[0m - Executing 'process_file-5' immediately...\n"
      ]
     },
     "metadata": {},
     "output_type": "display_data"
    },
    {
     "data": {
      "text/html": [
       "<pre style=\"white-space:pre;overflow-x:auto;line-height:normal;font-family:Menlo,'DejaVu Sans Mono',consolas,'Courier New',monospace\">22:26:55.721 | <span style=\"color: #008080; text-decoration-color: #008080\">INFO</span>    | Task run 'process_file-5' - Finished in state <span style=\"color: #008000; text-decoration-color: #008000\">Completed</span>()\n",
       "</pre>\n"
      ],
      "text/plain": [
       "22:26:55.721 | \u001b[36mINFO\u001b[0m    | Task run 'process_file-5' - Finished in state \u001b[32mCompleted\u001b[0m()\n"
      ]
     },
     "metadata": {},
     "output_type": "display_data"
    },
    {
     "data": {
      "text/html": [
       "<pre style=\"white-space:pre;overflow-x:auto;line-height:normal;font-family:Menlo,'DejaVu Sans Mono',consolas,'Courier New',monospace\">22:26:55.784 | <span style=\"color: #008080; text-decoration-color: #008080\">INFO</span>    | Flow run<span style=\"color: #800080; text-decoration-color: #800080\"> 'khaki-bat'</span> - Created task run 'write_gcs-5' for task 'write_gcs'\n",
       "</pre>\n"
      ],
      "text/plain": [
       "22:26:55.784 | \u001b[36mINFO\u001b[0m    | Flow run\u001b[35m 'khaki-bat'\u001b[0m - Created task run 'write_gcs-5' for task 'write_gcs'\n"
      ]
     },
     "metadata": {},
     "output_type": "display_data"
    },
    {
     "data": {
      "text/html": [
       "<pre style=\"white-space:pre;overflow-x:auto;line-height:normal;font-family:Menlo,'DejaVu Sans Mono',consolas,'Courier New',monospace\">22:26:55.787 | <span style=\"color: #008080; text-decoration-color: #008080\">INFO</span>    | Flow run<span style=\"color: #800080; text-decoration-color: #800080\"> 'khaki-bat'</span> - Executing 'write_gcs-5' immediately...\n",
       "</pre>\n"
      ],
      "text/plain": [
       "22:26:55.787 | \u001b[36mINFO\u001b[0m    | Flow run\u001b[35m 'khaki-bat'\u001b[0m - Executing 'write_gcs-5' immediately...\n"
      ]
     },
     "metadata": {},
     "output_type": "display_data"
    },
    {
     "name": "stdout",
     "output_type": "stream",
     "text": [
      "Csv file size is 349282\n"
     ]
    },
    {
     "data": {
      "text/html": [
       "<pre style=\"white-space:pre;overflow-x:auto;line-height:normal;font-family:Menlo,'DejaVu Sans Mono',consolas,'Courier New',monospace\">22:26:56.723 | <span style=\"color: #008080; text-decoration-color: #008080\">INFO</span>    | Task run 'write_gcs-5' - Finished in state <span style=\"color: #008000; text-decoration-color: #008000\">Completed</span>()\n",
       "</pre>\n"
      ],
      "text/plain": [
       "22:26:56.723 | \u001b[36mINFO\u001b[0m    | Task run 'write_gcs-5' - Finished in state \u001b[32mCompleted\u001b[0m()\n"
      ]
     },
     "metadata": {},
     "output_type": "display_data"
    },
    {
     "name": "stdout",
     "output_type": "stream",
     "text": [
      "catch_19813.csv\n"
     ]
    },
    {
     "data": {
      "text/html": [
       "<pre style=\"white-space:pre;overflow-x:auto;line-height:normal;font-family:Menlo,'DejaVu Sans Mono',consolas,'Courier New',monospace\">22:26:56.806 | <span style=\"color: #008080; text-decoration-color: #008080\">INFO</span>    | Flow run<span style=\"color: #800080; text-decoration-color: #800080\"> 'khaki-bat'</span> - Created task run 'process_file-6' for task 'process_file'\n",
       "</pre>\n"
      ],
      "text/plain": [
       "22:26:56.806 | \u001b[36mINFO\u001b[0m    | Flow run\u001b[35m 'khaki-bat'\u001b[0m - Created task run 'process_file-6' for task 'process_file'\n"
      ]
     },
     "metadata": {},
     "output_type": "display_data"
    },
    {
     "data": {
      "text/html": [
       "<pre style=\"white-space:pre;overflow-x:auto;line-height:normal;font-family:Menlo,'DejaVu Sans Mono',consolas,'Courier New',monospace\">22:26:56.809 | <span style=\"color: #008080; text-decoration-color: #008080\">INFO</span>    | Flow run<span style=\"color: #800080; text-decoration-color: #800080\"> 'khaki-bat'</span> - Executing 'process_file-6' immediately...\n",
       "</pre>\n"
      ],
      "text/plain": [
       "22:26:56.809 | \u001b[36mINFO\u001b[0m    | Flow run\u001b[35m 'khaki-bat'\u001b[0m - Executing 'process_file-6' immediately...\n"
      ]
     },
     "metadata": {},
     "output_type": "display_data"
    },
    {
     "data": {
      "text/html": [
       "<pre style=\"white-space:pre;overflow-x:auto;line-height:normal;font-family:Menlo,'DejaVu Sans Mono',consolas,'Courier New',monospace\">22:26:57.011 | <span style=\"color: #008080; text-decoration-color: #008080\">INFO</span>    | Task run 'process_file-6' - Finished in state <span style=\"color: #008000; text-decoration-color: #008000\">Completed</span>()\n",
       "</pre>\n"
      ],
      "text/plain": [
       "22:26:57.011 | \u001b[36mINFO\u001b[0m    | Task run 'process_file-6' - Finished in state \u001b[32mCompleted\u001b[0m()\n"
      ]
     },
     "metadata": {},
     "output_type": "display_data"
    },
    {
     "data": {
      "text/html": [
       "<pre style=\"white-space:pre;overflow-x:auto;line-height:normal;font-family:Menlo,'DejaVu Sans Mono',consolas,'Courier New',monospace\">22:26:57.089 | <span style=\"color: #008080; text-decoration-color: #008080\">INFO</span>    | Flow run<span style=\"color: #800080; text-decoration-color: #800080\"> 'khaki-bat'</span> - Created task run 'write_gcs-6' for task 'write_gcs'\n",
       "</pre>\n"
      ],
      "text/plain": [
       "22:26:57.089 | \u001b[36mINFO\u001b[0m    | Flow run\u001b[35m 'khaki-bat'\u001b[0m - Created task run 'write_gcs-6' for task 'write_gcs'\n"
      ]
     },
     "metadata": {},
     "output_type": "display_data"
    },
    {
     "data": {
      "text/html": [
       "<pre style=\"white-space:pre;overflow-x:auto;line-height:normal;font-family:Menlo,'DejaVu Sans Mono',consolas,'Courier New',monospace\">22:26:57.092 | <span style=\"color: #008080; text-decoration-color: #008080\">INFO</span>    | Flow run<span style=\"color: #800080; text-decoration-color: #800080\"> 'khaki-bat'</span> - Executing 'write_gcs-6' immediately...\n",
       "</pre>\n"
      ],
      "text/plain": [
       "22:26:57.092 | \u001b[36mINFO\u001b[0m    | Flow run\u001b[35m 'khaki-bat'\u001b[0m - Executing 'write_gcs-6' immediately...\n"
      ]
     },
     "metadata": {},
     "output_type": "display_data"
    },
    {
     "name": "stdout",
     "output_type": "stream",
     "text": [
      "Csv file size is 1097659\n"
     ]
    },
    {
     "data": {
      "text/html": [
       "<pre style=\"white-space:pre;overflow-x:auto;line-height:normal;font-family:Menlo,'DejaVu Sans Mono',consolas,'Courier New',monospace\">22:26:58.432 | <span style=\"color: #008080; text-decoration-color: #008080\">INFO</span>    | Task run 'write_gcs-6' - Finished in state <span style=\"color: #008000; text-decoration-color: #008000\">Completed</span>()\n",
       "</pre>\n"
      ],
      "text/plain": [
       "22:26:58.432 | \u001b[36mINFO\u001b[0m    | Task run 'write_gcs-6' - Finished in state \u001b[32mCompleted\u001b[0m()\n"
      ]
     },
     "metadata": {},
     "output_type": "display_data"
    },
    {
     "name": "stdout",
     "output_type": "stream",
     "text": [
      "trip_19813.csv\n"
     ]
    },
    {
     "data": {
      "text/html": [
       "<pre style=\"white-space:pre;overflow-x:auto;line-height:normal;font-family:Menlo,'DejaVu Sans Mono',consolas,'Courier New',monospace\">22:26:58.513 | <span style=\"color: #008080; text-decoration-color: #008080\">INFO</span>    | Flow run<span style=\"color: #800080; text-decoration-color: #800080\"> 'khaki-bat'</span> - Created task run 'process_file-7' for task 'process_file'\n",
       "</pre>\n"
      ],
      "text/plain": [
       "22:26:58.513 | \u001b[36mINFO\u001b[0m    | Flow run\u001b[35m 'khaki-bat'\u001b[0m - Created task run 'process_file-7' for task 'process_file'\n"
      ]
     },
     "metadata": {},
     "output_type": "display_data"
    },
    {
     "data": {
      "text/html": [
       "<pre style=\"white-space:pre;overflow-x:auto;line-height:normal;font-family:Menlo,'DejaVu Sans Mono',consolas,'Courier New',monospace\">22:26:58.516 | <span style=\"color: #008080; text-decoration-color: #008080\">INFO</span>    | Flow run<span style=\"color: #800080; text-decoration-color: #800080\"> 'khaki-bat'</span> - Executing 'process_file-7' immediately...\n",
       "</pre>\n"
      ],
      "text/plain": [
       "22:26:58.516 | \u001b[36mINFO\u001b[0m    | Flow run\u001b[35m 'khaki-bat'\u001b[0m - Executing 'process_file-7' immediately...\n"
      ]
     },
     "metadata": {},
     "output_type": "display_data"
    },
    {
     "data": {
      "text/html": [
       "<pre style=\"white-space:pre;overflow-x:auto;line-height:normal;font-family:Menlo,'DejaVu Sans Mono',consolas,'Courier New',monospace\">22:26:58.735 | <span style=\"color: #008080; text-decoration-color: #008080\">INFO</span>    | Task run 'process_file-7' - Finished in state <span style=\"color: #008000; text-decoration-color: #008000\">Completed</span>()\n",
       "</pre>\n"
      ],
      "text/plain": [
       "22:26:58.735 | \u001b[36mINFO\u001b[0m    | Task run 'process_file-7' - Finished in state \u001b[32mCompleted\u001b[0m()\n"
      ]
     },
     "metadata": {},
     "output_type": "display_data"
    },
    {
     "data": {
      "text/html": [
       "<pre style=\"white-space:pre;overflow-x:auto;line-height:normal;font-family:Menlo,'DejaVu Sans Mono',consolas,'Courier New',monospace\">22:26:58.811 | <span style=\"color: #008080; text-decoration-color: #008080\">INFO</span>    | Flow run<span style=\"color: #800080; text-decoration-color: #800080\"> 'khaki-bat'</span> - Created task run 'write_gcs-7' for task 'write_gcs'\n",
       "</pre>\n"
      ],
      "text/plain": [
       "22:26:58.811 | \u001b[36mINFO\u001b[0m    | Flow run\u001b[35m 'khaki-bat'\u001b[0m - Created task run 'write_gcs-7' for task 'write_gcs'\n"
      ]
     },
     "metadata": {},
     "output_type": "display_data"
    },
    {
     "data": {
      "text/html": [
       "<pre style=\"white-space:pre;overflow-x:auto;line-height:normal;font-family:Menlo,'DejaVu Sans Mono',consolas,'Courier New',monospace\">22:26:58.815 | <span style=\"color: #008080; text-decoration-color: #008080\">INFO</span>    | Flow run<span style=\"color: #800080; text-decoration-color: #800080\"> 'khaki-bat'</span> - Executing 'write_gcs-7' immediately...\n",
       "</pre>\n"
      ],
      "text/plain": [
       "22:26:58.815 | \u001b[36mINFO\u001b[0m    | Flow run\u001b[35m 'khaki-bat'\u001b[0m - Executing 'write_gcs-7' immediately...\n"
      ]
     },
     "metadata": {},
     "output_type": "display_data"
    },
    {
     "name": "stdout",
     "output_type": "stream",
     "text": [
      "Csv file size is 1039962\n"
     ]
    },
    {
     "data": {
      "text/html": [
       "<pre style=\"white-space:pre;overflow-x:auto;line-height:normal;font-family:Menlo,'DejaVu Sans Mono',consolas,'Courier New',monospace\">22:27:00.143 | <span style=\"color: #008080; text-decoration-color: #008080\">INFO</span>    | Task run 'write_gcs-7' - Finished in state <span style=\"color: #008000; text-decoration-color: #008000\">Completed</span>()\n",
       "</pre>\n"
      ],
      "text/plain": [
       "22:27:00.143 | \u001b[36mINFO\u001b[0m    | Task run 'write_gcs-7' - Finished in state \u001b[32mCompleted\u001b[0m()\n"
      ]
     },
     "metadata": {},
     "output_type": "display_data"
    },
    {
     "name": "stdout",
     "output_type": "stream",
     "text": [
      "size_19813.csv\n"
     ]
    },
    {
     "data": {
      "text/html": [
       "<pre style=\"white-space:pre;overflow-x:auto;line-height:normal;font-family:Menlo,'DejaVu Sans Mono',consolas,'Courier New',monospace\">22:27:00.222 | <span style=\"color: #008080; text-decoration-color: #008080\">INFO</span>    | Flow run<span style=\"color: #800080; text-decoration-color: #800080\"> 'khaki-bat'</span> - Created task run 'process_file-8' for task 'process_file'\n",
       "</pre>\n"
      ],
      "text/plain": [
       "22:27:00.222 | \u001b[36mINFO\u001b[0m    | Flow run\u001b[35m 'khaki-bat'\u001b[0m - Created task run 'process_file-8' for task 'process_file'\n"
      ]
     },
     "metadata": {},
     "output_type": "display_data"
    },
    {
     "data": {
      "text/html": [
       "<pre style=\"white-space:pre;overflow-x:auto;line-height:normal;font-family:Menlo,'DejaVu Sans Mono',consolas,'Courier New',monospace\">22:27:00.225 | <span style=\"color: #008080; text-decoration-color: #008080\">INFO</span>    | Flow run<span style=\"color: #800080; text-decoration-color: #800080\"> 'khaki-bat'</span> - Executing 'process_file-8' immediately...\n",
       "</pre>\n"
      ],
      "text/plain": [
       "22:27:00.225 | \u001b[36mINFO\u001b[0m    | Flow run\u001b[35m 'khaki-bat'\u001b[0m - Executing 'process_file-8' immediately...\n"
      ]
     },
     "metadata": {},
     "output_type": "display_data"
    },
    {
     "data": {
      "text/html": [
       "<pre style=\"white-space:pre;overflow-x:auto;line-height:normal;font-family:Menlo,'DejaVu Sans Mono',consolas,'Courier New',monospace\">22:27:00.404 | <span style=\"color: #008080; text-decoration-color: #008080\">INFO</span>    | Task run 'process_file-8' - Finished in state <span style=\"color: #008000; text-decoration-color: #008000\">Completed</span>()\n",
       "</pre>\n"
      ],
      "text/plain": [
       "22:27:00.404 | \u001b[36mINFO\u001b[0m    | Task run 'process_file-8' - Finished in state \u001b[32mCompleted\u001b[0m()\n"
      ]
     },
     "metadata": {},
     "output_type": "display_data"
    },
    {
     "data": {
      "text/html": [
       "<pre style=\"white-space:pre;overflow-x:auto;line-height:normal;font-family:Menlo,'DejaVu Sans Mono',consolas,'Courier New',monospace\">22:27:00.490 | <span style=\"color: #008080; text-decoration-color: #008080\">INFO</span>    | Flow run<span style=\"color: #800080; text-decoration-color: #800080\"> 'khaki-bat'</span> - Created task run 'write_gcs-8' for task 'write_gcs'\n",
       "</pre>\n"
      ],
      "text/plain": [
       "22:27:00.490 | \u001b[36mINFO\u001b[0m    | Flow run\u001b[35m 'khaki-bat'\u001b[0m - Created task run 'write_gcs-8' for task 'write_gcs'\n"
      ]
     },
     "metadata": {},
     "output_type": "display_data"
    },
    {
     "data": {
      "text/html": [
       "<pre style=\"white-space:pre;overflow-x:auto;line-height:normal;font-family:Menlo,'DejaVu Sans Mono',consolas,'Courier New',monospace\">22:27:00.499 | <span style=\"color: #008080; text-decoration-color: #008080\">INFO</span>    | Flow run<span style=\"color: #800080; text-decoration-color: #800080\"> 'khaki-bat'</span> - Executing 'write_gcs-8' immediately...\n",
       "</pre>\n"
      ],
      "text/plain": [
       "22:27:00.499 | \u001b[36mINFO\u001b[0m    | Flow run\u001b[35m 'khaki-bat'\u001b[0m - Executing 'write_gcs-8' immediately...\n"
      ]
     },
     "metadata": {},
     "output_type": "display_data"
    },
    {
     "name": "stdout",
     "output_type": "stream",
     "text": [
      "Csv file size is 1830316\n"
     ]
    },
    {
     "data": {
      "text/html": [
       "<pre style=\"white-space:pre;overflow-x:auto;line-height:normal;font-family:Menlo,'DejaVu Sans Mono',consolas,'Courier New',monospace\">22:27:02.818 | <span style=\"color: #008080; text-decoration-color: #008080\">INFO</span>    | Task run 'write_gcs-8' - Finished in state <span style=\"color: #008000; text-decoration-color: #008000\">Completed</span>()\n",
       "</pre>\n"
      ],
      "text/plain": [
       "22:27:02.818 | \u001b[36mINFO\u001b[0m    | Task run 'write_gcs-8' - Finished in state \u001b[32mCompleted\u001b[0m()\n"
      ]
     },
     "metadata": {},
     "output_type": "display_data"
    },
    {
     "name": "stdout",
     "output_type": "stream",
     "text": [
      "catch_19814.csv\n"
     ]
    },
    {
     "data": {
      "text/html": [
       "<pre style=\"white-space:pre;overflow-x:auto;line-height:normal;font-family:Menlo,'DejaVu Sans Mono',consolas,'Courier New',monospace\">22:27:02.898 | <span style=\"color: #008080; text-decoration-color: #008080\">INFO</span>    | Flow run<span style=\"color: #800080; text-decoration-color: #800080\"> 'khaki-bat'</span> - Created task run 'process_file-9' for task 'process_file'\n",
       "</pre>\n"
      ],
      "text/plain": [
       "22:27:02.898 | \u001b[36mINFO\u001b[0m    | Flow run\u001b[35m 'khaki-bat'\u001b[0m - Created task run 'process_file-9' for task 'process_file'\n"
      ]
     },
     "metadata": {},
     "output_type": "display_data"
    },
    {
     "data": {
      "text/html": [
       "<pre style=\"white-space:pre;overflow-x:auto;line-height:normal;font-family:Menlo,'DejaVu Sans Mono',consolas,'Courier New',monospace\">22:27:02.902 | <span style=\"color: #008080; text-decoration-color: #008080\">INFO</span>    | Flow run<span style=\"color: #800080; text-decoration-color: #800080\"> 'khaki-bat'</span> - Executing 'process_file-9' immediately...\n",
       "</pre>\n"
      ],
      "text/plain": [
       "22:27:02.902 | \u001b[36mINFO\u001b[0m    | Flow run\u001b[35m 'khaki-bat'\u001b[0m - Executing 'process_file-9' immediately...\n"
      ]
     },
     "metadata": {},
     "output_type": "display_data"
    },
    {
     "data": {
      "text/html": [
       "<pre style=\"white-space:pre;overflow-x:auto;line-height:normal;font-family:Menlo,'DejaVu Sans Mono',consolas,'Courier New',monospace\">22:27:03.119 | <span style=\"color: #008080; text-decoration-color: #008080\">INFO</span>    | Task run 'process_file-9' - Finished in state <span style=\"color: #008000; text-decoration-color: #008000\">Completed</span>()\n",
       "</pre>\n"
      ],
      "text/plain": [
       "22:27:03.119 | \u001b[36mINFO\u001b[0m    | Task run 'process_file-9' - Finished in state \u001b[32mCompleted\u001b[0m()\n"
      ]
     },
     "metadata": {},
     "output_type": "display_data"
    },
    {
     "data": {
      "text/html": [
       "<pre style=\"white-space:pre;overflow-x:auto;line-height:normal;font-family:Menlo,'DejaVu Sans Mono',consolas,'Courier New',monospace\">22:27:03.204 | <span style=\"color: #008080; text-decoration-color: #008080\">INFO</span>    | Flow run<span style=\"color: #800080; text-decoration-color: #800080\"> 'khaki-bat'</span> - Created task run 'write_gcs-9' for task 'write_gcs'\n",
       "</pre>\n"
      ],
      "text/plain": [
       "22:27:03.204 | \u001b[36mINFO\u001b[0m    | Flow run\u001b[35m 'khaki-bat'\u001b[0m - Created task run 'write_gcs-9' for task 'write_gcs'\n"
      ]
     },
     "metadata": {},
     "output_type": "display_data"
    },
    {
     "data": {
      "text/html": [
       "<pre style=\"white-space:pre;overflow-x:auto;line-height:normal;font-family:Menlo,'DejaVu Sans Mono',consolas,'Courier New',monospace\">22:27:03.207 | <span style=\"color: #008080; text-decoration-color: #008080\">INFO</span>    | Flow run<span style=\"color: #800080; text-decoration-color: #800080\"> 'khaki-bat'</span> - Executing 'write_gcs-9' immediately...\n",
       "</pre>\n"
      ],
      "text/plain": [
       "22:27:03.207 | \u001b[36mINFO\u001b[0m    | Flow run\u001b[35m 'khaki-bat'\u001b[0m - Executing 'write_gcs-9' immediately...\n"
      ]
     },
     "metadata": {},
     "output_type": "display_data"
    },
    {
     "name": "stdout",
     "output_type": "stream",
     "text": [
      "Csv file size is 2343858\n"
     ]
    },
    {
     "data": {
      "text/html": [
       "<pre style=\"white-space:pre;overflow-x:auto;line-height:normal;font-family:Menlo,'DejaVu Sans Mono',consolas,'Courier New',monospace\">22:27:05.479 | <span style=\"color: #008080; text-decoration-color: #008080\">INFO</span>    | Task run 'write_gcs-9' - Finished in state <span style=\"color: #008000; text-decoration-color: #008000\">Completed</span>()\n",
       "</pre>\n"
      ],
      "text/plain": [
       "22:27:05.479 | \u001b[36mINFO\u001b[0m    | Task run 'write_gcs-9' - Finished in state \u001b[32mCompleted\u001b[0m()\n"
      ]
     },
     "metadata": {},
     "output_type": "display_data"
    },
    {
     "name": "stdout",
     "output_type": "stream",
     "text": [
      "trip_19814.csv\n"
     ]
    },
    {
     "data": {
      "text/html": [
       "<pre style=\"white-space:pre;overflow-x:auto;line-height:normal;font-family:Menlo,'DejaVu Sans Mono',consolas,'Courier New',monospace\">22:27:05.549 | <span style=\"color: #008080; text-decoration-color: #008080\">INFO</span>    | Flow run<span style=\"color: #800080; text-decoration-color: #800080\"> 'khaki-bat'</span> - Created task run 'process_file-10' for task 'process_file'\n",
       "</pre>\n"
      ],
      "text/plain": [
       "22:27:05.549 | \u001b[36mINFO\u001b[0m    | Flow run\u001b[35m 'khaki-bat'\u001b[0m - Created task run 'process_file-10' for task 'process_file'\n"
      ]
     },
     "metadata": {},
     "output_type": "display_data"
    },
    {
     "data": {
      "text/html": [
       "<pre style=\"white-space:pre;overflow-x:auto;line-height:normal;font-family:Menlo,'DejaVu Sans Mono',consolas,'Courier New',monospace\">22:27:05.553 | <span style=\"color: #008080; text-decoration-color: #008080\">INFO</span>    | Flow run<span style=\"color: #800080; text-decoration-color: #800080\"> 'khaki-bat'</span> - Executing 'process_file-10' immediately...\n",
       "</pre>\n"
      ],
      "text/plain": [
       "22:27:05.553 | \u001b[36mINFO\u001b[0m    | Flow run\u001b[35m 'khaki-bat'\u001b[0m - Executing 'process_file-10' immediately...\n"
      ]
     },
     "metadata": {},
     "output_type": "display_data"
    },
    {
     "data": {
      "text/html": [
       "<pre style=\"white-space:pre;overflow-x:auto;line-height:normal;font-family:Menlo,'DejaVu Sans Mono',consolas,'Courier New',monospace\">22:27:05.759 | <span style=\"color: #008080; text-decoration-color: #008080\">INFO</span>    | Task run 'process_file-10' - Finished in state <span style=\"color: #008000; text-decoration-color: #008000\">Completed</span>()\n",
       "</pre>\n"
      ],
      "text/plain": [
       "22:27:05.759 | \u001b[36mINFO\u001b[0m    | Task run 'process_file-10' - Finished in state \u001b[32mCompleted\u001b[0m()\n"
      ]
     },
     "metadata": {},
     "output_type": "display_data"
    },
    {
     "data": {
      "text/html": [
       "<pre style=\"white-space:pre;overflow-x:auto;line-height:normal;font-family:Menlo,'DejaVu Sans Mono',consolas,'Courier New',monospace\">22:27:05.829 | <span style=\"color: #008080; text-decoration-color: #008080\">INFO</span>    | Flow run<span style=\"color: #800080; text-decoration-color: #800080\"> 'khaki-bat'</span> - Created task run 'write_gcs-10' for task 'write_gcs'\n",
       "</pre>\n"
      ],
      "text/plain": [
       "22:27:05.829 | \u001b[36mINFO\u001b[0m    | Flow run\u001b[35m 'khaki-bat'\u001b[0m - Created task run 'write_gcs-10' for task 'write_gcs'\n"
      ]
     },
     "metadata": {},
     "output_type": "display_data"
    },
    {
     "data": {
      "text/html": [
       "<pre style=\"white-space:pre;overflow-x:auto;line-height:normal;font-family:Menlo,'DejaVu Sans Mono',consolas,'Courier New',monospace\">22:27:05.831 | <span style=\"color: #008080; text-decoration-color: #008080\">INFO</span>    | Flow run<span style=\"color: #800080; text-decoration-color: #800080\"> 'khaki-bat'</span> - Executing 'write_gcs-10' immediately...\n",
       "</pre>\n"
      ],
      "text/plain": [
       "22:27:05.831 | \u001b[36mINFO\u001b[0m    | Flow run\u001b[35m 'khaki-bat'\u001b[0m - Executing 'write_gcs-10' immediately...\n"
      ]
     },
     "metadata": {},
     "output_type": "display_data"
    },
    {
     "name": "stdout",
     "output_type": "stream",
     "text": [
      "Csv file size is 2361426\n"
     ]
    },
    {
     "data": {
      "text/html": [
       "<pre style=\"white-space:pre;overflow-x:auto;line-height:normal;font-family:Menlo,'DejaVu Sans Mono',consolas,'Courier New',monospace\">22:27:08.505 | <span style=\"color: #008080; text-decoration-color: #008080\">INFO</span>    | Task run 'write_gcs-10' - Finished in state <span style=\"color: #008000; text-decoration-color: #008000\">Completed</span>()\n",
       "</pre>\n"
      ],
      "text/plain": [
       "22:27:08.505 | \u001b[36mINFO\u001b[0m    | Task run 'write_gcs-10' - Finished in state \u001b[32mCompleted\u001b[0m()\n"
      ]
     },
     "metadata": {},
     "output_type": "display_data"
    },
    {
     "name": "stdout",
     "output_type": "stream",
     "text": [
      "size_19814.csv\n"
     ]
    },
    {
     "data": {
      "text/html": [
       "<pre style=\"white-space:pre;overflow-x:auto;line-height:normal;font-family:Menlo,'DejaVu Sans Mono',consolas,'Courier New',monospace\">22:27:08.615 | <span style=\"color: #008080; text-decoration-color: #008080\">INFO</span>    | Flow run<span style=\"color: #800080; text-decoration-color: #800080\"> 'khaki-bat'</span> - Created task run 'process_file-11' for task 'process_file'\n",
       "</pre>\n"
      ],
      "text/plain": [
       "22:27:08.615 | \u001b[36mINFO\u001b[0m    | Flow run\u001b[35m 'khaki-bat'\u001b[0m - Created task run 'process_file-11' for task 'process_file'\n"
      ]
     },
     "metadata": {},
     "output_type": "display_data"
    },
    {
     "data": {
      "text/html": [
       "<pre style=\"white-space:pre;overflow-x:auto;line-height:normal;font-family:Menlo,'DejaVu Sans Mono',consolas,'Courier New',monospace\">22:27:08.620 | <span style=\"color: #008080; text-decoration-color: #008080\">INFO</span>    | Flow run<span style=\"color: #800080; text-decoration-color: #800080\"> 'khaki-bat'</span> - Executing 'process_file-11' immediately...\n",
       "</pre>\n"
      ],
      "text/plain": [
       "22:27:08.620 | \u001b[36mINFO\u001b[0m    | Flow run\u001b[35m 'khaki-bat'\u001b[0m - Executing 'process_file-11' immediately...\n"
      ]
     },
     "metadata": {},
     "output_type": "display_data"
    },
    {
     "data": {
      "text/html": [
       "<pre style=\"white-space:pre;overflow-x:auto;line-height:normal;font-family:Menlo,'DejaVu Sans Mono',consolas,'Courier New',monospace\">22:27:08.830 | <span style=\"color: #008080; text-decoration-color: #008080\">INFO</span>    | Task run 'process_file-11' - Finished in state <span style=\"color: #008000; text-decoration-color: #008000\">Completed</span>()\n",
       "</pre>\n"
      ],
      "text/plain": [
       "22:27:08.830 | \u001b[36mINFO\u001b[0m    | Task run 'process_file-11' - Finished in state \u001b[32mCompleted\u001b[0m()\n"
      ]
     },
     "metadata": {},
     "output_type": "display_data"
    },
    {
     "data": {
      "text/html": [
       "<pre style=\"white-space:pre;overflow-x:auto;line-height:normal;font-family:Menlo,'DejaVu Sans Mono',consolas,'Courier New',monospace\">22:27:08.895 | <span style=\"color: #008080; text-decoration-color: #008080\">INFO</span>    | Flow run<span style=\"color: #800080; text-decoration-color: #800080\"> 'khaki-bat'</span> - Created task run 'write_gcs-11' for task 'write_gcs'\n",
       "</pre>\n"
      ],
      "text/plain": [
       "22:27:08.895 | \u001b[36mINFO\u001b[0m    | Flow run\u001b[35m 'khaki-bat'\u001b[0m - Created task run 'write_gcs-11' for task 'write_gcs'\n"
      ]
     },
     "metadata": {},
     "output_type": "display_data"
    },
    {
     "data": {
      "text/html": [
       "<pre style=\"white-space:pre;overflow-x:auto;line-height:normal;font-family:Menlo,'DejaVu Sans Mono',consolas,'Courier New',monospace\">22:27:08.899 | <span style=\"color: #008080; text-decoration-color: #008080\">INFO</span>    | Flow run<span style=\"color: #800080; text-decoration-color: #800080\"> 'khaki-bat'</span> - Executing 'write_gcs-11' immediately...\n",
       "</pre>\n"
      ],
      "text/plain": [
       "22:27:08.899 | \u001b[36mINFO\u001b[0m    | Flow run\u001b[35m 'khaki-bat'\u001b[0m - Executing 'write_gcs-11' immediately...\n"
      ]
     },
     "metadata": {},
     "output_type": "display_data"
    },
    {
     "name": "stdout",
     "output_type": "stream",
     "text": [
      "Csv file size is 3644168\n"
     ]
    },
    {
     "data": {
      "text/html": [
       "<pre style=\"white-space:pre;overflow-x:auto;line-height:normal;font-family:Menlo,'DejaVu Sans Mono',consolas,'Courier New',monospace\">22:27:11.930 | <span style=\"color: #008080; text-decoration-color: #008080\">INFO</span>    | Task run 'write_gcs-11' - Finished in state <span style=\"color: #008000; text-decoration-color: #008000\">Completed</span>()\n",
       "</pre>\n"
      ],
      "text/plain": [
       "22:27:11.930 | \u001b[36mINFO\u001b[0m    | Task run 'write_gcs-11' - Finished in state \u001b[32mCompleted\u001b[0m()\n"
      ]
     },
     "metadata": {},
     "output_type": "display_data"
    },
    {
     "name": "stdout",
     "output_type": "stream",
     "text": [
      "catch_19815.csv\n"
     ]
    },
    {
     "data": {
      "text/html": [
       "<pre style=\"white-space:pre;overflow-x:auto;line-height:normal;font-family:Menlo,'DejaVu Sans Mono',consolas,'Courier New',monospace\">22:27:12.021 | <span style=\"color: #008080; text-decoration-color: #008080\">INFO</span>    | Flow run<span style=\"color: #800080; text-decoration-color: #800080\"> 'khaki-bat'</span> - Created task run 'process_file-12' for task 'process_file'\n",
       "</pre>\n"
      ],
      "text/plain": [
       "22:27:12.021 | \u001b[36mINFO\u001b[0m    | Flow run\u001b[35m 'khaki-bat'\u001b[0m - Created task run 'process_file-12' for task 'process_file'\n"
      ]
     },
     "metadata": {},
     "output_type": "display_data"
    },
    {
     "data": {
      "text/html": [
       "<pre style=\"white-space:pre;overflow-x:auto;line-height:normal;font-family:Menlo,'DejaVu Sans Mono',consolas,'Courier New',monospace\">22:27:12.025 | <span style=\"color: #008080; text-decoration-color: #008080\">INFO</span>    | Flow run<span style=\"color: #800080; text-decoration-color: #800080\"> 'khaki-bat'</span> - Executing 'process_file-12' immediately...\n",
       "</pre>\n"
      ],
      "text/plain": [
       "22:27:12.025 | \u001b[36mINFO\u001b[0m    | Flow run\u001b[35m 'khaki-bat'\u001b[0m - Executing 'process_file-12' immediately...\n"
      ]
     },
     "metadata": {},
     "output_type": "display_data"
    },
    {
     "data": {
      "text/html": [
       "<pre style=\"white-space:pre;overflow-x:auto;line-height:normal;font-family:Menlo,'DejaVu Sans Mono',consolas,'Courier New',monospace\">22:27:12.260 | <span style=\"color: #008080; text-decoration-color: #008080\">INFO</span>    | Task run 'process_file-12' - Finished in state <span style=\"color: #008000; text-decoration-color: #008000\">Completed</span>()\n",
       "</pre>\n"
      ],
      "text/plain": [
       "22:27:12.260 | \u001b[36mINFO\u001b[0m    | Task run 'process_file-12' - Finished in state \u001b[32mCompleted\u001b[0m()\n"
      ]
     },
     "metadata": {},
     "output_type": "display_data"
    },
    {
     "data": {
      "text/html": [
       "<pre style=\"white-space:pre;overflow-x:auto;line-height:normal;font-family:Menlo,'DejaVu Sans Mono',consolas,'Courier New',monospace\">22:27:12.339 | <span style=\"color: #008080; text-decoration-color: #008080\">INFO</span>    | Flow run<span style=\"color: #800080; text-decoration-color: #800080\"> 'khaki-bat'</span> - Created task run 'write_gcs-12' for task 'write_gcs'\n",
       "</pre>\n"
      ],
      "text/plain": [
       "22:27:12.339 | \u001b[36mINFO\u001b[0m    | Flow run\u001b[35m 'khaki-bat'\u001b[0m - Created task run 'write_gcs-12' for task 'write_gcs'\n"
      ]
     },
     "metadata": {},
     "output_type": "display_data"
    },
    {
     "data": {
      "text/html": [
       "<pre style=\"white-space:pre;overflow-x:auto;line-height:normal;font-family:Menlo,'DejaVu Sans Mono',consolas,'Courier New',monospace\">22:27:12.342 | <span style=\"color: #008080; text-decoration-color: #008080\">INFO</span>    | Flow run<span style=\"color: #800080; text-decoration-color: #800080\"> 'khaki-bat'</span> - Executing 'write_gcs-12' immediately...\n",
       "</pre>\n"
      ],
      "text/plain": [
       "22:27:12.342 | \u001b[36mINFO\u001b[0m    | Flow run\u001b[35m 'khaki-bat'\u001b[0m - Executing 'write_gcs-12' immediately...\n"
      ]
     },
     "metadata": {},
     "output_type": "display_data"
    },
    {
     "name": "stdout",
     "output_type": "stream",
     "text": [
      "Csv file size is 1903945\n"
     ]
    },
    {
     "data": {
      "text/html": [
       "<pre style=\"white-space:pre;overflow-x:auto;line-height:normal;font-family:Menlo,'DejaVu Sans Mono',consolas,'Courier New',monospace\">22:27:14.962 | <span style=\"color: #008080; text-decoration-color: #008080\">INFO</span>    | Task run 'write_gcs-12' - Finished in state <span style=\"color: #008000; text-decoration-color: #008000\">Completed</span>()\n",
       "</pre>\n"
      ],
      "text/plain": [
       "22:27:14.962 | \u001b[36mINFO\u001b[0m    | Task run 'write_gcs-12' - Finished in state \u001b[32mCompleted\u001b[0m()\n"
      ]
     },
     "metadata": {},
     "output_type": "display_data"
    },
    {
     "name": "stdout",
     "output_type": "stream",
     "text": [
      "trip_19815.csv\n"
     ]
    },
    {
     "data": {
      "text/html": [
       "<pre style=\"white-space:pre;overflow-x:auto;line-height:normal;font-family:Menlo,'DejaVu Sans Mono',consolas,'Courier New',monospace\">22:27:15.071 | <span style=\"color: #008080; text-decoration-color: #008080\">INFO</span>    | Flow run<span style=\"color: #800080; text-decoration-color: #800080\"> 'khaki-bat'</span> - Created task run 'process_file-13' for task 'process_file'\n",
       "</pre>\n"
      ],
      "text/plain": [
       "22:27:15.071 | \u001b[36mINFO\u001b[0m    | Flow run\u001b[35m 'khaki-bat'\u001b[0m - Created task run 'process_file-13' for task 'process_file'\n"
      ]
     },
     "metadata": {},
     "output_type": "display_data"
    },
    {
     "data": {
      "text/html": [
       "<pre style=\"white-space:pre;overflow-x:auto;line-height:normal;font-family:Menlo,'DejaVu Sans Mono',consolas,'Courier New',monospace\">22:27:15.078 | <span style=\"color: #008080; text-decoration-color: #008080\">INFO</span>    | Flow run<span style=\"color: #800080; text-decoration-color: #800080\"> 'khaki-bat'</span> - Executing 'process_file-13' immediately...\n",
       "</pre>\n"
      ],
      "text/plain": [
       "22:27:15.078 | \u001b[36mINFO\u001b[0m    | Flow run\u001b[35m 'khaki-bat'\u001b[0m - Executing 'process_file-13' immediately...\n"
      ]
     },
     "metadata": {},
     "output_type": "display_data"
    },
    {
     "data": {
      "text/html": [
       "<pre style=\"white-space:pre;overflow-x:auto;line-height:normal;font-family:Menlo,'DejaVu Sans Mono',consolas,'Courier New',monospace\">22:27:15.318 | <span style=\"color: #008080; text-decoration-color: #008080\">INFO</span>    | Task run 'process_file-13' - Finished in state <span style=\"color: #008000; text-decoration-color: #008000\">Completed</span>()\n",
       "</pre>\n"
      ],
      "text/plain": [
       "22:27:15.318 | \u001b[36mINFO\u001b[0m    | Task run 'process_file-13' - Finished in state \u001b[32mCompleted\u001b[0m()\n"
      ]
     },
     "metadata": {},
     "output_type": "display_data"
    },
    {
     "data": {
      "text/html": [
       "<pre style=\"white-space:pre;overflow-x:auto;line-height:normal;font-family:Menlo,'DejaVu Sans Mono',consolas,'Courier New',monospace\">22:27:15.422 | <span style=\"color: #008080; text-decoration-color: #008080\">INFO</span>    | Flow run<span style=\"color: #800080; text-decoration-color: #800080\"> 'khaki-bat'</span> - Created task run 'write_gcs-13' for task 'write_gcs'\n",
       "</pre>\n"
      ],
      "text/plain": [
       "22:27:15.422 | \u001b[36mINFO\u001b[0m    | Flow run\u001b[35m 'khaki-bat'\u001b[0m - Created task run 'write_gcs-13' for task 'write_gcs'\n"
      ]
     },
     "metadata": {},
     "output_type": "display_data"
    },
    {
     "data": {
      "text/html": [
       "<pre style=\"white-space:pre;overflow-x:auto;line-height:normal;font-family:Menlo,'DejaVu Sans Mono',consolas,'Courier New',monospace\">22:27:15.425 | <span style=\"color: #008080; text-decoration-color: #008080\">INFO</span>    | Flow run<span style=\"color: #800080; text-decoration-color: #800080\"> 'khaki-bat'</span> - Executing 'write_gcs-13' immediately...\n",
       "</pre>\n"
      ],
      "text/plain": [
       "22:27:15.425 | \u001b[36mINFO\u001b[0m    | Flow run\u001b[35m 'khaki-bat'\u001b[0m - Executing 'write_gcs-13' immediately...\n"
      ]
     },
     "metadata": {},
     "output_type": "display_data"
    },
    {
     "name": "stdout",
     "output_type": "stream",
     "text": [
      "Csv file size is 1745956\n"
     ]
    },
    {
     "data": {
      "text/html": [
       "<pre style=\"white-space:pre;overflow-x:auto;line-height:normal;font-family:Menlo,'DejaVu Sans Mono',consolas,'Courier New',monospace\">22:27:17.543 | <span style=\"color: #008080; text-decoration-color: #008080\">INFO</span>    | Task run 'write_gcs-13' - Finished in state <span style=\"color: #008000; text-decoration-color: #008000\">Completed</span>()\n",
       "</pre>\n"
      ],
      "text/plain": [
       "22:27:17.543 | \u001b[36mINFO\u001b[0m    | Task run 'write_gcs-13' - Finished in state \u001b[32mCompleted\u001b[0m()\n"
      ]
     },
     "metadata": {},
     "output_type": "display_data"
    },
    {
     "name": "stdout",
     "output_type": "stream",
     "text": [
      "size_19815.csv\n"
     ]
    },
    {
     "data": {
      "text/html": [
       "<pre style=\"white-space:pre;overflow-x:auto;line-height:normal;font-family:Menlo,'DejaVu Sans Mono',consolas,'Courier New',monospace\">22:27:17.627 | <span style=\"color: #008080; text-decoration-color: #008080\">INFO</span>    | Flow run<span style=\"color: #800080; text-decoration-color: #800080\"> 'khaki-bat'</span> - Created task run 'process_file-14' for task 'process_file'\n",
       "</pre>\n"
      ],
      "text/plain": [
       "22:27:17.627 | \u001b[36mINFO\u001b[0m    | Flow run\u001b[35m 'khaki-bat'\u001b[0m - Created task run 'process_file-14' for task 'process_file'\n"
      ]
     },
     "metadata": {},
     "output_type": "display_data"
    },
    {
     "data": {
      "text/html": [
       "<pre style=\"white-space:pre;overflow-x:auto;line-height:normal;font-family:Menlo,'DejaVu Sans Mono',consolas,'Courier New',monospace\">22:27:17.631 | <span style=\"color: #008080; text-decoration-color: #008080\">INFO</span>    | Flow run<span style=\"color: #800080; text-decoration-color: #800080\"> 'khaki-bat'</span> - Executing 'process_file-14' immediately...\n",
       "</pre>\n"
      ],
      "text/plain": [
       "22:27:17.631 | \u001b[36mINFO\u001b[0m    | Flow run\u001b[35m 'khaki-bat'\u001b[0m - Executing 'process_file-14' immediately...\n"
      ]
     },
     "metadata": {},
     "output_type": "display_data"
    },
    {
     "data": {
      "text/html": [
       "<pre style=\"white-space:pre;overflow-x:auto;line-height:normal;font-family:Menlo,'DejaVu Sans Mono',consolas,'Courier New',monospace\">22:27:17.838 | <span style=\"color: #008080; text-decoration-color: #008080\">INFO</span>    | Task run 'process_file-14' - Finished in state <span style=\"color: #008000; text-decoration-color: #008000\">Completed</span>()\n",
       "</pre>\n"
      ],
      "text/plain": [
       "22:27:17.838 | \u001b[36mINFO\u001b[0m    | Task run 'process_file-14' - Finished in state \u001b[32mCompleted\u001b[0m()\n"
      ]
     },
     "metadata": {},
     "output_type": "display_data"
    },
    {
     "data": {
      "text/html": [
       "<pre style=\"white-space:pre;overflow-x:auto;line-height:normal;font-family:Menlo,'DejaVu Sans Mono',consolas,'Courier New',monospace\">22:27:17.908 | <span style=\"color: #008080; text-decoration-color: #008080\">INFO</span>    | Flow run<span style=\"color: #800080; text-decoration-color: #800080\"> 'khaki-bat'</span> - Created task run 'write_gcs-14' for task 'write_gcs'\n",
       "</pre>\n"
      ],
      "text/plain": [
       "22:27:17.908 | \u001b[36mINFO\u001b[0m    | Flow run\u001b[35m 'khaki-bat'\u001b[0m - Created task run 'write_gcs-14' for task 'write_gcs'\n"
      ]
     },
     "metadata": {},
     "output_type": "display_data"
    },
    {
     "data": {
      "text/html": [
       "<pre style=\"white-space:pre;overflow-x:auto;line-height:normal;font-family:Menlo,'DejaVu Sans Mono',consolas,'Courier New',monospace\">22:27:17.911 | <span style=\"color: #008080; text-decoration-color: #008080\">INFO</span>    | Flow run<span style=\"color: #800080; text-decoration-color: #800080\"> 'khaki-bat'</span> - Executing 'write_gcs-14' immediately...\n",
       "</pre>\n"
      ],
      "text/plain": [
       "22:27:17.911 | \u001b[36mINFO\u001b[0m    | Flow run\u001b[35m 'khaki-bat'\u001b[0m - Executing 'write_gcs-14' immediately...\n"
      ]
     },
     "metadata": {},
     "output_type": "display_data"
    },
    {
     "name": "stdout",
     "output_type": "stream",
     "text": [
      "Csv file size is 2770057\n"
     ]
    },
    {
     "data": {
      "text/html": [
       "<pre style=\"white-space:pre;overflow-x:auto;line-height:normal;font-family:Menlo,'DejaVu Sans Mono',consolas,'Courier New',monospace\">22:27:20.423 | <span style=\"color: #008080; text-decoration-color: #008080\">INFO</span>    | Task run 'write_gcs-14' - Finished in state <span style=\"color: #008000; text-decoration-color: #008000\">Completed</span>()\n",
       "</pre>\n"
      ],
      "text/plain": [
       "22:27:20.423 | \u001b[36mINFO\u001b[0m    | Task run 'write_gcs-14' - Finished in state \u001b[32mCompleted\u001b[0m()\n"
      ]
     },
     "metadata": {},
     "output_type": "display_data"
    },
    {
     "name": "stdout",
     "output_type": "stream",
     "text": [
      "catch_19816.csv\n"
     ]
    },
    {
     "data": {
      "text/html": [
       "<pre style=\"white-space:pre;overflow-x:auto;line-height:normal;font-family:Menlo,'DejaVu Sans Mono',consolas,'Courier New',monospace\">22:27:20.639 | <span style=\"color: #008080; text-decoration-color: #008080\">INFO</span>    | Flow run<span style=\"color: #800080; text-decoration-color: #800080\"> 'khaki-bat'</span> - Created task run 'process_file-15' for task 'process_file'\n",
       "</pre>\n"
      ],
      "text/plain": [
       "22:27:20.639 | \u001b[36mINFO\u001b[0m    | Flow run\u001b[35m 'khaki-bat'\u001b[0m - Created task run 'process_file-15' for task 'process_file'\n"
      ]
     },
     "metadata": {},
     "output_type": "display_data"
    },
    {
     "data": {
      "text/html": [
       "<pre style=\"white-space:pre;overflow-x:auto;line-height:normal;font-family:Menlo,'DejaVu Sans Mono',consolas,'Courier New',monospace\">22:27:20.643 | <span style=\"color: #008080; text-decoration-color: #008080\">INFO</span>    | Flow run<span style=\"color: #800080; text-decoration-color: #800080\"> 'khaki-bat'</span> - Executing 'process_file-15' immediately...\n",
       "</pre>\n"
      ],
      "text/plain": [
       "22:27:20.643 | \u001b[36mINFO\u001b[0m    | Flow run\u001b[35m 'khaki-bat'\u001b[0m - Executing 'process_file-15' immediately...\n"
      ]
     },
     "metadata": {},
     "output_type": "display_data"
    },
    {
     "data": {
      "text/html": [
       "<pre style=\"white-space:pre;overflow-x:auto;line-height:normal;font-family:Menlo,'DejaVu Sans Mono',consolas,'Courier New',monospace\">22:27:20.990 | <span style=\"color: #008080; text-decoration-color: #008080\">INFO</span>    | Task run 'process_file-15' - Finished in state <span style=\"color: #008000; text-decoration-color: #008000\">Completed</span>()\n",
       "</pre>\n"
      ],
      "text/plain": [
       "22:27:20.990 | \u001b[36mINFO\u001b[0m    | Task run 'process_file-15' - Finished in state \u001b[32mCompleted\u001b[0m()\n"
      ]
     },
     "metadata": {},
     "output_type": "display_data"
    },
    {
     "data": {
      "text/html": [
       "<pre style=\"white-space:pre;overflow-x:auto;line-height:normal;font-family:Menlo,'DejaVu Sans Mono',consolas,'Courier New',monospace\">22:27:21.062 | <span style=\"color: #008080; text-decoration-color: #008080\">INFO</span>    | Flow run<span style=\"color: #800080; text-decoration-color: #800080\"> 'khaki-bat'</span> - Created task run 'write_gcs-15' for task 'write_gcs'\n",
       "</pre>\n"
      ],
      "text/plain": [
       "22:27:21.062 | \u001b[36mINFO\u001b[0m    | Flow run\u001b[35m 'khaki-bat'\u001b[0m - Created task run 'write_gcs-15' for task 'write_gcs'\n"
      ]
     },
     "metadata": {},
     "output_type": "display_data"
    },
    {
     "data": {
      "text/html": [
       "<pre style=\"white-space:pre;overflow-x:auto;line-height:normal;font-family:Menlo,'DejaVu Sans Mono',consolas,'Courier New',monospace\">22:27:21.065 | <span style=\"color: #008080; text-decoration-color: #008080\">INFO</span>    | Flow run<span style=\"color: #800080; text-decoration-color: #800080\"> 'khaki-bat'</span> - Executing 'write_gcs-15' immediately...\n",
       "</pre>\n"
      ],
      "text/plain": [
       "22:27:21.065 | \u001b[36mINFO\u001b[0m    | Flow run\u001b[35m 'khaki-bat'\u001b[0m - Executing 'write_gcs-15' immediately...\n"
      ]
     },
     "metadata": {},
     "output_type": "display_data"
    },
    {
     "name": "stdout",
     "output_type": "stream",
     "text": [
      "Csv file size is 682233\n"
     ]
    },
    {
     "data": {
      "text/html": [
       "<pre style=\"white-space:pre;overflow-x:auto;line-height:normal;font-family:Menlo,'DejaVu Sans Mono',consolas,'Courier New',monospace\">22:27:22.177 | <span style=\"color: #008080; text-decoration-color: #008080\">INFO</span>    | Task run 'write_gcs-15' - Finished in state <span style=\"color: #008000; text-decoration-color: #008000\">Completed</span>()\n",
       "</pre>\n"
      ],
      "text/plain": [
       "22:27:22.177 | \u001b[36mINFO\u001b[0m    | Task run 'write_gcs-15' - Finished in state \u001b[32mCompleted\u001b[0m()\n"
      ]
     },
     "metadata": {},
     "output_type": "display_data"
    },
    {
     "name": "stdout",
     "output_type": "stream",
     "text": [
      "trip_19816.csv\n"
     ]
    },
    {
     "data": {
      "text/html": [
       "<pre style=\"white-space:pre;overflow-x:auto;line-height:normal;font-family:Menlo,'DejaVu Sans Mono',consolas,'Courier New',monospace\">22:27:22.265 | <span style=\"color: #008080; text-decoration-color: #008080\">INFO</span>    | Flow run<span style=\"color: #800080; text-decoration-color: #800080\"> 'khaki-bat'</span> - Created task run 'process_file-16' for task 'process_file'\n",
       "</pre>\n"
      ],
      "text/plain": [
       "22:27:22.265 | \u001b[36mINFO\u001b[0m    | Flow run\u001b[35m 'khaki-bat'\u001b[0m - Created task run 'process_file-16' for task 'process_file'\n"
      ]
     },
     "metadata": {},
     "output_type": "display_data"
    },
    {
     "data": {
      "text/html": [
       "<pre style=\"white-space:pre;overflow-x:auto;line-height:normal;font-family:Menlo,'DejaVu Sans Mono',consolas,'Courier New',monospace\">22:27:22.270 | <span style=\"color: #008080; text-decoration-color: #008080\">INFO</span>    | Flow run<span style=\"color: #800080; text-decoration-color: #800080\"> 'khaki-bat'</span> - Executing 'process_file-16' immediately...\n",
       "</pre>\n"
      ],
      "text/plain": [
       "22:27:22.270 | \u001b[36mINFO\u001b[0m    | Flow run\u001b[35m 'khaki-bat'\u001b[0m - Executing 'process_file-16' immediately...\n"
      ]
     },
     "metadata": {},
     "output_type": "display_data"
    },
    {
     "data": {
      "text/html": [
       "<pre style=\"white-space:pre;overflow-x:auto;line-height:normal;font-family:Menlo,'DejaVu Sans Mono',consolas,'Courier New',monospace\">22:27:22.479 | <span style=\"color: #008080; text-decoration-color: #008080\">INFO</span>    | Task run 'process_file-16' - Finished in state <span style=\"color: #008000; text-decoration-color: #008000\">Completed</span>()\n",
       "</pre>\n"
      ],
      "text/plain": [
       "22:27:22.479 | \u001b[36mINFO\u001b[0m    | Task run 'process_file-16' - Finished in state \u001b[32mCompleted\u001b[0m()\n"
      ]
     },
     "metadata": {},
     "output_type": "display_data"
    },
    {
     "data": {
      "text/html": [
       "<pre style=\"white-space:pre;overflow-x:auto;line-height:normal;font-family:Menlo,'DejaVu Sans Mono',consolas,'Courier New',monospace\">22:27:22.562 | <span style=\"color: #008080; text-decoration-color: #008080\">INFO</span>    | Flow run<span style=\"color: #800080; text-decoration-color: #800080\"> 'khaki-bat'</span> - Created task run 'write_gcs-16' for task 'write_gcs'\n",
       "</pre>\n"
      ],
      "text/plain": [
       "22:27:22.562 | \u001b[36mINFO\u001b[0m    | Flow run\u001b[35m 'khaki-bat'\u001b[0m - Created task run 'write_gcs-16' for task 'write_gcs'\n"
      ]
     },
     "metadata": {},
     "output_type": "display_data"
    },
    {
     "data": {
      "text/html": [
       "<pre style=\"white-space:pre;overflow-x:auto;line-height:normal;font-family:Menlo,'DejaVu Sans Mono',consolas,'Courier New',monospace\">22:27:22.565 | <span style=\"color: #008080; text-decoration-color: #008080\">INFO</span>    | Flow run<span style=\"color: #800080; text-decoration-color: #800080\"> 'khaki-bat'</span> - Executing 'write_gcs-16' immediately...\n",
       "</pre>\n"
      ],
      "text/plain": [
       "22:27:22.565 | \u001b[36mINFO\u001b[0m    | Flow run\u001b[35m 'khaki-bat'\u001b[0m - Executing 'write_gcs-16' immediately...\n"
      ]
     },
     "metadata": {},
     "output_type": "display_data"
    },
    {
     "name": "stdout",
     "output_type": "stream",
     "text": [
      "Csv file size is 644969\n"
     ]
    },
    {
     "data": {
      "text/html": [
       "<pre style=\"white-space:pre;overflow-x:auto;line-height:normal;font-family:Menlo,'DejaVu Sans Mono',consolas,'Courier New',monospace\">22:27:23.639 | <span style=\"color: #008080; text-decoration-color: #008080\">INFO</span>    | Task run 'write_gcs-16' - Finished in state <span style=\"color: #008000; text-decoration-color: #008000\">Completed</span>()\n",
       "</pre>\n"
      ],
      "text/plain": [
       "22:27:23.639 | \u001b[36mINFO\u001b[0m    | Task run 'write_gcs-16' - Finished in state \u001b[32mCompleted\u001b[0m()\n"
      ]
     },
     "metadata": {},
     "output_type": "display_data"
    },
    {
     "name": "stdout",
     "output_type": "stream",
     "text": [
      "size_19816.csv\n"
     ]
    },
    {
     "data": {
      "text/html": [
       "<pre style=\"white-space:pre;overflow-x:auto;line-height:normal;font-family:Menlo,'DejaVu Sans Mono',consolas,'Courier New',monospace\">22:27:23.721 | <span style=\"color: #008080; text-decoration-color: #008080\">INFO</span>    | Flow run<span style=\"color: #800080; text-decoration-color: #800080\"> 'khaki-bat'</span> - Created task run 'process_file-17' for task 'process_file'\n",
       "</pre>\n"
      ],
      "text/plain": [
       "22:27:23.721 | \u001b[36mINFO\u001b[0m    | Flow run\u001b[35m 'khaki-bat'\u001b[0m - Created task run 'process_file-17' for task 'process_file'\n"
      ]
     },
     "metadata": {},
     "output_type": "display_data"
    },
    {
     "data": {
      "text/html": [
       "<pre style=\"white-space:pre;overflow-x:auto;line-height:normal;font-family:Menlo,'DejaVu Sans Mono',consolas,'Courier New',monospace\">22:27:23.724 | <span style=\"color: #008080; text-decoration-color: #008080\">INFO</span>    | Flow run<span style=\"color: #800080; text-decoration-color: #800080\"> 'khaki-bat'</span> - Executing 'process_file-17' immediately...\n",
       "</pre>\n"
      ],
      "text/plain": [
       "22:27:23.724 | \u001b[36mINFO\u001b[0m    | Flow run\u001b[35m 'khaki-bat'\u001b[0m - Executing 'process_file-17' immediately...\n"
      ]
     },
     "metadata": {},
     "output_type": "display_data"
    },
    {
     "data": {
      "text/html": [
       "<pre style=\"white-space:pre;overflow-x:auto;line-height:normal;font-family:Menlo,'DejaVu Sans Mono',consolas,'Courier New',monospace\">22:27:23.962 | <span style=\"color: #008080; text-decoration-color: #008080\">INFO</span>    | Task run 'process_file-17' - Finished in state <span style=\"color: #008000; text-decoration-color: #008000\">Completed</span>()\n",
       "</pre>\n"
      ],
      "text/plain": [
       "22:27:23.962 | \u001b[36mINFO\u001b[0m    | Task run 'process_file-17' - Finished in state \u001b[32mCompleted\u001b[0m()\n"
      ]
     },
     "metadata": {},
     "output_type": "display_data"
    },
    {
     "data": {
      "text/html": [
       "<pre style=\"white-space:pre;overflow-x:auto;line-height:normal;font-family:Menlo,'DejaVu Sans Mono',consolas,'Courier New',monospace\">22:27:24.043 | <span style=\"color: #008080; text-decoration-color: #008080\">INFO</span>    | Flow run<span style=\"color: #800080; text-decoration-color: #800080\"> 'khaki-bat'</span> - Created task run 'write_gcs-17' for task 'write_gcs'\n",
       "</pre>\n"
      ],
      "text/plain": [
       "22:27:24.043 | \u001b[36mINFO\u001b[0m    | Flow run\u001b[35m 'khaki-bat'\u001b[0m - Created task run 'write_gcs-17' for task 'write_gcs'\n"
      ]
     },
     "metadata": {},
     "output_type": "display_data"
    },
    {
     "data": {
      "text/html": [
       "<pre style=\"white-space:pre;overflow-x:auto;line-height:normal;font-family:Menlo,'DejaVu Sans Mono',consolas,'Courier New',monospace\">22:27:24.047 | <span style=\"color: #008080; text-decoration-color: #008080\">INFO</span>    | Flow run<span style=\"color: #800080; text-decoration-color: #800080\"> 'khaki-bat'</span> - Executing 'write_gcs-17' immediately...\n",
       "</pre>\n"
      ],
      "text/plain": [
       "22:27:24.047 | \u001b[36mINFO\u001b[0m    | Flow run\u001b[35m 'khaki-bat'\u001b[0m - Executing 'write_gcs-17' immediately...\n"
      ]
     },
     "metadata": {},
     "output_type": "display_data"
    },
    {
     "name": "stdout",
     "output_type": "stream",
     "text": [
      "Csv file size is 832160\n"
     ]
    },
    {
     "data": {
      "text/html": [
       "<pre style=\"white-space:pre;overflow-x:auto;line-height:normal;font-family:Menlo,'DejaVu Sans Mono',consolas,'Courier New',monospace\">22:27:25.234 | <span style=\"color: #008080; text-decoration-color: #008080\">INFO</span>    | Task run 'write_gcs-17' - Finished in state <span style=\"color: #008000; text-decoration-color: #008000\">Completed</span>()\n",
       "</pre>\n"
      ],
      "text/plain": [
       "22:27:25.234 | \u001b[36mINFO\u001b[0m    | Task run 'write_gcs-17' - Finished in state \u001b[32mCompleted\u001b[0m()\n"
      ]
     },
     "metadata": {},
     "output_type": "display_data"
    },
    {
     "name": "stdout",
     "output_type": "stream",
     "text": [
      "catch_19821.csv\n"
     ]
    },
    {
     "data": {
      "text/html": [
       "<pre style=\"white-space:pre;overflow-x:auto;line-height:normal;font-family:Menlo,'DejaVu Sans Mono',consolas,'Courier New',monospace\">22:27:25.318 | <span style=\"color: #008080; text-decoration-color: #008080\">INFO</span>    | Flow run<span style=\"color: #800080; text-decoration-color: #800080\"> 'khaki-bat'</span> - Created task run 'process_file-18' for task 'process_file'\n",
       "</pre>\n"
      ],
      "text/plain": [
       "22:27:25.318 | \u001b[36mINFO\u001b[0m    | Flow run\u001b[35m 'khaki-bat'\u001b[0m - Created task run 'process_file-18' for task 'process_file'\n"
      ]
     },
     "metadata": {},
     "output_type": "display_data"
    },
    {
     "data": {
      "text/html": [
       "<pre style=\"white-space:pre;overflow-x:auto;line-height:normal;font-family:Menlo,'DejaVu Sans Mono',consolas,'Courier New',monospace\">22:27:25.322 | <span style=\"color: #008080; text-decoration-color: #008080\">INFO</span>    | Flow run<span style=\"color: #800080; text-decoration-color: #800080\"> 'khaki-bat'</span> - Executing 'process_file-18' immediately...\n",
       "</pre>\n"
      ],
      "text/plain": [
       "22:27:25.322 | \u001b[36mINFO\u001b[0m    | Flow run\u001b[35m 'khaki-bat'\u001b[0m - Executing 'process_file-18' immediately...\n"
      ]
     },
     "metadata": {},
     "output_type": "display_data"
    },
    {
     "data": {
      "text/html": [
       "<pre style=\"white-space:pre;overflow-x:auto;line-height:normal;font-family:Menlo,'DejaVu Sans Mono',consolas,'Courier New',monospace\">22:27:25.749 | <span style=\"color: #008080; text-decoration-color: #008080\">INFO</span>    | Task run 'process_file-18' - Finished in state <span style=\"color: #008000; text-decoration-color: #008000\">Completed</span>()\n",
       "</pre>\n"
      ],
      "text/plain": [
       "22:27:25.749 | \u001b[36mINFO\u001b[0m    | Task run 'process_file-18' - Finished in state \u001b[32mCompleted\u001b[0m()\n"
      ]
     },
     "metadata": {},
     "output_type": "display_data"
    },
    {
     "data": {
      "text/html": [
       "<pre style=\"white-space:pre;overflow-x:auto;line-height:normal;font-family:Menlo,'DejaVu Sans Mono',consolas,'Courier New',monospace\">22:27:25.873 | <span style=\"color: #008080; text-decoration-color: #008080\">INFO</span>    | Flow run<span style=\"color: #800080; text-decoration-color: #800080\"> 'khaki-bat'</span> - Created task run 'write_gcs-18' for task 'write_gcs'\n",
       "</pre>\n"
      ],
      "text/plain": [
       "22:27:25.873 | \u001b[36mINFO\u001b[0m    | Flow run\u001b[35m 'khaki-bat'\u001b[0m - Created task run 'write_gcs-18' for task 'write_gcs'\n"
      ]
     },
     "metadata": {},
     "output_type": "display_data"
    },
    {
     "data": {
      "text/html": [
       "<pre style=\"white-space:pre;overflow-x:auto;line-height:normal;font-family:Menlo,'DejaVu Sans Mono',consolas,'Courier New',monospace\">22:27:25.878 | <span style=\"color: #008080; text-decoration-color: #008080\">INFO</span>    | Flow run<span style=\"color: #800080; text-decoration-color: #800080\"> 'khaki-bat'</span> - Executing 'write_gcs-18' immediately...\n",
       "</pre>\n"
      ],
      "text/plain": [
       "22:27:25.878 | \u001b[36mINFO\u001b[0m    | Flow run\u001b[35m 'khaki-bat'\u001b[0m - Executing 'write_gcs-18' immediately...\n"
      ]
     },
     "metadata": {},
     "output_type": "display_data"
    },
    {
     "name": "stdout",
     "output_type": "stream",
     "text": [
      "Csv file size is 187148\n"
     ]
    },
    {
     "data": {
      "text/html": [
       "<pre style=\"white-space:pre;overflow-x:auto;line-height:normal;font-family:Menlo,'DejaVu Sans Mono',consolas,'Courier New',monospace\">22:27:26.684 | <span style=\"color: #008080; text-decoration-color: #008080\">INFO</span>    | Task run 'write_gcs-18' - Finished in state <span style=\"color: #008000; text-decoration-color: #008000\">Completed</span>()\n",
       "</pre>\n"
      ],
      "text/plain": [
       "22:27:26.684 | \u001b[36mINFO\u001b[0m    | Task run 'write_gcs-18' - Finished in state \u001b[32mCompleted\u001b[0m()\n"
      ]
     },
     "metadata": {},
     "output_type": "display_data"
    },
    {
     "name": "stdout",
     "output_type": "stream",
     "text": [
      "trip_19821.csv\n"
     ]
    },
    {
     "data": {
      "text/html": [
       "<pre style=\"white-space:pre;overflow-x:auto;line-height:normal;font-family:Menlo,'DejaVu Sans Mono',consolas,'Courier New',monospace\">22:27:26.781 | <span style=\"color: #008080; text-decoration-color: #008080\">INFO</span>    | Flow run<span style=\"color: #800080; text-decoration-color: #800080\"> 'khaki-bat'</span> - Created task run 'process_file-19' for task 'process_file'\n",
       "</pre>\n"
      ],
      "text/plain": [
       "22:27:26.781 | \u001b[36mINFO\u001b[0m    | Flow run\u001b[35m 'khaki-bat'\u001b[0m - Created task run 'process_file-19' for task 'process_file'\n"
      ]
     },
     "metadata": {},
     "output_type": "display_data"
    },
    {
     "data": {
      "text/html": [
       "<pre style=\"white-space:pre;overflow-x:auto;line-height:normal;font-family:Menlo,'DejaVu Sans Mono',consolas,'Courier New',monospace\">22:27:26.786 | <span style=\"color: #008080; text-decoration-color: #008080\">INFO</span>    | Flow run<span style=\"color: #800080; text-decoration-color: #800080\"> 'khaki-bat'</span> - Executing 'process_file-19' immediately...\n",
       "</pre>\n"
      ],
      "text/plain": [
       "22:27:26.786 | \u001b[36mINFO\u001b[0m    | Flow run\u001b[35m 'khaki-bat'\u001b[0m - Executing 'process_file-19' immediately...\n"
      ]
     },
     "metadata": {},
     "output_type": "display_data"
    },
    {
     "data": {
      "text/html": [
       "<pre style=\"white-space:pre;overflow-x:auto;line-height:normal;font-family:Menlo,'DejaVu Sans Mono',consolas,'Courier New',monospace\">22:27:26.997 | <span style=\"color: #008080; text-decoration-color: #008080\">INFO</span>    | Task run 'process_file-19' - Finished in state <span style=\"color: #008000; text-decoration-color: #008000\">Completed</span>()\n",
       "</pre>\n"
      ],
      "text/plain": [
       "22:27:26.997 | \u001b[36mINFO\u001b[0m    | Task run 'process_file-19' - Finished in state \u001b[32mCompleted\u001b[0m()\n"
      ]
     },
     "metadata": {},
     "output_type": "display_data"
    },
    {
     "data": {
      "text/html": [
       "<pre style=\"white-space:pre;overflow-x:auto;line-height:normal;font-family:Menlo,'DejaVu Sans Mono',consolas,'Courier New',monospace\">22:27:27.074 | <span style=\"color: #008080; text-decoration-color: #008080\">INFO</span>    | Flow run<span style=\"color: #800080; text-decoration-color: #800080\"> 'khaki-bat'</span> - Created task run 'write_gcs-19' for task 'write_gcs'\n",
       "</pre>\n"
      ],
      "text/plain": [
       "22:27:27.074 | \u001b[36mINFO\u001b[0m    | Flow run\u001b[35m 'khaki-bat'\u001b[0m - Created task run 'write_gcs-19' for task 'write_gcs'\n"
      ]
     },
     "metadata": {},
     "output_type": "display_data"
    },
    {
     "data": {
      "text/html": [
       "<pre style=\"white-space:pre;overflow-x:auto;line-height:normal;font-family:Menlo,'DejaVu Sans Mono',consolas,'Courier New',monospace\">22:27:27.078 | <span style=\"color: #008080; text-decoration-color: #008080\">INFO</span>    | Flow run<span style=\"color: #800080; text-decoration-color: #800080\"> 'khaki-bat'</span> - Executing 'write_gcs-19' immediately...\n",
       "</pre>\n"
      ],
      "text/plain": [
       "22:27:27.078 | \u001b[36mINFO\u001b[0m    | Flow run\u001b[35m 'khaki-bat'\u001b[0m - Executing 'write_gcs-19' immediately...\n"
      ]
     },
     "metadata": {},
     "output_type": "display_data"
    },
    {
     "name": "stdout",
     "output_type": "stream",
     "text": [
      "Csv file size is 189386\n"
     ]
    },
    {
     "data": {
      "text/html": [
       "<pre style=\"white-space:pre;overflow-x:auto;line-height:normal;font-family:Menlo,'DejaVu Sans Mono',consolas,'Courier New',monospace\">22:27:27.843 | <span style=\"color: #008080; text-decoration-color: #008080\">INFO</span>    | Task run 'write_gcs-19' - Finished in state <span style=\"color: #008000; text-decoration-color: #008000\">Completed</span>()\n",
       "</pre>\n"
      ],
      "text/plain": [
       "22:27:27.843 | \u001b[36mINFO\u001b[0m    | Task run 'write_gcs-19' - Finished in state \u001b[32mCompleted\u001b[0m()\n"
      ]
     },
     "metadata": {},
     "output_type": "display_data"
    },
    {
     "name": "stdout",
     "output_type": "stream",
     "text": [
      "size_19821.csv\n"
     ]
    },
    {
     "data": {
      "text/html": [
       "<pre style=\"white-space:pre;overflow-x:auto;line-height:normal;font-family:Menlo,'DejaVu Sans Mono',consolas,'Courier New',monospace\">22:27:27.931 | <span style=\"color: #008080; text-decoration-color: #008080\">INFO</span>    | Flow run<span style=\"color: #800080; text-decoration-color: #800080\"> 'khaki-bat'</span> - Created task run 'process_file-20' for task 'process_file'\n",
       "</pre>\n"
      ],
      "text/plain": [
       "22:27:27.931 | \u001b[36mINFO\u001b[0m    | Flow run\u001b[35m 'khaki-bat'\u001b[0m - Created task run 'process_file-20' for task 'process_file'\n"
      ]
     },
     "metadata": {},
     "output_type": "display_data"
    },
    {
     "data": {
      "text/html": [
       "<pre style=\"white-space:pre;overflow-x:auto;line-height:normal;font-family:Menlo,'DejaVu Sans Mono',consolas,'Courier New',monospace\">22:27:27.938 | <span style=\"color: #008080; text-decoration-color: #008080\">INFO</span>    | Flow run<span style=\"color: #800080; text-decoration-color: #800080\"> 'khaki-bat'</span> - Executing 'process_file-20' immediately...\n",
       "</pre>\n"
      ],
      "text/plain": [
       "22:27:27.938 | \u001b[36mINFO\u001b[0m    | Flow run\u001b[35m 'khaki-bat'\u001b[0m - Executing 'process_file-20' immediately...\n"
      ]
     },
     "metadata": {},
     "output_type": "display_data"
    },
    {
     "data": {
      "text/html": [
       "<pre style=\"white-space:pre;overflow-x:auto;line-height:normal;font-family:Menlo,'DejaVu Sans Mono',consolas,'Courier New',monospace\">22:27:28.153 | <span style=\"color: #008080; text-decoration-color: #008080\">INFO</span>    | Task run 'process_file-20' - Finished in state <span style=\"color: #008000; text-decoration-color: #008000\">Completed</span>()\n",
       "</pre>\n"
      ],
      "text/plain": [
       "22:27:28.153 | \u001b[36mINFO\u001b[0m    | Task run 'process_file-20' - Finished in state \u001b[32mCompleted\u001b[0m()\n"
      ]
     },
     "metadata": {},
     "output_type": "display_data"
    },
    {
     "data": {
      "text/html": [
       "<pre style=\"white-space:pre;overflow-x:auto;line-height:normal;font-family:Menlo,'DejaVu Sans Mono',consolas,'Courier New',monospace\">22:27:28.224 | <span style=\"color: #008080; text-decoration-color: #008080\">INFO</span>    | Flow run<span style=\"color: #800080; text-decoration-color: #800080\"> 'khaki-bat'</span> - Created task run 'write_gcs-20' for task 'write_gcs'\n",
       "</pre>\n"
      ],
      "text/plain": [
       "22:27:28.224 | \u001b[36mINFO\u001b[0m    | Flow run\u001b[35m 'khaki-bat'\u001b[0m - Created task run 'write_gcs-20' for task 'write_gcs'\n"
      ]
     },
     "metadata": {},
     "output_type": "display_data"
    },
    {
     "data": {
      "text/html": [
       "<pre style=\"white-space:pre;overflow-x:auto;line-height:normal;font-family:Menlo,'DejaVu Sans Mono',consolas,'Courier New',monospace\">22:27:28.228 | <span style=\"color: #008080; text-decoration-color: #008080\">INFO</span>    | Flow run<span style=\"color: #800080; text-decoration-color: #800080\"> 'khaki-bat'</span> - Executing 'write_gcs-20' immediately...\n",
       "</pre>\n"
      ],
      "text/plain": [
       "22:27:28.228 | \u001b[36mINFO\u001b[0m    | Flow run\u001b[35m 'khaki-bat'\u001b[0m - Executing 'write_gcs-20' immediately...\n"
      ]
     },
     "metadata": {},
     "output_type": "display_data"
    },
    {
     "name": "stdout",
     "output_type": "stream",
     "text": [
      "Csv file size is 179938\n"
     ]
    },
    {
     "data": {
      "text/html": [
       "<pre style=\"white-space:pre;overflow-x:auto;line-height:normal;font-family:Menlo,'DejaVu Sans Mono',consolas,'Courier New',monospace\">22:27:29.027 | <span style=\"color: #008080; text-decoration-color: #008080\">INFO</span>    | Task run 'write_gcs-20' - Finished in state <span style=\"color: #008000; text-decoration-color: #008000\">Completed</span>()\n",
       "</pre>\n"
      ],
      "text/plain": [
       "22:27:29.027 | \u001b[36mINFO\u001b[0m    | Task run 'write_gcs-20' - Finished in state \u001b[32mCompleted\u001b[0m()\n"
      ]
     },
     "metadata": {},
     "output_type": "display_data"
    },
    {
     "name": "stdout",
     "output_type": "stream",
     "text": [
      "catch_19822.csv\n"
     ]
    },
    {
     "data": {
      "text/html": [
       "<pre style=\"white-space:pre;overflow-x:auto;line-height:normal;font-family:Menlo,'DejaVu Sans Mono',consolas,'Courier New',monospace\">22:27:29.107 | <span style=\"color: #008080; text-decoration-color: #008080\">INFO</span>    | Flow run<span style=\"color: #800080; text-decoration-color: #800080\"> 'khaki-bat'</span> - Created task run 'process_file-21' for task 'process_file'\n",
       "</pre>\n"
      ],
      "text/plain": [
       "22:27:29.107 | \u001b[36mINFO\u001b[0m    | Flow run\u001b[35m 'khaki-bat'\u001b[0m - Created task run 'process_file-21' for task 'process_file'\n"
      ]
     },
     "metadata": {},
     "output_type": "display_data"
    },
    {
     "data": {
      "text/html": [
       "<pre style=\"white-space:pre;overflow-x:auto;line-height:normal;font-family:Menlo,'DejaVu Sans Mono',consolas,'Courier New',monospace\">22:27:29.110 | <span style=\"color: #008080; text-decoration-color: #008080\">INFO</span>    | Flow run<span style=\"color: #800080; text-decoration-color: #800080\"> 'khaki-bat'</span> - Executing 'process_file-21' immediately...\n",
       "</pre>\n"
      ],
      "text/plain": [
       "22:27:29.110 | \u001b[36mINFO\u001b[0m    | Flow run\u001b[35m 'khaki-bat'\u001b[0m - Executing 'process_file-21' immediately...\n"
      ]
     },
     "metadata": {},
     "output_type": "display_data"
    },
    {
     "data": {
      "text/html": [
       "<pre style=\"white-space:pre;overflow-x:auto;line-height:normal;font-family:Menlo,'DejaVu Sans Mono',consolas,'Courier New',monospace\">22:27:29.332 | <span style=\"color: #008080; text-decoration-color: #008080\">INFO</span>    | Task run 'process_file-21' - Finished in state <span style=\"color: #008000; text-decoration-color: #008000\">Completed</span>()\n",
       "</pre>\n"
      ],
      "text/plain": [
       "22:27:29.332 | \u001b[36mINFO\u001b[0m    | Task run 'process_file-21' - Finished in state \u001b[32mCompleted\u001b[0m()\n"
      ]
     },
     "metadata": {},
     "output_type": "display_data"
    },
    {
     "data": {
      "text/html": [
       "<pre style=\"white-space:pre;overflow-x:auto;line-height:normal;font-family:Menlo,'DejaVu Sans Mono',consolas,'Courier New',monospace\">22:27:29.423 | <span style=\"color: #008080; text-decoration-color: #008080\">INFO</span>    | Flow run<span style=\"color: #800080; text-decoration-color: #800080\"> 'khaki-bat'</span> - Created task run 'write_gcs-21' for task 'write_gcs'\n",
       "</pre>\n"
      ],
      "text/plain": [
       "22:27:29.423 | \u001b[36mINFO\u001b[0m    | Flow run\u001b[35m 'khaki-bat'\u001b[0m - Created task run 'write_gcs-21' for task 'write_gcs'\n"
      ]
     },
     "metadata": {},
     "output_type": "display_data"
    },
    {
     "data": {
      "text/html": [
       "<pre style=\"white-space:pre;overflow-x:auto;line-height:normal;font-family:Menlo,'DejaVu Sans Mono',consolas,'Courier New',monospace\">22:27:29.429 | <span style=\"color: #008080; text-decoration-color: #008080\">INFO</span>    | Flow run<span style=\"color: #800080; text-decoration-color: #800080\"> 'khaki-bat'</span> - Executing 'write_gcs-21' immediately...\n",
       "</pre>\n"
      ],
      "text/plain": [
       "22:27:29.429 | \u001b[36mINFO\u001b[0m    | Flow run\u001b[35m 'khaki-bat'\u001b[0m - Executing 'write_gcs-21' immediately...\n"
      ]
     },
     "metadata": {},
     "output_type": "display_data"
    },
    {
     "name": "stdout",
     "output_type": "stream",
     "text": [
      "Csv file size is 733905\n"
     ]
    },
    {
     "data": {
      "text/html": [
       "<pre style=\"white-space:pre;overflow-x:auto;line-height:normal;font-family:Menlo,'DejaVu Sans Mono',consolas,'Courier New',monospace\">22:27:30.743 | <span style=\"color: #008080; text-decoration-color: #008080\">INFO</span>    | Task run 'write_gcs-21' - Finished in state <span style=\"color: #008000; text-decoration-color: #008000\">Completed</span>()\n",
       "</pre>\n"
      ],
      "text/plain": [
       "22:27:30.743 | \u001b[36mINFO\u001b[0m    | Task run 'write_gcs-21' - Finished in state \u001b[32mCompleted\u001b[0m()\n"
      ]
     },
     "metadata": {},
     "output_type": "display_data"
    },
    {
     "name": "stdout",
     "output_type": "stream",
     "text": [
      "trip_19822.csv\n"
     ]
    },
    {
     "data": {
      "text/html": [
       "<pre style=\"white-space:pre;overflow-x:auto;line-height:normal;font-family:Menlo,'DejaVu Sans Mono',consolas,'Courier New',monospace\">22:27:30.836 | <span style=\"color: #008080; text-decoration-color: #008080\">INFO</span>    | Flow run<span style=\"color: #800080; text-decoration-color: #800080\"> 'khaki-bat'</span> - Created task run 'process_file-22' for task 'process_file'\n",
       "</pre>\n"
      ],
      "text/plain": [
       "22:27:30.836 | \u001b[36mINFO\u001b[0m    | Flow run\u001b[35m 'khaki-bat'\u001b[0m - Created task run 'process_file-22' for task 'process_file'\n"
      ]
     },
     "metadata": {},
     "output_type": "display_data"
    },
    {
     "data": {
      "text/html": [
       "<pre style=\"white-space:pre;overflow-x:auto;line-height:normal;font-family:Menlo,'DejaVu Sans Mono',consolas,'Courier New',monospace\">22:27:30.841 | <span style=\"color: #008080; text-decoration-color: #008080\">INFO</span>    | Flow run<span style=\"color: #800080; text-decoration-color: #800080\"> 'khaki-bat'</span> - Executing 'process_file-22' immediately...\n",
       "</pre>\n"
      ],
      "text/plain": [
       "22:27:30.841 | \u001b[36mINFO\u001b[0m    | Flow run\u001b[35m 'khaki-bat'\u001b[0m - Executing 'process_file-22' immediately...\n"
      ]
     },
     "metadata": {},
     "output_type": "display_data"
    },
    {
     "data": {
      "text/html": [
       "<pre style=\"white-space:pre;overflow-x:auto;line-height:normal;font-family:Menlo,'DejaVu Sans Mono',consolas,'Courier New',monospace\">22:27:31.146 | <span style=\"color: #008080; text-decoration-color: #008080\">INFO</span>    | Task run 'process_file-22' - Finished in state <span style=\"color: #008000; text-decoration-color: #008000\">Completed</span>()\n",
       "</pre>\n"
      ],
      "text/plain": [
       "22:27:31.146 | \u001b[36mINFO\u001b[0m    | Task run 'process_file-22' - Finished in state \u001b[32mCompleted\u001b[0m()\n"
      ]
     },
     "metadata": {},
     "output_type": "display_data"
    },
    {
     "data": {
      "text/html": [
       "<pre style=\"white-space:pre;overflow-x:auto;line-height:normal;font-family:Menlo,'DejaVu Sans Mono',consolas,'Courier New',monospace\">22:27:31.219 | <span style=\"color: #008080; text-decoration-color: #008080\">INFO</span>    | Flow run<span style=\"color: #800080; text-decoration-color: #800080\"> 'khaki-bat'</span> - Created task run 'write_gcs-22' for task 'write_gcs'\n",
       "</pre>\n"
      ],
      "text/plain": [
       "22:27:31.219 | \u001b[36mINFO\u001b[0m    | Flow run\u001b[35m 'khaki-bat'\u001b[0m - Created task run 'write_gcs-22' for task 'write_gcs'\n"
      ]
     },
     "metadata": {},
     "output_type": "display_data"
    },
    {
     "data": {
      "text/html": [
       "<pre style=\"white-space:pre;overflow-x:auto;line-height:normal;font-family:Menlo,'DejaVu Sans Mono',consolas,'Courier New',monospace\">22:27:31.223 | <span style=\"color: #008080; text-decoration-color: #008080\">INFO</span>    | Flow run<span style=\"color: #800080; text-decoration-color: #800080\"> 'khaki-bat'</span> - Executing 'write_gcs-22' immediately...\n",
       "</pre>\n"
      ],
      "text/plain": [
       "22:27:31.223 | \u001b[36mINFO\u001b[0m    | Flow run\u001b[35m 'khaki-bat'\u001b[0m - Executing 'write_gcs-22' immediately...\n"
      ]
     },
     "metadata": {},
     "output_type": "display_data"
    },
    {
     "name": "stdout",
     "output_type": "stream",
     "text": [
      "Csv file size is 691875\n"
     ]
    },
    {
     "data": {
      "text/html": [
       "<pre style=\"white-space:pre;overflow-x:auto;line-height:normal;font-family:Menlo,'DejaVu Sans Mono',consolas,'Courier New',monospace\">22:27:32.303 | <span style=\"color: #008080; text-decoration-color: #008080\">INFO</span>    | Task run 'write_gcs-22' - Finished in state <span style=\"color: #008000; text-decoration-color: #008000\">Completed</span>()\n",
       "</pre>\n"
      ],
      "text/plain": [
       "22:27:32.303 | \u001b[36mINFO\u001b[0m    | Task run 'write_gcs-22' - Finished in state \u001b[32mCompleted\u001b[0m()\n"
      ]
     },
     "metadata": {},
     "output_type": "display_data"
    },
    {
     "name": "stdout",
     "output_type": "stream",
     "text": [
      "size_19822.csv\n"
     ]
    },
    {
     "data": {
      "text/html": [
       "<pre style=\"white-space:pre;overflow-x:auto;line-height:normal;font-family:Menlo,'DejaVu Sans Mono',consolas,'Courier New',monospace\">22:27:32.379 | <span style=\"color: #008080; text-decoration-color: #008080\">INFO</span>    | Flow run<span style=\"color: #800080; text-decoration-color: #800080\"> 'khaki-bat'</span> - Created task run 'process_file-23' for task 'process_file'\n",
       "</pre>\n"
      ],
      "text/plain": [
       "22:27:32.379 | \u001b[36mINFO\u001b[0m    | Flow run\u001b[35m 'khaki-bat'\u001b[0m - Created task run 'process_file-23' for task 'process_file'\n"
      ]
     },
     "metadata": {},
     "output_type": "display_data"
    },
    {
     "data": {
      "text/html": [
       "<pre style=\"white-space:pre;overflow-x:auto;line-height:normal;font-family:Menlo,'DejaVu Sans Mono',consolas,'Courier New',monospace\">22:27:32.384 | <span style=\"color: #008080; text-decoration-color: #008080\">INFO</span>    | Flow run<span style=\"color: #800080; text-decoration-color: #800080\"> 'khaki-bat'</span> - Executing 'process_file-23' immediately...\n",
       "</pre>\n"
      ],
      "text/plain": [
       "22:27:32.384 | \u001b[36mINFO\u001b[0m    | Flow run\u001b[35m 'khaki-bat'\u001b[0m - Executing 'process_file-23' immediately...\n"
      ]
     },
     "metadata": {},
     "output_type": "display_data"
    },
    {
     "data": {
      "text/html": [
       "<pre style=\"white-space:pre;overflow-x:auto;line-height:normal;font-family:Menlo,'DejaVu Sans Mono',consolas,'Courier New',monospace\">22:27:32.596 | <span style=\"color: #008080; text-decoration-color: #008080\">INFO</span>    | Task run 'process_file-23' - Finished in state <span style=\"color: #008000; text-decoration-color: #008000\">Completed</span>()\n",
       "</pre>\n"
      ],
      "text/plain": [
       "22:27:32.596 | \u001b[36mINFO\u001b[0m    | Task run 'process_file-23' - Finished in state \u001b[32mCompleted\u001b[0m()\n"
      ]
     },
     "metadata": {},
     "output_type": "display_data"
    },
    {
     "data": {
      "text/html": [
       "<pre style=\"white-space:pre;overflow-x:auto;line-height:normal;font-family:Menlo,'DejaVu Sans Mono',consolas,'Courier New',monospace\">22:27:32.682 | <span style=\"color: #008080; text-decoration-color: #008080\">INFO</span>    | Flow run<span style=\"color: #800080; text-decoration-color: #800080\"> 'khaki-bat'</span> - Created task run 'write_gcs-23' for task 'write_gcs'\n",
       "</pre>\n"
      ],
      "text/plain": [
       "22:27:32.682 | \u001b[36mINFO\u001b[0m    | Flow run\u001b[35m 'khaki-bat'\u001b[0m - Created task run 'write_gcs-23' for task 'write_gcs'\n"
      ]
     },
     "metadata": {},
     "output_type": "display_data"
    },
    {
     "data": {
      "text/html": [
       "<pre style=\"white-space:pre;overflow-x:auto;line-height:normal;font-family:Menlo,'DejaVu Sans Mono',consolas,'Courier New',monospace\">22:27:32.685 | <span style=\"color: #008080; text-decoration-color: #008080\">INFO</span>    | Flow run<span style=\"color: #800080; text-decoration-color: #800080\"> 'khaki-bat'</span> - Executing 'write_gcs-23' immediately...\n",
       "</pre>\n"
      ],
      "text/plain": [
       "22:27:32.685 | \u001b[36mINFO\u001b[0m    | Flow run\u001b[35m 'khaki-bat'\u001b[0m - Executing 'write_gcs-23' immediately...\n"
      ]
     },
     "metadata": {},
     "output_type": "display_data"
    },
    {
     "name": "stdout",
     "output_type": "stream",
     "text": [
      "Csv file size is 1062130\n"
     ]
    },
    {
     "data": {
      "text/html": [
       "<pre style=\"white-space:pre;overflow-x:auto;line-height:normal;font-family:Menlo,'DejaVu Sans Mono',consolas,'Courier New',monospace\">22:27:34.064 | <span style=\"color: #008080; text-decoration-color: #008080\">INFO</span>    | Task run 'write_gcs-23' - Finished in state <span style=\"color: #008000; text-decoration-color: #008000\">Completed</span>()\n",
       "</pre>\n"
      ],
      "text/plain": [
       "22:27:34.064 | \u001b[36mINFO\u001b[0m    | Task run 'write_gcs-23' - Finished in state \u001b[32mCompleted\u001b[0m()\n"
      ]
     },
     "metadata": {},
     "output_type": "display_data"
    },
    {
     "name": "stdout",
     "output_type": "stream",
     "text": [
      "catch_19823.csv\n"
     ]
    },
    {
     "data": {
      "text/html": [
       "<pre style=\"white-space:pre;overflow-x:auto;line-height:normal;font-family:Menlo,'DejaVu Sans Mono',consolas,'Courier New',monospace\">22:27:34.139 | <span style=\"color: #008080; text-decoration-color: #008080\">INFO</span>    | Flow run<span style=\"color: #800080; text-decoration-color: #800080\"> 'khaki-bat'</span> - Created task run 'process_file-24' for task 'process_file'\n",
       "</pre>\n"
      ],
      "text/plain": [
       "22:27:34.139 | \u001b[36mINFO\u001b[0m    | Flow run\u001b[35m 'khaki-bat'\u001b[0m - Created task run 'process_file-24' for task 'process_file'\n"
      ]
     },
     "metadata": {},
     "output_type": "display_data"
    },
    {
     "data": {
      "text/html": [
       "<pre style=\"white-space:pre;overflow-x:auto;line-height:normal;font-family:Menlo,'DejaVu Sans Mono',consolas,'Courier New',monospace\">22:27:34.144 | <span style=\"color: #008080; text-decoration-color: #008080\">INFO</span>    | Flow run<span style=\"color: #800080; text-decoration-color: #800080\"> 'khaki-bat'</span> - Executing 'process_file-24' immediately...\n",
       "</pre>\n"
      ],
      "text/plain": [
       "22:27:34.144 | \u001b[36mINFO\u001b[0m    | Flow run\u001b[35m 'khaki-bat'\u001b[0m - Executing 'process_file-24' immediately...\n"
      ]
     },
     "metadata": {},
     "output_type": "display_data"
    },
    {
     "data": {
      "text/html": [
       "<pre style=\"white-space:pre;overflow-x:auto;line-height:normal;font-family:Menlo,'DejaVu Sans Mono',consolas,'Courier New',monospace\">22:27:34.377 | <span style=\"color: #008080; text-decoration-color: #008080\">INFO</span>    | Task run 'process_file-24' - Finished in state <span style=\"color: #008000; text-decoration-color: #008000\">Completed</span>()\n",
       "</pre>\n"
      ],
      "text/plain": [
       "22:27:34.377 | \u001b[36mINFO\u001b[0m    | Task run 'process_file-24' - Finished in state \u001b[32mCompleted\u001b[0m()\n"
      ]
     },
     "metadata": {},
     "output_type": "display_data"
    },
    {
     "data": {
      "text/html": [
       "<pre style=\"white-space:pre;overflow-x:auto;line-height:normal;font-family:Menlo,'DejaVu Sans Mono',consolas,'Courier New',monospace\">22:27:34.454 | <span style=\"color: #008080; text-decoration-color: #008080\">INFO</span>    | Flow run<span style=\"color: #800080; text-decoration-color: #800080\"> 'khaki-bat'</span> - Created task run 'write_gcs-24' for task 'write_gcs'\n",
       "</pre>\n"
      ],
      "text/plain": [
       "22:27:34.454 | \u001b[36mINFO\u001b[0m    | Flow run\u001b[35m 'khaki-bat'\u001b[0m - Created task run 'write_gcs-24' for task 'write_gcs'\n"
      ]
     },
     "metadata": {},
     "output_type": "display_data"
    },
    {
     "data": {
      "text/html": [
       "<pre style=\"white-space:pre;overflow-x:auto;line-height:normal;font-family:Menlo,'DejaVu Sans Mono',consolas,'Courier New',monospace\">22:27:34.459 | <span style=\"color: #008080; text-decoration-color: #008080\">INFO</span>    | Flow run<span style=\"color: #800080; text-decoration-color: #800080\"> 'khaki-bat'</span> - Executing 'write_gcs-24' immediately...\n",
       "</pre>\n"
      ],
      "text/plain": [
       "22:27:34.459 | \u001b[36mINFO\u001b[0m    | Flow run\u001b[35m 'khaki-bat'\u001b[0m - Executing 'write_gcs-24' immediately...\n"
      ]
     },
     "metadata": {},
     "output_type": "display_data"
    },
    {
     "name": "stdout",
     "output_type": "stream",
     "text": [
      "Csv file size is 2013613\n"
     ]
    },
    {
     "data": {
      "text/html": [
       "<pre style=\"white-space:pre;overflow-x:auto;line-height:normal;font-family:Menlo,'DejaVu Sans Mono',consolas,'Courier New',monospace\">22:27:36.449 | <span style=\"color: #008080; text-decoration-color: #008080\">INFO</span>    | Task run 'write_gcs-24' - Finished in state <span style=\"color: #008000; text-decoration-color: #008000\">Completed</span>()\n",
       "</pre>\n"
      ],
      "text/plain": [
       "22:27:36.449 | \u001b[36mINFO\u001b[0m    | Task run 'write_gcs-24' - Finished in state \u001b[32mCompleted\u001b[0m()\n"
      ]
     },
     "metadata": {},
     "output_type": "display_data"
    },
    {
     "name": "stdout",
     "output_type": "stream",
     "text": [
      "trip_19823.csv\n"
     ]
    },
    {
     "data": {
      "text/html": [
       "<pre style=\"white-space:pre;overflow-x:auto;line-height:normal;font-family:Menlo,'DejaVu Sans Mono',consolas,'Courier New',monospace\">22:27:36.534 | <span style=\"color: #008080; text-decoration-color: #008080\">INFO</span>    | Flow run<span style=\"color: #800080; text-decoration-color: #800080\"> 'khaki-bat'</span> - Created task run 'process_file-25' for task 'process_file'\n",
       "</pre>\n"
      ],
      "text/plain": [
       "22:27:36.534 | \u001b[36mINFO\u001b[0m    | Flow run\u001b[35m 'khaki-bat'\u001b[0m - Created task run 'process_file-25' for task 'process_file'\n"
      ]
     },
     "metadata": {},
     "output_type": "display_data"
    },
    {
     "data": {
      "text/html": [
       "<pre style=\"white-space:pre;overflow-x:auto;line-height:normal;font-family:Menlo,'DejaVu Sans Mono',consolas,'Courier New',monospace\">22:27:36.539 | <span style=\"color: #008080; text-decoration-color: #008080\">INFO</span>    | Flow run<span style=\"color: #800080; text-decoration-color: #800080\"> 'khaki-bat'</span> - Executing 'process_file-25' immediately...\n",
       "</pre>\n"
      ],
      "text/plain": [
       "22:27:36.539 | \u001b[36mINFO\u001b[0m    | Flow run\u001b[35m 'khaki-bat'\u001b[0m - Executing 'process_file-25' immediately...\n"
      ]
     },
     "metadata": {},
     "output_type": "display_data"
    },
    {
     "data": {
      "text/html": [
       "<pre style=\"white-space:pre;overflow-x:auto;line-height:normal;font-family:Menlo,'DejaVu Sans Mono',consolas,'Courier New',monospace\">22:27:36.780 | <span style=\"color: #008080; text-decoration-color: #008080\">INFO</span>    | Task run 'process_file-25' - Finished in state <span style=\"color: #008000; text-decoration-color: #008000\">Completed</span>()\n",
       "</pre>\n"
      ],
      "text/plain": [
       "22:27:36.780 | \u001b[36mINFO\u001b[0m    | Task run 'process_file-25' - Finished in state \u001b[32mCompleted\u001b[0m()\n"
      ]
     },
     "metadata": {},
     "output_type": "display_data"
    },
    {
     "data": {
      "text/html": [
       "<pre style=\"white-space:pre;overflow-x:auto;line-height:normal;font-family:Menlo,'DejaVu Sans Mono',consolas,'Courier New',monospace\">22:27:36.869 | <span style=\"color: #008080; text-decoration-color: #008080\">INFO</span>    | Flow run<span style=\"color: #800080; text-decoration-color: #800080\"> 'khaki-bat'</span> - Created task run 'write_gcs-25' for task 'write_gcs'\n",
       "</pre>\n"
      ],
      "text/plain": [
       "22:27:36.869 | \u001b[36mINFO\u001b[0m    | Flow run\u001b[35m 'khaki-bat'\u001b[0m - Created task run 'write_gcs-25' for task 'write_gcs'\n"
      ]
     },
     "metadata": {},
     "output_type": "display_data"
    },
    {
     "data": {
      "text/html": [
       "<pre style=\"white-space:pre;overflow-x:auto;line-height:normal;font-family:Menlo,'DejaVu Sans Mono',consolas,'Courier New',monospace\">22:27:36.874 | <span style=\"color: #008080; text-decoration-color: #008080\">INFO</span>    | Flow run<span style=\"color: #800080; text-decoration-color: #800080\"> 'khaki-bat'</span> - Executing 'write_gcs-25' immediately...\n",
       "</pre>\n"
      ],
      "text/plain": [
       "22:27:36.874 | \u001b[36mINFO\u001b[0m    | Flow run\u001b[35m 'khaki-bat'\u001b[0m - Executing 'write_gcs-25' immediately...\n"
      ]
     },
     "metadata": {},
     "output_type": "display_data"
    },
    {
     "name": "stdout",
     "output_type": "stream",
     "text": [
      "Csv file size is 1886209\n"
     ]
    },
    {
     "data": {
      "text/html": [
       "<pre style=\"white-space:pre;overflow-x:auto;line-height:normal;font-family:Menlo,'DejaVu Sans Mono',consolas,'Courier New',monospace\">22:27:38.992 | <span style=\"color: #008080; text-decoration-color: #008080\">INFO</span>    | Task run 'write_gcs-25' - Finished in state <span style=\"color: #008000; text-decoration-color: #008000\">Completed</span>()\n",
       "</pre>\n"
      ],
      "text/plain": [
       "22:27:38.992 | \u001b[36mINFO\u001b[0m    | Task run 'write_gcs-25' - Finished in state \u001b[32mCompleted\u001b[0m()\n"
      ]
     },
     "metadata": {},
     "output_type": "display_data"
    },
    {
     "name": "stdout",
     "output_type": "stream",
     "text": [
      "size_19823.csv\n"
     ]
    },
    {
     "data": {
      "text/html": [
       "<pre style=\"white-space:pre;overflow-x:auto;line-height:normal;font-family:Menlo,'DejaVu Sans Mono',consolas,'Courier New',monospace\">22:27:39.078 | <span style=\"color: #008080; text-decoration-color: #008080\">INFO</span>    | Flow run<span style=\"color: #800080; text-decoration-color: #800080\"> 'khaki-bat'</span> - Created task run 'process_file-26' for task 'process_file'\n",
       "</pre>\n"
      ],
      "text/plain": [
       "22:27:39.078 | \u001b[36mINFO\u001b[0m    | Flow run\u001b[35m 'khaki-bat'\u001b[0m - Created task run 'process_file-26' for task 'process_file'\n"
      ]
     },
     "metadata": {},
     "output_type": "display_data"
    },
    {
     "data": {
      "text/html": [
       "<pre style=\"white-space:pre;overflow-x:auto;line-height:normal;font-family:Menlo,'DejaVu Sans Mono',consolas,'Courier New',monospace\">22:27:39.081 | <span style=\"color: #008080; text-decoration-color: #008080\">INFO</span>    | Flow run<span style=\"color: #800080; text-decoration-color: #800080\"> 'khaki-bat'</span> - Executing 'process_file-26' immediately...\n",
       "</pre>\n"
      ],
      "text/plain": [
       "22:27:39.081 | \u001b[36mINFO\u001b[0m    | Flow run\u001b[35m 'khaki-bat'\u001b[0m - Executing 'process_file-26' immediately...\n"
      ]
     },
     "metadata": {},
     "output_type": "display_data"
    },
    {
     "data": {
      "text/html": [
       "<pre style=\"white-space:pre;overflow-x:auto;line-height:normal;font-family:Menlo,'DejaVu Sans Mono',consolas,'Courier New',monospace\">22:27:39.299 | <span style=\"color: #008080; text-decoration-color: #008080\">INFO</span>    | Task run 'process_file-26' - Finished in state <span style=\"color: #008000; text-decoration-color: #008000\">Completed</span>()\n",
       "</pre>\n"
      ],
      "text/plain": [
       "22:27:39.299 | \u001b[36mINFO\u001b[0m    | Task run 'process_file-26' - Finished in state \u001b[32mCompleted\u001b[0m()\n"
      ]
     },
     "metadata": {},
     "output_type": "display_data"
    },
    {
     "data": {
      "text/html": [
       "<pre style=\"white-space:pre;overflow-x:auto;line-height:normal;font-family:Menlo,'DejaVu Sans Mono',consolas,'Courier New',monospace\">22:27:39.375 | <span style=\"color: #008080; text-decoration-color: #008080\">INFO</span>    | Flow run<span style=\"color: #800080; text-decoration-color: #800080\"> 'khaki-bat'</span> - Created task run 'write_gcs-26' for task 'write_gcs'\n",
       "</pre>\n"
      ],
      "text/plain": [
       "22:27:39.375 | \u001b[36mINFO\u001b[0m    | Flow run\u001b[35m 'khaki-bat'\u001b[0m - Created task run 'write_gcs-26' for task 'write_gcs'\n"
      ]
     },
     "metadata": {},
     "output_type": "display_data"
    },
    {
     "data": {
      "text/html": [
       "<pre style=\"white-space:pre;overflow-x:auto;line-height:normal;font-family:Menlo,'DejaVu Sans Mono',consolas,'Courier New',monospace\">22:27:39.379 | <span style=\"color: #008080; text-decoration-color: #008080\">INFO</span>    | Flow run<span style=\"color: #800080; text-decoration-color: #800080\"> 'khaki-bat'</span> - Executing 'write_gcs-26' immediately...\n",
       "</pre>\n"
      ],
      "text/plain": [
       "22:27:39.379 | \u001b[36mINFO\u001b[0m    | Flow run\u001b[35m 'khaki-bat'\u001b[0m - Executing 'write_gcs-26' immediately...\n"
      ]
     },
     "metadata": {},
     "output_type": "display_data"
    },
    {
     "name": "stdout",
     "output_type": "stream",
     "text": [
      "Csv file size is 2799895\n"
     ]
    },
    {
     "data": {
      "text/html": [
       "<pre style=\"white-space:pre;overflow-x:auto;line-height:normal;font-family:Menlo,'DejaVu Sans Mono',consolas,'Courier New',monospace\">22:27:41.987 | <span style=\"color: #008080; text-decoration-color: #008080\">INFO</span>    | Task run 'write_gcs-26' - Finished in state <span style=\"color: #008000; text-decoration-color: #008000\">Completed</span>()\n",
       "</pre>\n"
      ],
      "text/plain": [
       "22:27:41.987 | \u001b[36mINFO\u001b[0m    | Task run 'write_gcs-26' - Finished in state \u001b[32mCompleted\u001b[0m()\n"
      ]
     },
     "metadata": {},
     "output_type": "display_data"
    },
    {
     "name": "stdout",
     "output_type": "stream",
     "text": [
      "catch_19824.csv\n"
     ]
    },
    {
     "data": {
      "text/html": [
       "<pre style=\"white-space:pre;overflow-x:auto;line-height:normal;font-family:Menlo,'DejaVu Sans Mono',consolas,'Courier New',monospace\">22:27:42.224 | <span style=\"color: #008080; text-decoration-color: #008080\">INFO</span>    | Flow run<span style=\"color: #800080; text-decoration-color: #800080\"> 'khaki-bat'</span> - Created task run 'process_file-27' for task 'process_file'\n",
       "</pre>\n"
      ],
      "text/plain": [
       "22:27:42.224 | \u001b[36mINFO\u001b[0m    | Flow run\u001b[35m 'khaki-bat'\u001b[0m - Created task run 'process_file-27' for task 'process_file'\n"
      ]
     },
     "metadata": {},
     "output_type": "display_data"
    },
    {
     "data": {
      "text/html": [
       "<pre style=\"white-space:pre;overflow-x:auto;line-height:normal;font-family:Menlo,'DejaVu Sans Mono',consolas,'Courier New',monospace\">22:27:42.228 | <span style=\"color: #008080; text-decoration-color: #008080\">INFO</span>    | Flow run<span style=\"color: #800080; text-decoration-color: #800080\"> 'khaki-bat'</span> - Executing 'process_file-27' immediately...\n",
       "</pre>\n"
      ],
      "text/plain": [
       "22:27:42.228 | \u001b[36mINFO\u001b[0m    | Flow run\u001b[35m 'khaki-bat'\u001b[0m - Executing 'process_file-27' immediately...\n"
      ]
     },
     "metadata": {},
     "output_type": "display_data"
    },
    {
     "data": {
      "text/html": [
       "<pre style=\"white-space:pre;overflow-x:auto;line-height:normal;font-family:Menlo,'DejaVu Sans Mono',consolas,'Courier New',monospace\">22:27:42.894 | <span style=\"color: #008080; text-decoration-color: #008080\">INFO</span>    | Task run 'process_file-27' - Finished in state <span style=\"color: #008000; text-decoration-color: #008000\">Completed</span>()\n",
       "</pre>\n"
      ],
      "text/plain": [
       "22:27:42.894 | \u001b[36mINFO\u001b[0m    | Task run 'process_file-27' - Finished in state \u001b[32mCompleted\u001b[0m()\n"
      ]
     },
     "metadata": {},
     "output_type": "display_data"
    },
    {
     "data": {
      "text/html": [
       "<pre style=\"white-space:pre;overflow-x:auto;line-height:normal;font-family:Menlo,'DejaVu Sans Mono',consolas,'Courier New',monospace\">22:27:43.009 | <span style=\"color: #008080; text-decoration-color: #008080\">INFO</span>    | Flow run<span style=\"color: #800080; text-decoration-color: #800080\"> 'khaki-bat'</span> - Created task run 'write_gcs-27' for task 'write_gcs'\n",
       "</pre>\n"
      ],
      "text/plain": [
       "22:27:43.009 | \u001b[36mINFO\u001b[0m    | Flow run\u001b[35m 'khaki-bat'\u001b[0m - Created task run 'write_gcs-27' for task 'write_gcs'\n"
      ]
     },
     "metadata": {},
     "output_type": "display_data"
    },
    {
     "data": {
      "text/html": [
       "<pre style=\"white-space:pre;overflow-x:auto;line-height:normal;font-family:Menlo,'DejaVu Sans Mono',consolas,'Courier New',monospace\">22:27:43.014 | <span style=\"color: #008080; text-decoration-color: #008080\">INFO</span>    | Flow run<span style=\"color: #800080; text-decoration-color: #800080\"> 'khaki-bat'</span> - Executing 'write_gcs-27' immediately...\n",
       "</pre>\n"
      ],
      "text/plain": [
       "22:27:43.014 | \u001b[36mINFO\u001b[0m    | Flow run\u001b[35m 'khaki-bat'\u001b[0m - Executing 'write_gcs-27' immediately...\n"
      ]
     },
     "metadata": {},
     "output_type": "display_data"
    },
    {
     "name": "stdout",
     "output_type": "stream",
     "text": [
      "Csv file size is 3073916\n"
     ]
    },
    {
     "data": {
      "text/html": [
       "<pre style=\"white-space:pre;overflow-x:auto;line-height:normal;font-family:Menlo,'DejaVu Sans Mono',consolas,'Courier New',monospace\">22:27:46.310 | <span style=\"color: #008080; text-decoration-color: #008080\">INFO</span>    | Task run 'write_gcs-27' - Finished in state <span style=\"color: #008000; text-decoration-color: #008000\">Completed</span>()\n",
       "</pre>\n"
      ],
      "text/plain": [
       "22:27:46.310 | \u001b[36mINFO\u001b[0m    | Task run 'write_gcs-27' - Finished in state \u001b[32mCompleted\u001b[0m()\n"
      ]
     },
     "metadata": {},
     "output_type": "display_data"
    },
    {
     "name": "stdout",
     "output_type": "stream",
     "text": [
      "trip_19824.csv\n"
     ]
    },
    {
     "data": {
      "text/html": [
       "<pre style=\"white-space:pre;overflow-x:auto;line-height:normal;font-family:Menlo,'DejaVu Sans Mono',consolas,'Courier New',monospace\">22:27:46.394 | <span style=\"color: #008080; text-decoration-color: #008080\">INFO</span>    | Flow run<span style=\"color: #800080; text-decoration-color: #800080\"> 'khaki-bat'</span> - Created task run 'process_file-28' for task 'process_file'\n",
       "</pre>\n"
      ],
      "text/plain": [
       "22:27:46.394 | \u001b[36mINFO\u001b[0m    | Flow run\u001b[35m 'khaki-bat'\u001b[0m - Created task run 'process_file-28' for task 'process_file'\n"
      ]
     },
     "metadata": {},
     "output_type": "display_data"
    },
    {
     "data": {
      "text/html": [
       "<pre style=\"white-space:pre;overflow-x:auto;line-height:normal;font-family:Menlo,'DejaVu Sans Mono',consolas,'Courier New',monospace\">22:27:46.400 | <span style=\"color: #008080; text-decoration-color: #008080\">INFO</span>    | Flow run<span style=\"color: #800080; text-decoration-color: #800080\"> 'khaki-bat'</span> - Executing 'process_file-28' immediately...\n",
       "</pre>\n"
      ],
      "text/plain": [
       "22:27:46.400 | \u001b[36mINFO\u001b[0m    | Flow run\u001b[35m 'khaki-bat'\u001b[0m - Executing 'process_file-28' immediately...\n"
      ]
     },
     "metadata": {},
     "output_type": "display_data"
    },
    {
     "data": {
      "text/html": [
       "<pre style=\"white-space:pre;overflow-x:auto;line-height:normal;font-family:Menlo,'DejaVu Sans Mono',consolas,'Courier New',monospace\">22:27:46.620 | <span style=\"color: #008080; text-decoration-color: #008080\">INFO</span>    | Task run 'process_file-28' - Finished in state <span style=\"color: #008000; text-decoration-color: #008000\">Completed</span>()\n",
       "</pre>\n"
      ],
      "text/plain": [
       "22:27:46.620 | \u001b[36mINFO\u001b[0m    | Task run 'process_file-28' - Finished in state \u001b[32mCompleted\u001b[0m()\n"
      ]
     },
     "metadata": {},
     "output_type": "display_data"
    },
    {
     "data": {
      "text/html": [
       "<pre style=\"white-space:pre;overflow-x:auto;line-height:normal;font-family:Menlo,'DejaVu Sans Mono',consolas,'Courier New',monospace\">22:27:46.705 | <span style=\"color: #008080; text-decoration-color: #008080\">INFO</span>    | Flow run<span style=\"color: #800080; text-decoration-color: #800080\"> 'khaki-bat'</span> - Created task run 'write_gcs-28' for task 'write_gcs'\n",
       "</pre>\n"
      ],
      "text/plain": [
       "22:27:46.705 | \u001b[36mINFO\u001b[0m    | Flow run\u001b[35m 'khaki-bat'\u001b[0m - Created task run 'write_gcs-28' for task 'write_gcs'\n"
      ]
     },
     "metadata": {},
     "output_type": "display_data"
    },
    {
     "data": {
      "text/html": [
       "<pre style=\"white-space:pre;overflow-x:auto;line-height:normal;font-family:Menlo,'DejaVu Sans Mono',consolas,'Courier New',monospace\">22:27:46.709 | <span style=\"color: #008080; text-decoration-color: #008080\">INFO</span>    | Flow run<span style=\"color: #800080; text-decoration-color: #800080\"> 'khaki-bat'</span> - Executing 'write_gcs-28' immediately...\n",
       "</pre>\n"
      ],
      "text/plain": [
       "22:27:46.709 | \u001b[36mINFO\u001b[0m    | Flow run\u001b[35m 'khaki-bat'\u001b[0m - Executing 'write_gcs-28' immediately...\n"
      ]
     },
     "metadata": {},
     "output_type": "display_data"
    },
    {
     "name": "stdout",
     "output_type": "stream",
     "text": [
      "Csv file size is 3006498\n"
     ]
    },
    {
     "data": {
      "text/html": [
       "<pre style=\"white-space:pre;overflow-x:auto;line-height:normal;font-family:Menlo,'DejaVu Sans Mono',consolas,'Courier New',monospace\">22:27:49.591 | <span style=\"color: #008080; text-decoration-color: #008080\">INFO</span>    | Task run 'write_gcs-28' - Finished in state <span style=\"color: #008000; text-decoration-color: #008000\">Completed</span>()\n",
       "</pre>\n"
      ],
      "text/plain": [
       "22:27:49.591 | \u001b[36mINFO\u001b[0m    | Task run 'write_gcs-28' - Finished in state \u001b[32mCompleted\u001b[0m()\n"
      ]
     },
     "metadata": {},
     "output_type": "display_data"
    },
    {
     "name": "stdout",
     "output_type": "stream",
     "text": [
      "size_19824.csv\n"
     ]
    },
    {
     "data": {
      "text/html": [
       "<pre style=\"white-space:pre;overflow-x:auto;line-height:normal;font-family:Menlo,'DejaVu Sans Mono',consolas,'Courier New',monospace\">22:27:49.696 | <span style=\"color: #008080; text-decoration-color: #008080\">INFO</span>    | Flow run<span style=\"color: #800080; text-decoration-color: #800080\"> 'khaki-bat'</span> - Created task run 'process_file-29' for task 'process_file'\n",
       "</pre>\n"
      ],
      "text/plain": [
       "22:27:49.696 | \u001b[36mINFO\u001b[0m    | Flow run\u001b[35m 'khaki-bat'\u001b[0m - Created task run 'process_file-29' for task 'process_file'\n"
      ]
     },
     "metadata": {},
     "output_type": "display_data"
    },
    {
     "data": {
      "text/html": [
       "<pre style=\"white-space:pre;overflow-x:auto;line-height:normal;font-family:Menlo,'DejaVu Sans Mono',consolas,'Courier New',monospace\">22:27:49.700 | <span style=\"color: #008080; text-decoration-color: #008080\">INFO</span>    | Flow run<span style=\"color: #800080; text-decoration-color: #800080\"> 'khaki-bat'</span> - Executing 'process_file-29' immediately...\n",
       "</pre>\n"
      ],
      "text/plain": [
       "22:27:49.700 | \u001b[36mINFO\u001b[0m    | Flow run\u001b[35m 'khaki-bat'\u001b[0m - Executing 'process_file-29' immediately...\n"
      ]
     },
     "metadata": {},
     "output_type": "display_data"
    },
    {
     "data": {
      "text/html": [
       "<pre style=\"white-space:pre;overflow-x:auto;line-height:normal;font-family:Menlo,'DejaVu Sans Mono',consolas,'Courier New',monospace\">22:27:49.893 | <span style=\"color: #008080; text-decoration-color: #008080\">INFO</span>    | Task run 'process_file-29' - Finished in state <span style=\"color: #008000; text-decoration-color: #008000\">Completed</span>()\n",
       "</pre>\n"
      ],
      "text/plain": [
       "22:27:49.893 | \u001b[36mINFO\u001b[0m    | Task run 'process_file-29' - Finished in state \u001b[32mCompleted\u001b[0m()\n"
      ]
     },
     "metadata": {},
     "output_type": "display_data"
    },
    {
     "data": {
      "text/html": [
       "<pre style=\"white-space:pre;overflow-x:auto;line-height:normal;font-family:Menlo,'DejaVu Sans Mono',consolas,'Courier New',monospace\">22:27:49.977 | <span style=\"color: #008080; text-decoration-color: #008080\">INFO</span>    | Flow run<span style=\"color: #800080; text-decoration-color: #800080\"> 'khaki-bat'</span> - Created task run 'write_gcs-29' for task 'write_gcs'\n",
       "</pre>\n"
      ],
      "text/plain": [
       "22:27:49.977 | \u001b[36mINFO\u001b[0m    | Flow run\u001b[35m 'khaki-bat'\u001b[0m - Created task run 'write_gcs-29' for task 'write_gcs'\n"
      ]
     },
     "metadata": {},
     "output_type": "display_data"
    },
    {
     "data": {
      "text/html": [
       "<pre style=\"white-space:pre;overflow-x:auto;line-height:normal;font-family:Menlo,'DejaVu Sans Mono',consolas,'Courier New',monospace\">22:27:49.982 | <span style=\"color: #008080; text-decoration-color: #008080\">INFO</span>    | Flow run<span style=\"color: #800080; text-decoration-color: #800080\"> 'khaki-bat'</span> - Executing 'write_gcs-29' immediately...\n",
       "</pre>\n"
      ],
      "text/plain": [
       "22:27:49.982 | \u001b[36mINFO\u001b[0m    | Flow run\u001b[35m 'khaki-bat'\u001b[0m - Executing 'write_gcs-29' immediately...\n"
      ]
     },
     "metadata": {},
     "output_type": "display_data"
    },
    {
     "name": "stdout",
     "output_type": "stream",
     "text": [
      "Csv file size is 4061843\n"
     ]
    },
    {
     "data": {
      "text/html": [
       "<pre style=\"white-space:pre;overflow-x:auto;line-height:normal;font-family:Menlo,'DejaVu Sans Mono',consolas,'Courier New',monospace\">22:27:53.434 | <span style=\"color: #008080; text-decoration-color: #008080\">INFO</span>    | Task run 'write_gcs-29' - Finished in state <span style=\"color: #008000; text-decoration-color: #008000\">Completed</span>()\n",
       "</pre>\n"
      ],
      "text/plain": [
       "22:27:53.434 | \u001b[36mINFO\u001b[0m    | Task run 'write_gcs-29' - Finished in state \u001b[32mCompleted\u001b[0m()\n"
      ]
     },
     "metadata": {},
     "output_type": "display_data"
    },
    {
     "name": "stdout",
     "output_type": "stream",
     "text": [
      "catch_19825.csv\n"
     ]
    },
    {
     "data": {
      "text/html": [
       "<pre style=\"white-space:pre;overflow-x:auto;line-height:normal;font-family:Menlo,'DejaVu Sans Mono',consolas,'Courier New',monospace\">22:27:53.528 | <span style=\"color: #008080; text-decoration-color: #008080\">INFO</span>    | Flow run<span style=\"color: #800080; text-decoration-color: #800080\"> 'khaki-bat'</span> - Created task run 'process_file-30' for task 'process_file'\n",
       "</pre>\n"
      ],
      "text/plain": [
       "22:27:53.528 | \u001b[36mINFO\u001b[0m    | Flow run\u001b[35m 'khaki-bat'\u001b[0m - Created task run 'process_file-30' for task 'process_file'\n"
      ]
     },
     "metadata": {},
     "output_type": "display_data"
    },
    {
     "data": {
      "text/html": [
       "<pre style=\"white-space:pre;overflow-x:auto;line-height:normal;font-family:Menlo,'DejaVu Sans Mono',consolas,'Courier New',monospace\">22:27:53.533 | <span style=\"color: #008080; text-decoration-color: #008080\">INFO</span>    | Flow run<span style=\"color: #800080; text-decoration-color: #800080\"> 'khaki-bat'</span> - Executing 'process_file-30' immediately...\n",
       "</pre>\n"
      ],
      "text/plain": [
       "22:27:53.533 | \u001b[36mINFO\u001b[0m    | Flow run\u001b[35m 'khaki-bat'\u001b[0m - Executing 'process_file-30' immediately...\n"
      ]
     },
     "metadata": {},
     "output_type": "display_data"
    },
    {
     "data": {
      "text/html": [
       "<pre style=\"white-space:pre;overflow-x:auto;line-height:normal;font-family:Menlo,'DejaVu Sans Mono',consolas,'Courier New',monospace\">22:27:53.762 | <span style=\"color: #008080; text-decoration-color: #008080\">INFO</span>    | Task run 'process_file-30' - Finished in state <span style=\"color: #008000; text-decoration-color: #008000\">Completed</span>()\n",
       "</pre>\n"
      ],
      "text/plain": [
       "22:27:53.762 | \u001b[36mINFO\u001b[0m    | Task run 'process_file-30' - Finished in state \u001b[32mCompleted\u001b[0m()\n"
      ]
     },
     "metadata": {},
     "output_type": "display_data"
    },
    {
     "data": {
      "text/html": [
       "<pre style=\"white-space:pre;overflow-x:auto;line-height:normal;font-family:Menlo,'DejaVu Sans Mono',consolas,'Courier New',monospace\">22:27:53.841 | <span style=\"color: #008080; text-decoration-color: #008080\">INFO</span>    | Flow run<span style=\"color: #800080; text-decoration-color: #800080\"> 'khaki-bat'</span> - Created task run 'write_gcs-30' for task 'write_gcs'\n",
       "</pre>\n"
      ],
      "text/plain": [
       "22:27:53.841 | \u001b[36mINFO\u001b[0m    | Flow run\u001b[35m 'khaki-bat'\u001b[0m - Created task run 'write_gcs-30' for task 'write_gcs'\n"
      ]
     },
     "metadata": {},
     "output_type": "display_data"
    },
    {
     "data": {
      "text/html": [
       "<pre style=\"white-space:pre;overflow-x:auto;line-height:normal;font-family:Menlo,'DejaVu Sans Mono',consolas,'Courier New',monospace\">22:27:53.844 | <span style=\"color: #008080; text-decoration-color: #008080\">INFO</span>    | Flow run<span style=\"color: #800080; text-decoration-color: #800080\"> 'khaki-bat'</span> - Executing 'write_gcs-30' immediately...\n",
       "</pre>\n"
      ],
      "text/plain": [
       "22:27:53.844 | \u001b[36mINFO\u001b[0m    | Flow run\u001b[35m 'khaki-bat'\u001b[0m - Executing 'write_gcs-30' immediately...\n"
      ]
     },
     "metadata": {},
     "output_type": "display_data"
    },
    {
     "name": "stdout",
     "output_type": "stream",
     "text": [
      "Csv file size is 2178233\n"
     ]
    },
    {
     "data": {
      "text/html": [
       "<pre style=\"white-space:pre;overflow-x:auto;line-height:normal;font-family:Menlo,'DejaVu Sans Mono',consolas,'Courier New',monospace\">22:27:56.052 | <span style=\"color: #008080; text-decoration-color: #008080\">INFO</span>    | Task run 'write_gcs-30' - Finished in state <span style=\"color: #008000; text-decoration-color: #008000\">Completed</span>()\n",
       "</pre>\n"
      ],
      "text/plain": [
       "22:27:56.052 | \u001b[36mINFO\u001b[0m    | Task run 'write_gcs-30' - Finished in state \u001b[32mCompleted\u001b[0m()\n"
      ]
     },
     "metadata": {},
     "output_type": "display_data"
    },
    {
     "name": "stdout",
     "output_type": "stream",
     "text": [
      "trip_19825.csv\n"
     ]
    },
    {
     "data": {
      "text/html": [
       "<pre style=\"white-space:pre;overflow-x:auto;line-height:normal;font-family:Menlo,'DejaVu Sans Mono',consolas,'Courier New',monospace\">22:27:56.129 | <span style=\"color: #008080; text-decoration-color: #008080\">INFO</span>    | Flow run<span style=\"color: #800080; text-decoration-color: #800080\"> 'khaki-bat'</span> - Created task run 'process_file-31' for task 'process_file'\n",
       "</pre>\n"
      ],
      "text/plain": [
       "22:27:56.129 | \u001b[36mINFO\u001b[0m    | Flow run\u001b[35m 'khaki-bat'\u001b[0m - Created task run 'process_file-31' for task 'process_file'\n"
      ]
     },
     "metadata": {},
     "output_type": "display_data"
    },
    {
     "data": {
      "text/html": [
       "<pre style=\"white-space:pre;overflow-x:auto;line-height:normal;font-family:Menlo,'DejaVu Sans Mono',consolas,'Courier New',monospace\">22:27:56.134 | <span style=\"color: #008080; text-decoration-color: #008080\">INFO</span>    | Flow run<span style=\"color: #800080; text-decoration-color: #800080\"> 'khaki-bat'</span> - Executing 'process_file-31' immediately...\n",
       "</pre>\n"
      ],
      "text/plain": [
       "22:27:56.134 | \u001b[36mINFO\u001b[0m    | Flow run\u001b[35m 'khaki-bat'\u001b[0m - Executing 'process_file-31' immediately...\n"
      ]
     },
     "metadata": {},
     "output_type": "display_data"
    },
    {
     "data": {
      "text/html": [
       "<pre style=\"white-space:pre;overflow-x:auto;line-height:normal;font-family:Menlo,'DejaVu Sans Mono',consolas,'Courier New',monospace\">22:27:56.399 | <span style=\"color: #008080; text-decoration-color: #008080\">INFO</span>    | Task run 'process_file-31' - Finished in state <span style=\"color: #008000; text-decoration-color: #008000\">Completed</span>()\n",
       "</pre>\n"
      ],
      "text/plain": [
       "22:27:56.399 | \u001b[36mINFO\u001b[0m    | Task run 'process_file-31' - Finished in state \u001b[32mCompleted\u001b[0m()\n"
      ]
     },
     "metadata": {},
     "output_type": "display_data"
    },
    {
     "data": {
      "text/html": [
       "<pre style=\"white-space:pre;overflow-x:auto;line-height:normal;font-family:Menlo,'DejaVu Sans Mono',consolas,'Courier New',monospace\">22:27:56.484 | <span style=\"color: #008080; text-decoration-color: #008080\">INFO</span>    | Flow run<span style=\"color: #800080; text-decoration-color: #800080\"> 'khaki-bat'</span> - Created task run 'write_gcs-31' for task 'write_gcs'\n",
       "</pre>\n"
      ],
      "text/plain": [
       "22:27:56.484 | \u001b[36mINFO\u001b[0m    | Flow run\u001b[35m 'khaki-bat'\u001b[0m - Created task run 'write_gcs-31' for task 'write_gcs'\n"
      ]
     },
     "metadata": {},
     "output_type": "display_data"
    },
    {
     "data": {
      "text/html": [
       "<pre style=\"white-space:pre;overflow-x:auto;line-height:normal;font-family:Menlo,'DejaVu Sans Mono',consolas,'Courier New',monospace\">22:27:56.488 | <span style=\"color: #008080; text-decoration-color: #008080\">INFO</span>    | Flow run<span style=\"color: #800080; text-decoration-color: #800080\"> 'khaki-bat'</span> - Executing 'write_gcs-31' immediately...\n",
       "</pre>\n"
      ],
      "text/plain": [
       "22:27:56.488 | \u001b[36mINFO\u001b[0m    | Flow run\u001b[35m 'khaki-bat'\u001b[0m - Executing 'write_gcs-31' immediately...\n"
      ]
     },
     "metadata": {},
     "output_type": "display_data"
    },
    {
     "name": "stdout",
     "output_type": "stream",
     "text": [
      "Csv file size is 2030075\n"
     ]
    },
    {
     "data": {
      "text/html": [
       "<pre style=\"white-space:pre;overflow-x:auto;line-height:normal;font-family:Menlo,'DejaVu Sans Mono',consolas,'Courier New',monospace\">22:27:58.582 | <span style=\"color: #008080; text-decoration-color: #008080\">INFO</span>    | Task run 'write_gcs-31' - Finished in state <span style=\"color: #008000; text-decoration-color: #008000\">Completed</span>()\n",
       "</pre>\n"
      ],
      "text/plain": [
       "22:27:58.582 | \u001b[36mINFO\u001b[0m    | Task run 'write_gcs-31' - Finished in state \u001b[32mCompleted\u001b[0m()\n"
      ]
     },
     "metadata": {},
     "output_type": "display_data"
    },
    {
     "name": "stdout",
     "output_type": "stream",
     "text": [
      "size_19825.csv\n"
     ]
    },
    {
     "data": {
      "text/html": [
       "<pre style=\"white-space:pre;overflow-x:auto;line-height:normal;font-family:Menlo,'DejaVu Sans Mono',consolas,'Courier New',monospace\">22:27:58.671 | <span style=\"color: #008080; text-decoration-color: #008080\">INFO</span>    | Flow run<span style=\"color: #800080; text-decoration-color: #800080\"> 'khaki-bat'</span> - Created task run 'process_file-32' for task 'process_file'\n",
       "</pre>\n"
      ],
      "text/plain": [
       "22:27:58.671 | \u001b[36mINFO\u001b[0m    | Flow run\u001b[35m 'khaki-bat'\u001b[0m - Created task run 'process_file-32' for task 'process_file'\n"
      ]
     },
     "metadata": {},
     "output_type": "display_data"
    },
    {
     "data": {
      "text/html": [
       "<pre style=\"white-space:pre;overflow-x:auto;line-height:normal;font-family:Menlo,'DejaVu Sans Mono',consolas,'Courier New',monospace\">22:27:58.675 | <span style=\"color: #008080; text-decoration-color: #008080\">INFO</span>    | Flow run<span style=\"color: #800080; text-decoration-color: #800080\"> 'khaki-bat'</span> - Executing 'process_file-32' immediately...\n",
       "</pre>\n"
      ],
      "text/plain": [
       "22:27:58.675 | \u001b[36mINFO\u001b[0m    | Flow run\u001b[35m 'khaki-bat'\u001b[0m - Executing 'process_file-32' immediately...\n"
      ]
     },
     "metadata": {},
     "output_type": "display_data"
    },
    {
     "data": {
      "text/html": [
       "<pre style=\"white-space:pre;overflow-x:auto;line-height:normal;font-family:Menlo,'DejaVu Sans Mono',consolas,'Courier New',monospace\">22:27:58.972 | <span style=\"color: #008080; text-decoration-color: #008080\">INFO</span>    | Task run 'process_file-32' - Finished in state <span style=\"color: #008000; text-decoration-color: #008000\">Completed</span>()\n",
       "</pre>\n"
      ],
      "text/plain": [
       "22:27:58.972 | \u001b[36mINFO\u001b[0m    | Task run 'process_file-32' - Finished in state \u001b[32mCompleted\u001b[0m()\n"
      ]
     },
     "metadata": {},
     "output_type": "display_data"
    },
    {
     "data": {
      "text/html": [
       "<pre style=\"white-space:pre;overflow-x:auto;line-height:normal;font-family:Menlo,'DejaVu Sans Mono',consolas,'Courier New',monospace\">22:27:59.051 | <span style=\"color: #008080; text-decoration-color: #008080\">INFO</span>    | Flow run<span style=\"color: #800080; text-decoration-color: #800080\"> 'khaki-bat'</span> - Created task run 'write_gcs-32' for task 'write_gcs'\n",
       "</pre>\n"
      ],
      "text/plain": [
       "22:27:59.051 | \u001b[36mINFO\u001b[0m    | Flow run\u001b[35m 'khaki-bat'\u001b[0m - Created task run 'write_gcs-32' for task 'write_gcs'\n"
      ]
     },
     "metadata": {},
     "output_type": "display_data"
    },
    {
     "data": {
      "text/html": [
       "<pre style=\"white-space:pre;overflow-x:auto;line-height:normal;font-family:Menlo,'DejaVu Sans Mono',consolas,'Courier New',monospace\">22:27:59.057 | <span style=\"color: #008080; text-decoration-color: #008080\">INFO</span>    | Flow run<span style=\"color: #800080; text-decoration-color: #800080\"> 'khaki-bat'</span> - Executing 'write_gcs-32' immediately...\n",
       "</pre>\n"
      ],
      "text/plain": [
       "22:27:59.057 | \u001b[36mINFO\u001b[0m    | Flow run\u001b[35m 'khaki-bat'\u001b[0m - Executing 'write_gcs-32' immediately...\n"
      ]
     },
     "metadata": {},
     "output_type": "display_data"
    },
    {
     "name": "stdout",
     "output_type": "stream",
     "text": [
      "Csv file size is 2974456\n"
     ]
    },
    {
     "data": {
      "text/html": [
       "<pre style=\"white-space:pre;overflow-x:auto;line-height:normal;font-family:Menlo,'DejaVu Sans Mono',consolas,'Courier New',monospace\">22:28:01.962 | <span style=\"color: #008080; text-decoration-color: #008080\">INFO</span>    | Task run 'write_gcs-32' - Finished in state <span style=\"color: #008000; text-decoration-color: #008000\">Completed</span>()\n",
       "</pre>\n"
      ],
      "text/plain": [
       "22:28:01.962 | \u001b[36mINFO\u001b[0m    | Task run 'write_gcs-32' - Finished in state \u001b[32mCompleted\u001b[0m()\n"
      ]
     },
     "metadata": {},
     "output_type": "display_data"
    },
    {
     "name": "stdout",
     "output_type": "stream",
     "text": [
      "catch_19826.csv\n"
     ]
    },
    {
     "data": {
      "text/html": [
       "<pre style=\"white-space:pre;overflow-x:auto;line-height:normal;font-family:Menlo,'DejaVu Sans Mono',consolas,'Courier New',monospace\">22:28:02.078 | <span style=\"color: #008080; text-decoration-color: #008080\">INFO</span>    | Flow run<span style=\"color: #800080; text-decoration-color: #800080\"> 'khaki-bat'</span> - Created task run 'process_file-33' for task 'process_file'\n",
       "</pre>\n"
      ],
      "text/plain": [
       "22:28:02.078 | \u001b[36mINFO\u001b[0m    | Flow run\u001b[35m 'khaki-bat'\u001b[0m - Created task run 'process_file-33' for task 'process_file'\n"
      ]
     },
     "metadata": {},
     "output_type": "display_data"
    },
    {
     "data": {
      "text/html": [
       "<pre style=\"white-space:pre;overflow-x:auto;line-height:normal;font-family:Menlo,'DejaVu Sans Mono',consolas,'Courier New',monospace\">22:28:02.082 | <span style=\"color: #008080; text-decoration-color: #008080\">INFO</span>    | Flow run<span style=\"color: #800080; text-decoration-color: #800080\"> 'khaki-bat'</span> - Executing 'process_file-33' immediately...\n",
       "</pre>\n"
      ],
      "text/plain": [
       "22:28:02.082 | \u001b[36mINFO\u001b[0m    | Flow run\u001b[35m 'khaki-bat'\u001b[0m - Executing 'process_file-33' immediately...\n"
      ]
     },
     "metadata": {},
     "output_type": "display_data"
    },
    {
     "data": {
      "text/html": [
       "<pre style=\"white-space:pre;overflow-x:auto;line-height:normal;font-family:Menlo,'DejaVu Sans Mono',consolas,'Courier New',monospace\">22:28:02.341 | <span style=\"color: #008080; text-decoration-color: #008080\">INFO</span>    | Task run 'process_file-33' - Finished in state <span style=\"color: #008000; text-decoration-color: #008000\">Completed</span>()\n",
       "</pre>\n"
      ],
      "text/plain": [
       "22:28:02.341 | \u001b[36mINFO\u001b[0m    | Task run 'process_file-33' - Finished in state \u001b[32mCompleted\u001b[0m()\n"
      ]
     },
     "metadata": {},
     "output_type": "display_data"
    },
    {
     "data": {
      "text/html": [
       "<pre style=\"white-space:pre;overflow-x:auto;line-height:normal;font-family:Menlo,'DejaVu Sans Mono',consolas,'Courier New',monospace\">22:28:02.416 | <span style=\"color: #008080; text-decoration-color: #008080\">INFO</span>    | Flow run<span style=\"color: #800080; text-decoration-color: #800080\"> 'khaki-bat'</span> - Created task run 'write_gcs-33' for task 'write_gcs'\n",
       "</pre>\n"
      ],
      "text/plain": [
       "22:28:02.416 | \u001b[36mINFO\u001b[0m    | Flow run\u001b[35m 'khaki-bat'\u001b[0m - Created task run 'write_gcs-33' for task 'write_gcs'\n"
      ]
     },
     "metadata": {},
     "output_type": "display_data"
    },
    {
     "data": {
      "text/html": [
       "<pre style=\"white-space:pre;overflow-x:auto;line-height:normal;font-family:Menlo,'DejaVu Sans Mono',consolas,'Courier New',monospace\">22:28:02.418 | <span style=\"color: #008080; text-decoration-color: #008080\">INFO</span>    | Flow run<span style=\"color: #800080; text-decoration-color: #800080\"> 'khaki-bat'</span> - Executing 'write_gcs-33' immediately...\n",
       "</pre>\n"
      ],
      "text/plain": [
       "22:28:02.418 | \u001b[36mINFO\u001b[0m    | Flow run\u001b[35m 'khaki-bat'\u001b[0m - Executing 'write_gcs-33' immediately...\n"
      ]
     },
     "metadata": {},
     "output_type": "display_data"
    },
    {
     "name": "stdout",
     "output_type": "stream",
     "text": [
      "Csv file size is 737476\n"
     ]
    },
    {
     "data": {
      "text/html": [
       "<pre style=\"white-space:pre;overflow-x:auto;line-height:normal;font-family:Menlo,'DejaVu Sans Mono',consolas,'Courier New',monospace\">22:28:03.597 | <span style=\"color: #008080; text-decoration-color: #008080\">INFO</span>    | Task run 'write_gcs-33' - Finished in state <span style=\"color: #008000; text-decoration-color: #008000\">Completed</span>()\n",
       "</pre>\n"
      ],
      "text/plain": [
       "22:28:03.597 | \u001b[36mINFO\u001b[0m    | Task run 'write_gcs-33' - Finished in state \u001b[32mCompleted\u001b[0m()\n"
      ]
     },
     "metadata": {},
     "output_type": "display_data"
    },
    {
     "name": "stdout",
     "output_type": "stream",
     "text": [
      "trip_19826.csv\n"
     ]
    },
    {
     "data": {
      "text/html": [
       "<pre style=\"white-space:pre;overflow-x:auto;line-height:normal;font-family:Menlo,'DejaVu Sans Mono',consolas,'Courier New',monospace\">22:28:03.667 | <span style=\"color: #008080; text-decoration-color: #008080\">INFO</span>    | Flow run<span style=\"color: #800080; text-decoration-color: #800080\"> 'khaki-bat'</span> - Created task run 'process_file-34' for task 'process_file'\n",
       "</pre>\n"
      ],
      "text/plain": [
       "22:28:03.667 | \u001b[36mINFO\u001b[0m    | Flow run\u001b[35m 'khaki-bat'\u001b[0m - Created task run 'process_file-34' for task 'process_file'\n"
      ]
     },
     "metadata": {},
     "output_type": "display_data"
    },
    {
     "data": {
      "text/html": [
       "<pre style=\"white-space:pre;overflow-x:auto;line-height:normal;font-family:Menlo,'DejaVu Sans Mono',consolas,'Courier New',monospace\">22:28:03.671 | <span style=\"color: #008080; text-decoration-color: #008080\">INFO</span>    | Flow run<span style=\"color: #800080; text-decoration-color: #800080\"> 'khaki-bat'</span> - Executing 'process_file-34' immediately...\n",
       "</pre>\n"
      ],
      "text/plain": [
       "22:28:03.671 | \u001b[36mINFO\u001b[0m    | Flow run\u001b[35m 'khaki-bat'\u001b[0m - Executing 'process_file-34' immediately...\n"
      ]
     },
     "metadata": {},
     "output_type": "display_data"
    },
    {
     "data": {
      "text/html": [
       "<pre style=\"white-space:pre;overflow-x:auto;line-height:normal;font-family:Menlo,'DejaVu Sans Mono',consolas,'Courier New',monospace\">22:28:03.872 | <span style=\"color: #008080; text-decoration-color: #008080\">INFO</span>    | Task run 'process_file-34' - Finished in state <span style=\"color: #008000; text-decoration-color: #008000\">Completed</span>()\n",
       "</pre>\n"
      ],
      "text/plain": [
       "22:28:03.872 | \u001b[36mINFO\u001b[0m    | Task run 'process_file-34' - Finished in state \u001b[32mCompleted\u001b[0m()\n"
      ]
     },
     "metadata": {},
     "output_type": "display_data"
    },
    {
     "data": {
      "text/html": [
       "<pre style=\"white-space:pre;overflow-x:auto;line-height:normal;font-family:Menlo,'DejaVu Sans Mono',consolas,'Courier New',monospace\">22:28:03.947 | <span style=\"color: #008080; text-decoration-color: #008080\">INFO</span>    | Flow run<span style=\"color: #800080; text-decoration-color: #800080\"> 'khaki-bat'</span> - Created task run 'write_gcs-34' for task 'write_gcs'\n",
       "</pre>\n"
      ],
      "text/plain": [
       "22:28:03.947 | \u001b[36mINFO\u001b[0m    | Flow run\u001b[35m 'khaki-bat'\u001b[0m - Created task run 'write_gcs-34' for task 'write_gcs'\n"
      ]
     },
     "metadata": {},
     "output_type": "display_data"
    },
    {
     "data": {
      "text/html": [
       "<pre style=\"white-space:pre;overflow-x:auto;line-height:normal;font-family:Menlo,'DejaVu Sans Mono',consolas,'Courier New',monospace\">22:28:03.950 | <span style=\"color: #008080; text-decoration-color: #008080\">INFO</span>    | Flow run<span style=\"color: #800080; text-decoration-color: #800080\"> 'khaki-bat'</span> - Executing 'write_gcs-34' immediately...\n",
       "</pre>\n"
      ],
      "text/plain": [
       "22:28:03.950 | \u001b[36mINFO\u001b[0m    | Flow run\u001b[35m 'khaki-bat'\u001b[0m - Executing 'write_gcs-34' immediately...\n"
      ]
     },
     "metadata": {},
     "output_type": "display_data"
    },
    {
     "name": "stdout",
     "output_type": "stream",
     "text": [
      "Csv file size is 711298\n"
     ]
    },
    {
     "data": {
      "text/html": [
       "<pre style=\"white-space:pre;overflow-x:auto;line-height:normal;font-family:Menlo,'DejaVu Sans Mono',consolas,'Courier New',monospace\">22:28:05.198 | <span style=\"color: #008080; text-decoration-color: #008080\">INFO</span>    | Task run 'write_gcs-34' - Finished in state <span style=\"color: #008000; text-decoration-color: #008000\">Completed</span>()\n",
       "</pre>\n"
      ],
      "text/plain": [
       "22:28:05.198 | \u001b[36mINFO\u001b[0m    | Task run 'write_gcs-34' - Finished in state \u001b[32mCompleted\u001b[0m()\n"
      ]
     },
     "metadata": {},
     "output_type": "display_data"
    },
    {
     "name": "stdout",
     "output_type": "stream",
     "text": [
      "size_19826.csv\n"
     ]
    },
    {
     "data": {
      "text/html": [
       "<pre style=\"white-space:pre;overflow-x:auto;line-height:normal;font-family:Menlo,'DejaVu Sans Mono',consolas,'Courier New',monospace\">22:28:05.285 | <span style=\"color: #008080; text-decoration-color: #008080\">INFO</span>    | Flow run<span style=\"color: #800080; text-decoration-color: #800080\"> 'khaki-bat'</span> - Created task run 'process_file-35' for task 'process_file'\n",
       "</pre>\n"
      ],
      "text/plain": [
       "22:28:05.285 | \u001b[36mINFO\u001b[0m    | Flow run\u001b[35m 'khaki-bat'\u001b[0m - Created task run 'process_file-35' for task 'process_file'\n"
      ]
     },
     "metadata": {},
     "output_type": "display_data"
    },
    {
     "data": {
      "text/html": [
       "<pre style=\"white-space:pre;overflow-x:auto;line-height:normal;font-family:Menlo,'DejaVu Sans Mono',consolas,'Courier New',monospace\">22:28:05.290 | <span style=\"color: #008080; text-decoration-color: #008080\">INFO</span>    | Flow run<span style=\"color: #800080; text-decoration-color: #800080\"> 'khaki-bat'</span> - Executing 'process_file-35' immediately...\n",
       "</pre>\n"
      ],
      "text/plain": [
       "22:28:05.290 | \u001b[36mINFO\u001b[0m    | Flow run\u001b[35m 'khaki-bat'\u001b[0m - Executing 'process_file-35' immediately...\n"
      ]
     },
     "metadata": {},
     "output_type": "display_data"
    },
    {
     "data": {
      "text/html": [
       "<pre style=\"white-space:pre;overflow-x:auto;line-height:normal;font-family:Menlo,'DejaVu Sans Mono',consolas,'Courier New',monospace\">22:28:05.497 | <span style=\"color: #008080; text-decoration-color: #008080\">INFO</span>    | Task run 'process_file-35' - Finished in state <span style=\"color: #008000; text-decoration-color: #008000\">Completed</span>()\n",
       "</pre>\n"
      ],
      "text/plain": [
       "22:28:05.497 | \u001b[36mINFO\u001b[0m    | Task run 'process_file-35' - Finished in state \u001b[32mCompleted\u001b[0m()\n"
      ]
     },
     "metadata": {},
     "output_type": "display_data"
    },
    {
     "data": {
      "text/html": [
       "<pre style=\"white-space:pre;overflow-x:auto;line-height:normal;font-family:Menlo,'DejaVu Sans Mono',consolas,'Courier New',monospace\">22:28:05.563 | <span style=\"color: #008080; text-decoration-color: #008080\">INFO</span>    | Flow run<span style=\"color: #800080; text-decoration-color: #800080\"> 'khaki-bat'</span> - Created task run 'write_gcs-35' for task 'write_gcs'\n",
       "</pre>\n"
      ],
      "text/plain": [
       "22:28:05.563 | \u001b[36mINFO\u001b[0m    | Flow run\u001b[35m 'khaki-bat'\u001b[0m - Created task run 'write_gcs-35' for task 'write_gcs'\n"
      ]
     },
     "metadata": {},
     "output_type": "display_data"
    },
    {
     "data": {
      "text/html": [
       "<pre style=\"white-space:pre;overflow-x:auto;line-height:normal;font-family:Menlo,'DejaVu Sans Mono',consolas,'Courier New',monospace\">22:28:05.566 | <span style=\"color: #008080; text-decoration-color: #008080\">INFO</span>    | Flow run<span style=\"color: #800080; text-decoration-color: #800080\"> 'khaki-bat'</span> - Executing 'write_gcs-35' immediately...\n",
       "</pre>\n"
      ],
      "text/plain": [
       "22:28:05.566 | \u001b[36mINFO\u001b[0m    | Flow run\u001b[35m 'khaki-bat'\u001b[0m - Executing 'write_gcs-35' immediately...\n"
      ]
     },
     "metadata": {},
     "output_type": "display_data"
    },
    {
     "name": "stdout",
     "output_type": "stream",
     "text": [
      "Csv file size is 1198775\n"
     ]
    },
    {
     "data": {
      "text/html": [
       "<pre style=\"white-space:pre;overflow-x:auto;line-height:normal;font-family:Menlo,'DejaVu Sans Mono',consolas,'Courier New',monospace\">22:28:06.996 | <span style=\"color: #008080; text-decoration-color: #008080\">INFO</span>    | Task run 'write_gcs-35' - Finished in state <span style=\"color: #008000; text-decoration-color: #008000\">Completed</span>()\n",
       "</pre>\n"
      ],
      "text/plain": [
       "22:28:06.996 | \u001b[36mINFO\u001b[0m    | Task run 'write_gcs-35' - Finished in state \u001b[32mCompleted\u001b[0m()\n"
      ]
     },
     "metadata": {},
     "output_type": "display_data"
    },
    {
     "name": "stdout",
     "output_type": "stream",
     "text": [
      "catch_19831.csv\n"
     ]
    },
    {
     "data": {
      "text/html": [
       "<pre style=\"white-space:pre;overflow-x:auto;line-height:normal;font-family:Menlo,'DejaVu Sans Mono',consolas,'Courier New',monospace\">22:28:07.088 | <span style=\"color: #008080; text-decoration-color: #008080\">INFO</span>    | Flow run<span style=\"color: #800080; text-decoration-color: #800080\"> 'khaki-bat'</span> - Created task run 'process_file-36' for task 'process_file'\n",
       "</pre>\n"
      ],
      "text/plain": [
       "22:28:07.088 | \u001b[36mINFO\u001b[0m    | Flow run\u001b[35m 'khaki-bat'\u001b[0m - Created task run 'process_file-36' for task 'process_file'\n"
      ]
     },
     "metadata": {},
     "output_type": "display_data"
    },
    {
     "data": {
      "text/html": [
       "<pre style=\"white-space:pre;overflow-x:auto;line-height:normal;font-family:Menlo,'DejaVu Sans Mono',consolas,'Courier New',monospace\">22:28:07.092 | <span style=\"color: #008080; text-decoration-color: #008080\">INFO</span>    | Flow run<span style=\"color: #800080; text-decoration-color: #800080\"> 'khaki-bat'</span> - Executing 'process_file-36' immediately...\n",
       "</pre>\n"
      ],
      "text/plain": [
       "22:28:07.092 | \u001b[36mINFO\u001b[0m    | Flow run\u001b[35m 'khaki-bat'\u001b[0m - Executing 'process_file-36' immediately...\n"
      ]
     },
     "metadata": {},
     "output_type": "display_data"
    },
    {
     "data": {
      "text/html": [
       "<pre style=\"white-space:pre;overflow-x:auto;line-height:normal;font-family:Menlo,'DejaVu Sans Mono',consolas,'Courier New',monospace\">22:28:07.287 | <span style=\"color: #008080; text-decoration-color: #008080\">INFO</span>    | Task run 'process_file-36' - Finished in state <span style=\"color: #008000; text-decoration-color: #008000\">Completed</span>()\n",
       "</pre>\n"
      ],
      "text/plain": [
       "22:28:07.287 | \u001b[36mINFO\u001b[0m    | Task run 'process_file-36' - Finished in state \u001b[32mCompleted\u001b[0m()\n"
      ]
     },
     "metadata": {},
     "output_type": "display_data"
    },
    {
     "data": {
      "text/html": [
       "<pre style=\"white-space:pre;overflow-x:auto;line-height:normal;font-family:Menlo,'DejaVu Sans Mono',consolas,'Courier New',monospace\">22:28:07.366 | <span style=\"color: #008080; text-decoration-color: #008080\">INFO</span>    | Flow run<span style=\"color: #800080; text-decoration-color: #800080\"> 'khaki-bat'</span> - Created task run 'write_gcs-36' for task 'write_gcs'\n",
       "</pre>\n"
      ],
      "text/plain": [
       "22:28:07.366 | \u001b[36mINFO\u001b[0m    | Flow run\u001b[35m 'khaki-bat'\u001b[0m - Created task run 'write_gcs-36' for task 'write_gcs'\n"
      ]
     },
     "metadata": {},
     "output_type": "display_data"
    },
    {
     "data": {
      "text/html": [
       "<pre style=\"white-space:pre;overflow-x:auto;line-height:normal;font-family:Menlo,'DejaVu Sans Mono',consolas,'Courier New',monospace\">22:28:07.369 | <span style=\"color: #008080; text-decoration-color: #008080\">INFO</span>    | Flow run<span style=\"color: #800080; text-decoration-color: #800080\"> 'khaki-bat'</span> - Executing 'write_gcs-36' immediately...\n",
       "</pre>\n"
      ],
      "text/plain": [
       "22:28:07.369 | \u001b[36mINFO\u001b[0m    | Flow run\u001b[35m 'khaki-bat'\u001b[0m - Executing 'write_gcs-36' immediately...\n"
      ]
     },
     "metadata": {},
     "output_type": "display_data"
    },
    {
     "name": "stdout",
     "output_type": "stream",
     "text": [
      "Csv file size is 223948\n"
     ]
    },
    {
     "data": {
      "text/html": [
       "<pre style=\"white-space:pre;overflow-x:auto;line-height:normal;font-family:Menlo,'DejaVu Sans Mono',consolas,'Courier New',monospace\">22:28:08.113 | <span style=\"color: #008080; text-decoration-color: #008080\">INFO</span>    | Task run 'write_gcs-36' - Finished in state <span style=\"color: #008000; text-decoration-color: #008000\">Completed</span>()\n",
       "</pre>\n"
      ],
      "text/plain": [
       "22:28:08.113 | \u001b[36mINFO\u001b[0m    | Task run 'write_gcs-36' - Finished in state \u001b[32mCompleted\u001b[0m()\n"
      ]
     },
     "metadata": {},
     "output_type": "display_data"
    },
    {
     "name": "stdout",
     "output_type": "stream",
     "text": [
      "trip_19831.csv\n"
     ]
    },
    {
     "data": {
      "text/html": [
       "<pre style=\"white-space:pre;overflow-x:auto;line-height:normal;font-family:Menlo,'DejaVu Sans Mono',consolas,'Courier New',monospace\">22:28:08.198 | <span style=\"color: #008080; text-decoration-color: #008080\">INFO</span>    | Flow run<span style=\"color: #800080; text-decoration-color: #800080\"> 'khaki-bat'</span> - Created task run 'process_file-37' for task 'process_file'\n",
       "</pre>\n"
      ],
      "text/plain": [
       "22:28:08.198 | \u001b[36mINFO\u001b[0m    | Flow run\u001b[35m 'khaki-bat'\u001b[0m - Created task run 'process_file-37' for task 'process_file'\n"
      ]
     },
     "metadata": {},
     "output_type": "display_data"
    },
    {
     "data": {
      "text/html": [
       "<pre style=\"white-space:pre;overflow-x:auto;line-height:normal;font-family:Menlo,'DejaVu Sans Mono',consolas,'Courier New',monospace\">22:28:08.202 | <span style=\"color: #008080; text-decoration-color: #008080\">INFO</span>    | Flow run<span style=\"color: #800080; text-decoration-color: #800080\"> 'khaki-bat'</span> - Executing 'process_file-37' immediately...\n",
       "</pre>\n"
      ],
      "text/plain": [
       "22:28:08.202 | \u001b[36mINFO\u001b[0m    | Flow run\u001b[35m 'khaki-bat'\u001b[0m - Executing 'process_file-37' immediately...\n"
      ]
     },
     "metadata": {},
     "output_type": "display_data"
    },
    {
     "data": {
      "text/html": [
       "<pre style=\"white-space:pre;overflow-x:auto;line-height:normal;font-family:Menlo,'DejaVu Sans Mono',consolas,'Courier New',monospace\">22:28:08.413 | <span style=\"color: #008080; text-decoration-color: #008080\">INFO</span>    | Task run 'process_file-37' - Finished in state <span style=\"color: #008000; text-decoration-color: #008000\">Completed</span>()\n",
       "</pre>\n"
      ],
      "text/plain": [
       "22:28:08.413 | \u001b[36mINFO\u001b[0m    | Task run 'process_file-37' - Finished in state \u001b[32mCompleted\u001b[0m()\n"
      ]
     },
     "metadata": {},
     "output_type": "display_data"
    },
    {
     "data": {
      "text/html": [
       "<pre style=\"white-space:pre;overflow-x:auto;line-height:normal;font-family:Menlo,'DejaVu Sans Mono',consolas,'Courier New',monospace\">22:28:08.480 | <span style=\"color: #008080; text-decoration-color: #008080\">INFO</span>    | Flow run<span style=\"color: #800080; text-decoration-color: #800080\"> 'khaki-bat'</span> - Created task run 'write_gcs-37' for task 'write_gcs'\n",
       "</pre>\n"
      ],
      "text/plain": [
       "22:28:08.480 | \u001b[36mINFO\u001b[0m    | Flow run\u001b[35m 'khaki-bat'\u001b[0m - Created task run 'write_gcs-37' for task 'write_gcs'\n"
      ]
     },
     "metadata": {},
     "output_type": "display_data"
    },
    {
     "data": {
      "text/html": [
       "<pre style=\"white-space:pre;overflow-x:auto;line-height:normal;font-family:Menlo,'DejaVu Sans Mono',consolas,'Courier New',monospace\">22:28:08.484 | <span style=\"color: #008080; text-decoration-color: #008080\">INFO</span>    | Flow run<span style=\"color: #800080; text-decoration-color: #800080\"> 'khaki-bat'</span> - Executing 'write_gcs-37' immediately...\n",
       "</pre>\n"
      ],
      "text/plain": [
       "22:28:08.484 | \u001b[36mINFO\u001b[0m    | Flow run\u001b[35m 'khaki-bat'\u001b[0m - Executing 'write_gcs-37' immediately...\n"
      ]
     },
     "metadata": {},
     "output_type": "display_data"
    },
    {
     "name": "stdout",
     "output_type": "stream",
     "text": [
      "Csv file size is 224706\n"
     ]
    },
    {
     "data": {
      "text/html": [
       "<pre style=\"white-space:pre;overflow-x:auto;line-height:normal;font-family:Menlo,'DejaVu Sans Mono',consolas,'Courier New',monospace\">22:28:09.282 | <span style=\"color: #008080; text-decoration-color: #008080\">INFO</span>    | Task run 'write_gcs-37' - Finished in state <span style=\"color: #008000; text-decoration-color: #008000\">Completed</span>()\n",
       "</pre>\n"
      ],
      "text/plain": [
       "22:28:09.282 | \u001b[36mINFO\u001b[0m    | Task run 'write_gcs-37' - Finished in state \u001b[32mCompleted\u001b[0m()\n"
      ]
     },
     "metadata": {},
     "output_type": "display_data"
    },
    {
     "name": "stdout",
     "output_type": "stream",
     "text": [
      "size_19831.csv\n"
     ]
    },
    {
     "data": {
      "text/html": [
       "<pre style=\"white-space:pre;overflow-x:auto;line-height:normal;font-family:Menlo,'DejaVu Sans Mono',consolas,'Courier New',monospace\">22:28:09.422 | <span style=\"color: #008080; text-decoration-color: #008080\">INFO</span>    | Flow run<span style=\"color: #800080; text-decoration-color: #800080\"> 'khaki-bat'</span> - Created task run 'process_file-38' for task 'process_file'\n",
       "</pre>\n"
      ],
      "text/plain": [
       "22:28:09.422 | \u001b[36mINFO\u001b[0m    | Flow run\u001b[35m 'khaki-bat'\u001b[0m - Created task run 'process_file-38' for task 'process_file'\n"
      ]
     },
     "metadata": {},
     "output_type": "display_data"
    },
    {
     "data": {
      "text/html": [
       "<pre style=\"white-space:pre;overflow-x:auto;line-height:normal;font-family:Menlo,'DejaVu Sans Mono',consolas,'Courier New',monospace\">22:28:09.426 | <span style=\"color: #008080; text-decoration-color: #008080\">INFO</span>    | Flow run<span style=\"color: #800080; text-decoration-color: #800080\"> 'khaki-bat'</span> - Executing 'process_file-38' immediately...\n",
       "</pre>\n"
      ],
      "text/plain": [
       "22:28:09.426 | \u001b[36mINFO\u001b[0m    | Flow run\u001b[35m 'khaki-bat'\u001b[0m - Executing 'process_file-38' immediately...\n"
      ]
     },
     "metadata": {},
     "output_type": "display_data"
    },
    {
     "data": {
      "text/html": [
       "<pre style=\"white-space:pre;overflow-x:auto;line-height:normal;font-family:Menlo,'DejaVu Sans Mono',consolas,'Courier New',monospace\">22:28:09.651 | <span style=\"color: #008080; text-decoration-color: #008080\">INFO</span>    | Task run 'process_file-38' - Finished in state <span style=\"color: #008000; text-decoration-color: #008000\">Completed</span>()\n",
       "</pre>\n"
      ],
      "text/plain": [
       "22:28:09.651 | \u001b[36mINFO\u001b[0m    | Task run 'process_file-38' - Finished in state \u001b[32mCompleted\u001b[0m()\n"
      ]
     },
     "metadata": {},
     "output_type": "display_data"
    },
    {
     "data": {
      "text/html": [
       "<pre style=\"white-space:pre;overflow-x:auto;line-height:normal;font-family:Menlo,'DejaVu Sans Mono',consolas,'Courier New',monospace\">22:28:09.720 | <span style=\"color: #008080; text-decoration-color: #008080\">INFO</span>    | Flow run<span style=\"color: #800080; text-decoration-color: #800080\"> 'khaki-bat'</span> - Created task run 'write_gcs-38' for task 'write_gcs'\n",
       "</pre>\n"
      ],
      "text/plain": [
       "22:28:09.720 | \u001b[36mINFO\u001b[0m    | Flow run\u001b[35m 'khaki-bat'\u001b[0m - Created task run 'write_gcs-38' for task 'write_gcs'\n"
      ]
     },
     "metadata": {},
     "output_type": "display_data"
    },
    {
     "data": {
      "text/html": [
       "<pre style=\"white-space:pre;overflow-x:auto;line-height:normal;font-family:Menlo,'DejaVu Sans Mono',consolas,'Courier New',monospace\">22:28:09.724 | <span style=\"color: #008080; text-decoration-color: #008080\">INFO</span>    | Flow run<span style=\"color: #800080; text-decoration-color: #800080\"> 'khaki-bat'</span> - Executing 'write_gcs-38' immediately...\n",
       "</pre>\n"
      ],
      "text/plain": [
       "22:28:09.724 | \u001b[36mINFO\u001b[0m    | Flow run\u001b[35m 'khaki-bat'\u001b[0m - Executing 'write_gcs-38' immediately...\n"
      ]
     },
     "metadata": {},
     "output_type": "display_data"
    },
    {
     "name": "stdout",
     "output_type": "stream",
     "text": [
      "Csv file size is 235947\n"
     ]
    },
    {
     "data": {
      "text/html": [
       "<pre style=\"white-space:pre;overflow-x:auto;line-height:normal;font-family:Menlo,'DejaVu Sans Mono',consolas,'Courier New',monospace\">22:28:10.555 | <span style=\"color: #008080; text-decoration-color: #008080\">INFO</span>    | Task run 'write_gcs-38' - Finished in state <span style=\"color: #008000; text-decoration-color: #008000\">Completed</span>()\n",
       "</pre>\n"
      ],
      "text/plain": [
       "22:28:10.555 | \u001b[36mINFO\u001b[0m    | Task run 'write_gcs-38' - Finished in state \u001b[32mCompleted\u001b[0m()\n"
      ]
     },
     "metadata": {},
     "output_type": "display_data"
    },
    {
     "name": "stdout",
     "output_type": "stream",
     "text": [
      "catch_19832.csv\n"
     ]
    },
    {
     "data": {
      "text/html": [
       "<pre style=\"white-space:pre;overflow-x:auto;line-height:normal;font-family:Menlo,'DejaVu Sans Mono',consolas,'Courier New',monospace\">22:28:10.668 | <span style=\"color: #008080; text-decoration-color: #008080\">INFO</span>    | Flow run<span style=\"color: #800080; text-decoration-color: #800080\"> 'khaki-bat'</span> - Created task run 'process_file-39' for task 'process_file'\n",
       "</pre>\n"
      ],
      "text/plain": [
       "22:28:10.668 | \u001b[36mINFO\u001b[0m    | Flow run\u001b[35m 'khaki-bat'\u001b[0m - Created task run 'process_file-39' for task 'process_file'\n"
      ]
     },
     "metadata": {},
     "output_type": "display_data"
    },
    {
     "data": {
      "text/html": [
       "<pre style=\"white-space:pre;overflow-x:auto;line-height:normal;font-family:Menlo,'DejaVu Sans Mono',consolas,'Courier New',monospace\">22:28:10.672 | <span style=\"color: #008080; text-decoration-color: #008080\">INFO</span>    | Flow run<span style=\"color: #800080; text-decoration-color: #800080\"> 'khaki-bat'</span> - Executing 'process_file-39' immediately...\n",
       "</pre>\n"
      ],
      "text/plain": [
       "22:28:10.672 | \u001b[36mINFO\u001b[0m    | Flow run\u001b[35m 'khaki-bat'\u001b[0m - Executing 'process_file-39' immediately...\n"
      ]
     },
     "metadata": {},
     "output_type": "display_data"
    },
    {
     "data": {
      "text/html": [
       "<pre style=\"white-space:pre;overflow-x:auto;line-height:normal;font-family:Menlo,'DejaVu Sans Mono',consolas,'Courier New',monospace\">22:28:10.881 | <span style=\"color: #008080; text-decoration-color: #008080\">INFO</span>    | Task run 'process_file-39' - Finished in state <span style=\"color: #008000; text-decoration-color: #008000\">Completed</span>()\n",
       "</pre>\n"
      ],
      "text/plain": [
       "22:28:10.881 | \u001b[36mINFO\u001b[0m    | Task run 'process_file-39' - Finished in state \u001b[32mCompleted\u001b[0m()\n"
      ]
     },
     "metadata": {},
     "output_type": "display_data"
    },
    {
     "data": {
      "text/html": [
       "<pre style=\"white-space:pre;overflow-x:auto;line-height:normal;font-family:Menlo,'DejaVu Sans Mono',consolas,'Courier New',monospace\">22:28:10.950 | <span style=\"color: #008080; text-decoration-color: #008080\">INFO</span>    | Flow run<span style=\"color: #800080; text-decoration-color: #800080\"> 'khaki-bat'</span> - Created task run 'write_gcs-39' for task 'write_gcs'\n",
       "</pre>\n"
      ],
      "text/plain": [
       "22:28:10.950 | \u001b[36mINFO\u001b[0m    | Flow run\u001b[35m 'khaki-bat'\u001b[0m - Created task run 'write_gcs-39' for task 'write_gcs'\n"
      ]
     },
     "metadata": {},
     "output_type": "display_data"
    },
    {
     "data": {
      "text/html": [
       "<pre style=\"white-space:pre;overflow-x:auto;line-height:normal;font-family:Menlo,'DejaVu Sans Mono',consolas,'Courier New',monospace\">22:28:10.956 | <span style=\"color: #008080; text-decoration-color: #008080\">INFO</span>    | Flow run<span style=\"color: #800080; text-decoration-color: #800080\"> 'khaki-bat'</span> - Executing 'write_gcs-39' immediately...\n",
       "</pre>\n"
      ],
      "text/plain": [
       "22:28:10.956 | \u001b[36mINFO\u001b[0m    | Flow run\u001b[35m 'khaki-bat'\u001b[0m - Executing 'write_gcs-39' immediately...\n"
      ]
     },
     "metadata": {},
     "output_type": "display_data"
    },
    {
     "name": "stdout",
     "output_type": "stream",
     "text": [
      "Csv file size is 999007\n"
     ]
    },
    {
     "data": {
      "text/html": [
       "<pre style=\"white-space:pre;overflow-x:auto;line-height:normal;font-family:Menlo,'DejaVu Sans Mono',consolas,'Courier New',monospace\">22:28:12.247 | <span style=\"color: #008080; text-decoration-color: #008080\">INFO</span>    | Task run 'write_gcs-39' - Finished in state <span style=\"color: #008000; text-decoration-color: #008000\">Completed</span>()\n",
       "</pre>\n"
      ],
      "text/plain": [
       "22:28:12.247 | \u001b[36mINFO\u001b[0m    | Task run 'write_gcs-39' - Finished in state \u001b[32mCompleted\u001b[0m()\n"
      ]
     },
     "metadata": {},
     "output_type": "display_data"
    },
    {
     "name": "stdout",
     "output_type": "stream",
     "text": [
      "trip_19832.csv\n"
     ]
    },
    {
     "data": {
      "text/html": [
       "<pre style=\"white-space:pre;overflow-x:auto;line-height:normal;font-family:Menlo,'DejaVu Sans Mono',consolas,'Courier New',monospace\">22:28:12.323 | <span style=\"color: #008080; text-decoration-color: #008080\">INFO</span>    | Flow run<span style=\"color: #800080; text-decoration-color: #800080\"> 'khaki-bat'</span> - Created task run 'process_file-40' for task 'process_file'\n",
       "</pre>\n"
      ],
      "text/plain": [
       "22:28:12.323 | \u001b[36mINFO\u001b[0m    | Flow run\u001b[35m 'khaki-bat'\u001b[0m - Created task run 'process_file-40' for task 'process_file'\n"
      ]
     },
     "metadata": {},
     "output_type": "display_data"
    },
    {
     "data": {
      "text/html": [
       "<pre style=\"white-space:pre;overflow-x:auto;line-height:normal;font-family:Menlo,'DejaVu Sans Mono',consolas,'Courier New',monospace\">22:28:12.326 | <span style=\"color: #008080; text-decoration-color: #008080\">INFO</span>    | Flow run<span style=\"color: #800080; text-decoration-color: #800080\"> 'khaki-bat'</span> - Executing 'process_file-40' immediately...\n",
       "</pre>\n"
      ],
      "text/plain": [
       "22:28:12.326 | \u001b[36mINFO\u001b[0m    | Flow run\u001b[35m 'khaki-bat'\u001b[0m - Executing 'process_file-40' immediately...\n"
      ]
     },
     "metadata": {},
     "output_type": "display_data"
    },
    {
     "data": {
      "text/html": [
       "<pre style=\"white-space:pre;overflow-x:auto;line-height:normal;font-family:Menlo,'DejaVu Sans Mono',consolas,'Courier New',monospace\">22:28:12.522 | <span style=\"color: #008080; text-decoration-color: #008080\">INFO</span>    | Task run 'process_file-40' - Finished in state <span style=\"color: #008000; text-decoration-color: #008000\">Completed</span>()\n",
       "</pre>\n"
      ],
      "text/plain": [
       "22:28:12.522 | \u001b[36mINFO\u001b[0m    | Task run 'process_file-40' - Finished in state \u001b[32mCompleted\u001b[0m()\n"
      ]
     },
     "metadata": {},
     "output_type": "display_data"
    },
    {
     "data": {
      "text/html": [
       "<pre style=\"white-space:pre;overflow-x:auto;line-height:normal;font-family:Menlo,'DejaVu Sans Mono',consolas,'Courier New',monospace\">22:28:12.583 | <span style=\"color: #008080; text-decoration-color: #008080\">INFO</span>    | Flow run<span style=\"color: #800080; text-decoration-color: #800080\"> 'khaki-bat'</span> - Created task run 'write_gcs-40' for task 'write_gcs'\n",
       "</pre>\n"
      ],
      "text/plain": [
       "22:28:12.583 | \u001b[36mINFO\u001b[0m    | Flow run\u001b[35m 'khaki-bat'\u001b[0m - Created task run 'write_gcs-40' for task 'write_gcs'\n"
      ]
     },
     "metadata": {},
     "output_type": "display_data"
    },
    {
     "data": {
      "text/html": [
       "<pre style=\"white-space:pre;overflow-x:auto;line-height:normal;font-family:Menlo,'DejaVu Sans Mono',consolas,'Courier New',monospace\">22:28:12.586 | <span style=\"color: #008080; text-decoration-color: #008080\">INFO</span>    | Flow run<span style=\"color: #800080; text-decoration-color: #800080\"> 'khaki-bat'</span> - Executing 'write_gcs-40' immediately...\n",
       "</pre>\n"
      ],
      "text/plain": [
       "22:28:12.586 | \u001b[36mINFO\u001b[0m    | Flow run\u001b[35m 'khaki-bat'\u001b[0m - Executing 'write_gcs-40' immediately...\n"
      ]
     },
     "metadata": {},
     "output_type": "display_data"
    },
    {
     "name": "stdout",
     "output_type": "stream",
     "text": [
      "Csv file size is 1083263\n"
     ]
    },
    {
     "data": {
      "text/html": [
       "<pre style=\"white-space:pre;overflow-x:auto;line-height:normal;font-family:Menlo,'DejaVu Sans Mono',consolas,'Courier New',monospace\">22:28:13.926 | <span style=\"color: #008080; text-decoration-color: #008080\">INFO</span>    | Task run 'write_gcs-40' - Finished in state <span style=\"color: #008000; text-decoration-color: #008000\">Completed</span>()\n",
       "</pre>\n"
      ],
      "text/plain": [
       "22:28:13.926 | \u001b[36mINFO\u001b[0m    | Task run 'write_gcs-40' - Finished in state \u001b[32mCompleted\u001b[0m()\n"
      ]
     },
     "metadata": {},
     "output_type": "display_data"
    },
    {
     "name": "stdout",
     "output_type": "stream",
     "text": [
      "size_19832.csv\n"
     ]
    },
    {
     "data": {
      "text/html": [
       "<pre style=\"white-space:pre;overflow-x:auto;line-height:normal;font-family:Menlo,'DejaVu Sans Mono',consolas,'Courier New',monospace\">22:28:14.000 | <span style=\"color: #008080; text-decoration-color: #008080\">INFO</span>    | Flow run<span style=\"color: #800080; text-decoration-color: #800080\"> 'khaki-bat'</span> - Created task run 'process_file-41' for task 'process_file'\n",
       "</pre>\n"
      ],
      "text/plain": [
       "22:28:14.000 | \u001b[36mINFO\u001b[0m    | Flow run\u001b[35m 'khaki-bat'\u001b[0m - Created task run 'process_file-41' for task 'process_file'\n"
      ]
     },
     "metadata": {},
     "output_type": "display_data"
    },
    {
     "data": {
      "text/html": [
       "<pre style=\"white-space:pre;overflow-x:auto;line-height:normal;font-family:Menlo,'DejaVu Sans Mono',consolas,'Courier New',monospace\">22:28:14.004 | <span style=\"color: #008080; text-decoration-color: #008080\">INFO</span>    | Flow run<span style=\"color: #800080; text-decoration-color: #800080\"> 'khaki-bat'</span> - Executing 'process_file-41' immediately...\n",
       "</pre>\n"
      ],
      "text/plain": [
       "22:28:14.004 | \u001b[36mINFO\u001b[0m    | Flow run\u001b[35m 'khaki-bat'\u001b[0m - Executing 'process_file-41' immediately...\n"
      ]
     },
     "metadata": {},
     "output_type": "display_data"
    },
    {
     "data": {
      "text/html": [
       "<pre style=\"white-space:pre;overflow-x:auto;line-height:normal;font-family:Menlo,'DejaVu Sans Mono',consolas,'Courier New',monospace\">22:28:14.221 | <span style=\"color: #008080; text-decoration-color: #008080\">INFO</span>    | Task run 'process_file-41' - Finished in state <span style=\"color: #008000; text-decoration-color: #008000\">Completed</span>()\n",
       "</pre>\n"
      ],
      "text/plain": [
       "22:28:14.221 | \u001b[36mINFO\u001b[0m    | Task run 'process_file-41' - Finished in state \u001b[32mCompleted\u001b[0m()\n"
      ]
     },
     "metadata": {},
     "output_type": "display_data"
    },
    {
     "data": {
      "text/html": [
       "<pre style=\"white-space:pre;overflow-x:auto;line-height:normal;font-family:Menlo,'DejaVu Sans Mono',consolas,'Courier New',monospace\">22:28:14.313 | <span style=\"color: #008080; text-decoration-color: #008080\">INFO</span>    | Flow run<span style=\"color: #800080; text-decoration-color: #800080\"> 'khaki-bat'</span> - Created task run 'write_gcs-41' for task 'write_gcs'\n",
       "</pre>\n"
      ],
      "text/plain": [
       "22:28:14.313 | \u001b[36mINFO\u001b[0m    | Flow run\u001b[35m 'khaki-bat'\u001b[0m - Created task run 'write_gcs-41' for task 'write_gcs'\n"
      ]
     },
     "metadata": {},
     "output_type": "display_data"
    },
    {
     "data": {
      "text/html": [
       "<pre style=\"white-space:pre;overflow-x:auto;line-height:normal;font-family:Menlo,'DejaVu Sans Mono',consolas,'Courier New',monospace\">22:28:14.317 | <span style=\"color: #008080; text-decoration-color: #008080\">INFO</span>    | Flow run<span style=\"color: #800080; text-decoration-color: #800080\"> 'khaki-bat'</span> - Executing 'write_gcs-41' immediately...\n",
       "</pre>\n"
      ],
      "text/plain": [
       "22:28:14.317 | \u001b[36mINFO\u001b[0m    | Flow run\u001b[35m 'khaki-bat'\u001b[0m - Executing 'write_gcs-41' immediately...\n"
      ]
     },
     "metadata": {},
     "output_type": "display_data"
    },
    {
     "name": "stdout",
     "output_type": "stream",
     "text": [
      "Csv file size is 1348965\n"
     ]
    },
    {
     "data": {
      "text/html": [
       "<pre style=\"white-space:pre;overflow-x:auto;line-height:normal;font-family:Menlo,'DejaVu Sans Mono',consolas,'Courier New',monospace\">22:28:15.834 | <span style=\"color: #008080; text-decoration-color: #008080\">INFO</span>    | Task run 'write_gcs-41' - Finished in state <span style=\"color: #008000; text-decoration-color: #008000\">Completed</span>()\n",
       "</pre>\n"
      ],
      "text/plain": [
       "22:28:15.834 | \u001b[36mINFO\u001b[0m    | Task run 'write_gcs-41' - Finished in state \u001b[32mCompleted\u001b[0m()\n"
      ]
     },
     "metadata": {},
     "output_type": "display_data"
    },
    {
     "name": "stdout",
     "output_type": "stream",
     "text": [
      "catch_19833.csv\n"
     ]
    },
    {
     "data": {
      "text/html": [
       "<pre style=\"white-space:pre;overflow-x:auto;line-height:normal;font-family:Menlo,'DejaVu Sans Mono',consolas,'Courier New',monospace\">22:28:15.905 | <span style=\"color: #008080; text-decoration-color: #008080\">INFO</span>    | Flow run<span style=\"color: #800080; text-decoration-color: #800080\"> 'khaki-bat'</span> - Created task run 'process_file-42' for task 'process_file'\n",
       "</pre>\n"
      ],
      "text/plain": [
       "22:28:15.905 | \u001b[36mINFO\u001b[0m    | Flow run\u001b[35m 'khaki-bat'\u001b[0m - Created task run 'process_file-42' for task 'process_file'\n"
      ]
     },
     "metadata": {},
     "output_type": "display_data"
    },
    {
     "data": {
      "text/html": [
       "<pre style=\"white-space:pre;overflow-x:auto;line-height:normal;font-family:Menlo,'DejaVu Sans Mono',consolas,'Courier New',monospace\">22:28:15.910 | <span style=\"color: #008080; text-decoration-color: #008080\">INFO</span>    | Flow run<span style=\"color: #800080; text-decoration-color: #800080\"> 'khaki-bat'</span> - Executing 'process_file-42' immediately...\n",
       "</pre>\n"
      ],
      "text/plain": [
       "22:28:15.910 | \u001b[36mINFO\u001b[0m    | Flow run\u001b[35m 'khaki-bat'\u001b[0m - Executing 'process_file-42' immediately...\n"
      ]
     },
     "metadata": {},
     "output_type": "display_data"
    },
    {
     "data": {
      "text/html": [
       "<pre style=\"white-space:pre;overflow-x:auto;line-height:normal;font-family:Menlo,'DejaVu Sans Mono',consolas,'Courier New',monospace\">22:28:16.231 | <span style=\"color: #008080; text-decoration-color: #008080\">INFO</span>    | Task run 'process_file-42' - Finished in state <span style=\"color: #008000; text-decoration-color: #008000\">Completed</span>()\n",
       "</pre>\n"
      ],
      "text/plain": [
       "22:28:16.231 | \u001b[36mINFO\u001b[0m    | Task run 'process_file-42' - Finished in state \u001b[32mCompleted\u001b[0m()\n"
      ]
     },
     "metadata": {},
     "output_type": "display_data"
    },
    {
     "data": {
      "text/html": [
       "<pre style=\"white-space:pre;overflow-x:auto;line-height:normal;font-family:Menlo,'DejaVu Sans Mono',consolas,'Courier New',monospace\">22:28:16.295 | <span style=\"color: #008080; text-decoration-color: #008080\">INFO</span>    | Flow run<span style=\"color: #800080; text-decoration-color: #800080\"> 'khaki-bat'</span> - Created task run 'write_gcs-42' for task 'write_gcs'\n",
       "</pre>\n"
      ],
      "text/plain": [
       "22:28:16.295 | \u001b[36mINFO\u001b[0m    | Flow run\u001b[35m 'khaki-bat'\u001b[0m - Created task run 'write_gcs-42' for task 'write_gcs'\n"
      ]
     },
     "metadata": {},
     "output_type": "display_data"
    },
    {
     "data": {
      "text/html": [
       "<pre style=\"white-space:pre;overflow-x:auto;line-height:normal;font-family:Menlo,'DejaVu Sans Mono',consolas,'Courier New',monospace\">22:28:16.299 | <span style=\"color: #008080; text-decoration-color: #008080\">INFO</span>    | Flow run<span style=\"color: #800080; text-decoration-color: #800080\"> 'khaki-bat'</span> - Executing 'write_gcs-42' immediately...\n",
       "</pre>\n"
      ],
      "text/plain": [
       "22:28:16.299 | \u001b[36mINFO\u001b[0m    | Flow run\u001b[35m 'khaki-bat'\u001b[0m - Executing 'write_gcs-42' immediately...\n"
      ]
     },
     "metadata": {},
     "output_type": "display_data"
    },
    {
     "name": "stdout",
     "output_type": "stream",
     "text": [
      "Csv file size is 2854150\n"
     ]
    },
    {
     "data": {
      "text/html": [
       "<pre style=\"white-space:pre;overflow-x:auto;line-height:normal;font-family:Menlo,'DejaVu Sans Mono',consolas,'Courier New',monospace\">22:28:19.143 | <span style=\"color: #008080; text-decoration-color: #008080\">INFO</span>    | Task run 'write_gcs-42' - Finished in state <span style=\"color: #008000; text-decoration-color: #008000\">Completed</span>()\n",
       "</pre>\n"
      ],
      "text/plain": [
       "22:28:19.143 | \u001b[36mINFO\u001b[0m    | Task run 'write_gcs-42' - Finished in state \u001b[32mCompleted\u001b[0m()\n"
      ]
     },
     "metadata": {},
     "output_type": "display_data"
    },
    {
     "name": "stdout",
     "output_type": "stream",
     "text": [
      "trip_19833.csv\n"
     ]
    },
    {
     "data": {
      "text/html": [
       "<pre style=\"white-space:pre;overflow-x:auto;line-height:normal;font-family:Menlo,'DejaVu Sans Mono',consolas,'Courier New',monospace\">22:28:19.222 | <span style=\"color: #008080; text-decoration-color: #008080\">INFO</span>    | Flow run<span style=\"color: #800080; text-decoration-color: #800080\"> 'khaki-bat'</span> - Created task run 'process_file-43' for task 'process_file'\n",
       "</pre>\n"
      ],
      "text/plain": [
       "22:28:19.222 | \u001b[36mINFO\u001b[0m    | Flow run\u001b[35m 'khaki-bat'\u001b[0m - Created task run 'process_file-43' for task 'process_file'\n"
      ]
     },
     "metadata": {},
     "output_type": "display_data"
    },
    {
     "data": {
      "text/html": [
       "<pre style=\"white-space:pre;overflow-x:auto;line-height:normal;font-family:Menlo,'DejaVu Sans Mono',consolas,'Courier New',monospace\">22:28:19.227 | <span style=\"color: #008080; text-decoration-color: #008080\">INFO</span>    | Flow run<span style=\"color: #800080; text-decoration-color: #800080\"> 'khaki-bat'</span> - Executing 'process_file-43' immediately...\n",
       "</pre>\n"
      ],
      "text/plain": [
       "22:28:19.227 | \u001b[36mINFO\u001b[0m    | Flow run\u001b[35m 'khaki-bat'\u001b[0m - Executing 'process_file-43' immediately...\n"
      ]
     },
     "metadata": {},
     "output_type": "display_data"
    },
    {
     "data": {
      "text/html": [
       "<pre style=\"white-space:pre;overflow-x:auto;line-height:normal;font-family:Menlo,'DejaVu Sans Mono',consolas,'Courier New',monospace\">22:28:19.444 | <span style=\"color: #008080; text-decoration-color: #008080\">INFO</span>    | Task run 'process_file-43' - Finished in state <span style=\"color: #008000; text-decoration-color: #008000\">Completed</span>()\n",
       "</pre>\n"
      ],
      "text/plain": [
       "22:28:19.444 | \u001b[36mINFO\u001b[0m    | Task run 'process_file-43' - Finished in state \u001b[32mCompleted\u001b[0m()\n"
      ]
     },
     "metadata": {},
     "output_type": "display_data"
    },
    {
     "data": {
      "text/html": [
       "<pre style=\"white-space:pre;overflow-x:auto;line-height:normal;font-family:Menlo,'DejaVu Sans Mono',consolas,'Courier New',monospace\">22:28:19.550 | <span style=\"color: #008080; text-decoration-color: #008080\">INFO</span>    | Flow run<span style=\"color: #800080; text-decoration-color: #800080\"> 'khaki-bat'</span> - Created task run 'write_gcs-43' for task 'write_gcs'\n",
       "</pre>\n"
      ],
      "text/plain": [
       "22:28:19.550 | \u001b[36mINFO\u001b[0m    | Flow run\u001b[35m 'khaki-bat'\u001b[0m - Created task run 'write_gcs-43' for task 'write_gcs'\n"
      ]
     },
     "metadata": {},
     "output_type": "display_data"
    },
    {
     "data": {
      "text/html": [
       "<pre style=\"white-space:pre;overflow-x:auto;line-height:normal;font-family:Menlo,'DejaVu Sans Mono',consolas,'Courier New',monospace\">22:28:19.554 | <span style=\"color: #008080; text-decoration-color: #008080\">INFO</span>    | Flow run<span style=\"color: #800080; text-decoration-color: #800080\"> 'khaki-bat'</span> - Executing 'write_gcs-43' immediately...\n",
       "</pre>\n"
      ],
      "text/plain": [
       "22:28:19.554 | \u001b[36mINFO\u001b[0m    | Flow run\u001b[35m 'khaki-bat'\u001b[0m - Executing 'write_gcs-43' immediately...\n"
      ]
     },
     "metadata": {},
     "output_type": "display_data"
    },
    {
     "name": "stdout",
     "output_type": "stream",
     "text": [
      "Csv file size is 2890102\n"
     ]
    },
    {
     "data": {
      "text/html": [
       "<pre style=\"white-space:pre;overflow-x:auto;line-height:normal;font-family:Menlo,'DejaVu Sans Mono',consolas,'Courier New',monospace\">22:28:22.115 | <span style=\"color: #008080; text-decoration-color: #008080\">INFO</span>    | Task run 'write_gcs-43' - Finished in state <span style=\"color: #008000; text-decoration-color: #008000\">Completed</span>()\n",
       "</pre>\n"
      ],
      "text/plain": [
       "22:28:22.115 | \u001b[36mINFO\u001b[0m    | Task run 'write_gcs-43' - Finished in state \u001b[32mCompleted\u001b[0m()\n"
      ]
     },
     "metadata": {},
     "output_type": "display_data"
    },
    {
     "name": "stdout",
     "output_type": "stream",
     "text": [
      "size_19833.csv\n"
     ]
    },
    {
     "data": {
      "text/html": [
       "<pre style=\"white-space:pre;overflow-x:auto;line-height:normal;font-family:Menlo,'DejaVu Sans Mono',consolas,'Courier New',monospace\">22:28:22.192 | <span style=\"color: #008080; text-decoration-color: #008080\">INFO</span>    | Flow run<span style=\"color: #800080; text-decoration-color: #800080\"> 'khaki-bat'</span> - Created task run 'process_file-44' for task 'process_file'\n",
       "</pre>\n"
      ],
      "text/plain": [
       "22:28:22.192 | \u001b[36mINFO\u001b[0m    | Flow run\u001b[35m 'khaki-bat'\u001b[0m - Created task run 'process_file-44' for task 'process_file'\n"
      ]
     },
     "metadata": {},
     "output_type": "display_data"
    },
    {
     "data": {
      "text/html": [
       "<pre style=\"white-space:pre;overflow-x:auto;line-height:normal;font-family:Menlo,'DejaVu Sans Mono',consolas,'Courier New',monospace\">22:28:22.196 | <span style=\"color: #008080; text-decoration-color: #008080\">INFO</span>    | Flow run<span style=\"color: #800080; text-decoration-color: #800080\"> 'khaki-bat'</span> - Executing 'process_file-44' immediately...\n",
       "</pre>\n"
      ],
      "text/plain": [
       "22:28:22.196 | \u001b[36mINFO\u001b[0m    | Flow run\u001b[35m 'khaki-bat'\u001b[0m - Executing 'process_file-44' immediately...\n"
      ]
     },
     "metadata": {},
     "output_type": "display_data"
    },
    {
     "data": {
      "text/html": [
       "<pre style=\"white-space:pre;overflow-x:auto;line-height:normal;font-family:Menlo,'DejaVu Sans Mono',consolas,'Courier New',monospace\">22:28:22.445 | <span style=\"color: #008080; text-decoration-color: #008080\">INFO</span>    | Task run 'process_file-44' - Finished in state <span style=\"color: #008000; text-decoration-color: #008000\">Completed</span>()\n",
       "</pre>\n"
      ],
      "text/plain": [
       "22:28:22.445 | \u001b[36mINFO\u001b[0m    | Task run 'process_file-44' - Finished in state \u001b[32mCompleted\u001b[0m()\n"
      ]
     },
     "metadata": {},
     "output_type": "display_data"
    },
    {
     "data": {
      "text/html": [
       "<pre style=\"white-space:pre;overflow-x:auto;line-height:normal;font-family:Menlo,'DejaVu Sans Mono',consolas,'Courier New',monospace\">22:28:22.565 | <span style=\"color: #008080; text-decoration-color: #008080\">INFO</span>    | Flow run<span style=\"color: #800080; text-decoration-color: #800080\"> 'khaki-bat'</span> - Created task run 'write_gcs-44' for task 'write_gcs'\n",
       "</pre>\n"
      ],
      "text/plain": [
       "22:28:22.565 | \u001b[36mINFO\u001b[0m    | Flow run\u001b[35m 'khaki-bat'\u001b[0m - Created task run 'write_gcs-44' for task 'write_gcs'\n"
      ]
     },
     "metadata": {},
     "output_type": "display_data"
    },
    {
     "data": {
      "text/html": [
       "<pre style=\"white-space:pre;overflow-x:auto;line-height:normal;font-family:Menlo,'DejaVu Sans Mono',consolas,'Courier New',monospace\">22:28:22.569 | <span style=\"color: #008080; text-decoration-color: #008080\">INFO</span>    | Flow run<span style=\"color: #800080; text-decoration-color: #800080\"> 'khaki-bat'</span> - Executing 'write_gcs-44' immediately...\n",
       "</pre>\n"
      ],
      "text/plain": [
       "22:28:22.569 | \u001b[36mINFO\u001b[0m    | Flow run\u001b[35m 'khaki-bat'\u001b[0m - Executing 'write_gcs-44' immediately...\n"
      ]
     },
     "metadata": {},
     "output_type": "display_data"
    },
    {
     "name": "stdout",
     "output_type": "stream",
     "text": [
      "Csv file size is 3696865\n"
     ]
    },
    {
     "data": {
      "text/html": [
       "<pre style=\"white-space:pre;overflow-x:auto;line-height:normal;font-family:Menlo,'DejaVu Sans Mono',consolas,'Courier New',monospace\">22:28:25.817 | <span style=\"color: #008080; text-decoration-color: #008080\">INFO</span>    | Task run 'write_gcs-44' - Finished in state <span style=\"color: #008000; text-decoration-color: #008000\">Completed</span>()\n",
       "</pre>\n"
      ],
      "text/plain": [
       "22:28:25.817 | \u001b[36mINFO\u001b[0m    | Task run 'write_gcs-44' - Finished in state \u001b[32mCompleted\u001b[0m()\n"
      ]
     },
     "metadata": {},
     "output_type": "display_data"
    },
    {
     "name": "stdout",
     "output_type": "stream",
     "text": [
      "catch_19834.csv\n"
     ]
    },
    {
     "data": {
      "text/html": [
       "<pre style=\"white-space:pre;overflow-x:auto;line-height:normal;font-family:Menlo,'DejaVu Sans Mono',consolas,'Courier New',monospace\">22:28:25.894 | <span style=\"color: #008080; text-decoration-color: #008080\">INFO</span>    | Flow run<span style=\"color: #800080; text-decoration-color: #800080\"> 'khaki-bat'</span> - Created task run 'process_file-45' for task 'process_file'\n",
       "</pre>\n"
      ],
      "text/plain": [
       "22:28:25.894 | \u001b[36mINFO\u001b[0m    | Flow run\u001b[35m 'khaki-bat'\u001b[0m - Created task run 'process_file-45' for task 'process_file'\n"
      ]
     },
     "metadata": {},
     "output_type": "display_data"
    },
    {
     "data": {
      "text/html": [
       "<pre style=\"white-space:pre;overflow-x:auto;line-height:normal;font-family:Menlo,'DejaVu Sans Mono',consolas,'Courier New',monospace\">22:28:25.899 | <span style=\"color: #008080; text-decoration-color: #008080\">INFO</span>    | Flow run<span style=\"color: #800080; text-decoration-color: #800080\"> 'khaki-bat'</span> - Executing 'process_file-45' immediately...\n",
       "</pre>\n"
      ],
      "text/plain": [
       "22:28:25.899 | \u001b[36mINFO\u001b[0m    | Flow run\u001b[35m 'khaki-bat'\u001b[0m - Executing 'process_file-45' immediately...\n"
      ]
     },
     "metadata": {},
     "output_type": "display_data"
    },
    {
     "data": {
      "text/html": [
       "<pre style=\"white-space:pre;overflow-x:auto;line-height:normal;font-family:Menlo,'DejaVu Sans Mono',consolas,'Courier New',monospace\">22:28:26.099 | <span style=\"color: #008080; text-decoration-color: #008080\">INFO</span>    | Task run 'process_file-45' - Finished in state <span style=\"color: #008000; text-decoration-color: #008000\">Completed</span>()\n",
       "</pre>\n"
      ],
      "text/plain": [
       "22:28:26.099 | \u001b[36mINFO\u001b[0m    | Task run 'process_file-45' - Finished in state \u001b[32mCompleted\u001b[0m()\n"
      ]
     },
     "metadata": {},
     "output_type": "display_data"
    },
    {
     "data": {
      "text/html": [
       "<pre style=\"white-space:pre;overflow-x:auto;line-height:normal;font-family:Menlo,'DejaVu Sans Mono',consolas,'Courier New',monospace\">22:28:26.175 | <span style=\"color: #008080; text-decoration-color: #008080\">INFO</span>    | Flow run<span style=\"color: #800080; text-decoration-color: #800080\"> 'khaki-bat'</span> - Created task run 'write_gcs-45' for task 'write_gcs'\n",
       "</pre>\n"
      ],
      "text/plain": [
       "22:28:26.175 | \u001b[36mINFO\u001b[0m    | Flow run\u001b[35m 'khaki-bat'\u001b[0m - Created task run 'write_gcs-45' for task 'write_gcs'\n"
      ]
     },
     "metadata": {},
     "output_type": "display_data"
    },
    {
     "data": {
      "text/html": [
       "<pre style=\"white-space:pre;overflow-x:auto;line-height:normal;font-family:Menlo,'DejaVu Sans Mono',consolas,'Courier New',monospace\">22:28:26.179 | <span style=\"color: #008080; text-decoration-color: #008080\">INFO</span>    | Flow run<span style=\"color: #800080; text-decoration-color: #800080\"> 'khaki-bat'</span> - Executing 'write_gcs-45' immediately...\n",
       "</pre>\n"
      ],
      "text/plain": [
       "22:28:26.179 | \u001b[36mINFO\u001b[0m    | Flow run\u001b[35m 'khaki-bat'\u001b[0m - Executing 'write_gcs-45' immediately...\n"
      ]
     },
     "metadata": {},
     "output_type": "display_data"
    },
    {
     "name": "stdout",
     "output_type": "stream",
     "text": [
      "Csv file size is 2932964\n"
     ]
    },
    {
     "data": {
      "text/html": [
       "<pre style=\"white-space:pre;overflow-x:auto;line-height:normal;font-family:Menlo,'DejaVu Sans Mono',consolas,'Courier New',monospace\">22:28:28.737 | <span style=\"color: #008080; text-decoration-color: #008080\">INFO</span>    | Task run 'write_gcs-45' - Finished in state <span style=\"color: #008000; text-decoration-color: #008000\">Completed</span>()\n",
       "</pre>\n"
      ],
      "text/plain": [
       "22:28:28.737 | \u001b[36mINFO\u001b[0m    | Task run 'write_gcs-45' - Finished in state \u001b[32mCompleted\u001b[0m()\n"
      ]
     },
     "metadata": {},
     "output_type": "display_data"
    },
    {
     "name": "stdout",
     "output_type": "stream",
     "text": [
      "trip_19834.csv\n"
     ]
    },
    {
     "data": {
      "text/html": [
       "<pre style=\"white-space:pre;overflow-x:auto;line-height:normal;font-family:Menlo,'DejaVu Sans Mono',consolas,'Courier New',monospace\">22:28:28.819 | <span style=\"color: #008080; text-decoration-color: #008080\">INFO</span>    | Flow run<span style=\"color: #800080; text-decoration-color: #800080\"> 'khaki-bat'</span> - Created task run 'process_file-46' for task 'process_file'\n",
       "</pre>\n"
      ],
      "text/plain": [
       "22:28:28.819 | \u001b[36mINFO\u001b[0m    | Flow run\u001b[35m 'khaki-bat'\u001b[0m - Created task run 'process_file-46' for task 'process_file'\n"
      ]
     },
     "metadata": {},
     "output_type": "display_data"
    },
    {
     "data": {
      "text/html": [
       "<pre style=\"white-space:pre;overflow-x:auto;line-height:normal;font-family:Menlo,'DejaVu Sans Mono',consolas,'Courier New',monospace\">22:28:28.824 | <span style=\"color: #008080; text-decoration-color: #008080\">INFO</span>    | Flow run<span style=\"color: #800080; text-decoration-color: #800080\"> 'khaki-bat'</span> - Executing 'process_file-46' immediately...\n",
       "</pre>\n"
      ],
      "text/plain": [
       "22:28:28.824 | \u001b[36mINFO\u001b[0m    | Flow run\u001b[35m 'khaki-bat'\u001b[0m - Executing 'process_file-46' immediately...\n"
      ]
     },
     "metadata": {},
     "output_type": "display_data"
    },
    {
     "data": {
      "text/html": [
       "<pre style=\"white-space:pre;overflow-x:auto;line-height:normal;font-family:Menlo,'DejaVu Sans Mono',consolas,'Courier New',monospace\">22:28:29.092 | <span style=\"color: #008080; text-decoration-color: #008080\">INFO</span>    | Task run 'process_file-46' - Finished in state <span style=\"color: #008000; text-decoration-color: #008000\">Completed</span>()\n",
       "</pre>\n"
      ],
      "text/plain": [
       "22:28:29.092 | \u001b[36mINFO\u001b[0m    | Task run 'process_file-46' - Finished in state \u001b[32mCompleted\u001b[0m()\n"
      ]
     },
     "metadata": {},
     "output_type": "display_data"
    },
    {
     "data": {
      "text/html": [
       "<pre style=\"white-space:pre;overflow-x:auto;line-height:normal;font-family:Menlo,'DejaVu Sans Mono',consolas,'Courier New',monospace\">22:28:29.215 | <span style=\"color: #008080; text-decoration-color: #008080\">INFO</span>    | Flow run<span style=\"color: #800080; text-decoration-color: #800080\"> 'khaki-bat'</span> - Created task run 'write_gcs-46' for task 'write_gcs'\n",
       "</pre>\n"
      ],
      "text/plain": [
       "22:28:29.215 | \u001b[36mINFO\u001b[0m    | Flow run\u001b[35m 'khaki-bat'\u001b[0m - Created task run 'write_gcs-46' for task 'write_gcs'\n"
      ]
     },
     "metadata": {},
     "output_type": "display_data"
    },
    {
     "data": {
      "text/html": [
       "<pre style=\"white-space:pre;overflow-x:auto;line-height:normal;font-family:Menlo,'DejaVu Sans Mono',consolas,'Courier New',monospace\">22:28:29.219 | <span style=\"color: #008080; text-decoration-color: #008080\">INFO</span>    | Flow run<span style=\"color: #800080; text-decoration-color: #800080\"> 'khaki-bat'</span> - Executing 'write_gcs-46' immediately...\n",
       "</pre>\n"
      ],
      "text/plain": [
       "22:28:29.219 | \u001b[36mINFO\u001b[0m    | Flow run\u001b[35m 'khaki-bat'\u001b[0m - Executing 'write_gcs-46' immediately...\n"
      ]
     },
     "metadata": {},
     "output_type": "display_data"
    },
    {
     "name": "stdout",
     "output_type": "stream",
     "text": [
      "Csv file size is 2859758\n"
     ]
    },
    {
     "data": {
      "text/html": [
       "<pre style=\"white-space:pre;overflow-x:auto;line-height:normal;font-family:Menlo,'DejaVu Sans Mono',consolas,'Courier New',monospace\">22:28:31.765 | <span style=\"color: #008080; text-decoration-color: #008080\">INFO</span>    | Task run 'write_gcs-46' - Finished in state <span style=\"color: #008000; text-decoration-color: #008000\">Completed</span>()\n",
       "</pre>\n"
      ],
      "text/plain": [
       "22:28:31.765 | \u001b[36mINFO\u001b[0m    | Task run 'write_gcs-46' - Finished in state \u001b[32mCompleted\u001b[0m()\n"
      ]
     },
     "metadata": {},
     "output_type": "display_data"
    },
    {
     "name": "stdout",
     "output_type": "stream",
     "text": [
      "size_19834.csv\n"
     ]
    },
    {
     "data": {
      "text/html": [
       "<pre style=\"white-space:pre;overflow-x:auto;line-height:normal;font-family:Menlo,'DejaVu Sans Mono',consolas,'Courier New',monospace\">22:28:31.864 | <span style=\"color: #008080; text-decoration-color: #008080\">INFO</span>    | Flow run<span style=\"color: #800080; text-decoration-color: #800080\"> 'khaki-bat'</span> - Created task run 'process_file-47' for task 'process_file'\n",
       "</pre>\n"
      ],
      "text/plain": [
       "22:28:31.864 | \u001b[36mINFO\u001b[0m    | Flow run\u001b[35m 'khaki-bat'\u001b[0m - Created task run 'process_file-47' for task 'process_file'\n"
      ]
     },
     "metadata": {},
     "output_type": "display_data"
    },
    {
     "data": {
      "text/html": [
       "<pre style=\"white-space:pre;overflow-x:auto;line-height:normal;font-family:Menlo,'DejaVu Sans Mono',consolas,'Courier New',monospace\">22:28:31.868 | <span style=\"color: #008080; text-decoration-color: #008080\">INFO</span>    | Flow run<span style=\"color: #800080; text-decoration-color: #800080\"> 'khaki-bat'</span> - Executing 'process_file-47' immediately...\n",
       "</pre>\n"
      ],
      "text/plain": [
       "22:28:31.868 | \u001b[36mINFO\u001b[0m    | Flow run\u001b[35m 'khaki-bat'\u001b[0m - Executing 'process_file-47' immediately...\n"
      ]
     },
     "metadata": {},
     "output_type": "display_data"
    },
    {
     "data": {
      "text/html": [
       "<pre style=\"white-space:pre;overflow-x:auto;line-height:normal;font-family:Menlo,'DejaVu Sans Mono',consolas,'Courier New',monospace\">22:28:32.082 | <span style=\"color: #008080; text-decoration-color: #008080\">INFO</span>    | Task run 'process_file-47' - Finished in state <span style=\"color: #008000; text-decoration-color: #008000\">Completed</span>()\n",
       "</pre>\n"
      ],
      "text/plain": [
       "22:28:32.082 | \u001b[36mINFO\u001b[0m    | Task run 'process_file-47' - Finished in state \u001b[32mCompleted\u001b[0m()\n"
      ]
     },
     "metadata": {},
     "output_type": "display_data"
    },
    {
     "data": {
      "text/html": [
       "<pre style=\"white-space:pre;overflow-x:auto;line-height:normal;font-family:Menlo,'DejaVu Sans Mono',consolas,'Courier New',monospace\">22:28:32.259 | <span style=\"color: #008080; text-decoration-color: #008080\">INFO</span>    | Flow run<span style=\"color: #800080; text-decoration-color: #800080\"> 'khaki-bat'</span> - Created task run 'write_gcs-47' for task 'write_gcs'\n",
       "</pre>\n"
      ],
      "text/plain": [
       "22:28:32.259 | \u001b[36mINFO\u001b[0m    | Flow run\u001b[35m 'khaki-bat'\u001b[0m - Created task run 'write_gcs-47' for task 'write_gcs'\n"
      ]
     },
     "metadata": {},
     "output_type": "display_data"
    },
    {
     "data": {
      "text/html": [
       "<pre style=\"white-space:pre;overflow-x:auto;line-height:normal;font-family:Menlo,'DejaVu Sans Mono',consolas,'Courier New',monospace\">22:28:32.262 | <span style=\"color: #008080; text-decoration-color: #008080\">INFO</span>    | Flow run<span style=\"color: #800080; text-decoration-color: #800080\"> 'khaki-bat'</span> - Executing 'write_gcs-47' immediately...\n",
       "</pre>\n"
      ],
      "text/plain": [
       "22:28:32.262 | \u001b[36mINFO\u001b[0m    | Flow run\u001b[35m 'khaki-bat'\u001b[0m - Executing 'write_gcs-47' immediately...\n"
      ]
     },
     "metadata": {},
     "output_type": "display_data"
    },
    {
     "name": "stdout",
     "output_type": "stream",
     "text": [
      "Csv file size is 4148337\n"
     ]
    },
    {
     "data": {
      "text/html": [
       "<pre style=\"white-space:pre;overflow-x:auto;line-height:normal;font-family:Menlo,'DejaVu Sans Mono',consolas,'Courier New',monospace\">22:28:36.583 | <span style=\"color: #008080; text-decoration-color: #008080\">INFO</span>    | Task run 'write_gcs-47' - Finished in state <span style=\"color: #008000; text-decoration-color: #008000\">Completed</span>()\n",
       "</pre>\n"
      ],
      "text/plain": [
       "22:28:36.583 | \u001b[36mINFO\u001b[0m    | Task run 'write_gcs-47' - Finished in state \u001b[32mCompleted\u001b[0m()\n"
      ]
     },
     "metadata": {},
     "output_type": "display_data"
    },
    {
     "name": "stdout",
     "output_type": "stream",
     "text": [
      "catch_19835.csv\n"
     ]
    },
    {
     "data": {
      "text/html": [
       "<pre style=\"white-space:pre;overflow-x:auto;line-height:normal;font-family:Menlo,'DejaVu Sans Mono',consolas,'Courier New',monospace\">22:28:36.659 | <span style=\"color: #008080; text-decoration-color: #008080\">INFO</span>    | Flow run<span style=\"color: #800080; text-decoration-color: #800080\"> 'khaki-bat'</span> - Created task run 'process_file-48' for task 'process_file'\n",
       "</pre>\n"
      ],
      "text/plain": [
       "22:28:36.659 | \u001b[36mINFO\u001b[0m    | Flow run\u001b[35m 'khaki-bat'\u001b[0m - Created task run 'process_file-48' for task 'process_file'\n"
      ]
     },
     "metadata": {},
     "output_type": "display_data"
    },
    {
     "data": {
      "text/html": [
       "<pre style=\"white-space:pre;overflow-x:auto;line-height:normal;font-family:Menlo,'DejaVu Sans Mono',consolas,'Courier New',monospace\">22:28:36.663 | <span style=\"color: #008080; text-decoration-color: #008080\">INFO</span>    | Flow run<span style=\"color: #800080; text-decoration-color: #800080\"> 'khaki-bat'</span> - Executing 'process_file-48' immediately...\n",
       "</pre>\n"
      ],
      "text/plain": [
       "22:28:36.663 | \u001b[36mINFO\u001b[0m    | Flow run\u001b[35m 'khaki-bat'\u001b[0m - Executing 'process_file-48' immediately...\n"
      ]
     },
     "metadata": {},
     "output_type": "display_data"
    },
    {
     "data": {
      "text/html": [
       "<pre style=\"white-space:pre;overflow-x:auto;line-height:normal;font-family:Menlo,'DejaVu Sans Mono',consolas,'Courier New',monospace\">22:28:36.881 | <span style=\"color: #008080; text-decoration-color: #008080\">INFO</span>    | Task run 'process_file-48' - Finished in state <span style=\"color: #008000; text-decoration-color: #008000\">Completed</span>()\n",
       "</pre>\n"
      ],
      "text/plain": [
       "22:28:36.881 | \u001b[36mINFO\u001b[0m    | Task run 'process_file-48' - Finished in state \u001b[32mCompleted\u001b[0m()\n"
      ]
     },
     "metadata": {},
     "output_type": "display_data"
    },
    {
     "data": {
      "text/html": [
       "<pre style=\"white-space:pre;overflow-x:auto;line-height:normal;font-family:Menlo,'DejaVu Sans Mono',consolas,'Courier New',monospace\">22:28:36.961 | <span style=\"color: #008080; text-decoration-color: #008080\">INFO</span>    | Flow run<span style=\"color: #800080; text-decoration-color: #800080\"> 'khaki-bat'</span> - Created task run 'write_gcs-48' for task 'write_gcs'\n",
       "</pre>\n"
      ],
      "text/plain": [
       "22:28:36.961 | \u001b[36mINFO\u001b[0m    | Flow run\u001b[35m 'khaki-bat'\u001b[0m - Created task run 'write_gcs-48' for task 'write_gcs'\n"
      ]
     },
     "metadata": {},
     "output_type": "display_data"
    },
    {
     "data": {
      "text/html": [
       "<pre style=\"white-space:pre;overflow-x:auto;line-height:normal;font-family:Menlo,'DejaVu Sans Mono',consolas,'Courier New',monospace\">22:28:36.964 | <span style=\"color: #008080; text-decoration-color: #008080\">INFO</span>    | Flow run<span style=\"color: #800080; text-decoration-color: #800080\"> 'khaki-bat'</span> - Executing 'write_gcs-48' immediately...\n",
       "</pre>\n"
      ],
      "text/plain": [
       "22:28:36.964 | \u001b[36mINFO\u001b[0m    | Flow run\u001b[35m 'khaki-bat'\u001b[0m - Executing 'write_gcs-48' immediately...\n"
      ]
     },
     "metadata": {},
     "output_type": "display_data"
    },
    {
     "name": "stdout",
     "output_type": "stream",
     "text": [
      "Csv file size is 1908299\n"
     ]
    },
    {
     "data": {
      "text/html": [
       "<pre style=\"white-space:pre;overflow-x:auto;line-height:normal;font-family:Menlo,'DejaVu Sans Mono',consolas,'Courier New',monospace\">22:28:38.913 | <span style=\"color: #008080; text-decoration-color: #008080\">INFO</span>    | Task run 'write_gcs-48' - Finished in state <span style=\"color: #008000; text-decoration-color: #008000\">Completed</span>()\n",
       "</pre>\n"
      ],
      "text/plain": [
       "22:28:38.913 | \u001b[36mINFO\u001b[0m    | Task run 'write_gcs-48' - Finished in state \u001b[32mCompleted\u001b[0m()\n"
      ]
     },
     "metadata": {},
     "output_type": "display_data"
    },
    {
     "name": "stdout",
     "output_type": "stream",
     "text": [
      "trip_19835.csv\n"
     ]
    },
    {
     "data": {
      "text/html": [
       "<pre style=\"white-space:pre;overflow-x:auto;line-height:normal;font-family:Menlo,'DejaVu Sans Mono',consolas,'Courier New',monospace\">22:28:38.984 | <span style=\"color: #008080; text-decoration-color: #008080\">INFO</span>    | Flow run<span style=\"color: #800080; text-decoration-color: #800080\"> 'khaki-bat'</span> - Created task run 'process_file-49' for task 'process_file'\n",
       "</pre>\n"
      ],
      "text/plain": [
       "22:28:38.984 | \u001b[36mINFO\u001b[0m    | Flow run\u001b[35m 'khaki-bat'\u001b[0m - Created task run 'process_file-49' for task 'process_file'\n"
      ]
     },
     "metadata": {},
     "output_type": "display_data"
    },
    {
     "data": {
      "text/html": [
       "<pre style=\"white-space:pre;overflow-x:auto;line-height:normal;font-family:Menlo,'DejaVu Sans Mono',consolas,'Courier New',monospace\">22:28:38.990 | <span style=\"color: #008080; text-decoration-color: #008080\">INFO</span>    | Flow run<span style=\"color: #800080; text-decoration-color: #800080\"> 'khaki-bat'</span> - Executing 'process_file-49' immediately...\n",
       "</pre>\n"
      ],
      "text/plain": [
       "22:28:38.990 | \u001b[36mINFO\u001b[0m    | Flow run\u001b[35m 'khaki-bat'\u001b[0m - Executing 'process_file-49' immediately...\n"
      ]
     },
     "metadata": {},
     "output_type": "display_data"
    },
    {
     "data": {
      "text/html": [
       "<pre style=\"white-space:pre;overflow-x:auto;line-height:normal;font-family:Menlo,'DejaVu Sans Mono',consolas,'Courier New',monospace\">22:28:39.213 | <span style=\"color: #008080; text-decoration-color: #008080\">INFO</span>    | Task run 'process_file-49' - Finished in state <span style=\"color: #008000; text-decoration-color: #008000\">Completed</span>()\n",
       "</pre>\n"
      ],
      "text/plain": [
       "22:28:39.213 | \u001b[36mINFO\u001b[0m    | Task run 'process_file-49' - Finished in state \u001b[32mCompleted\u001b[0m()\n"
      ]
     },
     "metadata": {},
     "output_type": "display_data"
    },
    {
     "data": {
      "text/html": [
       "<pre style=\"white-space:pre;overflow-x:auto;line-height:normal;font-family:Menlo,'DejaVu Sans Mono',consolas,'Courier New',monospace\">22:28:39.287 | <span style=\"color: #008080; text-decoration-color: #008080\">INFO</span>    | Flow run<span style=\"color: #800080; text-decoration-color: #800080\"> 'khaki-bat'</span> - Created task run 'write_gcs-49' for task 'write_gcs'\n",
       "</pre>\n"
      ],
      "text/plain": [
       "22:28:39.287 | \u001b[36mINFO\u001b[0m    | Flow run\u001b[35m 'khaki-bat'\u001b[0m - Created task run 'write_gcs-49' for task 'write_gcs'\n"
      ]
     },
     "metadata": {},
     "output_type": "display_data"
    },
    {
     "data": {
      "text/html": [
       "<pre style=\"white-space:pre;overflow-x:auto;line-height:normal;font-family:Menlo,'DejaVu Sans Mono',consolas,'Courier New',monospace\">22:28:39.291 | <span style=\"color: #008080; text-decoration-color: #008080\">INFO</span>    | Flow run<span style=\"color: #800080; text-decoration-color: #800080\"> 'khaki-bat'</span> - Executing 'write_gcs-49' immediately...\n",
       "</pre>\n"
      ],
      "text/plain": [
       "22:28:39.291 | \u001b[36mINFO\u001b[0m    | Flow run\u001b[35m 'khaki-bat'\u001b[0m - Executing 'write_gcs-49' immediately...\n"
      ]
     },
     "metadata": {},
     "output_type": "display_data"
    },
    {
     "name": "stdout",
     "output_type": "stream",
     "text": [
      "Csv file size is 1690831\n"
     ]
    },
    {
     "data": {
      "text/html": [
       "<pre style=\"white-space:pre;overflow-x:auto;line-height:normal;font-family:Menlo,'DejaVu Sans Mono',consolas,'Courier New',monospace\">22:28:41.128 | <span style=\"color: #008080; text-decoration-color: #008080\">INFO</span>    | Task run 'write_gcs-49' - Finished in state <span style=\"color: #008000; text-decoration-color: #008000\">Completed</span>()\n",
       "</pre>\n"
      ],
      "text/plain": [
       "22:28:41.128 | \u001b[36mINFO\u001b[0m    | Task run 'write_gcs-49' - Finished in state \u001b[32mCompleted\u001b[0m()\n"
      ]
     },
     "metadata": {},
     "output_type": "display_data"
    },
    {
     "name": "stdout",
     "output_type": "stream",
     "text": [
      "size_19835.csv\n"
     ]
    },
    {
     "data": {
      "text/html": [
       "<pre style=\"white-space:pre;overflow-x:auto;line-height:normal;font-family:Menlo,'DejaVu Sans Mono',consolas,'Courier New',monospace\">22:28:41.236 | <span style=\"color: #008080; text-decoration-color: #008080\">INFO</span>    | Flow run<span style=\"color: #800080; text-decoration-color: #800080\"> 'khaki-bat'</span> - Created task run 'process_file-50' for task 'process_file'\n",
       "</pre>\n"
      ],
      "text/plain": [
       "22:28:41.236 | \u001b[36mINFO\u001b[0m    | Flow run\u001b[35m 'khaki-bat'\u001b[0m - Created task run 'process_file-50' for task 'process_file'\n"
      ]
     },
     "metadata": {},
     "output_type": "display_data"
    },
    {
     "data": {
      "text/html": [
       "<pre style=\"white-space:pre;overflow-x:auto;line-height:normal;font-family:Menlo,'DejaVu Sans Mono',consolas,'Courier New',monospace\">22:28:41.241 | <span style=\"color: #008080; text-decoration-color: #008080\">INFO</span>    | Flow run<span style=\"color: #800080; text-decoration-color: #800080\"> 'khaki-bat'</span> - Executing 'process_file-50' immediately...\n",
       "</pre>\n"
      ],
      "text/plain": [
       "22:28:41.241 | \u001b[36mINFO\u001b[0m    | Flow run\u001b[35m 'khaki-bat'\u001b[0m - Executing 'process_file-50' immediately...\n"
      ]
     },
     "metadata": {},
     "output_type": "display_data"
    },
    {
     "data": {
      "text/html": [
       "<pre style=\"white-space:pre;overflow-x:auto;line-height:normal;font-family:Menlo,'DejaVu Sans Mono',consolas,'Courier New',monospace\">22:28:41.494 | <span style=\"color: #008080; text-decoration-color: #008080\">INFO</span>    | Task run 'process_file-50' - Finished in state <span style=\"color: #008000; text-decoration-color: #008000\">Completed</span>()\n",
       "</pre>\n"
      ],
      "text/plain": [
       "22:28:41.494 | \u001b[36mINFO\u001b[0m    | Task run 'process_file-50' - Finished in state \u001b[32mCompleted\u001b[0m()\n"
      ]
     },
     "metadata": {},
     "output_type": "display_data"
    },
    {
     "data": {
      "text/html": [
       "<pre style=\"white-space:pre;overflow-x:auto;line-height:normal;font-family:Menlo,'DejaVu Sans Mono',consolas,'Courier New',monospace\">22:28:41.559 | <span style=\"color: #008080; text-decoration-color: #008080\">INFO</span>    | Flow run<span style=\"color: #800080; text-decoration-color: #800080\"> 'khaki-bat'</span> - Created task run 'write_gcs-50' for task 'write_gcs'\n",
       "</pre>\n"
      ],
      "text/plain": [
       "22:28:41.559 | \u001b[36mINFO\u001b[0m    | Flow run\u001b[35m 'khaki-bat'\u001b[0m - Created task run 'write_gcs-50' for task 'write_gcs'\n"
      ]
     },
     "metadata": {},
     "output_type": "display_data"
    },
    {
     "data": {
      "text/html": [
       "<pre style=\"white-space:pre;overflow-x:auto;line-height:normal;font-family:Menlo,'DejaVu Sans Mono',consolas,'Courier New',monospace\">22:28:41.562 | <span style=\"color: #008080; text-decoration-color: #008080\">INFO</span>    | Flow run<span style=\"color: #800080; text-decoration-color: #800080\"> 'khaki-bat'</span> - Executing 'write_gcs-50' immediately...\n",
       "</pre>\n"
      ],
      "text/plain": [
       "22:28:41.562 | \u001b[36mINFO\u001b[0m    | Flow run\u001b[35m 'khaki-bat'\u001b[0m - Executing 'write_gcs-50' immediately...\n"
      ]
     },
     "metadata": {},
     "output_type": "display_data"
    },
    {
     "name": "stdout",
     "output_type": "stream",
     "text": [
      "Csv file size is 2812423\n"
     ]
    },
    {
     "data": {
      "text/html": [
       "<pre style=\"white-space:pre;overflow-x:auto;line-height:normal;font-family:Menlo,'DejaVu Sans Mono',consolas,'Courier New',monospace\">22:28:44.241 | <span style=\"color: #008080; text-decoration-color: #008080\">INFO</span>    | Task run 'write_gcs-50' - Finished in state <span style=\"color: #008000; text-decoration-color: #008000\">Completed</span>()\n",
       "</pre>\n"
      ],
      "text/plain": [
       "22:28:44.241 | \u001b[36mINFO\u001b[0m    | Task run 'write_gcs-50' - Finished in state \u001b[32mCompleted\u001b[0m()\n"
      ]
     },
     "metadata": {},
     "output_type": "display_data"
    },
    {
     "name": "stdout",
     "output_type": "stream",
     "text": [
      "catch_19836.csv\n"
     ]
    },
    {
     "data": {
      "text/html": [
       "<pre style=\"white-space:pre;overflow-x:auto;line-height:normal;font-family:Menlo,'DejaVu Sans Mono',consolas,'Courier New',monospace\">22:28:44.311 | <span style=\"color: #008080; text-decoration-color: #008080\">INFO</span>    | Flow run<span style=\"color: #800080; text-decoration-color: #800080\"> 'khaki-bat'</span> - Created task run 'process_file-51' for task 'process_file'\n",
       "</pre>\n"
      ],
      "text/plain": [
       "22:28:44.311 | \u001b[36mINFO\u001b[0m    | Flow run\u001b[35m 'khaki-bat'\u001b[0m - Created task run 'process_file-51' for task 'process_file'\n"
      ]
     },
     "metadata": {},
     "output_type": "display_data"
    },
    {
     "data": {
      "text/html": [
       "<pre style=\"white-space:pre;overflow-x:auto;line-height:normal;font-family:Menlo,'DejaVu Sans Mono',consolas,'Courier New',monospace\">22:28:44.315 | <span style=\"color: #008080; text-decoration-color: #008080\">INFO</span>    | Flow run<span style=\"color: #800080; text-decoration-color: #800080\"> 'khaki-bat'</span> - Executing 'process_file-51' immediately...\n",
       "</pre>\n"
      ],
      "text/plain": [
       "22:28:44.315 | \u001b[36mINFO\u001b[0m    | Flow run\u001b[35m 'khaki-bat'\u001b[0m - Executing 'process_file-51' immediately...\n"
      ]
     },
     "metadata": {},
     "output_type": "display_data"
    },
    {
     "data": {
      "text/html": [
       "<pre style=\"white-space:pre;overflow-x:auto;line-height:normal;font-family:Menlo,'DejaVu Sans Mono',consolas,'Courier New',monospace\">22:28:44.520 | <span style=\"color: #008080; text-decoration-color: #008080\">INFO</span>    | Task run 'process_file-51' - Finished in state <span style=\"color: #008000; text-decoration-color: #008000\">Completed</span>()\n",
       "</pre>\n"
      ],
      "text/plain": [
       "22:28:44.520 | \u001b[36mINFO\u001b[0m    | Task run 'process_file-51' - Finished in state \u001b[32mCompleted\u001b[0m()\n"
      ]
     },
     "metadata": {},
     "output_type": "display_data"
    },
    {
     "data": {
      "text/html": [
       "<pre style=\"white-space:pre;overflow-x:auto;line-height:normal;font-family:Menlo,'DejaVu Sans Mono',consolas,'Courier New',monospace\">22:28:44.593 | <span style=\"color: #008080; text-decoration-color: #008080\">INFO</span>    | Flow run<span style=\"color: #800080; text-decoration-color: #800080\"> 'khaki-bat'</span> - Created task run 'write_gcs-51' for task 'write_gcs'\n",
       "</pre>\n"
      ],
      "text/plain": [
       "22:28:44.593 | \u001b[36mINFO\u001b[0m    | Flow run\u001b[35m 'khaki-bat'\u001b[0m - Created task run 'write_gcs-51' for task 'write_gcs'\n"
      ]
     },
     "metadata": {},
     "output_type": "display_data"
    },
    {
     "data": {
      "text/html": [
       "<pre style=\"white-space:pre;overflow-x:auto;line-height:normal;font-family:Menlo,'DejaVu Sans Mono',consolas,'Courier New',monospace\">22:28:44.597 | <span style=\"color: #008080; text-decoration-color: #008080\">INFO</span>    | Flow run<span style=\"color: #800080; text-decoration-color: #800080\"> 'khaki-bat'</span> - Executing 'write_gcs-51' immediately...\n",
       "</pre>\n"
      ],
      "text/plain": [
       "22:28:44.597 | \u001b[36mINFO\u001b[0m    | Flow run\u001b[35m 'khaki-bat'\u001b[0m - Executing 'write_gcs-51' immediately...\n"
      ]
     },
     "metadata": {},
     "output_type": "display_data"
    },
    {
     "name": "stdout",
     "output_type": "stream",
     "text": [
      "Csv file size is 677453\n"
     ]
    },
    {
     "data": {
      "text/html": [
       "<pre style=\"white-space:pre;overflow-x:auto;line-height:normal;font-family:Menlo,'DejaVu Sans Mono',consolas,'Courier New',monospace\">22:28:45.686 | <span style=\"color: #008080; text-decoration-color: #008080\">INFO</span>    | Task run 'write_gcs-51' - Finished in state <span style=\"color: #008000; text-decoration-color: #008000\">Completed</span>()\n",
       "</pre>\n"
      ],
      "text/plain": [
       "22:28:45.686 | \u001b[36mINFO\u001b[0m    | Task run 'write_gcs-51' - Finished in state \u001b[32mCompleted\u001b[0m()\n"
      ]
     },
     "metadata": {},
     "output_type": "display_data"
    },
    {
     "name": "stdout",
     "output_type": "stream",
     "text": [
      "trip_19836.csv\n"
     ]
    },
    {
     "data": {
      "text/html": [
       "<pre style=\"white-space:pre;overflow-x:auto;line-height:normal;font-family:Menlo,'DejaVu Sans Mono',consolas,'Courier New',monospace\">22:28:45.765 | <span style=\"color: #008080; text-decoration-color: #008080\">INFO</span>    | Flow run<span style=\"color: #800080; text-decoration-color: #800080\"> 'khaki-bat'</span> - Created task run 'process_file-52' for task 'process_file'\n",
       "</pre>\n"
      ],
      "text/plain": [
       "22:28:45.765 | \u001b[36mINFO\u001b[0m    | Flow run\u001b[35m 'khaki-bat'\u001b[0m - Created task run 'process_file-52' for task 'process_file'\n"
      ]
     },
     "metadata": {},
     "output_type": "display_data"
    },
    {
     "data": {
      "text/html": [
       "<pre style=\"white-space:pre;overflow-x:auto;line-height:normal;font-family:Menlo,'DejaVu Sans Mono',consolas,'Courier New',monospace\">22:28:45.770 | <span style=\"color: #008080; text-decoration-color: #008080\">INFO</span>    | Flow run<span style=\"color: #800080; text-decoration-color: #800080\"> 'khaki-bat'</span> - Executing 'process_file-52' immediately...\n",
       "</pre>\n"
      ],
      "text/plain": [
       "22:28:45.770 | \u001b[36mINFO\u001b[0m    | Flow run\u001b[35m 'khaki-bat'\u001b[0m - Executing 'process_file-52' immediately...\n"
      ]
     },
     "metadata": {},
     "output_type": "display_data"
    },
    {
     "data": {
      "text/html": [
       "<pre style=\"white-space:pre;overflow-x:auto;line-height:normal;font-family:Menlo,'DejaVu Sans Mono',consolas,'Courier New',monospace\">22:28:45.966 | <span style=\"color: #008080; text-decoration-color: #008080\">INFO</span>    | Task run 'process_file-52' - Finished in state <span style=\"color: #008000; text-decoration-color: #008000\">Completed</span>()\n",
       "</pre>\n"
      ],
      "text/plain": [
       "22:28:45.966 | \u001b[36mINFO\u001b[0m    | Task run 'process_file-52' - Finished in state \u001b[32mCompleted\u001b[0m()\n"
      ]
     },
     "metadata": {},
     "output_type": "display_data"
    },
    {
     "data": {
      "text/html": [
       "<pre style=\"white-space:pre;overflow-x:auto;line-height:normal;font-family:Menlo,'DejaVu Sans Mono',consolas,'Courier New',monospace\">22:28:46.038 | <span style=\"color: #008080; text-decoration-color: #008080\">INFO</span>    | Flow run<span style=\"color: #800080; text-decoration-color: #800080\"> 'khaki-bat'</span> - Created task run 'write_gcs-52' for task 'write_gcs'\n",
       "</pre>\n"
      ],
      "text/plain": [
       "22:28:46.038 | \u001b[36mINFO\u001b[0m    | Flow run\u001b[35m 'khaki-bat'\u001b[0m - Created task run 'write_gcs-52' for task 'write_gcs'\n"
      ]
     },
     "metadata": {},
     "output_type": "display_data"
    },
    {
     "data": {
      "text/html": [
       "<pre style=\"white-space:pre;overflow-x:auto;line-height:normal;font-family:Menlo,'DejaVu Sans Mono',consolas,'Courier New',monospace\">22:28:46.042 | <span style=\"color: #008080; text-decoration-color: #008080\">INFO</span>    | Flow run<span style=\"color: #800080; text-decoration-color: #800080\"> 'khaki-bat'</span> - Executing 'write_gcs-52' immediately...\n",
       "</pre>\n"
      ],
      "text/plain": [
       "22:28:46.042 | \u001b[36mINFO\u001b[0m    | Flow run\u001b[35m 'khaki-bat'\u001b[0m - Executing 'write_gcs-52' immediately...\n"
      ]
     },
     "metadata": {},
     "output_type": "display_data"
    },
    {
     "name": "stdout",
     "output_type": "stream",
     "text": [
      "Csv file size is 680510\n"
     ]
    },
    {
     "data": {
      "text/html": [
       "<pre style=\"white-space:pre;overflow-x:auto;line-height:normal;font-family:Menlo,'DejaVu Sans Mono',consolas,'Courier New',monospace\">22:28:47.200 | <span style=\"color: #008080; text-decoration-color: #008080\">INFO</span>    | Task run 'write_gcs-52' - Finished in state <span style=\"color: #008000; text-decoration-color: #008000\">Completed</span>()\n",
       "</pre>\n"
      ],
      "text/plain": [
       "22:28:47.200 | \u001b[36mINFO\u001b[0m    | Task run 'write_gcs-52' - Finished in state \u001b[32mCompleted\u001b[0m()\n"
      ]
     },
     "metadata": {},
     "output_type": "display_data"
    },
    {
     "name": "stdout",
     "output_type": "stream",
     "text": [
      "size_19836.csv\n"
     ]
    },
    {
     "data": {
      "text/html": [
       "<pre style=\"white-space:pre;overflow-x:auto;line-height:normal;font-family:Menlo,'DejaVu Sans Mono',consolas,'Courier New',monospace\">22:28:47.282 | <span style=\"color: #008080; text-decoration-color: #008080\">INFO</span>    | Flow run<span style=\"color: #800080; text-decoration-color: #800080\"> 'khaki-bat'</span> - Created task run 'process_file-53' for task 'process_file'\n",
       "</pre>\n"
      ],
      "text/plain": [
       "22:28:47.282 | \u001b[36mINFO\u001b[0m    | Flow run\u001b[35m 'khaki-bat'\u001b[0m - Created task run 'process_file-53' for task 'process_file'\n"
      ]
     },
     "metadata": {},
     "output_type": "display_data"
    },
    {
     "data": {
      "text/html": [
       "<pre style=\"white-space:pre;overflow-x:auto;line-height:normal;font-family:Menlo,'DejaVu Sans Mono',consolas,'Courier New',monospace\">22:28:47.287 | <span style=\"color: #008080; text-decoration-color: #008080\">INFO</span>    | Flow run<span style=\"color: #800080; text-decoration-color: #800080\"> 'khaki-bat'</span> - Executing 'process_file-53' immediately...\n",
       "</pre>\n"
      ],
      "text/plain": [
       "22:28:47.287 | \u001b[36mINFO\u001b[0m    | Flow run\u001b[35m 'khaki-bat'\u001b[0m - Executing 'process_file-53' immediately...\n"
      ]
     },
     "metadata": {},
     "output_type": "display_data"
    },
    {
     "data": {
      "text/html": [
       "<pre style=\"white-space:pre;overflow-x:auto;line-height:normal;font-family:Menlo,'DejaVu Sans Mono',consolas,'Courier New',monospace\">22:28:47.546 | <span style=\"color: #008080; text-decoration-color: #008080\">INFO</span>    | Task run 'process_file-53' - Finished in state <span style=\"color: #008000; text-decoration-color: #008000\">Completed</span>()\n",
       "</pre>\n"
      ],
      "text/plain": [
       "22:28:47.546 | \u001b[36mINFO\u001b[0m    | Task run 'process_file-53' - Finished in state \u001b[32mCompleted\u001b[0m()\n"
      ]
     },
     "metadata": {},
     "output_type": "display_data"
    },
    {
     "data": {
      "text/html": [
       "<pre style=\"white-space:pre;overflow-x:auto;line-height:normal;font-family:Menlo,'DejaVu Sans Mono',consolas,'Courier New',monospace\">22:28:47.668 | <span style=\"color: #008080; text-decoration-color: #008080\">INFO</span>    | Flow run<span style=\"color: #800080; text-decoration-color: #800080\"> 'khaki-bat'</span> - Created task run 'write_gcs-53' for task 'write_gcs'\n",
       "</pre>\n"
      ],
      "text/plain": [
       "22:28:47.668 | \u001b[36mINFO\u001b[0m    | Flow run\u001b[35m 'khaki-bat'\u001b[0m - Created task run 'write_gcs-53' for task 'write_gcs'\n"
      ]
     },
     "metadata": {},
     "output_type": "display_data"
    },
    {
     "data": {
      "text/html": [
       "<pre style=\"white-space:pre;overflow-x:auto;line-height:normal;font-family:Menlo,'DejaVu Sans Mono',consolas,'Courier New',monospace\">22:28:47.671 | <span style=\"color: #008080; text-decoration-color: #008080\">INFO</span>    | Flow run<span style=\"color: #800080; text-decoration-color: #800080\"> 'khaki-bat'</span> - Executing 'write_gcs-53' immediately...\n",
       "</pre>\n"
      ],
      "text/plain": [
       "22:28:47.671 | \u001b[36mINFO\u001b[0m    | Flow run\u001b[35m 'khaki-bat'\u001b[0m - Executing 'write_gcs-53' immediately...\n"
      ]
     },
     "metadata": {},
     "output_type": "display_data"
    },
    {
     "name": "stdout",
     "output_type": "stream",
     "text": [
      "Csv file size is 895457\n"
     ]
    },
    {
     "data": {
      "text/html": [
       "<pre style=\"white-space:pre;overflow-x:auto;line-height:normal;font-family:Menlo,'DejaVu Sans Mono',consolas,'Courier New',monospace\">22:28:48.931 | <span style=\"color: #008080; text-decoration-color: #008080\">INFO</span>    | Task run 'write_gcs-53' - Finished in state <span style=\"color: #008000; text-decoration-color: #008000\">Completed</span>()\n",
       "</pre>\n"
      ],
      "text/plain": [
       "22:28:48.931 | \u001b[36mINFO\u001b[0m    | Task run 'write_gcs-53' - Finished in state \u001b[32mCompleted\u001b[0m()\n"
      ]
     },
     "metadata": {},
     "output_type": "display_data"
    },
    {
     "name": "stdout",
     "output_type": "stream",
     "text": [
      "catch_19841.csv\n"
     ]
    },
    {
     "data": {
      "text/html": [
       "<pre style=\"white-space:pre;overflow-x:auto;line-height:normal;font-family:Menlo,'DejaVu Sans Mono',consolas,'Courier New',monospace\">22:28:49.005 | <span style=\"color: #008080; text-decoration-color: #008080\">INFO</span>    | Flow run<span style=\"color: #800080; text-decoration-color: #800080\"> 'khaki-bat'</span> - Created task run 'process_file-54' for task 'process_file'\n",
       "</pre>\n"
      ],
      "text/plain": [
       "22:28:49.005 | \u001b[36mINFO\u001b[0m    | Flow run\u001b[35m 'khaki-bat'\u001b[0m - Created task run 'process_file-54' for task 'process_file'\n"
      ]
     },
     "metadata": {},
     "output_type": "display_data"
    },
    {
     "data": {
      "text/html": [
       "<pre style=\"white-space:pre;overflow-x:auto;line-height:normal;font-family:Menlo,'DejaVu Sans Mono',consolas,'Courier New',monospace\">22:28:49.011 | <span style=\"color: #008080; text-decoration-color: #008080\">INFO</span>    | Flow run<span style=\"color: #800080; text-decoration-color: #800080\"> 'khaki-bat'</span> - Executing 'process_file-54' immediately...\n",
       "</pre>\n"
      ],
      "text/plain": [
       "22:28:49.011 | \u001b[36mINFO\u001b[0m    | Flow run\u001b[35m 'khaki-bat'\u001b[0m - Executing 'process_file-54' immediately...\n"
      ]
     },
     "metadata": {},
     "output_type": "display_data"
    },
    {
     "data": {
      "text/html": [
       "<pre style=\"white-space:pre;overflow-x:auto;line-height:normal;font-family:Menlo,'DejaVu Sans Mono',consolas,'Courier New',monospace\">22:28:49.382 | <span style=\"color: #008080; text-decoration-color: #008080\">INFO</span>    | Task run 'process_file-54' - Finished in state <span style=\"color: #008000; text-decoration-color: #008000\">Completed</span>()\n",
       "</pre>\n"
      ],
      "text/plain": [
       "22:28:49.382 | \u001b[36mINFO\u001b[0m    | Task run 'process_file-54' - Finished in state \u001b[32mCompleted\u001b[0m()\n"
      ]
     },
     "metadata": {},
     "output_type": "display_data"
    },
    {
     "data": {
      "text/html": [
       "<pre style=\"white-space:pre;overflow-x:auto;line-height:normal;font-family:Menlo,'DejaVu Sans Mono',consolas,'Courier New',monospace\">22:28:49.458 | <span style=\"color: #008080; text-decoration-color: #008080\">INFO</span>    | Flow run<span style=\"color: #800080; text-decoration-color: #800080\"> 'khaki-bat'</span> - Created task run 'write_gcs-54' for task 'write_gcs'\n",
       "</pre>\n"
      ],
      "text/plain": [
       "22:28:49.458 | \u001b[36mINFO\u001b[0m    | Flow run\u001b[35m 'khaki-bat'\u001b[0m - Created task run 'write_gcs-54' for task 'write_gcs'\n"
      ]
     },
     "metadata": {},
     "output_type": "display_data"
    },
    {
     "data": {
      "text/html": [
       "<pre style=\"white-space:pre;overflow-x:auto;line-height:normal;font-family:Menlo,'DejaVu Sans Mono',consolas,'Courier New',monospace\">22:28:49.461 | <span style=\"color: #008080; text-decoration-color: #008080\">INFO</span>    | Flow run<span style=\"color: #800080; text-decoration-color: #800080\"> 'khaki-bat'</span> - Executing 'write_gcs-54' immediately...\n",
       "</pre>\n"
      ],
      "text/plain": [
       "22:28:49.461 | \u001b[36mINFO\u001b[0m    | Flow run\u001b[35m 'khaki-bat'\u001b[0m - Executing 'write_gcs-54' immediately...\n"
      ]
     },
     "metadata": {},
     "output_type": "display_data"
    },
    {
     "name": "stdout",
     "output_type": "stream",
     "text": [
      "Csv file size is 528842\n"
     ]
    },
    {
     "data": {
      "text/html": [
       "<pre style=\"white-space:pre;overflow-x:auto;line-height:normal;font-family:Menlo,'DejaVu Sans Mono',consolas,'Courier New',monospace\">22:28:50.465 | <span style=\"color: #008080; text-decoration-color: #008080\">INFO</span>    | Task run 'write_gcs-54' - Finished in state <span style=\"color: #008000; text-decoration-color: #008000\">Completed</span>()\n",
       "</pre>\n"
      ],
      "text/plain": [
       "22:28:50.465 | \u001b[36mINFO\u001b[0m    | Task run 'write_gcs-54' - Finished in state \u001b[32mCompleted\u001b[0m()\n"
      ]
     },
     "metadata": {},
     "output_type": "display_data"
    },
    {
     "name": "stdout",
     "output_type": "stream",
     "text": [
      "trip_19841.csv\n"
     ]
    },
    {
     "data": {
      "text/html": [
       "<pre style=\"white-space:pre;overflow-x:auto;line-height:normal;font-family:Menlo,'DejaVu Sans Mono',consolas,'Courier New',monospace\">22:28:50.543 | <span style=\"color: #008080; text-decoration-color: #008080\">INFO</span>    | Flow run<span style=\"color: #800080; text-decoration-color: #800080\"> 'khaki-bat'</span> - Created task run 'process_file-55' for task 'process_file'\n",
       "</pre>\n"
      ],
      "text/plain": [
       "22:28:50.543 | \u001b[36mINFO\u001b[0m    | Flow run\u001b[35m 'khaki-bat'\u001b[0m - Created task run 'process_file-55' for task 'process_file'\n"
      ]
     },
     "metadata": {},
     "output_type": "display_data"
    },
    {
     "data": {
      "text/html": [
       "<pre style=\"white-space:pre;overflow-x:auto;line-height:normal;font-family:Menlo,'DejaVu Sans Mono',consolas,'Courier New',monospace\">22:28:50.550 | <span style=\"color: #008080; text-decoration-color: #008080\">INFO</span>    | Flow run<span style=\"color: #800080; text-decoration-color: #800080\"> 'khaki-bat'</span> - Executing 'process_file-55' immediately...\n",
       "</pre>\n"
      ],
      "text/plain": [
       "22:28:50.550 | \u001b[36mINFO\u001b[0m    | Flow run\u001b[35m 'khaki-bat'\u001b[0m - Executing 'process_file-55' immediately...\n"
      ]
     },
     "metadata": {},
     "output_type": "display_data"
    },
    {
     "data": {
      "text/html": [
       "<pre style=\"white-space:pre;overflow-x:auto;line-height:normal;font-family:Menlo,'DejaVu Sans Mono',consolas,'Courier New',monospace\">22:28:50.783 | <span style=\"color: #008080; text-decoration-color: #008080\">INFO</span>    | Task run 'process_file-55' - Finished in state <span style=\"color: #008000; text-decoration-color: #008000\">Completed</span>()\n",
       "</pre>\n"
      ],
      "text/plain": [
       "22:28:50.783 | \u001b[36mINFO\u001b[0m    | Task run 'process_file-55' - Finished in state \u001b[32mCompleted\u001b[0m()\n"
      ]
     },
     "metadata": {},
     "output_type": "display_data"
    },
    {
     "data": {
      "text/html": [
       "<pre style=\"white-space:pre;overflow-x:auto;line-height:normal;font-family:Menlo,'DejaVu Sans Mono',consolas,'Courier New',monospace\">22:28:50.851 | <span style=\"color: #008080; text-decoration-color: #008080\">INFO</span>    | Flow run<span style=\"color: #800080; text-decoration-color: #800080\"> 'khaki-bat'</span> - Created task run 'write_gcs-55' for task 'write_gcs'\n",
       "</pre>\n"
      ],
      "text/plain": [
       "22:28:50.851 | \u001b[36mINFO\u001b[0m    | Flow run\u001b[35m 'khaki-bat'\u001b[0m - Created task run 'write_gcs-55' for task 'write_gcs'\n"
      ]
     },
     "metadata": {},
     "output_type": "display_data"
    },
    {
     "data": {
      "text/html": [
       "<pre style=\"white-space:pre;overflow-x:auto;line-height:normal;font-family:Menlo,'DejaVu Sans Mono',consolas,'Courier New',monospace\">22:28:50.854 | <span style=\"color: #008080; text-decoration-color: #008080\">INFO</span>    | Flow run<span style=\"color: #800080; text-decoration-color: #800080\"> 'khaki-bat'</span> - Executing 'write_gcs-55' immediately...\n",
       "</pre>\n"
      ],
      "text/plain": [
       "22:28:50.854 | \u001b[36mINFO\u001b[0m    | Flow run\u001b[35m 'khaki-bat'\u001b[0m - Executing 'write_gcs-55' immediately...\n"
      ]
     },
     "metadata": {},
     "output_type": "display_data"
    },
    {
     "name": "stdout",
     "output_type": "stream",
     "text": [
      "Csv file size is 545464\n"
     ]
    },
    {
     "data": {
      "text/html": [
       "<pre style=\"white-space:pre;overflow-x:auto;line-height:normal;font-family:Menlo,'DejaVu Sans Mono',consolas,'Courier New',monospace\">22:28:51.813 | <span style=\"color: #008080; text-decoration-color: #008080\">INFO</span>    | Task run 'write_gcs-55' - Finished in state <span style=\"color: #008000; text-decoration-color: #008000\">Completed</span>()\n",
       "</pre>\n"
      ],
      "text/plain": [
       "22:28:51.813 | \u001b[36mINFO\u001b[0m    | Task run 'write_gcs-55' - Finished in state \u001b[32mCompleted\u001b[0m()\n"
      ]
     },
     "metadata": {},
     "output_type": "display_data"
    },
    {
     "name": "stdout",
     "output_type": "stream",
     "text": [
      "size_19841.csv\n"
     ]
    },
    {
     "data": {
      "text/html": [
       "<pre style=\"white-space:pre;overflow-x:auto;line-height:normal;font-family:Menlo,'DejaVu Sans Mono',consolas,'Courier New',monospace\">22:28:51.897 | <span style=\"color: #008080; text-decoration-color: #008080\">INFO</span>    | Flow run<span style=\"color: #800080; text-decoration-color: #800080\"> 'khaki-bat'</span> - Created task run 'process_file-56' for task 'process_file'\n",
       "</pre>\n"
      ],
      "text/plain": [
       "22:28:51.897 | \u001b[36mINFO\u001b[0m    | Flow run\u001b[35m 'khaki-bat'\u001b[0m - Created task run 'process_file-56' for task 'process_file'\n"
      ]
     },
     "metadata": {},
     "output_type": "display_data"
    },
    {
     "data": {
      "text/html": [
       "<pre style=\"white-space:pre;overflow-x:auto;line-height:normal;font-family:Menlo,'DejaVu Sans Mono',consolas,'Courier New',monospace\">22:28:51.901 | <span style=\"color: #008080; text-decoration-color: #008080\">INFO</span>    | Flow run<span style=\"color: #800080; text-decoration-color: #800080\"> 'khaki-bat'</span> - Executing 'process_file-56' immediately...\n",
       "</pre>\n"
      ],
      "text/plain": [
       "22:28:51.901 | \u001b[36mINFO\u001b[0m    | Flow run\u001b[35m 'khaki-bat'\u001b[0m - Executing 'process_file-56' immediately...\n"
      ]
     },
     "metadata": {},
     "output_type": "display_data"
    },
    {
     "data": {
      "text/html": [
       "<pre style=\"white-space:pre;overflow-x:auto;line-height:normal;font-family:Menlo,'DejaVu Sans Mono',consolas,'Courier New',monospace\">22:28:52.333 | <span style=\"color: #008080; text-decoration-color: #008080\">INFO</span>    | Task run 'process_file-56' - Finished in state <span style=\"color: #008000; text-decoration-color: #008000\">Completed</span>()\n",
       "</pre>\n"
      ],
      "text/plain": [
       "22:28:52.333 | \u001b[36mINFO\u001b[0m    | Task run 'process_file-56' - Finished in state \u001b[32mCompleted\u001b[0m()\n"
      ]
     },
     "metadata": {},
     "output_type": "display_data"
    },
    {
     "data": {
      "text/html": [
       "<pre style=\"white-space:pre;overflow-x:auto;line-height:normal;font-family:Menlo,'DejaVu Sans Mono',consolas,'Courier New',monospace\">22:28:52.401 | <span style=\"color: #008080; text-decoration-color: #008080\">INFO</span>    | Flow run<span style=\"color: #800080; text-decoration-color: #800080\"> 'khaki-bat'</span> - Created task run 'write_gcs-56' for task 'write_gcs'\n",
       "</pre>\n"
      ],
      "text/plain": [
       "22:28:52.401 | \u001b[36mINFO\u001b[0m    | Flow run\u001b[35m 'khaki-bat'\u001b[0m - Created task run 'write_gcs-56' for task 'write_gcs'\n"
      ]
     },
     "metadata": {},
     "output_type": "display_data"
    },
    {
     "data": {
      "text/html": [
       "<pre style=\"white-space:pre;overflow-x:auto;line-height:normal;font-family:Menlo,'DejaVu Sans Mono',consolas,'Courier New',monospace\">22:28:52.403 | <span style=\"color: #008080; text-decoration-color: #008080\">INFO</span>    | Flow run<span style=\"color: #800080; text-decoration-color: #800080\"> 'khaki-bat'</span> - Executing 'write_gcs-56' immediately...\n",
       "</pre>\n"
      ],
      "text/plain": [
       "22:28:52.403 | \u001b[36mINFO\u001b[0m    | Flow run\u001b[35m 'khaki-bat'\u001b[0m - Executing 'write_gcs-56' immediately...\n"
      ]
     },
     "metadata": {},
     "output_type": "display_data"
    },
    {
     "name": "stdout",
     "output_type": "stream",
     "text": [
      "Csv file size is 541023\n"
     ]
    },
    {
     "data": {
      "text/html": [
       "<pre style=\"white-space:pre;overflow-x:auto;line-height:normal;font-family:Menlo,'DejaVu Sans Mono',consolas,'Courier New',monospace\">22:28:53.402 | <span style=\"color: #008080; text-decoration-color: #008080\">INFO</span>    | Task run 'write_gcs-56' - Finished in state <span style=\"color: #008000; text-decoration-color: #008000\">Completed</span>()\n",
       "</pre>\n"
      ],
      "text/plain": [
       "22:28:53.402 | \u001b[36mINFO\u001b[0m    | Task run 'write_gcs-56' - Finished in state \u001b[32mCompleted\u001b[0m()\n"
      ]
     },
     "metadata": {},
     "output_type": "display_data"
    },
    {
     "name": "stdout",
     "output_type": "stream",
     "text": [
      "catch_19842.csv\n"
     ]
    },
    {
     "data": {
      "text/html": [
       "<pre style=\"white-space:pre;overflow-x:auto;line-height:normal;font-family:Menlo,'DejaVu Sans Mono',consolas,'Courier New',monospace\">22:28:53.486 | <span style=\"color: #008080; text-decoration-color: #008080\">INFO</span>    | Flow run<span style=\"color: #800080; text-decoration-color: #800080\"> 'khaki-bat'</span> - Created task run 'process_file-57' for task 'process_file'\n",
       "</pre>\n"
      ],
      "text/plain": [
       "22:28:53.486 | \u001b[36mINFO\u001b[0m    | Flow run\u001b[35m 'khaki-bat'\u001b[0m - Created task run 'process_file-57' for task 'process_file'\n"
      ]
     },
     "metadata": {},
     "output_type": "display_data"
    },
    {
     "data": {
      "text/html": [
       "<pre style=\"white-space:pre;overflow-x:auto;line-height:normal;font-family:Menlo,'DejaVu Sans Mono',consolas,'Courier New',monospace\">22:28:53.491 | <span style=\"color: #008080; text-decoration-color: #008080\">INFO</span>    | Flow run<span style=\"color: #800080; text-decoration-color: #800080\"> 'khaki-bat'</span> - Executing 'process_file-57' immediately...\n",
       "</pre>\n"
      ],
      "text/plain": [
       "22:28:53.491 | \u001b[36mINFO\u001b[0m    | Flow run\u001b[35m 'khaki-bat'\u001b[0m - Executing 'process_file-57' immediately...\n"
      ]
     },
     "metadata": {},
     "output_type": "display_data"
    },
    {
     "data": {
      "text/html": [
       "<pre style=\"white-space:pre;overflow-x:auto;line-height:normal;font-family:Menlo,'DejaVu Sans Mono',consolas,'Courier New',monospace\">22:28:53.723 | <span style=\"color: #008080; text-decoration-color: #008080\">INFO</span>    | Task run 'process_file-57' - Finished in state <span style=\"color: #008000; text-decoration-color: #008000\">Completed</span>()\n",
       "</pre>\n"
      ],
      "text/plain": [
       "22:28:53.723 | \u001b[36mINFO\u001b[0m    | Task run 'process_file-57' - Finished in state \u001b[32mCompleted\u001b[0m()\n"
      ]
     },
     "metadata": {},
     "output_type": "display_data"
    },
    {
     "data": {
      "text/html": [
       "<pre style=\"white-space:pre;overflow-x:auto;line-height:normal;font-family:Menlo,'DejaVu Sans Mono',consolas,'Courier New',monospace\">22:28:53.792 | <span style=\"color: #008080; text-decoration-color: #008080\">INFO</span>    | Flow run<span style=\"color: #800080; text-decoration-color: #800080\"> 'khaki-bat'</span> - Created task run 'write_gcs-57' for task 'write_gcs'\n",
       "</pre>\n"
      ],
      "text/plain": [
       "22:28:53.792 | \u001b[36mINFO\u001b[0m    | Flow run\u001b[35m 'khaki-bat'\u001b[0m - Created task run 'write_gcs-57' for task 'write_gcs'\n"
      ]
     },
     "metadata": {},
     "output_type": "display_data"
    },
    {
     "data": {
      "text/html": [
       "<pre style=\"white-space:pre;overflow-x:auto;line-height:normal;font-family:Menlo,'DejaVu Sans Mono',consolas,'Courier New',monospace\">22:28:53.796 | <span style=\"color: #008080; text-decoration-color: #008080\">INFO</span>    | Flow run<span style=\"color: #800080; text-decoration-color: #800080\"> 'khaki-bat'</span> - Executing 'write_gcs-57' immediately...\n",
       "</pre>\n"
      ],
      "text/plain": [
       "22:28:53.796 | \u001b[36mINFO\u001b[0m    | Flow run\u001b[35m 'khaki-bat'\u001b[0m - Executing 'write_gcs-57' immediately...\n"
      ]
     },
     "metadata": {},
     "output_type": "display_data"
    },
    {
     "name": "stdout",
     "output_type": "stream",
     "text": [
      "Csv file size is 1002816\n"
     ]
    },
    {
     "data": {
      "text/html": [
       "<pre style=\"white-space:pre;overflow-x:auto;line-height:normal;font-family:Menlo,'DejaVu Sans Mono',consolas,'Courier New',monospace\">22:28:55.076 | <span style=\"color: #008080; text-decoration-color: #008080\">INFO</span>    | Task run 'write_gcs-57' - Finished in state <span style=\"color: #008000; text-decoration-color: #008000\">Completed</span>()\n",
       "</pre>\n"
      ],
      "text/plain": [
       "22:28:55.076 | \u001b[36mINFO\u001b[0m    | Task run 'write_gcs-57' - Finished in state \u001b[32mCompleted\u001b[0m()\n"
      ]
     },
     "metadata": {},
     "output_type": "display_data"
    },
    {
     "name": "stdout",
     "output_type": "stream",
     "text": [
      "trip_19842.csv\n"
     ]
    },
    {
     "data": {
      "text/html": [
       "<pre style=\"white-space:pre;overflow-x:auto;line-height:normal;font-family:Menlo,'DejaVu Sans Mono',consolas,'Courier New',monospace\">22:28:55.282 | <span style=\"color: #008080; text-decoration-color: #008080\">INFO</span>    | Flow run<span style=\"color: #800080; text-decoration-color: #800080\"> 'khaki-bat'</span> - Created task run 'process_file-58' for task 'process_file'\n",
       "</pre>\n"
      ],
      "text/plain": [
       "22:28:55.282 | \u001b[36mINFO\u001b[0m    | Flow run\u001b[35m 'khaki-bat'\u001b[0m - Created task run 'process_file-58' for task 'process_file'\n"
      ]
     },
     "metadata": {},
     "output_type": "display_data"
    },
    {
     "data": {
      "text/html": [
       "<pre style=\"white-space:pre;overflow-x:auto;line-height:normal;font-family:Menlo,'DejaVu Sans Mono',consolas,'Courier New',monospace\">22:28:55.285 | <span style=\"color: #008080; text-decoration-color: #008080\">INFO</span>    | Flow run<span style=\"color: #800080; text-decoration-color: #800080\"> 'khaki-bat'</span> - Executing 'process_file-58' immediately...\n",
       "</pre>\n"
      ],
      "text/plain": [
       "22:28:55.285 | \u001b[36mINFO\u001b[0m    | Flow run\u001b[35m 'khaki-bat'\u001b[0m - Executing 'process_file-58' immediately...\n"
      ]
     },
     "metadata": {},
     "output_type": "display_data"
    },
    {
     "data": {
      "text/html": [
       "<pre style=\"white-space:pre;overflow-x:auto;line-height:normal;font-family:Menlo,'DejaVu Sans Mono',consolas,'Courier New',monospace\">22:28:55.503 | <span style=\"color: #008080; text-decoration-color: #008080\">INFO</span>    | Task run 'process_file-58' - Finished in state <span style=\"color: #008000; text-decoration-color: #008000\">Completed</span>()\n",
       "</pre>\n"
      ],
      "text/plain": [
       "22:28:55.503 | \u001b[36mINFO\u001b[0m    | Task run 'process_file-58' - Finished in state \u001b[32mCompleted\u001b[0m()\n"
      ]
     },
     "metadata": {},
     "output_type": "display_data"
    },
    {
     "data": {
      "text/html": [
       "<pre style=\"white-space:pre;overflow-x:auto;line-height:normal;font-family:Menlo,'DejaVu Sans Mono',consolas,'Courier New',monospace\">22:28:55.585 | <span style=\"color: #008080; text-decoration-color: #008080\">INFO</span>    | Flow run<span style=\"color: #800080; text-decoration-color: #800080\"> 'khaki-bat'</span> - Created task run 'write_gcs-58' for task 'write_gcs'\n",
       "</pre>\n"
      ],
      "text/plain": [
       "22:28:55.585 | \u001b[36mINFO\u001b[0m    | Flow run\u001b[35m 'khaki-bat'\u001b[0m - Created task run 'write_gcs-58' for task 'write_gcs'\n"
      ]
     },
     "metadata": {},
     "output_type": "display_data"
    },
    {
     "data": {
      "text/html": [
       "<pre style=\"white-space:pre;overflow-x:auto;line-height:normal;font-family:Menlo,'DejaVu Sans Mono',consolas,'Courier New',monospace\">22:28:55.588 | <span style=\"color: #008080; text-decoration-color: #008080\">INFO</span>    | Flow run<span style=\"color: #800080; text-decoration-color: #800080\"> 'khaki-bat'</span> - Executing 'write_gcs-58' immediately...\n",
       "</pre>\n"
      ],
      "text/plain": [
       "22:28:55.588 | \u001b[36mINFO\u001b[0m    | Flow run\u001b[35m 'khaki-bat'\u001b[0m - Executing 'write_gcs-58' immediately...\n"
      ]
     },
     "metadata": {},
     "output_type": "display_data"
    },
    {
     "name": "stdout",
     "output_type": "stream",
     "text": [
      "Csv file size is 1085959\n"
     ]
    },
    {
     "data": {
      "text/html": [
       "<pre style=\"white-space:pre;overflow-x:auto;line-height:normal;font-family:Menlo,'DejaVu Sans Mono',consolas,'Courier New',monospace\">22:28:56.993 | <span style=\"color: #008080; text-decoration-color: #008080\">INFO</span>    | Task run 'write_gcs-58' - Finished in state <span style=\"color: #008000; text-decoration-color: #008000\">Completed</span>()\n",
       "</pre>\n"
      ],
      "text/plain": [
       "22:28:56.993 | \u001b[36mINFO\u001b[0m    | Task run 'write_gcs-58' - Finished in state \u001b[32mCompleted\u001b[0m()\n"
      ]
     },
     "metadata": {},
     "output_type": "display_data"
    },
    {
     "name": "stdout",
     "output_type": "stream",
     "text": [
      "size_19842.csv\n"
     ]
    },
    {
     "data": {
      "text/html": [
       "<pre style=\"white-space:pre;overflow-x:auto;line-height:normal;font-family:Menlo,'DejaVu Sans Mono',consolas,'Courier New',monospace\">22:28:57.083 | <span style=\"color: #008080; text-decoration-color: #008080\">INFO</span>    | Flow run<span style=\"color: #800080; text-decoration-color: #800080\"> 'khaki-bat'</span> - Created task run 'process_file-59' for task 'process_file'\n",
       "</pre>\n"
      ],
      "text/plain": [
       "22:28:57.083 | \u001b[36mINFO\u001b[0m    | Flow run\u001b[35m 'khaki-bat'\u001b[0m - Created task run 'process_file-59' for task 'process_file'\n"
      ]
     },
     "metadata": {},
     "output_type": "display_data"
    },
    {
     "data": {
      "text/html": [
       "<pre style=\"white-space:pre;overflow-x:auto;line-height:normal;font-family:Menlo,'DejaVu Sans Mono',consolas,'Courier New',monospace\">22:28:57.086 | <span style=\"color: #008080; text-decoration-color: #008080\">INFO</span>    | Flow run<span style=\"color: #800080; text-decoration-color: #800080\"> 'khaki-bat'</span> - Executing 'process_file-59' immediately...\n",
       "</pre>\n"
      ],
      "text/plain": [
       "22:28:57.086 | \u001b[36mINFO\u001b[0m    | Flow run\u001b[35m 'khaki-bat'\u001b[0m - Executing 'process_file-59' immediately...\n"
      ]
     },
     "metadata": {},
     "output_type": "display_data"
    },
    {
     "data": {
      "text/html": [
       "<pre style=\"white-space:pre;overflow-x:auto;line-height:normal;font-family:Menlo,'DejaVu Sans Mono',consolas,'Courier New',monospace\">22:28:57.413 | <span style=\"color: #008080; text-decoration-color: #008080\">INFO</span>    | Task run 'process_file-59' - Finished in state <span style=\"color: #008000; text-decoration-color: #008000\">Completed</span>()\n",
       "</pre>\n"
      ],
      "text/plain": [
       "22:28:57.413 | \u001b[36mINFO\u001b[0m    | Task run 'process_file-59' - Finished in state \u001b[32mCompleted\u001b[0m()\n"
      ]
     },
     "metadata": {},
     "output_type": "display_data"
    },
    {
     "data": {
      "text/html": [
       "<pre style=\"white-space:pre;overflow-x:auto;line-height:normal;font-family:Menlo,'DejaVu Sans Mono',consolas,'Courier New',monospace\">22:28:57.500 | <span style=\"color: #008080; text-decoration-color: #008080\">INFO</span>    | Flow run<span style=\"color: #800080; text-decoration-color: #800080\"> 'khaki-bat'</span> - Created task run 'write_gcs-59' for task 'write_gcs'\n",
       "</pre>\n"
      ],
      "text/plain": [
       "22:28:57.500 | \u001b[36mINFO\u001b[0m    | Flow run\u001b[35m 'khaki-bat'\u001b[0m - Created task run 'write_gcs-59' for task 'write_gcs'\n"
      ]
     },
     "metadata": {},
     "output_type": "display_data"
    },
    {
     "data": {
      "text/html": [
       "<pre style=\"white-space:pre;overflow-x:auto;line-height:normal;font-family:Menlo,'DejaVu Sans Mono',consolas,'Courier New',monospace\">22:28:57.504 | <span style=\"color: #008080; text-decoration-color: #008080\">INFO</span>    | Flow run<span style=\"color: #800080; text-decoration-color: #800080\"> 'khaki-bat'</span> - Executing 'write_gcs-59' immediately...\n",
       "</pre>\n"
      ],
      "text/plain": [
       "22:28:57.504 | \u001b[36mINFO\u001b[0m    | Flow run\u001b[35m 'khaki-bat'\u001b[0m - Executing 'write_gcs-59' immediately...\n"
      ]
     },
     "metadata": {},
     "output_type": "display_data"
    },
    {
     "name": "stdout",
     "output_type": "stream",
     "text": [
      "Csv file size is 1287145\n"
     ]
    },
    {
     "data": {
      "text/html": [
       "<pre style=\"white-space:pre;overflow-x:auto;line-height:normal;font-family:Menlo,'DejaVu Sans Mono',consolas,'Courier New',monospace\">22:28:59.064 | <span style=\"color: #008080; text-decoration-color: #008080\">INFO</span>    | Task run 'write_gcs-59' - Finished in state <span style=\"color: #008000; text-decoration-color: #008000\">Completed</span>()\n",
       "</pre>\n"
      ],
      "text/plain": [
       "22:28:59.064 | \u001b[36mINFO\u001b[0m    | Task run 'write_gcs-59' - Finished in state \u001b[32mCompleted\u001b[0m()\n"
      ]
     },
     "metadata": {},
     "output_type": "display_data"
    },
    {
     "name": "stdout",
     "output_type": "stream",
     "text": [
      "catch_19843.csv\n"
     ]
    },
    {
     "data": {
      "text/html": [
       "<pre style=\"white-space:pre;overflow-x:auto;line-height:normal;font-family:Menlo,'DejaVu Sans Mono',consolas,'Courier New',monospace\">22:28:59.150 | <span style=\"color: #008080; text-decoration-color: #008080\">INFO</span>    | Flow run<span style=\"color: #800080; text-decoration-color: #800080\"> 'khaki-bat'</span> - Created task run 'process_file-60' for task 'process_file'\n",
       "</pre>\n"
      ],
      "text/plain": [
       "22:28:59.150 | \u001b[36mINFO\u001b[0m    | Flow run\u001b[35m 'khaki-bat'\u001b[0m - Created task run 'process_file-60' for task 'process_file'\n"
      ]
     },
     "metadata": {},
     "output_type": "display_data"
    },
    {
     "data": {
      "text/html": [
       "<pre style=\"white-space:pre;overflow-x:auto;line-height:normal;font-family:Menlo,'DejaVu Sans Mono',consolas,'Courier New',monospace\">22:28:59.153 | <span style=\"color: #008080; text-decoration-color: #008080\">INFO</span>    | Flow run<span style=\"color: #800080; text-decoration-color: #800080\"> 'khaki-bat'</span> - Executing 'process_file-60' immediately...\n",
       "</pre>\n"
      ],
      "text/plain": [
       "22:28:59.153 | \u001b[36mINFO\u001b[0m    | Flow run\u001b[35m 'khaki-bat'\u001b[0m - Executing 'process_file-60' immediately...\n"
      ]
     },
     "metadata": {},
     "output_type": "display_data"
    },
    {
     "data": {
      "text/html": [
       "<pre style=\"white-space:pre;overflow-x:auto;line-height:normal;font-family:Menlo,'DejaVu Sans Mono',consolas,'Courier New',monospace\">22:28:59.354 | <span style=\"color: #008080; text-decoration-color: #008080\">INFO</span>    | Task run 'process_file-60' - Finished in state <span style=\"color: #008000; text-decoration-color: #008000\">Completed</span>()\n",
       "</pre>\n"
      ],
      "text/plain": [
       "22:28:59.354 | \u001b[36mINFO\u001b[0m    | Task run 'process_file-60' - Finished in state \u001b[32mCompleted\u001b[0m()\n"
      ]
     },
     "metadata": {},
     "output_type": "display_data"
    },
    {
     "data": {
      "text/html": [
       "<pre style=\"white-space:pre;overflow-x:auto;line-height:normal;font-family:Menlo,'DejaVu Sans Mono',consolas,'Courier New',monospace\">22:28:59.419 | <span style=\"color: #008080; text-decoration-color: #008080\">INFO</span>    | Flow run<span style=\"color: #800080; text-decoration-color: #800080\"> 'khaki-bat'</span> - Created task run 'write_gcs-60' for task 'write_gcs'\n",
       "</pre>\n"
      ],
      "text/plain": [
       "22:28:59.419 | \u001b[36mINFO\u001b[0m    | Flow run\u001b[35m 'khaki-bat'\u001b[0m - Created task run 'write_gcs-60' for task 'write_gcs'\n"
      ]
     },
     "metadata": {},
     "output_type": "display_data"
    },
    {
     "data": {
      "text/html": [
       "<pre style=\"white-space:pre;overflow-x:auto;line-height:normal;font-family:Menlo,'DejaVu Sans Mono',consolas,'Courier New',monospace\">22:28:59.422 | <span style=\"color: #008080; text-decoration-color: #008080\">INFO</span>    | Flow run<span style=\"color: #800080; text-decoration-color: #800080\"> 'khaki-bat'</span> - Executing 'write_gcs-60' immediately...\n",
       "</pre>\n"
      ],
      "text/plain": [
       "22:28:59.422 | \u001b[36mINFO\u001b[0m    | Flow run\u001b[35m 'khaki-bat'\u001b[0m - Executing 'write_gcs-60' immediately...\n"
      ]
     },
     "metadata": {},
     "output_type": "display_data"
    },
    {
     "name": "stdout",
     "output_type": "stream",
     "text": [
      "Csv file size is 2265231\n"
     ]
    },
    {
     "data": {
      "text/html": [
       "<pre style=\"white-space:pre;overflow-x:auto;line-height:normal;font-family:Menlo,'DejaVu Sans Mono',consolas,'Courier New',monospace\">22:29:01.578 | <span style=\"color: #008080; text-decoration-color: #008080\">INFO</span>    | Task run 'write_gcs-60' - Finished in state <span style=\"color: #008000; text-decoration-color: #008000\">Completed</span>()\n",
       "</pre>\n"
      ],
      "text/plain": [
       "22:29:01.578 | \u001b[36mINFO\u001b[0m    | Task run 'write_gcs-60' - Finished in state \u001b[32mCompleted\u001b[0m()\n"
      ]
     },
     "metadata": {},
     "output_type": "display_data"
    },
    {
     "name": "stdout",
     "output_type": "stream",
     "text": [
      "trip_19843.csv\n"
     ]
    },
    {
     "data": {
      "text/html": [
       "<pre style=\"white-space:pre;overflow-x:auto;line-height:normal;font-family:Menlo,'DejaVu Sans Mono',consolas,'Courier New',monospace\">22:29:01.655 | <span style=\"color: #008080; text-decoration-color: #008080\">INFO</span>    | Flow run<span style=\"color: #800080; text-decoration-color: #800080\"> 'khaki-bat'</span> - Created task run 'process_file-61' for task 'process_file'\n",
       "</pre>\n"
      ],
      "text/plain": [
       "22:29:01.655 | \u001b[36mINFO\u001b[0m    | Flow run\u001b[35m 'khaki-bat'\u001b[0m - Created task run 'process_file-61' for task 'process_file'\n"
      ]
     },
     "metadata": {},
     "output_type": "display_data"
    },
    {
     "data": {
      "text/html": [
       "<pre style=\"white-space:pre;overflow-x:auto;line-height:normal;font-family:Menlo,'DejaVu Sans Mono',consolas,'Courier New',monospace\">22:29:01.661 | <span style=\"color: #008080; text-decoration-color: #008080\">INFO</span>    | Flow run<span style=\"color: #800080; text-decoration-color: #800080\"> 'khaki-bat'</span> - Executing 'process_file-61' immediately...\n",
       "</pre>\n"
      ],
      "text/plain": [
       "22:29:01.661 | \u001b[36mINFO\u001b[0m    | Flow run\u001b[35m 'khaki-bat'\u001b[0m - Executing 'process_file-61' immediately...\n"
      ]
     },
     "metadata": {},
     "output_type": "display_data"
    },
    {
     "data": {
      "text/html": [
       "<pre style=\"white-space:pre;overflow-x:auto;line-height:normal;font-family:Menlo,'DejaVu Sans Mono',consolas,'Courier New',monospace\">22:29:01.924 | <span style=\"color: #008080; text-decoration-color: #008080\">INFO</span>    | Task run 'process_file-61' - Finished in state <span style=\"color: #008000; text-decoration-color: #008000\">Completed</span>()\n",
       "</pre>\n"
      ],
      "text/plain": [
       "22:29:01.924 | \u001b[36mINFO\u001b[0m    | Task run 'process_file-61' - Finished in state \u001b[32mCompleted\u001b[0m()\n"
      ]
     },
     "metadata": {},
     "output_type": "display_data"
    },
    {
     "data": {
      "text/html": [
       "<pre style=\"white-space:pre;overflow-x:auto;line-height:normal;font-family:Menlo,'DejaVu Sans Mono',consolas,'Courier New',monospace\">22:29:01.993 | <span style=\"color: #008080; text-decoration-color: #008080\">INFO</span>    | Flow run<span style=\"color: #800080; text-decoration-color: #800080\"> 'khaki-bat'</span> - Created task run 'write_gcs-61' for task 'write_gcs'\n",
       "</pre>\n"
      ],
      "text/plain": [
       "22:29:01.993 | \u001b[36mINFO\u001b[0m    | Flow run\u001b[35m 'khaki-bat'\u001b[0m - Created task run 'write_gcs-61' for task 'write_gcs'\n"
      ]
     },
     "metadata": {},
     "output_type": "display_data"
    },
    {
     "data": {
      "text/html": [
       "<pre style=\"white-space:pre;overflow-x:auto;line-height:normal;font-family:Menlo,'DejaVu Sans Mono',consolas,'Courier New',monospace\">22:29:01.998 | <span style=\"color: #008080; text-decoration-color: #008080\">INFO</span>    | Flow run<span style=\"color: #800080; text-decoration-color: #800080\"> 'khaki-bat'</span> - Executing 'write_gcs-61' immediately...\n",
       "</pre>\n"
      ],
      "text/plain": [
       "22:29:01.998 | \u001b[36mINFO\u001b[0m    | Flow run\u001b[35m 'khaki-bat'\u001b[0m - Executing 'write_gcs-61' immediately...\n"
      ]
     },
     "metadata": {},
     "output_type": "display_data"
    },
    {
     "name": "stdout",
     "output_type": "stream",
     "text": [
      "Csv file size is 2282909\n"
     ]
    },
    {
     "data": {
      "text/html": [
       "<pre style=\"white-space:pre;overflow-x:auto;line-height:normal;font-family:Menlo,'DejaVu Sans Mono',consolas,'Courier New',monospace\">22:29:04.160 | <span style=\"color: #008080; text-decoration-color: #008080\">INFO</span>    | Task run 'write_gcs-61' - Finished in state <span style=\"color: #008000; text-decoration-color: #008000\">Completed</span>()\n",
       "</pre>\n"
      ],
      "text/plain": [
       "22:29:04.160 | \u001b[36mINFO\u001b[0m    | Task run 'write_gcs-61' - Finished in state \u001b[32mCompleted\u001b[0m()\n"
      ]
     },
     "metadata": {},
     "output_type": "display_data"
    },
    {
     "name": "stdout",
     "output_type": "stream",
     "text": [
      "size_19843.csv\n"
     ]
    },
    {
     "data": {
      "text/html": [
       "<pre style=\"white-space:pre;overflow-x:auto;line-height:normal;font-family:Menlo,'DejaVu Sans Mono',consolas,'Courier New',monospace\">22:29:04.266 | <span style=\"color: #008080; text-decoration-color: #008080\">INFO</span>    | Flow run<span style=\"color: #800080; text-decoration-color: #800080\"> 'khaki-bat'</span> - Created task run 'process_file-62' for task 'process_file'\n",
       "</pre>\n"
      ],
      "text/plain": [
       "22:29:04.266 | \u001b[36mINFO\u001b[0m    | Flow run\u001b[35m 'khaki-bat'\u001b[0m - Created task run 'process_file-62' for task 'process_file'\n"
      ]
     },
     "metadata": {},
     "output_type": "display_data"
    },
    {
     "data": {
      "text/html": [
       "<pre style=\"white-space:pre;overflow-x:auto;line-height:normal;font-family:Menlo,'DejaVu Sans Mono',consolas,'Courier New',monospace\">22:29:04.270 | <span style=\"color: #008080; text-decoration-color: #008080\">INFO</span>    | Flow run<span style=\"color: #800080; text-decoration-color: #800080\"> 'khaki-bat'</span> - Executing 'process_file-62' immediately...\n",
       "</pre>\n"
      ],
      "text/plain": [
       "22:29:04.270 | \u001b[36mINFO\u001b[0m    | Flow run\u001b[35m 'khaki-bat'\u001b[0m - Executing 'process_file-62' immediately...\n"
      ]
     },
     "metadata": {},
     "output_type": "display_data"
    },
    {
     "data": {
      "text/html": [
       "<pre style=\"white-space:pre;overflow-x:auto;line-height:normal;font-family:Menlo,'DejaVu Sans Mono',consolas,'Courier New',monospace\">22:29:04.503 | <span style=\"color: #008080; text-decoration-color: #008080\">INFO</span>    | Task run 'process_file-62' - Finished in state <span style=\"color: #008000; text-decoration-color: #008000\">Completed</span>()\n",
       "</pre>\n"
      ],
      "text/plain": [
       "22:29:04.503 | \u001b[36mINFO\u001b[0m    | Task run 'process_file-62' - Finished in state \u001b[32mCompleted\u001b[0m()\n"
      ]
     },
     "metadata": {},
     "output_type": "display_data"
    },
    {
     "data": {
      "text/html": [
       "<pre style=\"white-space:pre;overflow-x:auto;line-height:normal;font-family:Menlo,'DejaVu Sans Mono',consolas,'Courier New',monospace\">22:29:04.575 | <span style=\"color: #008080; text-decoration-color: #008080\">INFO</span>    | Flow run<span style=\"color: #800080; text-decoration-color: #800080\"> 'khaki-bat'</span> - Created task run 'write_gcs-62' for task 'write_gcs'\n",
       "</pre>\n"
      ],
      "text/plain": [
       "22:29:04.575 | \u001b[36mINFO\u001b[0m    | Flow run\u001b[35m 'khaki-bat'\u001b[0m - Created task run 'write_gcs-62' for task 'write_gcs'\n"
      ]
     },
     "metadata": {},
     "output_type": "display_data"
    },
    {
     "data": {
      "text/html": [
       "<pre style=\"white-space:pre;overflow-x:auto;line-height:normal;font-family:Menlo,'DejaVu Sans Mono',consolas,'Courier New',monospace\">22:29:04.578 | <span style=\"color: #008080; text-decoration-color: #008080\">INFO</span>    | Flow run<span style=\"color: #800080; text-decoration-color: #800080\"> 'khaki-bat'</span> - Executing 'write_gcs-62' immediately...\n",
       "</pre>\n"
      ],
      "text/plain": [
       "22:29:04.578 | \u001b[36mINFO\u001b[0m    | Flow run\u001b[35m 'khaki-bat'\u001b[0m - Executing 'write_gcs-62' immediately...\n"
      ]
     },
     "metadata": {},
     "output_type": "display_data"
    },
    {
     "name": "stdout",
     "output_type": "stream",
     "text": [
      "Csv file size is 2945922\n"
     ]
    },
    {
     "data": {
      "text/html": [
       "<pre style=\"white-space:pre;overflow-x:auto;line-height:normal;font-family:Menlo,'DejaVu Sans Mono',consolas,'Courier New',monospace\">22:29:07.561 | <span style=\"color: #008080; text-decoration-color: #008080\">INFO</span>    | Task run 'write_gcs-62' - Finished in state <span style=\"color: #008000; text-decoration-color: #008000\">Completed</span>()\n",
       "</pre>\n"
      ],
      "text/plain": [
       "22:29:07.561 | \u001b[36mINFO\u001b[0m    | Task run 'write_gcs-62' - Finished in state \u001b[32mCompleted\u001b[0m()\n"
      ]
     },
     "metadata": {},
     "output_type": "display_data"
    },
    {
     "name": "stdout",
     "output_type": "stream",
     "text": [
      "catch_19844.csv\n"
     ]
    },
    {
     "data": {
      "text/html": [
       "<pre style=\"white-space:pre;overflow-x:auto;line-height:normal;font-family:Menlo,'DejaVu Sans Mono',consolas,'Courier New',monospace\">22:29:07.632 | <span style=\"color: #008080; text-decoration-color: #008080\">INFO</span>    | Flow run<span style=\"color: #800080; text-decoration-color: #800080\"> 'khaki-bat'</span> - Created task run 'process_file-63' for task 'process_file'\n",
       "</pre>\n"
      ],
      "text/plain": [
       "22:29:07.632 | \u001b[36mINFO\u001b[0m    | Flow run\u001b[35m 'khaki-bat'\u001b[0m - Created task run 'process_file-63' for task 'process_file'\n"
      ]
     },
     "metadata": {},
     "output_type": "display_data"
    },
    {
     "data": {
      "text/html": [
       "<pre style=\"white-space:pre;overflow-x:auto;line-height:normal;font-family:Menlo,'DejaVu Sans Mono',consolas,'Courier New',monospace\">22:29:07.635 | <span style=\"color: #008080; text-decoration-color: #008080\">INFO</span>    | Flow run<span style=\"color: #800080; text-decoration-color: #800080\"> 'khaki-bat'</span> - Executing 'process_file-63' immediately...\n",
       "</pre>\n"
      ],
      "text/plain": [
       "22:29:07.635 | \u001b[36mINFO\u001b[0m    | Flow run\u001b[35m 'khaki-bat'\u001b[0m - Executing 'process_file-63' immediately...\n"
      ]
     },
     "metadata": {},
     "output_type": "display_data"
    },
    {
     "data": {
      "text/html": [
       "<pre style=\"white-space:pre;overflow-x:auto;line-height:normal;font-family:Menlo,'DejaVu Sans Mono',consolas,'Courier New',monospace\">22:29:07.861 | <span style=\"color: #008080; text-decoration-color: #008080\">INFO</span>    | Task run 'process_file-63' - Finished in state <span style=\"color: #008000; text-decoration-color: #008000\">Completed</span>()\n",
       "</pre>\n"
      ],
      "text/plain": [
       "22:29:07.861 | \u001b[36mINFO\u001b[0m    | Task run 'process_file-63' - Finished in state \u001b[32mCompleted\u001b[0m()\n"
      ]
     },
     "metadata": {},
     "output_type": "display_data"
    },
    {
     "data": {
      "text/html": [
       "<pre style=\"white-space:pre;overflow-x:auto;line-height:normal;font-family:Menlo,'DejaVu Sans Mono',consolas,'Courier New',monospace\">22:29:07.927 | <span style=\"color: #008080; text-decoration-color: #008080\">INFO</span>    | Flow run<span style=\"color: #800080; text-decoration-color: #800080\"> 'khaki-bat'</span> - Created task run 'write_gcs-63' for task 'write_gcs'\n",
       "</pre>\n"
      ],
      "text/plain": [
       "22:29:07.927 | \u001b[36mINFO\u001b[0m    | Flow run\u001b[35m 'khaki-bat'\u001b[0m - Created task run 'write_gcs-63' for task 'write_gcs'\n"
      ]
     },
     "metadata": {},
     "output_type": "display_data"
    },
    {
     "data": {
      "text/html": [
       "<pre style=\"white-space:pre;overflow-x:auto;line-height:normal;font-family:Menlo,'DejaVu Sans Mono',consolas,'Courier New',monospace\">22:29:07.930 | <span style=\"color: #008080; text-decoration-color: #008080\">INFO</span>    | Flow run<span style=\"color: #800080; text-decoration-color: #800080\"> 'khaki-bat'</span> - Executing 'write_gcs-63' immediately...\n",
       "</pre>\n"
      ],
      "text/plain": [
       "22:29:07.930 | \u001b[36mINFO\u001b[0m    | Flow run\u001b[35m 'khaki-bat'\u001b[0m - Executing 'write_gcs-63' immediately...\n"
      ]
     },
     "metadata": {},
     "output_type": "display_data"
    },
    {
     "name": "stdout",
     "output_type": "stream",
     "text": [
      "Csv file size is 2217503\n"
     ]
    },
    {
     "data": {
      "text/html": [
       "<pre style=\"white-space:pre;overflow-x:auto;line-height:normal;font-family:Menlo,'DejaVu Sans Mono',consolas,'Courier New',monospace\">22:29:09.991 | <span style=\"color: #008080; text-decoration-color: #008080\">INFO</span>    | Task run 'write_gcs-63' - Finished in state <span style=\"color: #008000; text-decoration-color: #008000\">Completed</span>()\n",
       "</pre>\n"
      ],
      "text/plain": [
       "22:29:09.991 | \u001b[36mINFO\u001b[0m    | Task run 'write_gcs-63' - Finished in state \u001b[32mCompleted\u001b[0m()\n"
      ]
     },
     "metadata": {},
     "output_type": "display_data"
    },
    {
     "name": "stdout",
     "output_type": "stream",
     "text": [
      "trip_19844.csv\n"
     ]
    },
    {
     "data": {
      "text/html": [
       "<pre style=\"white-space:pre;overflow-x:auto;line-height:normal;font-family:Menlo,'DejaVu Sans Mono',consolas,'Courier New',monospace\">22:29:10.059 | <span style=\"color: #008080; text-decoration-color: #008080\">INFO</span>    | Flow run<span style=\"color: #800080; text-decoration-color: #800080\"> 'khaki-bat'</span> - Created task run 'process_file-64' for task 'process_file'\n",
       "</pre>\n"
      ],
      "text/plain": [
       "22:29:10.059 | \u001b[36mINFO\u001b[0m    | Flow run\u001b[35m 'khaki-bat'\u001b[0m - Created task run 'process_file-64' for task 'process_file'\n"
      ]
     },
     "metadata": {},
     "output_type": "display_data"
    },
    {
     "data": {
      "text/html": [
       "<pre style=\"white-space:pre;overflow-x:auto;line-height:normal;font-family:Menlo,'DejaVu Sans Mono',consolas,'Courier New',monospace\">22:29:10.062 | <span style=\"color: #008080; text-decoration-color: #008080\">INFO</span>    | Flow run<span style=\"color: #800080; text-decoration-color: #800080\"> 'khaki-bat'</span> - Executing 'process_file-64' immediately...\n",
       "</pre>\n"
      ],
      "text/plain": [
       "22:29:10.062 | \u001b[36mINFO\u001b[0m    | Flow run\u001b[35m 'khaki-bat'\u001b[0m - Executing 'process_file-64' immediately...\n"
      ]
     },
     "metadata": {},
     "output_type": "display_data"
    },
    {
     "data": {
      "text/html": [
       "<pre style=\"white-space:pre;overflow-x:auto;line-height:normal;font-family:Menlo,'DejaVu Sans Mono',consolas,'Courier New',monospace\">22:29:10.267 | <span style=\"color: #008080; text-decoration-color: #008080\">INFO</span>    | Task run 'process_file-64' - Finished in state <span style=\"color: #008000; text-decoration-color: #008000\">Completed</span>()\n",
       "</pre>\n"
      ],
      "text/plain": [
       "22:29:10.267 | \u001b[36mINFO\u001b[0m    | Task run 'process_file-64' - Finished in state \u001b[32mCompleted\u001b[0m()\n"
      ]
     },
     "metadata": {},
     "output_type": "display_data"
    },
    {
     "data": {
      "text/html": [
       "<pre style=\"white-space:pre;overflow-x:auto;line-height:normal;font-family:Menlo,'DejaVu Sans Mono',consolas,'Courier New',monospace\">22:29:10.337 | <span style=\"color: #008080; text-decoration-color: #008080\">INFO</span>    | Flow run<span style=\"color: #800080; text-decoration-color: #800080\"> 'khaki-bat'</span> - Created task run 'write_gcs-64' for task 'write_gcs'\n",
       "</pre>\n"
      ],
      "text/plain": [
       "22:29:10.337 | \u001b[36mINFO\u001b[0m    | Flow run\u001b[35m 'khaki-bat'\u001b[0m - Created task run 'write_gcs-64' for task 'write_gcs'\n"
      ]
     },
     "metadata": {},
     "output_type": "display_data"
    },
    {
     "data": {
      "text/html": [
       "<pre style=\"white-space:pre;overflow-x:auto;line-height:normal;font-family:Menlo,'DejaVu Sans Mono',consolas,'Courier New',monospace\">22:29:10.339 | <span style=\"color: #008080; text-decoration-color: #008080\">INFO</span>    | Flow run<span style=\"color: #800080; text-decoration-color: #800080\"> 'khaki-bat'</span> - Executing 'write_gcs-64' immediately...\n",
       "</pre>\n"
      ],
      "text/plain": [
       "22:29:10.339 | \u001b[36mINFO\u001b[0m    | Flow run\u001b[35m 'khaki-bat'\u001b[0m - Executing 'write_gcs-64' immediately...\n"
      ]
     },
     "metadata": {},
     "output_type": "display_data"
    },
    {
     "name": "stdout",
     "output_type": "stream",
     "text": [
      "Csv file size is 2093789\n"
     ]
    },
    {
     "data": {
      "text/html": [
       "<pre style=\"white-space:pre;overflow-x:auto;line-height:normal;font-family:Menlo,'DejaVu Sans Mono',consolas,'Courier New',monospace\">22:29:12.363 | <span style=\"color: #008080; text-decoration-color: #008080\">INFO</span>    | Task run 'write_gcs-64' - Finished in state <span style=\"color: #008000; text-decoration-color: #008000\">Completed</span>()\n",
       "</pre>\n"
      ],
      "text/plain": [
       "22:29:12.363 | \u001b[36mINFO\u001b[0m    | Task run 'write_gcs-64' - Finished in state \u001b[32mCompleted\u001b[0m()\n"
      ]
     },
     "metadata": {},
     "output_type": "display_data"
    },
    {
     "name": "stdout",
     "output_type": "stream",
     "text": [
      "size_19844.csv\n"
     ]
    },
    {
     "data": {
      "text/html": [
       "<pre style=\"white-space:pre;overflow-x:auto;line-height:normal;font-family:Menlo,'DejaVu Sans Mono',consolas,'Courier New',monospace\">22:29:12.430 | <span style=\"color: #008080; text-decoration-color: #008080\">INFO</span>    | Flow run<span style=\"color: #800080; text-decoration-color: #800080\"> 'khaki-bat'</span> - Created task run 'process_file-65' for task 'process_file'\n",
       "</pre>\n"
      ],
      "text/plain": [
       "22:29:12.430 | \u001b[36mINFO\u001b[0m    | Flow run\u001b[35m 'khaki-bat'\u001b[0m - Created task run 'process_file-65' for task 'process_file'\n"
      ]
     },
     "metadata": {},
     "output_type": "display_data"
    },
    {
     "data": {
      "text/html": [
       "<pre style=\"white-space:pre;overflow-x:auto;line-height:normal;font-family:Menlo,'DejaVu Sans Mono',consolas,'Courier New',monospace\">22:29:12.433 | <span style=\"color: #008080; text-decoration-color: #008080\">INFO</span>    | Flow run<span style=\"color: #800080; text-decoration-color: #800080\"> 'khaki-bat'</span> - Executing 'process_file-65' immediately...\n",
       "</pre>\n"
      ],
      "text/plain": [
       "22:29:12.433 | \u001b[36mINFO\u001b[0m    | Flow run\u001b[35m 'khaki-bat'\u001b[0m - Executing 'process_file-65' immediately...\n"
      ]
     },
     "metadata": {},
     "output_type": "display_data"
    },
    {
     "data": {
      "text/html": [
       "<pre style=\"white-space:pre;overflow-x:auto;line-height:normal;font-family:Menlo,'DejaVu Sans Mono',consolas,'Courier New',monospace\">22:29:12.640 | <span style=\"color: #008080; text-decoration-color: #008080\">INFO</span>    | Task run 'process_file-65' - Finished in state <span style=\"color: #008000; text-decoration-color: #008000\">Completed</span>()\n",
       "</pre>\n"
      ],
      "text/plain": [
       "22:29:12.640 | \u001b[36mINFO\u001b[0m    | Task run 'process_file-65' - Finished in state \u001b[32mCompleted\u001b[0m()\n"
      ]
     },
     "metadata": {},
     "output_type": "display_data"
    },
    {
     "data": {
      "text/html": [
       "<pre style=\"white-space:pre;overflow-x:auto;line-height:normal;font-family:Menlo,'DejaVu Sans Mono',consolas,'Courier New',monospace\">22:29:12.703 | <span style=\"color: #008080; text-decoration-color: #008080\">INFO</span>    | Flow run<span style=\"color: #800080; text-decoration-color: #800080\"> 'khaki-bat'</span> - Created task run 'write_gcs-65' for task 'write_gcs'\n",
       "</pre>\n"
      ],
      "text/plain": [
       "22:29:12.703 | \u001b[36mINFO\u001b[0m    | Flow run\u001b[35m 'khaki-bat'\u001b[0m - Created task run 'write_gcs-65' for task 'write_gcs'\n"
      ]
     },
     "metadata": {},
     "output_type": "display_data"
    },
    {
     "data": {
      "text/html": [
       "<pre style=\"white-space:pre;overflow-x:auto;line-height:normal;font-family:Menlo,'DejaVu Sans Mono',consolas,'Courier New',monospace\">22:29:12.705 | <span style=\"color: #008080; text-decoration-color: #008080\">INFO</span>    | Flow run<span style=\"color: #800080; text-decoration-color: #800080\"> 'khaki-bat'</span> - Executing 'write_gcs-65' immediately...\n",
       "</pre>\n"
      ],
      "text/plain": [
       "22:29:12.705 | \u001b[36mINFO\u001b[0m    | Flow run\u001b[35m 'khaki-bat'\u001b[0m - Executing 'write_gcs-65' immediately...\n"
      ]
     },
     "metadata": {},
     "output_type": "display_data"
    },
    {
     "name": "stdout",
     "output_type": "stream",
     "text": [
      "Csv file size is 3063883\n"
     ]
    },
    {
     "data": {
      "text/html": [
       "<pre style=\"white-space:pre;overflow-x:auto;line-height:normal;font-family:Menlo,'DejaVu Sans Mono',consolas,'Courier New',monospace\">22:29:15.827 | <span style=\"color: #008080; text-decoration-color: #008080\">INFO</span>    | Task run 'write_gcs-65' - Finished in state <span style=\"color: #008000; text-decoration-color: #008000\">Completed</span>()\n",
       "</pre>\n"
      ],
      "text/plain": [
       "22:29:15.827 | \u001b[36mINFO\u001b[0m    | Task run 'write_gcs-65' - Finished in state \u001b[32mCompleted\u001b[0m()\n"
      ]
     },
     "metadata": {},
     "output_type": "display_data"
    },
    {
     "name": "stdout",
     "output_type": "stream",
     "text": [
      "catch_19845.csv\n"
     ]
    },
    {
     "data": {
      "text/html": [
       "<pre style=\"white-space:pre;overflow-x:auto;line-height:normal;font-family:Menlo,'DejaVu Sans Mono',consolas,'Courier New',monospace\">22:29:16.054 | <span style=\"color: #008080; text-decoration-color: #008080\">INFO</span>    | Flow run<span style=\"color: #800080; text-decoration-color: #800080\"> 'khaki-bat'</span> - Created task run 'process_file-66' for task 'process_file'\n",
       "</pre>\n"
      ],
      "text/plain": [
       "22:29:16.054 | \u001b[36mINFO\u001b[0m    | Flow run\u001b[35m 'khaki-bat'\u001b[0m - Created task run 'process_file-66' for task 'process_file'\n"
      ]
     },
     "metadata": {},
     "output_type": "display_data"
    },
    {
     "data": {
      "text/html": [
       "<pre style=\"white-space:pre;overflow-x:auto;line-height:normal;font-family:Menlo,'DejaVu Sans Mono',consolas,'Courier New',monospace\">22:29:16.058 | <span style=\"color: #008080; text-decoration-color: #008080\">INFO</span>    | Flow run<span style=\"color: #800080; text-decoration-color: #800080\"> 'khaki-bat'</span> - Executing 'process_file-66' immediately...\n",
       "</pre>\n"
      ],
      "text/plain": [
       "22:29:16.058 | \u001b[36mINFO\u001b[0m    | Flow run\u001b[35m 'khaki-bat'\u001b[0m - Executing 'process_file-66' immediately...\n"
      ]
     },
     "metadata": {},
     "output_type": "display_data"
    },
    {
     "data": {
      "text/html": [
       "<pre style=\"white-space:pre;overflow-x:auto;line-height:normal;font-family:Menlo,'DejaVu Sans Mono',consolas,'Courier New',monospace\">22:29:16.273 | <span style=\"color: #008080; text-decoration-color: #008080\">INFO</span>    | Task run 'process_file-66' - Finished in state <span style=\"color: #008000; text-decoration-color: #008000\">Completed</span>()\n",
       "</pre>\n"
      ],
      "text/plain": [
       "22:29:16.273 | \u001b[36mINFO\u001b[0m    | Task run 'process_file-66' - Finished in state \u001b[32mCompleted\u001b[0m()\n"
      ]
     },
     "metadata": {},
     "output_type": "display_data"
    },
    {
     "data": {
      "text/html": [
       "<pre style=\"white-space:pre;overflow-x:auto;line-height:normal;font-family:Menlo,'DejaVu Sans Mono',consolas,'Courier New',monospace\">22:29:16.347 | <span style=\"color: #008080; text-decoration-color: #008080\">INFO</span>    | Flow run<span style=\"color: #800080; text-decoration-color: #800080\"> 'khaki-bat'</span> - Created task run 'write_gcs-66' for task 'write_gcs'\n",
       "</pre>\n"
      ],
      "text/plain": [
       "22:29:16.347 | \u001b[36mINFO\u001b[0m    | Flow run\u001b[35m 'khaki-bat'\u001b[0m - Created task run 'write_gcs-66' for task 'write_gcs'\n"
      ]
     },
     "metadata": {},
     "output_type": "display_data"
    },
    {
     "data": {
      "text/html": [
       "<pre style=\"white-space:pre;overflow-x:auto;line-height:normal;font-family:Menlo,'DejaVu Sans Mono',consolas,'Courier New',monospace\">22:29:16.350 | <span style=\"color: #008080; text-decoration-color: #008080\">INFO</span>    | Flow run<span style=\"color: #800080; text-decoration-color: #800080\"> 'khaki-bat'</span> - Executing 'write_gcs-66' immediately...\n",
       "</pre>\n"
      ],
      "text/plain": [
       "22:29:16.350 | \u001b[36mINFO\u001b[0m    | Flow run\u001b[35m 'khaki-bat'\u001b[0m - Executing 'write_gcs-66' immediately...\n"
      ]
     },
     "metadata": {},
     "output_type": "display_data"
    },
    {
     "name": "stdout",
     "output_type": "stream",
     "text": [
      "Csv file size is 1643422\n"
     ]
    },
    {
     "data": {
      "text/html": [
       "<pre style=\"white-space:pre;overflow-x:auto;line-height:normal;font-family:Menlo,'DejaVu Sans Mono',consolas,'Courier New',monospace\">22:29:18.113 | <span style=\"color: #008080; text-decoration-color: #008080\">INFO</span>    | Task run 'write_gcs-66' - Finished in state <span style=\"color: #008000; text-decoration-color: #008000\">Completed</span>()\n",
       "</pre>\n"
      ],
      "text/plain": [
       "22:29:18.113 | \u001b[36mINFO\u001b[0m    | Task run 'write_gcs-66' - Finished in state \u001b[32mCompleted\u001b[0m()\n"
      ]
     },
     "metadata": {},
     "output_type": "display_data"
    },
    {
     "name": "stdout",
     "output_type": "stream",
     "text": [
      "trip_19845.csv\n"
     ]
    },
    {
     "data": {
      "text/html": [
       "<pre style=\"white-space:pre;overflow-x:auto;line-height:normal;font-family:Menlo,'DejaVu Sans Mono',consolas,'Courier New',monospace\">22:29:18.189 | <span style=\"color: #008080; text-decoration-color: #008080\">INFO</span>    | Flow run<span style=\"color: #800080; text-decoration-color: #800080\"> 'khaki-bat'</span> - Created task run 'process_file-67' for task 'process_file'\n",
       "</pre>\n"
      ],
      "text/plain": [
       "22:29:18.189 | \u001b[36mINFO\u001b[0m    | Flow run\u001b[35m 'khaki-bat'\u001b[0m - Created task run 'process_file-67' for task 'process_file'\n"
      ]
     },
     "metadata": {},
     "output_type": "display_data"
    },
    {
     "data": {
      "text/html": [
       "<pre style=\"white-space:pre;overflow-x:auto;line-height:normal;font-family:Menlo,'DejaVu Sans Mono',consolas,'Courier New',monospace\">22:29:18.195 | <span style=\"color: #008080; text-decoration-color: #008080\">INFO</span>    | Flow run<span style=\"color: #800080; text-decoration-color: #800080\"> 'khaki-bat'</span> - Executing 'process_file-67' immediately...\n",
       "</pre>\n"
      ],
      "text/plain": [
       "22:29:18.195 | \u001b[36mINFO\u001b[0m    | Flow run\u001b[35m 'khaki-bat'\u001b[0m - Executing 'process_file-67' immediately...\n"
      ]
     },
     "metadata": {},
     "output_type": "display_data"
    },
    {
     "data": {
      "text/html": [
       "<pre style=\"white-space:pre;overflow-x:auto;line-height:normal;font-family:Menlo,'DejaVu Sans Mono',consolas,'Courier New',monospace\">22:29:18.402 | <span style=\"color: #008080; text-decoration-color: #008080\">INFO</span>    | Task run 'process_file-67' - Finished in state <span style=\"color: #008000; text-decoration-color: #008000\">Completed</span>()\n",
       "</pre>\n"
      ],
      "text/plain": [
       "22:29:18.402 | \u001b[36mINFO\u001b[0m    | Task run 'process_file-67' - Finished in state \u001b[32mCompleted\u001b[0m()\n"
      ]
     },
     "metadata": {},
     "output_type": "display_data"
    },
    {
     "data": {
      "text/html": [
       "<pre style=\"white-space:pre;overflow-x:auto;line-height:normal;font-family:Menlo,'DejaVu Sans Mono',consolas,'Courier New',monospace\">22:29:18.467 | <span style=\"color: #008080; text-decoration-color: #008080\">INFO</span>    | Flow run<span style=\"color: #800080; text-decoration-color: #800080\"> 'khaki-bat'</span> - Created task run 'write_gcs-67' for task 'write_gcs'\n",
       "</pre>\n"
      ],
      "text/plain": [
       "22:29:18.467 | \u001b[36mINFO\u001b[0m    | Flow run\u001b[35m 'khaki-bat'\u001b[0m - Created task run 'write_gcs-67' for task 'write_gcs'\n"
      ]
     },
     "metadata": {},
     "output_type": "display_data"
    },
    {
     "data": {
      "text/html": [
       "<pre style=\"white-space:pre;overflow-x:auto;line-height:normal;font-family:Menlo,'DejaVu Sans Mono',consolas,'Courier New',monospace\">22:29:18.470 | <span style=\"color: #008080; text-decoration-color: #008080\">INFO</span>    | Flow run<span style=\"color: #800080; text-decoration-color: #800080\"> 'khaki-bat'</span> - Executing 'write_gcs-67' immediately...\n",
       "</pre>\n"
      ],
      "text/plain": [
       "22:29:18.470 | \u001b[36mINFO\u001b[0m    | Flow run\u001b[35m 'khaki-bat'\u001b[0m - Executing 'write_gcs-67' immediately...\n"
      ]
     },
     "metadata": {},
     "output_type": "display_data"
    },
    {
     "name": "stdout",
     "output_type": "stream",
     "text": [
      "Csv file size is 1525414\n"
     ]
    },
    {
     "data": {
      "text/html": [
       "<pre style=\"white-space:pre;overflow-x:auto;line-height:normal;font-family:Menlo,'DejaVu Sans Mono',consolas,'Courier New',monospace\">22:29:20.074 | <span style=\"color: #008080; text-decoration-color: #008080\">INFO</span>    | Task run 'write_gcs-67' - Finished in state <span style=\"color: #008000; text-decoration-color: #008000\">Completed</span>()\n",
       "</pre>\n"
      ],
      "text/plain": [
       "22:29:20.074 | \u001b[36mINFO\u001b[0m    | Task run 'write_gcs-67' - Finished in state \u001b[32mCompleted\u001b[0m()\n"
      ]
     },
     "metadata": {},
     "output_type": "display_data"
    },
    {
     "name": "stdout",
     "output_type": "stream",
     "text": [
      "size_19845.csv\n"
     ]
    },
    {
     "data": {
      "text/html": [
       "<pre style=\"white-space:pre;overflow-x:auto;line-height:normal;font-family:Menlo,'DejaVu Sans Mono',consolas,'Courier New',monospace\">22:29:20.156 | <span style=\"color: #008080; text-decoration-color: #008080\">INFO</span>    | Flow run<span style=\"color: #800080; text-decoration-color: #800080\"> 'khaki-bat'</span> - Created task run 'process_file-68' for task 'process_file'\n",
       "</pre>\n"
      ],
      "text/plain": [
       "22:29:20.156 | \u001b[36mINFO\u001b[0m    | Flow run\u001b[35m 'khaki-bat'\u001b[0m - Created task run 'process_file-68' for task 'process_file'\n"
      ]
     },
     "metadata": {},
     "output_type": "display_data"
    },
    {
     "data": {
      "text/html": [
       "<pre style=\"white-space:pre;overflow-x:auto;line-height:normal;font-family:Menlo,'DejaVu Sans Mono',consolas,'Courier New',monospace\">22:29:20.160 | <span style=\"color: #008080; text-decoration-color: #008080\">INFO</span>    | Flow run<span style=\"color: #800080; text-decoration-color: #800080\"> 'khaki-bat'</span> - Executing 'process_file-68' immediately...\n",
       "</pre>\n"
      ],
      "text/plain": [
       "22:29:20.160 | \u001b[36mINFO\u001b[0m    | Flow run\u001b[35m 'khaki-bat'\u001b[0m - Executing 'process_file-68' immediately...\n"
      ]
     },
     "metadata": {},
     "output_type": "display_data"
    },
    {
     "data": {
      "text/html": [
       "<pre style=\"white-space:pre;overflow-x:auto;line-height:normal;font-family:Menlo,'DejaVu Sans Mono',consolas,'Courier New',monospace\">22:29:20.426 | <span style=\"color: #008080; text-decoration-color: #008080\">INFO</span>    | Task run 'process_file-68' - Finished in state <span style=\"color: #008000; text-decoration-color: #008000\">Completed</span>()\n",
       "</pre>\n"
      ],
      "text/plain": [
       "22:29:20.426 | \u001b[36mINFO\u001b[0m    | Task run 'process_file-68' - Finished in state \u001b[32mCompleted\u001b[0m()\n"
      ]
     },
     "metadata": {},
     "output_type": "display_data"
    },
    {
     "data": {
      "text/html": [
       "<pre style=\"white-space:pre;overflow-x:auto;line-height:normal;font-family:Menlo,'DejaVu Sans Mono',consolas,'Courier New',monospace\">22:29:20.486 | <span style=\"color: #008080; text-decoration-color: #008080\">INFO</span>    | Flow run<span style=\"color: #800080; text-decoration-color: #800080\"> 'khaki-bat'</span> - Created task run 'write_gcs-68' for task 'write_gcs'\n",
       "</pre>\n"
      ],
      "text/plain": [
       "22:29:20.486 | \u001b[36mINFO\u001b[0m    | Flow run\u001b[35m 'khaki-bat'\u001b[0m - Created task run 'write_gcs-68' for task 'write_gcs'\n"
      ]
     },
     "metadata": {},
     "output_type": "display_data"
    },
    {
     "data": {
      "text/html": [
       "<pre style=\"white-space:pre;overflow-x:auto;line-height:normal;font-family:Menlo,'DejaVu Sans Mono',consolas,'Courier New',monospace\">22:29:20.488 | <span style=\"color: #008080; text-decoration-color: #008080\">INFO</span>    | Flow run<span style=\"color: #800080; text-decoration-color: #800080\"> 'khaki-bat'</span> - Executing 'write_gcs-68' immediately...\n",
       "</pre>\n"
      ],
      "text/plain": [
       "22:29:20.488 | \u001b[36mINFO\u001b[0m    | Flow run\u001b[35m 'khaki-bat'\u001b[0m - Executing 'write_gcs-68' immediately...\n"
      ]
     },
     "metadata": {},
     "output_type": "display_data"
    },
    {
     "name": "stdout",
     "output_type": "stream",
     "text": [
      "Csv file size is 2226888\n"
     ]
    },
    {
     "data": {
      "text/html": [
       "<pre style=\"white-space:pre;overflow-x:auto;line-height:normal;font-family:Menlo,'DejaVu Sans Mono',consolas,'Courier New',monospace\">22:29:23.409 | <span style=\"color: #008080; text-decoration-color: #008080\">INFO</span>    | Task run 'write_gcs-68' - Finished in state <span style=\"color: #008000; text-decoration-color: #008000\">Completed</span>()\n",
       "</pre>\n"
      ],
      "text/plain": [
       "22:29:23.409 | \u001b[36mINFO\u001b[0m    | Task run 'write_gcs-68' - Finished in state \u001b[32mCompleted\u001b[0m()\n"
      ]
     },
     "metadata": {},
     "output_type": "display_data"
    },
    {
     "name": "stdout",
     "output_type": "stream",
     "text": [
      "catch_19846.csv\n"
     ]
    },
    {
     "data": {
      "text/html": [
       "<pre style=\"white-space:pre;overflow-x:auto;line-height:normal;font-family:Menlo,'DejaVu Sans Mono',consolas,'Courier New',monospace\">22:29:23.494 | <span style=\"color: #008080; text-decoration-color: #008080\">INFO</span>    | Flow run<span style=\"color: #800080; text-decoration-color: #800080\"> 'khaki-bat'</span> - Created task run 'process_file-69' for task 'process_file'\n",
       "</pre>\n"
      ],
      "text/plain": [
       "22:29:23.494 | \u001b[36mINFO\u001b[0m    | Flow run\u001b[35m 'khaki-bat'\u001b[0m - Created task run 'process_file-69' for task 'process_file'\n"
      ]
     },
     "metadata": {},
     "output_type": "display_data"
    },
    {
     "data": {
      "text/html": [
       "<pre style=\"white-space:pre;overflow-x:auto;line-height:normal;font-family:Menlo,'DejaVu Sans Mono',consolas,'Courier New',monospace\">22:29:23.499 | <span style=\"color: #008080; text-decoration-color: #008080\">INFO</span>    | Flow run<span style=\"color: #800080; text-decoration-color: #800080\"> 'khaki-bat'</span> - Executing 'process_file-69' immediately...\n",
       "</pre>\n"
      ],
      "text/plain": [
       "22:29:23.499 | \u001b[36mINFO\u001b[0m    | Flow run\u001b[35m 'khaki-bat'\u001b[0m - Executing 'process_file-69' immediately...\n"
      ]
     },
     "metadata": {},
     "output_type": "display_data"
    },
    {
     "data": {
      "text/html": [
       "<pre style=\"white-space:pre;overflow-x:auto;line-height:normal;font-family:Menlo,'DejaVu Sans Mono',consolas,'Courier New',monospace\">22:29:23.746 | <span style=\"color: #008080; text-decoration-color: #008080\">INFO</span>    | Task run 'process_file-69' - Finished in state <span style=\"color: #008000; text-decoration-color: #008000\">Completed</span>()\n",
       "</pre>\n"
      ],
      "text/plain": [
       "22:29:23.746 | \u001b[36mINFO\u001b[0m    | Task run 'process_file-69' - Finished in state \u001b[32mCompleted\u001b[0m()\n"
      ]
     },
     "metadata": {},
     "output_type": "display_data"
    },
    {
     "data": {
      "text/html": [
       "<pre style=\"white-space:pre;overflow-x:auto;line-height:normal;font-family:Menlo,'DejaVu Sans Mono',consolas,'Courier New',monospace\">22:29:23.816 | <span style=\"color: #008080; text-decoration-color: #008080\">INFO</span>    | Flow run<span style=\"color: #800080; text-decoration-color: #800080\"> 'khaki-bat'</span> - Created task run 'write_gcs-69' for task 'write_gcs'\n",
       "</pre>\n"
      ],
      "text/plain": [
       "22:29:23.816 | \u001b[36mINFO\u001b[0m    | Flow run\u001b[35m 'khaki-bat'\u001b[0m - Created task run 'write_gcs-69' for task 'write_gcs'\n"
      ]
     },
     "metadata": {},
     "output_type": "display_data"
    },
    {
     "data": {
      "text/html": [
       "<pre style=\"white-space:pre;overflow-x:auto;line-height:normal;font-family:Menlo,'DejaVu Sans Mono',consolas,'Courier New',monospace\">22:29:23.820 | <span style=\"color: #008080; text-decoration-color: #008080\">INFO</span>    | Flow run<span style=\"color: #800080; text-decoration-color: #800080\"> 'khaki-bat'</span> - Executing 'write_gcs-69' immediately...\n",
       "</pre>\n"
      ],
      "text/plain": [
       "22:29:23.820 | \u001b[36mINFO\u001b[0m    | Flow run\u001b[35m 'khaki-bat'\u001b[0m - Executing 'write_gcs-69' immediately...\n"
      ]
     },
     "metadata": {},
     "output_type": "display_data"
    },
    {
     "name": "stdout",
     "output_type": "stream",
     "text": [
      "Csv file size is 831724\n"
     ]
    },
    {
     "data": {
      "text/html": [
       "<pre style=\"white-space:pre;overflow-x:auto;line-height:normal;font-family:Menlo,'DejaVu Sans Mono',consolas,'Courier New',monospace\">22:29:25.033 | <span style=\"color: #008080; text-decoration-color: #008080\">INFO</span>    | Task run 'write_gcs-69' - Finished in state <span style=\"color: #008000; text-decoration-color: #008000\">Completed</span>()\n",
       "</pre>\n"
      ],
      "text/plain": [
       "22:29:25.033 | \u001b[36mINFO\u001b[0m    | Task run 'write_gcs-69' - Finished in state \u001b[32mCompleted\u001b[0m()\n"
      ]
     },
     "metadata": {},
     "output_type": "display_data"
    },
    {
     "name": "stdout",
     "output_type": "stream",
     "text": [
      "trip_19846.csv\n"
     ]
    },
    {
     "data": {
      "text/html": [
       "<pre style=\"white-space:pre;overflow-x:auto;line-height:normal;font-family:Menlo,'DejaVu Sans Mono',consolas,'Courier New',monospace\">22:29:25.106 | <span style=\"color: #008080; text-decoration-color: #008080\">INFO</span>    | Flow run<span style=\"color: #800080; text-decoration-color: #800080\"> 'khaki-bat'</span> - Created task run 'process_file-70' for task 'process_file'\n",
       "</pre>\n"
      ],
      "text/plain": [
       "22:29:25.106 | \u001b[36mINFO\u001b[0m    | Flow run\u001b[35m 'khaki-bat'\u001b[0m - Created task run 'process_file-70' for task 'process_file'\n"
      ]
     },
     "metadata": {},
     "output_type": "display_data"
    },
    {
     "data": {
      "text/html": [
       "<pre style=\"white-space:pre;overflow-x:auto;line-height:normal;font-family:Menlo,'DejaVu Sans Mono',consolas,'Courier New',monospace\">22:29:25.111 | <span style=\"color: #008080; text-decoration-color: #008080\">INFO</span>    | Flow run<span style=\"color: #800080; text-decoration-color: #800080\"> 'khaki-bat'</span> - Executing 'process_file-70' immediately...\n",
       "</pre>\n"
      ],
      "text/plain": [
       "22:29:25.111 | \u001b[36mINFO\u001b[0m    | Flow run\u001b[35m 'khaki-bat'\u001b[0m - Executing 'process_file-70' immediately...\n"
      ]
     },
     "metadata": {},
     "output_type": "display_data"
    },
    {
     "data": {
      "text/html": [
       "<pre style=\"white-space:pre;overflow-x:auto;line-height:normal;font-family:Menlo,'DejaVu Sans Mono',consolas,'Courier New',monospace\">22:29:25.336 | <span style=\"color: #008080; text-decoration-color: #008080\">INFO</span>    | Task run 'process_file-70' - Finished in state <span style=\"color: #008000; text-decoration-color: #008000\">Completed</span>()\n",
       "</pre>\n"
      ],
      "text/plain": [
       "22:29:25.336 | \u001b[36mINFO\u001b[0m    | Task run 'process_file-70' - Finished in state \u001b[32mCompleted\u001b[0m()\n"
      ]
     },
     "metadata": {},
     "output_type": "display_data"
    },
    {
     "data": {
      "text/html": [
       "<pre style=\"white-space:pre;overflow-x:auto;line-height:normal;font-family:Menlo,'DejaVu Sans Mono',consolas,'Courier New',monospace\">22:29:25.438 | <span style=\"color: #008080; text-decoration-color: #008080\">INFO</span>    | Flow run<span style=\"color: #800080; text-decoration-color: #800080\"> 'khaki-bat'</span> - Created task run 'write_gcs-70' for task 'write_gcs'\n",
       "</pre>\n"
      ],
      "text/plain": [
       "22:29:25.438 | \u001b[36mINFO\u001b[0m    | Flow run\u001b[35m 'khaki-bat'\u001b[0m - Created task run 'write_gcs-70' for task 'write_gcs'\n"
      ]
     },
     "metadata": {},
     "output_type": "display_data"
    },
    {
     "data": {
      "text/html": [
       "<pre style=\"white-space:pre;overflow-x:auto;line-height:normal;font-family:Menlo,'DejaVu Sans Mono',consolas,'Courier New',monospace\">22:29:25.448 | <span style=\"color: #008080; text-decoration-color: #008080\">INFO</span>    | Flow run<span style=\"color: #800080; text-decoration-color: #800080\"> 'khaki-bat'</span> - Executing 'write_gcs-70' immediately...\n",
       "</pre>\n"
      ],
      "text/plain": [
       "22:29:25.448 | \u001b[36mINFO\u001b[0m    | Flow run\u001b[35m 'khaki-bat'\u001b[0m - Executing 'write_gcs-70' immediately...\n"
      ]
     },
     "metadata": {},
     "output_type": "display_data"
    },
    {
     "name": "stdout",
     "output_type": "stream",
     "text": [
      "Csv file size is 827292\n"
     ]
    },
    {
     "data": {
      "text/html": [
       "<pre style=\"white-space:pre;overflow-x:auto;line-height:normal;font-family:Menlo,'DejaVu Sans Mono',consolas,'Courier New',monospace\">22:29:26.665 | <span style=\"color: #008080; text-decoration-color: #008080\">INFO</span>    | Task run 'write_gcs-70' - Finished in state <span style=\"color: #008000; text-decoration-color: #008000\">Completed</span>()\n",
       "</pre>\n"
      ],
      "text/plain": [
       "22:29:26.665 | \u001b[36mINFO\u001b[0m    | Task run 'write_gcs-70' - Finished in state \u001b[32mCompleted\u001b[0m()\n"
      ]
     },
     "metadata": {},
     "output_type": "display_data"
    },
    {
     "name": "stdout",
     "output_type": "stream",
     "text": [
      "size_19846.csv\n"
     ]
    },
    {
     "data": {
      "text/html": [
       "<pre style=\"white-space:pre;overflow-x:auto;line-height:normal;font-family:Menlo,'DejaVu Sans Mono',consolas,'Courier New',monospace\">22:29:26.738 | <span style=\"color: #008080; text-decoration-color: #008080\">INFO</span>    | Flow run<span style=\"color: #800080; text-decoration-color: #800080\"> 'khaki-bat'</span> - Created task run 'process_file-71' for task 'process_file'\n",
       "</pre>\n"
      ],
      "text/plain": [
       "22:29:26.738 | \u001b[36mINFO\u001b[0m    | Flow run\u001b[35m 'khaki-bat'\u001b[0m - Created task run 'process_file-71' for task 'process_file'\n"
      ]
     },
     "metadata": {},
     "output_type": "display_data"
    },
    {
     "data": {
      "text/html": [
       "<pre style=\"white-space:pre;overflow-x:auto;line-height:normal;font-family:Menlo,'DejaVu Sans Mono',consolas,'Courier New',monospace\">22:29:26.741 | <span style=\"color: #008080; text-decoration-color: #008080\">INFO</span>    | Flow run<span style=\"color: #800080; text-decoration-color: #800080\"> 'khaki-bat'</span> - Executing 'process_file-71' immediately...\n",
       "</pre>\n"
      ],
      "text/plain": [
       "22:29:26.741 | \u001b[36mINFO\u001b[0m    | Flow run\u001b[35m 'khaki-bat'\u001b[0m - Executing 'process_file-71' immediately...\n"
      ]
     },
     "metadata": {},
     "output_type": "display_data"
    },
    {
     "data": {
      "text/html": [
       "<pre style=\"white-space:pre;overflow-x:auto;line-height:normal;font-family:Menlo,'DejaVu Sans Mono',consolas,'Courier New',monospace\">22:29:26.994 | <span style=\"color: #008080; text-decoration-color: #008080\">INFO</span>    | Task run 'process_file-71' - Finished in state <span style=\"color: #008000; text-decoration-color: #008000\">Completed</span>()\n",
       "</pre>\n"
      ],
      "text/plain": [
       "22:29:26.994 | \u001b[36mINFO\u001b[0m    | Task run 'process_file-71' - Finished in state \u001b[32mCompleted\u001b[0m()\n"
      ]
     },
     "metadata": {},
     "output_type": "display_data"
    },
    {
     "data": {
      "text/html": [
       "<pre style=\"white-space:pre;overflow-x:auto;line-height:normal;font-family:Menlo,'DejaVu Sans Mono',consolas,'Courier New',monospace\">22:29:27.069 | <span style=\"color: #008080; text-decoration-color: #008080\">INFO</span>    | Flow run<span style=\"color: #800080; text-decoration-color: #800080\"> 'khaki-bat'</span> - Created task run 'write_gcs-71' for task 'write_gcs'\n",
       "</pre>\n"
      ],
      "text/plain": [
       "22:29:27.069 | \u001b[36mINFO\u001b[0m    | Flow run\u001b[35m 'khaki-bat'\u001b[0m - Created task run 'write_gcs-71' for task 'write_gcs'\n"
      ]
     },
     "metadata": {},
     "output_type": "display_data"
    },
    {
     "data": {
      "text/html": [
       "<pre style=\"white-space:pre;overflow-x:auto;line-height:normal;font-family:Menlo,'DejaVu Sans Mono',consolas,'Courier New',monospace\">22:29:27.073 | <span style=\"color: #008080; text-decoration-color: #008080\">INFO</span>    | Flow run<span style=\"color: #800080; text-decoration-color: #800080\"> 'khaki-bat'</span> - Executing 'write_gcs-71' immediately...\n",
       "</pre>\n"
      ],
      "text/plain": [
       "22:29:27.073 | \u001b[36mINFO\u001b[0m    | Flow run\u001b[35m 'khaki-bat'\u001b[0m - Executing 'write_gcs-71' immediately...\n"
      ]
     },
     "metadata": {},
     "output_type": "display_data"
    },
    {
     "name": "stdout",
     "output_type": "stream",
     "text": [
      "Csv file size is 1089326\n"
     ]
    },
    {
     "data": {
      "text/html": [
       "<pre style=\"white-space:pre;overflow-x:auto;line-height:normal;font-family:Menlo,'DejaVu Sans Mono',consolas,'Courier New',monospace\">22:29:28.510 | <span style=\"color: #008080; text-decoration-color: #008080\">INFO</span>    | Task run 'write_gcs-71' - Finished in state <span style=\"color: #008000; text-decoration-color: #008000\">Completed</span>()\n",
       "</pre>\n"
      ],
      "text/plain": [
       "22:29:28.510 | \u001b[36mINFO\u001b[0m    | Task run 'write_gcs-71' - Finished in state \u001b[32mCompleted\u001b[0m()\n"
      ]
     },
     "metadata": {},
     "output_type": "display_data"
    },
    {
     "name": "stdout",
     "output_type": "stream",
     "text": [
      "catch_19851.csv\n"
     ]
    },
    {
     "data": {
      "text/html": [
       "<pre style=\"white-space:pre;overflow-x:auto;line-height:normal;font-family:Menlo,'DejaVu Sans Mono',consolas,'Courier New',monospace\">22:29:28.581 | <span style=\"color: #008080; text-decoration-color: #008080\">INFO</span>    | Flow run<span style=\"color: #800080; text-decoration-color: #800080\"> 'khaki-bat'</span> - Created task run 'process_file-72' for task 'process_file'\n",
       "</pre>\n"
      ],
      "text/plain": [
       "22:29:28.581 | \u001b[36mINFO\u001b[0m    | Flow run\u001b[35m 'khaki-bat'\u001b[0m - Created task run 'process_file-72' for task 'process_file'\n"
      ]
     },
     "metadata": {},
     "output_type": "display_data"
    },
    {
     "data": {
      "text/html": [
       "<pre style=\"white-space:pre;overflow-x:auto;line-height:normal;font-family:Menlo,'DejaVu Sans Mono',consolas,'Courier New',monospace\">22:29:28.584 | <span style=\"color: #008080; text-decoration-color: #008080\">INFO</span>    | Flow run<span style=\"color: #800080; text-decoration-color: #800080\"> 'khaki-bat'</span> - Executing 'process_file-72' immediately...\n",
       "</pre>\n"
      ],
      "text/plain": [
       "22:29:28.584 | \u001b[36mINFO\u001b[0m    | Flow run\u001b[35m 'khaki-bat'\u001b[0m - Executing 'process_file-72' immediately...\n"
      ]
     },
     "metadata": {},
     "output_type": "display_data"
    },
    {
     "data": {
      "text/html": [
       "<pre style=\"white-space:pre;overflow-x:auto;line-height:normal;font-family:Menlo,'DejaVu Sans Mono',consolas,'Courier New',monospace\">22:29:28.788 | <span style=\"color: #008080; text-decoration-color: #008080\">INFO</span>    | Task run 'process_file-72' - Finished in state <span style=\"color: #008000; text-decoration-color: #008000\">Completed</span>()\n",
       "</pre>\n"
      ],
      "text/plain": [
       "22:29:28.788 | \u001b[36mINFO\u001b[0m    | Task run 'process_file-72' - Finished in state \u001b[32mCompleted\u001b[0m()\n"
      ]
     },
     "metadata": {},
     "output_type": "display_data"
    },
    {
     "data": {
      "text/html": [
       "<pre style=\"white-space:pre;overflow-x:auto;line-height:normal;font-family:Menlo,'DejaVu Sans Mono',consolas,'Courier New',monospace\">22:29:28.857 | <span style=\"color: #008080; text-decoration-color: #008080\">INFO</span>    | Flow run<span style=\"color: #800080; text-decoration-color: #800080\"> 'khaki-bat'</span> - Created task run 'write_gcs-72' for task 'write_gcs'\n",
       "</pre>\n"
      ],
      "text/plain": [
       "22:29:28.857 | \u001b[36mINFO\u001b[0m    | Flow run\u001b[35m 'khaki-bat'\u001b[0m - Created task run 'write_gcs-72' for task 'write_gcs'\n"
      ]
     },
     "metadata": {},
     "output_type": "display_data"
    },
    {
     "data": {
      "text/html": [
       "<pre style=\"white-space:pre;overflow-x:auto;line-height:normal;font-family:Menlo,'DejaVu Sans Mono',consolas,'Courier New',monospace\">22:29:28.860 | <span style=\"color: #008080; text-decoration-color: #008080\">INFO</span>    | Flow run<span style=\"color: #800080; text-decoration-color: #800080\"> 'khaki-bat'</span> - Executing 'write_gcs-72' immediately...\n",
       "</pre>\n"
      ],
      "text/plain": [
       "22:29:28.860 | \u001b[36mINFO\u001b[0m    | Flow run\u001b[35m 'khaki-bat'\u001b[0m - Executing 'write_gcs-72' immediately...\n"
      ]
     },
     "metadata": {},
     "output_type": "display_data"
    },
    {
     "name": "stdout",
     "output_type": "stream",
     "text": [
      "Csv file size is 368300\n"
     ]
    },
    {
     "data": {
      "text/html": [
       "<pre style=\"white-space:pre;overflow-x:auto;line-height:normal;font-family:Menlo,'DejaVu Sans Mono',consolas,'Courier New',monospace\">22:29:29.829 | <span style=\"color: #008080; text-decoration-color: #008080\">INFO</span>    | Task run 'write_gcs-72' - Finished in state <span style=\"color: #008000; text-decoration-color: #008000\">Completed</span>()\n",
       "</pre>\n"
      ],
      "text/plain": [
       "22:29:29.829 | \u001b[36mINFO\u001b[0m    | Task run 'write_gcs-72' - Finished in state \u001b[32mCompleted\u001b[0m()\n"
      ]
     },
     "metadata": {},
     "output_type": "display_data"
    },
    {
     "name": "stdout",
     "output_type": "stream",
     "text": [
      "trip_19851.csv\n"
     ]
    },
    {
     "data": {
      "text/html": [
       "<pre style=\"white-space:pre;overflow-x:auto;line-height:normal;font-family:Menlo,'DejaVu Sans Mono',consolas,'Courier New',monospace\">22:29:29.904 | <span style=\"color: #008080; text-decoration-color: #008080\">INFO</span>    | Flow run<span style=\"color: #800080; text-decoration-color: #800080\"> 'khaki-bat'</span> - Created task run 'process_file-73' for task 'process_file'\n",
       "</pre>\n"
      ],
      "text/plain": [
       "22:29:29.904 | \u001b[36mINFO\u001b[0m    | Flow run\u001b[35m 'khaki-bat'\u001b[0m - Created task run 'process_file-73' for task 'process_file'\n"
      ]
     },
     "metadata": {},
     "output_type": "display_data"
    },
    {
     "data": {
      "text/html": [
       "<pre style=\"white-space:pre;overflow-x:auto;line-height:normal;font-family:Menlo,'DejaVu Sans Mono',consolas,'Courier New',monospace\">22:29:29.908 | <span style=\"color: #008080; text-decoration-color: #008080\">INFO</span>    | Flow run<span style=\"color: #800080; text-decoration-color: #800080\"> 'khaki-bat'</span> - Executing 'process_file-73' immediately...\n",
       "</pre>\n"
      ],
      "text/plain": [
       "22:29:29.908 | \u001b[36mINFO\u001b[0m    | Flow run\u001b[35m 'khaki-bat'\u001b[0m - Executing 'process_file-73' immediately...\n"
      ]
     },
     "metadata": {},
     "output_type": "display_data"
    },
    {
     "data": {
      "text/html": [
       "<pre style=\"white-space:pre;overflow-x:auto;line-height:normal;font-family:Menlo,'DejaVu Sans Mono',consolas,'Courier New',monospace\">22:29:30.111 | <span style=\"color: #008080; text-decoration-color: #008080\">INFO</span>    | Task run 'process_file-73' - Finished in state <span style=\"color: #008000; text-decoration-color: #008000\">Completed</span>()\n",
       "</pre>\n"
      ],
      "text/plain": [
       "22:29:30.111 | \u001b[36mINFO\u001b[0m    | Task run 'process_file-73' - Finished in state \u001b[32mCompleted\u001b[0m()\n"
      ]
     },
     "metadata": {},
     "output_type": "display_data"
    },
    {
     "data": {
      "text/html": [
       "<pre style=\"white-space:pre;overflow-x:auto;line-height:normal;font-family:Menlo,'DejaVu Sans Mono',consolas,'Courier New',monospace\">22:29:30.169 | <span style=\"color: #008080; text-decoration-color: #008080\">INFO</span>    | Flow run<span style=\"color: #800080; text-decoration-color: #800080\"> 'khaki-bat'</span> - Created task run 'write_gcs-73' for task 'write_gcs'\n",
       "</pre>\n"
      ],
      "text/plain": [
       "22:29:30.169 | \u001b[36mINFO\u001b[0m    | Flow run\u001b[35m 'khaki-bat'\u001b[0m - Created task run 'write_gcs-73' for task 'write_gcs'\n"
      ]
     },
     "metadata": {},
     "output_type": "display_data"
    },
    {
     "data": {
      "text/html": [
       "<pre style=\"white-space:pre;overflow-x:auto;line-height:normal;font-family:Menlo,'DejaVu Sans Mono',consolas,'Courier New',monospace\">22:29:30.172 | <span style=\"color: #008080; text-decoration-color: #008080\">INFO</span>    | Flow run<span style=\"color: #800080; text-decoration-color: #800080\"> 'khaki-bat'</span> - Executing 'write_gcs-73' immediately...\n",
       "</pre>\n"
      ],
      "text/plain": [
       "22:29:30.172 | \u001b[36mINFO\u001b[0m    | Flow run\u001b[35m 'khaki-bat'\u001b[0m - Executing 'write_gcs-73' immediately...\n"
      ]
     },
     "metadata": {},
     "output_type": "display_data"
    },
    {
     "name": "stdout",
     "output_type": "stream",
     "text": [
      "Csv file size is 378817\n"
     ]
    },
    {
     "data": {
      "text/html": [
       "<pre style=\"white-space:pre;overflow-x:auto;line-height:normal;font-family:Menlo,'DejaVu Sans Mono',consolas,'Courier New',monospace\">22:29:31.348 | <span style=\"color: #008080; text-decoration-color: #008080\">INFO</span>    | Task run 'write_gcs-73' - Finished in state <span style=\"color: #008000; text-decoration-color: #008000\">Completed</span>()\n",
       "</pre>\n"
      ],
      "text/plain": [
       "22:29:31.348 | \u001b[36mINFO\u001b[0m    | Task run 'write_gcs-73' - Finished in state \u001b[32mCompleted\u001b[0m()\n"
      ]
     },
     "metadata": {},
     "output_type": "display_data"
    },
    {
     "name": "stdout",
     "output_type": "stream",
     "text": [
      "size_19851.csv\n"
     ]
    },
    {
     "data": {
      "text/html": [
       "<pre style=\"white-space:pre;overflow-x:auto;line-height:normal;font-family:Menlo,'DejaVu Sans Mono',consolas,'Courier New',monospace\">22:29:31.426 | <span style=\"color: #008080; text-decoration-color: #008080\">INFO</span>    | Flow run<span style=\"color: #800080; text-decoration-color: #800080\"> 'khaki-bat'</span> - Created task run 'process_file-74' for task 'process_file'\n",
       "</pre>\n"
      ],
      "text/plain": [
       "22:29:31.426 | \u001b[36mINFO\u001b[0m    | Flow run\u001b[35m 'khaki-bat'\u001b[0m - Created task run 'process_file-74' for task 'process_file'\n"
      ]
     },
     "metadata": {},
     "output_type": "display_data"
    },
    {
     "data": {
      "text/html": [
       "<pre style=\"white-space:pre;overflow-x:auto;line-height:normal;font-family:Menlo,'DejaVu Sans Mono',consolas,'Courier New',monospace\">22:29:31.431 | <span style=\"color: #008080; text-decoration-color: #008080\">INFO</span>    | Flow run<span style=\"color: #800080; text-decoration-color: #800080\"> 'khaki-bat'</span> - Executing 'process_file-74' immediately...\n",
       "</pre>\n"
      ],
      "text/plain": [
       "22:29:31.431 | \u001b[36mINFO\u001b[0m    | Flow run\u001b[35m 'khaki-bat'\u001b[0m - Executing 'process_file-74' immediately...\n"
      ]
     },
     "metadata": {},
     "output_type": "display_data"
    },
    {
     "data": {
      "text/html": [
       "<pre style=\"white-space:pre;overflow-x:auto;line-height:normal;font-family:Menlo,'DejaVu Sans Mono',consolas,'Courier New',monospace\">22:29:31.747 | <span style=\"color: #008080; text-decoration-color: #008080\">INFO</span>    | Task run 'process_file-74' - Finished in state <span style=\"color: #008000; text-decoration-color: #008000\">Completed</span>()\n",
       "</pre>\n"
      ],
      "text/plain": [
       "22:29:31.747 | \u001b[36mINFO\u001b[0m    | Task run 'process_file-74' - Finished in state \u001b[32mCompleted\u001b[0m()\n"
      ]
     },
     "metadata": {},
     "output_type": "display_data"
    },
    {
     "data": {
      "text/html": [
       "<pre style=\"white-space:pre;overflow-x:auto;line-height:normal;font-family:Menlo,'DejaVu Sans Mono',consolas,'Courier New',monospace\">22:29:31.998 | <span style=\"color: #008080; text-decoration-color: #008080\">INFO</span>    | Flow run<span style=\"color: #800080; text-decoration-color: #800080\"> 'khaki-bat'</span> - Created task run 'write_gcs-74' for task 'write_gcs'\n",
       "</pre>\n"
      ],
      "text/plain": [
       "22:29:31.998 | \u001b[36mINFO\u001b[0m    | Flow run\u001b[35m 'khaki-bat'\u001b[0m - Created task run 'write_gcs-74' for task 'write_gcs'\n"
      ]
     },
     "metadata": {},
     "output_type": "display_data"
    },
    {
     "data": {
      "text/html": [
       "<pre style=\"white-space:pre;overflow-x:auto;line-height:normal;font-family:Menlo,'DejaVu Sans Mono',consolas,'Courier New',monospace\">22:29:32.002 | <span style=\"color: #008080; text-decoration-color: #008080\">INFO</span>    | Flow run<span style=\"color: #800080; text-decoration-color: #800080\"> 'khaki-bat'</span> - Executing 'write_gcs-74' immediately...\n",
       "</pre>\n"
      ],
      "text/plain": [
       "22:29:32.002 | \u001b[36mINFO\u001b[0m    | Flow run\u001b[35m 'khaki-bat'\u001b[0m - Executing 'write_gcs-74' immediately...\n"
      ]
     },
     "metadata": {},
     "output_type": "display_data"
    },
    {
     "name": "stdout",
     "output_type": "stream",
     "text": [
      "Csv file size is 355965\n"
     ]
    },
    {
     "data": {
      "text/html": [
       "<pre style=\"white-space:pre;overflow-x:auto;line-height:normal;font-family:Menlo,'DejaVu Sans Mono',consolas,'Courier New',monospace\">22:29:33.140 | <span style=\"color: #008080; text-decoration-color: #008080\">INFO</span>    | Task run 'write_gcs-74' - Finished in state <span style=\"color: #008000; text-decoration-color: #008000\">Completed</span>()\n",
       "</pre>\n"
      ],
      "text/plain": [
       "22:29:33.140 | \u001b[36mINFO\u001b[0m    | Task run 'write_gcs-74' - Finished in state \u001b[32mCompleted\u001b[0m()\n"
      ]
     },
     "metadata": {},
     "output_type": "display_data"
    },
    {
     "name": "stdout",
     "output_type": "stream",
     "text": [
      "catch_19852.csv\n"
     ]
    },
    {
     "data": {
      "text/html": [
       "<pre style=\"white-space:pre;overflow-x:auto;line-height:normal;font-family:Menlo,'DejaVu Sans Mono',consolas,'Courier New',monospace\">22:29:33.221 | <span style=\"color: #008080; text-decoration-color: #008080\">INFO</span>    | Flow run<span style=\"color: #800080; text-decoration-color: #800080\"> 'khaki-bat'</span> - Created task run 'process_file-75' for task 'process_file'\n",
       "</pre>\n"
      ],
      "text/plain": [
       "22:29:33.221 | \u001b[36mINFO\u001b[0m    | Flow run\u001b[35m 'khaki-bat'\u001b[0m - Created task run 'process_file-75' for task 'process_file'\n"
      ]
     },
     "metadata": {},
     "output_type": "display_data"
    },
    {
     "data": {
      "text/html": [
       "<pre style=\"white-space:pre;overflow-x:auto;line-height:normal;font-family:Menlo,'DejaVu Sans Mono',consolas,'Courier New',monospace\">22:29:33.227 | <span style=\"color: #008080; text-decoration-color: #008080\">INFO</span>    | Flow run<span style=\"color: #800080; text-decoration-color: #800080\"> 'khaki-bat'</span> - Executing 'process_file-75' immediately...\n",
       "</pre>\n"
      ],
      "text/plain": [
       "22:29:33.227 | \u001b[36mINFO\u001b[0m    | Flow run\u001b[35m 'khaki-bat'\u001b[0m - Executing 'process_file-75' immediately...\n"
      ]
     },
     "metadata": {},
     "output_type": "display_data"
    },
    {
     "data": {
      "text/html": [
       "<pre style=\"white-space:pre;overflow-x:auto;line-height:normal;font-family:Menlo,'DejaVu Sans Mono',consolas,'Courier New',monospace\">22:29:33.496 | <span style=\"color: #008080; text-decoration-color: #008080\">INFO</span>    | Task run 'process_file-75' - Finished in state <span style=\"color: #008000; text-decoration-color: #008000\">Completed</span>()\n",
       "</pre>\n"
      ],
      "text/plain": [
       "22:29:33.496 | \u001b[36mINFO\u001b[0m    | Task run 'process_file-75' - Finished in state \u001b[32mCompleted\u001b[0m()\n"
      ]
     },
     "metadata": {},
     "output_type": "display_data"
    },
    {
     "data": {
      "text/html": [
       "<pre style=\"white-space:pre;overflow-x:auto;line-height:normal;font-family:Menlo,'DejaVu Sans Mono',consolas,'Courier New',monospace\">22:29:33.603 | <span style=\"color: #008080; text-decoration-color: #008080\">INFO</span>    | Flow run<span style=\"color: #800080; text-decoration-color: #800080\"> 'khaki-bat'</span> - Created task run 'write_gcs-75' for task 'write_gcs'\n",
       "</pre>\n"
      ],
      "text/plain": [
       "22:29:33.603 | \u001b[36mINFO\u001b[0m    | Flow run\u001b[35m 'khaki-bat'\u001b[0m - Created task run 'write_gcs-75' for task 'write_gcs'\n"
      ]
     },
     "metadata": {},
     "output_type": "display_data"
    },
    {
     "data": {
      "text/html": [
       "<pre style=\"white-space:pre;overflow-x:auto;line-height:normal;font-family:Menlo,'DejaVu Sans Mono',consolas,'Courier New',monospace\">22:29:33.608 | <span style=\"color: #008080; text-decoration-color: #008080\">INFO</span>    | Flow run<span style=\"color: #800080; text-decoration-color: #800080\"> 'khaki-bat'</span> - Executing 'write_gcs-75' immediately...\n",
       "</pre>\n"
      ],
      "text/plain": [
       "22:29:33.608 | \u001b[36mINFO\u001b[0m    | Flow run\u001b[35m 'khaki-bat'\u001b[0m - Executing 'write_gcs-75' immediately...\n"
      ]
     },
     "metadata": {},
     "output_type": "display_data"
    },
    {
     "name": "stdout",
     "output_type": "stream",
     "text": [
      "Csv file size is 1200663\n"
     ]
    },
    {
     "data": {
      "text/html": [
       "<pre style=\"white-space:pre;overflow-x:auto;line-height:normal;font-family:Menlo,'DejaVu Sans Mono',consolas,'Courier New',monospace\">22:29:35.050 | <span style=\"color: #008080; text-decoration-color: #008080\">INFO</span>    | Task run 'write_gcs-75' - Finished in state <span style=\"color: #008000; text-decoration-color: #008000\">Completed</span>()\n",
       "</pre>\n"
      ],
      "text/plain": [
       "22:29:35.050 | \u001b[36mINFO\u001b[0m    | Task run 'write_gcs-75' - Finished in state \u001b[32mCompleted\u001b[0m()\n"
      ]
     },
     "metadata": {},
     "output_type": "display_data"
    },
    {
     "name": "stdout",
     "output_type": "stream",
     "text": [
      "trip_19852.csv\n"
     ]
    },
    {
     "data": {
      "text/html": [
       "<pre style=\"white-space:pre;overflow-x:auto;line-height:normal;font-family:Menlo,'DejaVu Sans Mono',consolas,'Courier New',monospace\">22:29:35.139 | <span style=\"color: #008080; text-decoration-color: #008080\">INFO</span>    | Flow run<span style=\"color: #800080; text-decoration-color: #800080\"> 'khaki-bat'</span> - Created task run 'process_file-76' for task 'process_file'\n",
       "</pre>\n"
      ],
      "text/plain": [
       "22:29:35.139 | \u001b[36mINFO\u001b[0m    | Flow run\u001b[35m 'khaki-bat'\u001b[0m - Created task run 'process_file-76' for task 'process_file'\n"
      ]
     },
     "metadata": {},
     "output_type": "display_data"
    },
    {
     "data": {
      "text/html": [
       "<pre style=\"white-space:pre;overflow-x:auto;line-height:normal;font-family:Menlo,'DejaVu Sans Mono',consolas,'Courier New',monospace\">22:29:35.144 | <span style=\"color: #008080; text-decoration-color: #008080\">INFO</span>    | Flow run<span style=\"color: #800080; text-decoration-color: #800080\"> 'khaki-bat'</span> - Executing 'process_file-76' immediately...\n",
       "</pre>\n"
      ],
      "text/plain": [
       "22:29:35.144 | \u001b[36mINFO\u001b[0m    | Flow run\u001b[35m 'khaki-bat'\u001b[0m - Executing 'process_file-76' immediately...\n"
      ]
     },
     "metadata": {},
     "output_type": "display_data"
    },
    {
     "data": {
      "text/html": [
       "<pre style=\"white-space:pre;overflow-x:auto;line-height:normal;font-family:Menlo,'DejaVu Sans Mono',consolas,'Courier New',monospace\">22:29:35.346 | <span style=\"color: #008080; text-decoration-color: #008080\">INFO</span>    | Task run 'process_file-76' - Finished in state <span style=\"color: #008000; text-decoration-color: #008000\">Completed</span>()\n",
       "</pre>\n"
      ],
      "text/plain": [
       "22:29:35.346 | \u001b[36mINFO\u001b[0m    | Task run 'process_file-76' - Finished in state \u001b[32mCompleted\u001b[0m()\n"
      ]
     },
     "metadata": {},
     "output_type": "display_data"
    },
    {
     "data": {
      "text/html": [
       "<pre style=\"white-space:pre;overflow-x:auto;line-height:normal;font-family:Menlo,'DejaVu Sans Mono',consolas,'Courier New',monospace\">22:29:35.418 | <span style=\"color: #008080; text-decoration-color: #008080\">INFO</span>    | Flow run<span style=\"color: #800080; text-decoration-color: #800080\"> 'khaki-bat'</span> - Created task run 'write_gcs-76' for task 'write_gcs'\n",
       "</pre>\n"
      ],
      "text/plain": [
       "22:29:35.418 | \u001b[36mINFO\u001b[0m    | Flow run\u001b[35m 'khaki-bat'\u001b[0m - Created task run 'write_gcs-76' for task 'write_gcs'\n"
      ]
     },
     "metadata": {},
     "output_type": "display_data"
    },
    {
     "data": {
      "text/html": [
       "<pre style=\"white-space:pre;overflow-x:auto;line-height:normal;font-family:Menlo,'DejaVu Sans Mono',consolas,'Courier New',monospace\">22:29:35.421 | <span style=\"color: #008080; text-decoration-color: #008080\">INFO</span>    | Flow run<span style=\"color: #800080; text-decoration-color: #800080\"> 'khaki-bat'</span> - Executing 'write_gcs-76' immediately...\n",
       "</pre>\n"
      ],
      "text/plain": [
       "22:29:35.421 | \u001b[36mINFO\u001b[0m    | Flow run\u001b[35m 'khaki-bat'\u001b[0m - Executing 'write_gcs-76' immediately...\n"
      ]
     },
     "metadata": {},
     "output_type": "display_data"
    },
    {
     "name": "stdout",
     "output_type": "stream",
     "text": [
      "Csv file size is 1368006\n"
     ]
    },
    {
     "data": {
      "text/html": [
       "<pre style=\"white-space:pre;overflow-x:auto;line-height:normal;font-family:Menlo,'DejaVu Sans Mono',consolas,'Courier New',monospace\">22:29:36.976 | <span style=\"color: #008080; text-decoration-color: #008080\">INFO</span>    | Task run 'write_gcs-76' - Finished in state <span style=\"color: #008000; text-decoration-color: #008000\">Completed</span>()\n",
       "</pre>\n"
      ],
      "text/plain": [
       "22:29:36.976 | \u001b[36mINFO\u001b[0m    | Task run 'write_gcs-76' - Finished in state \u001b[32mCompleted\u001b[0m()\n"
      ]
     },
     "metadata": {},
     "output_type": "display_data"
    },
    {
     "name": "stdout",
     "output_type": "stream",
     "text": [
      "size_19852.csv\n"
     ]
    },
    {
     "data": {
      "text/html": [
       "<pre style=\"white-space:pre;overflow-x:auto;line-height:normal;font-family:Menlo,'DejaVu Sans Mono',consolas,'Courier New',monospace\">22:29:37.051 | <span style=\"color: #008080; text-decoration-color: #008080\">INFO</span>    | Flow run<span style=\"color: #800080; text-decoration-color: #800080\"> 'khaki-bat'</span> - Created task run 'process_file-77' for task 'process_file'\n",
       "</pre>\n"
      ],
      "text/plain": [
       "22:29:37.051 | \u001b[36mINFO\u001b[0m    | Flow run\u001b[35m 'khaki-bat'\u001b[0m - Created task run 'process_file-77' for task 'process_file'\n"
      ]
     },
     "metadata": {},
     "output_type": "display_data"
    },
    {
     "data": {
      "text/html": [
       "<pre style=\"white-space:pre;overflow-x:auto;line-height:normal;font-family:Menlo,'DejaVu Sans Mono',consolas,'Courier New',monospace\">22:29:37.054 | <span style=\"color: #008080; text-decoration-color: #008080\">INFO</span>    | Flow run<span style=\"color: #800080; text-decoration-color: #800080\"> 'khaki-bat'</span> - Executing 'process_file-77' immediately...\n",
       "</pre>\n"
      ],
      "text/plain": [
       "22:29:37.054 | \u001b[36mINFO\u001b[0m    | Flow run\u001b[35m 'khaki-bat'\u001b[0m - Executing 'process_file-77' immediately...\n"
      ]
     },
     "metadata": {},
     "output_type": "display_data"
    },
    {
     "data": {
      "text/html": [
       "<pre style=\"white-space:pre;overflow-x:auto;line-height:normal;font-family:Menlo,'DejaVu Sans Mono',consolas,'Courier New',monospace\">22:29:37.247 | <span style=\"color: #008080; text-decoration-color: #008080\">INFO</span>    | Task run 'process_file-77' - Finished in state <span style=\"color: #008000; text-decoration-color: #008000\">Completed</span>()\n",
       "</pre>\n"
      ],
      "text/plain": [
       "22:29:37.247 | \u001b[36mINFO\u001b[0m    | Task run 'process_file-77' - Finished in state \u001b[32mCompleted\u001b[0m()\n"
      ]
     },
     "metadata": {},
     "output_type": "display_data"
    },
    {
     "data": {
      "text/html": [
       "<pre style=\"white-space:pre;overflow-x:auto;line-height:normal;font-family:Menlo,'DejaVu Sans Mono',consolas,'Courier New',monospace\">22:29:37.307 | <span style=\"color: #008080; text-decoration-color: #008080\">INFO</span>    | Flow run<span style=\"color: #800080; text-decoration-color: #800080\"> 'khaki-bat'</span> - Created task run 'write_gcs-77' for task 'write_gcs'\n",
       "</pre>\n"
      ],
      "text/plain": [
       "22:29:37.307 | \u001b[36mINFO\u001b[0m    | Flow run\u001b[35m 'khaki-bat'\u001b[0m - Created task run 'write_gcs-77' for task 'write_gcs'\n"
      ]
     },
     "metadata": {},
     "output_type": "display_data"
    },
    {
     "data": {
      "text/html": [
       "<pre style=\"white-space:pre;overflow-x:auto;line-height:normal;font-family:Menlo,'DejaVu Sans Mono',consolas,'Courier New',monospace\">22:29:37.310 | <span style=\"color: #008080; text-decoration-color: #008080\">INFO</span>    | Flow run<span style=\"color: #800080; text-decoration-color: #800080\"> 'khaki-bat'</span> - Executing 'write_gcs-77' immediately...\n",
       "</pre>\n"
      ],
      "text/plain": [
       "22:29:37.310 | \u001b[36mINFO\u001b[0m    | Flow run\u001b[35m 'khaki-bat'\u001b[0m - Executing 'write_gcs-77' immediately...\n"
      ]
     },
     "metadata": {},
     "output_type": "display_data"
    },
    {
     "name": "stdout",
     "output_type": "stream",
     "text": [
      "Csv file size is 1464711\n"
     ]
    },
    {
     "data": {
      "text/html": [
       "<pre style=\"white-space:pre;overflow-x:auto;line-height:normal;font-family:Menlo,'DejaVu Sans Mono',consolas,'Courier New',monospace\">22:29:38.946 | <span style=\"color: #008080; text-decoration-color: #008080\">INFO</span>    | Task run 'write_gcs-77' - Finished in state <span style=\"color: #008000; text-decoration-color: #008000\">Completed</span>()\n",
       "</pre>\n"
      ],
      "text/plain": [
       "22:29:38.946 | \u001b[36mINFO\u001b[0m    | Task run 'write_gcs-77' - Finished in state \u001b[32mCompleted\u001b[0m()\n"
      ]
     },
     "metadata": {},
     "output_type": "display_data"
    },
    {
     "name": "stdout",
     "output_type": "stream",
     "text": [
      "catch_19853.csv\n"
     ]
    },
    {
     "data": {
      "text/html": [
       "<pre style=\"white-space:pre;overflow-x:auto;line-height:normal;font-family:Menlo,'DejaVu Sans Mono',consolas,'Courier New',monospace\">22:29:39.022 | <span style=\"color: #008080; text-decoration-color: #008080\">INFO</span>    | Flow run<span style=\"color: #800080; text-decoration-color: #800080\"> 'khaki-bat'</span> - Created task run 'process_file-78' for task 'process_file'\n",
       "</pre>\n"
      ],
      "text/plain": [
       "22:29:39.022 | \u001b[36mINFO\u001b[0m    | Flow run\u001b[35m 'khaki-bat'\u001b[0m - Created task run 'process_file-78' for task 'process_file'\n"
      ]
     },
     "metadata": {},
     "output_type": "display_data"
    },
    {
     "data": {
      "text/html": [
       "<pre style=\"white-space:pre;overflow-x:auto;line-height:normal;font-family:Menlo,'DejaVu Sans Mono',consolas,'Courier New',monospace\">22:29:39.026 | <span style=\"color: #008080; text-decoration-color: #008080\">INFO</span>    | Flow run<span style=\"color: #800080; text-decoration-color: #800080\"> 'khaki-bat'</span> - Executing 'process_file-78' immediately...\n",
       "</pre>\n"
      ],
      "text/plain": [
       "22:29:39.026 | \u001b[36mINFO\u001b[0m    | Flow run\u001b[35m 'khaki-bat'\u001b[0m - Executing 'process_file-78' immediately...\n"
      ]
     },
     "metadata": {},
     "output_type": "display_data"
    },
    {
     "data": {
      "text/html": [
       "<pre style=\"white-space:pre;overflow-x:auto;line-height:normal;font-family:Menlo,'DejaVu Sans Mono',consolas,'Courier New',monospace\">22:29:39.230 | <span style=\"color: #008080; text-decoration-color: #008080\">INFO</span>    | Task run 'process_file-78' - Finished in state <span style=\"color: #008000; text-decoration-color: #008000\">Completed</span>()\n",
       "</pre>\n"
      ],
      "text/plain": [
       "22:29:39.230 | \u001b[36mINFO\u001b[0m    | Task run 'process_file-78' - Finished in state \u001b[32mCompleted\u001b[0m()\n"
      ]
     },
     "metadata": {},
     "output_type": "display_data"
    },
    {
     "data": {
      "text/html": [
       "<pre style=\"white-space:pre;overflow-x:auto;line-height:normal;font-family:Menlo,'DejaVu Sans Mono',consolas,'Courier New',monospace\">22:29:39.295 | <span style=\"color: #008080; text-decoration-color: #008080\">INFO</span>    | Flow run<span style=\"color: #800080; text-decoration-color: #800080\"> 'khaki-bat'</span> - Created task run 'write_gcs-78' for task 'write_gcs'\n",
       "</pre>\n"
      ],
      "text/plain": [
       "22:29:39.295 | \u001b[36mINFO\u001b[0m    | Flow run\u001b[35m 'khaki-bat'\u001b[0m - Created task run 'write_gcs-78' for task 'write_gcs'\n"
      ]
     },
     "metadata": {},
     "output_type": "display_data"
    },
    {
     "data": {
      "text/html": [
       "<pre style=\"white-space:pre;overflow-x:auto;line-height:normal;font-family:Menlo,'DejaVu Sans Mono',consolas,'Courier New',monospace\">22:29:39.298 | <span style=\"color: #008080; text-decoration-color: #008080\">INFO</span>    | Flow run<span style=\"color: #800080; text-decoration-color: #800080\"> 'khaki-bat'</span> - Executing 'write_gcs-78' immediately...\n",
       "</pre>\n"
      ],
      "text/plain": [
       "22:29:39.298 | \u001b[36mINFO\u001b[0m    | Flow run\u001b[35m 'khaki-bat'\u001b[0m - Executing 'write_gcs-78' immediately...\n"
      ]
     },
     "metadata": {},
     "output_type": "display_data"
    },
    {
     "name": "stdout",
     "output_type": "stream",
     "text": [
      "Csv file size is 2455065\n"
     ]
    },
    {
     "data": {
      "text/html": [
       "<pre style=\"white-space:pre;overflow-x:auto;line-height:normal;font-family:Menlo,'DejaVu Sans Mono',consolas,'Courier New',monospace\">22:29:41.641 | <span style=\"color: #008080; text-decoration-color: #008080\">INFO</span>    | Task run 'write_gcs-78' - Finished in state <span style=\"color: #008000; text-decoration-color: #008000\">Completed</span>()\n",
       "</pre>\n"
      ],
      "text/plain": [
       "22:29:41.641 | \u001b[36mINFO\u001b[0m    | Task run 'write_gcs-78' - Finished in state \u001b[32mCompleted\u001b[0m()\n"
      ]
     },
     "metadata": {},
     "output_type": "display_data"
    },
    {
     "name": "stdout",
     "output_type": "stream",
     "text": [
      "trip_19853.csv\n"
     ]
    },
    {
     "data": {
      "text/html": [
       "<pre style=\"white-space:pre;overflow-x:auto;line-height:normal;font-family:Menlo,'DejaVu Sans Mono',consolas,'Courier New',monospace\">22:29:41.706 | <span style=\"color: #008080; text-decoration-color: #008080\">INFO</span>    | Flow run<span style=\"color: #800080; text-decoration-color: #800080\"> 'khaki-bat'</span> - Created task run 'process_file-79' for task 'process_file'\n",
       "</pre>\n"
      ],
      "text/plain": [
       "22:29:41.706 | \u001b[36mINFO\u001b[0m    | Flow run\u001b[35m 'khaki-bat'\u001b[0m - Created task run 'process_file-79' for task 'process_file'\n"
      ]
     },
     "metadata": {},
     "output_type": "display_data"
    },
    {
     "data": {
      "text/html": [
       "<pre style=\"white-space:pre;overflow-x:auto;line-height:normal;font-family:Menlo,'DejaVu Sans Mono',consolas,'Courier New',monospace\">22:29:41.710 | <span style=\"color: #008080; text-decoration-color: #008080\">INFO</span>    | Flow run<span style=\"color: #800080; text-decoration-color: #800080\"> 'khaki-bat'</span> - Executing 'process_file-79' immediately...\n",
       "</pre>\n"
      ],
      "text/plain": [
       "22:29:41.710 | \u001b[36mINFO\u001b[0m    | Flow run\u001b[35m 'khaki-bat'\u001b[0m - Executing 'process_file-79' immediately...\n"
      ]
     },
     "metadata": {},
     "output_type": "display_data"
    },
    {
     "data": {
      "text/html": [
       "<pre style=\"white-space:pre;overflow-x:auto;line-height:normal;font-family:Menlo,'DejaVu Sans Mono',consolas,'Courier New',monospace\">22:29:41.949 | <span style=\"color: #008080; text-decoration-color: #008080\">INFO</span>    | Task run 'process_file-79' - Finished in state <span style=\"color: #008000; text-decoration-color: #008000\">Completed</span>()\n",
       "</pre>\n"
      ],
      "text/plain": [
       "22:29:41.949 | \u001b[36mINFO\u001b[0m    | Task run 'process_file-79' - Finished in state \u001b[32mCompleted\u001b[0m()\n"
      ]
     },
     "metadata": {},
     "output_type": "display_data"
    },
    {
     "data": {
      "text/html": [
       "<pre style=\"white-space:pre;overflow-x:auto;line-height:normal;font-family:Menlo,'DejaVu Sans Mono',consolas,'Courier New',monospace\">22:29:42.021 | <span style=\"color: #008080; text-decoration-color: #008080\">INFO</span>    | Flow run<span style=\"color: #800080; text-decoration-color: #800080\"> 'khaki-bat'</span> - Created task run 'write_gcs-79' for task 'write_gcs'\n",
       "</pre>\n"
      ],
      "text/plain": [
       "22:29:42.021 | \u001b[36mINFO\u001b[0m    | Flow run\u001b[35m 'khaki-bat'\u001b[0m - Created task run 'write_gcs-79' for task 'write_gcs'\n"
      ]
     },
     "metadata": {},
     "output_type": "display_data"
    },
    {
     "data": {
      "text/html": [
       "<pre style=\"white-space:pre;overflow-x:auto;line-height:normal;font-family:Menlo,'DejaVu Sans Mono',consolas,'Courier New',monospace\">22:29:42.025 | <span style=\"color: #008080; text-decoration-color: #008080\">INFO</span>    | Flow run<span style=\"color: #800080; text-decoration-color: #800080\"> 'khaki-bat'</span> - Executing 'write_gcs-79' immediately...\n",
       "</pre>\n"
      ],
      "text/plain": [
       "22:29:42.025 | \u001b[36mINFO\u001b[0m    | Flow run\u001b[35m 'khaki-bat'\u001b[0m - Executing 'write_gcs-79' immediately...\n"
      ]
     },
     "metadata": {},
     "output_type": "display_data"
    },
    {
     "name": "stdout",
     "output_type": "stream",
     "text": [
      "Csv file size is 2499380\n"
     ]
    },
    {
     "data": {
      "text/html": [
       "<pre style=\"white-space:pre;overflow-x:auto;line-height:normal;font-family:Menlo,'DejaVu Sans Mono',consolas,'Courier New',monospace\">22:29:44.329 | <span style=\"color: #008080; text-decoration-color: #008080\">INFO</span>    | Task run 'write_gcs-79' - Finished in state <span style=\"color: #008000; text-decoration-color: #008000\">Completed</span>()\n",
       "</pre>\n"
      ],
      "text/plain": [
       "22:29:44.329 | \u001b[36mINFO\u001b[0m    | Task run 'write_gcs-79' - Finished in state \u001b[32mCompleted\u001b[0m()\n"
      ]
     },
     "metadata": {},
     "output_type": "display_data"
    },
    {
     "name": "stdout",
     "output_type": "stream",
     "text": [
      "size_19853.csv\n"
     ]
    },
    {
     "data": {
      "text/html": [
       "<pre style=\"white-space:pre;overflow-x:auto;line-height:normal;font-family:Menlo,'DejaVu Sans Mono',consolas,'Courier New',monospace\">22:29:44.396 | <span style=\"color: #008080; text-decoration-color: #008080\">INFO</span>    | Flow run<span style=\"color: #800080; text-decoration-color: #800080\"> 'khaki-bat'</span> - Created task run 'process_file-80' for task 'process_file'\n",
       "</pre>\n"
      ],
      "text/plain": [
       "22:29:44.396 | \u001b[36mINFO\u001b[0m    | Flow run\u001b[35m 'khaki-bat'\u001b[0m - Created task run 'process_file-80' for task 'process_file'\n"
      ]
     },
     "metadata": {},
     "output_type": "display_data"
    },
    {
     "data": {
      "text/html": [
       "<pre style=\"white-space:pre;overflow-x:auto;line-height:normal;font-family:Menlo,'DejaVu Sans Mono',consolas,'Courier New',monospace\">22:29:44.400 | <span style=\"color: #008080; text-decoration-color: #008080\">INFO</span>    | Flow run<span style=\"color: #800080; text-decoration-color: #800080\"> 'khaki-bat'</span> - Executing 'process_file-80' immediately...\n",
       "</pre>\n"
      ],
      "text/plain": [
       "22:29:44.400 | \u001b[36mINFO\u001b[0m    | Flow run\u001b[35m 'khaki-bat'\u001b[0m - Executing 'process_file-80' immediately...\n"
      ]
     },
     "metadata": {},
     "output_type": "display_data"
    },
    {
     "data": {
      "text/html": [
       "<pre style=\"white-space:pre;overflow-x:auto;line-height:normal;font-family:Menlo,'DejaVu Sans Mono',consolas,'Courier New',monospace\">22:29:44.606 | <span style=\"color: #008080; text-decoration-color: #008080\">INFO</span>    | Task run 'process_file-80' - Finished in state <span style=\"color: #008000; text-decoration-color: #008000\">Completed</span>()\n",
       "</pre>\n"
      ],
      "text/plain": [
       "22:29:44.606 | \u001b[36mINFO\u001b[0m    | Task run 'process_file-80' - Finished in state \u001b[32mCompleted\u001b[0m()\n"
      ]
     },
     "metadata": {},
     "output_type": "display_data"
    },
    {
     "data": {
      "text/html": [
       "<pre style=\"white-space:pre;overflow-x:auto;line-height:normal;font-family:Menlo,'DejaVu Sans Mono',consolas,'Courier New',monospace\">22:29:44.669 | <span style=\"color: #008080; text-decoration-color: #008080\">INFO</span>    | Flow run<span style=\"color: #800080; text-decoration-color: #800080\"> 'khaki-bat'</span> - Created task run 'write_gcs-80' for task 'write_gcs'\n",
       "</pre>\n"
      ],
      "text/plain": [
       "22:29:44.669 | \u001b[36mINFO\u001b[0m    | Flow run\u001b[35m 'khaki-bat'\u001b[0m - Created task run 'write_gcs-80' for task 'write_gcs'\n"
      ]
     },
     "metadata": {},
     "output_type": "display_data"
    },
    {
     "data": {
      "text/html": [
       "<pre style=\"white-space:pre;overflow-x:auto;line-height:normal;font-family:Menlo,'DejaVu Sans Mono',consolas,'Courier New',monospace\">22:29:44.671 | <span style=\"color: #008080; text-decoration-color: #008080\">INFO</span>    | Flow run<span style=\"color: #800080; text-decoration-color: #800080\"> 'khaki-bat'</span> - Executing 'write_gcs-80' immediately...\n",
       "</pre>\n"
      ],
      "text/plain": [
       "22:29:44.671 | \u001b[36mINFO\u001b[0m    | Flow run\u001b[35m 'khaki-bat'\u001b[0m - Executing 'write_gcs-80' immediately...\n"
      ]
     },
     "metadata": {},
     "output_type": "display_data"
    },
    {
     "name": "stdout",
     "output_type": "stream",
     "text": [
      "Csv file size is 3206498\n"
     ]
    },
    {
     "data": {
      "text/html": [
       "<pre style=\"white-space:pre;overflow-x:auto;line-height:normal;font-family:Menlo,'DejaVu Sans Mono',consolas,'Courier New',monospace\">22:29:47.562 | <span style=\"color: #008080; text-decoration-color: #008080\">INFO</span>    | Task run 'write_gcs-80' - Finished in state <span style=\"color: #008000; text-decoration-color: #008000\">Completed</span>()\n",
       "</pre>\n"
      ],
      "text/plain": [
       "22:29:47.562 | \u001b[36mINFO\u001b[0m    | Task run 'write_gcs-80' - Finished in state \u001b[32mCompleted\u001b[0m()\n"
      ]
     },
     "metadata": {},
     "output_type": "display_data"
    },
    {
     "name": "stdout",
     "output_type": "stream",
     "text": [
      "catch_19854.csv\n"
     ]
    },
    {
     "data": {
      "text/html": [
       "<pre style=\"white-space:pre;overflow-x:auto;line-height:normal;font-family:Menlo,'DejaVu Sans Mono',consolas,'Courier New',monospace\">22:29:47.633 | <span style=\"color: #008080; text-decoration-color: #008080\">INFO</span>    | Flow run<span style=\"color: #800080; text-decoration-color: #800080\"> 'khaki-bat'</span> - Created task run 'process_file-81' for task 'process_file'\n",
       "</pre>\n"
      ],
      "text/plain": [
       "22:29:47.633 | \u001b[36mINFO\u001b[0m    | Flow run\u001b[35m 'khaki-bat'\u001b[0m - Created task run 'process_file-81' for task 'process_file'\n"
      ]
     },
     "metadata": {},
     "output_type": "display_data"
    },
    {
     "data": {
      "text/html": [
       "<pre style=\"white-space:pre;overflow-x:auto;line-height:normal;font-family:Menlo,'DejaVu Sans Mono',consolas,'Courier New',monospace\">22:29:47.635 | <span style=\"color: #008080; text-decoration-color: #008080\">INFO</span>    | Flow run<span style=\"color: #800080; text-decoration-color: #800080\"> 'khaki-bat'</span> - Executing 'process_file-81' immediately...\n",
       "</pre>\n"
      ],
      "text/plain": [
       "22:29:47.635 | \u001b[36mINFO\u001b[0m    | Flow run\u001b[35m 'khaki-bat'\u001b[0m - Executing 'process_file-81' immediately...\n"
      ]
     },
     "metadata": {},
     "output_type": "display_data"
    },
    {
     "data": {
      "text/html": [
       "<pre style=\"white-space:pre;overflow-x:auto;line-height:normal;font-family:Menlo,'DejaVu Sans Mono',consolas,'Courier New',monospace\">22:29:47.821 | <span style=\"color: #008080; text-decoration-color: #008080\">INFO</span>    | Task run 'process_file-81' - Finished in state <span style=\"color: #008000; text-decoration-color: #008000\">Completed</span>()\n",
       "</pre>\n"
      ],
      "text/plain": [
       "22:29:47.821 | \u001b[36mINFO\u001b[0m    | Task run 'process_file-81' - Finished in state \u001b[32mCompleted\u001b[0m()\n"
      ]
     },
     "metadata": {},
     "output_type": "display_data"
    },
    {
     "data": {
      "text/html": [
       "<pre style=\"white-space:pre;overflow-x:auto;line-height:normal;font-family:Menlo,'DejaVu Sans Mono',consolas,'Courier New',monospace\">22:29:47.888 | <span style=\"color: #008080; text-decoration-color: #008080\">INFO</span>    | Flow run<span style=\"color: #800080; text-decoration-color: #800080\"> 'khaki-bat'</span> - Created task run 'write_gcs-81' for task 'write_gcs'\n",
       "</pre>\n"
      ],
      "text/plain": [
       "22:29:47.888 | \u001b[36mINFO\u001b[0m    | Flow run\u001b[35m 'khaki-bat'\u001b[0m - Created task run 'write_gcs-81' for task 'write_gcs'\n"
      ]
     },
     "metadata": {},
     "output_type": "display_data"
    },
    {
     "data": {
      "text/html": [
       "<pre style=\"white-space:pre;overflow-x:auto;line-height:normal;font-family:Menlo,'DejaVu Sans Mono',consolas,'Courier New',monospace\">22:29:47.891 | <span style=\"color: #008080; text-decoration-color: #008080\">INFO</span>    | Flow run<span style=\"color: #800080; text-decoration-color: #800080\"> 'khaki-bat'</span> - Executing 'write_gcs-81' immediately...\n",
       "</pre>\n"
      ],
      "text/plain": [
       "22:29:47.891 | \u001b[36mINFO\u001b[0m    | Flow run\u001b[35m 'khaki-bat'\u001b[0m - Executing 'write_gcs-81' immediately...\n"
      ]
     },
     "metadata": {},
     "output_type": "display_data"
    },
    {
     "name": "stdout",
     "output_type": "stream",
     "text": [
      "Csv file size is 3453919\n"
     ]
    },
    {
     "data": {
      "text/html": [
       "<pre style=\"white-space:pre;overflow-x:auto;line-height:normal;font-family:Menlo,'DejaVu Sans Mono',consolas,'Courier New',monospace\">22:29:50.781 | <span style=\"color: #008080; text-decoration-color: #008080\">INFO</span>    | Task run 'write_gcs-81' - Finished in state <span style=\"color: #008000; text-decoration-color: #008000\">Completed</span>()\n",
       "</pre>\n"
      ],
      "text/plain": [
       "22:29:50.781 | \u001b[36mINFO\u001b[0m    | Task run 'write_gcs-81' - Finished in state \u001b[32mCompleted\u001b[0m()\n"
      ]
     },
     "metadata": {},
     "output_type": "display_data"
    },
    {
     "name": "stdout",
     "output_type": "stream",
     "text": [
      "trip_19854.csv\n"
     ]
    },
    {
     "data": {
      "text/html": [
       "<pre style=\"white-space:pre;overflow-x:auto;line-height:normal;font-family:Menlo,'DejaVu Sans Mono',consolas,'Courier New',monospace\">22:29:50.864 | <span style=\"color: #008080; text-decoration-color: #008080\">INFO</span>    | Flow run<span style=\"color: #800080; text-decoration-color: #800080\"> 'khaki-bat'</span> - Created task run 'process_file-82' for task 'process_file'\n",
       "</pre>\n"
      ],
      "text/plain": [
       "22:29:50.864 | \u001b[36mINFO\u001b[0m    | Flow run\u001b[35m 'khaki-bat'\u001b[0m - Created task run 'process_file-82' for task 'process_file'\n"
      ]
     },
     "metadata": {},
     "output_type": "display_data"
    },
    {
     "data": {
      "text/html": [
       "<pre style=\"white-space:pre;overflow-x:auto;line-height:normal;font-family:Menlo,'DejaVu Sans Mono',consolas,'Courier New',monospace\">22:29:50.867 | <span style=\"color: #008080; text-decoration-color: #008080\">INFO</span>    | Flow run<span style=\"color: #800080; text-decoration-color: #800080\"> 'khaki-bat'</span> - Executing 'process_file-82' immediately...\n",
       "</pre>\n"
      ],
      "text/plain": [
       "22:29:50.867 | \u001b[36mINFO\u001b[0m    | Flow run\u001b[35m 'khaki-bat'\u001b[0m - Executing 'process_file-82' immediately...\n"
      ]
     },
     "metadata": {},
     "output_type": "display_data"
    },
    {
     "data": {
      "text/html": [
       "<pre style=\"white-space:pre;overflow-x:auto;line-height:normal;font-family:Menlo,'DejaVu Sans Mono',consolas,'Courier New',monospace\">22:29:51.071 | <span style=\"color: #008080; text-decoration-color: #008080\">INFO</span>    | Task run 'process_file-82' - Finished in state <span style=\"color: #008000; text-decoration-color: #008000\">Completed</span>()\n",
       "</pre>\n"
      ],
      "text/plain": [
       "22:29:51.071 | \u001b[36mINFO\u001b[0m    | Task run 'process_file-82' - Finished in state \u001b[32mCompleted\u001b[0m()\n"
      ]
     },
     "metadata": {},
     "output_type": "display_data"
    },
    {
     "data": {
      "text/html": [
       "<pre style=\"white-space:pre;overflow-x:auto;line-height:normal;font-family:Menlo,'DejaVu Sans Mono',consolas,'Courier New',monospace\">22:29:51.148 | <span style=\"color: #008080; text-decoration-color: #008080\">INFO</span>    | Flow run<span style=\"color: #800080; text-decoration-color: #800080\"> 'khaki-bat'</span> - Created task run 'write_gcs-82' for task 'write_gcs'\n",
       "</pre>\n"
      ],
      "text/plain": [
       "22:29:51.148 | \u001b[36mINFO\u001b[0m    | Flow run\u001b[35m 'khaki-bat'\u001b[0m - Created task run 'write_gcs-82' for task 'write_gcs'\n"
      ]
     },
     "metadata": {},
     "output_type": "display_data"
    },
    {
     "data": {
      "text/html": [
       "<pre style=\"white-space:pre;overflow-x:auto;line-height:normal;font-family:Menlo,'DejaVu Sans Mono',consolas,'Courier New',monospace\">22:29:51.151 | <span style=\"color: #008080; text-decoration-color: #008080\">INFO</span>    | Flow run<span style=\"color: #800080; text-decoration-color: #800080\"> 'khaki-bat'</span> - Executing 'write_gcs-82' immediately...\n",
       "</pre>\n"
      ],
      "text/plain": [
       "22:29:51.151 | \u001b[36mINFO\u001b[0m    | Flow run\u001b[35m 'khaki-bat'\u001b[0m - Executing 'write_gcs-82' immediately...\n"
      ]
     },
     "metadata": {},
     "output_type": "display_data"
    },
    {
     "name": "stdout",
     "output_type": "stream",
     "text": [
      "Csv file size is 3157039\n"
     ]
    },
    {
     "data": {
      "text/html": [
       "<pre style=\"white-space:pre;overflow-x:auto;line-height:normal;font-family:Menlo,'DejaVu Sans Mono',consolas,'Courier New',monospace\">22:29:54.516 | <span style=\"color: #008080; text-decoration-color: #008080\">INFO</span>    | Task run 'write_gcs-82' - Finished in state <span style=\"color: #008000; text-decoration-color: #008000\">Completed</span>()\n",
       "</pre>\n"
      ],
      "text/plain": [
       "22:29:54.516 | \u001b[36mINFO\u001b[0m    | Task run 'write_gcs-82' - Finished in state \u001b[32mCompleted\u001b[0m()\n"
      ]
     },
     "metadata": {},
     "output_type": "display_data"
    },
    {
     "name": "stdout",
     "output_type": "stream",
     "text": [
      "size_19854.csv\n"
     ]
    },
    {
     "data": {
      "text/html": [
       "<pre style=\"white-space:pre;overflow-x:auto;line-height:normal;font-family:Menlo,'DejaVu Sans Mono',consolas,'Courier New',monospace\">22:29:54.585 | <span style=\"color: #008080; text-decoration-color: #008080\">INFO</span>    | Flow run<span style=\"color: #800080; text-decoration-color: #800080\"> 'khaki-bat'</span> - Created task run 'process_file-83' for task 'process_file'\n",
       "</pre>\n"
      ],
      "text/plain": [
       "22:29:54.585 | \u001b[36mINFO\u001b[0m    | Flow run\u001b[35m 'khaki-bat'\u001b[0m - Created task run 'process_file-83' for task 'process_file'\n"
      ]
     },
     "metadata": {},
     "output_type": "display_data"
    },
    {
     "data": {
      "text/html": [
       "<pre style=\"white-space:pre;overflow-x:auto;line-height:normal;font-family:Menlo,'DejaVu Sans Mono',consolas,'Courier New',monospace\">22:29:54.588 | <span style=\"color: #008080; text-decoration-color: #008080\">INFO</span>    | Flow run<span style=\"color: #800080; text-decoration-color: #800080\"> 'khaki-bat'</span> - Executing 'process_file-83' immediately...\n",
       "</pre>\n"
      ],
      "text/plain": [
       "22:29:54.588 | \u001b[36mINFO\u001b[0m    | Flow run\u001b[35m 'khaki-bat'\u001b[0m - Executing 'process_file-83' immediately...\n"
      ]
     },
     "metadata": {},
     "output_type": "display_data"
    },
    {
     "data": {
      "text/html": [
       "<pre style=\"white-space:pre;overflow-x:auto;line-height:normal;font-family:Menlo,'DejaVu Sans Mono',consolas,'Courier New',monospace\">22:29:54.773 | <span style=\"color: #008080; text-decoration-color: #008080\">INFO</span>    | Task run 'process_file-83' - Finished in state <span style=\"color: #008000; text-decoration-color: #008000\">Completed</span>()\n",
       "</pre>\n"
      ],
      "text/plain": [
       "22:29:54.773 | \u001b[36mINFO\u001b[0m    | Task run 'process_file-83' - Finished in state \u001b[32mCompleted\u001b[0m()\n"
      ]
     },
     "metadata": {},
     "output_type": "display_data"
    },
    {
     "data": {
      "text/html": [
       "<pre style=\"white-space:pre;overflow-x:auto;line-height:normal;font-family:Menlo,'DejaVu Sans Mono',consolas,'Courier New',monospace\">22:29:54.829 | <span style=\"color: #008080; text-decoration-color: #008080\">INFO</span>    | Flow run<span style=\"color: #800080; text-decoration-color: #800080\"> 'khaki-bat'</span> - Created task run 'write_gcs-83' for task 'write_gcs'\n",
       "</pre>\n"
      ],
      "text/plain": [
       "22:29:54.829 | \u001b[36mINFO\u001b[0m    | Flow run\u001b[35m 'khaki-bat'\u001b[0m - Created task run 'write_gcs-83' for task 'write_gcs'\n"
      ]
     },
     "metadata": {},
     "output_type": "display_data"
    },
    {
     "data": {
      "text/html": [
       "<pre style=\"white-space:pre;overflow-x:auto;line-height:normal;font-family:Menlo,'DejaVu Sans Mono',consolas,'Courier New',monospace\">22:29:54.831 | <span style=\"color: #008080; text-decoration-color: #008080\">INFO</span>    | Flow run<span style=\"color: #800080; text-decoration-color: #800080\"> 'khaki-bat'</span> - Executing 'write_gcs-83' immediately...\n",
       "</pre>\n"
      ],
      "text/plain": [
       "22:29:54.831 | \u001b[36mINFO\u001b[0m    | Flow run\u001b[35m 'khaki-bat'\u001b[0m - Executing 'write_gcs-83' immediately...\n"
      ]
     },
     "metadata": {},
     "output_type": "display_data"
    },
    {
     "name": "stdout",
     "output_type": "stream",
     "text": [
      "Csv file size is 4925026\n"
     ]
    },
    {
     "data": {
      "text/html": [
       "<pre style=\"white-space:pre;overflow-x:auto;line-height:normal;font-family:Menlo,'DejaVu Sans Mono',consolas,'Courier New',monospace\">22:29:58.792 | <span style=\"color: #008080; text-decoration-color: #008080\">INFO</span>    | Task run 'write_gcs-83' - Finished in state <span style=\"color: #008000; text-decoration-color: #008000\">Completed</span>()\n",
       "</pre>\n"
      ],
      "text/plain": [
       "22:29:58.792 | \u001b[36mINFO\u001b[0m    | Task run 'write_gcs-83' - Finished in state \u001b[32mCompleted\u001b[0m()\n"
      ]
     },
     "metadata": {},
     "output_type": "display_data"
    },
    {
     "name": "stdout",
     "output_type": "stream",
     "text": [
      "catch_19855.csv\n"
     ]
    },
    {
     "data": {
      "text/html": [
       "<pre style=\"white-space:pre;overflow-x:auto;line-height:normal;font-family:Menlo,'DejaVu Sans Mono',consolas,'Courier New',monospace\">22:29:58.865 | <span style=\"color: #008080; text-decoration-color: #008080\">INFO</span>    | Flow run<span style=\"color: #800080; text-decoration-color: #800080\"> 'khaki-bat'</span> - Created task run 'process_file-84' for task 'process_file'\n",
       "</pre>\n"
      ],
      "text/plain": [
       "22:29:58.865 | \u001b[36mINFO\u001b[0m    | Flow run\u001b[35m 'khaki-bat'\u001b[0m - Created task run 'process_file-84' for task 'process_file'\n"
      ]
     },
     "metadata": {},
     "output_type": "display_data"
    },
    {
     "data": {
      "text/html": [
       "<pre style=\"white-space:pre;overflow-x:auto;line-height:normal;font-family:Menlo,'DejaVu Sans Mono',consolas,'Courier New',monospace\">22:29:58.869 | <span style=\"color: #008080; text-decoration-color: #008080\">INFO</span>    | Flow run<span style=\"color: #800080; text-decoration-color: #800080\"> 'khaki-bat'</span> - Executing 'process_file-84' immediately...\n",
       "</pre>\n"
      ],
      "text/plain": [
       "22:29:58.869 | \u001b[36mINFO\u001b[0m    | Flow run\u001b[35m 'khaki-bat'\u001b[0m - Executing 'process_file-84' immediately...\n"
      ]
     },
     "metadata": {},
     "output_type": "display_data"
    },
    {
     "data": {
      "text/html": [
       "<pre style=\"white-space:pre;overflow-x:auto;line-height:normal;font-family:Menlo,'DejaVu Sans Mono',consolas,'Courier New',monospace\">22:29:59.061 | <span style=\"color: #008080; text-decoration-color: #008080\">INFO</span>    | Task run 'process_file-84' - Finished in state <span style=\"color: #008000; text-decoration-color: #008000\">Completed</span>()\n",
       "</pre>\n"
      ],
      "text/plain": [
       "22:29:59.061 | \u001b[36mINFO\u001b[0m    | Task run 'process_file-84' - Finished in state \u001b[32mCompleted\u001b[0m()\n"
      ]
     },
     "metadata": {},
     "output_type": "display_data"
    },
    {
     "data": {
      "text/html": [
       "<pre style=\"white-space:pre;overflow-x:auto;line-height:normal;font-family:Menlo,'DejaVu Sans Mono',consolas,'Courier New',monospace\">22:29:59.130 | <span style=\"color: #008080; text-decoration-color: #008080\">INFO</span>    | Flow run<span style=\"color: #800080; text-decoration-color: #800080\"> 'khaki-bat'</span> - Created task run 'write_gcs-84' for task 'write_gcs'\n",
       "</pre>\n"
      ],
      "text/plain": [
       "22:29:59.130 | \u001b[36mINFO\u001b[0m    | Flow run\u001b[35m 'khaki-bat'\u001b[0m - Created task run 'write_gcs-84' for task 'write_gcs'\n"
      ]
     },
     "metadata": {},
     "output_type": "display_data"
    },
    {
     "data": {
      "text/html": [
       "<pre style=\"white-space:pre;overflow-x:auto;line-height:normal;font-family:Menlo,'DejaVu Sans Mono',consolas,'Courier New',monospace\">22:29:59.132 | <span style=\"color: #008080; text-decoration-color: #008080\">INFO</span>    | Flow run<span style=\"color: #800080; text-decoration-color: #800080\"> 'khaki-bat'</span> - Executing 'write_gcs-84' immediately...\n",
       "</pre>\n"
      ],
      "text/plain": [
       "22:29:59.132 | \u001b[36mINFO\u001b[0m    | Flow run\u001b[35m 'khaki-bat'\u001b[0m - Executing 'write_gcs-84' immediately...\n"
      ]
     },
     "metadata": {},
     "output_type": "display_data"
    },
    {
     "name": "stdout",
     "output_type": "stream",
     "text": [
      "Csv file size is 2345555\n"
     ]
    },
    {
     "data": {
      "text/html": [
       "<pre style=\"white-space:pre;overflow-x:auto;line-height:normal;font-family:Menlo,'DejaVu Sans Mono',consolas,'Courier New',monospace\">22:30:01.360 | <span style=\"color: #008080; text-decoration-color: #008080\">INFO</span>    | Task run 'write_gcs-84' - Finished in state <span style=\"color: #008000; text-decoration-color: #008000\">Completed</span>()\n",
       "</pre>\n"
      ],
      "text/plain": [
       "22:30:01.360 | \u001b[36mINFO\u001b[0m    | Task run 'write_gcs-84' - Finished in state \u001b[32mCompleted\u001b[0m()\n"
      ]
     },
     "metadata": {},
     "output_type": "display_data"
    },
    {
     "name": "stdout",
     "output_type": "stream",
     "text": [
      "trip_19855.csv\n"
     ]
    },
    {
     "data": {
      "text/html": [
       "<pre style=\"white-space:pre;overflow-x:auto;line-height:normal;font-family:Menlo,'DejaVu Sans Mono',consolas,'Courier New',monospace\">22:30:01.438 | <span style=\"color: #008080; text-decoration-color: #008080\">INFO</span>    | Flow run<span style=\"color: #800080; text-decoration-color: #800080\"> 'khaki-bat'</span> - Created task run 'process_file-85' for task 'process_file'\n",
       "</pre>\n"
      ],
      "text/plain": [
       "22:30:01.438 | \u001b[36mINFO\u001b[0m    | Flow run\u001b[35m 'khaki-bat'\u001b[0m - Created task run 'process_file-85' for task 'process_file'\n"
      ]
     },
     "metadata": {},
     "output_type": "display_data"
    },
    {
     "data": {
      "text/html": [
       "<pre style=\"white-space:pre;overflow-x:auto;line-height:normal;font-family:Menlo,'DejaVu Sans Mono',consolas,'Courier New',monospace\">22:30:01.440 | <span style=\"color: #008080; text-decoration-color: #008080\">INFO</span>    | Flow run<span style=\"color: #800080; text-decoration-color: #800080\"> 'khaki-bat'</span> - Executing 'process_file-85' immediately...\n",
       "</pre>\n"
      ],
      "text/plain": [
       "22:30:01.440 | \u001b[36mINFO\u001b[0m    | Flow run\u001b[35m 'khaki-bat'\u001b[0m - Executing 'process_file-85' immediately...\n"
      ]
     },
     "metadata": {},
     "output_type": "display_data"
    },
    {
     "data": {
      "text/html": [
       "<pre style=\"white-space:pre;overflow-x:auto;line-height:normal;font-family:Menlo,'DejaVu Sans Mono',consolas,'Courier New',monospace\">22:30:01.645 | <span style=\"color: #008080; text-decoration-color: #008080\">INFO</span>    | Task run 'process_file-85' - Finished in state <span style=\"color: #008000; text-decoration-color: #008000\">Completed</span>()\n",
       "</pre>\n"
      ],
      "text/plain": [
       "22:30:01.645 | \u001b[36mINFO\u001b[0m    | Task run 'process_file-85' - Finished in state \u001b[32mCompleted\u001b[0m()\n"
      ]
     },
     "metadata": {},
     "output_type": "display_data"
    },
    {
     "data": {
      "text/html": [
       "<pre style=\"white-space:pre;overflow-x:auto;line-height:normal;font-family:Menlo,'DejaVu Sans Mono',consolas,'Courier New',monospace\">22:30:01.707 | <span style=\"color: #008080; text-decoration-color: #008080\">INFO</span>    | Flow run<span style=\"color: #800080; text-decoration-color: #800080\"> 'khaki-bat'</span> - Created task run 'write_gcs-85' for task 'write_gcs'\n",
       "</pre>\n"
      ],
      "text/plain": [
       "22:30:01.707 | \u001b[36mINFO\u001b[0m    | Flow run\u001b[35m 'khaki-bat'\u001b[0m - Created task run 'write_gcs-85' for task 'write_gcs'\n"
      ]
     },
     "metadata": {},
     "output_type": "display_data"
    },
    {
     "data": {
      "text/html": [
       "<pre style=\"white-space:pre;overflow-x:auto;line-height:normal;font-family:Menlo,'DejaVu Sans Mono',consolas,'Courier New',monospace\">22:30:01.711 | <span style=\"color: #008080; text-decoration-color: #008080\">INFO</span>    | Flow run<span style=\"color: #800080; text-decoration-color: #800080\"> 'khaki-bat'</span> - Executing 'write_gcs-85' immediately...\n",
       "</pre>\n"
      ],
      "text/plain": [
       "22:30:01.711 | \u001b[36mINFO\u001b[0m    | Flow run\u001b[35m 'khaki-bat'\u001b[0m - Executing 'write_gcs-85' immediately...\n"
      ]
     },
     "metadata": {},
     "output_type": "display_data"
    },
    {
     "name": "stdout",
     "output_type": "stream",
     "text": [
      "Csv file size is 2086826\n"
     ]
    },
    {
     "data": {
      "text/html": [
       "<pre style=\"white-space:pre;overflow-x:auto;line-height:normal;font-family:Menlo,'DejaVu Sans Mono',consolas,'Courier New',monospace\">22:30:03.751 | <span style=\"color: #008080; text-decoration-color: #008080\">INFO</span>    | Task run 'write_gcs-85' - Finished in state <span style=\"color: #008000; text-decoration-color: #008000\">Completed</span>()\n",
       "</pre>\n"
      ],
      "text/plain": [
       "22:30:03.751 | \u001b[36mINFO\u001b[0m    | Task run 'write_gcs-85' - Finished in state \u001b[32mCompleted\u001b[0m()\n"
      ]
     },
     "metadata": {},
     "output_type": "display_data"
    },
    {
     "name": "stdout",
     "output_type": "stream",
     "text": [
      "size_19855.csv\n"
     ]
    },
    {
     "data": {
      "text/html": [
       "<pre style=\"white-space:pre;overflow-x:auto;line-height:normal;font-family:Menlo,'DejaVu Sans Mono',consolas,'Courier New',monospace\">22:30:03.817 | <span style=\"color: #008080; text-decoration-color: #008080\">INFO</span>    | Flow run<span style=\"color: #800080; text-decoration-color: #800080\"> 'khaki-bat'</span> - Created task run 'process_file-86' for task 'process_file'\n",
       "</pre>\n"
      ],
      "text/plain": [
       "22:30:03.817 | \u001b[36mINFO\u001b[0m    | Flow run\u001b[35m 'khaki-bat'\u001b[0m - Created task run 'process_file-86' for task 'process_file'\n"
      ]
     },
     "metadata": {},
     "output_type": "display_data"
    },
    {
     "data": {
      "text/html": [
       "<pre style=\"white-space:pre;overflow-x:auto;line-height:normal;font-family:Menlo,'DejaVu Sans Mono',consolas,'Courier New',monospace\">22:30:03.820 | <span style=\"color: #008080; text-decoration-color: #008080\">INFO</span>    | Flow run<span style=\"color: #800080; text-decoration-color: #800080\"> 'khaki-bat'</span> - Executing 'process_file-86' immediately...\n",
       "</pre>\n"
      ],
      "text/plain": [
       "22:30:03.820 | \u001b[36mINFO\u001b[0m    | Flow run\u001b[35m 'khaki-bat'\u001b[0m - Executing 'process_file-86' immediately...\n"
      ]
     },
     "metadata": {},
     "output_type": "display_data"
    },
    {
     "data": {
      "text/html": [
       "<pre style=\"white-space:pre;overflow-x:auto;line-height:normal;font-family:Menlo,'DejaVu Sans Mono',consolas,'Courier New',monospace\">22:30:04.016 | <span style=\"color: #008080; text-decoration-color: #008080\">INFO</span>    | Task run 'process_file-86' - Finished in state <span style=\"color: #008000; text-decoration-color: #008000\">Completed</span>()\n",
       "</pre>\n"
      ],
      "text/plain": [
       "22:30:04.016 | \u001b[36mINFO\u001b[0m    | Task run 'process_file-86' - Finished in state \u001b[32mCompleted\u001b[0m()\n"
      ]
     },
     "metadata": {},
     "output_type": "display_data"
    },
    {
     "data": {
      "text/html": [
       "<pre style=\"white-space:pre;overflow-x:auto;line-height:normal;font-family:Menlo,'DejaVu Sans Mono',consolas,'Courier New',monospace\">22:30:04.084 | <span style=\"color: #008080; text-decoration-color: #008080\">INFO</span>    | Flow run<span style=\"color: #800080; text-decoration-color: #800080\"> 'khaki-bat'</span> - Created task run 'write_gcs-86' for task 'write_gcs'\n",
       "</pre>\n"
      ],
      "text/plain": [
       "22:30:04.084 | \u001b[36mINFO\u001b[0m    | Flow run\u001b[35m 'khaki-bat'\u001b[0m - Created task run 'write_gcs-86' for task 'write_gcs'\n"
      ]
     },
     "metadata": {},
     "output_type": "display_data"
    },
    {
     "data": {
      "text/html": [
       "<pre style=\"white-space:pre;overflow-x:auto;line-height:normal;font-family:Menlo,'DejaVu Sans Mono',consolas,'Courier New',monospace\">22:30:04.087 | <span style=\"color: #008080; text-decoration-color: #008080\">INFO</span>    | Flow run<span style=\"color: #800080; text-decoration-color: #800080\"> 'khaki-bat'</span> - Executing 'write_gcs-86' immediately...\n",
       "</pre>\n"
      ],
      "text/plain": [
       "22:30:04.087 | \u001b[36mINFO\u001b[0m    | Flow run\u001b[35m 'khaki-bat'\u001b[0m - Executing 'write_gcs-86' immediately...\n"
      ]
     },
     "metadata": {},
     "output_type": "display_data"
    },
    {
     "name": "stdout",
     "output_type": "stream",
     "text": [
      "Csv file size is 3466281\n"
     ]
    },
    {
     "data": {
      "text/html": [
       "<pre style=\"white-space:pre;overflow-x:auto;line-height:normal;font-family:Menlo,'DejaVu Sans Mono',consolas,'Courier New',monospace\">22:30:07.023 | <span style=\"color: #008080; text-decoration-color: #008080\">INFO</span>    | Task run 'write_gcs-86' - Finished in state <span style=\"color: #008000; text-decoration-color: #008000\">Completed</span>()\n",
       "</pre>\n"
      ],
      "text/plain": [
       "22:30:07.023 | \u001b[36mINFO\u001b[0m    | Task run 'write_gcs-86' - Finished in state \u001b[32mCompleted\u001b[0m()\n"
      ]
     },
     "metadata": {},
     "output_type": "display_data"
    },
    {
     "name": "stdout",
     "output_type": "stream",
     "text": [
      "catch_19856.csv\n"
     ]
    },
    {
     "data": {
      "text/html": [
       "<pre style=\"white-space:pre;overflow-x:auto;line-height:normal;font-family:Menlo,'DejaVu Sans Mono',consolas,'Courier New',monospace\">22:30:07.116 | <span style=\"color: #008080; text-decoration-color: #008080\">INFO</span>    | Flow run<span style=\"color: #800080; text-decoration-color: #800080\"> 'khaki-bat'</span> - Created task run 'process_file-87' for task 'process_file'\n",
       "</pre>\n"
      ],
      "text/plain": [
       "22:30:07.116 | \u001b[36mINFO\u001b[0m    | Flow run\u001b[35m 'khaki-bat'\u001b[0m - Created task run 'process_file-87' for task 'process_file'\n"
      ]
     },
     "metadata": {},
     "output_type": "display_data"
    },
    {
     "data": {
      "text/html": [
       "<pre style=\"white-space:pre;overflow-x:auto;line-height:normal;font-family:Menlo,'DejaVu Sans Mono',consolas,'Courier New',monospace\">22:30:07.120 | <span style=\"color: #008080; text-decoration-color: #008080\">INFO</span>    | Flow run<span style=\"color: #800080; text-decoration-color: #800080\"> 'khaki-bat'</span> - Executing 'process_file-87' immediately...\n",
       "</pre>\n"
      ],
      "text/plain": [
       "22:30:07.120 | \u001b[36mINFO\u001b[0m    | Flow run\u001b[35m 'khaki-bat'\u001b[0m - Executing 'process_file-87' immediately...\n"
      ]
     },
     "metadata": {},
     "output_type": "display_data"
    },
    {
     "data": {
      "text/html": [
       "<pre style=\"white-space:pre;overflow-x:auto;line-height:normal;font-family:Menlo,'DejaVu Sans Mono',consolas,'Courier New',monospace\">22:30:07.323 | <span style=\"color: #008080; text-decoration-color: #008080\">INFO</span>    | Task run 'process_file-87' - Finished in state <span style=\"color: #008000; text-decoration-color: #008000\">Completed</span>()\n",
       "</pre>\n"
      ],
      "text/plain": [
       "22:30:07.323 | \u001b[36mINFO\u001b[0m    | Task run 'process_file-87' - Finished in state \u001b[32mCompleted\u001b[0m()\n"
      ]
     },
     "metadata": {},
     "output_type": "display_data"
    },
    {
     "data": {
      "text/html": [
       "<pre style=\"white-space:pre;overflow-x:auto;line-height:normal;font-family:Menlo,'DejaVu Sans Mono',consolas,'Courier New',monospace\">22:30:07.405 | <span style=\"color: #008080; text-decoration-color: #008080\">INFO</span>    | Flow run<span style=\"color: #800080; text-decoration-color: #800080\"> 'khaki-bat'</span> - Created task run 'write_gcs-87' for task 'write_gcs'\n",
       "</pre>\n"
      ],
      "text/plain": [
       "22:30:07.405 | \u001b[36mINFO\u001b[0m    | Flow run\u001b[35m 'khaki-bat'\u001b[0m - Created task run 'write_gcs-87' for task 'write_gcs'\n"
      ]
     },
     "metadata": {},
     "output_type": "display_data"
    },
    {
     "data": {
      "text/html": [
       "<pre style=\"white-space:pre;overflow-x:auto;line-height:normal;font-family:Menlo,'DejaVu Sans Mono',consolas,'Courier New',monospace\">22:30:07.408 | <span style=\"color: #008080; text-decoration-color: #008080\">INFO</span>    | Flow run<span style=\"color: #800080; text-decoration-color: #800080\"> 'khaki-bat'</span> - Executing 'write_gcs-87' immediately...\n",
       "</pre>\n"
      ],
      "text/plain": [
       "22:30:07.408 | \u001b[36mINFO\u001b[0m    | Flow run\u001b[35m 'khaki-bat'\u001b[0m - Executing 'write_gcs-87' immediately...\n"
      ]
     },
     "metadata": {},
     "output_type": "display_data"
    },
    {
     "name": "stdout",
     "output_type": "stream",
     "text": [
      "Csv file size is 1090284\n"
     ]
    },
    {
     "data": {
      "text/html": [
       "<pre style=\"white-space:pre;overflow-x:auto;line-height:normal;font-family:Menlo,'DejaVu Sans Mono',consolas,'Courier New',monospace\">22:30:08.879 | <span style=\"color: #008080; text-decoration-color: #008080\">INFO</span>    | Task run 'write_gcs-87' - Finished in state <span style=\"color: #008000; text-decoration-color: #008000\">Completed</span>()\n",
       "</pre>\n"
      ],
      "text/plain": [
       "22:30:08.879 | \u001b[36mINFO\u001b[0m    | Task run 'write_gcs-87' - Finished in state \u001b[32mCompleted\u001b[0m()\n"
      ]
     },
     "metadata": {},
     "output_type": "display_data"
    },
    {
     "name": "stdout",
     "output_type": "stream",
     "text": [
      "trip_19856.csv\n"
     ]
    },
    {
     "data": {
      "text/html": [
       "<pre style=\"white-space:pre;overflow-x:auto;line-height:normal;font-family:Menlo,'DejaVu Sans Mono',consolas,'Courier New',monospace\">22:30:08.947 | <span style=\"color: #008080; text-decoration-color: #008080\">INFO</span>    | Flow run<span style=\"color: #800080; text-decoration-color: #800080\"> 'khaki-bat'</span> - Created task run 'process_file-88' for task 'process_file'\n",
       "</pre>\n"
      ],
      "text/plain": [
       "22:30:08.947 | \u001b[36mINFO\u001b[0m    | Flow run\u001b[35m 'khaki-bat'\u001b[0m - Created task run 'process_file-88' for task 'process_file'\n"
      ]
     },
     "metadata": {},
     "output_type": "display_data"
    },
    {
     "data": {
      "text/html": [
       "<pre style=\"white-space:pre;overflow-x:auto;line-height:normal;font-family:Menlo,'DejaVu Sans Mono',consolas,'Courier New',monospace\">22:30:08.950 | <span style=\"color: #008080; text-decoration-color: #008080\">INFO</span>    | Flow run<span style=\"color: #800080; text-decoration-color: #800080\"> 'khaki-bat'</span> - Executing 'process_file-88' immediately...\n",
       "</pre>\n"
      ],
      "text/plain": [
       "22:30:08.950 | \u001b[36mINFO\u001b[0m    | Flow run\u001b[35m 'khaki-bat'\u001b[0m - Executing 'process_file-88' immediately...\n"
      ]
     },
     "metadata": {},
     "output_type": "display_data"
    },
    {
     "data": {
      "text/html": [
       "<pre style=\"white-space:pre;overflow-x:auto;line-height:normal;font-family:Menlo,'DejaVu Sans Mono',consolas,'Courier New',monospace\">22:30:09.147 | <span style=\"color: #008080; text-decoration-color: #008080\">INFO</span>    | Task run 'process_file-88' - Finished in state <span style=\"color: #008000; text-decoration-color: #008000\">Completed</span>()\n",
       "</pre>\n"
      ],
      "text/plain": [
       "22:30:09.147 | \u001b[36mINFO\u001b[0m    | Task run 'process_file-88' - Finished in state \u001b[32mCompleted\u001b[0m()\n"
      ]
     },
     "metadata": {},
     "output_type": "display_data"
    },
    {
     "data": {
      "text/html": [
       "<pre style=\"white-space:pre;overflow-x:auto;line-height:normal;font-family:Menlo,'DejaVu Sans Mono',consolas,'Courier New',monospace\">22:30:09.230 | <span style=\"color: #008080; text-decoration-color: #008080\">INFO</span>    | Flow run<span style=\"color: #800080; text-decoration-color: #800080\"> 'khaki-bat'</span> - Created task run 'write_gcs-88' for task 'write_gcs'\n",
       "</pre>\n"
      ],
      "text/plain": [
       "22:30:09.230 | \u001b[36mINFO\u001b[0m    | Flow run\u001b[35m 'khaki-bat'\u001b[0m - Created task run 'write_gcs-88' for task 'write_gcs'\n"
      ]
     },
     "metadata": {},
     "output_type": "display_data"
    },
    {
     "data": {
      "text/html": [
       "<pre style=\"white-space:pre;overflow-x:auto;line-height:normal;font-family:Menlo,'DejaVu Sans Mono',consolas,'Courier New',monospace\">22:30:09.233 | <span style=\"color: #008080; text-decoration-color: #008080\">INFO</span>    | Flow run<span style=\"color: #800080; text-decoration-color: #800080\"> 'khaki-bat'</span> - Executing 'write_gcs-88' immediately...\n",
       "</pre>\n"
      ],
      "text/plain": [
       "22:30:09.233 | \u001b[36mINFO\u001b[0m    | Flow run\u001b[35m 'khaki-bat'\u001b[0m - Executing 'write_gcs-88' immediately...\n"
      ]
     },
     "metadata": {},
     "output_type": "display_data"
    },
    {
     "name": "stdout",
     "output_type": "stream",
     "text": [
      "Csv file size is 1137123\n"
     ]
    },
    {
     "data": {
      "text/html": [
       "<pre style=\"white-space:pre;overflow-x:auto;line-height:normal;font-family:Menlo,'DejaVu Sans Mono',consolas,'Courier New',monospace\">22:30:10.885 | <span style=\"color: #008080; text-decoration-color: #008080\">INFO</span>    | Task run 'write_gcs-88' - Finished in state <span style=\"color: #008000; text-decoration-color: #008000\">Completed</span>()\n",
       "</pre>\n"
      ],
      "text/plain": [
       "22:30:10.885 | \u001b[36mINFO\u001b[0m    | Task run 'write_gcs-88' - Finished in state \u001b[32mCompleted\u001b[0m()\n"
      ]
     },
     "metadata": {},
     "output_type": "display_data"
    },
    {
     "name": "stdout",
     "output_type": "stream",
     "text": [
      "size_19856.csv\n"
     ]
    },
    {
     "data": {
      "text/html": [
       "<pre style=\"white-space:pre;overflow-x:auto;line-height:normal;font-family:Menlo,'DejaVu Sans Mono',consolas,'Courier New',monospace\">22:30:10.961 | <span style=\"color: #008080; text-decoration-color: #008080\">INFO</span>    | Flow run<span style=\"color: #800080; text-decoration-color: #800080\"> 'khaki-bat'</span> - Created task run 'process_file-89' for task 'process_file'\n",
       "</pre>\n"
      ],
      "text/plain": [
       "22:30:10.961 | \u001b[36mINFO\u001b[0m    | Flow run\u001b[35m 'khaki-bat'\u001b[0m - Created task run 'process_file-89' for task 'process_file'\n"
      ]
     },
     "metadata": {},
     "output_type": "display_data"
    },
    {
     "data": {
      "text/html": [
       "<pre style=\"white-space:pre;overflow-x:auto;line-height:normal;font-family:Menlo,'DejaVu Sans Mono',consolas,'Courier New',monospace\">22:30:10.964 | <span style=\"color: #008080; text-decoration-color: #008080\">INFO</span>    | Flow run<span style=\"color: #800080; text-decoration-color: #800080\"> 'khaki-bat'</span> - Executing 'process_file-89' immediately...\n",
       "</pre>\n"
      ],
      "text/plain": [
       "22:30:10.964 | \u001b[36mINFO\u001b[0m    | Flow run\u001b[35m 'khaki-bat'\u001b[0m - Executing 'process_file-89' immediately...\n"
      ]
     },
     "metadata": {},
     "output_type": "display_data"
    },
    {
     "data": {
      "text/html": [
       "<pre style=\"white-space:pre;overflow-x:auto;line-height:normal;font-family:Menlo,'DejaVu Sans Mono',consolas,'Courier New',monospace\">22:30:11.153 | <span style=\"color: #008080; text-decoration-color: #008080\">INFO</span>    | Task run 'process_file-89' - Finished in state <span style=\"color: #008000; text-decoration-color: #008000\">Completed</span>()\n",
       "</pre>\n"
      ],
      "text/plain": [
       "22:30:11.153 | \u001b[36mINFO\u001b[0m    | Task run 'process_file-89' - Finished in state \u001b[32mCompleted\u001b[0m()\n"
      ]
     },
     "metadata": {},
     "output_type": "display_data"
    },
    {
     "data": {
      "text/html": [
       "<pre style=\"white-space:pre;overflow-x:auto;line-height:normal;font-family:Menlo,'DejaVu Sans Mono',consolas,'Courier New',monospace\">22:30:11.214 | <span style=\"color: #008080; text-decoration-color: #008080\">INFO</span>    | Flow run<span style=\"color: #800080; text-decoration-color: #800080\"> 'khaki-bat'</span> - Created task run 'write_gcs-89' for task 'write_gcs'\n",
       "</pre>\n"
      ],
      "text/plain": [
       "22:30:11.214 | \u001b[36mINFO\u001b[0m    | Flow run\u001b[35m 'khaki-bat'\u001b[0m - Created task run 'write_gcs-89' for task 'write_gcs'\n"
      ]
     },
     "metadata": {},
     "output_type": "display_data"
    },
    {
     "data": {
      "text/html": [
       "<pre style=\"white-space:pre;overflow-x:auto;line-height:normal;font-family:Menlo,'DejaVu Sans Mono',consolas,'Courier New',monospace\">22:30:11.216 | <span style=\"color: #008080; text-decoration-color: #008080\">INFO</span>    | Flow run<span style=\"color: #800080; text-decoration-color: #800080\"> 'khaki-bat'</span> - Executing 'write_gcs-89' immediately...\n",
       "</pre>\n"
      ],
      "text/plain": [
       "22:30:11.216 | \u001b[36mINFO\u001b[0m    | Flow run\u001b[35m 'khaki-bat'\u001b[0m - Executing 'write_gcs-89' immediately...\n"
      ]
     },
     "metadata": {},
     "output_type": "display_data"
    },
    {
     "name": "stdout",
     "output_type": "stream",
     "text": [
      "Csv file size is 1255547\n"
     ]
    },
    {
     "data": {
      "text/html": [
       "<pre style=\"white-space:pre;overflow-x:auto;line-height:normal;font-family:Menlo,'DejaVu Sans Mono',consolas,'Courier New',monospace\">22:30:12.899 | <span style=\"color: #008080; text-decoration-color: #008080\">INFO</span>    | Task run 'write_gcs-89' - Finished in state <span style=\"color: #008000; text-decoration-color: #008000\">Completed</span>()\n",
       "</pre>\n"
      ],
      "text/plain": [
       "22:30:12.899 | \u001b[36mINFO\u001b[0m    | Task run 'write_gcs-89' - Finished in state \u001b[32mCompleted\u001b[0m()\n"
      ]
     },
     "metadata": {},
     "output_type": "display_data"
    },
    {
     "name": "stdout",
     "output_type": "stream",
     "text": [
      "catch_19861.csv\n"
     ]
    },
    {
     "data": {
      "text/html": [
       "<pre style=\"white-space:pre;overflow-x:auto;line-height:normal;font-family:Menlo,'DejaVu Sans Mono',consolas,'Courier New',monospace\">22:30:13.177 | <span style=\"color: #008080; text-decoration-color: #008080\">INFO</span>    | Flow run<span style=\"color: #800080; text-decoration-color: #800080\"> 'khaki-bat'</span> - Created task run 'process_file-90' for task 'process_file'\n",
       "</pre>\n"
      ],
      "text/plain": [
       "22:30:13.177 | \u001b[36mINFO\u001b[0m    | Flow run\u001b[35m 'khaki-bat'\u001b[0m - Created task run 'process_file-90' for task 'process_file'\n"
      ]
     },
     "metadata": {},
     "output_type": "display_data"
    },
    {
     "data": {
      "text/html": [
       "<pre style=\"white-space:pre;overflow-x:auto;line-height:normal;font-family:Menlo,'DejaVu Sans Mono',consolas,'Courier New',monospace\">22:30:13.180 | <span style=\"color: #008080; text-decoration-color: #008080\">INFO</span>    | Flow run<span style=\"color: #800080; text-decoration-color: #800080\"> 'khaki-bat'</span> - Executing 'process_file-90' immediately...\n",
       "</pre>\n"
      ],
      "text/plain": [
       "22:30:13.180 | \u001b[36mINFO\u001b[0m    | Flow run\u001b[35m 'khaki-bat'\u001b[0m - Executing 'process_file-90' immediately...\n"
      ]
     },
     "metadata": {},
     "output_type": "display_data"
    },
    {
     "data": {
      "text/html": [
       "<pre style=\"white-space:pre;overflow-x:auto;line-height:normal;font-family:Menlo,'DejaVu Sans Mono',consolas,'Courier New',monospace\">22:30:13.434 | <span style=\"color: #008080; text-decoration-color: #008080\">INFO</span>    | Task run 'process_file-90' - Finished in state <span style=\"color: #008000; text-decoration-color: #008000\">Completed</span>()\n",
       "</pre>\n"
      ],
      "text/plain": [
       "22:30:13.434 | \u001b[36mINFO\u001b[0m    | Task run 'process_file-90' - Finished in state \u001b[32mCompleted\u001b[0m()\n"
      ]
     },
     "metadata": {},
     "output_type": "display_data"
    },
    {
     "data": {
      "text/html": [
       "<pre style=\"white-space:pre;overflow-x:auto;line-height:normal;font-family:Menlo,'DejaVu Sans Mono',consolas,'Courier New',monospace\">22:30:13.504 | <span style=\"color: #008080; text-decoration-color: #008080\">INFO</span>    | Flow run<span style=\"color: #800080; text-decoration-color: #800080\"> 'khaki-bat'</span> - Created task run 'write_gcs-90' for task 'write_gcs'\n",
       "</pre>\n"
      ],
      "text/plain": [
       "22:30:13.504 | \u001b[36mINFO\u001b[0m    | Flow run\u001b[35m 'khaki-bat'\u001b[0m - Created task run 'write_gcs-90' for task 'write_gcs'\n"
      ]
     },
     "metadata": {},
     "output_type": "display_data"
    },
    {
     "data": {
      "text/html": [
       "<pre style=\"white-space:pre;overflow-x:auto;line-height:normal;font-family:Menlo,'DejaVu Sans Mono',consolas,'Courier New',monospace\">22:30:13.508 | <span style=\"color: #008080; text-decoration-color: #008080\">INFO</span>    | Flow run<span style=\"color: #800080; text-decoration-color: #800080\"> 'khaki-bat'</span> - Executing 'write_gcs-90' immediately...\n",
       "</pre>\n"
      ],
      "text/plain": [
       "22:30:13.508 | \u001b[36mINFO\u001b[0m    | Flow run\u001b[35m 'khaki-bat'\u001b[0m - Executing 'write_gcs-90' immediately...\n"
      ]
     },
     "metadata": {},
     "output_type": "display_data"
    },
    {
     "name": "stdout",
     "output_type": "stream",
     "text": [
      "Csv file size is 539798\n"
     ]
    },
    {
     "data": {
      "text/html": [
       "<pre style=\"white-space:pre;overflow-x:auto;line-height:normal;font-family:Menlo,'DejaVu Sans Mono',consolas,'Courier New',monospace\">22:30:14.529 | <span style=\"color: #008080; text-decoration-color: #008080\">INFO</span>    | Task run 'write_gcs-90' - Finished in state <span style=\"color: #008000; text-decoration-color: #008000\">Completed</span>()\n",
       "</pre>\n"
      ],
      "text/plain": [
       "22:30:14.529 | \u001b[36mINFO\u001b[0m    | Task run 'write_gcs-90' - Finished in state \u001b[32mCompleted\u001b[0m()\n"
      ]
     },
     "metadata": {},
     "output_type": "display_data"
    },
    {
     "name": "stdout",
     "output_type": "stream",
     "text": [
      "trip_19861.csv\n"
     ]
    },
    {
     "data": {
      "text/html": [
       "<pre style=\"white-space:pre;overflow-x:auto;line-height:normal;font-family:Menlo,'DejaVu Sans Mono',consolas,'Courier New',monospace\">22:30:14.607 | <span style=\"color: #008080; text-decoration-color: #008080\">INFO</span>    | Flow run<span style=\"color: #800080; text-decoration-color: #800080\"> 'khaki-bat'</span> - Created task run 'process_file-91' for task 'process_file'\n",
       "</pre>\n"
      ],
      "text/plain": [
       "22:30:14.607 | \u001b[36mINFO\u001b[0m    | Flow run\u001b[35m 'khaki-bat'\u001b[0m - Created task run 'process_file-91' for task 'process_file'\n"
      ]
     },
     "metadata": {},
     "output_type": "display_data"
    },
    {
     "data": {
      "text/html": [
       "<pre style=\"white-space:pre;overflow-x:auto;line-height:normal;font-family:Menlo,'DejaVu Sans Mono',consolas,'Courier New',monospace\">22:30:14.610 | <span style=\"color: #008080; text-decoration-color: #008080\">INFO</span>    | Flow run<span style=\"color: #800080; text-decoration-color: #800080\"> 'khaki-bat'</span> - Executing 'process_file-91' immediately...\n",
       "</pre>\n"
      ],
      "text/plain": [
       "22:30:14.610 | \u001b[36mINFO\u001b[0m    | Flow run\u001b[35m 'khaki-bat'\u001b[0m - Executing 'process_file-91' immediately...\n"
      ]
     },
     "metadata": {},
     "output_type": "display_data"
    },
    {
     "data": {
      "text/html": [
       "<pre style=\"white-space:pre;overflow-x:auto;line-height:normal;font-family:Menlo,'DejaVu Sans Mono',consolas,'Courier New',monospace\">22:30:14.821 | <span style=\"color: #008080; text-decoration-color: #008080\">INFO</span>    | Task run 'process_file-91' - Finished in state <span style=\"color: #008000; text-decoration-color: #008000\">Completed</span>()\n",
       "</pre>\n"
      ],
      "text/plain": [
       "22:30:14.821 | \u001b[36mINFO\u001b[0m    | Task run 'process_file-91' - Finished in state \u001b[32mCompleted\u001b[0m()\n"
      ]
     },
     "metadata": {},
     "output_type": "display_data"
    },
    {
     "data": {
      "text/html": [
       "<pre style=\"white-space:pre;overflow-x:auto;line-height:normal;font-family:Menlo,'DejaVu Sans Mono',consolas,'Courier New',monospace\">22:30:14.888 | <span style=\"color: #008080; text-decoration-color: #008080\">INFO</span>    | Flow run<span style=\"color: #800080; text-decoration-color: #800080\"> 'khaki-bat'</span> - Created task run 'write_gcs-91' for task 'write_gcs'\n",
       "</pre>\n"
      ],
      "text/plain": [
       "22:30:14.888 | \u001b[36mINFO\u001b[0m    | Flow run\u001b[35m 'khaki-bat'\u001b[0m - Created task run 'write_gcs-91' for task 'write_gcs'\n"
      ]
     },
     "metadata": {},
     "output_type": "display_data"
    },
    {
     "data": {
      "text/html": [
       "<pre style=\"white-space:pre;overflow-x:auto;line-height:normal;font-family:Menlo,'DejaVu Sans Mono',consolas,'Courier New',monospace\">22:30:14.890 | <span style=\"color: #008080; text-decoration-color: #008080\">INFO</span>    | Flow run<span style=\"color: #800080; text-decoration-color: #800080\"> 'khaki-bat'</span> - Executing 'write_gcs-91' immediately...\n",
       "</pre>\n"
      ],
      "text/plain": [
       "22:30:14.890 | \u001b[36mINFO\u001b[0m    | Flow run\u001b[35m 'khaki-bat'\u001b[0m - Executing 'write_gcs-91' immediately...\n"
      ]
     },
     "metadata": {},
     "output_type": "display_data"
    },
    {
     "name": "stdout",
     "output_type": "stream",
     "text": [
      "Csv file size is 586780\n"
     ]
    },
    {
     "data": {
      "text/html": [
       "<pre style=\"white-space:pre;overflow-x:auto;line-height:normal;font-family:Menlo,'DejaVu Sans Mono',consolas,'Courier New',monospace\">22:30:15.897 | <span style=\"color: #008080; text-decoration-color: #008080\">INFO</span>    | Task run 'write_gcs-91' - Finished in state <span style=\"color: #008000; text-decoration-color: #008000\">Completed</span>()\n",
       "</pre>\n"
      ],
      "text/plain": [
       "22:30:15.897 | \u001b[36mINFO\u001b[0m    | Task run 'write_gcs-91' - Finished in state \u001b[32mCompleted\u001b[0m()\n"
      ]
     },
     "metadata": {},
     "output_type": "display_data"
    },
    {
     "name": "stdout",
     "output_type": "stream",
     "text": [
      "size_19861.csv\n"
     ]
    },
    {
     "data": {
      "text/html": [
       "<pre style=\"white-space:pre;overflow-x:auto;line-height:normal;font-family:Menlo,'DejaVu Sans Mono',consolas,'Courier New',monospace\">22:30:15.971 | <span style=\"color: #008080; text-decoration-color: #008080\">INFO</span>    | Flow run<span style=\"color: #800080; text-decoration-color: #800080\"> 'khaki-bat'</span> - Created task run 'process_file-92' for task 'process_file'\n",
       "</pre>\n"
      ],
      "text/plain": [
       "22:30:15.971 | \u001b[36mINFO\u001b[0m    | Flow run\u001b[35m 'khaki-bat'\u001b[0m - Created task run 'process_file-92' for task 'process_file'\n"
      ]
     },
     "metadata": {},
     "output_type": "display_data"
    },
    {
     "data": {
      "text/html": [
       "<pre style=\"white-space:pre;overflow-x:auto;line-height:normal;font-family:Menlo,'DejaVu Sans Mono',consolas,'Courier New',monospace\">22:30:15.974 | <span style=\"color: #008080; text-decoration-color: #008080\">INFO</span>    | Flow run<span style=\"color: #800080; text-decoration-color: #800080\"> 'khaki-bat'</span> - Executing 'process_file-92' immediately...\n",
       "</pre>\n"
      ],
      "text/plain": [
       "22:30:15.974 | \u001b[36mINFO\u001b[0m    | Flow run\u001b[35m 'khaki-bat'\u001b[0m - Executing 'process_file-92' immediately...\n"
      ]
     },
     "metadata": {},
     "output_type": "display_data"
    },
    {
     "data": {
      "text/html": [
       "<pre style=\"white-space:pre;overflow-x:auto;line-height:normal;font-family:Menlo,'DejaVu Sans Mono',consolas,'Courier New',monospace\">22:30:16.205 | <span style=\"color: #008080; text-decoration-color: #008080\">INFO</span>    | Task run 'process_file-92' - Finished in state <span style=\"color: #008000; text-decoration-color: #008000\">Completed</span>()\n",
       "</pre>\n"
      ],
      "text/plain": [
       "22:30:16.205 | \u001b[36mINFO\u001b[0m    | Task run 'process_file-92' - Finished in state \u001b[32mCompleted\u001b[0m()\n"
      ]
     },
     "metadata": {},
     "output_type": "display_data"
    },
    {
     "data": {
      "text/html": [
       "<pre style=\"white-space:pre;overflow-x:auto;line-height:normal;font-family:Menlo,'DejaVu Sans Mono',consolas,'Courier New',monospace\">22:30:16.276 | <span style=\"color: #008080; text-decoration-color: #008080\">INFO</span>    | Flow run<span style=\"color: #800080; text-decoration-color: #800080\"> 'khaki-bat'</span> - Created task run 'write_gcs-92' for task 'write_gcs'\n",
       "</pre>\n"
      ],
      "text/plain": [
       "22:30:16.276 | \u001b[36mINFO\u001b[0m    | Flow run\u001b[35m 'khaki-bat'\u001b[0m - Created task run 'write_gcs-92' for task 'write_gcs'\n"
      ]
     },
     "metadata": {},
     "output_type": "display_data"
    },
    {
     "data": {
      "text/html": [
       "<pre style=\"white-space:pre;overflow-x:auto;line-height:normal;font-family:Menlo,'DejaVu Sans Mono',consolas,'Courier New',monospace\">22:30:16.279 | <span style=\"color: #008080; text-decoration-color: #008080\">INFO</span>    | Flow run<span style=\"color: #800080; text-decoration-color: #800080\"> 'khaki-bat'</span> - Executing 'write_gcs-92' immediately...\n",
       "</pre>\n"
      ],
      "text/plain": [
       "22:30:16.279 | \u001b[36mINFO\u001b[0m    | Flow run\u001b[35m 'khaki-bat'\u001b[0m - Executing 'write_gcs-92' immediately...\n"
      ]
     },
     "metadata": {},
     "output_type": "display_data"
    },
    {
     "name": "stdout",
     "output_type": "stream",
     "text": [
      "Csv file size is 641495\n"
     ]
    },
    {
     "data": {
      "text/html": [
       "<pre style=\"white-space:pre;overflow-x:auto;line-height:normal;font-family:Menlo,'DejaVu Sans Mono',consolas,'Courier New',monospace\">22:30:17.321 | <span style=\"color: #008080; text-decoration-color: #008080\">INFO</span>    | Task run 'write_gcs-92' - Finished in state <span style=\"color: #008000; text-decoration-color: #008000\">Completed</span>()\n",
       "</pre>\n"
      ],
      "text/plain": [
       "22:30:17.321 | \u001b[36mINFO\u001b[0m    | Task run 'write_gcs-92' - Finished in state \u001b[32mCompleted\u001b[0m()\n"
      ]
     },
     "metadata": {},
     "output_type": "display_data"
    },
    {
     "name": "stdout",
     "output_type": "stream",
     "text": [
      "catch_19862.csv\n"
     ]
    },
    {
     "data": {
      "text/html": [
       "<pre style=\"white-space:pre;overflow-x:auto;line-height:normal;font-family:Menlo,'DejaVu Sans Mono',consolas,'Courier New',monospace\">22:30:17.406 | <span style=\"color: #008080; text-decoration-color: #008080\">INFO</span>    | Flow run<span style=\"color: #800080; text-decoration-color: #800080\"> 'khaki-bat'</span> - Created task run 'process_file-93' for task 'process_file'\n",
       "</pre>\n"
      ],
      "text/plain": [
       "22:30:17.406 | \u001b[36mINFO\u001b[0m    | Flow run\u001b[35m 'khaki-bat'\u001b[0m - Created task run 'process_file-93' for task 'process_file'\n"
      ]
     },
     "metadata": {},
     "output_type": "display_data"
    },
    {
     "data": {
      "text/html": [
       "<pre style=\"white-space:pre;overflow-x:auto;line-height:normal;font-family:Menlo,'DejaVu Sans Mono',consolas,'Courier New',monospace\">22:30:17.410 | <span style=\"color: #008080; text-decoration-color: #008080\">INFO</span>    | Flow run<span style=\"color: #800080; text-decoration-color: #800080\"> 'khaki-bat'</span> - Executing 'process_file-93' immediately...\n",
       "</pre>\n"
      ],
      "text/plain": [
       "22:30:17.410 | \u001b[36mINFO\u001b[0m    | Flow run\u001b[35m 'khaki-bat'\u001b[0m - Executing 'process_file-93' immediately...\n"
      ]
     },
     "metadata": {},
     "output_type": "display_data"
    },
    {
     "data": {
      "text/html": [
       "<pre style=\"white-space:pre;overflow-x:auto;line-height:normal;font-family:Menlo,'DejaVu Sans Mono',consolas,'Courier New',monospace\">22:30:17.709 | <span style=\"color: #008080; text-decoration-color: #008080\">INFO</span>    | Task run 'process_file-93' - Finished in state <span style=\"color: #008000; text-decoration-color: #008000\">Completed</span>()\n",
       "</pre>\n"
      ],
      "text/plain": [
       "22:30:17.709 | \u001b[36mINFO\u001b[0m    | Task run 'process_file-93' - Finished in state \u001b[32mCompleted\u001b[0m()\n"
      ]
     },
     "metadata": {},
     "output_type": "display_data"
    },
    {
     "data": {
      "text/html": [
       "<pre style=\"white-space:pre;overflow-x:auto;line-height:normal;font-family:Menlo,'DejaVu Sans Mono',consolas,'Courier New',monospace\">22:30:18.019 | <span style=\"color: #008080; text-decoration-color: #008080\">INFO</span>    | Flow run<span style=\"color: #800080; text-decoration-color: #800080\"> 'khaki-bat'</span> - Created task run 'write_gcs-93' for task 'write_gcs'\n",
       "</pre>\n"
      ],
      "text/plain": [
       "22:30:18.019 | \u001b[36mINFO\u001b[0m    | Flow run\u001b[35m 'khaki-bat'\u001b[0m - Created task run 'write_gcs-93' for task 'write_gcs'\n"
      ]
     },
     "metadata": {},
     "output_type": "display_data"
    },
    {
     "data": {
      "text/html": [
       "<pre style=\"white-space:pre;overflow-x:auto;line-height:normal;font-family:Menlo,'DejaVu Sans Mono',consolas,'Courier New',monospace\">22:30:18.023 | <span style=\"color: #008080; text-decoration-color: #008080\">INFO</span>    | Flow run<span style=\"color: #800080; text-decoration-color: #800080\"> 'khaki-bat'</span> - Executing 'write_gcs-93' immediately...\n",
       "</pre>\n"
      ],
      "text/plain": [
       "22:30:18.023 | \u001b[36mINFO\u001b[0m    | Flow run\u001b[35m 'khaki-bat'\u001b[0m - Executing 'write_gcs-93' immediately...\n"
      ]
     },
     "metadata": {},
     "output_type": "display_data"
    },
    {
     "name": "stdout",
     "output_type": "stream",
     "text": [
      "Csv file size is 1426546\n"
     ]
    },
    {
     "data": {
      "text/html": [
       "<pre style=\"white-space:pre;overflow-x:auto;line-height:normal;font-family:Menlo,'DejaVu Sans Mono',consolas,'Courier New',monospace\">22:30:19.899 | <span style=\"color: #008080; text-decoration-color: #008080\">INFO</span>    | Task run 'write_gcs-93' - Finished in state <span style=\"color: #008000; text-decoration-color: #008000\">Completed</span>()\n",
       "</pre>\n"
      ],
      "text/plain": [
       "22:30:19.899 | \u001b[36mINFO\u001b[0m    | Task run 'write_gcs-93' - Finished in state \u001b[32mCompleted\u001b[0m()\n"
      ]
     },
     "metadata": {},
     "output_type": "display_data"
    },
    {
     "name": "stdout",
     "output_type": "stream",
     "text": [
      "trip_19862.csv\n"
     ]
    },
    {
     "data": {
      "text/html": [
       "<pre style=\"white-space:pre;overflow-x:auto;line-height:normal;font-family:Menlo,'DejaVu Sans Mono',consolas,'Courier New',monospace\">22:30:19.973 | <span style=\"color: #008080; text-decoration-color: #008080\">INFO</span>    | Flow run<span style=\"color: #800080; text-decoration-color: #800080\"> 'khaki-bat'</span> - Created task run 'process_file-94' for task 'process_file'\n",
       "</pre>\n"
      ],
      "text/plain": [
       "22:30:19.973 | \u001b[36mINFO\u001b[0m    | Flow run\u001b[35m 'khaki-bat'\u001b[0m - Created task run 'process_file-94' for task 'process_file'\n"
      ]
     },
     "metadata": {},
     "output_type": "display_data"
    },
    {
     "data": {
      "text/html": [
       "<pre style=\"white-space:pre;overflow-x:auto;line-height:normal;font-family:Menlo,'DejaVu Sans Mono',consolas,'Courier New',monospace\">22:30:19.978 | <span style=\"color: #008080; text-decoration-color: #008080\">INFO</span>    | Flow run<span style=\"color: #800080; text-decoration-color: #800080\"> 'khaki-bat'</span> - Executing 'process_file-94' immediately...\n",
       "</pre>\n"
      ],
      "text/plain": [
       "22:30:19.978 | \u001b[36mINFO\u001b[0m    | Flow run\u001b[35m 'khaki-bat'\u001b[0m - Executing 'process_file-94' immediately...\n"
      ]
     },
     "metadata": {},
     "output_type": "display_data"
    },
    {
     "data": {
      "text/html": [
       "<pre style=\"white-space:pre;overflow-x:auto;line-height:normal;font-family:Menlo,'DejaVu Sans Mono',consolas,'Courier New',monospace\">22:30:20.185 | <span style=\"color: #008080; text-decoration-color: #008080\">INFO</span>    | Task run 'process_file-94' - Finished in state <span style=\"color: #008000; text-decoration-color: #008000\">Completed</span>()\n",
       "</pre>\n"
      ],
      "text/plain": [
       "22:30:20.185 | \u001b[36mINFO\u001b[0m    | Task run 'process_file-94' - Finished in state \u001b[32mCompleted\u001b[0m()\n"
      ]
     },
     "metadata": {},
     "output_type": "display_data"
    },
    {
     "data": {
      "text/html": [
       "<pre style=\"white-space:pre;overflow-x:auto;line-height:normal;font-family:Menlo,'DejaVu Sans Mono',consolas,'Courier New',monospace\">22:30:20.261 | <span style=\"color: #008080; text-decoration-color: #008080\">INFO</span>    | Flow run<span style=\"color: #800080; text-decoration-color: #800080\"> 'khaki-bat'</span> - Created task run 'write_gcs-94' for task 'write_gcs'\n",
       "</pre>\n"
      ],
      "text/plain": [
       "22:30:20.261 | \u001b[36mINFO\u001b[0m    | Flow run\u001b[35m 'khaki-bat'\u001b[0m - Created task run 'write_gcs-94' for task 'write_gcs'\n"
      ]
     },
     "metadata": {},
     "output_type": "display_data"
    },
    {
     "data": {
      "text/html": [
       "<pre style=\"white-space:pre;overflow-x:auto;line-height:normal;font-family:Menlo,'DejaVu Sans Mono',consolas,'Courier New',monospace\">22:30:20.265 | <span style=\"color: #008080; text-decoration-color: #008080\">INFO</span>    | Flow run<span style=\"color: #800080; text-decoration-color: #800080\"> 'khaki-bat'</span> - Executing 'write_gcs-94' immediately...\n",
       "</pre>\n"
      ],
      "text/plain": [
       "22:30:20.265 | \u001b[36mINFO\u001b[0m    | Flow run\u001b[35m 'khaki-bat'\u001b[0m - Executing 'write_gcs-94' immediately...\n"
      ]
     },
     "metadata": {},
     "output_type": "display_data"
    },
    {
     "name": "stdout",
     "output_type": "stream",
     "text": [
      "Csv file size is 1600398\n"
     ]
    },
    {
     "data": {
      "text/html": [
       "<pre style=\"white-space:pre;overflow-x:auto;line-height:normal;font-family:Menlo,'DejaVu Sans Mono',consolas,'Courier New',monospace\">22:30:22.064 | <span style=\"color: #008080; text-decoration-color: #008080\">INFO</span>    | Task run 'write_gcs-94' - Finished in state <span style=\"color: #008000; text-decoration-color: #008000\">Completed</span>()\n",
       "</pre>\n"
      ],
      "text/plain": [
       "22:30:22.064 | \u001b[36mINFO\u001b[0m    | Task run 'write_gcs-94' - Finished in state \u001b[32mCompleted\u001b[0m()\n"
      ]
     },
     "metadata": {},
     "output_type": "display_data"
    },
    {
     "name": "stdout",
     "output_type": "stream",
     "text": [
      "size_19862.csv\n"
     ]
    },
    {
     "data": {
      "text/html": [
       "<pre style=\"white-space:pre;overflow-x:auto;line-height:normal;font-family:Menlo,'DejaVu Sans Mono',consolas,'Courier New',monospace\">22:30:22.135 | <span style=\"color: #008080; text-decoration-color: #008080\">INFO</span>    | Flow run<span style=\"color: #800080; text-decoration-color: #800080\"> 'khaki-bat'</span> - Created task run 'process_file-95' for task 'process_file'\n",
       "</pre>\n"
      ],
      "text/plain": [
       "22:30:22.135 | \u001b[36mINFO\u001b[0m    | Flow run\u001b[35m 'khaki-bat'\u001b[0m - Created task run 'process_file-95' for task 'process_file'\n"
      ]
     },
     "metadata": {},
     "output_type": "display_data"
    },
    {
     "data": {
      "text/html": [
       "<pre style=\"white-space:pre;overflow-x:auto;line-height:normal;font-family:Menlo,'DejaVu Sans Mono',consolas,'Courier New',monospace\">22:30:22.140 | <span style=\"color: #008080; text-decoration-color: #008080\">INFO</span>    | Flow run<span style=\"color: #800080; text-decoration-color: #800080\"> 'khaki-bat'</span> - Executing 'process_file-95' immediately...\n",
       "</pre>\n"
      ],
      "text/plain": [
       "22:30:22.140 | \u001b[36mINFO\u001b[0m    | Flow run\u001b[35m 'khaki-bat'\u001b[0m - Executing 'process_file-95' immediately...\n"
      ]
     },
     "metadata": {},
     "output_type": "display_data"
    },
    {
     "data": {
      "text/html": [
       "<pre style=\"white-space:pre;overflow-x:auto;line-height:normal;font-family:Menlo,'DejaVu Sans Mono',consolas,'Courier New',monospace\">22:30:22.354 | <span style=\"color: #008080; text-decoration-color: #008080\">INFO</span>    | Task run 'process_file-95' - Finished in state <span style=\"color: #008000; text-decoration-color: #008000\">Completed</span>()\n",
       "</pre>\n"
      ],
      "text/plain": [
       "22:30:22.354 | \u001b[36mINFO\u001b[0m    | Task run 'process_file-95' - Finished in state \u001b[32mCompleted\u001b[0m()\n"
      ]
     },
     "metadata": {},
     "output_type": "display_data"
    },
    {
     "data": {
      "text/html": [
       "<pre style=\"white-space:pre;overflow-x:auto;line-height:normal;font-family:Menlo,'DejaVu Sans Mono',consolas,'Courier New',monospace\">22:30:22.424 | <span style=\"color: #008080; text-decoration-color: #008080\">INFO</span>    | Flow run<span style=\"color: #800080; text-decoration-color: #800080\"> 'khaki-bat'</span> - Created task run 'write_gcs-95' for task 'write_gcs'\n",
       "</pre>\n"
      ],
      "text/plain": [
       "22:30:22.424 | \u001b[36mINFO\u001b[0m    | Flow run\u001b[35m 'khaki-bat'\u001b[0m - Created task run 'write_gcs-95' for task 'write_gcs'\n"
      ]
     },
     "metadata": {},
     "output_type": "display_data"
    },
    {
     "data": {
      "text/html": [
       "<pre style=\"white-space:pre;overflow-x:auto;line-height:normal;font-family:Menlo,'DejaVu Sans Mono',consolas,'Courier New',monospace\">22:30:22.429 | <span style=\"color: #008080; text-decoration-color: #008080\">INFO</span>    | Flow run<span style=\"color: #800080; text-decoration-color: #800080\"> 'khaki-bat'</span> - Executing 'write_gcs-95' immediately...\n",
       "</pre>\n"
      ],
      "text/plain": [
       "22:30:22.429 | \u001b[36mINFO\u001b[0m    | Flow run\u001b[35m 'khaki-bat'\u001b[0m - Executing 'write_gcs-95' immediately...\n"
      ]
     },
     "metadata": {},
     "output_type": "display_data"
    },
    {
     "name": "stdout",
     "output_type": "stream",
     "text": [
      "Csv file size is 1845202\n"
     ]
    },
    {
     "data": {
      "text/html": [
       "<pre style=\"white-space:pre;overflow-x:auto;line-height:normal;font-family:Menlo,'DejaVu Sans Mono',consolas,'Courier New',monospace\">22:30:24.302 | <span style=\"color: #008080; text-decoration-color: #008080\">INFO</span>    | Task run 'write_gcs-95' - Finished in state <span style=\"color: #008000; text-decoration-color: #008000\">Completed</span>()\n",
       "</pre>\n"
      ],
      "text/plain": [
       "22:30:24.302 | \u001b[36mINFO\u001b[0m    | Task run 'write_gcs-95' - Finished in state \u001b[32mCompleted\u001b[0m()\n"
      ]
     },
     "metadata": {},
     "output_type": "display_data"
    },
    {
     "name": "stdout",
     "output_type": "stream",
     "text": [
      "catch_19863.csv\n"
     ]
    },
    {
     "data": {
      "text/html": [
       "<pre style=\"white-space:pre;overflow-x:auto;line-height:normal;font-family:Menlo,'DejaVu Sans Mono',consolas,'Courier New',monospace\">22:30:24.377 | <span style=\"color: #008080; text-decoration-color: #008080\">INFO</span>    | Flow run<span style=\"color: #800080; text-decoration-color: #800080\"> 'khaki-bat'</span> - Created task run 'process_file-96' for task 'process_file'\n",
       "</pre>\n"
      ],
      "text/plain": [
       "22:30:24.377 | \u001b[36mINFO\u001b[0m    | Flow run\u001b[35m 'khaki-bat'\u001b[0m - Created task run 'process_file-96' for task 'process_file'\n"
      ]
     },
     "metadata": {},
     "output_type": "display_data"
    },
    {
     "data": {
      "text/html": [
       "<pre style=\"white-space:pre;overflow-x:auto;line-height:normal;font-family:Menlo,'DejaVu Sans Mono',consolas,'Courier New',monospace\">22:30:24.380 | <span style=\"color: #008080; text-decoration-color: #008080\">INFO</span>    | Flow run<span style=\"color: #800080; text-decoration-color: #800080\"> 'khaki-bat'</span> - Executing 'process_file-96' immediately...\n",
       "</pre>\n"
      ],
      "text/plain": [
       "22:30:24.380 | \u001b[36mINFO\u001b[0m    | Flow run\u001b[35m 'khaki-bat'\u001b[0m - Executing 'process_file-96' immediately...\n"
      ]
     },
     "metadata": {},
     "output_type": "display_data"
    },
    {
     "data": {
      "text/html": [
       "<pre style=\"white-space:pre;overflow-x:auto;line-height:normal;font-family:Menlo,'DejaVu Sans Mono',consolas,'Courier New',monospace\">22:30:24.596 | <span style=\"color: #008080; text-decoration-color: #008080\">INFO</span>    | Task run 'process_file-96' - Finished in state <span style=\"color: #008000; text-decoration-color: #008000\">Completed</span>()\n",
       "</pre>\n"
      ],
      "text/plain": [
       "22:30:24.596 | \u001b[36mINFO\u001b[0m    | Task run 'process_file-96' - Finished in state \u001b[32mCompleted\u001b[0m()\n"
      ]
     },
     "metadata": {},
     "output_type": "display_data"
    },
    {
     "data": {
      "text/html": [
       "<pre style=\"white-space:pre;overflow-x:auto;line-height:normal;font-family:Menlo,'DejaVu Sans Mono',consolas,'Courier New',monospace\">22:30:24.670 | <span style=\"color: #008080; text-decoration-color: #008080\">INFO</span>    | Flow run<span style=\"color: #800080; text-decoration-color: #800080\"> 'khaki-bat'</span> - Created task run 'write_gcs-96' for task 'write_gcs'\n",
       "</pre>\n"
      ],
      "text/plain": [
       "22:30:24.670 | \u001b[36mINFO\u001b[0m    | Flow run\u001b[35m 'khaki-bat'\u001b[0m - Created task run 'write_gcs-96' for task 'write_gcs'\n"
      ]
     },
     "metadata": {},
     "output_type": "display_data"
    },
    {
     "data": {
      "text/html": [
       "<pre style=\"white-space:pre;overflow-x:auto;line-height:normal;font-family:Menlo,'DejaVu Sans Mono',consolas,'Courier New',monospace\">22:30:24.673 | <span style=\"color: #008080; text-decoration-color: #008080\">INFO</span>    | Flow run<span style=\"color: #800080; text-decoration-color: #800080\"> 'khaki-bat'</span> - Executing 'write_gcs-96' immediately...\n",
       "</pre>\n"
      ],
      "text/plain": [
       "22:30:24.673 | \u001b[36mINFO\u001b[0m    | Flow run\u001b[35m 'khaki-bat'\u001b[0m - Executing 'write_gcs-96' immediately...\n"
      ]
     },
     "metadata": {},
     "output_type": "display_data"
    },
    {
     "name": "stdout",
     "output_type": "stream",
     "text": [
      "Csv file size is 3331681\n"
     ]
    },
    {
     "data": {
      "text/html": [
       "<pre style=\"white-space:pre;overflow-x:auto;line-height:normal;font-family:Menlo,'DejaVu Sans Mono',consolas,'Courier New',monospace\">22:30:28.227 | <span style=\"color: #008080; text-decoration-color: #008080\">INFO</span>    | Task run 'write_gcs-96' - Finished in state <span style=\"color: #008000; text-decoration-color: #008000\">Completed</span>()\n",
       "</pre>\n"
      ],
      "text/plain": [
       "22:30:28.227 | \u001b[36mINFO\u001b[0m    | Task run 'write_gcs-96' - Finished in state \u001b[32mCompleted\u001b[0m()\n"
      ]
     },
     "metadata": {},
     "output_type": "display_data"
    },
    {
     "name": "stdout",
     "output_type": "stream",
     "text": [
      "trip_19863.csv\n"
     ]
    },
    {
     "data": {
      "text/html": [
       "<pre style=\"white-space:pre;overflow-x:auto;line-height:normal;font-family:Menlo,'DejaVu Sans Mono',consolas,'Courier New',monospace\">22:30:28.306 | <span style=\"color: #008080; text-decoration-color: #008080\">INFO</span>    | Flow run<span style=\"color: #800080; text-decoration-color: #800080\"> 'khaki-bat'</span> - Created task run 'process_file-97' for task 'process_file'\n",
       "</pre>\n"
      ],
      "text/plain": [
       "22:30:28.306 | \u001b[36mINFO\u001b[0m    | Flow run\u001b[35m 'khaki-bat'\u001b[0m - Created task run 'process_file-97' for task 'process_file'\n"
      ]
     },
     "metadata": {},
     "output_type": "display_data"
    },
    {
     "data": {
      "text/html": [
       "<pre style=\"white-space:pre;overflow-x:auto;line-height:normal;font-family:Menlo,'DejaVu Sans Mono',consolas,'Courier New',monospace\">22:30:28.310 | <span style=\"color: #008080; text-decoration-color: #008080\">INFO</span>    | Flow run<span style=\"color: #800080; text-decoration-color: #800080\"> 'khaki-bat'</span> - Executing 'process_file-97' immediately...\n",
       "</pre>\n"
      ],
      "text/plain": [
       "22:30:28.310 | \u001b[36mINFO\u001b[0m    | Flow run\u001b[35m 'khaki-bat'\u001b[0m - Executing 'process_file-97' immediately...\n"
      ]
     },
     "metadata": {},
     "output_type": "display_data"
    },
    {
     "data": {
      "text/html": [
       "<pre style=\"white-space:pre;overflow-x:auto;line-height:normal;font-family:Menlo,'DejaVu Sans Mono',consolas,'Courier New',monospace\">22:30:28.529 | <span style=\"color: #008080; text-decoration-color: #008080\">INFO</span>    | Task run 'process_file-97' - Finished in state <span style=\"color: #008000; text-decoration-color: #008000\">Completed</span>()\n",
       "</pre>\n"
      ],
      "text/plain": [
       "22:30:28.529 | \u001b[36mINFO\u001b[0m    | Task run 'process_file-97' - Finished in state \u001b[32mCompleted\u001b[0m()\n"
      ]
     },
     "metadata": {},
     "output_type": "display_data"
    },
    {
     "data": {
      "text/html": [
       "<pre style=\"white-space:pre;overflow-x:auto;line-height:normal;font-family:Menlo,'DejaVu Sans Mono',consolas,'Courier New',monospace\">22:30:28.605 | <span style=\"color: #008080; text-decoration-color: #008080\">INFO</span>    | Flow run<span style=\"color: #800080; text-decoration-color: #800080\"> 'khaki-bat'</span> - Created task run 'write_gcs-97' for task 'write_gcs'\n",
       "</pre>\n"
      ],
      "text/plain": [
       "22:30:28.605 | \u001b[36mINFO\u001b[0m    | Flow run\u001b[35m 'khaki-bat'\u001b[0m - Created task run 'write_gcs-97' for task 'write_gcs'\n"
      ]
     },
     "metadata": {},
     "output_type": "display_data"
    },
    {
     "data": {
      "text/html": [
       "<pre style=\"white-space:pre;overflow-x:auto;line-height:normal;font-family:Menlo,'DejaVu Sans Mono',consolas,'Courier New',monospace\">22:30:28.608 | <span style=\"color: #008080; text-decoration-color: #008080\">INFO</span>    | Flow run<span style=\"color: #800080; text-decoration-color: #800080\"> 'khaki-bat'</span> - Executing 'write_gcs-97' immediately...\n",
       "</pre>\n"
      ],
      "text/plain": [
       "22:30:28.608 | \u001b[36mINFO\u001b[0m    | Flow run\u001b[35m 'khaki-bat'\u001b[0m - Executing 'write_gcs-97' immediately...\n"
      ]
     },
     "metadata": {},
     "output_type": "display_data"
    },
    {
     "name": "stdout",
     "output_type": "stream",
     "text": [
      "Csv file size is 3127699\n"
     ]
    },
    {
     "data": {
      "text/html": [
       "<pre style=\"white-space:pre;overflow-x:auto;line-height:normal;font-family:Menlo,'DejaVu Sans Mono',consolas,'Courier New',monospace\">22:30:31.332 | <span style=\"color: #008080; text-decoration-color: #008080\">INFO</span>    | Task run 'write_gcs-97' - Finished in state <span style=\"color: #008000; text-decoration-color: #008000\">Completed</span>()\n",
       "</pre>\n"
      ],
      "text/plain": [
       "22:30:31.332 | \u001b[36mINFO\u001b[0m    | Task run 'write_gcs-97' - Finished in state \u001b[32mCompleted\u001b[0m()\n"
      ]
     },
     "metadata": {},
     "output_type": "display_data"
    },
    {
     "name": "stdout",
     "output_type": "stream",
     "text": [
      "size_19863.csv\n"
     ]
    },
    {
     "data": {
      "text/html": [
       "<pre style=\"white-space:pre;overflow-x:auto;line-height:normal;font-family:Menlo,'DejaVu Sans Mono',consolas,'Courier New',monospace\">22:30:31.419 | <span style=\"color: #008080; text-decoration-color: #008080\">INFO</span>    | Flow run<span style=\"color: #800080; text-decoration-color: #800080\"> 'khaki-bat'</span> - Created task run 'process_file-98' for task 'process_file'\n",
       "</pre>\n"
      ],
      "text/plain": [
       "22:30:31.419 | \u001b[36mINFO\u001b[0m    | Flow run\u001b[35m 'khaki-bat'\u001b[0m - Created task run 'process_file-98' for task 'process_file'\n"
      ]
     },
     "metadata": {},
     "output_type": "display_data"
    },
    {
     "data": {
      "text/html": [
       "<pre style=\"white-space:pre;overflow-x:auto;line-height:normal;font-family:Menlo,'DejaVu Sans Mono',consolas,'Courier New',monospace\">22:30:31.422 | <span style=\"color: #008080; text-decoration-color: #008080\">INFO</span>    | Flow run<span style=\"color: #800080; text-decoration-color: #800080\"> 'khaki-bat'</span> - Executing 'process_file-98' immediately...\n",
       "</pre>\n"
      ],
      "text/plain": [
       "22:30:31.422 | \u001b[36mINFO\u001b[0m    | Flow run\u001b[35m 'khaki-bat'\u001b[0m - Executing 'process_file-98' immediately...\n"
      ]
     },
     "metadata": {},
     "output_type": "display_data"
    },
    {
     "data": {
      "text/html": [
       "<pre style=\"white-space:pre;overflow-x:auto;line-height:normal;font-family:Menlo,'DejaVu Sans Mono',consolas,'Courier New',monospace\">22:30:31.629 | <span style=\"color: #008080; text-decoration-color: #008080\">INFO</span>    | Task run 'process_file-98' - Finished in state <span style=\"color: #008000; text-decoration-color: #008000\">Completed</span>()\n",
       "</pre>\n"
      ],
      "text/plain": [
       "22:30:31.629 | \u001b[36mINFO\u001b[0m    | Task run 'process_file-98' - Finished in state \u001b[32mCompleted\u001b[0m()\n"
      ]
     },
     "metadata": {},
     "output_type": "display_data"
    },
    {
     "data": {
      "text/html": [
       "<pre style=\"white-space:pre;overflow-x:auto;line-height:normal;font-family:Menlo,'DejaVu Sans Mono',consolas,'Courier New',monospace\">22:30:31.714 | <span style=\"color: #008080; text-decoration-color: #008080\">INFO</span>    | Flow run<span style=\"color: #800080; text-decoration-color: #800080\"> 'khaki-bat'</span> - Created task run 'write_gcs-98' for task 'write_gcs'\n",
       "</pre>\n"
      ],
      "text/plain": [
       "22:30:31.714 | \u001b[36mINFO\u001b[0m    | Flow run\u001b[35m 'khaki-bat'\u001b[0m - Created task run 'write_gcs-98' for task 'write_gcs'\n"
      ]
     },
     "metadata": {},
     "output_type": "display_data"
    },
    {
     "data": {
      "text/html": [
       "<pre style=\"white-space:pre;overflow-x:auto;line-height:normal;font-family:Menlo,'DejaVu Sans Mono',consolas,'Courier New',monospace\">22:30:31.718 | <span style=\"color: #008080; text-decoration-color: #008080\">INFO</span>    | Flow run<span style=\"color: #800080; text-decoration-color: #800080\"> 'khaki-bat'</span> - Executing 'write_gcs-98' immediately...\n",
       "</pre>\n"
      ],
      "text/plain": [
       "22:30:31.718 | \u001b[36mINFO\u001b[0m    | Flow run\u001b[35m 'khaki-bat'\u001b[0m - Executing 'write_gcs-98' immediately...\n"
      ]
     },
     "metadata": {},
     "output_type": "display_data"
    },
    {
     "name": "stdout",
     "output_type": "stream",
     "text": [
      "Csv file size is 4849439\n"
     ]
    },
    {
     "data": {
      "text/html": [
       "<pre style=\"white-space:pre;overflow-x:auto;line-height:normal;font-family:Menlo,'DejaVu Sans Mono',consolas,'Courier New',monospace\">22:30:35.791 | <span style=\"color: #008080; text-decoration-color: #008080\">INFO</span>    | Task run 'write_gcs-98' - Finished in state <span style=\"color: #008000; text-decoration-color: #008000\">Completed</span>()\n",
       "</pre>\n"
      ],
      "text/plain": [
       "22:30:35.791 | \u001b[36mINFO\u001b[0m    | Task run 'write_gcs-98' - Finished in state \u001b[32mCompleted\u001b[0m()\n"
      ]
     },
     "metadata": {},
     "output_type": "display_data"
    },
    {
     "name": "stdout",
     "output_type": "stream",
     "text": [
      "catch_19864.csv\n"
     ]
    },
    {
     "data": {
      "text/html": [
       "<pre style=\"white-space:pre;overflow-x:auto;line-height:normal;font-family:Menlo,'DejaVu Sans Mono',consolas,'Courier New',monospace\">22:30:35.873 | <span style=\"color: #008080; text-decoration-color: #008080\">INFO</span>    | Flow run<span style=\"color: #800080; text-decoration-color: #800080\"> 'khaki-bat'</span> - Created task run 'process_file-99' for task 'process_file'\n",
       "</pre>\n"
      ],
      "text/plain": [
       "22:30:35.873 | \u001b[36mINFO\u001b[0m    | Flow run\u001b[35m 'khaki-bat'\u001b[0m - Created task run 'process_file-99' for task 'process_file'\n"
      ]
     },
     "metadata": {},
     "output_type": "display_data"
    },
    {
     "data": {
      "text/html": [
       "<pre style=\"white-space:pre;overflow-x:auto;line-height:normal;font-family:Menlo,'DejaVu Sans Mono',consolas,'Courier New',monospace\">22:30:35.878 | <span style=\"color: #008080; text-decoration-color: #008080\">INFO</span>    | Flow run<span style=\"color: #800080; text-decoration-color: #800080\"> 'khaki-bat'</span> - Executing 'process_file-99' immediately...\n",
       "</pre>\n"
      ],
      "text/plain": [
       "22:30:35.878 | \u001b[36mINFO\u001b[0m    | Flow run\u001b[35m 'khaki-bat'\u001b[0m - Executing 'process_file-99' immediately...\n"
      ]
     },
     "metadata": {},
     "output_type": "display_data"
    },
    {
     "data": {
      "text/html": [
       "<pre style=\"white-space:pre;overflow-x:auto;line-height:normal;font-family:Menlo,'DejaVu Sans Mono',consolas,'Courier New',monospace\">22:30:36.657 | <span style=\"color: #008080; text-decoration-color: #008080\">INFO</span>    | Task run 'process_file-99' - Finished in state <span style=\"color: #008000; text-decoration-color: #008000\">Completed</span>()\n",
       "</pre>\n"
      ],
      "text/plain": [
       "22:30:36.657 | \u001b[36mINFO\u001b[0m    | Task run 'process_file-99' - Finished in state \u001b[32mCompleted\u001b[0m()\n"
      ]
     },
     "metadata": {},
     "output_type": "display_data"
    },
    {
     "data": {
      "text/html": [
       "<pre style=\"white-space:pre;overflow-x:auto;line-height:normal;font-family:Menlo,'DejaVu Sans Mono',consolas,'Courier New',monospace\">22:30:36.777 | <span style=\"color: #008080; text-decoration-color: #008080\">INFO</span>    | Flow run<span style=\"color: #800080; text-decoration-color: #800080\"> 'khaki-bat'</span> - Created task run 'write_gcs-99' for task 'write_gcs'\n",
       "</pre>\n"
      ],
      "text/plain": [
       "22:30:36.777 | \u001b[36mINFO\u001b[0m    | Flow run\u001b[35m 'khaki-bat'\u001b[0m - Created task run 'write_gcs-99' for task 'write_gcs'\n"
      ]
     },
     "metadata": {},
     "output_type": "display_data"
    },
    {
     "data": {
      "text/html": [
       "<pre style=\"white-space:pre;overflow-x:auto;line-height:normal;font-family:Menlo,'DejaVu Sans Mono',consolas,'Courier New',monospace\">22:30:36.782 | <span style=\"color: #008080; text-decoration-color: #008080\">INFO</span>    | Flow run<span style=\"color: #800080; text-decoration-color: #800080\"> 'khaki-bat'</span> - Executing 'write_gcs-99' immediately...\n",
       "</pre>\n"
      ],
      "text/plain": [
       "22:30:36.782 | \u001b[36mINFO\u001b[0m    | Flow run\u001b[35m 'khaki-bat'\u001b[0m - Executing 'write_gcs-99' immediately...\n"
      ]
     },
     "metadata": {},
     "output_type": "display_data"
    },
    {
     "name": "stdout",
     "output_type": "stream",
     "text": [
      "Csv file size is 4355519\n"
     ]
    },
    {
     "data": {
      "text/html": [
       "<pre style=\"white-space:pre;overflow-x:auto;line-height:normal;font-family:Menlo,'DejaVu Sans Mono',consolas,'Courier New',monospace\">22:30:40.647 | <span style=\"color: #008080; text-decoration-color: #008080\">INFO</span>    | Task run 'write_gcs-99' - Finished in state <span style=\"color: #008000; text-decoration-color: #008000\">Completed</span>()\n",
       "</pre>\n"
      ],
      "text/plain": [
       "22:30:40.647 | \u001b[36mINFO\u001b[0m    | Task run 'write_gcs-99' - Finished in state \u001b[32mCompleted\u001b[0m()\n"
      ]
     },
     "metadata": {},
     "output_type": "display_data"
    },
    {
     "name": "stdout",
     "output_type": "stream",
     "text": [
      "trip_19864.csv\n"
     ]
    },
    {
     "data": {
      "text/html": [
       "<pre style=\"white-space:pre;overflow-x:auto;line-height:normal;font-family:Menlo,'DejaVu Sans Mono',consolas,'Courier New',monospace\">22:30:40.768 | <span style=\"color: #008080; text-decoration-color: #008080\">INFO</span>    | Flow run<span style=\"color: #800080; text-decoration-color: #800080\"> 'khaki-bat'</span> - Created task run 'process_file-100' for task 'process_file'\n",
       "</pre>\n"
      ],
      "text/plain": [
       "22:30:40.768 | \u001b[36mINFO\u001b[0m    | Flow run\u001b[35m 'khaki-bat'\u001b[0m - Created task run 'process_file-100' for task 'process_file'\n"
      ]
     },
     "metadata": {},
     "output_type": "display_data"
    },
    {
     "data": {
      "text/html": [
       "<pre style=\"white-space:pre;overflow-x:auto;line-height:normal;font-family:Menlo,'DejaVu Sans Mono',consolas,'Courier New',monospace\">22:30:40.772 | <span style=\"color: #008080; text-decoration-color: #008080\">INFO</span>    | Flow run<span style=\"color: #800080; text-decoration-color: #800080\"> 'khaki-bat'</span> - Executing 'process_file-100' immediately...\n",
       "</pre>\n"
      ],
      "text/plain": [
       "22:30:40.772 | \u001b[36mINFO\u001b[0m    | Flow run\u001b[35m 'khaki-bat'\u001b[0m - Executing 'process_file-100' immediately...\n"
      ]
     },
     "metadata": {},
     "output_type": "display_data"
    },
    {
     "data": {
      "text/html": [
       "<pre style=\"white-space:pre;overflow-x:auto;line-height:normal;font-family:Menlo,'DejaVu Sans Mono',consolas,'Courier New',monospace\">22:30:41.408 | <span style=\"color: #008080; text-decoration-color: #008080\">INFO</span>    | Task run 'process_file-100' - Finished in state <span style=\"color: #008000; text-decoration-color: #008000\">Completed</span>()\n",
       "</pre>\n"
      ],
      "text/plain": [
       "22:30:41.408 | \u001b[36mINFO\u001b[0m    | Task run 'process_file-100' - Finished in state \u001b[32mCompleted\u001b[0m()\n"
      ]
     },
     "metadata": {},
     "output_type": "display_data"
    },
    {
     "data": {
      "text/html": [
       "<pre style=\"white-space:pre;overflow-x:auto;line-height:normal;font-family:Menlo,'DejaVu Sans Mono',consolas,'Courier New',monospace\">22:30:41.486 | <span style=\"color: #008080; text-decoration-color: #008080\">INFO</span>    | Flow run<span style=\"color: #800080; text-decoration-color: #800080\"> 'khaki-bat'</span> - Created task run 'write_gcs-100' for task 'write_gcs'\n",
       "</pre>\n"
      ],
      "text/plain": [
       "22:30:41.486 | \u001b[36mINFO\u001b[0m    | Flow run\u001b[35m 'khaki-bat'\u001b[0m - Created task run 'write_gcs-100' for task 'write_gcs'\n"
      ]
     },
     "metadata": {},
     "output_type": "display_data"
    },
    {
     "data": {
      "text/html": [
       "<pre style=\"white-space:pre;overflow-x:auto;line-height:normal;font-family:Menlo,'DejaVu Sans Mono',consolas,'Courier New',monospace\">22:30:41.489 | <span style=\"color: #008080; text-decoration-color: #008080\">INFO</span>    | Flow run<span style=\"color: #800080; text-decoration-color: #800080\"> 'khaki-bat'</span> - Executing 'write_gcs-100' immediately...\n",
       "</pre>\n"
      ],
      "text/plain": [
       "22:30:41.489 | \u001b[36mINFO\u001b[0m    | Flow run\u001b[35m 'khaki-bat'\u001b[0m - Executing 'write_gcs-100' immediately...\n"
      ]
     },
     "metadata": {},
     "output_type": "display_data"
    },
    {
     "name": "stdout",
     "output_type": "stream",
     "text": [
      "Csv file size is 3666292\n"
     ]
    },
    {
     "data": {
      "text/html": [
       "<pre style=\"white-space:pre;overflow-x:auto;line-height:normal;font-family:Menlo,'DejaVu Sans Mono',consolas,'Courier New',monospace\">22:30:44.651 | <span style=\"color: #008080; text-decoration-color: #008080\">INFO</span>    | Task run 'write_gcs-100' - Finished in state <span style=\"color: #008000; text-decoration-color: #008000\">Completed</span>()\n",
       "</pre>\n"
      ],
      "text/plain": [
       "22:30:44.651 | \u001b[36mINFO\u001b[0m    | Task run 'write_gcs-100' - Finished in state \u001b[32mCompleted\u001b[0m()\n"
      ]
     },
     "metadata": {},
     "output_type": "display_data"
    },
    {
     "name": "stdout",
     "output_type": "stream",
     "text": [
      "size_19864.csv\n"
     ]
    },
    {
     "data": {
      "text/html": [
       "<pre style=\"white-space:pre;overflow-x:auto;line-height:normal;font-family:Menlo,'DejaVu Sans Mono',consolas,'Courier New',monospace\">22:30:44.738 | <span style=\"color: #008080; text-decoration-color: #008080\">INFO</span>    | Flow run<span style=\"color: #800080; text-decoration-color: #800080\"> 'khaki-bat'</span> - Created task run 'process_file-101' for task 'process_file'\n",
       "</pre>\n"
      ],
      "text/plain": [
       "22:30:44.738 | \u001b[36mINFO\u001b[0m    | Flow run\u001b[35m 'khaki-bat'\u001b[0m - Created task run 'process_file-101' for task 'process_file'\n"
      ]
     },
     "metadata": {},
     "output_type": "display_data"
    },
    {
     "data": {
      "text/html": [
       "<pre style=\"white-space:pre;overflow-x:auto;line-height:normal;font-family:Menlo,'DejaVu Sans Mono',consolas,'Courier New',monospace\">22:30:44.741 | <span style=\"color: #008080; text-decoration-color: #008080\">INFO</span>    | Flow run<span style=\"color: #800080; text-decoration-color: #800080\"> 'khaki-bat'</span> - Executing 'process_file-101' immediately...\n",
       "</pre>\n"
      ],
      "text/plain": [
       "22:30:44.741 | \u001b[36mINFO\u001b[0m    | Flow run\u001b[35m 'khaki-bat'\u001b[0m - Executing 'process_file-101' immediately...\n"
      ]
     },
     "metadata": {},
     "output_type": "display_data"
    },
    {
     "data": {
      "text/html": [
       "<pre style=\"white-space:pre;overflow-x:auto;line-height:normal;font-family:Menlo,'DejaVu Sans Mono',consolas,'Courier New',monospace\">22:30:44.966 | <span style=\"color: #008080; text-decoration-color: #008080\">INFO</span>    | Task run 'process_file-101' - Finished in state <span style=\"color: #008000; text-decoration-color: #008000\">Completed</span>()\n",
       "</pre>\n"
      ],
      "text/plain": [
       "22:30:44.966 | \u001b[36mINFO\u001b[0m    | Task run 'process_file-101' - Finished in state \u001b[32mCompleted\u001b[0m()\n"
      ]
     },
     "metadata": {},
     "output_type": "display_data"
    },
    {
     "data": {
      "text/html": [
       "<pre style=\"white-space:pre;overflow-x:auto;line-height:normal;font-family:Menlo,'DejaVu Sans Mono',consolas,'Courier New',monospace\">22:30:45.038 | <span style=\"color: #008080; text-decoration-color: #008080\">INFO</span>    | Flow run<span style=\"color: #800080; text-decoration-color: #800080\"> 'khaki-bat'</span> - Created task run 'write_gcs-101' for task 'write_gcs'\n",
       "</pre>\n"
      ],
      "text/plain": [
       "22:30:45.038 | \u001b[36mINFO\u001b[0m    | Flow run\u001b[35m 'khaki-bat'\u001b[0m - Created task run 'write_gcs-101' for task 'write_gcs'\n"
      ]
     },
     "metadata": {},
     "output_type": "display_data"
    },
    {
     "data": {
      "text/html": [
       "<pre style=\"white-space:pre;overflow-x:auto;line-height:normal;font-family:Menlo,'DejaVu Sans Mono',consolas,'Courier New',monospace\">22:30:45.040 | <span style=\"color: #008080; text-decoration-color: #008080\">INFO</span>    | Flow run<span style=\"color: #800080; text-decoration-color: #800080\"> 'khaki-bat'</span> - Executing 'write_gcs-101' immediately...\n",
       "</pre>\n"
      ],
      "text/plain": [
       "22:30:45.040 | \u001b[36mINFO\u001b[0m    | Flow run\u001b[35m 'khaki-bat'\u001b[0m - Executing 'write_gcs-101' immediately...\n"
      ]
     },
     "metadata": {},
     "output_type": "display_data"
    },
    {
     "name": "stdout",
     "output_type": "stream",
     "text": [
      "Csv file size is 6388617\n"
     ]
    },
    {
     "data": {
      "text/html": [
       "<pre style=\"white-space:pre;overflow-x:auto;line-height:normal;font-family:Menlo,'DejaVu Sans Mono',consolas,'Courier New',monospace\">22:30:50.681 | <span style=\"color: #008080; text-decoration-color: #008080\">INFO</span>    | Task run 'write_gcs-101' - Finished in state <span style=\"color: #008000; text-decoration-color: #008000\">Completed</span>()\n",
       "</pre>\n"
      ],
      "text/plain": [
       "22:30:50.681 | \u001b[36mINFO\u001b[0m    | Task run 'write_gcs-101' - Finished in state \u001b[32mCompleted\u001b[0m()\n"
      ]
     },
     "metadata": {},
     "output_type": "display_data"
    },
    {
     "name": "stdout",
     "output_type": "stream",
     "text": [
      "catch_19865.csv\n"
     ]
    },
    {
     "data": {
      "text/html": [
       "<pre style=\"white-space:pre;overflow-x:auto;line-height:normal;font-family:Menlo,'DejaVu Sans Mono',consolas,'Courier New',monospace\">22:30:50.772 | <span style=\"color: #008080; text-decoration-color: #008080\">INFO</span>    | Flow run<span style=\"color: #800080; text-decoration-color: #800080\"> 'khaki-bat'</span> - Created task run 'process_file-102' for task 'process_file'\n",
       "</pre>\n"
      ],
      "text/plain": [
       "22:30:50.772 | \u001b[36mINFO\u001b[0m    | Flow run\u001b[35m 'khaki-bat'\u001b[0m - Created task run 'process_file-102' for task 'process_file'\n"
      ]
     },
     "metadata": {},
     "output_type": "display_data"
    },
    {
     "data": {
      "text/html": [
       "<pre style=\"white-space:pre;overflow-x:auto;line-height:normal;font-family:Menlo,'DejaVu Sans Mono',consolas,'Courier New',monospace\">22:30:50.778 | <span style=\"color: #008080; text-decoration-color: #008080\">INFO</span>    | Flow run<span style=\"color: #800080; text-decoration-color: #800080\"> 'khaki-bat'</span> - Executing 'process_file-102' immediately...\n",
       "</pre>\n"
      ],
      "text/plain": [
       "22:30:50.778 | \u001b[36mINFO\u001b[0m    | Flow run\u001b[35m 'khaki-bat'\u001b[0m - Executing 'process_file-102' immediately...\n"
      ]
     },
     "metadata": {},
     "output_type": "display_data"
    },
    {
     "data": {
      "text/html": [
       "<pre style=\"white-space:pre;overflow-x:auto;line-height:normal;font-family:Menlo,'DejaVu Sans Mono',consolas,'Courier New',monospace\">22:30:51.035 | <span style=\"color: #008080; text-decoration-color: #008080\">INFO</span>    | Task run 'process_file-102' - Finished in state <span style=\"color: #008000; text-decoration-color: #008000\">Completed</span>()\n",
       "</pre>\n"
      ],
      "text/plain": [
       "22:30:51.035 | \u001b[36mINFO\u001b[0m    | Task run 'process_file-102' - Finished in state \u001b[32mCompleted\u001b[0m()\n"
      ]
     },
     "metadata": {},
     "output_type": "display_data"
    },
    {
     "data": {
      "text/html": [
       "<pre style=\"white-space:pre;overflow-x:auto;line-height:normal;font-family:Menlo,'DejaVu Sans Mono',consolas,'Courier New',monospace\">22:30:51.123 | <span style=\"color: #008080; text-decoration-color: #008080\">INFO</span>    | Flow run<span style=\"color: #800080; text-decoration-color: #800080\"> 'khaki-bat'</span> - Created task run 'write_gcs-102' for task 'write_gcs'\n",
       "</pre>\n"
      ],
      "text/plain": [
       "22:30:51.123 | \u001b[36mINFO\u001b[0m    | Flow run\u001b[35m 'khaki-bat'\u001b[0m - Created task run 'write_gcs-102' for task 'write_gcs'\n"
      ]
     },
     "metadata": {},
     "output_type": "display_data"
    },
    {
     "data": {
      "text/html": [
       "<pre style=\"white-space:pre;overflow-x:auto;line-height:normal;font-family:Menlo,'DejaVu Sans Mono',consolas,'Courier New',monospace\">22:30:51.128 | <span style=\"color: #008080; text-decoration-color: #008080\">INFO</span>    | Flow run<span style=\"color: #800080; text-decoration-color: #800080\"> 'khaki-bat'</span> - Executing 'write_gcs-102' immediately...\n",
       "</pre>\n"
      ],
      "text/plain": [
       "22:30:51.128 | \u001b[36mINFO\u001b[0m    | Flow run\u001b[35m 'khaki-bat'\u001b[0m - Executing 'write_gcs-102' immediately...\n"
      ]
     },
     "metadata": {},
     "output_type": "display_data"
    },
    {
     "name": "stdout",
     "output_type": "stream",
     "text": [
      "Csv file size is 3717008\n"
     ]
    },
    {
     "data": {
      "text/html": [
       "<pre style=\"white-space:pre;overflow-x:auto;line-height:normal;font-family:Menlo,'DejaVu Sans Mono',consolas,'Courier New',monospace\">22:30:54.230 | <span style=\"color: #008080; text-decoration-color: #008080\">INFO</span>    | Task run 'write_gcs-102' - Finished in state <span style=\"color: #008000; text-decoration-color: #008000\">Completed</span>()\n",
       "</pre>\n"
      ],
      "text/plain": [
       "22:30:54.230 | \u001b[36mINFO\u001b[0m    | Task run 'write_gcs-102' - Finished in state \u001b[32mCompleted\u001b[0m()\n"
      ]
     },
     "metadata": {},
     "output_type": "display_data"
    },
    {
     "name": "stdout",
     "output_type": "stream",
     "text": [
      "trip_19865.csv\n"
     ]
    },
    {
     "data": {
      "text/html": [
       "<pre style=\"white-space:pre;overflow-x:auto;line-height:normal;font-family:Menlo,'DejaVu Sans Mono',consolas,'Courier New',monospace\">22:30:54.305 | <span style=\"color: #008080; text-decoration-color: #008080\">INFO</span>    | Flow run<span style=\"color: #800080; text-decoration-color: #800080\"> 'khaki-bat'</span> - Created task run 'process_file-103' for task 'process_file'\n",
       "</pre>\n"
      ],
      "text/plain": [
       "22:30:54.305 | \u001b[36mINFO\u001b[0m    | Flow run\u001b[35m 'khaki-bat'\u001b[0m - Created task run 'process_file-103' for task 'process_file'\n"
      ]
     },
     "metadata": {},
     "output_type": "display_data"
    },
    {
     "data": {
      "text/html": [
       "<pre style=\"white-space:pre;overflow-x:auto;line-height:normal;font-family:Menlo,'DejaVu Sans Mono',consolas,'Courier New',monospace\">22:30:54.317 | <span style=\"color: #008080; text-decoration-color: #008080\">INFO</span>    | Flow run<span style=\"color: #800080; text-decoration-color: #800080\"> 'khaki-bat'</span> - Executing 'process_file-103' immediately...\n",
       "</pre>\n"
      ],
      "text/plain": [
       "22:30:54.317 | \u001b[36mINFO\u001b[0m    | Flow run\u001b[35m 'khaki-bat'\u001b[0m - Executing 'process_file-103' immediately...\n"
      ]
     },
     "metadata": {},
     "output_type": "display_data"
    },
    {
     "data": {
      "text/html": [
       "<pre style=\"white-space:pre;overflow-x:auto;line-height:normal;font-family:Menlo,'DejaVu Sans Mono',consolas,'Courier New',monospace\">22:30:54.530 | <span style=\"color: #008080; text-decoration-color: #008080\">INFO</span>    | Task run 'process_file-103' - Finished in state <span style=\"color: #008000; text-decoration-color: #008000\">Completed</span>()\n",
       "</pre>\n"
      ],
      "text/plain": [
       "22:30:54.530 | \u001b[36mINFO\u001b[0m    | Task run 'process_file-103' - Finished in state \u001b[32mCompleted\u001b[0m()\n"
      ]
     },
     "metadata": {},
     "output_type": "display_data"
    },
    {
     "data": {
      "text/html": [
       "<pre style=\"white-space:pre;overflow-x:auto;line-height:normal;font-family:Menlo,'DejaVu Sans Mono',consolas,'Courier New',monospace\">22:30:54.599 | <span style=\"color: #008080; text-decoration-color: #008080\">INFO</span>    | Flow run<span style=\"color: #800080; text-decoration-color: #800080\"> 'khaki-bat'</span> - Created task run 'write_gcs-103' for task 'write_gcs'\n",
       "</pre>\n"
      ],
      "text/plain": [
       "22:30:54.599 | \u001b[36mINFO\u001b[0m    | Flow run\u001b[35m 'khaki-bat'\u001b[0m - Created task run 'write_gcs-103' for task 'write_gcs'\n"
      ]
     },
     "metadata": {},
     "output_type": "display_data"
    },
    {
     "data": {
      "text/html": [
       "<pre style=\"white-space:pre;overflow-x:auto;line-height:normal;font-family:Menlo,'DejaVu Sans Mono',consolas,'Courier New',monospace\">22:30:54.602 | <span style=\"color: #008080; text-decoration-color: #008080\">INFO</span>    | Flow run<span style=\"color: #800080; text-decoration-color: #800080\"> 'khaki-bat'</span> - Executing 'write_gcs-103' immediately...\n",
       "</pre>\n"
      ],
      "text/plain": [
       "22:30:54.602 | \u001b[36mINFO\u001b[0m    | Flow run\u001b[35m 'khaki-bat'\u001b[0m - Executing 'write_gcs-103' immediately...\n"
      ]
     },
     "metadata": {},
     "output_type": "display_data"
    },
    {
     "name": "stdout",
     "output_type": "stream",
     "text": [
      "Csv file size is 2705702\n"
     ]
    },
    {
     "data": {
      "text/html": [
       "<pre style=\"white-space:pre;overflow-x:auto;line-height:normal;font-family:Menlo,'DejaVu Sans Mono',consolas,'Courier New',monospace\">22:30:57.073 | <span style=\"color: #008080; text-decoration-color: #008080\">INFO</span>    | Task run 'write_gcs-103' - Finished in state <span style=\"color: #008000; text-decoration-color: #008000\">Completed</span>()\n",
       "</pre>\n"
      ],
      "text/plain": [
       "22:30:57.073 | \u001b[36mINFO\u001b[0m    | Task run 'write_gcs-103' - Finished in state \u001b[32mCompleted\u001b[0m()\n"
      ]
     },
     "metadata": {},
     "output_type": "display_data"
    },
    {
     "name": "stdout",
     "output_type": "stream",
     "text": [
      "size_19865.csv\n"
     ]
    },
    {
     "data": {
      "text/html": [
       "<pre style=\"white-space:pre;overflow-x:auto;line-height:normal;font-family:Menlo,'DejaVu Sans Mono',consolas,'Courier New',monospace\">22:30:57.146 | <span style=\"color: #008080; text-decoration-color: #008080\">INFO</span>    | Flow run<span style=\"color: #800080; text-decoration-color: #800080\"> 'khaki-bat'</span> - Created task run 'process_file-104' for task 'process_file'\n",
       "</pre>\n"
      ],
      "text/plain": [
       "22:30:57.146 | \u001b[36mINFO\u001b[0m    | Flow run\u001b[35m 'khaki-bat'\u001b[0m - Created task run 'process_file-104' for task 'process_file'\n"
      ]
     },
     "metadata": {},
     "output_type": "display_data"
    },
    {
     "data": {
      "text/html": [
       "<pre style=\"white-space:pre;overflow-x:auto;line-height:normal;font-family:Menlo,'DejaVu Sans Mono',consolas,'Courier New',monospace\">22:30:57.151 | <span style=\"color: #008080; text-decoration-color: #008080\">INFO</span>    | Flow run<span style=\"color: #800080; text-decoration-color: #800080\"> 'khaki-bat'</span> - Executing 'process_file-104' immediately...\n",
       "</pre>\n"
      ],
      "text/plain": [
       "22:30:57.151 | \u001b[36mINFO\u001b[0m    | Flow run\u001b[35m 'khaki-bat'\u001b[0m - Executing 'process_file-104' immediately...\n"
      ]
     },
     "metadata": {},
     "output_type": "display_data"
    },
    {
     "data": {
      "text/html": [
       "<pre style=\"white-space:pre;overflow-x:auto;line-height:normal;font-family:Menlo,'DejaVu Sans Mono',consolas,'Courier New',monospace\">22:30:57.385 | <span style=\"color: #008080; text-decoration-color: #008080\">INFO</span>    | Task run 'process_file-104' - Finished in state <span style=\"color: #008000; text-decoration-color: #008000\">Completed</span>()\n",
       "</pre>\n"
      ],
      "text/plain": [
       "22:30:57.385 | \u001b[36mINFO\u001b[0m    | Task run 'process_file-104' - Finished in state \u001b[32mCompleted\u001b[0m()\n"
      ]
     },
     "metadata": {},
     "output_type": "display_data"
    },
    {
     "data": {
      "text/html": [
       "<pre style=\"white-space:pre;overflow-x:auto;line-height:normal;font-family:Menlo,'DejaVu Sans Mono',consolas,'Courier New',monospace\">22:30:57.458 | <span style=\"color: #008080; text-decoration-color: #008080\">INFO</span>    | Flow run<span style=\"color: #800080; text-decoration-color: #800080\"> 'khaki-bat'</span> - Created task run 'write_gcs-104' for task 'write_gcs'\n",
       "</pre>\n"
      ],
      "text/plain": [
       "22:30:57.458 | \u001b[36mINFO\u001b[0m    | Flow run\u001b[35m 'khaki-bat'\u001b[0m - Created task run 'write_gcs-104' for task 'write_gcs'\n"
      ]
     },
     "metadata": {},
     "output_type": "display_data"
    },
    {
     "data": {
      "text/html": [
       "<pre style=\"white-space:pre;overflow-x:auto;line-height:normal;font-family:Menlo,'DejaVu Sans Mono',consolas,'Courier New',monospace\">22:30:57.462 | <span style=\"color: #008080; text-decoration-color: #008080\">INFO</span>    | Flow run<span style=\"color: #800080; text-decoration-color: #800080\"> 'khaki-bat'</span> - Executing 'write_gcs-104' immediately...\n",
       "</pre>\n"
      ],
      "text/plain": [
       "22:30:57.462 | \u001b[36mINFO\u001b[0m    | Flow run\u001b[35m 'khaki-bat'\u001b[0m - Executing 'write_gcs-104' immediately...\n"
      ]
     },
     "metadata": {},
     "output_type": "display_data"
    },
    {
     "name": "stdout",
     "output_type": "stream",
     "text": [
      "Csv file size is 6174002\n"
     ]
    },
    {
     "data": {
      "text/html": [
       "<pre style=\"white-space:pre;overflow-x:auto;line-height:normal;font-family:Menlo,'DejaVu Sans Mono',consolas,'Courier New',monospace\">22:31:02.483 | <span style=\"color: #008080; text-decoration-color: #008080\">INFO</span>    | Task run 'write_gcs-104' - Finished in state <span style=\"color: #008000; text-decoration-color: #008000\">Completed</span>()\n",
       "</pre>\n"
      ],
      "text/plain": [
       "22:31:02.483 | \u001b[36mINFO\u001b[0m    | Task run 'write_gcs-104' - Finished in state \u001b[32mCompleted\u001b[0m()\n"
      ]
     },
     "metadata": {},
     "output_type": "display_data"
    },
    {
     "name": "stdout",
     "output_type": "stream",
     "text": [
      "catch_19866.csv\n"
     ]
    },
    {
     "data": {
      "text/html": [
       "<pre style=\"white-space:pre;overflow-x:auto;line-height:normal;font-family:Menlo,'DejaVu Sans Mono',consolas,'Courier New',monospace\">22:31:02.559 | <span style=\"color: #008080; text-decoration-color: #008080\">INFO</span>    | Flow run<span style=\"color: #800080; text-decoration-color: #800080\"> 'khaki-bat'</span> - Created task run 'process_file-105' for task 'process_file'\n",
       "</pre>\n"
      ],
      "text/plain": [
       "22:31:02.559 | \u001b[36mINFO\u001b[0m    | Flow run\u001b[35m 'khaki-bat'\u001b[0m - Created task run 'process_file-105' for task 'process_file'\n"
      ]
     },
     "metadata": {},
     "output_type": "display_data"
    },
    {
     "data": {
      "text/html": [
       "<pre style=\"white-space:pre;overflow-x:auto;line-height:normal;font-family:Menlo,'DejaVu Sans Mono',consolas,'Courier New',monospace\">22:31:02.565 | <span style=\"color: #008080; text-decoration-color: #008080\">INFO</span>    | Flow run<span style=\"color: #800080; text-decoration-color: #800080\"> 'khaki-bat'</span> - Executing 'process_file-105' immediately...\n",
       "</pre>\n"
      ],
      "text/plain": [
       "22:31:02.565 | \u001b[36mINFO\u001b[0m    | Flow run\u001b[35m 'khaki-bat'\u001b[0m - Executing 'process_file-105' immediately...\n"
      ]
     },
     "metadata": {},
     "output_type": "display_data"
    },
    {
     "data": {
      "text/html": [
       "<pre style=\"white-space:pre;overflow-x:auto;line-height:normal;font-family:Menlo,'DejaVu Sans Mono',consolas,'Courier New',monospace\">22:31:03.133 | <span style=\"color: #008080; text-decoration-color: #008080\">INFO</span>    | Task run 'process_file-105' - Finished in state <span style=\"color: #008000; text-decoration-color: #008000\">Completed</span>()\n",
       "</pre>\n"
      ],
      "text/plain": [
       "22:31:03.133 | \u001b[36mINFO\u001b[0m    | Task run 'process_file-105' - Finished in state \u001b[32mCompleted\u001b[0m()\n"
      ]
     },
     "metadata": {},
     "output_type": "display_data"
    },
    {
     "data": {
      "text/html": [
       "<pre style=\"white-space:pre;overflow-x:auto;line-height:normal;font-family:Menlo,'DejaVu Sans Mono',consolas,'Courier New',monospace\">22:31:03.199 | <span style=\"color: #008080; text-decoration-color: #008080\">INFO</span>    | Flow run<span style=\"color: #800080; text-decoration-color: #800080\"> 'khaki-bat'</span> - Created task run 'write_gcs-105' for task 'write_gcs'\n",
       "</pre>\n"
      ],
      "text/plain": [
       "22:31:03.199 | \u001b[36mINFO\u001b[0m    | Flow run\u001b[35m 'khaki-bat'\u001b[0m - Created task run 'write_gcs-105' for task 'write_gcs'\n"
      ]
     },
     "metadata": {},
     "output_type": "display_data"
    },
    {
     "data": {
      "text/html": [
       "<pre style=\"white-space:pre;overflow-x:auto;line-height:normal;font-family:Menlo,'DejaVu Sans Mono',consolas,'Courier New',monospace\">22:31:03.202 | <span style=\"color: #008080; text-decoration-color: #008080\">INFO</span>    | Flow run<span style=\"color: #800080; text-decoration-color: #800080\"> 'khaki-bat'</span> - Executing 'write_gcs-105' immediately...\n",
       "</pre>\n"
      ],
      "text/plain": [
       "22:31:03.202 | \u001b[36mINFO\u001b[0m    | Flow run\u001b[35m 'khaki-bat'\u001b[0m - Executing 'write_gcs-105' immediately...\n"
      ]
     },
     "metadata": {},
     "output_type": "display_data"
    },
    {
     "name": "stdout",
     "output_type": "stream",
     "text": [
      "Csv file size is 1622702\n"
     ]
    },
    {
     "data": {
      "text/html": [
       "<pre style=\"white-space:pre;overflow-x:auto;line-height:normal;font-family:Menlo,'DejaVu Sans Mono',consolas,'Courier New',monospace\">22:31:04.929 | <span style=\"color: #008080; text-decoration-color: #008080\">INFO</span>    | Task run 'write_gcs-105' - Finished in state <span style=\"color: #008000; text-decoration-color: #008000\">Completed</span>()\n",
       "</pre>\n"
      ],
      "text/plain": [
       "22:31:04.929 | \u001b[36mINFO\u001b[0m    | Task run 'write_gcs-105' - Finished in state \u001b[32mCompleted\u001b[0m()\n"
      ]
     },
     "metadata": {},
     "output_type": "display_data"
    },
    {
     "name": "stdout",
     "output_type": "stream",
     "text": [
      "trip_19866.csv\n"
     ]
    },
    {
     "data": {
      "text/html": [
       "<pre style=\"white-space:pre;overflow-x:auto;line-height:normal;font-family:Menlo,'DejaVu Sans Mono',consolas,'Courier New',monospace\">22:31:05.075 | <span style=\"color: #008080; text-decoration-color: #008080\">INFO</span>    | Flow run<span style=\"color: #800080; text-decoration-color: #800080\"> 'khaki-bat'</span> - Created task run 'process_file-106' for task 'process_file'\n",
       "</pre>\n"
      ],
      "text/plain": [
       "22:31:05.075 | \u001b[36mINFO\u001b[0m    | Flow run\u001b[35m 'khaki-bat'\u001b[0m - Created task run 'process_file-106' for task 'process_file'\n"
      ]
     },
     "metadata": {},
     "output_type": "display_data"
    },
    {
     "data": {
      "text/html": [
       "<pre style=\"white-space:pre;overflow-x:auto;line-height:normal;font-family:Menlo,'DejaVu Sans Mono',consolas,'Courier New',monospace\">22:31:05.078 | <span style=\"color: #008080; text-decoration-color: #008080\">INFO</span>    | Flow run<span style=\"color: #800080; text-decoration-color: #800080\"> 'khaki-bat'</span> - Executing 'process_file-106' immediately...\n",
       "</pre>\n"
      ],
      "text/plain": [
       "22:31:05.078 | \u001b[36mINFO\u001b[0m    | Flow run\u001b[35m 'khaki-bat'\u001b[0m - Executing 'process_file-106' immediately...\n"
      ]
     },
     "metadata": {},
     "output_type": "display_data"
    },
    {
     "data": {
      "text/html": [
       "<pre style=\"white-space:pre;overflow-x:auto;line-height:normal;font-family:Menlo,'DejaVu Sans Mono',consolas,'Courier New',monospace\">22:31:05.290 | <span style=\"color: #008080; text-decoration-color: #008080\">INFO</span>    | Task run 'process_file-106' - Finished in state <span style=\"color: #008000; text-decoration-color: #008000\">Completed</span>()\n",
       "</pre>\n"
      ],
      "text/plain": [
       "22:31:05.290 | \u001b[36mINFO\u001b[0m    | Task run 'process_file-106' - Finished in state \u001b[32mCompleted\u001b[0m()\n"
      ]
     },
     "metadata": {},
     "output_type": "display_data"
    },
    {
     "data": {
      "text/html": [
       "<pre style=\"white-space:pre;overflow-x:auto;line-height:normal;font-family:Menlo,'DejaVu Sans Mono',consolas,'Courier New',monospace\">22:31:05.383 | <span style=\"color: #008080; text-decoration-color: #008080\">INFO</span>    | Flow run<span style=\"color: #800080; text-decoration-color: #800080\"> 'khaki-bat'</span> - Created task run 'write_gcs-106' for task 'write_gcs'\n",
       "</pre>\n"
      ],
      "text/plain": [
       "22:31:05.383 | \u001b[36mINFO\u001b[0m    | Flow run\u001b[35m 'khaki-bat'\u001b[0m - Created task run 'write_gcs-106' for task 'write_gcs'\n"
      ]
     },
     "metadata": {},
     "output_type": "display_data"
    },
    {
     "data": {
      "text/html": [
       "<pre style=\"white-space:pre;overflow-x:auto;line-height:normal;font-family:Menlo,'DejaVu Sans Mono',consolas,'Courier New',monospace\">22:31:05.387 | <span style=\"color: #008080; text-decoration-color: #008080\">INFO</span>    | Flow run<span style=\"color: #800080; text-decoration-color: #800080\"> 'khaki-bat'</span> - Executing 'write_gcs-106' immediately...\n",
       "</pre>\n"
      ],
      "text/plain": [
       "22:31:05.387 | \u001b[36mINFO\u001b[0m    | Flow run\u001b[35m 'khaki-bat'\u001b[0m - Executing 'write_gcs-106' immediately...\n"
      ]
     },
     "metadata": {},
     "output_type": "display_data"
    },
    {
     "name": "stdout",
     "output_type": "stream",
     "text": [
      "Csv file size is 1536624\n"
     ]
    },
    {
     "data": {
      "text/html": [
       "<pre style=\"white-space:pre;overflow-x:auto;line-height:normal;font-family:Menlo,'DejaVu Sans Mono',consolas,'Courier New',monospace\">22:31:07.166 | <span style=\"color: #008080; text-decoration-color: #008080\">INFO</span>    | Task run 'write_gcs-106' - Finished in state <span style=\"color: #008000; text-decoration-color: #008000\">Completed</span>()\n",
       "</pre>\n"
      ],
      "text/plain": [
       "22:31:07.166 | \u001b[36mINFO\u001b[0m    | Task run 'write_gcs-106' - Finished in state \u001b[32mCompleted\u001b[0m()\n"
      ]
     },
     "metadata": {},
     "output_type": "display_data"
    },
    {
     "name": "stdout",
     "output_type": "stream",
     "text": [
      "size_19866.csv\n"
     ]
    },
    {
     "data": {
      "text/html": [
       "<pre style=\"white-space:pre;overflow-x:auto;line-height:normal;font-family:Menlo,'DejaVu Sans Mono',consolas,'Courier New',monospace\">22:31:07.245 | <span style=\"color: #008080; text-decoration-color: #008080\">INFO</span>    | Flow run<span style=\"color: #800080; text-decoration-color: #800080\"> 'khaki-bat'</span> - Created task run 'process_file-107' for task 'process_file'\n",
       "</pre>\n"
      ],
      "text/plain": [
       "22:31:07.245 | \u001b[36mINFO\u001b[0m    | Flow run\u001b[35m 'khaki-bat'\u001b[0m - Created task run 'process_file-107' for task 'process_file'\n"
      ]
     },
     "metadata": {},
     "output_type": "display_data"
    },
    {
     "data": {
      "text/html": [
       "<pre style=\"white-space:pre;overflow-x:auto;line-height:normal;font-family:Menlo,'DejaVu Sans Mono',consolas,'Courier New',monospace\">22:31:07.250 | <span style=\"color: #008080; text-decoration-color: #008080\">INFO</span>    | Flow run<span style=\"color: #800080; text-decoration-color: #800080\"> 'khaki-bat'</span> - Executing 'process_file-107' immediately...\n",
       "</pre>\n"
      ],
      "text/plain": [
       "22:31:07.250 | \u001b[36mINFO\u001b[0m    | Flow run\u001b[35m 'khaki-bat'\u001b[0m - Executing 'process_file-107' immediately...\n"
      ]
     },
     "metadata": {},
     "output_type": "display_data"
    },
    {
     "data": {
      "text/html": [
       "<pre style=\"white-space:pre;overflow-x:auto;line-height:normal;font-family:Menlo,'DejaVu Sans Mono',consolas,'Courier New',monospace\">22:31:07.462 | <span style=\"color: #008080; text-decoration-color: #008080\">INFO</span>    | Task run 'process_file-107' - Finished in state <span style=\"color: #008000; text-decoration-color: #008000\">Completed</span>()\n",
       "</pre>\n"
      ],
      "text/plain": [
       "22:31:07.462 | \u001b[36mINFO\u001b[0m    | Task run 'process_file-107' - Finished in state \u001b[32mCompleted\u001b[0m()\n"
      ]
     },
     "metadata": {},
     "output_type": "display_data"
    },
    {
     "data": {
      "text/html": [
       "<pre style=\"white-space:pre;overflow-x:auto;line-height:normal;font-family:Menlo,'DejaVu Sans Mono',consolas,'Courier New',monospace\">22:31:07.530 | <span style=\"color: #008080; text-decoration-color: #008080\">INFO</span>    | Flow run<span style=\"color: #800080; text-decoration-color: #800080\"> 'khaki-bat'</span> - Created task run 'write_gcs-107' for task 'write_gcs'\n",
       "</pre>\n"
      ],
      "text/plain": [
       "22:31:07.530 | \u001b[36mINFO\u001b[0m    | Flow run\u001b[35m 'khaki-bat'\u001b[0m - Created task run 'write_gcs-107' for task 'write_gcs'\n"
      ]
     },
     "metadata": {},
     "output_type": "display_data"
    },
    {
     "data": {
      "text/html": [
       "<pre style=\"white-space:pre;overflow-x:auto;line-height:normal;font-family:Menlo,'DejaVu Sans Mono',consolas,'Courier New',monospace\">22:31:07.534 | <span style=\"color: #008080; text-decoration-color: #008080\">INFO</span>    | Flow run<span style=\"color: #800080; text-decoration-color: #800080\"> 'khaki-bat'</span> - Executing 'write_gcs-107' immediately...\n",
       "</pre>\n"
      ],
      "text/plain": [
       "22:31:07.534 | \u001b[36mINFO\u001b[0m    | Flow run\u001b[35m 'khaki-bat'\u001b[0m - Executing 'write_gcs-107' immediately...\n"
      ]
     },
     "metadata": {},
     "output_type": "display_data"
    },
    {
     "name": "stdout",
     "output_type": "stream",
     "text": [
      "Csv file size is 2357277\n"
     ]
    },
    {
     "data": {
      "text/html": [
       "<pre style=\"white-space:pre;overflow-x:auto;line-height:normal;font-family:Menlo,'DejaVu Sans Mono',consolas,'Courier New',monospace\">22:31:09.946 | <span style=\"color: #008080; text-decoration-color: #008080\">INFO</span>    | Task run 'write_gcs-107' - Finished in state <span style=\"color: #008000; text-decoration-color: #008000\">Completed</span>()\n",
       "</pre>\n"
      ],
      "text/plain": [
       "22:31:09.946 | \u001b[36mINFO\u001b[0m    | Task run 'write_gcs-107' - Finished in state \u001b[32mCompleted\u001b[0m()\n"
      ]
     },
     "metadata": {},
     "output_type": "display_data"
    },
    {
     "name": "stdout",
     "output_type": "stream",
     "text": [
      "catch_19871.csv\n"
     ]
    },
    {
     "data": {
      "text/html": [
       "<pre style=\"white-space:pre;overflow-x:auto;line-height:normal;font-family:Menlo,'DejaVu Sans Mono',consolas,'Courier New',monospace\">22:31:10.018 | <span style=\"color: #008080; text-decoration-color: #008080\">INFO</span>    | Flow run<span style=\"color: #800080; text-decoration-color: #800080\"> 'khaki-bat'</span> - Created task run 'process_file-108' for task 'process_file'\n",
       "</pre>\n"
      ],
      "text/plain": [
       "22:31:10.018 | \u001b[36mINFO\u001b[0m    | Flow run\u001b[35m 'khaki-bat'\u001b[0m - Created task run 'process_file-108' for task 'process_file'\n"
      ]
     },
     "metadata": {},
     "output_type": "display_data"
    },
    {
     "data": {
      "text/html": [
       "<pre style=\"white-space:pre;overflow-x:auto;line-height:normal;font-family:Menlo,'DejaVu Sans Mono',consolas,'Courier New',monospace\">22:31:10.020 | <span style=\"color: #008080; text-decoration-color: #008080\">INFO</span>    | Flow run<span style=\"color: #800080; text-decoration-color: #800080\"> 'khaki-bat'</span> - Executing 'process_file-108' immediately...\n",
       "</pre>\n"
      ],
      "text/plain": [
       "22:31:10.020 | \u001b[36mINFO\u001b[0m    | Flow run\u001b[35m 'khaki-bat'\u001b[0m - Executing 'process_file-108' immediately...\n"
      ]
     },
     "metadata": {},
     "output_type": "display_data"
    },
    {
     "data": {
      "text/html": [
       "<pre style=\"white-space:pre;overflow-x:auto;line-height:normal;font-family:Menlo,'DejaVu Sans Mono',consolas,'Courier New',monospace\">22:31:10.259 | <span style=\"color: #008080; text-decoration-color: #008080\">INFO</span>    | Task run 'process_file-108' - Finished in state <span style=\"color: #008000; text-decoration-color: #008000\">Completed</span>()\n",
       "</pre>\n"
      ],
      "text/plain": [
       "22:31:10.259 | \u001b[36mINFO\u001b[0m    | Task run 'process_file-108' - Finished in state \u001b[32mCompleted\u001b[0m()\n"
      ]
     },
     "metadata": {},
     "output_type": "display_data"
    },
    {
     "data": {
      "text/html": [
       "<pre style=\"white-space:pre;overflow-x:auto;line-height:normal;font-family:Menlo,'DejaVu Sans Mono',consolas,'Courier New',monospace\">22:31:10.346 | <span style=\"color: #008080; text-decoration-color: #008080\">INFO</span>    | Flow run<span style=\"color: #800080; text-decoration-color: #800080\"> 'khaki-bat'</span> - Created task run 'write_gcs-108' for task 'write_gcs'\n",
       "</pre>\n"
      ],
      "text/plain": [
       "22:31:10.346 | \u001b[36mINFO\u001b[0m    | Flow run\u001b[35m 'khaki-bat'\u001b[0m - Created task run 'write_gcs-108' for task 'write_gcs'\n"
      ]
     },
     "metadata": {},
     "output_type": "display_data"
    },
    {
     "data": {
      "text/html": [
       "<pre style=\"white-space:pre;overflow-x:auto;line-height:normal;font-family:Menlo,'DejaVu Sans Mono',consolas,'Courier New',monospace\">22:31:10.350 | <span style=\"color: #008080; text-decoration-color: #008080\">INFO</span>    | Flow run<span style=\"color: #800080; text-decoration-color: #800080\"> 'khaki-bat'</span> - Executing 'write_gcs-108' immediately...\n",
       "</pre>\n"
      ],
      "text/plain": [
       "22:31:10.350 | \u001b[36mINFO\u001b[0m    | Flow run\u001b[35m 'khaki-bat'\u001b[0m - Executing 'write_gcs-108' immediately...\n"
      ]
     },
     "metadata": {},
     "output_type": "display_data"
    },
    {
     "name": "stdout",
     "output_type": "stream",
     "text": [
      "Csv file size is 639608\n"
     ]
    },
    {
     "data": {
      "text/html": [
       "<pre style=\"white-space:pre;overflow-x:auto;line-height:normal;font-family:Menlo,'DejaVu Sans Mono',consolas,'Courier New',monospace\">22:31:11.418 | <span style=\"color: #008080; text-decoration-color: #008080\">INFO</span>    | Task run 'write_gcs-108' - Finished in state <span style=\"color: #008000; text-decoration-color: #008000\">Completed</span>()\n",
       "</pre>\n"
      ],
      "text/plain": [
       "22:31:11.418 | \u001b[36mINFO\u001b[0m    | Task run 'write_gcs-108' - Finished in state \u001b[32mCompleted\u001b[0m()\n"
      ]
     },
     "metadata": {},
     "output_type": "display_data"
    },
    {
     "name": "stdout",
     "output_type": "stream",
     "text": [
      "trip_19871.csv\n"
     ]
    },
    {
     "data": {
      "text/html": [
       "<pre style=\"white-space:pre;overflow-x:auto;line-height:normal;font-family:Menlo,'DejaVu Sans Mono',consolas,'Courier New',monospace\">22:31:11.528 | <span style=\"color: #008080; text-decoration-color: #008080\">INFO</span>    | Flow run<span style=\"color: #800080; text-decoration-color: #800080\"> 'khaki-bat'</span> - Created task run 'process_file-109' for task 'process_file'\n",
       "</pre>\n"
      ],
      "text/plain": [
       "22:31:11.528 | \u001b[36mINFO\u001b[0m    | Flow run\u001b[35m 'khaki-bat'\u001b[0m - Created task run 'process_file-109' for task 'process_file'\n"
      ]
     },
     "metadata": {},
     "output_type": "display_data"
    },
    {
     "data": {
      "text/html": [
       "<pre style=\"white-space:pre;overflow-x:auto;line-height:normal;font-family:Menlo,'DejaVu Sans Mono',consolas,'Courier New',monospace\">22:31:11.533 | <span style=\"color: #008080; text-decoration-color: #008080\">INFO</span>    | Flow run<span style=\"color: #800080; text-decoration-color: #800080\"> 'khaki-bat'</span> - Executing 'process_file-109' immediately...\n",
       "</pre>\n"
      ],
      "text/plain": [
       "22:31:11.533 | \u001b[36mINFO\u001b[0m    | Flow run\u001b[35m 'khaki-bat'\u001b[0m - Executing 'process_file-109' immediately...\n"
      ]
     },
     "metadata": {},
     "output_type": "display_data"
    },
    {
     "data": {
      "text/html": [
       "<pre style=\"white-space:pre;overflow-x:auto;line-height:normal;font-family:Menlo,'DejaVu Sans Mono',consolas,'Courier New',monospace\">22:31:11.754 | <span style=\"color: #008080; text-decoration-color: #008080\">INFO</span>    | Task run 'process_file-109' - Finished in state <span style=\"color: #008000; text-decoration-color: #008000\">Completed</span>()\n",
       "</pre>\n"
      ],
      "text/plain": [
       "22:31:11.754 | \u001b[36mINFO\u001b[0m    | Task run 'process_file-109' - Finished in state \u001b[32mCompleted\u001b[0m()\n"
      ]
     },
     "metadata": {},
     "output_type": "display_data"
    },
    {
     "data": {
      "text/html": [
       "<pre style=\"white-space:pre;overflow-x:auto;line-height:normal;font-family:Menlo,'DejaVu Sans Mono',consolas,'Courier New',monospace\">22:31:11.821 | <span style=\"color: #008080; text-decoration-color: #008080\">INFO</span>    | Flow run<span style=\"color: #800080; text-decoration-color: #800080\"> 'khaki-bat'</span> - Created task run 'write_gcs-109' for task 'write_gcs'\n",
       "</pre>\n"
      ],
      "text/plain": [
       "22:31:11.821 | \u001b[36mINFO\u001b[0m    | Flow run\u001b[35m 'khaki-bat'\u001b[0m - Created task run 'write_gcs-109' for task 'write_gcs'\n"
      ]
     },
     "metadata": {},
     "output_type": "display_data"
    },
    {
     "data": {
      "text/html": [
       "<pre style=\"white-space:pre;overflow-x:auto;line-height:normal;font-family:Menlo,'DejaVu Sans Mono',consolas,'Courier New',monospace\">22:31:11.824 | <span style=\"color: #008080; text-decoration-color: #008080\">INFO</span>    | Flow run<span style=\"color: #800080; text-decoration-color: #800080\"> 'khaki-bat'</span> - Executing 'write_gcs-109' immediately...\n",
       "</pre>\n"
      ],
      "text/plain": [
       "22:31:11.824 | \u001b[36mINFO\u001b[0m    | Flow run\u001b[35m 'khaki-bat'\u001b[0m - Executing 'write_gcs-109' immediately...\n"
      ]
     },
     "metadata": {},
     "output_type": "display_data"
    },
    {
     "name": "stdout",
     "output_type": "stream",
     "text": [
      "Csv file size is 684041\n"
     ]
    },
    {
     "data": {
      "text/html": [
       "<pre style=\"white-space:pre;overflow-x:auto;line-height:normal;font-family:Menlo,'DejaVu Sans Mono',consolas,'Courier New',monospace\">22:31:13.050 | <span style=\"color: #008080; text-decoration-color: #008080\">INFO</span>    | Task run 'write_gcs-109' - Finished in state <span style=\"color: #008000; text-decoration-color: #008000\">Completed</span>()\n",
       "</pre>\n"
      ],
      "text/plain": [
       "22:31:13.050 | \u001b[36mINFO\u001b[0m    | Task run 'write_gcs-109' - Finished in state \u001b[32mCompleted\u001b[0m()\n"
      ]
     },
     "metadata": {},
     "output_type": "display_data"
    },
    {
     "name": "stdout",
     "output_type": "stream",
     "text": [
      "size_19871.csv\n"
     ]
    },
    {
     "data": {
      "text/html": [
       "<pre style=\"white-space:pre;overflow-x:auto;line-height:normal;font-family:Menlo,'DejaVu Sans Mono',consolas,'Courier New',monospace\">22:31:13.111 | <span style=\"color: #008080; text-decoration-color: #008080\">INFO</span>    | Flow run<span style=\"color: #800080; text-decoration-color: #800080\"> 'khaki-bat'</span> - Created task run 'process_file-110' for task 'process_file'\n",
       "</pre>\n"
      ],
      "text/plain": [
       "22:31:13.111 | \u001b[36mINFO\u001b[0m    | Flow run\u001b[35m 'khaki-bat'\u001b[0m - Created task run 'process_file-110' for task 'process_file'\n"
      ]
     },
     "metadata": {},
     "output_type": "display_data"
    },
    {
     "data": {
      "text/html": [
       "<pre style=\"white-space:pre;overflow-x:auto;line-height:normal;font-family:Menlo,'DejaVu Sans Mono',consolas,'Courier New',monospace\">22:31:13.117 | <span style=\"color: #008080; text-decoration-color: #008080\">INFO</span>    | Flow run<span style=\"color: #800080; text-decoration-color: #800080\"> 'khaki-bat'</span> - Executing 'process_file-110' immediately...\n",
       "</pre>\n"
      ],
      "text/plain": [
       "22:31:13.117 | \u001b[36mINFO\u001b[0m    | Flow run\u001b[35m 'khaki-bat'\u001b[0m - Executing 'process_file-110' immediately...\n"
      ]
     },
     "metadata": {},
     "output_type": "display_data"
    },
    {
     "data": {
      "text/html": [
       "<pre style=\"white-space:pre;overflow-x:auto;line-height:normal;font-family:Menlo,'DejaVu Sans Mono',consolas,'Courier New',monospace\">22:31:13.305 | <span style=\"color: #008080; text-decoration-color: #008080\">INFO</span>    | Task run 'process_file-110' - Finished in state <span style=\"color: #008000; text-decoration-color: #008000\">Completed</span>()\n",
       "</pre>\n"
      ],
      "text/plain": [
       "22:31:13.305 | \u001b[36mINFO\u001b[0m    | Task run 'process_file-110' - Finished in state \u001b[32mCompleted\u001b[0m()\n"
      ]
     },
     "metadata": {},
     "output_type": "display_data"
    },
    {
     "data": {
      "text/html": [
       "<pre style=\"white-space:pre;overflow-x:auto;line-height:normal;font-family:Menlo,'DejaVu Sans Mono',consolas,'Courier New',monospace\">22:31:13.374 | <span style=\"color: #008080; text-decoration-color: #008080\">INFO</span>    | Flow run<span style=\"color: #800080; text-decoration-color: #800080\"> 'khaki-bat'</span> - Created task run 'write_gcs-110' for task 'write_gcs'\n",
       "</pre>\n"
      ],
      "text/plain": [
       "22:31:13.374 | \u001b[36mINFO\u001b[0m    | Flow run\u001b[35m 'khaki-bat'\u001b[0m - Created task run 'write_gcs-110' for task 'write_gcs'\n"
      ]
     },
     "metadata": {},
     "output_type": "display_data"
    },
    {
     "data": {
      "text/html": [
       "<pre style=\"white-space:pre;overflow-x:auto;line-height:normal;font-family:Menlo,'DejaVu Sans Mono',consolas,'Courier New',monospace\">22:31:13.377 | <span style=\"color: #008080; text-decoration-color: #008080\">INFO</span>    | Flow run<span style=\"color: #800080; text-decoration-color: #800080\"> 'khaki-bat'</span> - Executing 'write_gcs-110' immediately...\n",
       "</pre>\n"
      ],
      "text/plain": [
       "22:31:13.377 | \u001b[36mINFO\u001b[0m    | Flow run\u001b[35m 'khaki-bat'\u001b[0m - Executing 'write_gcs-110' immediately...\n"
      ]
     },
     "metadata": {},
     "output_type": "display_data"
    },
    {
     "name": "stdout",
     "output_type": "stream",
     "text": [
      "Csv file size is 547258\n"
     ]
    },
    {
     "data": {
      "text/html": [
       "<pre style=\"white-space:pre;overflow-x:auto;line-height:normal;font-family:Menlo,'DejaVu Sans Mono',consolas,'Courier New',monospace\">22:31:14.356 | <span style=\"color: #008080; text-decoration-color: #008080\">INFO</span>    | Task run 'write_gcs-110' - Finished in state <span style=\"color: #008000; text-decoration-color: #008000\">Completed</span>()\n",
       "</pre>\n"
      ],
      "text/plain": [
       "22:31:14.356 | \u001b[36mINFO\u001b[0m    | Task run 'write_gcs-110' - Finished in state \u001b[32mCompleted\u001b[0m()\n"
      ]
     },
     "metadata": {},
     "output_type": "display_data"
    },
    {
     "name": "stdout",
     "output_type": "stream",
     "text": [
      "catch_19872.csv\n"
     ]
    },
    {
     "data": {
      "text/html": [
       "<pre style=\"white-space:pre;overflow-x:auto;line-height:normal;font-family:Menlo,'DejaVu Sans Mono',consolas,'Courier New',monospace\">22:31:14.434 | <span style=\"color: #008080; text-decoration-color: #008080\">INFO</span>    | Flow run<span style=\"color: #800080; text-decoration-color: #800080\"> 'khaki-bat'</span> - Created task run 'process_file-111' for task 'process_file'\n",
       "</pre>\n"
      ],
      "text/plain": [
       "22:31:14.434 | \u001b[36mINFO\u001b[0m    | Flow run\u001b[35m 'khaki-bat'\u001b[0m - Created task run 'process_file-111' for task 'process_file'\n"
      ]
     },
     "metadata": {},
     "output_type": "display_data"
    },
    {
     "data": {
      "text/html": [
       "<pre style=\"white-space:pre;overflow-x:auto;line-height:normal;font-family:Menlo,'DejaVu Sans Mono',consolas,'Courier New',monospace\">22:31:14.438 | <span style=\"color: #008080; text-decoration-color: #008080\">INFO</span>    | Flow run<span style=\"color: #800080; text-decoration-color: #800080\"> 'khaki-bat'</span> - Executing 'process_file-111' immediately...\n",
       "</pre>\n"
      ],
      "text/plain": [
       "22:31:14.438 | \u001b[36mINFO\u001b[0m    | Flow run\u001b[35m 'khaki-bat'\u001b[0m - Executing 'process_file-111' immediately...\n"
      ]
     },
     "metadata": {},
     "output_type": "display_data"
    },
    {
     "data": {
      "text/html": [
       "<pre style=\"white-space:pre;overflow-x:auto;line-height:normal;font-family:Menlo,'DejaVu Sans Mono',consolas,'Courier New',monospace\">22:31:14.675 | <span style=\"color: #008080; text-decoration-color: #008080\">INFO</span>    | Task run 'process_file-111' - Finished in state <span style=\"color: #008000; text-decoration-color: #008000\">Completed</span>()\n",
       "</pre>\n"
      ],
      "text/plain": [
       "22:31:14.675 | \u001b[36mINFO\u001b[0m    | Task run 'process_file-111' - Finished in state \u001b[32mCompleted\u001b[0m()\n"
      ]
     },
     "metadata": {},
     "output_type": "display_data"
    },
    {
     "data": {
      "text/html": [
       "<pre style=\"white-space:pre;overflow-x:auto;line-height:normal;font-family:Menlo,'DejaVu Sans Mono',consolas,'Courier New',monospace\">22:31:14.741 | <span style=\"color: #008080; text-decoration-color: #008080\">INFO</span>    | Flow run<span style=\"color: #800080; text-decoration-color: #800080\"> 'khaki-bat'</span> - Created task run 'write_gcs-111' for task 'write_gcs'\n",
       "</pre>\n"
      ],
      "text/plain": [
       "22:31:14.741 | \u001b[36mINFO\u001b[0m    | Flow run\u001b[35m 'khaki-bat'\u001b[0m - Created task run 'write_gcs-111' for task 'write_gcs'\n"
      ]
     },
     "metadata": {},
     "output_type": "display_data"
    },
    {
     "data": {
      "text/html": [
       "<pre style=\"white-space:pre;overflow-x:auto;line-height:normal;font-family:Menlo,'DejaVu Sans Mono',consolas,'Courier New',monospace\">22:31:14.743 | <span style=\"color: #008080; text-decoration-color: #008080\">INFO</span>    | Flow run<span style=\"color: #800080; text-decoration-color: #800080\"> 'khaki-bat'</span> - Executing 'write_gcs-111' immediately...\n",
       "</pre>\n"
      ],
      "text/plain": [
       "22:31:14.743 | \u001b[36mINFO\u001b[0m    | Flow run\u001b[35m 'khaki-bat'\u001b[0m - Executing 'write_gcs-111' immediately...\n"
      ]
     },
     "metadata": {},
     "output_type": "display_data"
    },
    {
     "name": "stdout",
     "output_type": "stream",
     "text": [
      "Csv file size is 1490736\n"
     ]
    },
    {
     "data": {
      "text/html": [
       "<pre style=\"white-space:pre;overflow-x:auto;line-height:normal;font-family:Menlo,'DejaVu Sans Mono',consolas,'Courier New',monospace\">22:31:16.395 | <span style=\"color: #008080; text-decoration-color: #008080\">INFO</span>    | Task run 'write_gcs-111' - Finished in state <span style=\"color: #008000; text-decoration-color: #008000\">Completed</span>()\n",
       "</pre>\n"
      ],
      "text/plain": [
       "22:31:16.395 | \u001b[36mINFO\u001b[0m    | Task run 'write_gcs-111' - Finished in state \u001b[32mCompleted\u001b[0m()\n"
      ]
     },
     "metadata": {},
     "output_type": "display_data"
    },
    {
     "name": "stdout",
     "output_type": "stream",
     "text": [
      "trip_19872.csv\n"
     ]
    },
    {
     "data": {
      "text/html": [
       "<pre style=\"white-space:pre;overflow-x:auto;line-height:normal;font-family:Menlo,'DejaVu Sans Mono',consolas,'Courier New',monospace\">22:31:16.467 | <span style=\"color: #008080; text-decoration-color: #008080\">INFO</span>    | Flow run<span style=\"color: #800080; text-decoration-color: #800080\"> 'khaki-bat'</span> - Created task run 'process_file-112' for task 'process_file'\n",
       "</pre>\n"
      ],
      "text/plain": [
       "22:31:16.467 | \u001b[36mINFO\u001b[0m    | Flow run\u001b[35m 'khaki-bat'\u001b[0m - Created task run 'process_file-112' for task 'process_file'\n"
      ]
     },
     "metadata": {},
     "output_type": "display_data"
    },
    {
     "data": {
      "text/html": [
       "<pre style=\"white-space:pre;overflow-x:auto;line-height:normal;font-family:Menlo,'DejaVu Sans Mono',consolas,'Courier New',monospace\">22:31:16.470 | <span style=\"color: #008080; text-decoration-color: #008080\">INFO</span>    | Flow run<span style=\"color: #800080; text-decoration-color: #800080\"> 'khaki-bat'</span> - Executing 'process_file-112' immediately...\n",
       "</pre>\n"
      ],
      "text/plain": [
       "22:31:16.470 | \u001b[36mINFO\u001b[0m    | Flow run\u001b[35m 'khaki-bat'\u001b[0m - Executing 'process_file-112' immediately...\n"
      ]
     },
     "metadata": {},
     "output_type": "display_data"
    },
    {
     "data": {
      "text/html": [
       "<pre style=\"white-space:pre;overflow-x:auto;line-height:normal;font-family:Menlo,'DejaVu Sans Mono',consolas,'Courier New',monospace\">22:31:16.693 | <span style=\"color: #008080; text-decoration-color: #008080\">INFO</span>    | Task run 'process_file-112' - Finished in state <span style=\"color: #008000; text-decoration-color: #008000\">Completed</span>()\n",
       "</pre>\n"
      ],
      "text/plain": [
       "22:31:16.693 | \u001b[36mINFO\u001b[0m    | Task run 'process_file-112' - Finished in state \u001b[32mCompleted\u001b[0m()\n"
      ]
     },
     "metadata": {},
     "output_type": "display_data"
    },
    {
     "data": {
      "text/html": [
       "<pre style=\"white-space:pre;overflow-x:auto;line-height:normal;font-family:Menlo,'DejaVu Sans Mono',consolas,'Courier New',monospace\">22:31:16.762 | <span style=\"color: #008080; text-decoration-color: #008080\">INFO</span>    | Flow run<span style=\"color: #800080; text-decoration-color: #800080\"> 'khaki-bat'</span> - Created task run 'write_gcs-112' for task 'write_gcs'\n",
       "</pre>\n"
      ],
      "text/plain": [
       "22:31:16.762 | \u001b[36mINFO\u001b[0m    | Flow run\u001b[35m 'khaki-bat'\u001b[0m - Created task run 'write_gcs-112' for task 'write_gcs'\n"
      ]
     },
     "metadata": {},
     "output_type": "display_data"
    },
    {
     "data": {
      "text/html": [
       "<pre style=\"white-space:pre;overflow-x:auto;line-height:normal;font-family:Menlo,'DejaVu Sans Mono',consolas,'Courier New',monospace\">22:31:16.765 | <span style=\"color: #008080; text-decoration-color: #008080\">INFO</span>    | Flow run<span style=\"color: #800080; text-decoration-color: #800080\"> 'khaki-bat'</span> - Executing 'write_gcs-112' immediately...\n",
       "</pre>\n"
      ],
      "text/plain": [
       "22:31:16.765 | \u001b[36mINFO\u001b[0m    | Flow run\u001b[35m 'khaki-bat'\u001b[0m - Executing 'write_gcs-112' immediately...\n"
      ]
     },
     "metadata": {},
     "output_type": "display_data"
    },
    {
     "name": "stdout",
     "output_type": "stream",
     "text": [
      "Csv file size is 1498805\n"
     ]
    },
    {
     "data": {
      "text/html": [
       "<pre style=\"white-space:pre;overflow-x:auto;line-height:normal;font-family:Menlo,'DejaVu Sans Mono',consolas,'Courier New',monospace\">22:31:18.369 | <span style=\"color: #008080; text-decoration-color: #008080\">INFO</span>    | Task run 'write_gcs-112' - Finished in state <span style=\"color: #008000; text-decoration-color: #008000\">Completed</span>()\n",
       "</pre>\n"
      ],
      "text/plain": [
       "22:31:18.369 | \u001b[36mINFO\u001b[0m    | Task run 'write_gcs-112' - Finished in state \u001b[32mCompleted\u001b[0m()\n"
      ]
     },
     "metadata": {},
     "output_type": "display_data"
    },
    {
     "name": "stdout",
     "output_type": "stream",
     "text": [
      "size_19872.csv\n"
     ]
    },
    {
     "data": {
      "text/html": [
       "<pre style=\"white-space:pre;overflow-x:auto;line-height:normal;font-family:Menlo,'DejaVu Sans Mono',consolas,'Courier New',monospace\">22:31:18.452 | <span style=\"color: #008080; text-decoration-color: #008080\">INFO</span>    | Flow run<span style=\"color: #800080; text-decoration-color: #800080\"> 'khaki-bat'</span> - Created task run 'process_file-113' for task 'process_file'\n",
       "</pre>\n"
      ],
      "text/plain": [
       "22:31:18.452 | \u001b[36mINFO\u001b[0m    | Flow run\u001b[35m 'khaki-bat'\u001b[0m - Created task run 'process_file-113' for task 'process_file'\n"
      ]
     },
     "metadata": {},
     "output_type": "display_data"
    },
    {
     "data": {
      "text/html": [
       "<pre style=\"white-space:pre;overflow-x:auto;line-height:normal;font-family:Menlo,'DejaVu Sans Mono',consolas,'Courier New',monospace\">22:31:18.459 | <span style=\"color: #008080; text-decoration-color: #008080\">INFO</span>    | Flow run<span style=\"color: #800080; text-decoration-color: #800080\"> 'khaki-bat'</span> - Executing 'process_file-113' immediately...\n",
       "</pre>\n"
      ],
      "text/plain": [
       "22:31:18.459 | \u001b[36mINFO\u001b[0m    | Flow run\u001b[35m 'khaki-bat'\u001b[0m - Executing 'process_file-113' immediately...\n"
      ]
     },
     "metadata": {},
     "output_type": "display_data"
    },
    {
     "data": {
      "text/html": [
       "<pre style=\"white-space:pre;overflow-x:auto;line-height:normal;font-family:Menlo,'DejaVu Sans Mono',consolas,'Courier New',monospace\">22:31:18.720 | <span style=\"color: #008080; text-decoration-color: #008080\">INFO</span>    | Task run 'process_file-113' - Finished in state <span style=\"color: #008000; text-decoration-color: #008000\">Completed</span>()\n",
       "</pre>\n"
      ],
      "text/plain": [
       "22:31:18.720 | \u001b[36mINFO\u001b[0m    | Task run 'process_file-113' - Finished in state \u001b[32mCompleted\u001b[0m()\n"
      ]
     },
     "metadata": {},
     "output_type": "display_data"
    },
    {
     "data": {
      "text/html": [
       "<pre style=\"white-space:pre;overflow-x:auto;line-height:normal;font-family:Menlo,'DejaVu Sans Mono',consolas,'Courier New',monospace\">22:31:18.807 | <span style=\"color: #008080; text-decoration-color: #008080\">INFO</span>    | Flow run<span style=\"color: #800080; text-decoration-color: #800080\"> 'khaki-bat'</span> - Created task run 'write_gcs-113' for task 'write_gcs'\n",
       "</pre>\n"
      ],
      "text/plain": [
       "22:31:18.807 | \u001b[36mINFO\u001b[0m    | Flow run\u001b[35m 'khaki-bat'\u001b[0m - Created task run 'write_gcs-113' for task 'write_gcs'\n"
      ]
     },
     "metadata": {},
     "output_type": "display_data"
    },
    {
     "data": {
      "text/html": [
       "<pre style=\"white-space:pre;overflow-x:auto;line-height:normal;font-family:Menlo,'DejaVu Sans Mono',consolas,'Courier New',monospace\">22:31:18.812 | <span style=\"color: #008080; text-decoration-color: #008080\">INFO</span>    | Flow run<span style=\"color: #800080; text-decoration-color: #800080\"> 'khaki-bat'</span> - Executing 'write_gcs-113' immediately...\n",
       "</pre>\n"
      ],
      "text/plain": [
       "22:31:18.812 | \u001b[36mINFO\u001b[0m    | Flow run\u001b[35m 'khaki-bat'\u001b[0m - Executing 'write_gcs-113' immediately...\n"
      ]
     },
     "metadata": {},
     "output_type": "display_data"
    },
    {
     "name": "stdout",
     "output_type": "stream",
     "text": [
      "Csv file size is 1884727\n"
     ]
    },
    {
     "data": {
      "text/html": [
       "<pre style=\"white-space:pre;overflow-x:auto;line-height:normal;font-family:Menlo,'DejaVu Sans Mono',consolas,'Courier New',monospace\">22:31:20.766 | <span style=\"color: #008080; text-decoration-color: #008080\">INFO</span>    | Task run 'write_gcs-113' - Finished in state <span style=\"color: #008000; text-decoration-color: #008000\">Completed</span>()\n",
       "</pre>\n"
      ],
      "text/plain": [
       "22:31:20.766 | \u001b[36mINFO\u001b[0m    | Task run 'write_gcs-113' - Finished in state \u001b[32mCompleted\u001b[0m()\n"
      ]
     },
     "metadata": {},
     "output_type": "display_data"
    },
    {
     "name": "stdout",
     "output_type": "stream",
     "text": [
      "catch_19873.csv\n"
     ]
    },
    {
     "data": {
      "text/html": [
       "<pre style=\"white-space:pre;overflow-x:auto;line-height:normal;font-family:Menlo,'DejaVu Sans Mono',consolas,'Courier New',monospace\">22:31:20.870 | <span style=\"color: #008080; text-decoration-color: #008080\">INFO</span>    | Flow run<span style=\"color: #800080; text-decoration-color: #800080\"> 'khaki-bat'</span> - Created task run 'process_file-114' for task 'process_file'\n",
       "</pre>\n"
      ],
      "text/plain": [
       "22:31:20.870 | \u001b[36mINFO\u001b[0m    | Flow run\u001b[35m 'khaki-bat'\u001b[0m - Created task run 'process_file-114' for task 'process_file'\n"
      ]
     },
     "metadata": {},
     "output_type": "display_data"
    },
    {
     "data": {
      "text/html": [
       "<pre style=\"white-space:pre;overflow-x:auto;line-height:normal;font-family:Menlo,'DejaVu Sans Mono',consolas,'Courier New',monospace\">22:31:20.875 | <span style=\"color: #008080; text-decoration-color: #008080\">INFO</span>    | Flow run<span style=\"color: #800080; text-decoration-color: #800080\"> 'khaki-bat'</span> - Executing 'process_file-114' immediately...\n",
       "</pre>\n"
      ],
      "text/plain": [
       "22:31:20.875 | \u001b[36mINFO\u001b[0m    | Flow run\u001b[35m 'khaki-bat'\u001b[0m - Executing 'process_file-114' immediately...\n"
      ]
     },
     "metadata": {},
     "output_type": "display_data"
    },
    {
     "data": {
      "text/html": [
       "<pre style=\"white-space:pre;overflow-x:auto;line-height:normal;font-family:Menlo,'DejaVu Sans Mono',consolas,'Courier New',monospace\">22:31:21.217 | <span style=\"color: #008080; text-decoration-color: #008080\">INFO</span>    | Task run 'process_file-114' - Finished in state <span style=\"color: #008000; text-decoration-color: #008000\">Completed</span>()\n",
       "</pre>\n"
      ],
      "text/plain": [
       "22:31:21.217 | \u001b[36mINFO\u001b[0m    | Task run 'process_file-114' - Finished in state \u001b[32mCompleted\u001b[0m()\n"
      ]
     },
     "metadata": {},
     "output_type": "display_data"
    },
    {
     "data": {
      "text/html": [
       "<pre style=\"white-space:pre;overflow-x:auto;line-height:normal;font-family:Menlo,'DejaVu Sans Mono',consolas,'Courier New',monospace\">22:31:21.323 | <span style=\"color: #008080; text-decoration-color: #008080\">INFO</span>    | Flow run<span style=\"color: #800080; text-decoration-color: #800080\"> 'khaki-bat'</span> - Created task run 'write_gcs-114' for task 'write_gcs'\n",
       "</pre>\n"
      ],
      "text/plain": [
       "22:31:21.323 | \u001b[36mINFO\u001b[0m    | Flow run\u001b[35m 'khaki-bat'\u001b[0m - Created task run 'write_gcs-114' for task 'write_gcs'\n"
      ]
     },
     "metadata": {},
     "output_type": "display_data"
    },
    {
     "data": {
      "text/html": [
       "<pre style=\"white-space:pre;overflow-x:auto;line-height:normal;font-family:Menlo,'DejaVu Sans Mono',consolas,'Courier New',monospace\">22:31:21.327 | <span style=\"color: #008080; text-decoration-color: #008080\">INFO</span>    | Flow run<span style=\"color: #800080; text-decoration-color: #800080\"> 'khaki-bat'</span> - Executing 'write_gcs-114' immediately...\n",
       "</pre>\n"
      ],
      "text/plain": [
       "22:31:21.327 | \u001b[36mINFO\u001b[0m    | Flow run\u001b[35m 'khaki-bat'\u001b[0m - Executing 'write_gcs-114' immediately...\n"
      ]
     },
     "metadata": {},
     "output_type": "display_data"
    },
    {
     "name": "stdout",
     "output_type": "stream",
     "text": [
      "Csv file size is 2888607\n"
     ]
    },
    {
     "data": {
      "text/html": [
       "<pre style=\"white-space:pre;overflow-x:auto;line-height:normal;font-family:Menlo,'DejaVu Sans Mono',consolas,'Courier New',monospace\">22:31:24.847 | <span style=\"color: #008080; text-decoration-color: #008080\">INFO</span>    | Task run 'write_gcs-114' - Finished in state <span style=\"color: #008000; text-decoration-color: #008000\">Completed</span>()\n",
       "</pre>\n"
      ],
      "text/plain": [
       "22:31:24.847 | \u001b[36mINFO\u001b[0m    | Task run 'write_gcs-114' - Finished in state \u001b[32mCompleted\u001b[0m()\n"
      ]
     },
     "metadata": {},
     "output_type": "display_data"
    },
    {
     "name": "stdout",
     "output_type": "stream",
     "text": [
      "trip_19873.csv\n"
     ]
    },
    {
     "data": {
      "text/html": [
       "<pre style=\"white-space:pre;overflow-x:auto;line-height:normal;font-family:Menlo,'DejaVu Sans Mono',consolas,'Courier New',monospace\">22:31:25.090 | <span style=\"color: #008080; text-decoration-color: #008080\">INFO</span>    | Flow run<span style=\"color: #800080; text-decoration-color: #800080\"> 'khaki-bat'</span> - Created task run 'process_file-115' for task 'process_file'\n",
       "</pre>\n"
      ],
      "text/plain": [
       "22:31:25.090 | \u001b[36mINFO\u001b[0m    | Flow run\u001b[35m 'khaki-bat'\u001b[0m - Created task run 'process_file-115' for task 'process_file'\n"
      ]
     },
     "metadata": {},
     "output_type": "display_data"
    },
    {
     "data": {
      "text/html": [
       "<pre style=\"white-space:pre;overflow-x:auto;line-height:normal;font-family:Menlo,'DejaVu Sans Mono',consolas,'Courier New',monospace\">22:31:25.095 | <span style=\"color: #008080; text-decoration-color: #008080\">INFO</span>    | Flow run<span style=\"color: #800080; text-decoration-color: #800080\"> 'khaki-bat'</span> - Executing 'process_file-115' immediately...\n",
       "</pre>\n"
      ],
      "text/plain": [
       "22:31:25.095 | \u001b[36mINFO\u001b[0m    | Flow run\u001b[35m 'khaki-bat'\u001b[0m - Executing 'process_file-115' immediately...\n"
      ]
     },
     "metadata": {},
     "output_type": "display_data"
    },
    {
     "data": {
      "text/html": [
       "<pre style=\"white-space:pre;overflow-x:auto;line-height:normal;font-family:Menlo,'DejaVu Sans Mono',consolas,'Courier New',monospace\">22:31:25.663 | <span style=\"color: #008080; text-decoration-color: #008080\">INFO</span>    | Task run 'process_file-115' - Finished in state <span style=\"color: #008000; text-decoration-color: #008000\">Completed</span>()\n",
       "</pre>\n"
      ],
      "text/plain": [
       "22:31:25.663 | \u001b[36mINFO\u001b[0m    | Task run 'process_file-115' - Finished in state \u001b[32mCompleted\u001b[0m()\n"
      ]
     },
     "metadata": {},
     "output_type": "display_data"
    },
    {
     "data": {
      "text/html": [
       "<pre style=\"white-space:pre;overflow-x:auto;line-height:normal;font-family:Menlo,'DejaVu Sans Mono',consolas,'Courier New',monospace\">22:31:25.844 | <span style=\"color: #008080; text-decoration-color: #008080\">INFO</span>    | Flow run<span style=\"color: #800080; text-decoration-color: #800080\"> 'khaki-bat'</span> - Created task run 'write_gcs-115' for task 'write_gcs'\n",
       "</pre>\n"
      ],
      "text/plain": [
       "22:31:25.844 | \u001b[36mINFO\u001b[0m    | Flow run\u001b[35m 'khaki-bat'\u001b[0m - Created task run 'write_gcs-115' for task 'write_gcs'\n"
      ]
     },
     "metadata": {},
     "output_type": "display_data"
    },
    {
     "data": {
      "text/html": [
       "<pre style=\"white-space:pre;overflow-x:auto;line-height:normal;font-family:Menlo,'DejaVu Sans Mono',consolas,'Courier New',monospace\">22:31:25.851 | <span style=\"color: #008080; text-decoration-color: #008080\">INFO</span>    | Flow run<span style=\"color: #800080; text-decoration-color: #800080\"> 'khaki-bat'</span> - Executing 'write_gcs-115' immediately...\n",
       "</pre>\n"
      ],
      "text/plain": [
       "22:31:25.851 | \u001b[36mINFO\u001b[0m    | Flow run\u001b[35m 'khaki-bat'\u001b[0m - Executing 'write_gcs-115' immediately...\n"
      ]
     },
     "metadata": {},
     "output_type": "display_data"
    },
    {
     "name": "stdout",
     "output_type": "stream",
     "text": [
      "Csv file size is 2816914\n"
     ]
    },
    {
     "data": {
      "text/html": [
       "<pre style=\"white-space:pre;overflow-x:auto;line-height:normal;font-family:Menlo,'DejaVu Sans Mono',consolas,'Courier New',monospace\">22:31:30.479 | <span style=\"color: #008080; text-decoration-color: #008080\">INFO</span>    | Task run 'write_gcs-115' - Finished in state <span style=\"color: #008000; text-decoration-color: #008000\">Completed</span>()\n",
       "</pre>\n"
      ],
      "text/plain": [
       "22:31:30.479 | \u001b[36mINFO\u001b[0m    | Task run 'write_gcs-115' - Finished in state \u001b[32mCompleted\u001b[0m()\n"
      ]
     },
     "metadata": {},
     "output_type": "display_data"
    },
    {
     "name": "stdout",
     "output_type": "stream",
     "text": [
      "size_19873.csv\n"
     ]
    },
    {
     "data": {
      "text/html": [
       "<pre style=\"white-space:pre;overflow-x:auto;line-height:normal;font-family:Menlo,'DejaVu Sans Mono',consolas,'Courier New',monospace\">22:31:30.557 | <span style=\"color: #008080; text-decoration-color: #008080\">INFO</span>    | Flow run<span style=\"color: #800080; text-decoration-color: #800080\"> 'khaki-bat'</span> - Created task run 'process_file-116' for task 'process_file'\n",
       "</pre>\n"
      ],
      "text/plain": [
       "22:31:30.557 | \u001b[36mINFO\u001b[0m    | Flow run\u001b[35m 'khaki-bat'\u001b[0m - Created task run 'process_file-116' for task 'process_file'\n"
      ]
     },
     "metadata": {},
     "output_type": "display_data"
    },
    {
     "data": {
      "text/html": [
       "<pre style=\"white-space:pre;overflow-x:auto;line-height:normal;font-family:Menlo,'DejaVu Sans Mono',consolas,'Courier New',monospace\">22:31:30.561 | <span style=\"color: #008080; text-decoration-color: #008080\">INFO</span>    | Flow run<span style=\"color: #800080; text-decoration-color: #800080\"> 'khaki-bat'</span> - Executing 'process_file-116' immediately...\n",
       "</pre>\n"
      ],
      "text/plain": [
       "22:31:30.561 | \u001b[36mINFO\u001b[0m    | Flow run\u001b[35m 'khaki-bat'\u001b[0m - Executing 'process_file-116' immediately...\n"
      ]
     },
     "metadata": {},
     "output_type": "display_data"
    },
    {
     "data": {
      "text/html": [
       "<pre style=\"white-space:pre;overflow-x:auto;line-height:normal;font-family:Menlo,'DejaVu Sans Mono',consolas,'Courier New',monospace\">22:31:30.819 | <span style=\"color: #008080; text-decoration-color: #008080\">INFO</span>    | Task run 'process_file-116' - Finished in state <span style=\"color: #008000; text-decoration-color: #008000\">Completed</span>()\n",
       "</pre>\n"
      ],
      "text/plain": [
       "22:31:30.819 | \u001b[36mINFO\u001b[0m    | Task run 'process_file-116' - Finished in state \u001b[32mCompleted\u001b[0m()\n"
      ]
     },
     "metadata": {},
     "output_type": "display_data"
    },
    {
     "data": {
      "text/html": [
       "<pre style=\"white-space:pre;overflow-x:auto;line-height:normal;font-family:Menlo,'DejaVu Sans Mono',consolas,'Courier New',monospace\">22:31:30.919 | <span style=\"color: #008080; text-decoration-color: #008080\">INFO</span>    | Flow run<span style=\"color: #800080; text-decoration-color: #800080\"> 'khaki-bat'</span> - Created task run 'write_gcs-116' for task 'write_gcs'\n",
       "</pre>\n"
      ],
      "text/plain": [
       "22:31:30.919 | \u001b[36mINFO\u001b[0m    | Flow run\u001b[35m 'khaki-bat'\u001b[0m - Created task run 'write_gcs-116' for task 'write_gcs'\n"
      ]
     },
     "metadata": {},
     "output_type": "display_data"
    },
    {
     "data": {
      "text/html": [
       "<pre style=\"white-space:pre;overflow-x:auto;line-height:normal;font-family:Menlo,'DejaVu Sans Mono',consolas,'Courier New',monospace\">22:31:30.924 | <span style=\"color: #008080; text-decoration-color: #008080\">INFO</span>    | Flow run<span style=\"color: #800080; text-decoration-color: #800080\"> 'khaki-bat'</span> - Executing 'write_gcs-116' immediately...\n",
       "</pre>\n"
      ],
      "text/plain": [
       "22:31:30.924 | \u001b[36mINFO\u001b[0m    | Flow run\u001b[35m 'khaki-bat'\u001b[0m - Executing 'write_gcs-116' immediately...\n"
      ]
     },
     "metadata": {},
     "output_type": "display_data"
    },
    {
     "name": "stdout",
     "output_type": "stream",
     "text": [
      "Csv file size is 3946082\n"
     ]
    },
    {
     "data": {
      "text/html": [
       "<pre style=\"white-space:pre;overflow-x:auto;line-height:normal;font-family:Menlo,'DejaVu Sans Mono',consolas,'Courier New',monospace\">22:31:34.893 | <span style=\"color: #008080; text-decoration-color: #008080\">INFO</span>    | Task run 'write_gcs-116' - Finished in state <span style=\"color: #008000; text-decoration-color: #008000\">Completed</span>()\n",
       "</pre>\n"
      ],
      "text/plain": [
       "22:31:34.893 | \u001b[36mINFO\u001b[0m    | Task run 'write_gcs-116' - Finished in state \u001b[32mCompleted\u001b[0m()\n"
      ]
     },
     "metadata": {},
     "output_type": "display_data"
    },
    {
     "name": "stdout",
     "output_type": "stream",
     "text": [
      "catch_19874.csv\n"
     ]
    },
    {
     "data": {
      "text/html": [
       "<pre style=\"white-space:pre;overflow-x:auto;line-height:normal;font-family:Menlo,'DejaVu Sans Mono',consolas,'Courier New',monospace\">22:31:35.002 | <span style=\"color: #008080; text-decoration-color: #008080\">INFO</span>    | Flow run<span style=\"color: #800080; text-decoration-color: #800080\"> 'khaki-bat'</span> - Created task run 'process_file-117' for task 'process_file'\n",
       "</pre>\n"
      ],
      "text/plain": [
       "22:31:35.002 | \u001b[36mINFO\u001b[0m    | Flow run\u001b[35m 'khaki-bat'\u001b[0m - Created task run 'process_file-117' for task 'process_file'\n"
      ]
     },
     "metadata": {},
     "output_type": "display_data"
    },
    {
     "data": {
      "text/html": [
       "<pre style=\"white-space:pre;overflow-x:auto;line-height:normal;font-family:Menlo,'DejaVu Sans Mono',consolas,'Courier New',monospace\">22:31:35.008 | <span style=\"color: #008080; text-decoration-color: #008080\">INFO</span>    | Flow run<span style=\"color: #800080; text-decoration-color: #800080\"> 'khaki-bat'</span> - Executing 'process_file-117' immediately...\n",
       "</pre>\n"
      ],
      "text/plain": [
       "22:31:35.008 | \u001b[36mINFO\u001b[0m    | Flow run\u001b[35m 'khaki-bat'\u001b[0m - Executing 'process_file-117' immediately...\n"
      ]
     },
     "metadata": {},
     "output_type": "display_data"
    },
    {
     "data": {
      "text/html": [
       "<pre style=\"white-space:pre;overflow-x:auto;line-height:normal;font-family:Menlo,'DejaVu Sans Mono',consolas,'Courier New',monospace\">22:31:35.408 | <span style=\"color: #008080; text-decoration-color: #008080\">INFO</span>    | Task run 'process_file-117' - Finished in state <span style=\"color: #008000; text-decoration-color: #008000\">Completed</span>()\n",
       "</pre>\n"
      ],
      "text/plain": [
       "22:31:35.408 | \u001b[36mINFO\u001b[0m    | Task run 'process_file-117' - Finished in state \u001b[32mCompleted\u001b[0m()\n"
      ]
     },
     "metadata": {},
     "output_type": "display_data"
    },
    {
     "data": {
      "text/html": [
       "<pre style=\"white-space:pre;overflow-x:auto;line-height:normal;font-family:Menlo,'DejaVu Sans Mono',consolas,'Courier New',monospace\">22:31:35.848 | <span style=\"color: #008080; text-decoration-color: #008080\">INFO</span>    | Flow run<span style=\"color: #800080; text-decoration-color: #800080\"> 'khaki-bat'</span> - Created task run 'write_gcs-117' for task 'write_gcs'\n",
       "</pre>\n"
      ],
      "text/plain": [
       "22:31:35.848 | \u001b[36mINFO\u001b[0m    | Flow run\u001b[35m 'khaki-bat'\u001b[0m - Created task run 'write_gcs-117' for task 'write_gcs'\n"
      ]
     },
     "metadata": {},
     "output_type": "display_data"
    },
    {
     "data": {
      "text/html": [
       "<pre style=\"white-space:pre;overflow-x:auto;line-height:normal;font-family:Menlo,'DejaVu Sans Mono',consolas,'Courier New',monospace\">22:31:35.853 | <span style=\"color: #008080; text-decoration-color: #008080\">INFO</span>    | Flow run<span style=\"color: #800080; text-decoration-color: #800080\"> 'khaki-bat'</span> - Executing 'write_gcs-117' immediately...\n",
       "</pre>\n"
      ],
      "text/plain": [
       "22:31:35.853 | \u001b[36mINFO\u001b[0m    | Flow run\u001b[35m 'khaki-bat'\u001b[0m - Executing 'write_gcs-117' immediately...\n"
      ]
     },
     "metadata": {},
     "output_type": "display_data"
    },
    {
     "name": "stdout",
     "output_type": "stream",
     "text": [
      "Csv file size is 4214399\n"
     ]
    },
    {
     "data": {
      "text/html": [
       "<pre style=\"white-space:pre;overflow-x:auto;line-height:normal;font-family:Menlo,'DejaVu Sans Mono',consolas,'Courier New',monospace\">22:31:41.415 | <span style=\"color: #008080; text-decoration-color: #008080\">INFO</span>    | Task run 'write_gcs-117' - Finished in state <span style=\"color: #008000; text-decoration-color: #008000\">Completed</span>()\n",
       "</pre>\n"
      ],
      "text/plain": [
       "22:31:41.415 | \u001b[36mINFO\u001b[0m    | Task run 'write_gcs-117' - Finished in state \u001b[32mCompleted\u001b[0m()\n"
      ]
     },
     "metadata": {},
     "output_type": "display_data"
    },
    {
     "name": "stdout",
     "output_type": "stream",
     "text": [
      "trip_19874.csv\n"
     ]
    },
    {
     "data": {
      "text/html": [
       "<pre style=\"white-space:pre;overflow-x:auto;line-height:normal;font-family:Menlo,'DejaVu Sans Mono',consolas,'Courier New',monospace\">22:31:41.539 | <span style=\"color: #008080; text-decoration-color: #008080\">INFO</span>    | Flow run<span style=\"color: #800080; text-decoration-color: #800080\"> 'khaki-bat'</span> - Created task run 'process_file-118' for task 'process_file'\n",
       "</pre>\n"
      ],
      "text/plain": [
       "22:31:41.539 | \u001b[36mINFO\u001b[0m    | Flow run\u001b[35m 'khaki-bat'\u001b[0m - Created task run 'process_file-118' for task 'process_file'\n"
      ]
     },
     "metadata": {},
     "output_type": "display_data"
    },
    {
     "data": {
      "text/html": [
       "<pre style=\"white-space:pre;overflow-x:auto;line-height:normal;font-family:Menlo,'DejaVu Sans Mono',consolas,'Courier New',monospace\">22:31:41.545 | <span style=\"color: #008080; text-decoration-color: #008080\">INFO</span>    | Flow run<span style=\"color: #800080; text-decoration-color: #800080\"> 'khaki-bat'</span> - Executing 'process_file-118' immediately...\n",
       "</pre>\n"
      ],
      "text/plain": [
       "22:31:41.545 | \u001b[36mINFO\u001b[0m    | Flow run\u001b[35m 'khaki-bat'\u001b[0m - Executing 'process_file-118' immediately...\n"
      ]
     },
     "metadata": {},
     "output_type": "display_data"
    },
    {
     "data": {
      "text/html": [
       "<pre style=\"white-space:pre;overflow-x:auto;line-height:normal;font-family:Menlo,'DejaVu Sans Mono',consolas,'Courier New',monospace\">22:31:41.862 | <span style=\"color: #008080; text-decoration-color: #008080\">INFO</span>    | Task run 'process_file-118' - Finished in state <span style=\"color: #008000; text-decoration-color: #008000\">Completed</span>()\n",
       "</pre>\n"
      ],
      "text/plain": [
       "22:31:41.862 | \u001b[36mINFO\u001b[0m    | Task run 'process_file-118' - Finished in state \u001b[32mCompleted\u001b[0m()\n"
      ]
     },
     "metadata": {},
     "output_type": "display_data"
    },
    {
     "data": {
      "text/html": [
       "<pre style=\"white-space:pre;overflow-x:auto;line-height:normal;font-family:Menlo,'DejaVu Sans Mono',consolas,'Courier New',monospace\">22:31:41.952 | <span style=\"color: #008080; text-decoration-color: #008080\">INFO</span>    | Flow run<span style=\"color: #800080; text-decoration-color: #800080\"> 'khaki-bat'</span> - Created task run 'write_gcs-118' for task 'write_gcs'\n",
       "</pre>\n"
      ],
      "text/plain": [
       "22:31:41.952 | \u001b[36mINFO\u001b[0m    | Flow run\u001b[35m 'khaki-bat'\u001b[0m - Created task run 'write_gcs-118' for task 'write_gcs'\n"
      ]
     },
     "metadata": {},
     "output_type": "display_data"
    },
    {
     "data": {
      "text/html": [
       "<pre style=\"white-space:pre;overflow-x:auto;line-height:normal;font-family:Menlo,'DejaVu Sans Mono',consolas,'Courier New',monospace\">22:31:41.957 | <span style=\"color: #008080; text-decoration-color: #008080\">INFO</span>    | Flow run<span style=\"color: #800080; text-decoration-color: #800080\"> 'khaki-bat'</span> - Executing 'write_gcs-118' immediately...\n",
       "</pre>\n"
      ],
      "text/plain": [
       "22:31:41.957 | \u001b[36mINFO\u001b[0m    | Flow run\u001b[35m 'khaki-bat'\u001b[0m - Executing 'write_gcs-118' immediately...\n"
      ]
     },
     "metadata": {},
     "output_type": "display_data"
    },
    {
     "name": "stdout",
     "output_type": "stream",
     "text": [
      "Csv file size is 4000342\n"
     ]
    },
    {
     "data": {
      "text/html": [
       "<pre style=\"white-space:pre;overflow-x:auto;line-height:normal;font-family:Menlo,'DejaVu Sans Mono',consolas,'Courier New',monospace\">22:31:45.498 | <span style=\"color: #008080; text-decoration-color: #008080\">INFO</span>    | Task run 'write_gcs-118' - Finished in state <span style=\"color: #008000; text-decoration-color: #008000\">Completed</span>()\n",
       "</pre>\n"
      ],
      "text/plain": [
       "22:31:45.498 | \u001b[36mINFO\u001b[0m    | Task run 'write_gcs-118' - Finished in state \u001b[32mCompleted\u001b[0m()\n"
      ]
     },
     "metadata": {},
     "output_type": "display_data"
    },
    {
     "name": "stdout",
     "output_type": "stream",
     "text": [
      "size_19874.csv\n"
     ]
    },
    {
     "data": {
      "text/html": [
       "<pre style=\"white-space:pre;overflow-x:auto;line-height:normal;font-family:Menlo,'DejaVu Sans Mono',consolas,'Courier New',monospace\">22:31:45.651 | <span style=\"color: #008080; text-decoration-color: #008080\">INFO</span>    | Flow run<span style=\"color: #800080; text-decoration-color: #800080\"> 'khaki-bat'</span> - Created task run 'process_file-119' for task 'process_file'\n",
       "</pre>\n"
      ],
      "text/plain": [
       "22:31:45.651 | \u001b[36mINFO\u001b[0m    | Flow run\u001b[35m 'khaki-bat'\u001b[0m - Created task run 'process_file-119' for task 'process_file'\n"
      ]
     },
     "metadata": {},
     "output_type": "display_data"
    },
    {
     "data": {
      "text/html": [
       "<pre style=\"white-space:pre;overflow-x:auto;line-height:normal;font-family:Menlo,'DejaVu Sans Mono',consolas,'Courier New',monospace\">22:31:45.658 | <span style=\"color: #008080; text-decoration-color: #008080\">INFO</span>    | Flow run<span style=\"color: #800080; text-decoration-color: #800080\"> 'khaki-bat'</span> - Executing 'process_file-119' immediately...\n",
       "</pre>\n"
      ],
      "text/plain": [
       "22:31:45.658 | \u001b[36mINFO\u001b[0m    | Flow run\u001b[35m 'khaki-bat'\u001b[0m - Executing 'process_file-119' immediately...\n"
      ]
     },
     "metadata": {},
     "output_type": "display_data"
    },
    {
     "data": {
      "text/html": [
       "<pre style=\"white-space:pre;overflow-x:auto;line-height:normal;font-family:Menlo,'DejaVu Sans Mono',consolas,'Courier New',monospace\">22:31:45.892 | <span style=\"color: #008080; text-decoration-color: #008080\">INFO</span>    | Task run 'process_file-119' - Finished in state <span style=\"color: #008000; text-decoration-color: #008000\">Completed</span>()\n",
       "</pre>\n"
      ],
      "text/plain": [
       "22:31:45.892 | \u001b[36mINFO\u001b[0m    | Task run 'process_file-119' - Finished in state \u001b[32mCompleted\u001b[0m()\n"
      ]
     },
     "metadata": {},
     "output_type": "display_data"
    },
    {
     "data": {
      "text/html": [
       "<pre style=\"white-space:pre;overflow-x:auto;line-height:normal;font-family:Menlo,'DejaVu Sans Mono',consolas,'Courier New',monospace\">22:31:45.961 | <span style=\"color: #008080; text-decoration-color: #008080\">INFO</span>    | Flow run<span style=\"color: #800080; text-decoration-color: #800080\"> 'khaki-bat'</span> - Created task run 'write_gcs-119' for task 'write_gcs'\n",
       "</pre>\n"
      ],
      "text/plain": [
       "22:31:45.961 | \u001b[36mINFO\u001b[0m    | Flow run\u001b[35m 'khaki-bat'\u001b[0m - Created task run 'write_gcs-119' for task 'write_gcs'\n"
      ]
     },
     "metadata": {},
     "output_type": "display_data"
    },
    {
     "data": {
      "text/html": [
       "<pre style=\"white-space:pre;overflow-x:auto;line-height:normal;font-family:Menlo,'DejaVu Sans Mono',consolas,'Courier New',monospace\">22:31:45.964 | <span style=\"color: #008080; text-decoration-color: #008080\">INFO</span>    | Flow run<span style=\"color: #800080; text-decoration-color: #800080\"> 'khaki-bat'</span> - Executing 'write_gcs-119' immediately...\n",
       "</pre>\n"
      ],
      "text/plain": [
       "22:31:45.964 | \u001b[36mINFO\u001b[0m    | Flow run\u001b[35m 'khaki-bat'\u001b[0m - Executing 'write_gcs-119' immediately...\n"
      ]
     },
     "metadata": {},
     "output_type": "display_data"
    },
    {
     "name": "stdout",
     "output_type": "stream",
     "text": [
      "Csv file size is 5424936\n"
     ]
    },
    {
     "data": {
      "text/html": [
       "<pre style=\"white-space:pre;overflow-x:auto;line-height:normal;font-family:Menlo,'DejaVu Sans Mono',consolas,'Courier New',monospace\">22:31:50.273 | <span style=\"color: #008080; text-decoration-color: #008080\">INFO</span>    | Task run 'write_gcs-119' - Finished in state <span style=\"color: #008000; text-decoration-color: #008000\">Completed</span>()\n",
       "</pre>\n"
      ],
      "text/plain": [
       "22:31:50.273 | \u001b[36mINFO\u001b[0m    | Task run 'write_gcs-119' - Finished in state \u001b[32mCompleted\u001b[0m()\n"
      ]
     },
     "metadata": {},
     "output_type": "display_data"
    },
    {
     "name": "stdout",
     "output_type": "stream",
     "text": [
      "catch_19875.csv\n"
     ]
    },
    {
     "data": {
      "text/html": [
       "<pre style=\"white-space:pre;overflow-x:auto;line-height:normal;font-family:Menlo,'DejaVu Sans Mono',consolas,'Courier New',monospace\">22:31:50.352 | <span style=\"color: #008080; text-decoration-color: #008080\">INFO</span>    | Flow run<span style=\"color: #800080; text-decoration-color: #800080\"> 'khaki-bat'</span> - Created task run 'process_file-120' for task 'process_file'\n",
       "</pre>\n"
      ],
      "text/plain": [
       "22:31:50.352 | \u001b[36mINFO\u001b[0m    | Flow run\u001b[35m 'khaki-bat'\u001b[0m - Created task run 'process_file-120' for task 'process_file'\n"
      ]
     },
     "metadata": {},
     "output_type": "display_data"
    },
    {
     "data": {
      "text/html": [
       "<pre style=\"white-space:pre;overflow-x:auto;line-height:normal;font-family:Menlo,'DejaVu Sans Mono',consolas,'Courier New',monospace\">22:31:50.354 | <span style=\"color: #008080; text-decoration-color: #008080\">INFO</span>    | Flow run<span style=\"color: #800080; text-decoration-color: #800080\"> 'khaki-bat'</span> - Executing 'process_file-120' immediately...\n",
       "</pre>\n"
      ],
      "text/plain": [
       "22:31:50.354 | \u001b[36mINFO\u001b[0m    | Flow run\u001b[35m 'khaki-bat'\u001b[0m - Executing 'process_file-120' immediately...\n"
      ]
     },
     "metadata": {},
     "output_type": "display_data"
    },
    {
     "data": {
      "text/html": [
       "<pre style=\"white-space:pre;overflow-x:auto;line-height:normal;font-family:Menlo,'DejaVu Sans Mono',consolas,'Courier New',monospace\">22:31:50.566 | <span style=\"color: #008080; text-decoration-color: #008080\">INFO</span>    | Task run 'process_file-120' - Finished in state <span style=\"color: #008000; text-decoration-color: #008000\">Completed</span>()\n",
       "</pre>\n"
      ],
      "text/plain": [
       "22:31:50.566 | \u001b[36mINFO\u001b[0m    | Task run 'process_file-120' - Finished in state \u001b[32mCompleted\u001b[0m()\n"
      ]
     },
     "metadata": {},
     "output_type": "display_data"
    },
    {
     "data": {
      "text/html": [
       "<pre style=\"white-space:pre;overflow-x:auto;line-height:normal;font-family:Menlo,'DejaVu Sans Mono',consolas,'Courier New',monospace\">22:31:50.633 | <span style=\"color: #008080; text-decoration-color: #008080\">INFO</span>    | Flow run<span style=\"color: #800080; text-decoration-color: #800080\"> 'khaki-bat'</span> - Created task run 'write_gcs-120' for task 'write_gcs'\n",
       "</pre>\n"
      ],
      "text/plain": [
       "22:31:50.633 | \u001b[36mINFO\u001b[0m    | Flow run\u001b[35m 'khaki-bat'\u001b[0m - Created task run 'write_gcs-120' for task 'write_gcs'\n"
      ]
     },
     "metadata": {},
     "output_type": "display_data"
    },
    {
     "data": {
      "text/html": [
       "<pre style=\"white-space:pre;overflow-x:auto;line-height:normal;font-family:Menlo,'DejaVu Sans Mono',consolas,'Courier New',monospace\">22:31:50.636 | <span style=\"color: #008080; text-decoration-color: #008080\">INFO</span>    | Flow run<span style=\"color: #800080; text-decoration-color: #800080\"> 'khaki-bat'</span> - Executing 'write_gcs-120' immediately...\n",
       "</pre>\n"
      ],
      "text/plain": [
       "22:31:50.636 | \u001b[36mINFO\u001b[0m    | Flow run\u001b[35m 'khaki-bat'\u001b[0m - Executing 'write_gcs-120' immediately...\n"
      ]
     },
     "metadata": {},
     "output_type": "display_data"
    },
    {
     "name": "stdout",
     "output_type": "stream",
     "text": [
      "Csv file size is 3261515\n"
     ]
    },
    {
     "data": {
      "text/html": [
       "<pre style=\"white-space:pre;overflow-x:auto;line-height:normal;font-family:Menlo,'DejaVu Sans Mono',consolas,'Courier New',monospace\">22:31:53.457 | <span style=\"color: #008080; text-decoration-color: #008080\">INFO</span>    | Task run 'write_gcs-120' - Finished in state <span style=\"color: #008000; text-decoration-color: #008000\">Completed</span>()\n",
       "</pre>\n"
      ],
      "text/plain": [
       "22:31:53.457 | \u001b[36mINFO\u001b[0m    | Task run 'write_gcs-120' - Finished in state \u001b[32mCompleted\u001b[0m()\n"
      ]
     },
     "metadata": {},
     "output_type": "display_data"
    },
    {
     "name": "stdout",
     "output_type": "stream",
     "text": [
      "trip_19875.csv\n"
     ]
    },
    {
     "data": {
      "text/html": [
       "<pre style=\"white-space:pre;overflow-x:auto;line-height:normal;font-family:Menlo,'DejaVu Sans Mono',consolas,'Courier New',monospace\">22:31:53.535 | <span style=\"color: #008080; text-decoration-color: #008080\">INFO</span>    | Flow run<span style=\"color: #800080; text-decoration-color: #800080\"> 'khaki-bat'</span> - Created task run 'process_file-121' for task 'process_file'\n",
       "</pre>\n"
      ],
      "text/plain": [
       "22:31:53.535 | \u001b[36mINFO\u001b[0m    | Flow run\u001b[35m 'khaki-bat'\u001b[0m - Created task run 'process_file-121' for task 'process_file'\n"
      ]
     },
     "metadata": {},
     "output_type": "display_data"
    },
    {
     "data": {
      "text/html": [
       "<pre style=\"white-space:pre;overflow-x:auto;line-height:normal;font-family:Menlo,'DejaVu Sans Mono',consolas,'Courier New',monospace\">22:31:53.540 | <span style=\"color: #008080; text-decoration-color: #008080\">INFO</span>    | Flow run<span style=\"color: #800080; text-decoration-color: #800080\"> 'khaki-bat'</span> - Executing 'process_file-121' immediately...\n",
       "</pre>\n"
      ],
      "text/plain": [
       "22:31:53.540 | \u001b[36mINFO\u001b[0m    | Flow run\u001b[35m 'khaki-bat'\u001b[0m - Executing 'process_file-121' immediately...\n"
      ]
     },
     "metadata": {},
     "output_type": "display_data"
    },
    {
     "data": {
      "text/html": [
       "<pre style=\"white-space:pre;overflow-x:auto;line-height:normal;font-family:Menlo,'DejaVu Sans Mono',consolas,'Courier New',monospace\">22:31:53.750 | <span style=\"color: #008080; text-decoration-color: #008080\">INFO</span>    | Task run 'process_file-121' - Finished in state <span style=\"color: #008000; text-decoration-color: #008000\">Completed</span>()\n",
       "</pre>\n"
      ],
      "text/plain": [
       "22:31:53.750 | \u001b[36mINFO\u001b[0m    | Task run 'process_file-121' - Finished in state \u001b[32mCompleted\u001b[0m()\n"
      ]
     },
     "metadata": {},
     "output_type": "display_data"
    },
    {
     "data": {
      "text/html": [
       "<pre style=\"white-space:pre;overflow-x:auto;line-height:normal;font-family:Menlo,'DejaVu Sans Mono',consolas,'Courier New',monospace\">22:31:53.899 | <span style=\"color: #008080; text-decoration-color: #008080\">INFO</span>    | Flow run<span style=\"color: #800080; text-decoration-color: #800080\"> 'khaki-bat'</span> - Created task run 'write_gcs-121' for task 'write_gcs'\n",
       "</pre>\n"
      ],
      "text/plain": [
       "22:31:53.899 | \u001b[36mINFO\u001b[0m    | Flow run\u001b[35m 'khaki-bat'\u001b[0m - Created task run 'write_gcs-121' for task 'write_gcs'\n"
      ]
     },
     "metadata": {},
     "output_type": "display_data"
    },
    {
     "data": {
      "text/html": [
       "<pre style=\"white-space:pre;overflow-x:auto;line-height:normal;font-family:Menlo,'DejaVu Sans Mono',consolas,'Courier New',monospace\">22:31:53.903 | <span style=\"color: #008080; text-decoration-color: #008080\">INFO</span>    | Flow run<span style=\"color: #800080; text-decoration-color: #800080\"> 'khaki-bat'</span> - Executing 'write_gcs-121' immediately...\n",
       "</pre>\n"
      ],
      "text/plain": [
       "22:31:53.903 | \u001b[36mINFO\u001b[0m    | Flow run\u001b[35m 'khaki-bat'\u001b[0m - Executing 'write_gcs-121' immediately...\n"
      ]
     },
     "metadata": {},
     "output_type": "display_data"
    },
    {
     "name": "stdout",
     "output_type": "stream",
     "text": [
      "Csv file size is 2959222\n"
     ]
    },
    {
     "data": {
      "text/html": [
       "<pre style=\"white-space:pre;overflow-x:auto;line-height:normal;font-family:Menlo,'DejaVu Sans Mono',consolas,'Courier New',monospace\">22:31:56.872 | <span style=\"color: #008080; text-decoration-color: #008080\">INFO</span>    | Task run 'write_gcs-121' - Finished in state <span style=\"color: #008000; text-decoration-color: #008000\">Completed</span>()\n",
       "</pre>\n"
      ],
      "text/plain": [
       "22:31:56.872 | \u001b[36mINFO\u001b[0m    | Task run 'write_gcs-121' - Finished in state \u001b[32mCompleted\u001b[0m()\n"
      ]
     },
     "metadata": {},
     "output_type": "display_data"
    },
    {
     "name": "stdout",
     "output_type": "stream",
     "text": [
      "size_19875.csv\n"
     ]
    },
    {
     "data": {
      "text/html": [
       "<pre style=\"white-space:pre;overflow-x:auto;line-height:normal;font-family:Menlo,'DejaVu Sans Mono',consolas,'Courier New',monospace\">22:31:56.943 | <span style=\"color: #008080; text-decoration-color: #008080\">INFO</span>    | Flow run<span style=\"color: #800080; text-decoration-color: #800080\"> 'khaki-bat'</span> - Created task run 'process_file-122' for task 'process_file'\n",
       "</pre>\n"
      ],
      "text/plain": [
       "22:31:56.943 | \u001b[36mINFO\u001b[0m    | Flow run\u001b[35m 'khaki-bat'\u001b[0m - Created task run 'process_file-122' for task 'process_file'\n"
      ]
     },
     "metadata": {},
     "output_type": "display_data"
    },
    {
     "data": {
      "text/html": [
       "<pre style=\"white-space:pre;overflow-x:auto;line-height:normal;font-family:Menlo,'DejaVu Sans Mono',consolas,'Courier New',monospace\">22:31:56.946 | <span style=\"color: #008080; text-decoration-color: #008080\">INFO</span>    | Flow run<span style=\"color: #800080; text-decoration-color: #800080\"> 'khaki-bat'</span> - Executing 'process_file-122' immediately...\n",
       "</pre>\n"
      ],
      "text/plain": [
       "22:31:56.946 | \u001b[36mINFO\u001b[0m    | Flow run\u001b[35m 'khaki-bat'\u001b[0m - Executing 'process_file-122' immediately...\n"
      ]
     },
     "metadata": {},
     "output_type": "display_data"
    },
    {
     "data": {
      "text/html": [
       "<pre style=\"white-space:pre;overflow-x:auto;line-height:normal;font-family:Menlo,'DejaVu Sans Mono',consolas,'Courier New',monospace\">22:31:57.140 | <span style=\"color: #008080; text-decoration-color: #008080\">INFO</span>    | Task run 'process_file-122' - Finished in state <span style=\"color: #008000; text-decoration-color: #008000\">Completed</span>()\n",
       "</pre>\n"
      ],
      "text/plain": [
       "22:31:57.140 | \u001b[36mINFO\u001b[0m    | Task run 'process_file-122' - Finished in state \u001b[32mCompleted\u001b[0m()\n"
      ]
     },
     "metadata": {},
     "output_type": "display_data"
    },
    {
     "data": {
      "text/html": [
       "<pre style=\"white-space:pre;overflow-x:auto;line-height:normal;font-family:Menlo,'DejaVu Sans Mono',consolas,'Courier New',monospace\">22:31:57.211 | <span style=\"color: #008080; text-decoration-color: #008080\">INFO</span>    | Flow run<span style=\"color: #800080; text-decoration-color: #800080\"> 'khaki-bat'</span> - Created task run 'write_gcs-122' for task 'write_gcs'\n",
       "</pre>\n"
      ],
      "text/plain": [
       "22:31:57.211 | \u001b[36mINFO\u001b[0m    | Flow run\u001b[35m 'khaki-bat'\u001b[0m - Created task run 'write_gcs-122' for task 'write_gcs'\n"
      ]
     },
     "metadata": {},
     "output_type": "display_data"
    },
    {
     "data": {
      "text/html": [
       "<pre style=\"white-space:pre;overflow-x:auto;line-height:normal;font-family:Menlo,'DejaVu Sans Mono',consolas,'Courier New',monospace\">22:31:57.214 | <span style=\"color: #008080; text-decoration-color: #008080\">INFO</span>    | Flow run<span style=\"color: #800080; text-decoration-color: #800080\"> 'khaki-bat'</span> - Executing 'write_gcs-122' immediately...\n",
       "</pre>\n"
      ],
      "text/plain": [
       "22:31:57.214 | \u001b[36mINFO\u001b[0m    | Flow run\u001b[35m 'khaki-bat'\u001b[0m - Executing 'write_gcs-122' immediately...\n"
      ]
     },
     "metadata": {},
     "output_type": "display_data"
    },
    {
     "name": "stdout",
     "output_type": "stream",
     "text": [
      "Csv file size is 4754343\n"
     ]
    },
    {
     "data": {
      "text/html": [
       "<pre style=\"white-space:pre;overflow-x:auto;line-height:normal;font-family:Menlo,'DejaVu Sans Mono',consolas,'Courier New',monospace\">22:32:01.011 | <span style=\"color: #008080; text-decoration-color: #008080\">INFO</span>    | Task run 'write_gcs-122' - Finished in state <span style=\"color: #008000; text-decoration-color: #008000\">Completed</span>()\n",
       "</pre>\n"
      ],
      "text/plain": [
       "22:32:01.011 | \u001b[36mINFO\u001b[0m    | Task run 'write_gcs-122' - Finished in state \u001b[32mCompleted\u001b[0m()\n"
      ]
     },
     "metadata": {},
     "output_type": "display_data"
    },
    {
     "name": "stdout",
     "output_type": "stream",
     "text": [
      "catch_19876.csv\n"
     ]
    },
    {
     "data": {
      "text/html": [
       "<pre style=\"white-space:pre;overflow-x:auto;line-height:normal;font-family:Menlo,'DejaVu Sans Mono',consolas,'Courier New',monospace\">22:32:01.097 | <span style=\"color: #008080; text-decoration-color: #008080\">INFO</span>    | Flow run<span style=\"color: #800080; text-decoration-color: #800080\"> 'khaki-bat'</span> - Created task run 'process_file-123' for task 'process_file'\n",
       "</pre>\n"
      ],
      "text/plain": [
       "22:32:01.097 | \u001b[36mINFO\u001b[0m    | Flow run\u001b[35m 'khaki-bat'\u001b[0m - Created task run 'process_file-123' for task 'process_file'\n"
      ]
     },
     "metadata": {},
     "output_type": "display_data"
    },
    {
     "data": {
      "text/html": [
       "<pre style=\"white-space:pre;overflow-x:auto;line-height:normal;font-family:Menlo,'DejaVu Sans Mono',consolas,'Courier New',monospace\">22:32:01.104 | <span style=\"color: #008080; text-decoration-color: #008080\">INFO</span>    | Flow run<span style=\"color: #800080; text-decoration-color: #800080\"> 'khaki-bat'</span> - Executing 'process_file-123' immediately...\n",
       "</pre>\n"
      ],
      "text/plain": [
       "22:32:01.104 | \u001b[36mINFO\u001b[0m    | Flow run\u001b[35m 'khaki-bat'\u001b[0m - Executing 'process_file-123' immediately...\n"
      ]
     },
     "metadata": {},
     "output_type": "display_data"
    },
    {
     "data": {
      "text/html": [
       "<pre style=\"white-space:pre;overflow-x:auto;line-height:normal;font-family:Menlo,'DejaVu Sans Mono',consolas,'Courier New',monospace\">22:32:01.301 | <span style=\"color: #008080; text-decoration-color: #008080\">INFO</span>    | Task run 'process_file-123' - Finished in state <span style=\"color: #008000; text-decoration-color: #008000\">Completed</span>()\n",
       "</pre>\n"
      ],
      "text/plain": [
       "22:32:01.301 | \u001b[36mINFO\u001b[0m    | Task run 'process_file-123' - Finished in state \u001b[32mCompleted\u001b[0m()\n"
      ]
     },
     "metadata": {},
     "output_type": "display_data"
    },
    {
     "data": {
      "text/html": [
       "<pre style=\"white-space:pre;overflow-x:auto;line-height:normal;font-family:Menlo,'DejaVu Sans Mono',consolas,'Courier New',monospace\">22:32:01.374 | <span style=\"color: #008080; text-decoration-color: #008080\">INFO</span>    | Flow run<span style=\"color: #800080; text-decoration-color: #800080\"> 'khaki-bat'</span> - Created task run 'write_gcs-123' for task 'write_gcs'\n",
       "</pre>\n"
      ],
      "text/plain": [
       "22:32:01.374 | \u001b[36mINFO\u001b[0m    | Flow run\u001b[35m 'khaki-bat'\u001b[0m - Created task run 'write_gcs-123' for task 'write_gcs'\n"
      ]
     },
     "metadata": {},
     "output_type": "display_data"
    },
    {
     "data": {
      "text/html": [
       "<pre style=\"white-space:pre;overflow-x:auto;line-height:normal;font-family:Menlo,'DejaVu Sans Mono',consolas,'Courier New',monospace\">22:32:01.378 | <span style=\"color: #008080; text-decoration-color: #008080\">INFO</span>    | Flow run<span style=\"color: #800080; text-decoration-color: #800080\"> 'khaki-bat'</span> - Executing 'write_gcs-123' immediately...\n",
       "</pre>\n"
      ],
      "text/plain": [
       "22:32:01.378 | \u001b[36mINFO\u001b[0m    | Flow run\u001b[35m 'khaki-bat'\u001b[0m - Executing 'write_gcs-123' immediately...\n"
      ]
     },
     "metadata": {},
     "output_type": "display_data"
    },
    {
     "name": "stdout",
     "output_type": "stream",
     "text": [
      "Csv file size is 1325334\n"
     ]
    },
    {
     "data": {
      "text/html": [
       "<pre style=\"white-space:pre;overflow-x:auto;line-height:normal;font-family:Menlo,'DejaVu Sans Mono',consolas,'Courier New',monospace\">22:32:03.080 | <span style=\"color: #008080; text-decoration-color: #008080\">INFO</span>    | Task run 'write_gcs-123' - Finished in state <span style=\"color: #008000; text-decoration-color: #008000\">Completed</span>()\n",
       "</pre>\n"
      ],
      "text/plain": [
       "22:32:03.080 | \u001b[36mINFO\u001b[0m    | Task run 'write_gcs-123' - Finished in state \u001b[32mCompleted\u001b[0m()\n"
      ]
     },
     "metadata": {},
     "output_type": "display_data"
    },
    {
     "name": "stdout",
     "output_type": "stream",
     "text": [
      "trip_19876.csv\n"
     ]
    },
    {
     "data": {
      "text/html": [
       "<pre style=\"white-space:pre;overflow-x:auto;line-height:normal;font-family:Menlo,'DejaVu Sans Mono',consolas,'Courier New',monospace\">22:32:03.153 | <span style=\"color: #008080; text-decoration-color: #008080\">INFO</span>    | Flow run<span style=\"color: #800080; text-decoration-color: #800080\"> 'khaki-bat'</span> - Created task run 'process_file-124' for task 'process_file'\n",
       "</pre>\n"
      ],
      "text/plain": [
       "22:32:03.153 | \u001b[36mINFO\u001b[0m    | Flow run\u001b[35m 'khaki-bat'\u001b[0m - Created task run 'process_file-124' for task 'process_file'\n"
      ]
     },
     "metadata": {},
     "output_type": "display_data"
    },
    {
     "data": {
      "text/html": [
       "<pre style=\"white-space:pre;overflow-x:auto;line-height:normal;font-family:Menlo,'DejaVu Sans Mono',consolas,'Courier New',monospace\">22:32:03.157 | <span style=\"color: #008080; text-decoration-color: #008080\">INFO</span>    | Flow run<span style=\"color: #800080; text-decoration-color: #800080\"> 'khaki-bat'</span> - Executing 'process_file-124' immediately...\n",
       "</pre>\n"
      ],
      "text/plain": [
       "22:32:03.157 | \u001b[36mINFO\u001b[0m    | Flow run\u001b[35m 'khaki-bat'\u001b[0m - Executing 'process_file-124' immediately...\n"
      ]
     },
     "metadata": {},
     "output_type": "display_data"
    },
    {
     "data": {
      "text/html": [
       "<pre style=\"white-space:pre;overflow-x:auto;line-height:normal;font-family:Menlo,'DejaVu Sans Mono',consolas,'Courier New',monospace\">22:32:03.353 | <span style=\"color: #008080; text-decoration-color: #008080\">INFO</span>    | Task run 'process_file-124' - Finished in state <span style=\"color: #008000; text-decoration-color: #008000\">Completed</span>()\n",
       "</pre>\n"
      ],
      "text/plain": [
       "22:32:03.353 | \u001b[36mINFO\u001b[0m    | Task run 'process_file-124' - Finished in state \u001b[32mCompleted\u001b[0m()\n"
      ]
     },
     "metadata": {},
     "output_type": "display_data"
    },
    {
     "data": {
      "text/html": [
       "<pre style=\"white-space:pre;overflow-x:auto;line-height:normal;font-family:Menlo,'DejaVu Sans Mono',consolas,'Courier New',monospace\">22:32:03.419 | <span style=\"color: #008080; text-decoration-color: #008080\">INFO</span>    | Flow run<span style=\"color: #800080; text-decoration-color: #800080\"> 'khaki-bat'</span> - Created task run 'write_gcs-124' for task 'write_gcs'\n",
       "</pre>\n"
      ],
      "text/plain": [
       "22:32:03.419 | \u001b[36mINFO\u001b[0m    | Flow run\u001b[35m 'khaki-bat'\u001b[0m - Created task run 'write_gcs-124' for task 'write_gcs'\n"
      ]
     },
     "metadata": {},
     "output_type": "display_data"
    },
    {
     "data": {
      "text/html": [
       "<pre style=\"white-space:pre;overflow-x:auto;line-height:normal;font-family:Menlo,'DejaVu Sans Mono',consolas,'Courier New',monospace\">22:32:03.422 | <span style=\"color: #008080; text-decoration-color: #008080\">INFO</span>    | Flow run<span style=\"color: #800080; text-decoration-color: #800080\"> 'khaki-bat'</span> - Executing 'write_gcs-124' immediately...\n",
       "</pre>\n"
      ],
      "text/plain": [
       "22:32:03.422 | \u001b[36mINFO\u001b[0m    | Flow run\u001b[35m 'khaki-bat'\u001b[0m - Executing 'write_gcs-124' immediately...\n"
      ]
     },
     "metadata": {},
     "output_type": "display_data"
    },
    {
     "name": "stdout",
     "output_type": "stream",
     "text": [
      "Csv file size is 1346543\n"
     ]
    },
    {
     "data": {
      "text/html": [
       "<pre style=\"white-space:pre;overflow-x:auto;line-height:normal;font-family:Menlo,'DejaVu Sans Mono',consolas,'Courier New',monospace\">22:32:04.965 | <span style=\"color: #008080; text-decoration-color: #008080\">INFO</span>    | Task run 'write_gcs-124' - Finished in state <span style=\"color: #008000; text-decoration-color: #008000\">Completed</span>()\n",
       "</pre>\n"
      ],
      "text/plain": [
       "22:32:04.965 | \u001b[36mINFO\u001b[0m    | Task run 'write_gcs-124' - Finished in state \u001b[32mCompleted\u001b[0m()\n"
      ]
     },
     "metadata": {},
     "output_type": "display_data"
    },
    {
     "name": "stdout",
     "output_type": "stream",
     "text": [
      "size_19876.csv\n"
     ]
    },
    {
     "data": {
      "text/html": [
       "<pre style=\"white-space:pre;overflow-x:auto;line-height:normal;font-family:Menlo,'DejaVu Sans Mono',consolas,'Courier New',monospace\">22:32:05.040 | <span style=\"color: #008080; text-decoration-color: #008080\">INFO</span>    | Flow run<span style=\"color: #800080; text-decoration-color: #800080\"> 'khaki-bat'</span> - Created task run 'process_file-125' for task 'process_file'\n",
       "</pre>\n"
      ],
      "text/plain": [
       "22:32:05.040 | \u001b[36mINFO\u001b[0m    | Flow run\u001b[35m 'khaki-bat'\u001b[0m - Created task run 'process_file-125' for task 'process_file'\n"
      ]
     },
     "metadata": {},
     "output_type": "display_data"
    },
    {
     "data": {
      "text/html": [
       "<pre style=\"white-space:pre;overflow-x:auto;line-height:normal;font-family:Menlo,'DejaVu Sans Mono',consolas,'Courier New',monospace\">22:32:05.043 | <span style=\"color: #008080; text-decoration-color: #008080\">INFO</span>    | Flow run<span style=\"color: #800080; text-decoration-color: #800080\"> 'khaki-bat'</span> - Executing 'process_file-125' immediately...\n",
       "</pre>\n"
      ],
      "text/plain": [
       "22:32:05.043 | \u001b[36mINFO\u001b[0m    | Flow run\u001b[35m 'khaki-bat'\u001b[0m - Executing 'process_file-125' immediately...\n"
      ]
     },
     "metadata": {},
     "output_type": "display_data"
    },
    {
     "data": {
      "text/html": [
       "<pre style=\"white-space:pre;overflow-x:auto;line-height:normal;font-family:Menlo,'DejaVu Sans Mono',consolas,'Courier New',monospace\">22:32:05.237 | <span style=\"color: #008080; text-decoration-color: #008080\">INFO</span>    | Task run 'process_file-125' - Finished in state <span style=\"color: #008000; text-decoration-color: #008000\">Completed</span>()\n",
       "</pre>\n"
      ],
      "text/plain": [
       "22:32:05.237 | \u001b[36mINFO\u001b[0m    | Task run 'process_file-125' - Finished in state \u001b[32mCompleted\u001b[0m()\n"
      ]
     },
     "metadata": {},
     "output_type": "display_data"
    },
    {
     "data": {
      "text/html": [
       "<pre style=\"white-space:pre;overflow-x:auto;line-height:normal;font-family:Menlo,'DejaVu Sans Mono',consolas,'Courier New',monospace\">22:32:05.301 | <span style=\"color: #008080; text-decoration-color: #008080\">INFO</span>    | Flow run<span style=\"color: #800080; text-decoration-color: #800080\"> 'khaki-bat'</span> - Created task run 'write_gcs-125' for task 'write_gcs'\n",
       "</pre>\n"
      ],
      "text/plain": [
       "22:32:05.301 | \u001b[36mINFO\u001b[0m    | Flow run\u001b[35m 'khaki-bat'\u001b[0m - Created task run 'write_gcs-125' for task 'write_gcs'\n"
      ]
     },
     "metadata": {},
     "output_type": "display_data"
    },
    {
     "data": {
      "text/html": [
       "<pre style=\"white-space:pre;overflow-x:auto;line-height:normal;font-family:Menlo,'DejaVu Sans Mono',consolas,'Courier New',monospace\">22:32:05.304 | <span style=\"color: #008080; text-decoration-color: #008080\">INFO</span>    | Flow run<span style=\"color: #800080; text-decoration-color: #800080\"> 'khaki-bat'</span> - Executing 'write_gcs-125' immediately...\n",
       "</pre>\n"
      ],
      "text/plain": [
       "22:32:05.304 | \u001b[36mINFO\u001b[0m    | Flow run\u001b[35m 'khaki-bat'\u001b[0m - Executing 'write_gcs-125' immediately...\n"
      ]
     },
     "metadata": {},
     "output_type": "display_data"
    },
    {
     "name": "stdout",
     "output_type": "stream",
     "text": [
      "Csv file size is 1656861\n"
     ]
    },
    {
     "data": {
      "text/html": [
       "<pre style=\"white-space:pre;overflow-x:auto;line-height:normal;font-family:Menlo,'DejaVu Sans Mono',consolas,'Courier New',monospace\">22:32:07.045 | <span style=\"color: #008080; text-decoration-color: #008080\">INFO</span>    | Task run 'write_gcs-125' - Finished in state <span style=\"color: #008000; text-decoration-color: #008000\">Completed</span>()\n",
       "</pre>\n"
      ],
      "text/plain": [
       "22:32:07.045 | \u001b[36mINFO\u001b[0m    | Task run 'write_gcs-125' - Finished in state \u001b[32mCompleted\u001b[0m()\n"
      ]
     },
     "metadata": {},
     "output_type": "display_data"
    },
    {
     "name": "stdout",
     "output_type": "stream",
     "text": [
      "catch_19881.csv\n"
     ]
    },
    {
     "data": {
      "text/html": [
       "<pre style=\"white-space:pre;overflow-x:auto;line-height:normal;font-family:Menlo,'DejaVu Sans Mono',consolas,'Courier New',monospace\">22:32:07.116 | <span style=\"color: #008080; text-decoration-color: #008080\">INFO</span>    | Flow run<span style=\"color: #800080; text-decoration-color: #800080\"> 'khaki-bat'</span> - Created task run 'process_file-126' for task 'process_file'\n",
       "</pre>\n"
      ],
      "text/plain": [
       "22:32:07.116 | \u001b[36mINFO\u001b[0m    | Flow run\u001b[35m 'khaki-bat'\u001b[0m - Created task run 'process_file-126' for task 'process_file'\n"
      ]
     },
     "metadata": {},
     "output_type": "display_data"
    },
    {
     "data": {
      "text/html": [
       "<pre style=\"white-space:pre;overflow-x:auto;line-height:normal;font-family:Menlo,'DejaVu Sans Mono',consolas,'Courier New',monospace\">22:32:07.120 | <span style=\"color: #008080; text-decoration-color: #008080\">INFO</span>    | Flow run<span style=\"color: #800080; text-decoration-color: #800080\"> 'khaki-bat'</span> - Executing 'process_file-126' immediately...\n",
       "</pre>\n"
      ],
      "text/plain": [
       "22:32:07.120 | \u001b[36mINFO\u001b[0m    | Flow run\u001b[35m 'khaki-bat'\u001b[0m - Executing 'process_file-126' immediately...\n"
      ]
     },
     "metadata": {},
     "output_type": "display_data"
    },
    {
     "data": {
      "text/html": [
       "<pre style=\"white-space:pre;overflow-x:auto;line-height:normal;font-family:Menlo,'DejaVu Sans Mono',consolas,'Courier New',monospace\">22:32:07.324 | <span style=\"color: #008080; text-decoration-color: #008080\">INFO</span>    | Task run 'process_file-126' - Finished in state <span style=\"color: #008000; text-decoration-color: #008000\">Completed</span>()\n",
       "</pre>\n"
      ],
      "text/plain": [
       "22:32:07.324 | \u001b[36mINFO\u001b[0m    | Task run 'process_file-126' - Finished in state \u001b[32mCompleted\u001b[0m()\n"
      ]
     },
     "metadata": {},
     "output_type": "display_data"
    },
    {
     "data": {
      "text/html": [
       "<pre style=\"white-space:pre;overflow-x:auto;line-height:normal;font-family:Menlo,'DejaVu Sans Mono',consolas,'Courier New',monospace\">22:32:07.395 | <span style=\"color: #008080; text-decoration-color: #008080\">INFO</span>    | Flow run<span style=\"color: #800080; text-decoration-color: #800080\"> 'khaki-bat'</span> - Created task run 'write_gcs-126' for task 'write_gcs'\n",
       "</pre>\n"
      ],
      "text/plain": [
       "22:32:07.395 | \u001b[36mINFO\u001b[0m    | Flow run\u001b[35m 'khaki-bat'\u001b[0m - Created task run 'write_gcs-126' for task 'write_gcs'\n"
      ]
     },
     "metadata": {},
     "output_type": "display_data"
    },
    {
     "data": {
      "text/html": [
       "<pre style=\"white-space:pre;overflow-x:auto;line-height:normal;font-family:Menlo,'DejaVu Sans Mono',consolas,'Courier New',monospace\">22:32:07.397 | <span style=\"color: #008080; text-decoration-color: #008080\">INFO</span>    | Flow run<span style=\"color: #800080; text-decoration-color: #800080\"> 'khaki-bat'</span> - Executing 'write_gcs-126' immediately...\n",
       "</pre>\n"
      ],
      "text/plain": [
       "22:32:07.397 | \u001b[36mINFO\u001b[0m    | Flow run\u001b[35m 'khaki-bat'\u001b[0m - Executing 'write_gcs-126' immediately...\n"
      ]
     },
     "metadata": {},
     "output_type": "display_data"
    },
    {
     "name": "stdout",
     "output_type": "stream",
     "text": [
      "Csv file size is 471022\n"
     ]
    },
    {
     "data": {
      "text/html": [
       "<pre style=\"white-space:pre;overflow-x:auto;line-height:normal;font-family:Menlo,'DejaVu Sans Mono',consolas,'Courier New',monospace\">22:32:08.349 | <span style=\"color: #008080; text-decoration-color: #008080\">INFO</span>    | Task run 'write_gcs-126' - Finished in state <span style=\"color: #008000; text-decoration-color: #008000\">Completed</span>()\n",
       "</pre>\n"
      ],
      "text/plain": [
       "22:32:08.349 | \u001b[36mINFO\u001b[0m    | Task run 'write_gcs-126' - Finished in state \u001b[32mCompleted\u001b[0m()\n"
      ]
     },
     "metadata": {},
     "output_type": "display_data"
    },
    {
     "name": "stdout",
     "output_type": "stream",
     "text": [
      "trip_19881.csv\n"
     ]
    },
    {
     "data": {
      "text/html": [
       "<pre style=\"white-space:pre;overflow-x:auto;line-height:normal;font-family:Menlo,'DejaVu Sans Mono',consolas,'Courier New',monospace\">22:32:08.431 | <span style=\"color: #008080; text-decoration-color: #008080\">INFO</span>    | Flow run<span style=\"color: #800080; text-decoration-color: #800080\"> 'khaki-bat'</span> - Created task run 'process_file-127' for task 'process_file'\n",
       "</pre>\n"
      ],
      "text/plain": [
       "22:32:08.431 | \u001b[36mINFO\u001b[0m    | Flow run\u001b[35m 'khaki-bat'\u001b[0m - Created task run 'process_file-127' for task 'process_file'\n"
      ]
     },
     "metadata": {},
     "output_type": "display_data"
    },
    {
     "data": {
      "text/html": [
       "<pre style=\"white-space:pre;overflow-x:auto;line-height:normal;font-family:Menlo,'DejaVu Sans Mono',consolas,'Courier New',monospace\">22:32:08.435 | <span style=\"color: #008080; text-decoration-color: #008080\">INFO</span>    | Flow run<span style=\"color: #800080; text-decoration-color: #800080\"> 'khaki-bat'</span> - Executing 'process_file-127' immediately...\n",
       "</pre>\n"
      ],
      "text/plain": [
       "22:32:08.435 | \u001b[36mINFO\u001b[0m    | Flow run\u001b[35m 'khaki-bat'\u001b[0m - Executing 'process_file-127' immediately...\n"
      ]
     },
     "metadata": {},
     "output_type": "display_data"
    },
    {
     "data": {
      "text/html": [
       "<pre style=\"white-space:pre;overflow-x:auto;line-height:normal;font-family:Menlo,'DejaVu Sans Mono',consolas,'Courier New',monospace\">22:32:08.638 | <span style=\"color: #008080; text-decoration-color: #008080\">INFO</span>    | Task run 'process_file-127' - Finished in state <span style=\"color: #008000; text-decoration-color: #008000\">Completed</span>()\n",
       "</pre>\n"
      ],
      "text/plain": [
       "22:32:08.638 | \u001b[36mINFO\u001b[0m    | Task run 'process_file-127' - Finished in state \u001b[32mCompleted\u001b[0m()\n"
      ]
     },
     "metadata": {},
     "output_type": "display_data"
    },
    {
     "data": {
      "text/html": [
       "<pre style=\"white-space:pre;overflow-x:auto;line-height:normal;font-family:Menlo,'DejaVu Sans Mono',consolas,'Courier New',monospace\">22:32:08.709 | <span style=\"color: #008080; text-decoration-color: #008080\">INFO</span>    | Flow run<span style=\"color: #800080; text-decoration-color: #800080\"> 'khaki-bat'</span> - Created task run 'write_gcs-127' for task 'write_gcs'\n",
       "</pre>\n"
      ],
      "text/plain": [
       "22:32:08.709 | \u001b[36mINFO\u001b[0m    | Flow run\u001b[35m 'khaki-bat'\u001b[0m - Created task run 'write_gcs-127' for task 'write_gcs'\n"
      ]
     },
     "metadata": {},
     "output_type": "display_data"
    },
    {
     "data": {
      "text/html": [
       "<pre style=\"white-space:pre;overflow-x:auto;line-height:normal;font-family:Menlo,'DejaVu Sans Mono',consolas,'Courier New',monospace\">22:32:08.714 | <span style=\"color: #008080; text-decoration-color: #008080\">INFO</span>    | Flow run<span style=\"color: #800080; text-decoration-color: #800080\"> 'khaki-bat'</span> - Executing 'write_gcs-127' immediately...\n",
       "</pre>\n"
      ],
      "text/plain": [
       "22:32:08.714 | \u001b[36mINFO\u001b[0m    | Flow run\u001b[35m 'khaki-bat'\u001b[0m - Executing 'write_gcs-127' immediately...\n"
      ]
     },
     "metadata": {},
     "output_type": "display_data"
    },
    {
     "name": "stdout",
     "output_type": "stream",
     "text": [
      "Csv file size is 581693\n"
     ]
    },
    {
     "data": {
      "text/html": [
       "<pre style=\"white-space:pre;overflow-x:auto;line-height:normal;font-family:Menlo,'DejaVu Sans Mono',consolas,'Courier New',monospace\">22:32:10.478 | <span style=\"color: #008080; text-decoration-color: #008080\">INFO</span>    | Task run 'write_gcs-127' - Finished in state <span style=\"color: #008000; text-decoration-color: #008000\">Completed</span>()\n",
       "</pre>\n"
      ],
      "text/plain": [
       "22:32:10.478 | \u001b[36mINFO\u001b[0m    | Task run 'write_gcs-127' - Finished in state \u001b[32mCompleted\u001b[0m()\n"
      ]
     },
     "metadata": {},
     "output_type": "display_data"
    },
    {
     "name": "stdout",
     "output_type": "stream",
     "text": [
      "size_19881.csv\n"
     ]
    },
    {
     "data": {
      "text/html": [
       "<pre style=\"white-space:pre;overflow-x:auto;line-height:normal;font-family:Menlo,'DejaVu Sans Mono',consolas,'Courier New',monospace\">22:32:10.546 | <span style=\"color: #008080; text-decoration-color: #008080\">INFO</span>    | Flow run<span style=\"color: #800080; text-decoration-color: #800080\"> 'khaki-bat'</span> - Created task run 'process_file-128' for task 'process_file'\n",
       "</pre>\n"
      ],
      "text/plain": [
       "22:32:10.546 | \u001b[36mINFO\u001b[0m    | Flow run\u001b[35m 'khaki-bat'\u001b[0m - Created task run 'process_file-128' for task 'process_file'\n"
      ]
     },
     "metadata": {},
     "output_type": "display_data"
    },
    {
     "data": {
      "text/html": [
       "<pre style=\"white-space:pre;overflow-x:auto;line-height:normal;font-family:Menlo,'DejaVu Sans Mono',consolas,'Courier New',monospace\">22:32:10.550 | <span style=\"color: #008080; text-decoration-color: #008080\">INFO</span>    | Flow run<span style=\"color: #800080; text-decoration-color: #800080\"> 'khaki-bat'</span> - Executing 'process_file-128' immediately...\n",
       "</pre>\n"
      ],
      "text/plain": [
       "22:32:10.550 | \u001b[36mINFO\u001b[0m    | Flow run\u001b[35m 'khaki-bat'\u001b[0m - Executing 'process_file-128' immediately...\n"
      ]
     },
     "metadata": {},
     "output_type": "display_data"
    },
    {
     "data": {
      "text/html": [
       "<pre style=\"white-space:pre;overflow-x:auto;line-height:normal;font-family:Menlo,'DejaVu Sans Mono',consolas,'Courier New',monospace\">22:32:10.885 | <span style=\"color: #008080; text-decoration-color: #008080\">INFO</span>    | Task run 'process_file-128' - Finished in state <span style=\"color: #008000; text-decoration-color: #008000\">Completed</span>()\n",
       "</pre>\n"
      ],
      "text/plain": [
       "22:32:10.885 | \u001b[36mINFO\u001b[0m    | Task run 'process_file-128' - Finished in state \u001b[32mCompleted\u001b[0m()\n"
      ]
     },
     "metadata": {},
     "output_type": "display_data"
    },
    {
     "data": {
      "text/html": [
       "<pre style=\"white-space:pre;overflow-x:auto;line-height:normal;font-family:Menlo,'DejaVu Sans Mono',consolas,'Courier New',monospace\">22:32:10.959 | <span style=\"color: #008080; text-decoration-color: #008080\">INFO</span>    | Flow run<span style=\"color: #800080; text-decoration-color: #800080\"> 'khaki-bat'</span> - Created task run 'write_gcs-128' for task 'write_gcs'\n",
       "</pre>\n"
      ],
      "text/plain": [
       "22:32:10.959 | \u001b[36mINFO\u001b[0m    | Flow run\u001b[35m 'khaki-bat'\u001b[0m - Created task run 'write_gcs-128' for task 'write_gcs'\n"
      ]
     },
     "metadata": {},
     "output_type": "display_data"
    },
    {
     "data": {
      "text/html": [
       "<pre style=\"white-space:pre;overflow-x:auto;line-height:normal;font-family:Menlo,'DejaVu Sans Mono',consolas,'Courier New',monospace\">22:32:10.962 | <span style=\"color: #008080; text-decoration-color: #008080\">INFO</span>    | Flow run<span style=\"color: #800080; text-decoration-color: #800080\"> 'khaki-bat'</span> - Executing 'write_gcs-128' immediately...\n",
       "</pre>\n"
      ],
      "text/plain": [
       "22:32:10.962 | \u001b[36mINFO\u001b[0m    | Flow run\u001b[35m 'khaki-bat'\u001b[0m - Executing 'write_gcs-128' immediately...\n"
      ]
     },
     "metadata": {},
     "output_type": "display_data"
    },
    {
     "name": "stdout",
     "output_type": "stream",
     "text": [
      "Csv file size is 384420\n"
     ]
    },
    {
     "data": {
      "text/html": [
       "<pre style=\"white-space:pre;overflow-x:auto;line-height:normal;font-family:Menlo,'DejaVu Sans Mono',consolas,'Courier New',monospace\">22:32:11.819 | <span style=\"color: #008080; text-decoration-color: #008080\">INFO</span>    | Task run 'write_gcs-128' - Finished in state <span style=\"color: #008000; text-decoration-color: #008000\">Completed</span>()\n",
       "</pre>\n"
      ],
      "text/plain": [
       "22:32:11.819 | \u001b[36mINFO\u001b[0m    | Task run 'write_gcs-128' - Finished in state \u001b[32mCompleted\u001b[0m()\n"
      ]
     },
     "metadata": {},
     "output_type": "display_data"
    },
    {
     "name": "stdout",
     "output_type": "stream",
     "text": [
      "catch_19882.csv\n"
     ]
    },
    {
     "data": {
      "text/html": [
       "<pre style=\"white-space:pre;overflow-x:auto;line-height:normal;font-family:Menlo,'DejaVu Sans Mono',consolas,'Courier New',monospace\">22:32:11.899 | <span style=\"color: #008080; text-decoration-color: #008080\">INFO</span>    | Flow run<span style=\"color: #800080; text-decoration-color: #800080\"> 'khaki-bat'</span> - Created task run 'process_file-129' for task 'process_file'\n",
       "</pre>\n"
      ],
      "text/plain": [
       "22:32:11.899 | \u001b[36mINFO\u001b[0m    | Flow run\u001b[35m 'khaki-bat'\u001b[0m - Created task run 'process_file-129' for task 'process_file'\n"
      ]
     },
     "metadata": {},
     "output_type": "display_data"
    },
    {
     "data": {
      "text/html": [
       "<pre style=\"white-space:pre;overflow-x:auto;line-height:normal;font-family:Menlo,'DejaVu Sans Mono',consolas,'Courier New',monospace\">22:32:11.905 | <span style=\"color: #008080; text-decoration-color: #008080\">INFO</span>    | Flow run<span style=\"color: #800080; text-decoration-color: #800080\"> 'khaki-bat'</span> - Executing 'process_file-129' immediately...\n",
       "</pre>\n"
      ],
      "text/plain": [
       "22:32:11.905 | \u001b[36mINFO\u001b[0m    | Flow run\u001b[35m 'khaki-bat'\u001b[0m - Executing 'process_file-129' immediately...\n"
      ]
     },
     "metadata": {},
     "output_type": "display_data"
    },
    {
     "data": {
      "text/html": [
       "<pre style=\"white-space:pre;overflow-x:auto;line-height:normal;font-family:Menlo,'DejaVu Sans Mono',consolas,'Courier New',monospace\">22:32:12.136 | <span style=\"color: #008080; text-decoration-color: #008080\">INFO</span>    | Task run 'process_file-129' - Finished in state <span style=\"color: #008000; text-decoration-color: #008000\">Completed</span>()\n",
       "</pre>\n"
      ],
      "text/plain": [
       "22:32:12.136 | \u001b[36mINFO\u001b[0m    | Task run 'process_file-129' - Finished in state \u001b[32mCompleted\u001b[0m()\n"
      ]
     },
     "metadata": {},
     "output_type": "display_data"
    },
    {
     "data": {
      "text/html": [
       "<pre style=\"white-space:pre;overflow-x:auto;line-height:normal;font-family:Menlo,'DejaVu Sans Mono',consolas,'Courier New',monospace\">22:32:12.208 | <span style=\"color: #008080; text-decoration-color: #008080\">INFO</span>    | Flow run<span style=\"color: #800080; text-decoration-color: #800080\"> 'khaki-bat'</span> - Created task run 'write_gcs-129' for task 'write_gcs'\n",
       "</pre>\n"
      ],
      "text/plain": [
       "22:32:12.208 | \u001b[36mINFO\u001b[0m    | Flow run\u001b[35m 'khaki-bat'\u001b[0m - Created task run 'write_gcs-129' for task 'write_gcs'\n"
      ]
     },
     "metadata": {},
     "output_type": "display_data"
    },
    {
     "data": {
      "text/html": [
       "<pre style=\"white-space:pre;overflow-x:auto;line-height:normal;font-family:Menlo,'DejaVu Sans Mono',consolas,'Courier New',monospace\">22:32:12.210 | <span style=\"color: #008080; text-decoration-color: #008080\">INFO</span>    | Flow run<span style=\"color: #800080; text-decoration-color: #800080\"> 'khaki-bat'</span> - Executing 'write_gcs-129' immediately...\n",
       "</pre>\n"
      ],
      "text/plain": [
       "22:32:12.210 | \u001b[36mINFO\u001b[0m    | Flow run\u001b[35m 'khaki-bat'\u001b[0m - Executing 'write_gcs-129' immediately...\n"
      ]
     },
     "metadata": {},
     "output_type": "display_data"
    },
    {
     "name": "stdout",
     "output_type": "stream",
     "text": [
      "Csv file size is 1157847\n"
     ]
    },
    {
     "data": {
      "text/html": [
       "<pre style=\"white-space:pre;overflow-x:auto;line-height:normal;font-family:Menlo,'DejaVu Sans Mono',consolas,'Courier New',monospace\">22:32:13.610 | <span style=\"color: #008080; text-decoration-color: #008080\">INFO</span>    | Task run 'write_gcs-129' - Finished in state <span style=\"color: #008000; text-decoration-color: #008000\">Completed</span>()\n",
       "</pre>\n"
      ],
      "text/plain": [
       "22:32:13.610 | \u001b[36mINFO\u001b[0m    | Task run 'write_gcs-129' - Finished in state \u001b[32mCompleted\u001b[0m()\n"
      ]
     },
     "metadata": {},
     "output_type": "display_data"
    },
    {
     "name": "stdout",
     "output_type": "stream",
     "text": [
      "trip_19882.csv\n"
     ]
    },
    {
     "data": {
      "text/html": [
       "<pre style=\"white-space:pre;overflow-x:auto;line-height:normal;font-family:Menlo,'DejaVu Sans Mono',consolas,'Courier New',monospace\">22:32:13.692 | <span style=\"color: #008080; text-decoration-color: #008080\">INFO</span>    | Flow run<span style=\"color: #800080; text-decoration-color: #800080\"> 'khaki-bat'</span> - Created task run 'process_file-130' for task 'process_file'\n",
       "</pre>\n"
      ],
      "text/plain": [
       "22:32:13.692 | \u001b[36mINFO\u001b[0m    | Flow run\u001b[35m 'khaki-bat'\u001b[0m - Created task run 'process_file-130' for task 'process_file'\n"
      ]
     },
     "metadata": {},
     "output_type": "display_data"
    },
    {
     "data": {
      "text/html": [
       "<pre style=\"white-space:pre;overflow-x:auto;line-height:normal;font-family:Menlo,'DejaVu Sans Mono',consolas,'Courier New',monospace\">22:32:13.696 | <span style=\"color: #008080; text-decoration-color: #008080\">INFO</span>    | Flow run<span style=\"color: #800080; text-decoration-color: #800080\"> 'khaki-bat'</span> - Executing 'process_file-130' immediately...\n",
       "</pre>\n"
      ],
      "text/plain": [
       "22:32:13.696 | \u001b[36mINFO\u001b[0m    | Flow run\u001b[35m 'khaki-bat'\u001b[0m - Executing 'process_file-130' immediately...\n"
      ]
     },
     "metadata": {},
     "output_type": "display_data"
    },
    {
     "data": {
      "text/html": [
       "<pre style=\"white-space:pre;overflow-x:auto;line-height:normal;font-family:Menlo,'DejaVu Sans Mono',consolas,'Courier New',monospace\">22:32:14.360 | <span style=\"color: #008080; text-decoration-color: #008080\">INFO</span>    | Task run 'process_file-130' - Finished in state <span style=\"color: #008000; text-decoration-color: #008000\">Completed</span>()\n",
       "</pre>\n"
      ],
      "text/plain": [
       "22:32:14.360 | \u001b[36mINFO\u001b[0m    | Task run 'process_file-130' - Finished in state \u001b[32mCompleted\u001b[0m()\n"
      ]
     },
     "metadata": {},
     "output_type": "display_data"
    },
    {
     "data": {
      "text/html": [
       "<pre style=\"white-space:pre;overflow-x:auto;line-height:normal;font-family:Menlo,'DejaVu Sans Mono',consolas,'Courier New',monospace\">22:32:14.428 | <span style=\"color: #008080; text-decoration-color: #008080\">INFO</span>    | Flow run<span style=\"color: #800080; text-decoration-color: #800080\"> 'khaki-bat'</span> - Created task run 'write_gcs-130' for task 'write_gcs'\n",
       "</pre>\n"
      ],
      "text/plain": [
       "22:32:14.428 | \u001b[36mINFO\u001b[0m    | Flow run\u001b[35m 'khaki-bat'\u001b[0m - Created task run 'write_gcs-130' for task 'write_gcs'\n"
      ]
     },
     "metadata": {},
     "output_type": "display_data"
    },
    {
     "data": {
      "text/html": [
       "<pre style=\"white-space:pre;overflow-x:auto;line-height:normal;font-family:Menlo,'DejaVu Sans Mono',consolas,'Courier New',monospace\">22:32:14.430 | <span style=\"color: #008080; text-decoration-color: #008080\">INFO</span>    | Flow run<span style=\"color: #800080; text-decoration-color: #800080\"> 'khaki-bat'</span> - Executing 'write_gcs-130' immediately...\n",
       "</pre>\n"
      ],
      "text/plain": [
       "22:32:14.430 | \u001b[36mINFO\u001b[0m    | Flow run\u001b[35m 'khaki-bat'\u001b[0m - Executing 'write_gcs-130' immediately...\n"
      ]
     },
     "metadata": {},
     "output_type": "display_data"
    },
    {
     "name": "stdout",
     "output_type": "stream",
     "text": [
      "Csv file size is 1322507\n"
     ]
    },
    {
     "data": {
      "text/html": [
       "<pre style=\"white-space:pre;overflow-x:auto;line-height:normal;font-family:Menlo,'DejaVu Sans Mono',consolas,'Courier New',monospace\">22:32:15.989 | <span style=\"color: #008080; text-decoration-color: #008080\">INFO</span>    | Task run 'write_gcs-130' - Finished in state <span style=\"color: #008000; text-decoration-color: #008000\">Completed</span>()\n",
       "</pre>\n"
      ],
      "text/plain": [
       "22:32:15.989 | \u001b[36mINFO\u001b[0m    | Task run 'write_gcs-130' - Finished in state \u001b[32mCompleted\u001b[0m()\n"
      ]
     },
     "metadata": {},
     "output_type": "display_data"
    },
    {
     "name": "stdout",
     "output_type": "stream",
     "text": [
      "size_19882.csv\n"
     ]
    },
    {
     "data": {
      "text/html": [
       "<pre style=\"white-space:pre;overflow-x:auto;line-height:normal;font-family:Menlo,'DejaVu Sans Mono',consolas,'Courier New',monospace\">22:32:16.067 | <span style=\"color: #008080; text-decoration-color: #008080\">INFO</span>    | Flow run<span style=\"color: #800080; text-decoration-color: #800080\"> 'khaki-bat'</span> - Created task run 'process_file-131' for task 'process_file'\n",
       "</pre>\n"
      ],
      "text/plain": [
       "22:32:16.067 | \u001b[36mINFO\u001b[0m    | Flow run\u001b[35m 'khaki-bat'\u001b[0m - Created task run 'process_file-131' for task 'process_file'\n"
      ]
     },
     "metadata": {},
     "output_type": "display_data"
    },
    {
     "data": {
      "text/html": [
       "<pre style=\"white-space:pre;overflow-x:auto;line-height:normal;font-family:Menlo,'DejaVu Sans Mono',consolas,'Courier New',monospace\">22:32:16.070 | <span style=\"color: #008080; text-decoration-color: #008080\">INFO</span>    | Flow run<span style=\"color: #800080; text-decoration-color: #800080\"> 'khaki-bat'</span> - Executing 'process_file-131' immediately...\n",
       "</pre>\n"
      ],
      "text/plain": [
       "22:32:16.070 | \u001b[36mINFO\u001b[0m    | Flow run\u001b[35m 'khaki-bat'\u001b[0m - Executing 'process_file-131' immediately...\n"
      ]
     },
     "metadata": {},
     "output_type": "display_data"
    },
    {
     "data": {
      "text/html": [
       "<pre style=\"white-space:pre;overflow-x:auto;line-height:normal;font-family:Menlo,'DejaVu Sans Mono',consolas,'Courier New',monospace\">22:32:16.282 | <span style=\"color: #008080; text-decoration-color: #008080\">INFO</span>    | Task run 'process_file-131' - Finished in state <span style=\"color: #008000; text-decoration-color: #008000\">Completed</span>()\n",
       "</pre>\n"
      ],
      "text/plain": [
       "22:32:16.282 | \u001b[36mINFO\u001b[0m    | Task run 'process_file-131' - Finished in state \u001b[32mCompleted\u001b[0m()\n"
      ]
     },
     "metadata": {},
     "output_type": "display_data"
    },
    {
     "data": {
      "text/html": [
       "<pre style=\"white-space:pre;overflow-x:auto;line-height:normal;font-family:Menlo,'DejaVu Sans Mono',consolas,'Courier New',monospace\">22:32:16.385 | <span style=\"color: #008080; text-decoration-color: #008080\">INFO</span>    | Flow run<span style=\"color: #800080; text-decoration-color: #800080\"> 'khaki-bat'</span> - Created task run 'write_gcs-131' for task 'write_gcs'\n",
       "</pre>\n"
      ],
      "text/plain": [
       "22:32:16.385 | \u001b[36mINFO\u001b[0m    | Flow run\u001b[35m 'khaki-bat'\u001b[0m - Created task run 'write_gcs-131' for task 'write_gcs'\n"
      ]
     },
     "metadata": {},
     "output_type": "display_data"
    },
    {
     "data": {
      "text/html": [
       "<pre style=\"white-space:pre;overflow-x:auto;line-height:normal;font-family:Menlo,'DejaVu Sans Mono',consolas,'Courier New',monospace\">22:32:16.390 | <span style=\"color: #008080; text-decoration-color: #008080\">INFO</span>    | Flow run<span style=\"color: #800080; text-decoration-color: #800080\"> 'khaki-bat'</span> - Executing 'write_gcs-131' immediately...\n",
       "</pre>\n"
      ],
      "text/plain": [
       "22:32:16.390 | \u001b[36mINFO\u001b[0m    | Flow run\u001b[35m 'khaki-bat'\u001b[0m - Executing 'write_gcs-131' immediately...\n"
      ]
     },
     "metadata": {},
     "output_type": "display_data"
    },
    {
     "name": "stdout",
     "output_type": "stream",
     "text": [
      "Csv file size is 1344425\n"
     ]
    },
    {
     "data": {
      "text/html": [
       "<pre style=\"white-space:pre;overflow-x:auto;line-height:normal;font-family:Menlo,'DejaVu Sans Mono',consolas,'Courier New',monospace\">22:32:18.350 | <span style=\"color: #008080; text-decoration-color: #008080\">INFO</span>    | Task run 'write_gcs-131' - Finished in state <span style=\"color: #008000; text-decoration-color: #008000\">Completed</span>()\n",
       "</pre>\n"
      ],
      "text/plain": [
       "22:32:18.350 | \u001b[36mINFO\u001b[0m    | Task run 'write_gcs-131' - Finished in state \u001b[32mCompleted\u001b[0m()\n"
      ]
     },
     "metadata": {},
     "output_type": "display_data"
    },
    {
     "name": "stdout",
     "output_type": "stream",
     "text": [
      "catch_19883.csv\n"
     ]
    },
    {
     "data": {
      "text/html": [
       "<pre style=\"white-space:pre;overflow-x:auto;line-height:normal;font-family:Menlo,'DejaVu Sans Mono',consolas,'Courier New',monospace\">22:32:18.423 | <span style=\"color: #008080; text-decoration-color: #008080\">INFO</span>    | Flow run<span style=\"color: #800080; text-decoration-color: #800080\"> 'khaki-bat'</span> - Created task run 'process_file-132' for task 'process_file'\n",
       "</pre>\n"
      ],
      "text/plain": [
       "22:32:18.423 | \u001b[36mINFO\u001b[0m    | Flow run\u001b[35m 'khaki-bat'\u001b[0m - Created task run 'process_file-132' for task 'process_file'\n"
      ]
     },
     "metadata": {},
     "output_type": "display_data"
    },
    {
     "data": {
      "text/html": [
       "<pre style=\"white-space:pre;overflow-x:auto;line-height:normal;font-family:Menlo,'DejaVu Sans Mono',consolas,'Courier New',monospace\">22:32:18.426 | <span style=\"color: #008080; text-decoration-color: #008080\">INFO</span>    | Flow run<span style=\"color: #800080; text-decoration-color: #800080\"> 'khaki-bat'</span> - Executing 'process_file-132' immediately...\n",
       "</pre>\n"
      ],
      "text/plain": [
       "22:32:18.426 | \u001b[36mINFO\u001b[0m    | Flow run\u001b[35m 'khaki-bat'\u001b[0m - Executing 'process_file-132' immediately...\n"
      ]
     },
     "metadata": {},
     "output_type": "display_data"
    },
    {
     "data": {
      "text/html": [
       "<pre style=\"white-space:pre;overflow-x:auto;line-height:normal;font-family:Menlo,'DejaVu Sans Mono',consolas,'Courier New',monospace\">22:32:18.628 | <span style=\"color: #008080; text-decoration-color: #008080\">INFO</span>    | Task run 'process_file-132' - Finished in state <span style=\"color: #008000; text-decoration-color: #008000\">Completed</span>()\n",
       "</pre>\n"
      ],
      "text/plain": [
       "22:32:18.628 | \u001b[36mINFO\u001b[0m    | Task run 'process_file-132' - Finished in state \u001b[32mCompleted\u001b[0m()\n"
      ]
     },
     "metadata": {},
     "output_type": "display_data"
    },
    {
     "data": {
      "text/html": [
       "<pre style=\"white-space:pre;overflow-x:auto;line-height:normal;font-family:Menlo,'DejaVu Sans Mono',consolas,'Courier New',monospace\">22:32:18.694 | <span style=\"color: #008080; text-decoration-color: #008080\">INFO</span>    | Flow run<span style=\"color: #800080; text-decoration-color: #800080\"> 'khaki-bat'</span> - Created task run 'write_gcs-132' for task 'write_gcs'\n",
       "</pre>\n"
      ],
      "text/plain": [
       "22:32:18.694 | \u001b[36mINFO\u001b[0m    | Flow run\u001b[35m 'khaki-bat'\u001b[0m - Created task run 'write_gcs-132' for task 'write_gcs'\n"
      ]
     },
     "metadata": {},
     "output_type": "display_data"
    },
    {
     "data": {
      "text/html": [
       "<pre style=\"white-space:pre;overflow-x:auto;line-height:normal;font-family:Menlo,'DejaVu Sans Mono',consolas,'Courier New',monospace\">22:32:18.696 | <span style=\"color: #008080; text-decoration-color: #008080\">INFO</span>    | Flow run<span style=\"color: #800080; text-decoration-color: #800080\"> 'khaki-bat'</span> - Executing 'write_gcs-132' immediately...\n",
       "</pre>\n"
      ],
      "text/plain": [
       "22:32:18.696 | \u001b[36mINFO\u001b[0m    | Flow run\u001b[35m 'khaki-bat'\u001b[0m - Executing 'write_gcs-132' immediately...\n"
      ]
     },
     "metadata": {},
     "output_type": "display_data"
    },
    {
     "name": "stdout",
     "output_type": "stream",
     "text": [
      "Csv file size is 3193693\n"
     ]
    },
    {
     "data": {
      "text/html": [
       "<pre style=\"white-space:pre;overflow-x:auto;line-height:normal;font-family:Menlo,'DejaVu Sans Mono',consolas,'Courier New',monospace\">22:32:21.482 | <span style=\"color: #008080; text-decoration-color: #008080\">INFO</span>    | Task run 'write_gcs-132' - Finished in state <span style=\"color: #008000; text-decoration-color: #008000\">Completed</span>()\n",
       "</pre>\n"
      ],
      "text/plain": [
       "22:32:21.482 | \u001b[36mINFO\u001b[0m    | Task run 'write_gcs-132' - Finished in state \u001b[32mCompleted\u001b[0m()\n"
      ]
     },
     "metadata": {},
     "output_type": "display_data"
    },
    {
     "name": "stdout",
     "output_type": "stream",
     "text": [
      "trip_19883.csv\n"
     ]
    },
    {
     "data": {
      "text/html": [
       "<pre style=\"white-space:pre;overflow-x:auto;line-height:normal;font-family:Menlo,'DejaVu Sans Mono',consolas,'Courier New',monospace\">22:32:21.549 | <span style=\"color: #008080; text-decoration-color: #008080\">INFO</span>    | Flow run<span style=\"color: #800080; text-decoration-color: #800080\"> 'khaki-bat'</span> - Created task run 'process_file-133' for task 'process_file'\n",
       "</pre>\n"
      ],
      "text/plain": [
       "22:32:21.549 | \u001b[36mINFO\u001b[0m    | Flow run\u001b[35m 'khaki-bat'\u001b[0m - Created task run 'process_file-133' for task 'process_file'\n"
      ]
     },
     "metadata": {},
     "output_type": "display_data"
    },
    {
     "data": {
      "text/html": [
       "<pre style=\"white-space:pre;overflow-x:auto;line-height:normal;font-family:Menlo,'DejaVu Sans Mono',consolas,'Courier New',monospace\">22:32:21.553 | <span style=\"color: #008080; text-decoration-color: #008080\">INFO</span>    | Flow run<span style=\"color: #800080; text-decoration-color: #800080\"> 'khaki-bat'</span> - Executing 'process_file-133' immediately...\n",
       "</pre>\n"
      ],
      "text/plain": [
       "22:32:21.553 | \u001b[36mINFO\u001b[0m    | Flow run\u001b[35m 'khaki-bat'\u001b[0m - Executing 'process_file-133' immediately...\n"
      ]
     },
     "metadata": {},
     "output_type": "display_data"
    },
    {
     "data": {
      "text/html": [
       "<pre style=\"white-space:pre;overflow-x:auto;line-height:normal;font-family:Menlo,'DejaVu Sans Mono',consolas,'Courier New',monospace\">22:32:21.847 | <span style=\"color: #008080; text-decoration-color: #008080\">INFO</span>    | Task run 'process_file-133' - Finished in state <span style=\"color: #008000; text-decoration-color: #008000\">Completed</span>()\n",
       "</pre>\n"
      ],
      "text/plain": [
       "22:32:21.847 | \u001b[36mINFO\u001b[0m    | Task run 'process_file-133' - Finished in state \u001b[32mCompleted\u001b[0m()\n"
      ]
     },
     "metadata": {},
     "output_type": "display_data"
    },
    {
     "data": {
      "text/html": [
       "<pre style=\"white-space:pre;overflow-x:auto;line-height:normal;font-family:Menlo,'DejaVu Sans Mono',consolas,'Courier New',monospace\">22:32:21.940 | <span style=\"color: #008080; text-decoration-color: #008080\">INFO</span>    | Flow run<span style=\"color: #800080; text-decoration-color: #800080\"> 'khaki-bat'</span> - Created task run 'write_gcs-133' for task 'write_gcs'\n",
       "</pre>\n"
      ],
      "text/plain": [
       "22:32:21.940 | \u001b[36mINFO\u001b[0m    | Flow run\u001b[35m 'khaki-bat'\u001b[0m - Created task run 'write_gcs-133' for task 'write_gcs'\n"
      ]
     },
     "metadata": {},
     "output_type": "display_data"
    },
    {
     "data": {
      "text/html": [
       "<pre style=\"white-space:pre;overflow-x:auto;line-height:normal;font-family:Menlo,'DejaVu Sans Mono',consolas,'Courier New',monospace\">22:32:21.947 | <span style=\"color: #008080; text-decoration-color: #008080\">INFO</span>    | Flow run<span style=\"color: #800080; text-decoration-color: #800080\"> 'khaki-bat'</span> - Executing 'write_gcs-133' immediately...\n",
       "</pre>\n"
      ],
      "text/plain": [
       "22:32:21.947 | \u001b[36mINFO\u001b[0m    | Flow run\u001b[35m 'khaki-bat'\u001b[0m - Executing 'write_gcs-133' immediately...\n"
      ]
     },
     "metadata": {},
     "output_type": "display_data"
    },
    {
     "name": "stdout",
     "output_type": "stream",
     "text": [
      "Csv file size is 3348895\n"
     ]
    },
    {
     "data": {
      "text/html": [
       "<pre style=\"white-space:pre;overflow-x:auto;line-height:normal;font-family:Menlo,'DejaVu Sans Mono',consolas,'Courier New',monospace\">22:32:24.848 | <span style=\"color: #008080; text-decoration-color: #008080\">INFO</span>    | Task run 'write_gcs-133' - Finished in state <span style=\"color: #008000; text-decoration-color: #008000\">Completed</span>()\n",
       "</pre>\n"
      ],
      "text/plain": [
       "22:32:24.848 | \u001b[36mINFO\u001b[0m    | Task run 'write_gcs-133' - Finished in state \u001b[32mCompleted\u001b[0m()\n"
      ]
     },
     "metadata": {},
     "output_type": "display_data"
    },
    {
     "name": "stdout",
     "output_type": "stream",
     "text": [
      "size_19883.csv\n"
     ]
    },
    {
     "data": {
      "text/html": [
       "<pre style=\"white-space:pre;overflow-x:auto;line-height:normal;font-family:Menlo,'DejaVu Sans Mono',consolas,'Courier New',monospace\">22:32:24.921 | <span style=\"color: #008080; text-decoration-color: #008080\">INFO</span>    | Flow run<span style=\"color: #800080; text-decoration-color: #800080\"> 'khaki-bat'</span> - Created task run 'process_file-134' for task 'process_file'\n",
       "</pre>\n"
      ],
      "text/plain": [
       "22:32:24.921 | \u001b[36mINFO\u001b[0m    | Flow run\u001b[35m 'khaki-bat'\u001b[0m - Created task run 'process_file-134' for task 'process_file'\n"
      ]
     },
     "metadata": {},
     "output_type": "display_data"
    },
    {
     "data": {
      "text/html": [
       "<pre style=\"white-space:pre;overflow-x:auto;line-height:normal;font-family:Menlo,'DejaVu Sans Mono',consolas,'Courier New',monospace\">22:32:24.926 | <span style=\"color: #008080; text-decoration-color: #008080\">INFO</span>    | Flow run<span style=\"color: #800080; text-decoration-color: #800080\"> 'khaki-bat'</span> - Executing 'process_file-134' immediately...\n",
       "</pre>\n"
      ],
      "text/plain": [
       "22:32:24.926 | \u001b[36mINFO\u001b[0m    | Flow run\u001b[35m 'khaki-bat'\u001b[0m - Executing 'process_file-134' immediately...\n"
      ]
     },
     "metadata": {},
     "output_type": "display_data"
    },
    {
     "data": {
      "text/html": [
       "<pre style=\"white-space:pre;overflow-x:auto;line-height:normal;font-family:Menlo,'DejaVu Sans Mono',consolas,'Courier New',monospace\">22:32:25.123 | <span style=\"color: #008080; text-decoration-color: #008080\">INFO</span>    | Task run 'process_file-134' - Finished in state <span style=\"color: #008000; text-decoration-color: #008000\">Completed</span>()\n",
       "</pre>\n"
      ],
      "text/plain": [
       "22:32:25.123 | \u001b[36mINFO\u001b[0m    | Task run 'process_file-134' - Finished in state \u001b[32mCompleted\u001b[0m()\n"
      ]
     },
     "metadata": {},
     "output_type": "display_data"
    },
    {
     "data": {
      "text/html": [
       "<pre style=\"white-space:pre;overflow-x:auto;line-height:normal;font-family:Menlo,'DejaVu Sans Mono',consolas,'Courier New',monospace\">22:32:25.210 | <span style=\"color: #008080; text-decoration-color: #008080\">INFO</span>    | Flow run<span style=\"color: #800080; text-decoration-color: #800080\"> 'khaki-bat'</span> - Created task run 'write_gcs-134' for task 'write_gcs'\n",
       "</pre>\n"
      ],
      "text/plain": [
       "22:32:25.210 | \u001b[36mINFO\u001b[0m    | Flow run\u001b[35m 'khaki-bat'\u001b[0m - Created task run 'write_gcs-134' for task 'write_gcs'\n"
      ]
     },
     "metadata": {},
     "output_type": "display_data"
    },
    {
     "data": {
      "text/html": [
       "<pre style=\"white-space:pre;overflow-x:auto;line-height:normal;font-family:Menlo,'DejaVu Sans Mono',consolas,'Courier New',monospace\">22:32:25.215 | <span style=\"color: #008080; text-decoration-color: #008080\">INFO</span>    | Flow run<span style=\"color: #800080; text-decoration-color: #800080\"> 'khaki-bat'</span> - Executing 'write_gcs-134' immediately...\n",
       "</pre>\n"
      ],
      "text/plain": [
       "22:32:25.215 | \u001b[36mINFO\u001b[0m    | Flow run\u001b[35m 'khaki-bat'\u001b[0m - Executing 'write_gcs-134' immediately...\n"
      ]
     },
     "metadata": {},
     "output_type": "display_data"
    },
    {
     "name": "stdout",
     "output_type": "stream",
     "text": [
      "Csv file size is 3944288\n"
     ]
    },
    {
     "data": {
      "text/html": [
       "<pre style=\"white-space:pre;overflow-x:auto;line-height:normal;font-family:Menlo,'DejaVu Sans Mono',consolas,'Courier New',monospace\">22:32:28.577 | <span style=\"color: #008080; text-decoration-color: #008080\">INFO</span>    | Task run 'write_gcs-134' - Finished in state <span style=\"color: #008000; text-decoration-color: #008000\">Completed</span>()\n",
       "</pre>\n"
      ],
      "text/plain": [
       "22:32:28.577 | \u001b[36mINFO\u001b[0m    | Task run 'write_gcs-134' - Finished in state \u001b[32mCompleted\u001b[0m()\n"
      ]
     },
     "metadata": {},
     "output_type": "display_data"
    },
    {
     "name": "stdout",
     "output_type": "stream",
     "text": [
      "catch_19884.csv\n"
     ]
    },
    {
     "data": {
      "text/html": [
       "<pre style=\"white-space:pre;overflow-x:auto;line-height:normal;font-family:Menlo,'DejaVu Sans Mono',consolas,'Courier New',monospace\">22:32:28.672 | <span style=\"color: #008080; text-decoration-color: #008080\">INFO</span>    | Flow run<span style=\"color: #800080; text-decoration-color: #800080\"> 'khaki-bat'</span> - Created task run 'process_file-135' for task 'process_file'\n",
       "</pre>\n"
      ],
      "text/plain": [
       "22:32:28.672 | \u001b[36mINFO\u001b[0m    | Flow run\u001b[35m 'khaki-bat'\u001b[0m - Created task run 'process_file-135' for task 'process_file'\n"
      ]
     },
     "metadata": {},
     "output_type": "display_data"
    },
    {
     "data": {
      "text/html": [
       "<pre style=\"white-space:pre;overflow-x:auto;line-height:normal;font-family:Menlo,'DejaVu Sans Mono',consolas,'Courier New',monospace\">22:32:28.676 | <span style=\"color: #008080; text-decoration-color: #008080\">INFO</span>    | Flow run<span style=\"color: #800080; text-decoration-color: #800080\"> 'khaki-bat'</span> - Executing 'process_file-135' immediately...\n",
       "</pre>\n"
      ],
      "text/plain": [
       "22:32:28.676 | \u001b[36mINFO\u001b[0m    | Flow run\u001b[35m 'khaki-bat'\u001b[0m - Executing 'process_file-135' immediately...\n"
      ]
     },
     "metadata": {},
     "output_type": "display_data"
    },
    {
     "data": {
      "text/html": [
       "<pre style=\"white-space:pre;overflow-x:auto;line-height:normal;font-family:Menlo,'DejaVu Sans Mono',consolas,'Courier New',monospace\">22:32:28.883 | <span style=\"color: #008080; text-decoration-color: #008080\">INFO</span>    | Task run 'process_file-135' - Finished in state <span style=\"color: #008000; text-decoration-color: #008000\">Completed</span>()\n",
       "</pre>\n"
      ],
      "text/plain": [
       "22:32:28.883 | \u001b[36mINFO\u001b[0m    | Task run 'process_file-135' - Finished in state \u001b[32mCompleted\u001b[0m()\n"
      ]
     },
     "metadata": {},
     "output_type": "display_data"
    },
    {
     "data": {
      "text/html": [
       "<pre style=\"white-space:pre;overflow-x:auto;line-height:normal;font-family:Menlo,'DejaVu Sans Mono',consolas,'Courier New',monospace\">22:32:28.943 | <span style=\"color: #008080; text-decoration-color: #008080\">INFO</span>    | Flow run<span style=\"color: #800080; text-decoration-color: #800080\"> 'khaki-bat'</span> - Created task run 'write_gcs-135' for task 'write_gcs'\n",
       "</pre>\n"
      ],
      "text/plain": [
       "22:32:28.943 | \u001b[36mINFO\u001b[0m    | Flow run\u001b[35m 'khaki-bat'\u001b[0m - Created task run 'write_gcs-135' for task 'write_gcs'\n"
      ]
     },
     "metadata": {},
     "output_type": "display_data"
    },
    {
     "data": {
      "text/html": [
       "<pre style=\"white-space:pre;overflow-x:auto;line-height:normal;font-family:Menlo,'DejaVu Sans Mono',consolas,'Courier New',monospace\">22:32:28.946 | <span style=\"color: #008080; text-decoration-color: #008080\">INFO</span>    | Flow run<span style=\"color: #800080; text-decoration-color: #800080\"> 'khaki-bat'</span> - Executing 'write_gcs-135' immediately...\n",
       "</pre>\n"
      ],
      "text/plain": [
       "22:32:28.946 | \u001b[36mINFO\u001b[0m    | Flow run\u001b[35m 'khaki-bat'\u001b[0m - Executing 'write_gcs-135' immediately...\n"
      ]
     },
     "metadata": {},
     "output_type": "display_data"
    },
    {
     "name": "stdout",
     "output_type": "stream",
     "text": [
      "Csv file size is 4968795\n"
     ]
    },
    {
     "data": {
      "text/html": [
       "<pre style=\"white-space:pre;overflow-x:auto;line-height:normal;font-family:Menlo,'DejaVu Sans Mono',consolas,'Courier New',monospace\">22:32:33.021 | <span style=\"color: #008080; text-decoration-color: #008080\">INFO</span>    | Task run 'write_gcs-135' - Finished in state <span style=\"color: #008000; text-decoration-color: #008000\">Completed</span>()\n",
       "</pre>\n"
      ],
      "text/plain": [
       "22:32:33.021 | \u001b[36mINFO\u001b[0m    | Task run 'write_gcs-135' - Finished in state \u001b[32mCompleted\u001b[0m()\n"
      ]
     },
     "metadata": {},
     "output_type": "display_data"
    },
    {
     "name": "stdout",
     "output_type": "stream",
     "text": [
      "trip_19884.csv\n"
     ]
    },
    {
     "data": {
      "text/html": [
       "<pre style=\"white-space:pre;overflow-x:auto;line-height:normal;font-family:Menlo,'DejaVu Sans Mono',consolas,'Courier New',monospace\">22:32:33.094 | <span style=\"color: #008080; text-decoration-color: #008080\">INFO</span>    | Flow run<span style=\"color: #800080; text-decoration-color: #800080\"> 'khaki-bat'</span> - Created task run 'process_file-136' for task 'process_file'\n",
       "</pre>\n"
      ],
      "text/plain": [
       "22:32:33.094 | \u001b[36mINFO\u001b[0m    | Flow run\u001b[35m 'khaki-bat'\u001b[0m - Created task run 'process_file-136' for task 'process_file'\n"
      ]
     },
     "metadata": {},
     "output_type": "display_data"
    },
    {
     "data": {
      "text/html": [
       "<pre style=\"white-space:pre;overflow-x:auto;line-height:normal;font-family:Menlo,'DejaVu Sans Mono',consolas,'Courier New',monospace\">22:32:33.098 | <span style=\"color: #008080; text-decoration-color: #008080\">INFO</span>    | Flow run<span style=\"color: #800080; text-decoration-color: #800080\"> 'khaki-bat'</span> - Executing 'process_file-136' immediately...\n",
       "</pre>\n"
      ],
      "text/plain": [
       "22:32:33.098 | \u001b[36mINFO\u001b[0m    | Flow run\u001b[35m 'khaki-bat'\u001b[0m - Executing 'process_file-136' immediately...\n"
      ]
     },
     "metadata": {},
     "output_type": "display_data"
    },
    {
     "data": {
      "text/html": [
       "<pre style=\"white-space:pre;overflow-x:auto;line-height:normal;font-family:Menlo,'DejaVu Sans Mono',consolas,'Courier New',monospace\">22:32:33.308 | <span style=\"color: #008080; text-decoration-color: #008080\">INFO</span>    | Task run 'process_file-136' - Finished in state <span style=\"color: #008000; text-decoration-color: #008000\">Completed</span>()\n",
       "</pre>\n"
      ],
      "text/plain": [
       "22:32:33.308 | \u001b[36mINFO\u001b[0m    | Task run 'process_file-136' - Finished in state \u001b[32mCompleted\u001b[0m()\n"
      ]
     },
     "metadata": {},
     "output_type": "display_data"
    },
    {
     "data": {
      "text/html": [
       "<pre style=\"white-space:pre;overflow-x:auto;line-height:normal;font-family:Menlo,'DejaVu Sans Mono',consolas,'Courier New',monospace\">22:32:33.417 | <span style=\"color: #008080; text-decoration-color: #008080\">INFO</span>    | Flow run<span style=\"color: #800080; text-decoration-color: #800080\"> 'khaki-bat'</span> - Created task run 'write_gcs-136' for task 'write_gcs'\n",
       "</pre>\n"
      ],
      "text/plain": [
       "22:32:33.417 | \u001b[36mINFO\u001b[0m    | Flow run\u001b[35m 'khaki-bat'\u001b[0m - Created task run 'write_gcs-136' for task 'write_gcs'\n"
      ]
     },
     "metadata": {},
     "output_type": "display_data"
    },
    {
     "data": {
      "text/html": [
       "<pre style=\"white-space:pre;overflow-x:auto;line-height:normal;font-family:Menlo,'DejaVu Sans Mono',consolas,'Courier New',monospace\">22:32:33.422 | <span style=\"color: #008080; text-decoration-color: #008080\">INFO</span>    | Flow run<span style=\"color: #800080; text-decoration-color: #800080\"> 'khaki-bat'</span> - Executing 'write_gcs-136' immediately...\n",
       "</pre>\n"
      ],
      "text/plain": [
       "22:32:33.422 | \u001b[36mINFO\u001b[0m    | Flow run\u001b[35m 'khaki-bat'\u001b[0m - Executing 'write_gcs-136' immediately...\n"
      ]
     },
     "metadata": {},
     "output_type": "display_data"
    },
    {
     "name": "stdout",
     "output_type": "stream",
     "text": [
      "Csv file size is 4743092\n"
     ]
    },
    {
     "data": {
      "text/html": [
       "<pre style=\"white-space:pre;overflow-x:auto;line-height:normal;font-family:Menlo,'DejaVu Sans Mono',consolas,'Courier New',monospace\">22:32:37.217 | <span style=\"color: #008080; text-decoration-color: #008080\">INFO</span>    | Task run 'write_gcs-136' - Finished in state <span style=\"color: #008000; text-decoration-color: #008000\">Completed</span>()\n",
       "</pre>\n"
      ],
      "text/plain": [
       "22:32:37.217 | \u001b[36mINFO\u001b[0m    | Task run 'write_gcs-136' - Finished in state \u001b[32mCompleted\u001b[0m()\n"
      ]
     },
     "metadata": {},
     "output_type": "display_data"
    },
    {
     "name": "stdout",
     "output_type": "stream",
     "text": [
      "size_19884.csv\n"
     ]
    },
    {
     "data": {
      "text/html": [
       "<pre style=\"white-space:pre;overflow-x:auto;line-height:normal;font-family:Menlo,'DejaVu Sans Mono',consolas,'Courier New',monospace\">22:32:37.291 | <span style=\"color: #008080; text-decoration-color: #008080\">INFO</span>    | Flow run<span style=\"color: #800080; text-decoration-color: #800080\"> 'khaki-bat'</span> - Created task run 'process_file-137' for task 'process_file'\n",
       "</pre>\n"
      ],
      "text/plain": [
       "22:32:37.291 | \u001b[36mINFO\u001b[0m    | Flow run\u001b[35m 'khaki-bat'\u001b[0m - Created task run 'process_file-137' for task 'process_file'\n"
      ]
     },
     "metadata": {},
     "output_type": "display_data"
    },
    {
     "data": {
      "text/html": [
       "<pre style=\"white-space:pre;overflow-x:auto;line-height:normal;font-family:Menlo,'DejaVu Sans Mono',consolas,'Courier New',monospace\">22:32:37.294 | <span style=\"color: #008080; text-decoration-color: #008080\">INFO</span>    | Flow run<span style=\"color: #800080; text-decoration-color: #800080\"> 'khaki-bat'</span> - Executing 'process_file-137' immediately...\n",
       "</pre>\n"
      ],
      "text/plain": [
       "22:32:37.294 | \u001b[36mINFO\u001b[0m    | Flow run\u001b[35m 'khaki-bat'\u001b[0m - Executing 'process_file-137' immediately...\n"
      ]
     },
     "metadata": {},
     "output_type": "display_data"
    },
    {
     "data": {
      "text/html": [
       "<pre style=\"white-space:pre;overflow-x:auto;line-height:normal;font-family:Menlo,'DejaVu Sans Mono',consolas,'Courier New',monospace\">22:32:37.503 | <span style=\"color: #008080; text-decoration-color: #008080\">INFO</span>    | Task run 'process_file-137' - Finished in state <span style=\"color: #008000; text-decoration-color: #008000\">Completed</span>()\n",
       "</pre>\n"
      ],
      "text/plain": [
       "22:32:37.503 | \u001b[36mINFO\u001b[0m    | Task run 'process_file-137' - Finished in state \u001b[32mCompleted\u001b[0m()\n"
      ]
     },
     "metadata": {},
     "output_type": "display_data"
    },
    {
     "data": {
      "text/html": [
       "<pre style=\"white-space:pre;overflow-x:auto;line-height:normal;font-family:Menlo,'DejaVu Sans Mono',consolas,'Courier New',monospace\">22:32:37.587 | <span style=\"color: #008080; text-decoration-color: #008080\">INFO</span>    | Flow run<span style=\"color: #800080; text-decoration-color: #800080\"> 'khaki-bat'</span> - Created task run 'write_gcs-137' for task 'write_gcs'\n",
       "</pre>\n"
      ],
      "text/plain": [
       "22:32:37.587 | \u001b[36mINFO\u001b[0m    | Flow run\u001b[35m 'khaki-bat'\u001b[0m - Created task run 'write_gcs-137' for task 'write_gcs'\n"
      ]
     },
     "metadata": {},
     "output_type": "display_data"
    },
    {
     "data": {
      "text/html": [
       "<pre style=\"white-space:pre;overflow-x:auto;line-height:normal;font-family:Menlo,'DejaVu Sans Mono',consolas,'Courier New',monospace\">22:32:37.590 | <span style=\"color: #008080; text-decoration-color: #008080\">INFO</span>    | Flow run<span style=\"color: #800080; text-decoration-color: #800080\"> 'khaki-bat'</span> - Executing 'write_gcs-137' immediately...\n",
       "</pre>\n"
      ],
      "text/plain": [
       "22:32:37.590 | \u001b[36mINFO\u001b[0m    | Flow run\u001b[35m 'khaki-bat'\u001b[0m - Executing 'write_gcs-137' immediately...\n"
      ]
     },
     "metadata": {},
     "output_type": "display_data"
    },
    {
     "name": "stdout",
     "output_type": "stream",
     "text": [
      "Csv file size is 5758286\n"
     ]
    },
    {
     "data": {
      "text/html": [
       "<pre style=\"white-space:pre;overflow-x:auto;line-height:normal;font-family:Menlo,'DejaVu Sans Mono',consolas,'Courier New',monospace\">22:32:43.189 | <span style=\"color: #008080; text-decoration-color: #008080\">INFO</span>    | Task run 'write_gcs-137' - Finished in state <span style=\"color: #008000; text-decoration-color: #008000\">Completed</span>()\n",
       "</pre>\n"
      ],
      "text/plain": [
       "22:32:43.189 | \u001b[36mINFO\u001b[0m    | Task run 'write_gcs-137' - Finished in state \u001b[32mCompleted\u001b[0m()\n"
      ]
     },
     "metadata": {},
     "output_type": "display_data"
    },
    {
     "name": "stdout",
     "output_type": "stream",
     "text": [
      "catch_19885.csv\n"
     ]
    },
    {
     "data": {
      "text/html": [
       "<pre style=\"white-space:pre;overflow-x:auto;line-height:normal;font-family:Menlo,'DejaVu Sans Mono',consolas,'Courier New',monospace\">22:32:43.267 | <span style=\"color: #008080; text-decoration-color: #008080\">INFO</span>    | Flow run<span style=\"color: #800080; text-decoration-color: #800080\"> 'khaki-bat'</span> - Created task run 'process_file-138' for task 'process_file'\n",
       "</pre>\n"
      ],
      "text/plain": [
       "22:32:43.267 | \u001b[36mINFO\u001b[0m    | Flow run\u001b[35m 'khaki-bat'\u001b[0m - Created task run 'process_file-138' for task 'process_file'\n"
      ]
     },
     "metadata": {},
     "output_type": "display_data"
    },
    {
     "data": {
      "text/html": [
       "<pre style=\"white-space:pre;overflow-x:auto;line-height:normal;font-family:Menlo,'DejaVu Sans Mono',consolas,'Courier New',monospace\">22:32:43.271 | <span style=\"color: #008080; text-decoration-color: #008080\">INFO</span>    | Flow run<span style=\"color: #800080; text-decoration-color: #800080\"> 'khaki-bat'</span> - Executing 'process_file-138' immediately...\n",
       "</pre>\n"
      ],
      "text/plain": [
       "22:32:43.271 | \u001b[36mINFO\u001b[0m    | Flow run\u001b[35m 'khaki-bat'\u001b[0m - Executing 'process_file-138' immediately...\n"
      ]
     },
     "metadata": {},
     "output_type": "display_data"
    },
    {
     "data": {
      "text/html": [
       "<pre style=\"white-space:pre;overflow-x:auto;line-height:normal;font-family:Menlo,'DejaVu Sans Mono',consolas,'Courier New',monospace\">22:32:43.468 | <span style=\"color: #008080; text-decoration-color: #008080\">INFO</span>    | Task run 'process_file-138' - Finished in state <span style=\"color: #008000; text-decoration-color: #008000\">Completed</span>()\n",
       "</pre>\n"
      ],
      "text/plain": [
       "22:32:43.468 | \u001b[36mINFO\u001b[0m    | Task run 'process_file-138' - Finished in state \u001b[32mCompleted\u001b[0m()\n"
      ]
     },
     "metadata": {},
     "output_type": "display_data"
    },
    {
     "data": {
      "text/html": [
       "<pre style=\"white-space:pre;overflow-x:auto;line-height:normal;font-family:Menlo,'DejaVu Sans Mono',consolas,'Courier New',monospace\">22:32:43.550 | <span style=\"color: #008080; text-decoration-color: #008080\">INFO</span>    | Flow run<span style=\"color: #800080; text-decoration-color: #800080\"> 'khaki-bat'</span> - Created task run 'write_gcs-138' for task 'write_gcs'\n",
       "</pre>\n"
      ],
      "text/plain": [
       "22:32:43.550 | \u001b[36mINFO\u001b[0m    | Flow run\u001b[35m 'khaki-bat'\u001b[0m - Created task run 'write_gcs-138' for task 'write_gcs'\n"
      ]
     },
     "metadata": {},
     "output_type": "display_data"
    },
    {
     "data": {
      "text/html": [
       "<pre style=\"white-space:pre;overflow-x:auto;line-height:normal;font-family:Menlo,'DejaVu Sans Mono',consolas,'Courier New',monospace\">22:32:43.554 | <span style=\"color: #008080; text-decoration-color: #008080\">INFO</span>    | Flow run<span style=\"color: #800080; text-decoration-color: #800080\"> 'khaki-bat'</span> - Executing 'write_gcs-138' immediately...\n",
       "</pre>\n"
      ],
      "text/plain": [
       "22:32:43.554 | \u001b[36mINFO\u001b[0m    | Flow run\u001b[35m 'khaki-bat'\u001b[0m - Executing 'write_gcs-138' immediately...\n"
      ]
     },
     "metadata": {},
     "output_type": "display_data"
    },
    {
     "name": "stdout",
     "output_type": "stream",
     "text": [
      "Csv file size is 3994621\n"
     ]
    },
    {
     "data": {
      "text/html": [
       "<pre style=\"white-space:pre;overflow-x:auto;line-height:normal;font-family:Menlo,'DejaVu Sans Mono',consolas,'Courier New',monospace\">22:32:47.281 | <span style=\"color: #008080; text-decoration-color: #008080\">INFO</span>    | Task run 'write_gcs-138' - Finished in state <span style=\"color: #008000; text-decoration-color: #008000\">Completed</span>()\n",
       "</pre>\n"
      ],
      "text/plain": [
       "22:32:47.281 | \u001b[36mINFO\u001b[0m    | Task run 'write_gcs-138' - Finished in state \u001b[32mCompleted\u001b[0m()\n"
      ]
     },
     "metadata": {},
     "output_type": "display_data"
    },
    {
     "name": "stdout",
     "output_type": "stream",
     "text": [
      "trip_19885.csv\n"
     ]
    },
    {
     "data": {
      "text/html": [
       "<pre style=\"white-space:pre;overflow-x:auto;line-height:normal;font-family:Menlo,'DejaVu Sans Mono',consolas,'Courier New',monospace\">22:32:47.353 | <span style=\"color: #008080; text-decoration-color: #008080\">INFO</span>    | Flow run<span style=\"color: #800080; text-decoration-color: #800080\"> 'khaki-bat'</span> - Created task run 'process_file-139' for task 'process_file'\n",
       "</pre>\n"
      ],
      "text/plain": [
       "22:32:47.353 | \u001b[36mINFO\u001b[0m    | Flow run\u001b[35m 'khaki-bat'\u001b[0m - Created task run 'process_file-139' for task 'process_file'\n"
      ]
     },
     "metadata": {},
     "output_type": "display_data"
    },
    {
     "data": {
      "text/html": [
       "<pre style=\"white-space:pre;overflow-x:auto;line-height:normal;font-family:Menlo,'DejaVu Sans Mono',consolas,'Courier New',monospace\">22:32:47.356 | <span style=\"color: #008080; text-decoration-color: #008080\">INFO</span>    | Flow run<span style=\"color: #800080; text-decoration-color: #800080\"> 'khaki-bat'</span> - Executing 'process_file-139' immediately...\n",
       "</pre>\n"
      ],
      "text/plain": [
       "22:32:47.356 | \u001b[36mINFO\u001b[0m    | Flow run\u001b[35m 'khaki-bat'\u001b[0m - Executing 'process_file-139' immediately...\n"
      ]
     },
     "metadata": {},
     "output_type": "display_data"
    },
    {
     "data": {
      "text/html": [
       "<pre style=\"white-space:pre;overflow-x:auto;line-height:normal;font-family:Menlo,'DejaVu Sans Mono',consolas,'Courier New',monospace\">22:32:47.596 | <span style=\"color: #008080; text-decoration-color: #008080\">INFO</span>    | Task run 'process_file-139' - Finished in state <span style=\"color: #008000; text-decoration-color: #008000\">Completed</span>()\n",
       "</pre>\n"
      ],
      "text/plain": [
       "22:32:47.596 | \u001b[36mINFO\u001b[0m    | Task run 'process_file-139' - Finished in state \u001b[32mCompleted\u001b[0m()\n"
      ]
     },
     "metadata": {},
     "output_type": "display_data"
    },
    {
     "data": {
      "text/html": [
       "<pre style=\"white-space:pre;overflow-x:auto;line-height:normal;font-family:Menlo,'DejaVu Sans Mono',consolas,'Courier New',monospace\">22:32:47.657 | <span style=\"color: #008080; text-decoration-color: #008080\">INFO</span>    | Flow run<span style=\"color: #800080; text-decoration-color: #800080\"> 'khaki-bat'</span> - Created task run 'write_gcs-139' for task 'write_gcs'\n",
       "</pre>\n"
      ],
      "text/plain": [
       "22:32:47.657 | \u001b[36mINFO\u001b[0m    | Flow run\u001b[35m 'khaki-bat'\u001b[0m - Created task run 'write_gcs-139' for task 'write_gcs'\n"
      ]
     },
     "metadata": {},
     "output_type": "display_data"
    },
    {
     "data": {
      "text/html": [
       "<pre style=\"white-space:pre;overflow-x:auto;line-height:normal;font-family:Menlo,'DejaVu Sans Mono',consolas,'Courier New',monospace\">22:32:47.660 | <span style=\"color: #008080; text-decoration-color: #008080\">INFO</span>    | Flow run<span style=\"color: #800080; text-decoration-color: #800080\"> 'khaki-bat'</span> - Executing 'write_gcs-139' immediately...\n",
       "</pre>\n"
      ],
      "text/plain": [
       "22:32:47.660 | \u001b[36mINFO\u001b[0m    | Flow run\u001b[35m 'khaki-bat'\u001b[0m - Executing 'write_gcs-139' immediately...\n"
      ]
     },
     "metadata": {},
     "output_type": "display_data"
    },
    {
     "name": "stdout",
     "output_type": "stream",
     "text": [
      "Csv file size is 3540957\n"
     ]
    },
    {
     "data": {
      "text/html": [
       "<pre style=\"white-space:pre;overflow-x:auto;line-height:normal;font-family:Menlo,'DejaVu Sans Mono',consolas,'Courier New',monospace\">22:32:51.152 | <span style=\"color: #008080; text-decoration-color: #008080\">INFO</span>    | Task run 'write_gcs-139' - Finished in state <span style=\"color: #008000; text-decoration-color: #008000\">Completed</span>()\n",
       "</pre>\n"
      ],
      "text/plain": [
       "22:32:51.152 | \u001b[36mINFO\u001b[0m    | Task run 'write_gcs-139' - Finished in state \u001b[32mCompleted\u001b[0m()\n"
      ]
     },
     "metadata": {},
     "output_type": "display_data"
    },
    {
     "name": "stdout",
     "output_type": "stream",
     "text": [
      "size_19885.csv\n"
     ]
    },
    {
     "data": {
      "text/html": [
       "<pre style=\"white-space:pre;overflow-x:auto;line-height:normal;font-family:Menlo,'DejaVu Sans Mono',consolas,'Courier New',monospace\">22:32:51.500 | <span style=\"color: #008080; text-decoration-color: #008080\">INFO</span>    | Flow run<span style=\"color: #800080; text-decoration-color: #800080\"> 'khaki-bat'</span> - Created task run 'process_file-140' for task 'process_file'\n",
       "</pre>\n"
      ],
      "text/plain": [
       "22:32:51.500 | \u001b[36mINFO\u001b[0m    | Flow run\u001b[35m 'khaki-bat'\u001b[0m - Created task run 'process_file-140' for task 'process_file'\n"
      ]
     },
     "metadata": {},
     "output_type": "display_data"
    },
    {
     "data": {
      "text/html": [
       "<pre style=\"white-space:pre;overflow-x:auto;line-height:normal;font-family:Menlo,'DejaVu Sans Mono',consolas,'Courier New',monospace\">22:32:51.503 | <span style=\"color: #008080; text-decoration-color: #008080\">INFO</span>    | Flow run<span style=\"color: #800080; text-decoration-color: #800080\"> 'khaki-bat'</span> - Executing 'process_file-140' immediately...\n",
       "</pre>\n"
      ],
      "text/plain": [
       "22:32:51.503 | \u001b[36mINFO\u001b[0m    | Flow run\u001b[35m 'khaki-bat'\u001b[0m - Executing 'process_file-140' immediately...\n"
      ]
     },
     "metadata": {},
     "output_type": "display_data"
    },
    {
     "data": {
      "text/html": [
       "<pre style=\"white-space:pre;overflow-x:auto;line-height:normal;font-family:Menlo,'DejaVu Sans Mono',consolas,'Courier New',monospace\">22:32:51.723 | <span style=\"color: #008080; text-decoration-color: #008080\">INFO</span>    | Task run 'process_file-140' - Finished in state <span style=\"color: #008000; text-decoration-color: #008000\">Completed</span>()\n",
       "</pre>\n"
      ],
      "text/plain": [
       "22:32:51.723 | \u001b[36mINFO\u001b[0m    | Task run 'process_file-140' - Finished in state \u001b[32mCompleted\u001b[0m()\n"
      ]
     },
     "metadata": {},
     "output_type": "display_data"
    },
    {
     "data": {
      "text/html": [
       "<pre style=\"white-space:pre;overflow-x:auto;line-height:normal;font-family:Menlo,'DejaVu Sans Mono',consolas,'Courier New',monospace\">22:32:51.789 | <span style=\"color: #008080; text-decoration-color: #008080\">INFO</span>    | Flow run<span style=\"color: #800080; text-decoration-color: #800080\"> 'khaki-bat'</span> - Created task run 'write_gcs-140' for task 'write_gcs'\n",
       "</pre>\n"
      ],
      "text/plain": [
       "22:32:51.789 | \u001b[36mINFO\u001b[0m    | Flow run\u001b[35m 'khaki-bat'\u001b[0m - Created task run 'write_gcs-140' for task 'write_gcs'\n"
      ]
     },
     "metadata": {},
     "output_type": "display_data"
    },
    {
     "data": {
      "text/html": [
       "<pre style=\"white-space:pre;overflow-x:auto;line-height:normal;font-family:Menlo,'DejaVu Sans Mono',consolas,'Courier New',monospace\">22:32:51.792 | <span style=\"color: #008080; text-decoration-color: #008080\">INFO</span>    | Flow run<span style=\"color: #800080; text-decoration-color: #800080\"> 'khaki-bat'</span> - Executing 'write_gcs-140' immediately...\n",
       "</pre>\n"
      ],
      "text/plain": [
       "22:32:51.792 | \u001b[36mINFO\u001b[0m    | Flow run\u001b[35m 'khaki-bat'\u001b[0m - Executing 'write_gcs-140' immediately...\n"
      ]
     },
     "metadata": {},
     "output_type": "display_data"
    },
    {
     "name": "stdout",
     "output_type": "stream",
     "text": [
      "Csv file size is 4673139\n"
     ]
    },
    {
     "data": {
      "text/html": [
       "<pre style=\"white-space:pre;overflow-x:auto;line-height:normal;font-family:Menlo,'DejaVu Sans Mono',consolas,'Courier New',monospace\">22:32:55.494 | <span style=\"color: #008080; text-decoration-color: #008080\">INFO</span>    | Task run 'write_gcs-140' - Finished in state <span style=\"color: #008000; text-decoration-color: #008000\">Completed</span>()\n",
       "</pre>\n"
      ],
      "text/plain": [
       "22:32:55.494 | \u001b[36mINFO\u001b[0m    | Task run 'write_gcs-140' - Finished in state \u001b[32mCompleted\u001b[0m()\n"
      ]
     },
     "metadata": {},
     "output_type": "display_data"
    },
    {
     "name": "stdout",
     "output_type": "stream",
     "text": [
      "catch_19886.csv\n"
     ]
    },
    {
     "data": {
      "text/html": [
       "<pre style=\"white-space:pre;overflow-x:auto;line-height:normal;font-family:Menlo,'DejaVu Sans Mono',consolas,'Courier New',monospace\">22:32:55.575 | <span style=\"color: #008080; text-decoration-color: #008080\">INFO</span>    | Flow run<span style=\"color: #800080; text-decoration-color: #800080\"> 'khaki-bat'</span> - Created task run 'process_file-141' for task 'process_file'\n",
       "</pre>\n"
      ],
      "text/plain": [
       "22:32:55.575 | \u001b[36mINFO\u001b[0m    | Flow run\u001b[35m 'khaki-bat'\u001b[0m - Created task run 'process_file-141' for task 'process_file'\n"
      ]
     },
     "metadata": {},
     "output_type": "display_data"
    },
    {
     "data": {
      "text/html": [
       "<pre style=\"white-space:pre;overflow-x:auto;line-height:normal;font-family:Menlo,'DejaVu Sans Mono',consolas,'Courier New',monospace\">22:32:55.577 | <span style=\"color: #008080; text-decoration-color: #008080\">INFO</span>    | Flow run<span style=\"color: #800080; text-decoration-color: #800080\"> 'khaki-bat'</span> - Executing 'process_file-141' immediately...\n",
       "</pre>\n"
      ],
      "text/plain": [
       "22:32:55.577 | \u001b[36mINFO\u001b[0m    | Flow run\u001b[35m 'khaki-bat'\u001b[0m - Executing 'process_file-141' immediately...\n"
      ]
     },
     "metadata": {},
     "output_type": "display_data"
    },
    {
     "data": {
      "text/html": [
       "<pre style=\"white-space:pre;overflow-x:auto;line-height:normal;font-family:Menlo,'DejaVu Sans Mono',consolas,'Courier New',monospace\">22:32:55.785 | <span style=\"color: #008080; text-decoration-color: #008080\">INFO</span>    | Task run 'process_file-141' - Finished in state <span style=\"color: #008000; text-decoration-color: #008000\">Completed</span>()\n",
       "</pre>\n"
      ],
      "text/plain": [
       "22:32:55.785 | \u001b[36mINFO\u001b[0m    | Task run 'process_file-141' - Finished in state \u001b[32mCompleted\u001b[0m()\n"
      ]
     },
     "metadata": {},
     "output_type": "display_data"
    },
    {
     "data": {
      "text/html": [
       "<pre style=\"white-space:pre;overflow-x:auto;line-height:normal;font-family:Menlo,'DejaVu Sans Mono',consolas,'Courier New',monospace\">22:32:55.852 | <span style=\"color: #008080; text-decoration-color: #008080\">INFO</span>    | Flow run<span style=\"color: #800080; text-decoration-color: #800080\"> 'khaki-bat'</span> - Created task run 'write_gcs-141' for task 'write_gcs'\n",
       "</pre>\n"
      ],
      "text/plain": [
       "22:32:55.852 | \u001b[36mINFO\u001b[0m    | Flow run\u001b[35m 'khaki-bat'\u001b[0m - Created task run 'write_gcs-141' for task 'write_gcs'\n"
      ]
     },
     "metadata": {},
     "output_type": "display_data"
    },
    {
     "data": {
      "text/html": [
       "<pre style=\"white-space:pre;overflow-x:auto;line-height:normal;font-family:Menlo,'DejaVu Sans Mono',consolas,'Courier New',monospace\">22:32:55.856 | <span style=\"color: #008080; text-decoration-color: #008080\">INFO</span>    | Flow run<span style=\"color: #800080; text-decoration-color: #800080\"> 'khaki-bat'</span> - Executing 'write_gcs-141' immediately...\n",
       "</pre>\n"
      ],
      "text/plain": [
       "22:32:55.856 | \u001b[36mINFO\u001b[0m    | Flow run\u001b[35m 'khaki-bat'\u001b[0m - Executing 'write_gcs-141' immediately...\n"
      ]
     },
     "metadata": {},
     "output_type": "display_data"
    },
    {
     "name": "stdout",
     "output_type": "stream",
     "text": [
      "Csv file size is 1953470\n"
     ]
    },
    {
     "data": {
      "text/html": [
       "<pre style=\"white-space:pre;overflow-x:auto;line-height:normal;font-family:Menlo,'DejaVu Sans Mono',consolas,'Courier New',monospace\">22:32:58.135 | <span style=\"color: #008080; text-decoration-color: #008080\">INFO</span>    | Task run 'write_gcs-141' - Finished in state <span style=\"color: #008000; text-decoration-color: #008000\">Completed</span>()\n",
       "</pre>\n"
      ],
      "text/plain": [
       "22:32:58.135 | \u001b[36mINFO\u001b[0m    | Task run 'write_gcs-141' - Finished in state \u001b[32mCompleted\u001b[0m()\n"
      ]
     },
     "metadata": {},
     "output_type": "display_data"
    },
    {
     "name": "stdout",
     "output_type": "stream",
     "text": [
      "trip_19886.csv\n"
     ]
    },
    {
     "data": {
      "text/html": [
       "<pre style=\"white-space:pre;overflow-x:auto;line-height:normal;font-family:Menlo,'DejaVu Sans Mono',consolas,'Courier New',monospace\">22:32:58.227 | <span style=\"color: #008080; text-decoration-color: #008080\">INFO</span>    | Flow run<span style=\"color: #800080; text-decoration-color: #800080\"> 'khaki-bat'</span> - Created task run 'process_file-142' for task 'process_file'\n",
       "</pre>\n"
      ],
      "text/plain": [
       "22:32:58.227 | \u001b[36mINFO\u001b[0m    | Flow run\u001b[35m 'khaki-bat'\u001b[0m - Created task run 'process_file-142' for task 'process_file'\n"
      ]
     },
     "metadata": {},
     "output_type": "display_data"
    },
    {
     "data": {
      "text/html": [
       "<pre style=\"white-space:pre;overflow-x:auto;line-height:normal;font-family:Menlo,'DejaVu Sans Mono',consolas,'Courier New',monospace\">22:32:58.232 | <span style=\"color: #008080; text-decoration-color: #008080\">INFO</span>    | Flow run<span style=\"color: #800080; text-decoration-color: #800080\"> 'khaki-bat'</span> - Executing 'process_file-142' immediately...\n",
       "</pre>\n"
      ],
      "text/plain": [
       "22:32:58.232 | \u001b[36mINFO\u001b[0m    | Flow run\u001b[35m 'khaki-bat'\u001b[0m - Executing 'process_file-142' immediately...\n"
      ]
     },
     "metadata": {},
     "output_type": "display_data"
    },
    {
     "data": {
      "text/html": [
       "<pre style=\"white-space:pre;overflow-x:auto;line-height:normal;font-family:Menlo,'DejaVu Sans Mono',consolas,'Courier New',monospace\">22:32:58.453 | <span style=\"color: #008080; text-decoration-color: #008080\">INFO</span>    | Task run 'process_file-142' - Finished in state <span style=\"color: #008000; text-decoration-color: #008000\">Completed</span>()\n",
       "</pre>\n"
      ],
      "text/plain": [
       "22:32:58.453 | \u001b[36mINFO\u001b[0m    | Task run 'process_file-142' - Finished in state \u001b[32mCompleted\u001b[0m()\n"
      ]
     },
     "metadata": {},
     "output_type": "display_data"
    },
    {
     "data": {
      "text/html": [
       "<pre style=\"white-space:pre;overflow-x:auto;line-height:normal;font-family:Menlo,'DejaVu Sans Mono',consolas,'Courier New',monospace\">22:32:58.513 | <span style=\"color: #008080; text-decoration-color: #008080\">INFO</span>    | Flow run<span style=\"color: #800080; text-decoration-color: #800080\"> 'khaki-bat'</span> - Created task run 'write_gcs-142' for task 'write_gcs'\n",
       "</pre>\n"
      ],
      "text/plain": [
       "22:32:58.513 | \u001b[36mINFO\u001b[0m    | Flow run\u001b[35m 'khaki-bat'\u001b[0m - Created task run 'write_gcs-142' for task 'write_gcs'\n"
      ]
     },
     "metadata": {},
     "output_type": "display_data"
    },
    {
     "data": {
      "text/html": [
       "<pre style=\"white-space:pre;overflow-x:auto;line-height:normal;font-family:Menlo,'DejaVu Sans Mono',consolas,'Courier New',monospace\">22:32:58.515 | <span style=\"color: #008080; text-decoration-color: #008080\">INFO</span>    | Flow run<span style=\"color: #800080; text-decoration-color: #800080\"> 'khaki-bat'</span> - Executing 'write_gcs-142' immediately...\n",
       "</pre>\n"
      ],
      "text/plain": [
       "22:32:58.515 | \u001b[36mINFO\u001b[0m    | Flow run\u001b[35m 'khaki-bat'\u001b[0m - Executing 'write_gcs-142' immediately...\n"
      ]
     },
     "metadata": {},
     "output_type": "display_data"
    },
    {
     "name": "stdout",
     "output_type": "stream",
     "text": [
      "Csv file size is 1797875\n"
     ]
    },
    {
     "data": {
      "text/html": [
       "<pre style=\"white-space:pre;overflow-x:auto;line-height:normal;font-family:Menlo,'DejaVu Sans Mono',consolas,'Courier New',monospace\">22:33:00.344 | <span style=\"color: #008080; text-decoration-color: #008080\">INFO</span>    | Task run 'write_gcs-142' - Finished in state <span style=\"color: #008000; text-decoration-color: #008000\">Completed</span>()\n",
       "</pre>\n"
      ],
      "text/plain": [
       "22:33:00.344 | \u001b[36mINFO\u001b[0m    | Task run 'write_gcs-142' - Finished in state \u001b[32mCompleted\u001b[0m()\n"
      ]
     },
     "metadata": {},
     "output_type": "display_data"
    },
    {
     "name": "stdout",
     "output_type": "stream",
     "text": [
      "size_19886.csv\n"
     ]
    },
    {
     "data": {
      "text/html": [
       "<pre style=\"white-space:pre;overflow-x:auto;line-height:normal;font-family:Menlo,'DejaVu Sans Mono',consolas,'Courier New',monospace\">22:33:00.412 | <span style=\"color: #008080; text-decoration-color: #008080\">INFO</span>    | Flow run<span style=\"color: #800080; text-decoration-color: #800080\"> 'khaki-bat'</span> - Created task run 'process_file-143' for task 'process_file'\n",
       "</pre>\n"
      ],
      "text/plain": [
       "22:33:00.412 | \u001b[36mINFO\u001b[0m    | Flow run\u001b[35m 'khaki-bat'\u001b[0m - Created task run 'process_file-143' for task 'process_file'\n"
      ]
     },
     "metadata": {},
     "output_type": "display_data"
    },
    {
     "data": {
      "text/html": [
       "<pre style=\"white-space:pre;overflow-x:auto;line-height:normal;font-family:Menlo,'DejaVu Sans Mono',consolas,'Courier New',monospace\">22:33:00.414 | <span style=\"color: #008080; text-decoration-color: #008080\">INFO</span>    | Flow run<span style=\"color: #800080; text-decoration-color: #800080\"> 'khaki-bat'</span> - Executing 'process_file-143' immediately...\n",
       "</pre>\n"
      ],
      "text/plain": [
       "22:33:00.414 | \u001b[36mINFO\u001b[0m    | Flow run\u001b[35m 'khaki-bat'\u001b[0m - Executing 'process_file-143' immediately...\n"
      ]
     },
     "metadata": {},
     "output_type": "display_data"
    },
    {
     "data": {
      "text/html": [
       "<pre style=\"white-space:pre;overflow-x:auto;line-height:normal;font-family:Menlo,'DejaVu Sans Mono',consolas,'Courier New',monospace\">22:33:00.605 | <span style=\"color: #008080; text-decoration-color: #008080\">INFO</span>    | Task run 'process_file-143' - Finished in state <span style=\"color: #008000; text-decoration-color: #008000\">Completed</span>()\n",
       "</pre>\n"
      ],
      "text/plain": [
       "22:33:00.605 | \u001b[36mINFO\u001b[0m    | Task run 'process_file-143' - Finished in state \u001b[32mCompleted\u001b[0m()\n"
      ]
     },
     "metadata": {},
     "output_type": "display_data"
    },
    {
     "data": {
      "text/html": [
       "<pre style=\"white-space:pre;overflow-x:auto;line-height:normal;font-family:Menlo,'DejaVu Sans Mono',consolas,'Courier New',monospace\">22:33:00.666 | <span style=\"color: #008080; text-decoration-color: #008080\">INFO</span>    | Flow run<span style=\"color: #800080; text-decoration-color: #800080\"> 'khaki-bat'</span> - Created task run 'write_gcs-143' for task 'write_gcs'\n",
       "</pre>\n"
      ],
      "text/plain": [
       "22:33:00.666 | \u001b[36mINFO\u001b[0m    | Flow run\u001b[35m 'khaki-bat'\u001b[0m - Created task run 'write_gcs-143' for task 'write_gcs'\n"
      ]
     },
     "metadata": {},
     "output_type": "display_data"
    },
    {
     "data": {
      "text/html": [
       "<pre style=\"white-space:pre;overflow-x:auto;line-height:normal;font-family:Menlo,'DejaVu Sans Mono',consolas,'Courier New',monospace\">22:33:00.668 | <span style=\"color: #008080; text-decoration-color: #008080\">INFO</span>    | Flow run<span style=\"color: #800080; text-decoration-color: #800080\"> 'khaki-bat'</span> - Executing 'write_gcs-143' immediately...\n",
       "</pre>\n"
      ],
      "text/plain": [
       "22:33:00.668 | \u001b[36mINFO\u001b[0m    | Flow run\u001b[35m 'khaki-bat'\u001b[0m - Executing 'write_gcs-143' immediately...\n"
      ]
     },
     "metadata": {},
     "output_type": "display_data"
    },
    {
     "name": "stdout",
     "output_type": "stream",
     "text": [
      "Csv file size is 2509085\n"
     ]
    },
    {
     "data": {
      "text/html": [
       "<pre style=\"white-space:pre;overflow-x:auto;line-height:normal;font-family:Menlo,'DejaVu Sans Mono',consolas,'Courier New',monospace\">22:33:02.946 | <span style=\"color: #008080; text-decoration-color: #008080\">INFO</span>    | Task run 'write_gcs-143' - Finished in state <span style=\"color: #008000; text-decoration-color: #008000\">Completed</span>()\n",
       "</pre>\n"
      ],
      "text/plain": [
       "22:33:02.946 | \u001b[36mINFO\u001b[0m    | Task run 'write_gcs-143' - Finished in state \u001b[32mCompleted\u001b[0m()\n"
      ]
     },
     "metadata": {},
     "output_type": "display_data"
    },
    {
     "name": "stdout",
     "output_type": "stream",
     "text": [
      "catch_19891.csv\n"
     ]
    },
    {
     "data": {
      "text/html": [
       "<pre style=\"white-space:pre;overflow-x:auto;line-height:normal;font-family:Menlo,'DejaVu Sans Mono',consolas,'Courier New',monospace\">22:33:03.009 | <span style=\"color: #008080; text-decoration-color: #008080\">INFO</span>    | Flow run<span style=\"color: #800080; text-decoration-color: #800080\"> 'khaki-bat'</span> - Created task run 'process_file-144' for task 'process_file'\n",
       "</pre>\n"
      ],
      "text/plain": [
       "22:33:03.009 | \u001b[36mINFO\u001b[0m    | Flow run\u001b[35m 'khaki-bat'\u001b[0m - Created task run 'process_file-144' for task 'process_file'\n"
      ]
     },
     "metadata": {},
     "output_type": "display_data"
    },
    {
     "data": {
      "text/html": [
       "<pre style=\"white-space:pre;overflow-x:auto;line-height:normal;font-family:Menlo,'DejaVu Sans Mono',consolas,'Courier New',monospace\">22:33:03.014 | <span style=\"color: #008080; text-decoration-color: #008080\">INFO</span>    | Flow run<span style=\"color: #800080; text-decoration-color: #800080\"> 'khaki-bat'</span> - Executing 'process_file-144' immediately...\n",
       "</pre>\n"
      ],
      "text/plain": [
       "22:33:03.014 | \u001b[36mINFO\u001b[0m    | Flow run\u001b[35m 'khaki-bat'\u001b[0m - Executing 'process_file-144' immediately...\n"
      ]
     },
     "metadata": {},
     "output_type": "display_data"
    },
    {
     "data": {
      "text/html": [
       "<pre style=\"white-space:pre;overflow-x:auto;line-height:normal;font-family:Menlo,'DejaVu Sans Mono',consolas,'Courier New',monospace\">22:33:03.576 | <span style=\"color: #008080; text-decoration-color: #008080\">INFO</span>    | Task run 'process_file-144' - Finished in state <span style=\"color: #008000; text-decoration-color: #008000\">Completed</span>()\n",
       "</pre>\n"
      ],
      "text/plain": [
       "22:33:03.576 | \u001b[36mINFO\u001b[0m    | Task run 'process_file-144' - Finished in state \u001b[32mCompleted\u001b[0m()\n"
      ]
     },
     "metadata": {},
     "output_type": "display_data"
    },
    {
     "data": {
      "text/html": [
       "<pre style=\"white-space:pre;overflow-x:auto;line-height:normal;font-family:Menlo,'DejaVu Sans Mono',consolas,'Courier New',monospace\">22:33:03.644 | <span style=\"color: #008080; text-decoration-color: #008080\">INFO</span>    | Flow run<span style=\"color: #800080; text-decoration-color: #800080\"> 'khaki-bat'</span> - Created task run 'write_gcs-144' for task 'write_gcs'\n",
       "</pre>\n"
      ],
      "text/plain": [
       "22:33:03.644 | \u001b[36mINFO\u001b[0m    | Flow run\u001b[35m 'khaki-bat'\u001b[0m - Created task run 'write_gcs-144' for task 'write_gcs'\n"
      ]
     },
     "metadata": {},
     "output_type": "display_data"
    },
    {
     "data": {
      "text/html": [
       "<pre style=\"white-space:pre;overflow-x:auto;line-height:normal;font-family:Menlo,'DejaVu Sans Mono',consolas,'Courier New',monospace\">22:33:03.647 | <span style=\"color: #008080; text-decoration-color: #008080\">INFO</span>    | Flow run<span style=\"color: #800080; text-decoration-color: #800080\"> 'khaki-bat'</span> - Executing 'write_gcs-144' immediately...\n",
       "</pre>\n"
      ],
      "text/plain": [
       "22:33:03.647 | \u001b[36mINFO\u001b[0m    | Flow run\u001b[35m 'khaki-bat'\u001b[0m - Executing 'write_gcs-144' immediately...\n"
      ]
     },
     "metadata": {},
     "output_type": "display_data"
    },
    {
     "name": "stdout",
     "output_type": "stream",
     "text": [
      "Csv file size is 744980\n"
     ]
    },
    {
     "data": {
      "text/html": [
       "<pre style=\"white-space:pre;overflow-x:auto;line-height:normal;font-family:Menlo,'DejaVu Sans Mono',consolas,'Courier New',monospace\">22:33:04.750 | <span style=\"color: #008080; text-decoration-color: #008080\">INFO</span>    | Task run 'write_gcs-144' - Finished in state <span style=\"color: #008000; text-decoration-color: #008000\">Completed</span>()\n",
       "</pre>\n"
      ],
      "text/plain": [
       "22:33:04.750 | \u001b[36mINFO\u001b[0m    | Task run 'write_gcs-144' - Finished in state \u001b[32mCompleted\u001b[0m()\n"
      ]
     },
     "metadata": {},
     "output_type": "display_data"
    },
    {
     "name": "stdout",
     "output_type": "stream",
     "text": [
      "trip_19891.csv\n"
     ]
    },
    {
     "data": {
      "text/html": [
       "<pre style=\"white-space:pre;overflow-x:auto;line-height:normal;font-family:Menlo,'DejaVu Sans Mono',consolas,'Courier New',monospace\">22:33:04.823 | <span style=\"color: #008080; text-decoration-color: #008080\">INFO</span>    | Flow run<span style=\"color: #800080; text-decoration-color: #800080\"> 'khaki-bat'</span> - Created task run 'process_file-145' for task 'process_file'\n",
       "</pre>\n"
      ],
      "text/plain": [
       "22:33:04.823 | \u001b[36mINFO\u001b[0m    | Flow run\u001b[35m 'khaki-bat'\u001b[0m - Created task run 'process_file-145' for task 'process_file'\n"
      ]
     },
     "metadata": {},
     "output_type": "display_data"
    },
    {
     "data": {
      "text/html": [
       "<pre style=\"white-space:pre;overflow-x:auto;line-height:normal;font-family:Menlo,'DejaVu Sans Mono',consolas,'Courier New',monospace\">22:33:04.826 | <span style=\"color: #008080; text-decoration-color: #008080\">INFO</span>    | Flow run<span style=\"color: #800080; text-decoration-color: #800080\"> 'khaki-bat'</span> - Executing 'process_file-145' immediately...\n",
       "</pre>\n"
      ],
      "text/plain": [
       "22:33:04.826 | \u001b[36mINFO\u001b[0m    | Flow run\u001b[35m 'khaki-bat'\u001b[0m - Executing 'process_file-145' immediately...\n"
      ]
     },
     "metadata": {},
     "output_type": "display_data"
    },
    {
     "data": {
      "text/html": [
       "<pre style=\"white-space:pre;overflow-x:auto;line-height:normal;font-family:Menlo,'DejaVu Sans Mono',consolas,'Courier New',monospace\">22:33:05.001 | <span style=\"color: #008080; text-decoration-color: #008080\">INFO</span>    | Task run 'process_file-145' - Finished in state <span style=\"color: #008000; text-decoration-color: #008000\">Completed</span>()\n",
       "</pre>\n"
      ],
      "text/plain": [
       "22:33:05.001 | \u001b[36mINFO\u001b[0m    | Task run 'process_file-145' - Finished in state \u001b[32mCompleted\u001b[0m()\n"
      ]
     },
     "metadata": {},
     "output_type": "display_data"
    },
    {
     "data": {
      "text/html": [
       "<pre style=\"white-space:pre;overflow-x:auto;line-height:normal;font-family:Menlo,'DejaVu Sans Mono',consolas,'Courier New',monospace\">22:33:05.066 | <span style=\"color: #008080; text-decoration-color: #008080\">INFO</span>    | Flow run<span style=\"color: #800080; text-decoration-color: #800080\"> 'khaki-bat'</span> - Created task run 'write_gcs-145' for task 'write_gcs'\n",
       "</pre>\n"
      ],
      "text/plain": [
       "22:33:05.066 | \u001b[36mINFO\u001b[0m    | Flow run\u001b[35m 'khaki-bat'\u001b[0m - Created task run 'write_gcs-145' for task 'write_gcs'\n"
      ]
     },
     "metadata": {},
     "output_type": "display_data"
    },
    {
     "data": {
      "text/html": [
       "<pre style=\"white-space:pre;overflow-x:auto;line-height:normal;font-family:Menlo,'DejaVu Sans Mono',consolas,'Courier New',monospace\">22:33:05.069 | <span style=\"color: #008080; text-decoration-color: #008080\">INFO</span>    | Flow run<span style=\"color: #800080; text-decoration-color: #800080\"> 'khaki-bat'</span> - Executing 'write_gcs-145' immediately...\n",
       "</pre>\n"
      ],
      "text/plain": [
       "22:33:05.069 | \u001b[36mINFO\u001b[0m    | Flow run\u001b[35m 'khaki-bat'\u001b[0m - Executing 'write_gcs-145' immediately...\n"
      ]
     },
     "metadata": {},
     "output_type": "display_data"
    },
    {
     "name": "stdout",
     "output_type": "stream",
     "text": [
      "Csv file size is 775687\n"
     ]
    },
    {
     "data": {
      "text/html": [
       "<pre style=\"white-space:pre;overflow-x:auto;line-height:normal;font-family:Menlo,'DejaVu Sans Mono',consolas,'Courier New',monospace\">22:33:06.282 | <span style=\"color: #008080; text-decoration-color: #008080\">INFO</span>    | Task run 'write_gcs-145' - Finished in state <span style=\"color: #008000; text-decoration-color: #008000\">Completed</span>()\n",
       "</pre>\n"
      ],
      "text/plain": [
       "22:33:06.282 | \u001b[36mINFO\u001b[0m    | Task run 'write_gcs-145' - Finished in state \u001b[32mCompleted\u001b[0m()\n"
      ]
     },
     "metadata": {},
     "output_type": "display_data"
    },
    {
     "name": "stdout",
     "output_type": "stream",
     "text": [
      "size_19891.csv\n"
     ]
    },
    {
     "data": {
      "text/html": [
       "<pre style=\"white-space:pre;overflow-x:auto;line-height:normal;font-family:Menlo,'DejaVu Sans Mono',consolas,'Courier New',monospace\">22:33:06.356 | <span style=\"color: #008080; text-decoration-color: #008080\">INFO</span>    | Flow run<span style=\"color: #800080; text-decoration-color: #800080\"> 'khaki-bat'</span> - Created task run 'process_file-146' for task 'process_file'\n",
       "</pre>\n"
      ],
      "text/plain": [
       "22:33:06.356 | \u001b[36mINFO\u001b[0m    | Flow run\u001b[35m 'khaki-bat'\u001b[0m - Created task run 'process_file-146' for task 'process_file'\n"
      ]
     },
     "metadata": {},
     "output_type": "display_data"
    },
    {
     "data": {
      "text/html": [
       "<pre style=\"white-space:pre;overflow-x:auto;line-height:normal;font-family:Menlo,'DejaVu Sans Mono',consolas,'Courier New',monospace\">22:33:06.361 | <span style=\"color: #008080; text-decoration-color: #008080\">INFO</span>    | Flow run<span style=\"color: #800080; text-decoration-color: #800080\"> 'khaki-bat'</span> - Executing 'process_file-146' immediately...\n",
       "</pre>\n"
      ],
      "text/plain": [
       "22:33:06.361 | \u001b[36mINFO\u001b[0m    | Flow run\u001b[35m 'khaki-bat'\u001b[0m - Executing 'process_file-146' immediately...\n"
      ]
     },
     "metadata": {},
     "output_type": "display_data"
    },
    {
     "data": {
      "text/html": [
       "<pre style=\"white-space:pre;overflow-x:auto;line-height:normal;font-family:Menlo,'DejaVu Sans Mono',consolas,'Courier New',monospace\">22:33:06.557 | <span style=\"color: #008080; text-decoration-color: #008080\">INFO</span>    | Task run 'process_file-146' - Finished in state <span style=\"color: #008000; text-decoration-color: #008000\">Completed</span>()\n",
       "</pre>\n"
      ],
      "text/plain": [
       "22:33:06.557 | \u001b[36mINFO\u001b[0m    | Task run 'process_file-146' - Finished in state \u001b[32mCompleted\u001b[0m()\n"
      ]
     },
     "metadata": {},
     "output_type": "display_data"
    },
    {
     "data": {
      "text/html": [
       "<pre style=\"white-space:pre;overflow-x:auto;line-height:normal;font-family:Menlo,'DejaVu Sans Mono',consolas,'Courier New',monospace\">22:33:06.623 | <span style=\"color: #008080; text-decoration-color: #008080\">INFO</span>    | Flow run<span style=\"color: #800080; text-decoration-color: #800080\"> 'khaki-bat'</span> - Created task run 'write_gcs-146' for task 'write_gcs'\n",
       "</pre>\n"
      ],
      "text/plain": [
       "22:33:06.623 | \u001b[36mINFO\u001b[0m    | Flow run\u001b[35m 'khaki-bat'\u001b[0m - Created task run 'write_gcs-146' for task 'write_gcs'\n"
      ]
     },
     "metadata": {},
     "output_type": "display_data"
    },
    {
     "data": {
      "text/html": [
       "<pre style=\"white-space:pre;overflow-x:auto;line-height:normal;font-family:Menlo,'DejaVu Sans Mono',consolas,'Courier New',monospace\">22:33:06.626 | <span style=\"color: #008080; text-decoration-color: #008080\">INFO</span>    | Flow run<span style=\"color: #800080; text-decoration-color: #800080\"> 'khaki-bat'</span> - Executing 'write_gcs-146' immediately...\n",
       "</pre>\n"
      ],
      "text/plain": [
       "22:33:06.626 | \u001b[36mINFO\u001b[0m    | Flow run\u001b[35m 'khaki-bat'\u001b[0m - Executing 'write_gcs-146' immediately...\n"
      ]
     },
     "metadata": {},
     "output_type": "display_data"
    },
    {
     "name": "stdout",
     "output_type": "stream",
     "text": [
      "Csv file size is 759322\n"
     ]
    },
    {
     "data": {
      "text/html": [
       "<pre style=\"white-space:pre;overflow-x:auto;line-height:normal;font-family:Menlo,'DejaVu Sans Mono',consolas,'Courier New',monospace\">22:33:07.775 | <span style=\"color: #008080; text-decoration-color: #008080\">INFO</span>    | Task run 'write_gcs-146' - Finished in state <span style=\"color: #008000; text-decoration-color: #008000\">Completed</span>()\n",
       "</pre>\n"
      ],
      "text/plain": [
       "22:33:07.775 | \u001b[36mINFO\u001b[0m    | Task run 'write_gcs-146' - Finished in state \u001b[32mCompleted\u001b[0m()\n"
      ]
     },
     "metadata": {},
     "output_type": "display_data"
    },
    {
     "name": "stdout",
     "output_type": "stream",
     "text": [
      "catch_19892.csv\n"
     ]
    },
    {
     "data": {
      "text/html": [
       "<pre style=\"white-space:pre;overflow-x:auto;line-height:normal;font-family:Menlo,'DejaVu Sans Mono',consolas,'Courier New',monospace\">22:33:07.846 | <span style=\"color: #008080; text-decoration-color: #008080\">INFO</span>    | Flow run<span style=\"color: #800080; text-decoration-color: #800080\"> 'khaki-bat'</span> - Created task run 'process_file-147' for task 'process_file'\n",
       "</pre>\n"
      ],
      "text/plain": [
       "22:33:07.846 | \u001b[36mINFO\u001b[0m    | Flow run\u001b[35m 'khaki-bat'\u001b[0m - Created task run 'process_file-147' for task 'process_file'\n"
      ]
     },
     "metadata": {},
     "output_type": "display_data"
    },
    {
     "data": {
      "text/html": [
       "<pre style=\"white-space:pre;overflow-x:auto;line-height:normal;font-family:Menlo,'DejaVu Sans Mono',consolas,'Courier New',monospace\">22:33:07.849 | <span style=\"color: #008080; text-decoration-color: #008080\">INFO</span>    | Flow run<span style=\"color: #800080; text-decoration-color: #800080\"> 'khaki-bat'</span> - Executing 'process_file-147' immediately...\n",
       "</pre>\n"
      ],
      "text/plain": [
       "22:33:07.849 | \u001b[36mINFO\u001b[0m    | Flow run\u001b[35m 'khaki-bat'\u001b[0m - Executing 'process_file-147' immediately...\n"
      ]
     },
     "metadata": {},
     "output_type": "display_data"
    },
    {
     "data": {
      "text/html": [
       "<pre style=\"white-space:pre;overflow-x:auto;line-height:normal;font-family:Menlo,'DejaVu Sans Mono',consolas,'Courier New',monospace\">22:33:08.026 | <span style=\"color: #008080; text-decoration-color: #008080\">INFO</span>    | Task run 'process_file-147' - Finished in state <span style=\"color: #008000; text-decoration-color: #008000\">Completed</span>()\n",
       "</pre>\n"
      ],
      "text/plain": [
       "22:33:08.026 | \u001b[36mINFO\u001b[0m    | Task run 'process_file-147' - Finished in state \u001b[32mCompleted\u001b[0m()\n"
      ]
     },
     "metadata": {},
     "output_type": "display_data"
    },
    {
     "data": {
      "text/html": [
       "<pre style=\"white-space:pre;overflow-x:auto;line-height:normal;font-family:Menlo,'DejaVu Sans Mono',consolas,'Courier New',monospace\">22:33:08.093 | <span style=\"color: #008080; text-decoration-color: #008080\">INFO</span>    | Flow run<span style=\"color: #800080; text-decoration-color: #800080\"> 'khaki-bat'</span> - Created task run 'write_gcs-147' for task 'write_gcs'\n",
       "</pre>\n"
      ],
      "text/plain": [
       "22:33:08.093 | \u001b[36mINFO\u001b[0m    | Flow run\u001b[35m 'khaki-bat'\u001b[0m - Created task run 'write_gcs-147' for task 'write_gcs'\n"
      ]
     },
     "metadata": {},
     "output_type": "display_data"
    },
    {
     "data": {
      "text/html": [
       "<pre style=\"white-space:pre;overflow-x:auto;line-height:normal;font-family:Menlo,'DejaVu Sans Mono',consolas,'Courier New',monospace\">22:33:08.095 | <span style=\"color: #008080; text-decoration-color: #008080\">INFO</span>    | Flow run<span style=\"color: #800080; text-decoration-color: #800080\"> 'khaki-bat'</span> - Executing 'write_gcs-147' immediately...\n",
       "</pre>\n"
      ],
      "text/plain": [
       "22:33:08.095 | \u001b[36mINFO\u001b[0m    | Flow run\u001b[35m 'khaki-bat'\u001b[0m - Executing 'write_gcs-147' immediately...\n"
      ]
     },
     "metadata": {},
     "output_type": "display_data"
    },
    {
     "name": "stdout",
     "output_type": "stream",
     "text": [
      "Csv file size is 1479496\n"
     ]
    },
    {
     "data": {
      "text/html": [
       "<pre style=\"white-space:pre;overflow-x:auto;line-height:normal;font-family:Menlo,'DejaVu Sans Mono',consolas,'Courier New',monospace\">22:33:09.675 | <span style=\"color: #008080; text-decoration-color: #008080\">INFO</span>    | Task run 'write_gcs-147' - Finished in state <span style=\"color: #008000; text-decoration-color: #008000\">Completed</span>()\n",
       "</pre>\n"
      ],
      "text/plain": [
       "22:33:09.675 | \u001b[36mINFO\u001b[0m    | Task run 'write_gcs-147' - Finished in state \u001b[32mCompleted\u001b[0m()\n"
      ]
     },
     "metadata": {},
     "output_type": "display_data"
    },
    {
     "name": "stdout",
     "output_type": "stream",
     "text": [
      "trip_19892.csv\n"
     ]
    },
    {
     "data": {
      "text/html": [
       "<pre style=\"white-space:pre;overflow-x:auto;line-height:normal;font-family:Menlo,'DejaVu Sans Mono',consolas,'Courier New',monospace\">22:33:09.740 | <span style=\"color: #008080; text-decoration-color: #008080\">INFO</span>    | Flow run<span style=\"color: #800080; text-decoration-color: #800080\"> 'khaki-bat'</span> - Created task run 'process_file-148' for task 'process_file'\n",
       "</pre>\n"
      ],
      "text/plain": [
       "22:33:09.740 | \u001b[36mINFO\u001b[0m    | Flow run\u001b[35m 'khaki-bat'\u001b[0m - Created task run 'process_file-148' for task 'process_file'\n"
      ]
     },
     "metadata": {},
     "output_type": "display_data"
    },
    {
     "data": {
      "text/html": [
       "<pre style=\"white-space:pre;overflow-x:auto;line-height:normal;font-family:Menlo,'DejaVu Sans Mono',consolas,'Courier New',monospace\">22:33:09.744 | <span style=\"color: #008080; text-decoration-color: #008080\">INFO</span>    | Flow run<span style=\"color: #800080; text-decoration-color: #800080\"> 'khaki-bat'</span> - Executing 'process_file-148' immediately...\n",
       "</pre>\n"
      ],
      "text/plain": [
       "22:33:09.744 | \u001b[36mINFO\u001b[0m    | Flow run\u001b[35m 'khaki-bat'\u001b[0m - Executing 'process_file-148' immediately...\n"
      ]
     },
     "metadata": {},
     "output_type": "display_data"
    },
    {
     "data": {
      "text/html": [
       "<pre style=\"white-space:pre;overflow-x:auto;line-height:normal;font-family:Menlo,'DejaVu Sans Mono',consolas,'Courier New',monospace\">22:33:09.956 | <span style=\"color: #008080; text-decoration-color: #008080\">INFO</span>    | Task run 'process_file-148' - Finished in state <span style=\"color: #008000; text-decoration-color: #008000\">Completed</span>()\n",
       "</pre>\n"
      ],
      "text/plain": [
       "22:33:09.956 | \u001b[36mINFO\u001b[0m    | Task run 'process_file-148' - Finished in state \u001b[32mCompleted\u001b[0m()\n"
      ]
     },
     "metadata": {},
     "output_type": "display_data"
    },
    {
     "data": {
      "text/html": [
       "<pre style=\"white-space:pre;overflow-x:auto;line-height:normal;font-family:Menlo,'DejaVu Sans Mono',consolas,'Courier New',monospace\">22:33:10.027 | <span style=\"color: #008080; text-decoration-color: #008080\">INFO</span>    | Flow run<span style=\"color: #800080; text-decoration-color: #800080\"> 'khaki-bat'</span> - Created task run 'write_gcs-148' for task 'write_gcs'\n",
       "</pre>\n"
      ],
      "text/plain": [
       "22:33:10.027 | \u001b[36mINFO\u001b[0m    | Flow run\u001b[35m 'khaki-bat'\u001b[0m - Created task run 'write_gcs-148' for task 'write_gcs'\n"
      ]
     },
     "metadata": {},
     "output_type": "display_data"
    },
    {
     "data": {
      "text/html": [
       "<pre style=\"white-space:pre;overflow-x:auto;line-height:normal;font-family:Menlo,'DejaVu Sans Mono',consolas,'Courier New',monospace\">22:33:10.030 | <span style=\"color: #008080; text-decoration-color: #008080\">INFO</span>    | Flow run<span style=\"color: #800080; text-decoration-color: #800080\"> 'khaki-bat'</span> - Executing 'write_gcs-148' immediately...\n",
       "</pre>\n"
      ],
      "text/plain": [
       "22:33:10.030 | \u001b[36mINFO\u001b[0m    | Flow run\u001b[35m 'khaki-bat'\u001b[0m - Executing 'write_gcs-148' immediately...\n"
      ]
     },
     "metadata": {},
     "output_type": "display_data"
    },
    {
     "name": "stdout",
     "output_type": "stream",
     "text": [
      "Csv file size is 1747974\n"
     ]
    },
    {
     "data": {
      "text/html": [
       "<pre style=\"white-space:pre;overflow-x:auto;line-height:normal;font-family:Menlo,'DejaVu Sans Mono',consolas,'Courier New',monospace\">22:33:11.831 | <span style=\"color: #008080; text-decoration-color: #008080\">INFO</span>    | Task run 'write_gcs-148' - Finished in state <span style=\"color: #008000; text-decoration-color: #008000\">Completed</span>()\n",
       "</pre>\n"
      ],
      "text/plain": [
       "22:33:11.831 | \u001b[36mINFO\u001b[0m    | Task run 'write_gcs-148' - Finished in state \u001b[32mCompleted\u001b[0m()\n"
      ]
     },
     "metadata": {},
     "output_type": "display_data"
    },
    {
     "name": "stdout",
     "output_type": "stream",
     "text": [
      "size_19892.csv\n"
     ]
    },
    {
     "data": {
      "text/html": [
       "<pre style=\"white-space:pre;overflow-x:auto;line-height:normal;font-family:Menlo,'DejaVu Sans Mono',consolas,'Courier New',monospace\">22:33:11.900 | <span style=\"color: #008080; text-decoration-color: #008080\">INFO</span>    | Flow run<span style=\"color: #800080; text-decoration-color: #800080\"> 'khaki-bat'</span> - Created task run 'process_file-149' for task 'process_file'\n",
       "</pre>\n"
      ],
      "text/plain": [
       "22:33:11.900 | \u001b[36mINFO\u001b[0m    | Flow run\u001b[35m 'khaki-bat'\u001b[0m - Created task run 'process_file-149' for task 'process_file'\n"
      ]
     },
     "metadata": {},
     "output_type": "display_data"
    },
    {
     "data": {
      "text/html": [
       "<pre style=\"white-space:pre;overflow-x:auto;line-height:normal;font-family:Menlo,'DejaVu Sans Mono',consolas,'Courier New',monospace\">22:33:11.902 | <span style=\"color: #008080; text-decoration-color: #008080\">INFO</span>    | Flow run<span style=\"color: #800080; text-decoration-color: #800080\"> 'khaki-bat'</span> - Executing 'process_file-149' immediately...\n",
       "</pre>\n"
      ],
      "text/plain": [
       "22:33:11.902 | \u001b[36mINFO\u001b[0m    | Flow run\u001b[35m 'khaki-bat'\u001b[0m - Executing 'process_file-149' immediately...\n"
      ]
     },
     "metadata": {},
     "output_type": "display_data"
    },
    {
     "data": {
      "text/html": [
       "<pre style=\"white-space:pre;overflow-x:auto;line-height:normal;font-family:Menlo,'DejaVu Sans Mono',consolas,'Courier New',monospace\">22:33:12.095 | <span style=\"color: #008080; text-decoration-color: #008080\">INFO</span>    | Task run 'process_file-149' - Finished in state <span style=\"color: #008000; text-decoration-color: #008000\">Completed</span>()\n",
       "</pre>\n"
      ],
      "text/plain": [
       "22:33:12.095 | \u001b[36mINFO\u001b[0m    | Task run 'process_file-149' - Finished in state \u001b[32mCompleted\u001b[0m()\n"
      ]
     },
     "metadata": {},
     "output_type": "display_data"
    },
    {
     "data": {
      "text/html": [
       "<pre style=\"white-space:pre;overflow-x:auto;line-height:normal;font-family:Menlo,'DejaVu Sans Mono',consolas,'Courier New',monospace\">22:33:12.164 | <span style=\"color: #008080; text-decoration-color: #008080\">INFO</span>    | Flow run<span style=\"color: #800080; text-decoration-color: #800080\"> 'khaki-bat'</span> - Created task run 'write_gcs-149' for task 'write_gcs'\n",
       "</pre>\n"
      ],
      "text/plain": [
       "22:33:12.164 | \u001b[36mINFO\u001b[0m    | Flow run\u001b[35m 'khaki-bat'\u001b[0m - Created task run 'write_gcs-149' for task 'write_gcs'\n"
      ]
     },
     "metadata": {},
     "output_type": "display_data"
    },
    {
     "data": {
      "text/html": [
       "<pre style=\"white-space:pre;overflow-x:auto;line-height:normal;font-family:Menlo,'DejaVu Sans Mono',consolas,'Courier New',monospace\">22:33:12.167 | <span style=\"color: #008080; text-decoration-color: #008080\">INFO</span>    | Flow run<span style=\"color: #800080; text-decoration-color: #800080\"> 'khaki-bat'</span> - Executing 'write_gcs-149' immediately...\n",
       "</pre>\n"
      ],
      "text/plain": [
       "22:33:12.167 | \u001b[36mINFO\u001b[0m    | Flow run\u001b[35m 'khaki-bat'\u001b[0m - Executing 'write_gcs-149' immediately...\n"
      ]
     },
     "metadata": {},
     "output_type": "display_data"
    },
    {
     "name": "stdout",
     "output_type": "stream",
     "text": [
      "Csv file size is 1699396\n"
     ]
    },
    {
     "data": {
      "text/html": [
       "<pre style=\"white-space:pre;overflow-x:auto;line-height:normal;font-family:Menlo,'DejaVu Sans Mono',consolas,'Courier New',monospace\">22:33:14.524 | <span style=\"color: #008080; text-decoration-color: #008080\">INFO</span>    | Task run 'write_gcs-149' - Finished in state <span style=\"color: #008000; text-decoration-color: #008000\">Completed</span>()\n",
       "</pre>\n"
      ],
      "text/plain": [
       "22:33:14.524 | \u001b[36mINFO\u001b[0m    | Task run 'write_gcs-149' - Finished in state \u001b[32mCompleted\u001b[0m()\n"
      ]
     },
     "metadata": {},
     "output_type": "display_data"
    },
    {
     "name": "stdout",
     "output_type": "stream",
     "text": [
      "catch_19893.csv\n"
     ]
    },
    {
     "data": {
      "text/html": [
       "<pre style=\"white-space:pre;overflow-x:auto;line-height:normal;font-family:Menlo,'DejaVu Sans Mono',consolas,'Courier New',monospace\">22:33:14.587 | <span style=\"color: #008080; text-decoration-color: #008080\">INFO</span>    | Flow run<span style=\"color: #800080; text-decoration-color: #800080\"> 'khaki-bat'</span> - Created task run 'process_file-150' for task 'process_file'\n",
       "</pre>\n"
      ],
      "text/plain": [
       "22:33:14.587 | \u001b[36mINFO\u001b[0m    | Flow run\u001b[35m 'khaki-bat'\u001b[0m - Created task run 'process_file-150' for task 'process_file'\n"
      ]
     },
     "metadata": {},
     "output_type": "display_data"
    },
    {
     "data": {
      "text/html": [
       "<pre style=\"white-space:pre;overflow-x:auto;line-height:normal;font-family:Menlo,'DejaVu Sans Mono',consolas,'Courier New',monospace\">22:33:14.591 | <span style=\"color: #008080; text-decoration-color: #008080\">INFO</span>    | Flow run<span style=\"color: #800080; text-decoration-color: #800080\"> 'khaki-bat'</span> - Executing 'process_file-150' immediately...\n",
       "</pre>\n"
      ],
      "text/plain": [
       "22:33:14.591 | \u001b[36mINFO\u001b[0m    | Flow run\u001b[35m 'khaki-bat'\u001b[0m - Executing 'process_file-150' immediately...\n"
      ]
     },
     "metadata": {},
     "output_type": "display_data"
    },
    {
     "data": {
      "text/html": [
       "<pre style=\"white-space:pre;overflow-x:auto;line-height:normal;font-family:Menlo,'DejaVu Sans Mono',consolas,'Courier New',monospace\">22:33:14.814 | <span style=\"color: #008080; text-decoration-color: #008080\">INFO</span>    | Task run 'process_file-150' - Finished in state <span style=\"color: #008000; text-decoration-color: #008000\">Completed</span>()\n",
       "</pre>\n"
      ],
      "text/plain": [
       "22:33:14.814 | \u001b[36mINFO\u001b[0m    | Task run 'process_file-150' - Finished in state \u001b[32mCompleted\u001b[0m()\n"
      ]
     },
     "metadata": {},
     "output_type": "display_data"
    },
    {
     "data": {
      "text/html": [
       "<pre style=\"white-space:pre;overflow-x:auto;line-height:normal;font-family:Menlo,'DejaVu Sans Mono',consolas,'Courier New',monospace\">22:33:14.883 | <span style=\"color: #008080; text-decoration-color: #008080\">INFO</span>    | Flow run<span style=\"color: #800080; text-decoration-color: #800080\"> 'khaki-bat'</span> - Created task run 'write_gcs-150' for task 'write_gcs'\n",
       "</pre>\n"
      ],
      "text/plain": [
       "22:33:14.883 | \u001b[36mINFO\u001b[0m    | Flow run\u001b[35m 'khaki-bat'\u001b[0m - Created task run 'write_gcs-150' for task 'write_gcs'\n"
      ]
     },
     "metadata": {},
     "output_type": "display_data"
    },
    {
     "data": {
      "text/html": [
       "<pre style=\"white-space:pre;overflow-x:auto;line-height:normal;font-family:Menlo,'DejaVu Sans Mono',consolas,'Courier New',monospace\">22:33:14.885 | <span style=\"color: #008080; text-decoration-color: #008080\">INFO</span>    | Flow run<span style=\"color: #800080; text-decoration-color: #800080\"> 'khaki-bat'</span> - Executing 'write_gcs-150' immediately...\n",
       "</pre>\n"
      ],
      "text/plain": [
       "22:33:14.885 | \u001b[36mINFO\u001b[0m    | Flow run\u001b[35m 'khaki-bat'\u001b[0m - Executing 'write_gcs-150' immediately...\n"
      ]
     },
     "metadata": {},
     "output_type": "display_data"
    },
    {
     "name": "stdout",
     "output_type": "stream",
     "text": [
      "Csv file size is 4051412\n"
     ]
    },
    {
     "data": {
      "text/html": [
       "<pre style=\"white-space:pre;overflow-x:auto;line-height:normal;font-family:Menlo,'DejaVu Sans Mono',consolas,'Courier New',monospace\">22:33:18.234 | <span style=\"color: #008080; text-decoration-color: #008080\">INFO</span>    | Task run 'write_gcs-150' - Finished in state <span style=\"color: #008000; text-decoration-color: #008000\">Completed</span>()\n",
       "</pre>\n"
      ],
      "text/plain": [
       "22:33:18.234 | \u001b[36mINFO\u001b[0m    | Task run 'write_gcs-150' - Finished in state \u001b[32mCompleted\u001b[0m()\n"
      ]
     },
     "metadata": {},
     "output_type": "display_data"
    },
    {
     "name": "stdout",
     "output_type": "stream",
     "text": [
      "trip_19893.csv\n"
     ]
    },
    {
     "data": {
      "text/html": [
       "<pre style=\"white-space:pre;overflow-x:auto;line-height:normal;font-family:Menlo,'DejaVu Sans Mono',consolas,'Courier New',monospace\">22:33:18.316 | <span style=\"color: #008080; text-decoration-color: #008080\">INFO</span>    | Flow run<span style=\"color: #800080; text-decoration-color: #800080\"> 'khaki-bat'</span> - Created task run 'process_file-151' for task 'process_file'\n",
       "</pre>\n"
      ],
      "text/plain": [
       "22:33:18.316 | \u001b[36mINFO\u001b[0m    | Flow run\u001b[35m 'khaki-bat'\u001b[0m - Created task run 'process_file-151' for task 'process_file'\n"
      ]
     },
     "metadata": {},
     "output_type": "display_data"
    },
    {
     "data": {
      "text/html": [
       "<pre style=\"white-space:pre;overflow-x:auto;line-height:normal;font-family:Menlo,'DejaVu Sans Mono',consolas,'Courier New',monospace\">22:33:18.321 | <span style=\"color: #008080; text-decoration-color: #008080\">INFO</span>    | Flow run<span style=\"color: #800080; text-decoration-color: #800080\"> 'khaki-bat'</span> - Executing 'process_file-151' immediately...\n",
       "</pre>\n"
      ],
      "text/plain": [
       "22:33:18.321 | \u001b[36mINFO\u001b[0m    | Flow run\u001b[35m 'khaki-bat'\u001b[0m - Executing 'process_file-151' immediately...\n"
      ]
     },
     "metadata": {},
     "output_type": "display_data"
    },
    {
     "data": {
      "text/html": [
       "<pre style=\"white-space:pre;overflow-x:auto;line-height:normal;font-family:Menlo,'DejaVu Sans Mono',consolas,'Courier New',monospace\">22:33:18.547 | <span style=\"color: #008080; text-decoration-color: #008080\">INFO</span>    | Task run 'process_file-151' - Finished in state <span style=\"color: #008000; text-decoration-color: #008000\">Completed</span>()\n",
       "</pre>\n"
      ],
      "text/plain": [
       "22:33:18.547 | \u001b[36mINFO\u001b[0m    | Task run 'process_file-151' - Finished in state \u001b[32mCompleted\u001b[0m()\n"
      ]
     },
     "metadata": {},
     "output_type": "display_data"
    },
    {
     "data": {
      "text/html": [
       "<pre style=\"white-space:pre;overflow-x:auto;line-height:normal;font-family:Menlo,'DejaVu Sans Mono',consolas,'Courier New',monospace\">22:33:18.610 | <span style=\"color: #008080; text-decoration-color: #008080\">INFO</span>    | Flow run<span style=\"color: #800080; text-decoration-color: #800080\"> 'khaki-bat'</span> - Created task run 'write_gcs-151' for task 'write_gcs'\n",
       "</pre>\n"
      ],
      "text/plain": [
       "22:33:18.610 | \u001b[36mINFO\u001b[0m    | Flow run\u001b[35m 'khaki-bat'\u001b[0m - Created task run 'write_gcs-151' for task 'write_gcs'\n"
      ]
     },
     "metadata": {},
     "output_type": "display_data"
    },
    {
     "data": {
      "text/html": [
       "<pre style=\"white-space:pre;overflow-x:auto;line-height:normal;font-family:Menlo,'DejaVu Sans Mono',consolas,'Courier New',monospace\">22:33:18.613 | <span style=\"color: #008080; text-decoration-color: #008080\">INFO</span>    | Flow run<span style=\"color: #800080; text-decoration-color: #800080\"> 'khaki-bat'</span> - Executing 'write_gcs-151' immediately...\n",
       "</pre>\n"
      ],
      "text/plain": [
       "22:33:18.613 | \u001b[36mINFO\u001b[0m    | Flow run\u001b[35m 'khaki-bat'\u001b[0m - Executing 'write_gcs-151' immediately...\n"
      ]
     },
     "metadata": {},
     "output_type": "display_data"
    },
    {
     "name": "stdout",
     "output_type": "stream",
     "text": [
      "Csv file size is 4261318\n"
     ]
    },
    {
     "data": {
      "text/html": [
       "<pre style=\"white-space:pre;overflow-x:auto;line-height:normal;font-family:Menlo,'DejaVu Sans Mono',consolas,'Courier New',monospace\">22:33:22.742 | <span style=\"color: #008080; text-decoration-color: #008080\">INFO</span>    | Task run 'write_gcs-151' - Finished in state <span style=\"color: #008000; text-decoration-color: #008000\">Completed</span>()\n",
       "</pre>\n"
      ],
      "text/plain": [
       "22:33:22.742 | \u001b[36mINFO\u001b[0m    | Task run 'write_gcs-151' - Finished in state \u001b[32mCompleted\u001b[0m()\n"
      ]
     },
     "metadata": {},
     "output_type": "display_data"
    },
    {
     "name": "stdout",
     "output_type": "stream",
     "text": [
      "size_19893.csv\n"
     ]
    },
    {
     "data": {
      "text/html": [
       "<pre style=\"white-space:pre;overflow-x:auto;line-height:normal;font-family:Menlo,'DejaVu Sans Mono',consolas,'Courier New',monospace\">22:33:22.823 | <span style=\"color: #008080; text-decoration-color: #008080\">INFO</span>    | Flow run<span style=\"color: #800080; text-decoration-color: #800080\"> 'khaki-bat'</span> - Created task run 'process_file-152' for task 'process_file'\n",
       "</pre>\n"
      ],
      "text/plain": [
       "22:33:22.823 | \u001b[36mINFO\u001b[0m    | Flow run\u001b[35m 'khaki-bat'\u001b[0m - Created task run 'process_file-152' for task 'process_file'\n"
      ]
     },
     "metadata": {},
     "output_type": "display_data"
    },
    {
     "data": {
      "text/html": [
       "<pre style=\"white-space:pre;overflow-x:auto;line-height:normal;font-family:Menlo,'DejaVu Sans Mono',consolas,'Courier New',monospace\">22:33:22.826 | <span style=\"color: #008080; text-decoration-color: #008080\">INFO</span>    | Flow run<span style=\"color: #800080; text-decoration-color: #800080\"> 'khaki-bat'</span> - Executing 'process_file-152' immediately...\n",
       "</pre>\n"
      ],
      "text/plain": [
       "22:33:22.826 | \u001b[36mINFO\u001b[0m    | Flow run\u001b[35m 'khaki-bat'\u001b[0m - Executing 'process_file-152' immediately...\n"
      ]
     },
     "metadata": {},
     "output_type": "display_data"
    },
    {
     "data": {
      "text/html": [
       "<pre style=\"white-space:pre;overflow-x:auto;line-height:normal;font-family:Menlo,'DejaVu Sans Mono',consolas,'Courier New',monospace\">22:33:23.051 | <span style=\"color: #008080; text-decoration-color: #008080\">INFO</span>    | Task run 'process_file-152' - Finished in state <span style=\"color: #008000; text-decoration-color: #008000\">Completed</span>()\n",
       "</pre>\n"
      ],
      "text/plain": [
       "22:33:23.051 | \u001b[36mINFO\u001b[0m    | Task run 'process_file-152' - Finished in state \u001b[32mCompleted\u001b[0m()\n"
      ]
     },
     "metadata": {},
     "output_type": "display_data"
    },
    {
     "data": {
      "text/html": [
       "<pre style=\"white-space:pre;overflow-x:auto;line-height:normal;font-family:Menlo,'DejaVu Sans Mono',consolas,'Courier New',monospace\">22:33:23.123 | <span style=\"color: #008080; text-decoration-color: #008080\">INFO</span>    | Flow run<span style=\"color: #800080; text-decoration-color: #800080\"> 'khaki-bat'</span> - Created task run 'write_gcs-152' for task 'write_gcs'\n",
       "</pre>\n"
      ],
      "text/plain": [
       "22:33:23.123 | \u001b[36mINFO\u001b[0m    | Flow run\u001b[35m 'khaki-bat'\u001b[0m - Created task run 'write_gcs-152' for task 'write_gcs'\n"
      ]
     },
     "metadata": {},
     "output_type": "display_data"
    },
    {
     "data": {
      "text/html": [
       "<pre style=\"white-space:pre;overflow-x:auto;line-height:normal;font-family:Menlo,'DejaVu Sans Mono',consolas,'Courier New',monospace\">22:33:23.126 | <span style=\"color: #008080; text-decoration-color: #008080\">INFO</span>    | Flow run<span style=\"color: #800080; text-decoration-color: #800080\"> 'khaki-bat'</span> - Executing 'write_gcs-152' immediately...\n",
       "</pre>\n"
      ],
      "text/plain": [
       "22:33:23.126 | \u001b[36mINFO\u001b[0m    | Flow run\u001b[35m 'khaki-bat'\u001b[0m - Executing 'write_gcs-152' immediately...\n"
      ]
     },
     "metadata": {},
     "output_type": "display_data"
    },
    {
     "name": "stdout",
     "output_type": "stream",
     "text": [
      "Csv file size is 5228423\n"
     ]
    },
    {
     "data": {
      "text/html": [
       "<pre style=\"white-space:pre;overflow-x:auto;line-height:normal;font-family:Menlo,'DejaVu Sans Mono',consolas,'Courier New',monospace\">22:33:27.229 | <span style=\"color: #008080; text-decoration-color: #008080\">INFO</span>    | Task run 'write_gcs-152' - Finished in state <span style=\"color: #008000; text-decoration-color: #008000\">Completed</span>()\n",
       "</pre>\n"
      ],
      "text/plain": [
       "22:33:27.229 | \u001b[36mINFO\u001b[0m    | Task run 'write_gcs-152' - Finished in state \u001b[32mCompleted\u001b[0m()\n"
      ]
     },
     "metadata": {},
     "output_type": "display_data"
    },
    {
     "name": "stdout",
     "output_type": "stream",
     "text": [
      "catch_19894.csv\n"
     ]
    },
    {
     "data": {
      "text/html": [
       "<pre style=\"white-space:pre;overflow-x:auto;line-height:normal;font-family:Menlo,'DejaVu Sans Mono',consolas,'Courier New',monospace\">22:33:27.300 | <span style=\"color: #008080; text-decoration-color: #008080\">INFO</span>    | Flow run<span style=\"color: #800080; text-decoration-color: #800080\"> 'khaki-bat'</span> - Created task run 'process_file-153' for task 'process_file'\n",
       "</pre>\n"
      ],
      "text/plain": [
       "22:33:27.300 | \u001b[36mINFO\u001b[0m    | Flow run\u001b[35m 'khaki-bat'\u001b[0m - Created task run 'process_file-153' for task 'process_file'\n"
      ]
     },
     "metadata": {},
     "output_type": "display_data"
    },
    {
     "data": {
      "text/html": [
       "<pre style=\"white-space:pre;overflow-x:auto;line-height:normal;font-family:Menlo,'DejaVu Sans Mono',consolas,'Courier New',monospace\">22:33:27.303 | <span style=\"color: #008080; text-decoration-color: #008080\">INFO</span>    | Flow run<span style=\"color: #800080; text-decoration-color: #800080\"> 'khaki-bat'</span> - Executing 'process_file-153' immediately...\n",
       "</pre>\n"
      ],
      "text/plain": [
       "22:33:27.303 | \u001b[36mINFO\u001b[0m    | Flow run\u001b[35m 'khaki-bat'\u001b[0m - Executing 'process_file-153' immediately...\n"
      ]
     },
     "metadata": {},
     "output_type": "display_data"
    },
    {
     "data": {
      "text/html": [
       "<pre style=\"white-space:pre;overflow-x:auto;line-height:normal;font-family:Menlo,'DejaVu Sans Mono',consolas,'Courier New',monospace\">22:33:27.563 | <span style=\"color: #008080; text-decoration-color: #008080\">INFO</span>    | Task run 'process_file-153' - Finished in state <span style=\"color: #008000; text-decoration-color: #008000\">Completed</span>()\n",
       "</pre>\n"
      ],
      "text/plain": [
       "22:33:27.563 | \u001b[36mINFO\u001b[0m    | Task run 'process_file-153' - Finished in state \u001b[32mCompleted\u001b[0m()\n"
      ]
     },
     "metadata": {},
     "output_type": "display_data"
    },
    {
     "data": {
      "text/html": [
       "<pre style=\"white-space:pre;overflow-x:auto;line-height:normal;font-family:Menlo,'DejaVu Sans Mono',consolas,'Courier New',monospace\">22:33:27.656 | <span style=\"color: #008080; text-decoration-color: #008080\">INFO</span>    | Flow run<span style=\"color: #800080; text-decoration-color: #800080\"> 'khaki-bat'</span> - Created task run 'write_gcs-153' for task 'write_gcs'\n",
       "</pre>\n"
      ],
      "text/plain": [
       "22:33:27.656 | \u001b[36mINFO\u001b[0m    | Flow run\u001b[35m 'khaki-bat'\u001b[0m - Created task run 'write_gcs-153' for task 'write_gcs'\n"
      ]
     },
     "metadata": {},
     "output_type": "display_data"
    },
    {
     "data": {
      "text/html": [
       "<pre style=\"white-space:pre;overflow-x:auto;line-height:normal;font-family:Menlo,'DejaVu Sans Mono',consolas,'Courier New',monospace\">22:33:27.659 | <span style=\"color: #008080; text-decoration-color: #008080\">INFO</span>    | Flow run<span style=\"color: #800080; text-decoration-color: #800080\"> 'khaki-bat'</span> - Executing 'write_gcs-153' immediately...\n",
       "</pre>\n"
      ],
      "text/plain": [
       "22:33:27.659 | \u001b[36mINFO\u001b[0m    | Flow run\u001b[35m 'khaki-bat'\u001b[0m - Executing 'write_gcs-153' immediately...\n"
      ]
     },
     "metadata": {},
     "output_type": "display_data"
    },
    {
     "name": "stdout",
     "output_type": "stream",
     "text": [
      "Csv file size is 6249713\n"
     ]
    },
    {
     "data": {
      "text/html": [
       "<pre style=\"white-space:pre;overflow-x:auto;line-height:normal;font-family:Menlo,'DejaVu Sans Mono',consolas,'Courier New',monospace\">22:33:32.959 | <span style=\"color: #008080; text-decoration-color: #008080\">INFO</span>    | Task run 'write_gcs-153' - Finished in state <span style=\"color: #008000; text-decoration-color: #008000\">Completed</span>()\n",
       "</pre>\n"
      ],
      "text/plain": [
       "22:33:32.959 | \u001b[36mINFO\u001b[0m    | Task run 'write_gcs-153' - Finished in state \u001b[32mCompleted\u001b[0m()\n"
      ]
     },
     "metadata": {},
     "output_type": "display_data"
    },
    {
     "name": "stdout",
     "output_type": "stream",
     "text": [
      "trip_19894.csv\n"
     ]
    },
    {
     "data": {
      "text/html": [
       "<pre style=\"white-space:pre;overflow-x:auto;line-height:normal;font-family:Menlo,'DejaVu Sans Mono',consolas,'Courier New',monospace\">22:33:33.039 | <span style=\"color: #008080; text-decoration-color: #008080\">INFO</span>    | Flow run<span style=\"color: #800080; text-decoration-color: #800080\"> 'khaki-bat'</span> - Created task run 'process_file-154' for task 'process_file'\n",
       "</pre>\n"
      ],
      "text/plain": [
       "22:33:33.039 | \u001b[36mINFO\u001b[0m    | Flow run\u001b[35m 'khaki-bat'\u001b[0m - Created task run 'process_file-154' for task 'process_file'\n"
      ]
     },
     "metadata": {},
     "output_type": "display_data"
    },
    {
     "data": {
      "text/html": [
       "<pre style=\"white-space:pre;overflow-x:auto;line-height:normal;font-family:Menlo,'DejaVu Sans Mono',consolas,'Courier New',monospace\">22:33:33.044 | <span style=\"color: #008080; text-decoration-color: #008080\">INFO</span>    | Flow run<span style=\"color: #800080; text-decoration-color: #800080\"> 'khaki-bat'</span> - Executing 'process_file-154' immediately...\n",
       "</pre>\n"
      ],
      "text/plain": [
       "22:33:33.044 | \u001b[36mINFO\u001b[0m    | Flow run\u001b[35m 'khaki-bat'\u001b[0m - Executing 'process_file-154' immediately...\n"
      ]
     },
     "metadata": {},
     "output_type": "display_data"
    },
    {
     "data": {
      "text/html": [
       "<pre style=\"white-space:pre;overflow-x:auto;line-height:normal;font-family:Menlo,'DejaVu Sans Mono',consolas,'Courier New',monospace\">22:33:33.298 | <span style=\"color: #008080; text-decoration-color: #008080\">INFO</span>    | Task run 'process_file-154' - Finished in state <span style=\"color: #008000; text-decoration-color: #008000\">Completed</span>()\n",
       "</pre>\n"
      ],
      "text/plain": [
       "22:33:33.298 | \u001b[36mINFO\u001b[0m    | Task run 'process_file-154' - Finished in state \u001b[32mCompleted\u001b[0m()\n"
      ]
     },
     "metadata": {},
     "output_type": "display_data"
    },
    {
     "data": {
      "text/html": [
       "<pre style=\"white-space:pre;overflow-x:auto;line-height:normal;font-family:Menlo,'DejaVu Sans Mono',consolas,'Courier New',monospace\">22:33:33.372 | <span style=\"color: #008080; text-decoration-color: #008080\">INFO</span>    | Flow run<span style=\"color: #800080; text-decoration-color: #800080\"> 'khaki-bat'</span> - Created task run 'write_gcs-154' for task 'write_gcs'\n",
       "</pre>\n"
      ],
      "text/plain": [
       "22:33:33.372 | \u001b[36mINFO\u001b[0m    | Flow run\u001b[35m 'khaki-bat'\u001b[0m - Created task run 'write_gcs-154' for task 'write_gcs'\n"
      ]
     },
     "metadata": {},
     "output_type": "display_data"
    },
    {
     "data": {
      "text/html": [
       "<pre style=\"white-space:pre;overflow-x:auto;line-height:normal;font-family:Menlo,'DejaVu Sans Mono',consolas,'Courier New',monospace\">22:33:33.375 | <span style=\"color: #008080; text-decoration-color: #008080\">INFO</span>    | Flow run<span style=\"color: #800080; text-decoration-color: #800080\"> 'khaki-bat'</span> - Executing 'write_gcs-154' immediately...\n",
       "</pre>\n"
      ],
      "text/plain": [
       "22:33:33.375 | \u001b[36mINFO\u001b[0m    | Flow run\u001b[35m 'khaki-bat'\u001b[0m - Executing 'write_gcs-154' immediately...\n"
      ]
     },
     "metadata": {},
     "output_type": "display_data"
    },
    {
     "name": "stdout",
     "output_type": "stream",
     "text": [
      "Csv file size is 6292296\n"
     ]
    },
    {
     "data": {
      "text/html": [
       "<pre style=\"white-space:pre;overflow-x:auto;line-height:normal;font-family:Menlo,'DejaVu Sans Mono',consolas,'Courier New',monospace\">22:33:38.692 | <span style=\"color: #008080; text-decoration-color: #008080\">INFO</span>    | Task run 'write_gcs-154' - Finished in state <span style=\"color: #008000; text-decoration-color: #008000\">Completed</span>()\n",
       "</pre>\n"
      ],
      "text/plain": [
       "22:33:38.692 | \u001b[36mINFO\u001b[0m    | Task run 'write_gcs-154' - Finished in state \u001b[32mCompleted\u001b[0m()\n"
      ]
     },
     "metadata": {},
     "output_type": "display_data"
    },
    {
     "name": "stdout",
     "output_type": "stream",
     "text": [
      "size_19894.csv\n"
     ]
    },
    {
     "data": {
      "text/html": [
       "<pre style=\"white-space:pre;overflow-x:auto;line-height:normal;font-family:Menlo,'DejaVu Sans Mono',consolas,'Courier New',monospace\">22:33:38.765 | <span style=\"color: #008080; text-decoration-color: #008080\">INFO</span>    | Flow run<span style=\"color: #800080; text-decoration-color: #800080\"> 'khaki-bat'</span> - Created task run 'process_file-155' for task 'process_file'\n",
       "</pre>\n"
      ],
      "text/plain": [
       "22:33:38.765 | \u001b[36mINFO\u001b[0m    | Flow run\u001b[35m 'khaki-bat'\u001b[0m - Created task run 'process_file-155' for task 'process_file'\n"
      ]
     },
     "metadata": {},
     "output_type": "display_data"
    },
    {
     "data": {
      "text/html": [
       "<pre style=\"white-space:pre;overflow-x:auto;line-height:normal;font-family:Menlo,'DejaVu Sans Mono',consolas,'Courier New',monospace\">22:33:38.768 | <span style=\"color: #008080; text-decoration-color: #008080\">INFO</span>    | Flow run<span style=\"color: #800080; text-decoration-color: #800080\"> 'khaki-bat'</span> - Executing 'process_file-155' immediately...\n",
       "</pre>\n"
      ],
      "text/plain": [
       "22:33:38.768 | \u001b[36mINFO\u001b[0m    | Flow run\u001b[35m 'khaki-bat'\u001b[0m - Executing 'process_file-155' immediately...\n"
      ]
     },
     "metadata": {},
     "output_type": "display_data"
    },
    {
     "data": {
      "text/html": [
       "<pre style=\"white-space:pre;overflow-x:auto;line-height:normal;font-family:Menlo,'DejaVu Sans Mono',consolas,'Courier New',monospace\">22:33:38.960 | <span style=\"color: #008080; text-decoration-color: #008080\">INFO</span>    | Task run 'process_file-155' - Finished in state <span style=\"color: #008000; text-decoration-color: #008000\">Completed</span>()\n",
       "</pre>\n"
      ],
      "text/plain": [
       "22:33:38.960 | \u001b[36mINFO\u001b[0m    | Task run 'process_file-155' - Finished in state \u001b[32mCompleted\u001b[0m()\n"
      ]
     },
     "metadata": {},
     "output_type": "display_data"
    },
    {
     "data": {
      "text/html": [
       "<pre style=\"white-space:pre;overflow-x:auto;line-height:normal;font-family:Menlo,'DejaVu Sans Mono',consolas,'Courier New',monospace\">22:33:39.025 | <span style=\"color: #008080; text-decoration-color: #008080\">INFO</span>    | Flow run<span style=\"color: #800080; text-decoration-color: #800080\"> 'khaki-bat'</span> - Created task run 'write_gcs-155' for task 'write_gcs'\n",
       "</pre>\n"
      ],
      "text/plain": [
       "22:33:39.025 | \u001b[36mINFO\u001b[0m    | Flow run\u001b[35m 'khaki-bat'\u001b[0m - Created task run 'write_gcs-155' for task 'write_gcs'\n"
      ]
     },
     "metadata": {},
     "output_type": "display_data"
    },
    {
     "data": {
      "text/html": [
       "<pre style=\"white-space:pre;overflow-x:auto;line-height:normal;font-family:Menlo,'DejaVu Sans Mono',consolas,'Courier New',monospace\">22:33:39.028 | <span style=\"color: #008080; text-decoration-color: #008080\">INFO</span>    | Flow run<span style=\"color: #800080; text-decoration-color: #800080\"> 'khaki-bat'</span> - Executing 'write_gcs-155' immediately...\n",
       "</pre>\n"
      ],
      "text/plain": [
       "22:33:39.028 | \u001b[36mINFO\u001b[0m    | Flow run\u001b[35m 'khaki-bat'\u001b[0m - Executing 'write_gcs-155' immediately...\n"
      ]
     },
     "metadata": {},
     "output_type": "display_data"
    },
    {
     "name": "stdout",
     "output_type": "stream",
     "text": [
      "Csv file size is 7643949\n"
     ]
    },
    {
     "data": {
      "text/html": [
       "<pre style=\"white-space:pre;overflow-x:auto;line-height:normal;font-family:Menlo,'DejaVu Sans Mono',consolas,'Courier New',monospace\">22:33:44.831 | <span style=\"color: #008080; text-decoration-color: #008080\">INFO</span>    | Task run 'write_gcs-155' - Finished in state <span style=\"color: #008000; text-decoration-color: #008000\">Completed</span>()\n",
       "</pre>\n"
      ],
      "text/plain": [
       "22:33:44.831 | \u001b[36mINFO\u001b[0m    | Task run 'write_gcs-155' - Finished in state \u001b[32mCompleted\u001b[0m()\n"
      ]
     },
     "metadata": {},
     "output_type": "display_data"
    },
    {
     "name": "stdout",
     "output_type": "stream",
     "text": [
      "catch_19895.csv\n"
     ]
    },
    {
     "data": {
      "text/html": [
       "<pre style=\"white-space:pre;overflow-x:auto;line-height:normal;font-family:Menlo,'DejaVu Sans Mono',consolas,'Courier New',monospace\">22:33:44.902 | <span style=\"color: #008080; text-decoration-color: #008080\">INFO</span>    | Flow run<span style=\"color: #800080; text-decoration-color: #800080\"> 'khaki-bat'</span> - Created task run 'process_file-156' for task 'process_file'\n",
       "</pre>\n"
      ],
      "text/plain": [
       "22:33:44.902 | \u001b[36mINFO\u001b[0m    | Flow run\u001b[35m 'khaki-bat'\u001b[0m - Created task run 'process_file-156' for task 'process_file'\n"
      ]
     },
     "metadata": {},
     "output_type": "display_data"
    },
    {
     "data": {
      "text/html": [
       "<pre style=\"white-space:pre;overflow-x:auto;line-height:normal;font-family:Menlo,'DejaVu Sans Mono',consolas,'Courier New',monospace\">22:33:44.905 | <span style=\"color: #008080; text-decoration-color: #008080\">INFO</span>    | Flow run<span style=\"color: #800080; text-decoration-color: #800080\"> 'khaki-bat'</span> - Executing 'process_file-156' immediately...\n",
       "</pre>\n"
      ],
      "text/plain": [
       "22:33:44.905 | \u001b[36mINFO\u001b[0m    | Flow run\u001b[35m 'khaki-bat'\u001b[0m - Executing 'process_file-156' immediately...\n"
      ]
     },
     "metadata": {},
     "output_type": "display_data"
    },
    {
     "data": {
      "text/html": [
       "<pre style=\"white-space:pre;overflow-x:auto;line-height:normal;font-family:Menlo,'DejaVu Sans Mono',consolas,'Courier New',monospace\">22:33:45.477 | <span style=\"color: #008080; text-decoration-color: #008080\">INFO</span>    | Task run 'process_file-156' - Finished in state <span style=\"color: #008000; text-decoration-color: #008000\">Completed</span>()\n",
       "</pre>\n"
      ],
      "text/plain": [
       "22:33:45.477 | \u001b[36mINFO\u001b[0m    | Task run 'process_file-156' - Finished in state \u001b[32mCompleted\u001b[0m()\n"
      ]
     },
     "metadata": {},
     "output_type": "display_data"
    },
    {
     "data": {
      "text/html": [
       "<pre style=\"white-space:pre;overflow-x:auto;line-height:normal;font-family:Menlo,'DejaVu Sans Mono',consolas,'Courier New',monospace\">22:33:45.550 | <span style=\"color: #008080; text-decoration-color: #008080\">INFO</span>    | Flow run<span style=\"color: #800080; text-decoration-color: #800080\"> 'khaki-bat'</span> - Created task run 'write_gcs-156' for task 'write_gcs'\n",
       "</pre>\n"
      ],
      "text/plain": [
       "22:33:45.550 | \u001b[36mINFO\u001b[0m    | Flow run\u001b[35m 'khaki-bat'\u001b[0m - Created task run 'write_gcs-156' for task 'write_gcs'\n"
      ]
     },
     "metadata": {},
     "output_type": "display_data"
    },
    {
     "data": {
      "text/html": [
       "<pre style=\"white-space:pre;overflow-x:auto;line-height:normal;font-family:Menlo,'DejaVu Sans Mono',consolas,'Courier New',monospace\">22:33:45.553 | <span style=\"color: #008080; text-decoration-color: #008080\">INFO</span>    | Flow run<span style=\"color: #800080; text-decoration-color: #800080\"> 'khaki-bat'</span> - Executing 'write_gcs-156' immediately...\n",
       "</pre>\n"
      ],
      "text/plain": [
       "22:33:45.553 | \u001b[36mINFO\u001b[0m    | Flow run\u001b[35m 'khaki-bat'\u001b[0m - Executing 'write_gcs-156' immediately...\n"
      ]
     },
     "metadata": {},
     "output_type": "display_data"
    },
    {
     "name": "stdout",
     "output_type": "stream",
     "text": [
      "Csv file size is 4623031\n"
     ]
    },
    {
     "data": {
      "text/html": [
       "<pre style=\"white-space:pre;overflow-x:auto;line-height:normal;font-family:Menlo,'DejaVu Sans Mono',consolas,'Courier New',monospace\">22:33:49.274 | <span style=\"color: #008080; text-decoration-color: #008080\">INFO</span>    | Task run 'write_gcs-156' - Finished in state <span style=\"color: #008000; text-decoration-color: #008000\">Completed</span>()\n",
       "</pre>\n"
      ],
      "text/plain": [
       "22:33:49.274 | \u001b[36mINFO\u001b[0m    | Task run 'write_gcs-156' - Finished in state \u001b[32mCompleted\u001b[0m()\n"
      ]
     },
     "metadata": {},
     "output_type": "display_data"
    },
    {
     "name": "stdout",
     "output_type": "stream",
     "text": [
      "trip_19895.csv\n"
     ]
    },
    {
     "data": {
      "text/html": [
       "<pre style=\"white-space:pre;overflow-x:auto;line-height:normal;font-family:Menlo,'DejaVu Sans Mono',consolas,'Courier New',monospace\">22:33:49.345 | <span style=\"color: #008080; text-decoration-color: #008080\">INFO</span>    | Flow run<span style=\"color: #800080; text-decoration-color: #800080\"> 'khaki-bat'</span> - Created task run 'process_file-157' for task 'process_file'\n",
       "</pre>\n"
      ],
      "text/plain": [
       "22:33:49.345 | \u001b[36mINFO\u001b[0m    | Flow run\u001b[35m 'khaki-bat'\u001b[0m - Created task run 'process_file-157' for task 'process_file'\n"
      ]
     },
     "metadata": {},
     "output_type": "display_data"
    },
    {
     "data": {
      "text/html": [
       "<pre style=\"white-space:pre;overflow-x:auto;line-height:normal;font-family:Menlo,'DejaVu Sans Mono',consolas,'Courier New',monospace\">22:33:49.349 | <span style=\"color: #008080; text-decoration-color: #008080\">INFO</span>    | Flow run<span style=\"color: #800080; text-decoration-color: #800080\"> 'khaki-bat'</span> - Executing 'process_file-157' immediately...\n",
       "</pre>\n"
      ],
      "text/plain": [
       "22:33:49.349 | \u001b[36mINFO\u001b[0m    | Flow run\u001b[35m 'khaki-bat'\u001b[0m - Executing 'process_file-157' immediately...\n"
      ]
     },
     "metadata": {},
     "output_type": "display_data"
    },
    {
     "data": {
      "text/html": [
       "<pre style=\"white-space:pre;overflow-x:auto;line-height:normal;font-family:Menlo,'DejaVu Sans Mono',consolas,'Courier New',monospace\">22:33:49.545 | <span style=\"color: #008080; text-decoration-color: #008080\">INFO</span>    | Task run 'process_file-157' - Finished in state <span style=\"color: #008000; text-decoration-color: #008000\">Completed</span>()\n",
       "</pre>\n"
      ],
      "text/plain": [
       "22:33:49.545 | \u001b[36mINFO\u001b[0m    | Task run 'process_file-157' - Finished in state \u001b[32mCompleted\u001b[0m()\n"
      ]
     },
     "metadata": {},
     "output_type": "display_data"
    },
    {
     "data": {
      "text/html": [
       "<pre style=\"white-space:pre;overflow-x:auto;line-height:normal;font-family:Menlo,'DejaVu Sans Mono',consolas,'Courier New',monospace\">22:33:49.618 | <span style=\"color: #008080; text-decoration-color: #008080\">INFO</span>    | Flow run<span style=\"color: #800080; text-decoration-color: #800080\"> 'khaki-bat'</span> - Created task run 'write_gcs-157' for task 'write_gcs'\n",
       "</pre>\n"
      ],
      "text/plain": [
       "22:33:49.618 | \u001b[36mINFO\u001b[0m    | Flow run\u001b[35m 'khaki-bat'\u001b[0m - Created task run 'write_gcs-157' for task 'write_gcs'\n"
      ]
     },
     "metadata": {},
     "output_type": "display_data"
    },
    {
     "data": {
      "text/html": [
       "<pre style=\"white-space:pre;overflow-x:auto;line-height:normal;font-family:Menlo,'DejaVu Sans Mono',consolas,'Courier New',monospace\">22:33:49.620 | <span style=\"color: #008080; text-decoration-color: #008080\">INFO</span>    | Flow run<span style=\"color: #800080; text-decoration-color: #800080\"> 'khaki-bat'</span> - Executing 'write_gcs-157' immediately...\n",
       "</pre>\n"
      ],
      "text/plain": [
       "22:33:49.620 | \u001b[36mINFO\u001b[0m    | Flow run\u001b[35m 'khaki-bat'\u001b[0m - Executing 'write_gcs-157' immediately...\n"
      ]
     },
     "metadata": {},
     "output_type": "display_data"
    },
    {
     "name": "stdout",
     "output_type": "stream",
     "text": [
      "Csv file size is 4482348\n"
     ]
    },
    {
     "data": {
      "text/html": [
       "<pre style=\"white-space:pre;overflow-x:auto;line-height:normal;font-family:Menlo,'DejaVu Sans Mono',consolas,'Courier New',monospace\">22:33:53.251 | <span style=\"color: #008080; text-decoration-color: #008080\">INFO</span>    | Task run 'write_gcs-157' - Finished in state <span style=\"color: #008000; text-decoration-color: #008000\">Completed</span>()\n",
       "</pre>\n"
      ],
      "text/plain": [
       "22:33:53.251 | \u001b[36mINFO\u001b[0m    | Task run 'write_gcs-157' - Finished in state \u001b[32mCompleted\u001b[0m()\n"
      ]
     },
     "metadata": {},
     "output_type": "display_data"
    },
    {
     "name": "stdout",
     "output_type": "stream",
     "text": [
      "size_19895.csv\n"
     ]
    },
    {
     "data": {
      "text/html": [
       "<pre style=\"white-space:pre;overflow-x:auto;line-height:normal;font-family:Menlo,'DejaVu Sans Mono',consolas,'Courier New',monospace\">22:33:53.330 | <span style=\"color: #008080; text-decoration-color: #008080\">INFO</span>    | Flow run<span style=\"color: #800080; text-decoration-color: #800080\"> 'khaki-bat'</span> - Created task run 'process_file-158' for task 'process_file'\n",
       "</pre>\n"
      ],
      "text/plain": [
       "22:33:53.330 | \u001b[36mINFO\u001b[0m    | Flow run\u001b[35m 'khaki-bat'\u001b[0m - Created task run 'process_file-158' for task 'process_file'\n"
      ]
     },
     "metadata": {},
     "output_type": "display_data"
    },
    {
     "data": {
      "text/html": [
       "<pre style=\"white-space:pre;overflow-x:auto;line-height:normal;font-family:Menlo,'DejaVu Sans Mono',consolas,'Courier New',monospace\">22:33:53.334 | <span style=\"color: #008080; text-decoration-color: #008080\">INFO</span>    | Flow run<span style=\"color: #800080; text-decoration-color: #800080\"> 'khaki-bat'</span> - Executing 'process_file-158' immediately...\n",
       "</pre>\n"
      ],
      "text/plain": [
       "22:33:53.334 | \u001b[36mINFO\u001b[0m    | Flow run\u001b[35m 'khaki-bat'\u001b[0m - Executing 'process_file-158' immediately...\n"
      ]
     },
     "metadata": {},
     "output_type": "display_data"
    },
    {
     "data": {
      "text/html": [
       "<pre style=\"white-space:pre;overflow-x:auto;line-height:normal;font-family:Menlo,'DejaVu Sans Mono',consolas,'Courier New',monospace\">22:33:53.552 | <span style=\"color: #008080; text-decoration-color: #008080\">INFO</span>    | Task run 'process_file-158' - Finished in state <span style=\"color: #008000; text-decoration-color: #008000\">Completed</span>()\n",
       "</pre>\n"
      ],
      "text/plain": [
       "22:33:53.552 | \u001b[36mINFO\u001b[0m    | Task run 'process_file-158' - Finished in state \u001b[32mCompleted\u001b[0m()\n"
      ]
     },
     "metadata": {},
     "output_type": "display_data"
    },
    {
     "data": {
      "text/html": [
       "<pre style=\"white-space:pre;overflow-x:auto;line-height:normal;font-family:Menlo,'DejaVu Sans Mono',consolas,'Courier New',monospace\">22:33:53.625 | <span style=\"color: #008080; text-decoration-color: #008080\">INFO</span>    | Flow run<span style=\"color: #800080; text-decoration-color: #800080\"> 'khaki-bat'</span> - Created task run 'write_gcs-158' for task 'write_gcs'\n",
       "</pre>\n"
      ],
      "text/plain": [
       "22:33:53.625 | \u001b[36mINFO\u001b[0m    | Flow run\u001b[35m 'khaki-bat'\u001b[0m - Created task run 'write_gcs-158' for task 'write_gcs'\n"
      ]
     },
     "metadata": {},
     "output_type": "display_data"
    },
    {
     "data": {
      "text/html": [
       "<pre style=\"white-space:pre;overflow-x:auto;line-height:normal;font-family:Menlo,'DejaVu Sans Mono',consolas,'Courier New',monospace\">22:33:53.631 | <span style=\"color: #008080; text-decoration-color: #008080\">INFO</span>    | Flow run<span style=\"color: #800080; text-decoration-color: #800080\"> 'khaki-bat'</span> - Executing 'write_gcs-158' immediately...\n",
       "</pre>\n"
      ],
      "text/plain": [
       "22:33:53.631 | \u001b[36mINFO\u001b[0m    | Flow run\u001b[35m 'khaki-bat'\u001b[0m - Executing 'write_gcs-158' immediately...\n"
      ]
     },
     "metadata": {},
     "output_type": "display_data"
    },
    {
     "name": "stdout",
     "output_type": "stream",
     "text": [
      "Csv file size is 6220972\n"
     ]
    },
    {
     "data": {
      "text/html": [
       "<pre style=\"white-space:pre;overflow-x:auto;line-height:normal;font-family:Menlo,'DejaVu Sans Mono',consolas,'Courier New',monospace\">22:33:58.474 | <span style=\"color: #008080; text-decoration-color: #008080\">INFO</span>    | Task run 'write_gcs-158' - Finished in state <span style=\"color: #008000; text-decoration-color: #008000\">Completed</span>()\n",
       "</pre>\n"
      ],
      "text/plain": [
       "22:33:58.474 | \u001b[36mINFO\u001b[0m    | Task run 'write_gcs-158' - Finished in state \u001b[32mCompleted\u001b[0m()\n"
      ]
     },
     "metadata": {},
     "output_type": "display_data"
    },
    {
     "name": "stdout",
     "output_type": "stream",
     "text": [
      "catch_19896.csv\n"
     ]
    },
    {
     "data": {
      "text/html": [
       "<pre style=\"white-space:pre;overflow-x:auto;line-height:normal;font-family:Menlo,'DejaVu Sans Mono',consolas,'Courier New',monospace\">22:33:58.567 | <span style=\"color: #008080; text-decoration-color: #008080\">INFO</span>    | Flow run<span style=\"color: #800080; text-decoration-color: #800080\"> 'khaki-bat'</span> - Created task run 'process_file-159' for task 'process_file'\n",
       "</pre>\n"
      ],
      "text/plain": [
       "22:33:58.567 | \u001b[36mINFO\u001b[0m    | Flow run\u001b[35m 'khaki-bat'\u001b[0m - Created task run 'process_file-159' for task 'process_file'\n"
      ]
     },
     "metadata": {},
     "output_type": "display_data"
    },
    {
     "data": {
      "text/html": [
       "<pre style=\"white-space:pre;overflow-x:auto;line-height:normal;font-family:Menlo,'DejaVu Sans Mono',consolas,'Courier New',monospace\">22:33:58.572 | <span style=\"color: #008080; text-decoration-color: #008080\">INFO</span>    | Flow run<span style=\"color: #800080; text-decoration-color: #800080\"> 'khaki-bat'</span> - Executing 'process_file-159' immediately...\n",
       "</pre>\n"
      ],
      "text/plain": [
       "22:33:58.572 | \u001b[36mINFO\u001b[0m    | Flow run\u001b[35m 'khaki-bat'\u001b[0m - Executing 'process_file-159' immediately...\n"
      ]
     },
     "metadata": {},
     "output_type": "display_data"
    },
    {
     "data": {
      "text/html": [
       "<pre style=\"white-space:pre;overflow-x:auto;line-height:normal;font-family:Menlo,'DejaVu Sans Mono',consolas,'Courier New',monospace\">22:33:58.791 | <span style=\"color: #008080; text-decoration-color: #008080\">INFO</span>    | Task run 'process_file-159' - Finished in state <span style=\"color: #008000; text-decoration-color: #008000\">Completed</span>()\n",
       "</pre>\n"
      ],
      "text/plain": [
       "22:33:58.791 | \u001b[36mINFO\u001b[0m    | Task run 'process_file-159' - Finished in state \u001b[32mCompleted\u001b[0m()\n"
      ]
     },
     "metadata": {},
     "output_type": "display_data"
    },
    {
     "data": {
      "text/html": [
       "<pre style=\"white-space:pre;overflow-x:auto;line-height:normal;font-family:Menlo,'DejaVu Sans Mono',consolas,'Courier New',monospace\">22:33:58.885 | <span style=\"color: #008080; text-decoration-color: #008080\">INFO</span>    | Flow run<span style=\"color: #800080; text-decoration-color: #800080\"> 'khaki-bat'</span> - Created task run 'write_gcs-159' for task 'write_gcs'\n",
       "</pre>\n"
      ],
      "text/plain": [
       "22:33:58.885 | \u001b[36mINFO\u001b[0m    | Flow run\u001b[35m 'khaki-bat'\u001b[0m - Created task run 'write_gcs-159' for task 'write_gcs'\n"
      ]
     },
     "metadata": {},
     "output_type": "display_data"
    },
    {
     "data": {
      "text/html": [
       "<pre style=\"white-space:pre;overflow-x:auto;line-height:normal;font-family:Menlo,'DejaVu Sans Mono',consolas,'Courier New',monospace\">22:33:58.888 | <span style=\"color: #008080; text-decoration-color: #008080\">INFO</span>    | Flow run<span style=\"color: #800080; text-decoration-color: #800080\"> 'khaki-bat'</span> - Executing 'write_gcs-159' immediately...\n",
       "</pre>\n"
      ],
      "text/plain": [
       "22:33:58.888 | \u001b[36mINFO\u001b[0m    | Flow run\u001b[35m 'khaki-bat'\u001b[0m - Executing 'write_gcs-159' immediately...\n"
      ]
     },
     "metadata": {},
     "output_type": "display_data"
    },
    {
     "name": "stdout",
     "output_type": "stream",
     "text": [
      "Csv file size is 1497254\n"
     ]
    },
    {
     "data": {
      "text/html": [
       "<pre style=\"white-space:pre;overflow-x:auto;line-height:normal;font-family:Menlo,'DejaVu Sans Mono',consolas,'Courier New',monospace\">22:34:00.552 | <span style=\"color: #008080; text-decoration-color: #008080\">INFO</span>    | Task run 'write_gcs-159' - Finished in state <span style=\"color: #008000; text-decoration-color: #008000\">Completed</span>()\n",
       "</pre>\n"
      ],
      "text/plain": [
       "22:34:00.552 | \u001b[36mINFO\u001b[0m    | Task run 'write_gcs-159' - Finished in state \u001b[32mCompleted\u001b[0m()\n"
      ]
     },
     "metadata": {},
     "output_type": "display_data"
    },
    {
     "name": "stdout",
     "output_type": "stream",
     "text": [
      "trip_19896.csv\n"
     ]
    },
    {
     "data": {
      "text/html": [
       "<pre style=\"white-space:pre;overflow-x:auto;line-height:normal;font-family:Menlo,'DejaVu Sans Mono',consolas,'Courier New',monospace\">22:34:00.621 | <span style=\"color: #008080; text-decoration-color: #008080\">INFO</span>    | Flow run<span style=\"color: #800080; text-decoration-color: #800080\"> 'khaki-bat'</span> - Created task run 'process_file-160' for task 'process_file'\n",
       "</pre>\n"
      ],
      "text/plain": [
       "22:34:00.621 | \u001b[36mINFO\u001b[0m    | Flow run\u001b[35m 'khaki-bat'\u001b[0m - Created task run 'process_file-160' for task 'process_file'\n"
      ]
     },
     "metadata": {},
     "output_type": "display_data"
    },
    {
     "data": {
      "text/html": [
       "<pre style=\"white-space:pre;overflow-x:auto;line-height:normal;font-family:Menlo,'DejaVu Sans Mono',consolas,'Courier New',monospace\">22:34:00.627 | <span style=\"color: #008080; text-decoration-color: #008080\">INFO</span>    | Flow run<span style=\"color: #800080; text-decoration-color: #800080\"> 'khaki-bat'</span> - Executing 'process_file-160' immediately...\n",
       "</pre>\n"
      ],
      "text/plain": [
       "22:34:00.627 | \u001b[36mINFO\u001b[0m    | Flow run\u001b[35m 'khaki-bat'\u001b[0m - Executing 'process_file-160' immediately...\n"
      ]
     },
     "metadata": {},
     "output_type": "display_data"
    },
    {
     "data": {
      "text/html": [
       "<pre style=\"white-space:pre;overflow-x:auto;line-height:normal;font-family:Menlo,'DejaVu Sans Mono',consolas,'Courier New',monospace\">22:34:00.821 | <span style=\"color: #008080; text-decoration-color: #008080\">INFO</span>    | Task run 'process_file-160' - Finished in state <span style=\"color: #008000; text-decoration-color: #008000\">Completed</span>()\n",
       "</pre>\n"
      ],
      "text/plain": [
       "22:34:00.821 | \u001b[36mINFO\u001b[0m    | Task run 'process_file-160' - Finished in state \u001b[32mCompleted\u001b[0m()\n"
      ]
     },
     "metadata": {},
     "output_type": "display_data"
    },
    {
     "data": {
      "text/html": [
       "<pre style=\"white-space:pre;overflow-x:auto;line-height:normal;font-family:Menlo,'DejaVu Sans Mono',consolas,'Courier New',monospace\">22:34:00.886 | <span style=\"color: #008080; text-decoration-color: #008080\">INFO</span>    | Flow run<span style=\"color: #800080; text-decoration-color: #800080\"> 'khaki-bat'</span> - Created task run 'write_gcs-160' for task 'write_gcs'\n",
       "</pre>\n"
      ],
      "text/plain": [
       "22:34:00.886 | \u001b[36mINFO\u001b[0m    | Flow run\u001b[35m 'khaki-bat'\u001b[0m - Created task run 'write_gcs-160' for task 'write_gcs'\n"
      ]
     },
     "metadata": {},
     "output_type": "display_data"
    },
    {
     "data": {
      "text/html": [
       "<pre style=\"white-space:pre;overflow-x:auto;line-height:normal;font-family:Menlo,'DejaVu Sans Mono',consolas,'Courier New',monospace\">22:34:00.890 | <span style=\"color: #008080; text-decoration-color: #008080\">INFO</span>    | Flow run<span style=\"color: #800080; text-decoration-color: #800080\"> 'khaki-bat'</span> - Executing 'write_gcs-160' immediately...\n",
       "</pre>\n"
      ],
      "text/plain": [
       "22:34:00.890 | \u001b[36mINFO\u001b[0m    | Flow run\u001b[35m 'khaki-bat'\u001b[0m - Executing 'write_gcs-160' immediately...\n"
      ]
     },
     "metadata": {},
     "output_type": "display_data"
    },
    {
     "name": "stdout",
     "output_type": "stream",
     "text": [
      "Csv file size is 1548794\n"
     ]
    },
    {
     "data": {
      "text/html": [
       "<pre style=\"white-space:pre;overflow-x:auto;line-height:normal;font-family:Menlo,'DejaVu Sans Mono',consolas,'Courier New',monospace\">22:34:02.671 | <span style=\"color: #008080; text-decoration-color: #008080\">INFO</span>    | Task run 'write_gcs-160' - Finished in state <span style=\"color: #008000; text-decoration-color: #008000\">Completed</span>()\n",
       "</pre>\n"
      ],
      "text/plain": [
       "22:34:02.671 | \u001b[36mINFO\u001b[0m    | Task run 'write_gcs-160' - Finished in state \u001b[32mCompleted\u001b[0m()\n"
      ]
     },
     "metadata": {},
     "output_type": "display_data"
    },
    {
     "name": "stdout",
     "output_type": "stream",
     "text": [
      "size_19896.csv\n"
     ]
    },
    {
     "data": {
      "text/html": [
       "<pre style=\"white-space:pre;overflow-x:auto;line-height:normal;font-family:Menlo,'DejaVu Sans Mono',consolas,'Courier New',monospace\">22:34:02.754 | <span style=\"color: #008080; text-decoration-color: #008080\">INFO</span>    | Flow run<span style=\"color: #800080; text-decoration-color: #800080\"> 'khaki-bat'</span> - Created task run 'process_file-161' for task 'process_file'\n",
       "</pre>\n"
      ],
      "text/plain": [
       "22:34:02.754 | \u001b[36mINFO\u001b[0m    | Flow run\u001b[35m 'khaki-bat'\u001b[0m - Created task run 'process_file-161' for task 'process_file'\n"
      ]
     },
     "metadata": {},
     "output_type": "display_data"
    },
    {
     "data": {
      "text/html": [
       "<pre style=\"white-space:pre;overflow-x:auto;line-height:normal;font-family:Menlo,'DejaVu Sans Mono',consolas,'Courier New',monospace\">22:34:02.759 | <span style=\"color: #008080; text-decoration-color: #008080\">INFO</span>    | Flow run<span style=\"color: #800080; text-decoration-color: #800080\"> 'khaki-bat'</span> - Executing 'process_file-161' immediately...\n",
       "</pre>\n"
      ],
      "text/plain": [
       "22:34:02.759 | \u001b[36mINFO\u001b[0m    | Flow run\u001b[35m 'khaki-bat'\u001b[0m - Executing 'process_file-161' immediately...\n"
      ]
     },
     "metadata": {},
     "output_type": "display_data"
    },
    {
     "data": {
      "text/html": [
       "<pre style=\"white-space:pre;overflow-x:auto;line-height:normal;font-family:Menlo,'DejaVu Sans Mono',consolas,'Courier New',monospace\">22:34:02.945 | <span style=\"color: #008080; text-decoration-color: #008080\">INFO</span>    | Task run 'process_file-161' - Finished in state <span style=\"color: #008000; text-decoration-color: #008000\">Completed</span>()\n",
       "</pre>\n"
      ],
      "text/plain": [
       "22:34:02.945 | \u001b[36mINFO\u001b[0m    | Task run 'process_file-161' - Finished in state \u001b[32mCompleted\u001b[0m()\n"
      ]
     },
     "metadata": {},
     "output_type": "display_data"
    },
    {
     "data": {
      "text/html": [
       "<pre style=\"white-space:pre;overflow-x:auto;line-height:normal;font-family:Menlo,'DejaVu Sans Mono',consolas,'Courier New',monospace\">22:34:03.068 | <span style=\"color: #008080; text-decoration-color: #008080\">INFO</span>    | Flow run<span style=\"color: #800080; text-decoration-color: #800080\"> 'khaki-bat'</span> - Created task run 'write_gcs-161' for task 'write_gcs'\n",
       "</pre>\n"
      ],
      "text/plain": [
       "22:34:03.068 | \u001b[36mINFO\u001b[0m    | Flow run\u001b[35m 'khaki-bat'\u001b[0m - Created task run 'write_gcs-161' for task 'write_gcs'\n"
      ]
     },
     "metadata": {},
     "output_type": "display_data"
    },
    {
     "data": {
      "text/html": [
       "<pre style=\"white-space:pre;overflow-x:auto;line-height:normal;font-family:Menlo,'DejaVu Sans Mono',consolas,'Courier New',monospace\">22:34:03.072 | <span style=\"color: #008080; text-decoration-color: #008080\">INFO</span>    | Flow run<span style=\"color: #800080; text-decoration-color: #800080\"> 'khaki-bat'</span> - Executing 'write_gcs-161' immediately...\n",
       "</pre>\n"
      ],
      "text/plain": [
       "22:34:03.072 | \u001b[36mINFO\u001b[0m    | Flow run\u001b[35m 'khaki-bat'\u001b[0m - Executing 'write_gcs-161' immediately...\n"
      ]
     },
     "metadata": {},
     "output_type": "display_data"
    },
    {
     "name": "stdout",
     "output_type": "stream",
     "text": [
      "Csv file size is 1777045\n"
     ]
    },
    {
     "data": {
      "text/html": [
       "<pre style=\"white-space:pre;overflow-x:auto;line-height:normal;font-family:Menlo,'DejaVu Sans Mono',consolas,'Courier New',monospace\">22:34:04.826 | <span style=\"color: #008080; text-decoration-color: #008080\">INFO</span>    | Task run 'write_gcs-161' - Finished in state <span style=\"color: #008000; text-decoration-color: #008000\">Completed</span>()\n",
       "</pre>\n"
      ],
      "text/plain": [
       "22:34:04.826 | \u001b[36mINFO\u001b[0m    | Task run 'write_gcs-161' - Finished in state \u001b[32mCompleted\u001b[0m()\n"
      ]
     },
     "metadata": {},
     "output_type": "display_data"
    },
    {
     "data": {
      "text/html": [
       "<pre style=\"white-space:pre;overflow-x:auto;line-height:normal;font-family:Menlo,'DejaVu Sans Mono',consolas,'Courier New',monospace\">22:34:05.161 | <span style=\"color: #008080; text-decoration-color: #008080\">INFO</span>    | Flow run<span style=\"color: #800080; text-decoration-color: #800080\"> 'khaki-bat'</span> - Finished in state <span style=\"color: #008000; text-decoration-color: #008000\">Completed</span>('All states completed.')\n",
       "</pre>\n"
      ],
      "text/plain": [
       "22:34:05.161 | \u001b[36mINFO\u001b[0m    | Flow run\u001b[35m 'khaki-bat'\u001b[0m - Finished in state \u001b[32mCompleted\u001b[0m('All states completed.')\n"
      ]
     },
     "metadata": {},
     "output_type": "display_data"
    }
   ],
   "source": [
    "if __name__ == '__main__':\n",
    "    blob = \"ps_1981_1989_csv.zip\"\n",
    "    bucket_name = \"de_project_bucket\"\n",
    "    process_gcs_blob(blob, bucket_name)  \n",
    "\n",
    "#57min with convert to parquet @ 3.63GB\n"
   ]
  },
  {
   "cell_type": "code",
   "execution_count": null,
   "metadata": {},
   "outputs": [],
   "source": []
  }
 ],
 "metadata": {
  "kernelspec": {
   "display_name": "de_project",
   "language": "python",
   "name": "python3"
  },
  "language_info": {
   "codemirror_mode": {
    "name": "ipython",
    "version": 3
   },
   "file_extension": ".py",
   "mimetype": "text/x-python",
   "name": "python",
   "nbconvert_exporter": "python",
   "pygments_lexer": "ipython3",
   "version": "3.11.2"
  },
  "orig_nbformat": 4,
  "vscode": {
   "interpreter": {
    "hash": "254721729ad41773dee351bfff8b617bf657a0a6ef8ca8070296dad6f2976db6"
   }
  }
 },
 "nbformat": 4,
 "nbformat_minor": 2
}
