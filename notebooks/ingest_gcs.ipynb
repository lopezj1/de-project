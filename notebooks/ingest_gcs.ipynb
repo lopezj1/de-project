{
 "cells": [
  {
   "cell_type": "code",
   "execution_count": 1,
   "metadata": {},
   "outputs": [],
   "source": [
    "import pandas as pd\n",
    "import requests\n",
    "from prefect import flow, task\n",
    "from google.cloud import storage\n"
   ]
  },
  {
   "cell_type": "code",
   "execution_count": 2,
   "metadata": {},
   "outputs": [],
   "source": [
    "@task(retries=3)\n",
    "def fetch_folders(base_url: str) -> list:\n",
    "    \"\"\"Get list of zip folders containing NOAA data\"\"\"\n",
    "\n",
    "    html = requests.get(base_url).content\n",
    "    df_list = pd.read_html(html)\n",
    "    df = df_list[-1]\n",
    "    lszip = df[df.Name.str.endswith(\".zip\", na=False)][\"Name\"].tolist()\n",
    "\n",
    "    return lszip"
   ]
  },
  {
   "cell_type": "code",
   "execution_count": 3,
   "metadata": {},
   "outputs": [],
   "source": [
    "@task()\n",
    "def write_gcs(base_url: str, folder: str, bucket) -> None:\n",
    "    \"\"\"Upload local parquet file to GCS\"\"\"\n",
    "\n",
    "    folder_url = f\"{base_url[:-1]}/{folder}\"\n",
    "    r = requests.get(folder_url)\n",
    "    blob = bucket.blob(f\"zip/{folder}\")\n",
    "    blob.upload_from_string(r.content)"
   ]
  },
  {
   "cell_type": "code",
   "execution_count": 4,
   "metadata": {},
   "outputs": [],
   "source": [
    "@flow(log_prints=True)\n",
    "def noaa_to_gcs() -> None:\n",
    "    \"\"\"Get zip folders from noaa site and save to gcs bucket\"\"\"\n",
    "    # Set Google Cloud Storage credentials\n",
    "    storage_client = storage.Client.from_service_account_json(\"../creds.json\")\n",
    "    bucket_name = \"de_project_bucket\"\n",
    "    bucket = storage_client.get_bucket(bucket_name)\n",
    "\n",
    "    base_url = \"https://www.st.nmfs.noaa.gov/st1/recreational/MRIP_Survey_Data/CSV/\"\n",
    "    lszip = fetch_folders(base_url)\n",
    "\n",
    "    for folder in lszip:\n",
    "        write_gcs(base_url, folder, bucket)"
   ]
  },
  {
   "cell_type": "code",
   "execution_count": 5,
   "metadata": {},
   "outputs": [
    {
     "data": {
      "text/html": [
       "<pre style=\"white-space:pre;overflow-x:auto;line-height:normal;font-family:Menlo,'DejaVu Sans Mono',consolas,'Courier New',monospace\">20:30:21.621 | <span style=\"color: #008080; text-decoration-color: #008080\">INFO</span>    | prefect.engine - Created flow run<span style=\"color: #800080; text-decoration-color: #800080\"> 'grinning-unicorn'</span> for flow<span style=\"color: #800080; text-decoration-color: #800080; font-weight: bold\"> 'noaa-to-gcs'</span>\n",
       "</pre>\n"
      ],
      "text/plain": [
       "20:30:21.621 | \u001b[36mINFO\u001b[0m    | prefect.engine - Created flow run\u001b[35m 'grinning-unicorn'\u001b[0m for flow\u001b[1;35m 'noaa-to-gcs'\u001b[0m\n"
      ]
     },
     "metadata": {},
     "output_type": "display_data"
    },
    {
     "data": {
      "text/html": [
       "<pre style=\"white-space:pre;overflow-x:auto;line-height:normal;font-family:Menlo,'DejaVu Sans Mono',consolas,'Courier New',monospace\">20:30:23.051 | <span style=\"color: #008080; text-decoration-color: #008080\">INFO</span>    | Flow run<span style=\"color: #800080; text-decoration-color: #800080\"> 'grinning-unicorn'</span> - Created task run 'fetch_folders-0' for task 'fetch_folders'\n",
       "</pre>\n"
      ],
      "text/plain": [
       "20:30:23.051 | \u001b[36mINFO\u001b[0m    | Flow run\u001b[35m 'grinning-unicorn'\u001b[0m - Created task run 'fetch_folders-0' for task 'fetch_folders'\n"
      ]
     },
     "metadata": {},
     "output_type": "display_data"
    },
    {
     "data": {
      "text/html": [
       "<pre style=\"white-space:pre;overflow-x:auto;line-height:normal;font-family:Menlo,'DejaVu Sans Mono',consolas,'Courier New',monospace\">20:30:23.061 | <span style=\"color: #008080; text-decoration-color: #008080\">INFO</span>    | Flow run<span style=\"color: #800080; text-decoration-color: #800080\"> 'grinning-unicorn'</span> - Executing 'fetch_folders-0' immediately...\n",
       "</pre>\n"
      ],
      "text/plain": [
       "20:30:23.061 | \u001b[36mINFO\u001b[0m    | Flow run\u001b[35m 'grinning-unicorn'\u001b[0m - Executing 'fetch_folders-0' immediately...\n"
      ]
     },
     "metadata": {},
     "output_type": "display_data"
    },
    {
     "data": {
      "text/html": [
       "<pre style=\"white-space:pre;overflow-x:auto;line-height:normal;font-family:Menlo,'DejaVu Sans Mono',consolas,'Courier New',monospace\">20:30:24.696 | <span style=\"color: #008080; text-decoration-color: #008080\">INFO</span>    | Task run 'fetch_folders-0' - Finished in state <span style=\"color: #008000; text-decoration-color: #008000\">Completed</span>()\n",
       "</pre>\n"
      ],
      "text/plain": [
       "20:30:24.696 | \u001b[36mINFO\u001b[0m    | Task run 'fetch_folders-0' - Finished in state \u001b[32mCompleted\u001b[0m()\n"
      ]
     },
     "metadata": {},
     "output_type": "display_data"
    },
    {
     "data": {
      "text/html": [
       "<pre style=\"white-space:pre;overflow-x:auto;line-height:normal;font-family:Menlo,'DejaVu Sans Mono',consolas,'Courier New',monospace\">20:30:24.850 | <span style=\"color: #008080; text-decoration-color: #008080\">INFO</span>    | Flow run<span style=\"color: #800080; text-decoration-color: #800080\"> 'grinning-unicorn'</span> - Created task run 'write_gcs-0' for task 'write_gcs'\n",
       "</pre>\n"
      ],
      "text/plain": [
       "20:30:24.850 | \u001b[36mINFO\u001b[0m    | Flow run\u001b[35m 'grinning-unicorn'\u001b[0m - Created task run 'write_gcs-0' for task 'write_gcs'\n"
      ]
     },
     "metadata": {},
     "output_type": "display_data"
    },
    {
     "data": {
      "text/html": [
       "<pre style=\"white-space:pre;overflow-x:auto;line-height:normal;font-family:Menlo,'DejaVu Sans Mono',consolas,'Courier New',monospace\">20:30:24.854 | <span style=\"color: #008080; text-decoration-color: #008080\">INFO</span>    | Flow run<span style=\"color: #800080; text-decoration-color: #800080\"> 'grinning-unicorn'</span> - Executing 'write_gcs-0' immediately...\n",
       "</pre>\n"
      ],
      "text/plain": [
       "20:30:24.854 | \u001b[36mINFO\u001b[0m    | Flow run\u001b[35m 'grinning-unicorn'\u001b[0m - Executing 'write_gcs-0' immediately...\n"
      ]
     },
     "metadata": {},
     "output_type": "display_data"
    },
    {
     "data": {
      "text/html": [
       "<pre style=\"white-space:pre;overflow-x:auto;line-height:normal;font-family:Menlo,'DejaVu Sans Mono',consolas,'Courier New',monospace\">20:30:50.912 | <span style=\"color: #008080; text-decoration-color: #008080\">INFO</span>    | Task run 'write_gcs-0' - Finished in state <span style=\"color: #008000; text-decoration-color: #008000\">Completed</span>()\n",
       "</pre>\n"
      ],
      "text/plain": [
       "20:30:50.912 | \u001b[36mINFO\u001b[0m    | Task run 'write_gcs-0' - Finished in state \u001b[32mCompleted\u001b[0m()\n"
      ]
     },
     "metadata": {},
     "output_type": "display_data"
    },
    {
     "data": {
      "text/html": [
       "<pre style=\"white-space:pre;overflow-x:auto;line-height:normal;font-family:Menlo,'DejaVu Sans Mono',consolas,'Courier New',monospace\">20:30:51.025 | <span style=\"color: #008080; text-decoration-color: #008080\">INFO</span>    | Flow run<span style=\"color: #800080; text-decoration-color: #800080\"> 'grinning-unicorn'</span> - Created task run 'write_gcs-1' for task 'write_gcs'\n",
       "</pre>\n"
      ],
      "text/plain": [
       "20:30:51.025 | \u001b[36mINFO\u001b[0m    | Flow run\u001b[35m 'grinning-unicorn'\u001b[0m - Created task run 'write_gcs-1' for task 'write_gcs'\n"
      ]
     },
     "metadata": {},
     "output_type": "display_data"
    },
    {
     "data": {
      "text/html": [
       "<pre style=\"white-space:pre;overflow-x:auto;line-height:normal;font-family:Menlo,'DejaVu Sans Mono',consolas,'Courier New',monospace\">20:30:51.031 | <span style=\"color: #008080; text-decoration-color: #008080\">INFO</span>    | Flow run<span style=\"color: #800080; text-decoration-color: #800080\"> 'grinning-unicorn'</span> - Executing 'write_gcs-1' immediately...\n",
       "</pre>\n"
      ],
      "text/plain": [
       "20:30:51.031 | \u001b[36mINFO\u001b[0m    | Flow run\u001b[35m 'grinning-unicorn'\u001b[0m - Executing 'write_gcs-1' immediately...\n"
      ]
     },
     "metadata": {},
     "output_type": "display_data"
    },
    {
     "data": {
      "text/html": [
       "<pre style=\"white-space:pre;overflow-x:auto;line-height:normal;font-family:Menlo,'DejaVu Sans Mono',consolas,'Courier New',monospace\">20:31:20.086 | <span style=\"color: #008080; text-decoration-color: #008080\">INFO</span>    | Task run 'write_gcs-1' - Finished in state <span style=\"color: #008000; text-decoration-color: #008000\">Completed</span>()\n",
       "</pre>\n"
      ],
      "text/plain": [
       "20:31:20.086 | \u001b[36mINFO\u001b[0m    | Task run 'write_gcs-1' - Finished in state \u001b[32mCompleted\u001b[0m()\n"
      ]
     },
     "metadata": {},
     "output_type": "display_data"
    },
    {
     "data": {
      "text/html": [
       "<pre style=\"white-space:pre;overflow-x:auto;line-height:normal;font-family:Menlo,'DejaVu Sans Mono',consolas,'Courier New',monospace\">20:31:20.300 | <span style=\"color: #008080; text-decoration-color: #008080\">INFO</span>    | Flow run<span style=\"color: #800080; text-decoration-color: #800080\"> 'grinning-unicorn'</span> - Created task run 'write_gcs-2' for task 'write_gcs'\n",
       "</pre>\n"
      ],
      "text/plain": [
       "20:31:20.300 | \u001b[36mINFO\u001b[0m    | Flow run\u001b[35m 'grinning-unicorn'\u001b[0m - Created task run 'write_gcs-2' for task 'write_gcs'\n"
      ]
     },
     "metadata": {},
     "output_type": "display_data"
    },
    {
     "data": {
      "text/html": [
       "<pre style=\"white-space:pre;overflow-x:auto;line-height:normal;font-family:Menlo,'DejaVu Sans Mono',consolas,'Courier New',monospace\">20:31:20.309 | <span style=\"color: #008080; text-decoration-color: #008080\">INFO</span>    | Flow run<span style=\"color: #800080; text-decoration-color: #800080\"> 'grinning-unicorn'</span> - Executing 'write_gcs-2' immediately...\n",
       "</pre>\n"
      ],
      "text/plain": [
       "20:31:20.309 | \u001b[36mINFO\u001b[0m    | Flow run\u001b[35m 'grinning-unicorn'\u001b[0m - Executing 'write_gcs-2' immediately...\n"
      ]
     },
     "metadata": {},
     "output_type": "display_data"
    },
    {
     "data": {
      "text/html": [
       "<pre style=\"white-space:pre;overflow-x:auto;line-height:normal;font-family:Menlo,'DejaVu Sans Mono',consolas,'Courier New',monospace\">20:31:52.646 | <span style=\"color: #008080; text-decoration-color: #008080\">INFO</span>    | Task run 'write_gcs-2' - Finished in state <span style=\"color: #008000; text-decoration-color: #008000\">Completed</span>()\n",
       "</pre>\n"
      ],
      "text/plain": [
       "20:31:52.646 | \u001b[36mINFO\u001b[0m    | Task run 'write_gcs-2' - Finished in state \u001b[32mCompleted\u001b[0m()\n"
      ]
     },
     "metadata": {},
     "output_type": "display_data"
    },
    {
     "data": {
      "text/html": [
       "<pre style=\"white-space:pre;overflow-x:auto;line-height:normal;font-family:Menlo,'DejaVu Sans Mono',consolas,'Courier New',monospace\">20:31:52.800 | <span style=\"color: #008080; text-decoration-color: #008080\">INFO</span>    | Flow run<span style=\"color: #800080; text-decoration-color: #800080\"> 'grinning-unicorn'</span> - Created task run 'write_gcs-3' for task 'write_gcs'\n",
       "</pre>\n"
      ],
      "text/plain": [
       "20:31:52.800 | \u001b[36mINFO\u001b[0m    | Flow run\u001b[35m 'grinning-unicorn'\u001b[0m - Created task run 'write_gcs-3' for task 'write_gcs'\n"
      ]
     },
     "metadata": {},
     "output_type": "display_data"
    },
    {
     "data": {
      "text/html": [
       "<pre style=\"white-space:pre;overflow-x:auto;line-height:normal;font-family:Menlo,'DejaVu Sans Mono',consolas,'Courier New',monospace\">20:31:52.804 | <span style=\"color: #008080; text-decoration-color: #008080\">INFO</span>    | Flow run<span style=\"color: #800080; text-decoration-color: #800080\"> 'grinning-unicorn'</span> - Executing 'write_gcs-3' immediately...\n",
       "</pre>\n"
      ],
      "text/plain": [
       "20:31:52.804 | \u001b[36mINFO\u001b[0m    | Flow run\u001b[35m 'grinning-unicorn'\u001b[0m - Executing 'write_gcs-3' immediately...\n"
      ]
     },
     "metadata": {},
     "output_type": "display_data"
    },
    {
     "data": {
      "text/html": [
       "<pre style=\"white-space:pre;overflow-x:auto;line-height:normal;font-family:Menlo,'DejaVu Sans Mono',consolas,'Courier New',monospace\">20:32:32.437 | <span style=\"color: #008080; text-decoration-color: #008080\">INFO</span>    | Task run 'write_gcs-3' - Finished in state <span style=\"color: #008000; text-decoration-color: #008000\">Completed</span>()\n",
       "</pre>\n"
      ],
      "text/plain": [
       "20:32:32.437 | \u001b[36mINFO\u001b[0m    | Task run 'write_gcs-3' - Finished in state \u001b[32mCompleted\u001b[0m()\n"
      ]
     },
     "metadata": {},
     "output_type": "display_data"
    },
    {
     "data": {
      "text/html": [
       "<pre style=\"white-space:pre;overflow-x:auto;line-height:normal;font-family:Menlo,'DejaVu Sans Mono',consolas,'Courier New',monospace\">20:32:32.659 | <span style=\"color: #008080; text-decoration-color: #008080\">INFO</span>    | Flow run<span style=\"color: #800080; text-decoration-color: #800080\"> 'grinning-unicorn'</span> - Created task run 'write_gcs-4' for task 'write_gcs'\n",
       "</pre>\n"
      ],
      "text/plain": [
       "20:32:32.659 | \u001b[36mINFO\u001b[0m    | Flow run\u001b[35m 'grinning-unicorn'\u001b[0m - Created task run 'write_gcs-4' for task 'write_gcs'\n"
      ]
     },
     "metadata": {},
     "output_type": "display_data"
    },
    {
     "data": {
      "text/html": [
       "<pre style=\"white-space:pre;overflow-x:auto;line-height:normal;font-family:Menlo,'DejaVu Sans Mono',consolas,'Courier New',monospace\">20:32:32.665 | <span style=\"color: #008080; text-decoration-color: #008080\">INFO</span>    | Flow run<span style=\"color: #800080; text-decoration-color: #800080\"> 'grinning-unicorn'</span> - Executing 'write_gcs-4' immediately...\n",
       "</pre>\n"
      ],
      "text/plain": [
       "20:32:32.665 | \u001b[36mINFO\u001b[0m    | Flow run\u001b[35m 'grinning-unicorn'\u001b[0m - Executing 'write_gcs-4' immediately...\n"
      ]
     },
     "metadata": {},
     "output_type": "display_data"
    },
    {
     "data": {
      "text/html": [
       "<pre style=\"white-space:pre;overflow-x:auto;line-height:normal;font-family:Menlo,'DejaVu Sans Mono',consolas,'Courier New',monospace\">20:33:08.829 | <span style=\"color: #008080; text-decoration-color: #008080\">INFO</span>    | Task run 'write_gcs-4' - Finished in state <span style=\"color: #008000; text-decoration-color: #008000\">Completed</span>()\n",
       "</pre>\n"
      ],
      "text/plain": [
       "20:33:08.829 | \u001b[36mINFO\u001b[0m    | Task run 'write_gcs-4' - Finished in state \u001b[32mCompleted\u001b[0m()\n"
      ]
     },
     "metadata": {},
     "output_type": "display_data"
    },
    {
     "data": {
      "text/html": [
       "<pre style=\"white-space:pre;overflow-x:auto;line-height:normal;font-family:Menlo,'DejaVu Sans Mono',consolas,'Courier New',monospace\">20:33:09.041 | <span style=\"color: #008080; text-decoration-color: #008080\">INFO</span>    | Flow run<span style=\"color: #800080; text-decoration-color: #800080\"> 'grinning-unicorn'</span> - Created task run 'write_gcs-5' for task 'write_gcs'\n",
       "</pre>\n"
      ],
      "text/plain": [
       "20:33:09.041 | \u001b[36mINFO\u001b[0m    | Flow run\u001b[35m 'grinning-unicorn'\u001b[0m - Created task run 'write_gcs-5' for task 'write_gcs'\n"
      ]
     },
     "metadata": {},
     "output_type": "display_data"
    },
    {
     "data": {
      "text/html": [
       "<pre style=\"white-space:pre;overflow-x:auto;line-height:normal;font-family:Menlo,'DejaVu Sans Mono',consolas,'Courier New',monospace\">20:33:09.052 | <span style=\"color: #008080; text-decoration-color: #008080\">INFO</span>    | Flow run<span style=\"color: #800080; text-decoration-color: #800080\"> 'grinning-unicorn'</span> - Executing 'write_gcs-5' immediately...\n",
       "</pre>\n"
      ],
      "text/plain": [
       "20:33:09.052 | \u001b[36mINFO\u001b[0m    | Flow run\u001b[35m 'grinning-unicorn'\u001b[0m - Executing 'write_gcs-5' immediately...\n"
      ]
     },
     "metadata": {},
     "output_type": "display_data"
    },
    {
     "data": {
      "text/html": [
       "<pre style=\"white-space:pre;overflow-x:auto;line-height:normal;font-family:Menlo,'DejaVu Sans Mono',consolas,'Courier New',monospace\">20:33:44.903 | <span style=\"color: #008080; text-decoration-color: #008080\">INFO</span>    | Task run 'write_gcs-5' - Finished in state <span style=\"color: #008000; text-decoration-color: #008000\">Completed</span>()\n",
       "</pre>\n"
      ],
      "text/plain": [
       "20:33:44.903 | \u001b[36mINFO\u001b[0m    | Task run 'write_gcs-5' - Finished in state \u001b[32mCompleted\u001b[0m()\n"
      ]
     },
     "metadata": {},
     "output_type": "display_data"
    },
    {
     "data": {
      "text/html": [
       "<pre style=\"white-space:pre;overflow-x:auto;line-height:normal;font-family:Menlo,'DejaVu Sans Mono',consolas,'Courier New',monospace\">20:33:45.003 | <span style=\"color: #008080; text-decoration-color: #008080\">INFO</span>    | Flow run<span style=\"color: #800080; text-decoration-color: #800080\"> 'grinning-unicorn'</span> - Created task run 'write_gcs-6' for task 'write_gcs'\n",
       "</pre>\n"
      ],
      "text/plain": [
       "20:33:45.003 | \u001b[36mINFO\u001b[0m    | Flow run\u001b[35m 'grinning-unicorn'\u001b[0m - Created task run 'write_gcs-6' for task 'write_gcs'\n"
      ]
     },
     "metadata": {},
     "output_type": "display_data"
    },
    {
     "data": {
      "text/html": [
       "<pre style=\"white-space:pre;overflow-x:auto;line-height:normal;font-family:Menlo,'DejaVu Sans Mono',consolas,'Courier New',monospace\">20:33:45.008 | <span style=\"color: #008080; text-decoration-color: #008080\">INFO</span>    | Flow run<span style=\"color: #800080; text-decoration-color: #800080\"> 'grinning-unicorn'</span> - Executing 'write_gcs-6' immediately...\n",
       "</pre>\n"
      ],
      "text/plain": [
       "20:33:45.008 | \u001b[36mINFO\u001b[0m    | Flow run\u001b[35m 'grinning-unicorn'\u001b[0m - Executing 'write_gcs-6' immediately...\n"
      ]
     },
     "metadata": {},
     "output_type": "display_data"
    },
    {
     "data": {
      "text/html": [
       "<pre style=\"white-space:pre;overflow-x:auto;line-height:normal;font-family:Menlo,'DejaVu Sans Mono',consolas,'Courier New',monospace\">20:33:59.083 | <span style=\"color: #008080; text-decoration-color: #008080\">INFO</span>    | Task run 'write_gcs-6' - Finished in state <span style=\"color: #008000; text-decoration-color: #008000\">Completed</span>()\n",
       "</pre>\n"
      ],
      "text/plain": [
       "20:33:59.083 | \u001b[36mINFO\u001b[0m    | Task run 'write_gcs-6' - Finished in state \u001b[32mCompleted\u001b[0m()\n"
      ]
     },
     "metadata": {},
     "output_type": "display_data"
    },
    {
     "data": {
      "text/html": [
       "<pre style=\"white-space:pre;overflow-x:auto;line-height:normal;font-family:Menlo,'DejaVu Sans Mono',consolas,'Courier New',monospace\">20:33:59.219 | <span style=\"color: #008080; text-decoration-color: #008080\">INFO</span>    | Flow run<span style=\"color: #800080; text-decoration-color: #800080\"> 'grinning-unicorn'</span> - Created task run 'write_gcs-7' for task 'write_gcs'\n",
       "</pre>\n"
      ],
      "text/plain": [
       "20:33:59.219 | \u001b[36mINFO\u001b[0m    | Flow run\u001b[35m 'grinning-unicorn'\u001b[0m - Created task run 'write_gcs-7' for task 'write_gcs'\n"
      ]
     },
     "metadata": {},
     "output_type": "display_data"
    },
    {
     "data": {
      "text/html": [
       "<pre style=\"white-space:pre;overflow-x:auto;line-height:normal;font-family:Menlo,'DejaVu Sans Mono',consolas,'Courier New',monospace\">20:33:59.226 | <span style=\"color: #008080; text-decoration-color: #008080\">INFO</span>    | Flow run<span style=\"color: #800080; text-decoration-color: #800080\"> 'grinning-unicorn'</span> - Executing 'write_gcs-7' immediately...\n",
       "</pre>\n"
      ],
      "text/plain": [
       "20:33:59.226 | \u001b[36mINFO\u001b[0m    | Flow run\u001b[35m 'grinning-unicorn'\u001b[0m - Executing 'write_gcs-7' immediately...\n"
      ]
     },
     "metadata": {},
     "output_type": "display_data"
    },
    {
     "data": {
      "text/html": [
       "<pre style=\"white-space:pre;overflow-x:auto;line-height:normal;font-family:Menlo,'DejaVu Sans Mono',consolas,'Courier New',monospace\">20:34:06.844 | <span style=\"color: #008080; text-decoration-color: #008080\">INFO</span>    | Task run 'write_gcs-7' - Finished in state <span style=\"color: #008000; text-decoration-color: #008000\">Completed</span>()\n",
       "</pre>\n"
      ],
      "text/plain": [
       "20:34:06.844 | \u001b[36mINFO\u001b[0m    | Task run 'write_gcs-7' - Finished in state \u001b[32mCompleted\u001b[0m()\n"
      ]
     },
     "metadata": {},
     "output_type": "display_data"
    },
    {
     "data": {
      "text/html": [
       "<pre style=\"white-space:pre;overflow-x:auto;line-height:normal;font-family:Menlo,'DejaVu Sans Mono',consolas,'Courier New',monospace\">20:34:07.036 | <span style=\"color: #008080; text-decoration-color: #008080\">INFO</span>    | Flow run<span style=\"color: #800080; text-decoration-color: #800080\"> 'grinning-unicorn'</span> - Created task run 'write_gcs-8' for task 'write_gcs'\n",
       "</pre>\n"
      ],
      "text/plain": [
       "20:34:07.036 | \u001b[36mINFO\u001b[0m    | Flow run\u001b[35m 'grinning-unicorn'\u001b[0m - Created task run 'write_gcs-8' for task 'write_gcs'\n"
      ]
     },
     "metadata": {},
     "output_type": "display_data"
    },
    {
     "data": {
      "text/html": [
       "<pre style=\"white-space:pre;overflow-x:auto;line-height:normal;font-family:Menlo,'DejaVu Sans Mono',consolas,'Courier New',monospace\">20:34:07.042 | <span style=\"color: #008080; text-decoration-color: #008080\">INFO</span>    | Flow run<span style=\"color: #800080; text-decoration-color: #800080\"> 'grinning-unicorn'</span> - Executing 'write_gcs-8' immediately...\n",
       "</pre>\n"
      ],
      "text/plain": [
       "20:34:07.042 | \u001b[36mINFO\u001b[0m    | Flow run\u001b[35m 'grinning-unicorn'\u001b[0m - Executing 'write_gcs-8' immediately...\n"
      ]
     },
     "metadata": {},
     "output_type": "display_data"
    },
    {
     "data": {
      "text/html": [
       "<pre style=\"white-space:pre;overflow-x:auto;line-height:normal;font-family:Menlo,'DejaVu Sans Mono',consolas,'Courier New',monospace\">20:34:14.667 | <span style=\"color: #008080; text-decoration-color: #008080\">INFO</span>    | Task run 'write_gcs-8' - Finished in state <span style=\"color: #008000; text-decoration-color: #008000\">Completed</span>()\n",
       "</pre>\n"
      ],
      "text/plain": [
       "20:34:14.667 | \u001b[36mINFO\u001b[0m    | Task run 'write_gcs-8' - Finished in state \u001b[32mCompleted\u001b[0m()\n"
      ]
     },
     "metadata": {},
     "output_type": "display_data"
    },
    {
     "data": {
      "text/html": [
       "<pre style=\"white-space:pre;overflow-x:auto;line-height:normal;font-family:Menlo,'DejaVu Sans Mono',consolas,'Courier New',monospace\">20:34:14.829 | <span style=\"color: #008080; text-decoration-color: #008080\">INFO</span>    | Flow run<span style=\"color: #800080; text-decoration-color: #800080\"> 'grinning-unicorn'</span> - Created task run 'write_gcs-9' for task 'write_gcs'\n",
       "</pre>\n"
      ],
      "text/plain": [
       "20:34:14.829 | \u001b[36mINFO\u001b[0m    | Flow run\u001b[35m 'grinning-unicorn'\u001b[0m - Created task run 'write_gcs-9' for task 'write_gcs'\n"
      ]
     },
     "metadata": {},
     "output_type": "display_data"
    },
    {
     "data": {
      "text/html": [
       "<pre style=\"white-space:pre;overflow-x:auto;line-height:normal;font-family:Menlo,'DejaVu Sans Mono',consolas,'Courier New',monospace\">20:34:14.833 | <span style=\"color: #008080; text-decoration-color: #008080\">INFO</span>    | Flow run<span style=\"color: #800080; text-decoration-color: #800080\"> 'grinning-unicorn'</span> - Executing 'write_gcs-9' immediately...\n",
       "</pre>\n"
      ],
      "text/plain": [
       "20:34:14.833 | \u001b[36mINFO\u001b[0m    | Flow run\u001b[35m 'grinning-unicorn'\u001b[0m - Executing 'write_gcs-9' immediately...\n"
      ]
     },
     "metadata": {},
     "output_type": "display_data"
    },
    {
     "data": {
      "text/html": [
       "<pre style=\"white-space:pre;overflow-x:auto;line-height:normal;font-family:Menlo,'DejaVu Sans Mono',consolas,'Courier New',monospace\">20:34:22.703 | <span style=\"color: #008080; text-decoration-color: #008080\">INFO</span>    | Task run 'write_gcs-9' - Finished in state <span style=\"color: #008000; text-decoration-color: #008000\">Completed</span>()\n",
       "</pre>\n"
      ],
      "text/plain": [
       "20:34:22.703 | \u001b[36mINFO\u001b[0m    | Task run 'write_gcs-9' - Finished in state \u001b[32mCompleted\u001b[0m()\n"
      ]
     },
     "metadata": {},
     "output_type": "display_data"
    },
    {
     "data": {
      "text/html": [
       "<pre style=\"white-space:pre;overflow-x:auto;line-height:normal;font-family:Menlo,'DejaVu Sans Mono',consolas,'Courier New',monospace\">20:34:22.800 | <span style=\"color: #008080; text-decoration-color: #008080\">INFO</span>    | Flow run<span style=\"color: #800080; text-decoration-color: #800080\"> 'grinning-unicorn'</span> - Created task run 'write_gcs-10' for task 'write_gcs'\n",
       "</pre>\n"
      ],
      "text/plain": [
       "20:34:22.800 | \u001b[36mINFO\u001b[0m    | Flow run\u001b[35m 'grinning-unicorn'\u001b[0m - Created task run 'write_gcs-10' for task 'write_gcs'\n"
      ]
     },
     "metadata": {},
     "output_type": "display_data"
    },
    {
     "data": {
      "text/html": [
       "<pre style=\"white-space:pre;overflow-x:auto;line-height:normal;font-family:Menlo,'DejaVu Sans Mono',consolas,'Courier New',monospace\">20:34:22.804 | <span style=\"color: #008080; text-decoration-color: #008080\">INFO</span>    | Flow run<span style=\"color: #800080; text-decoration-color: #800080\"> 'grinning-unicorn'</span> - Executing 'write_gcs-10' immediately...\n",
       "</pre>\n"
      ],
      "text/plain": [
       "20:34:22.804 | \u001b[36mINFO\u001b[0m    | Flow run\u001b[35m 'grinning-unicorn'\u001b[0m - Executing 'write_gcs-10' immediately...\n"
      ]
     },
     "metadata": {},
     "output_type": "display_data"
    },
    {
     "data": {
      "text/html": [
       "<pre style=\"white-space:pre;overflow-x:auto;line-height:normal;font-family:Menlo,'DejaVu Sans Mono',consolas,'Courier New',monospace\">20:34:32.162 | <span style=\"color: #008080; text-decoration-color: #008080\">INFO</span>    | Task run 'write_gcs-10' - Finished in state <span style=\"color: #008000; text-decoration-color: #008000\">Completed</span>()\n",
       "</pre>\n"
      ],
      "text/plain": [
       "20:34:32.162 | \u001b[36mINFO\u001b[0m    | Task run 'write_gcs-10' - Finished in state \u001b[32mCompleted\u001b[0m()\n"
      ]
     },
     "metadata": {},
     "output_type": "display_data"
    },
    {
     "data": {
      "text/html": [
       "<pre style=\"white-space:pre;overflow-x:auto;line-height:normal;font-family:Menlo,'DejaVu Sans Mono',consolas,'Courier New',monospace\">20:34:32.363 | <span style=\"color: #008080; text-decoration-color: #008080\">INFO</span>    | Flow run<span style=\"color: #800080; text-decoration-color: #800080\"> 'grinning-unicorn'</span> - Created task run 'write_gcs-11' for task 'write_gcs'\n",
       "</pre>\n"
      ],
      "text/plain": [
       "20:34:32.363 | \u001b[36mINFO\u001b[0m    | Flow run\u001b[35m 'grinning-unicorn'\u001b[0m - Created task run 'write_gcs-11' for task 'write_gcs'\n"
      ]
     },
     "metadata": {},
     "output_type": "display_data"
    },
    {
     "data": {
      "text/html": [
       "<pre style=\"white-space:pre;overflow-x:auto;line-height:normal;font-family:Menlo,'DejaVu Sans Mono',consolas,'Courier New',monospace\">20:34:32.373 | <span style=\"color: #008080; text-decoration-color: #008080\">INFO</span>    | Flow run<span style=\"color: #800080; text-decoration-color: #800080\"> 'grinning-unicorn'</span> - Executing 'write_gcs-11' immediately...\n",
       "</pre>\n"
      ],
      "text/plain": [
       "20:34:32.373 | \u001b[36mINFO\u001b[0m    | Flow run\u001b[35m 'grinning-unicorn'\u001b[0m - Executing 'write_gcs-11' immediately...\n"
      ]
     },
     "metadata": {},
     "output_type": "display_data"
    },
    {
     "data": {
      "text/html": [
       "<pre style=\"white-space:pre;overflow-x:auto;line-height:normal;font-family:Menlo,'DejaVu Sans Mono',consolas,'Courier New',monospace\">20:34:41.152 | <span style=\"color: #008080; text-decoration-color: #008080\">INFO</span>    | Task run 'write_gcs-11' - Finished in state <span style=\"color: #008000; text-decoration-color: #008000\">Completed</span>()\n",
       "</pre>\n"
      ],
      "text/plain": [
       "20:34:41.152 | \u001b[36mINFO\u001b[0m    | Task run 'write_gcs-11' - Finished in state \u001b[32mCompleted\u001b[0m()\n"
      ]
     },
     "metadata": {},
     "output_type": "display_data"
    },
    {
     "data": {
      "text/html": [
       "<pre style=\"white-space:pre;overflow-x:auto;line-height:normal;font-family:Menlo,'DejaVu Sans Mono',consolas,'Courier New',monospace\">20:34:41.270 | <span style=\"color: #008080; text-decoration-color: #008080\">INFO</span>    | Flow run<span style=\"color: #800080; text-decoration-color: #800080\"> 'grinning-unicorn'</span> - Finished in state <span style=\"color: #008000; text-decoration-color: #008000\">Completed</span>('All states completed.')\n",
       "</pre>\n"
      ],
      "text/plain": [
       "20:34:41.270 | \u001b[36mINFO\u001b[0m    | Flow run\u001b[35m 'grinning-unicorn'\u001b[0m - Finished in state \u001b[32mCompleted\u001b[0m('All states completed.')\n"
      ]
     },
     "metadata": {},
     "output_type": "display_data"
    },
    {
     "data": {
      "text/plain": [
       "[Completed(message=None, type=COMPLETED, result=UnpersistedResult(type='unpersisted', artifact_type='result', artifact_description='Unpersisted result of type `list`')),\n",
       " Completed(message=None, type=COMPLETED, result=UnpersistedResult(type='unpersisted', artifact_type='result', artifact_description='Unpersisted result of type `NoneType`')),\n",
       " Completed(message=None, type=COMPLETED, result=UnpersistedResult(type='unpersisted', artifact_type='result', artifact_description='Unpersisted result of type `NoneType`')),\n",
       " Completed(message=None, type=COMPLETED, result=UnpersistedResult(type='unpersisted', artifact_type='result', artifact_description='Unpersisted result of type `NoneType`')),\n",
       " Completed(message=None, type=COMPLETED, result=UnpersistedResult(type='unpersisted', artifact_type='result', artifact_description='Unpersisted result of type `NoneType`')),\n",
       " Completed(message=None, type=COMPLETED, result=UnpersistedResult(type='unpersisted', artifact_type='result', artifact_description='Unpersisted result of type `NoneType`')),\n",
       " Completed(message=None, type=COMPLETED, result=UnpersistedResult(type='unpersisted', artifact_type='result', artifact_description='Unpersisted result of type `NoneType`')),\n",
       " Completed(message=None, type=COMPLETED, result=UnpersistedResult(type='unpersisted', artifact_type='result', artifact_description='Unpersisted result of type `NoneType`')),\n",
       " Completed(message=None, type=COMPLETED, result=UnpersistedResult(type='unpersisted', artifact_type='result', artifact_description='Unpersisted result of type `NoneType`')),\n",
       " Completed(message=None, type=COMPLETED, result=UnpersistedResult(type='unpersisted', artifact_type='result', artifact_description='Unpersisted result of type `NoneType`')),\n",
       " Completed(message=None, type=COMPLETED, result=UnpersistedResult(type='unpersisted', artifact_type='result', artifact_description='Unpersisted result of type `NoneType`')),\n",
       " Completed(message=None, type=COMPLETED, result=UnpersistedResult(type='unpersisted', artifact_type='result', artifact_description='Unpersisted result of type `NoneType`')),\n",
       " Completed(message=None, type=COMPLETED, result=UnpersistedResult(type='unpersisted', artifact_type='result', artifact_description='Unpersisted result of type `NoneType`'))]"
      ]
     },
     "execution_count": 5,
     "metadata": {},
     "output_type": "execute_result"
    }
   ],
   "source": [
    "# if __name__ == '__main__':\n",
    "noaa_to_gcs()\n"
   ]
  },
  {
   "cell_type": "code",
   "execution_count": null,
   "metadata": {},
   "outputs": [],
   "source": []
  }
 ],
 "metadata": {
  "kernelspec": {
   "display_name": "de_project",
   "language": "python",
   "name": "python3"
  },
  "language_info": {
   "codemirror_mode": {
    "name": "ipython",
    "version": 3
   },
   "file_extension": ".py",
   "mimetype": "text/x-python",
   "name": "python",
   "nbconvert_exporter": "python",
   "pygments_lexer": "ipython3",
   "version": "3.11.2"
  },
  "orig_nbformat": 4
 },
 "nbformat": 4,
 "nbformat_minor": 2
}
